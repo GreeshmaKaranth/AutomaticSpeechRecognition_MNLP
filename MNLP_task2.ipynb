{
  "nbformat": 4,
  "nbformat_minor": 0,
  "metadata": {
    "colab": {
      "provenance": [],
      "gpuType": "T4",
      "toc_visible": true
    },
    "kernelspec": {
      "name": "python3",
      "display_name": "Python 3"
    },
    "language_info": {
      "name": "python"
    },
    "widgets": {
      "application/vnd.jupyter.widget-state+json": {
        "981d89ee7667455cbc1d2b8e6f01f574": {
          "model_module": "@jupyter-widgets/controls",
          "model_name": "VBoxModel",
          "model_module_version": "1.5.0",
          "state": {
            "_dom_classes": [],
            "_model_module": "@jupyter-widgets/controls",
            "_model_module_version": "1.5.0",
            "_model_name": "VBoxModel",
            "_view_count": null,
            "_view_module": "@jupyter-widgets/controls",
            "_view_module_version": "1.5.0",
            "_view_name": "VBoxView",
            "box_style": "",
            "children": [
              "IPY_MODEL_29f2b674ccba459fad45c6fc9a3f2daa",
              "IPY_MODEL_9fcd93556fc240c598e5464b59046ea2",
              "IPY_MODEL_beb70f18c193415ba6ea89c936df8adb",
              "IPY_MODEL_0604676493fd495ea4a2c0d22b0debad"
            ],
            "layout": "IPY_MODEL_f4c98c27fe864ca8b8ef80e95ef90713"
          }
        },
        "8dbbc744c79e4c53b7b7f39f8880ef0f": {
          "model_module": "@jupyter-widgets/controls",
          "model_name": "HTMLModel",
          "model_module_version": "1.5.0",
          "state": {
            "_dom_classes": [],
            "_model_module": "@jupyter-widgets/controls",
            "_model_module_version": "1.5.0",
            "_model_name": "HTMLModel",
            "_view_count": null,
            "_view_module": "@jupyter-widgets/controls",
            "_view_module_version": "1.5.0",
            "_view_name": "HTMLView",
            "description": "",
            "description_tooltip": null,
            "layout": "IPY_MODEL_b876794d9ca140039fcac70795b7c738",
            "placeholder": "​",
            "style": "IPY_MODEL_d5470588c14d4e94b26cd988d889f361",
            "value": "<center> <img\nsrc=https://huggingface.co/front/assets/huggingface_logo-noborder.svg\nalt='Hugging Face'> <br> Copy a token from <a\nhref=\"https://huggingface.co/settings/tokens\" target=\"_blank\">your Hugging Face\ntokens page</a> and paste it below. <br> Immediately click login after copying\nyour token or it might be stored in plain text in this notebook file. </center>"
          }
        },
        "5f1aa5488a4b4a72a870676be3042d0a": {
          "model_module": "@jupyter-widgets/controls",
          "model_name": "PasswordModel",
          "model_module_version": "1.5.0",
          "state": {
            "_dom_classes": [],
            "_model_module": "@jupyter-widgets/controls",
            "_model_module_version": "1.5.0",
            "_model_name": "PasswordModel",
            "_view_count": null,
            "_view_module": "@jupyter-widgets/controls",
            "_view_module_version": "1.5.0",
            "_view_name": "PasswordView",
            "continuous_update": true,
            "description": "Token:",
            "description_tooltip": null,
            "disabled": false,
            "layout": "IPY_MODEL_db36506f7daa4db08f651691b179cbde",
            "placeholder": "​",
            "style": "IPY_MODEL_e7e2f644d1074ec3af788751663df74f",
            "value": ""
          }
        },
        "93b0aee244e94d52a49a5f00c8a88383": {
          "model_module": "@jupyter-widgets/controls",
          "model_name": "CheckboxModel",
          "model_module_version": "1.5.0",
          "state": {
            "_dom_classes": [],
            "_model_module": "@jupyter-widgets/controls",
            "_model_module_version": "1.5.0",
            "_model_name": "CheckboxModel",
            "_view_count": null,
            "_view_module": "@jupyter-widgets/controls",
            "_view_module_version": "1.5.0",
            "_view_name": "CheckboxView",
            "description": "Add token as git credential?",
            "description_tooltip": null,
            "disabled": false,
            "indent": true,
            "layout": "IPY_MODEL_b228c62455df49e6af5ae7a7d4eb79f0",
            "style": "IPY_MODEL_0374c825c81241f29d09852e330715df",
            "value": true
          }
        },
        "ec219c30ef9845cd84186ea9067ea2fb": {
          "model_module": "@jupyter-widgets/controls",
          "model_name": "ButtonModel",
          "model_module_version": "1.5.0",
          "state": {
            "_dom_classes": [],
            "_model_module": "@jupyter-widgets/controls",
            "_model_module_version": "1.5.0",
            "_model_name": "ButtonModel",
            "_view_count": null,
            "_view_module": "@jupyter-widgets/controls",
            "_view_module_version": "1.5.0",
            "_view_name": "ButtonView",
            "button_style": "",
            "description": "Login",
            "disabled": false,
            "icon": "",
            "layout": "IPY_MODEL_f41be2feec1c4d1b9e76876e6361c72f",
            "style": "IPY_MODEL_32123de74ce745e3b0ed359e5f12c663",
            "tooltip": ""
          }
        },
        "ee262966bb0341e8abe9df827b94c864": {
          "model_module": "@jupyter-widgets/controls",
          "model_name": "HTMLModel",
          "model_module_version": "1.5.0",
          "state": {
            "_dom_classes": [],
            "_model_module": "@jupyter-widgets/controls",
            "_model_module_version": "1.5.0",
            "_model_name": "HTMLModel",
            "_view_count": null,
            "_view_module": "@jupyter-widgets/controls",
            "_view_module_version": "1.5.0",
            "_view_name": "HTMLView",
            "description": "",
            "description_tooltip": null,
            "layout": "IPY_MODEL_d551a288828747c5bc75cd49b8a39abc",
            "placeholder": "​",
            "style": "IPY_MODEL_6a09e7f9f5b646f4a979485831fc31e5",
            "value": "\n<b>Pro Tip:</b> If you don't already have one, you can create a dedicated\n'notebooks' token with 'write' access, that you can then easily reuse for all\nnotebooks. </center>"
          }
        },
        "f4c98c27fe864ca8b8ef80e95ef90713": {
          "model_module": "@jupyter-widgets/base",
          "model_name": "LayoutModel",
          "model_module_version": "1.2.0",
          "state": {
            "_model_module": "@jupyter-widgets/base",
            "_model_module_version": "1.2.0",
            "_model_name": "LayoutModel",
            "_view_count": null,
            "_view_module": "@jupyter-widgets/base",
            "_view_module_version": "1.2.0",
            "_view_name": "LayoutView",
            "align_content": null,
            "align_items": "center",
            "align_self": null,
            "border": null,
            "bottom": null,
            "display": "flex",
            "flex": null,
            "flex_flow": "column",
            "grid_area": null,
            "grid_auto_columns": null,
            "grid_auto_flow": null,
            "grid_auto_rows": null,
            "grid_column": null,
            "grid_gap": null,
            "grid_row": null,
            "grid_template_areas": null,
            "grid_template_columns": null,
            "grid_template_rows": null,
            "height": null,
            "justify_content": null,
            "justify_items": null,
            "left": null,
            "margin": null,
            "max_height": null,
            "max_width": null,
            "min_height": null,
            "min_width": null,
            "object_fit": null,
            "object_position": null,
            "order": null,
            "overflow": null,
            "overflow_x": null,
            "overflow_y": null,
            "padding": null,
            "right": null,
            "top": null,
            "visibility": null,
            "width": "50%"
          }
        },
        "b876794d9ca140039fcac70795b7c738": {
          "model_module": "@jupyter-widgets/base",
          "model_name": "LayoutModel",
          "model_module_version": "1.2.0",
          "state": {
            "_model_module": "@jupyter-widgets/base",
            "_model_module_version": "1.2.0",
            "_model_name": "LayoutModel",
            "_view_count": null,
            "_view_module": "@jupyter-widgets/base",
            "_view_module_version": "1.2.0",
            "_view_name": "LayoutView",
            "align_content": null,
            "align_items": null,
            "align_self": null,
            "border": null,
            "bottom": null,
            "display": null,
            "flex": null,
            "flex_flow": null,
            "grid_area": null,
            "grid_auto_columns": null,
            "grid_auto_flow": null,
            "grid_auto_rows": null,
            "grid_column": null,
            "grid_gap": null,
            "grid_row": null,
            "grid_template_areas": null,
            "grid_template_columns": null,
            "grid_template_rows": null,
            "height": null,
            "justify_content": null,
            "justify_items": null,
            "left": null,
            "margin": null,
            "max_height": null,
            "max_width": null,
            "min_height": null,
            "min_width": null,
            "object_fit": null,
            "object_position": null,
            "order": null,
            "overflow": null,
            "overflow_x": null,
            "overflow_y": null,
            "padding": null,
            "right": null,
            "top": null,
            "visibility": null,
            "width": null
          }
        },
        "d5470588c14d4e94b26cd988d889f361": {
          "model_module": "@jupyter-widgets/controls",
          "model_name": "DescriptionStyleModel",
          "model_module_version": "1.5.0",
          "state": {
            "_model_module": "@jupyter-widgets/controls",
            "_model_module_version": "1.5.0",
            "_model_name": "DescriptionStyleModel",
            "_view_count": null,
            "_view_module": "@jupyter-widgets/base",
            "_view_module_version": "1.2.0",
            "_view_name": "StyleView",
            "description_width": ""
          }
        },
        "db36506f7daa4db08f651691b179cbde": {
          "model_module": "@jupyter-widgets/base",
          "model_name": "LayoutModel",
          "model_module_version": "1.2.0",
          "state": {
            "_model_module": "@jupyter-widgets/base",
            "_model_module_version": "1.2.0",
            "_model_name": "LayoutModel",
            "_view_count": null,
            "_view_module": "@jupyter-widgets/base",
            "_view_module_version": "1.2.0",
            "_view_name": "LayoutView",
            "align_content": null,
            "align_items": null,
            "align_self": null,
            "border": null,
            "bottom": null,
            "display": null,
            "flex": null,
            "flex_flow": null,
            "grid_area": null,
            "grid_auto_columns": null,
            "grid_auto_flow": null,
            "grid_auto_rows": null,
            "grid_column": null,
            "grid_gap": null,
            "grid_row": null,
            "grid_template_areas": null,
            "grid_template_columns": null,
            "grid_template_rows": null,
            "height": null,
            "justify_content": null,
            "justify_items": null,
            "left": null,
            "margin": null,
            "max_height": null,
            "max_width": null,
            "min_height": null,
            "min_width": null,
            "object_fit": null,
            "object_position": null,
            "order": null,
            "overflow": null,
            "overflow_x": null,
            "overflow_y": null,
            "padding": null,
            "right": null,
            "top": null,
            "visibility": null,
            "width": null
          }
        },
        "e7e2f644d1074ec3af788751663df74f": {
          "model_module": "@jupyter-widgets/controls",
          "model_name": "DescriptionStyleModel",
          "model_module_version": "1.5.0",
          "state": {
            "_model_module": "@jupyter-widgets/controls",
            "_model_module_version": "1.5.0",
            "_model_name": "DescriptionStyleModel",
            "_view_count": null,
            "_view_module": "@jupyter-widgets/base",
            "_view_module_version": "1.2.0",
            "_view_name": "StyleView",
            "description_width": ""
          }
        },
        "b228c62455df49e6af5ae7a7d4eb79f0": {
          "model_module": "@jupyter-widgets/base",
          "model_name": "LayoutModel",
          "model_module_version": "1.2.0",
          "state": {
            "_model_module": "@jupyter-widgets/base",
            "_model_module_version": "1.2.0",
            "_model_name": "LayoutModel",
            "_view_count": null,
            "_view_module": "@jupyter-widgets/base",
            "_view_module_version": "1.2.0",
            "_view_name": "LayoutView",
            "align_content": null,
            "align_items": null,
            "align_self": null,
            "border": null,
            "bottom": null,
            "display": null,
            "flex": null,
            "flex_flow": null,
            "grid_area": null,
            "grid_auto_columns": null,
            "grid_auto_flow": null,
            "grid_auto_rows": null,
            "grid_column": null,
            "grid_gap": null,
            "grid_row": null,
            "grid_template_areas": null,
            "grid_template_columns": null,
            "grid_template_rows": null,
            "height": null,
            "justify_content": null,
            "justify_items": null,
            "left": null,
            "margin": null,
            "max_height": null,
            "max_width": null,
            "min_height": null,
            "min_width": null,
            "object_fit": null,
            "object_position": null,
            "order": null,
            "overflow": null,
            "overflow_x": null,
            "overflow_y": null,
            "padding": null,
            "right": null,
            "top": null,
            "visibility": null,
            "width": null
          }
        },
        "0374c825c81241f29d09852e330715df": {
          "model_module": "@jupyter-widgets/controls",
          "model_name": "DescriptionStyleModel",
          "model_module_version": "1.5.0",
          "state": {
            "_model_module": "@jupyter-widgets/controls",
            "_model_module_version": "1.5.0",
            "_model_name": "DescriptionStyleModel",
            "_view_count": null,
            "_view_module": "@jupyter-widgets/base",
            "_view_module_version": "1.2.0",
            "_view_name": "StyleView",
            "description_width": ""
          }
        },
        "f41be2feec1c4d1b9e76876e6361c72f": {
          "model_module": "@jupyter-widgets/base",
          "model_name": "LayoutModel",
          "model_module_version": "1.2.0",
          "state": {
            "_model_module": "@jupyter-widgets/base",
            "_model_module_version": "1.2.0",
            "_model_name": "LayoutModel",
            "_view_count": null,
            "_view_module": "@jupyter-widgets/base",
            "_view_module_version": "1.2.0",
            "_view_name": "LayoutView",
            "align_content": null,
            "align_items": null,
            "align_self": null,
            "border": null,
            "bottom": null,
            "display": null,
            "flex": null,
            "flex_flow": null,
            "grid_area": null,
            "grid_auto_columns": null,
            "grid_auto_flow": null,
            "grid_auto_rows": null,
            "grid_column": null,
            "grid_gap": null,
            "grid_row": null,
            "grid_template_areas": null,
            "grid_template_columns": null,
            "grid_template_rows": null,
            "height": null,
            "justify_content": null,
            "justify_items": null,
            "left": null,
            "margin": null,
            "max_height": null,
            "max_width": null,
            "min_height": null,
            "min_width": null,
            "object_fit": null,
            "object_position": null,
            "order": null,
            "overflow": null,
            "overflow_x": null,
            "overflow_y": null,
            "padding": null,
            "right": null,
            "top": null,
            "visibility": null,
            "width": null
          }
        },
        "32123de74ce745e3b0ed359e5f12c663": {
          "model_module": "@jupyter-widgets/controls",
          "model_name": "ButtonStyleModel",
          "model_module_version": "1.5.0",
          "state": {
            "_model_module": "@jupyter-widgets/controls",
            "_model_module_version": "1.5.0",
            "_model_name": "ButtonStyleModel",
            "_view_count": null,
            "_view_module": "@jupyter-widgets/base",
            "_view_module_version": "1.2.0",
            "_view_name": "StyleView",
            "button_color": null,
            "font_weight": ""
          }
        },
        "d551a288828747c5bc75cd49b8a39abc": {
          "model_module": "@jupyter-widgets/base",
          "model_name": "LayoutModel",
          "model_module_version": "1.2.0",
          "state": {
            "_model_module": "@jupyter-widgets/base",
            "_model_module_version": "1.2.0",
            "_model_name": "LayoutModel",
            "_view_count": null,
            "_view_module": "@jupyter-widgets/base",
            "_view_module_version": "1.2.0",
            "_view_name": "LayoutView",
            "align_content": null,
            "align_items": null,
            "align_self": null,
            "border": null,
            "bottom": null,
            "display": null,
            "flex": null,
            "flex_flow": null,
            "grid_area": null,
            "grid_auto_columns": null,
            "grid_auto_flow": null,
            "grid_auto_rows": null,
            "grid_column": null,
            "grid_gap": null,
            "grid_row": null,
            "grid_template_areas": null,
            "grid_template_columns": null,
            "grid_template_rows": null,
            "height": null,
            "justify_content": null,
            "justify_items": null,
            "left": null,
            "margin": null,
            "max_height": null,
            "max_width": null,
            "min_height": null,
            "min_width": null,
            "object_fit": null,
            "object_position": null,
            "order": null,
            "overflow": null,
            "overflow_x": null,
            "overflow_y": null,
            "padding": null,
            "right": null,
            "top": null,
            "visibility": null,
            "width": null
          }
        },
        "6a09e7f9f5b646f4a979485831fc31e5": {
          "model_module": "@jupyter-widgets/controls",
          "model_name": "DescriptionStyleModel",
          "model_module_version": "1.5.0",
          "state": {
            "_model_module": "@jupyter-widgets/controls",
            "_model_module_version": "1.5.0",
            "_model_name": "DescriptionStyleModel",
            "_view_count": null,
            "_view_module": "@jupyter-widgets/base",
            "_view_module_version": "1.2.0",
            "_view_name": "StyleView",
            "description_width": ""
          }
        },
        "b5adf499c1534040bc3bc2978187f3c4": {
          "model_module": "@jupyter-widgets/controls",
          "model_name": "LabelModel",
          "model_module_version": "1.5.0",
          "state": {
            "_dom_classes": [],
            "_model_module": "@jupyter-widgets/controls",
            "_model_module_version": "1.5.0",
            "_model_name": "LabelModel",
            "_view_count": null,
            "_view_module": "@jupyter-widgets/controls",
            "_view_module_version": "1.5.0",
            "_view_name": "LabelView",
            "description": "",
            "description_tooltip": null,
            "layout": "IPY_MODEL_2eea17a40600450f9bfca03f291f71d5",
            "placeholder": "​",
            "style": "IPY_MODEL_ca272f93678d4d0581fa577d7b0cfaa5",
            "value": "Connecting..."
          }
        },
        "2eea17a40600450f9bfca03f291f71d5": {
          "model_module": "@jupyter-widgets/base",
          "model_name": "LayoutModel",
          "model_module_version": "1.2.0",
          "state": {
            "_model_module": "@jupyter-widgets/base",
            "_model_module_version": "1.2.0",
            "_model_name": "LayoutModel",
            "_view_count": null,
            "_view_module": "@jupyter-widgets/base",
            "_view_module_version": "1.2.0",
            "_view_name": "LayoutView",
            "align_content": null,
            "align_items": null,
            "align_self": null,
            "border": null,
            "bottom": null,
            "display": null,
            "flex": null,
            "flex_flow": null,
            "grid_area": null,
            "grid_auto_columns": null,
            "grid_auto_flow": null,
            "grid_auto_rows": null,
            "grid_column": null,
            "grid_gap": null,
            "grid_row": null,
            "grid_template_areas": null,
            "grid_template_columns": null,
            "grid_template_rows": null,
            "height": null,
            "justify_content": null,
            "justify_items": null,
            "left": null,
            "margin": null,
            "max_height": null,
            "max_width": null,
            "min_height": null,
            "min_width": null,
            "object_fit": null,
            "object_position": null,
            "order": null,
            "overflow": null,
            "overflow_x": null,
            "overflow_y": null,
            "padding": null,
            "right": null,
            "top": null,
            "visibility": null,
            "width": null
          }
        },
        "ca272f93678d4d0581fa577d7b0cfaa5": {
          "model_module": "@jupyter-widgets/controls",
          "model_name": "DescriptionStyleModel",
          "model_module_version": "1.5.0",
          "state": {
            "_model_module": "@jupyter-widgets/controls",
            "_model_module_version": "1.5.0",
            "_model_name": "DescriptionStyleModel",
            "_view_count": null,
            "_view_module": "@jupyter-widgets/base",
            "_view_module_version": "1.2.0",
            "_view_name": "StyleView",
            "description_width": ""
          }
        },
        "29f2b674ccba459fad45c6fc9a3f2daa": {
          "model_module": "@jupyter-widgets/controls",
          "model_name": "LabelModel",
          "model_module_version": "1.5.0",
          "state": {
            "_dom_classes": [],
            "_model_module": "@jupyter-widgets/controls",
            "_model_module_version": "1.5.0",
            "_model_name": "LabelModel",
            "_view_count": null,
            "_view_module": "@jupyter-widgets/controls",
            "_view_module_version": "1.5.0",
            "_view_name": "LabelView",
            "description": "",
            "description_tooltip": null,
            "layout": "IPY_MODEL_47cb81a5e2084277bd4f60b9d1835a81",
            "placeholder": "​",
            "style": "IPY_MODEL_067a91013b9e414bbeedfbce8fa7acf8",
            "value": "Token is valid (permission: write)."
          }
        },
        "9fcd93556fc240c598e5464b59046ea2": {
          "model_module": "@jupyter-widgets/controls",
          "model_name": "LabelModel",
          "model_module_version": "1.5.0",
          "state": {
            "_dom_classes": [],
            "_model_module": "@jupyter-widgets/controls",
            "_model_module_version": "1.5.0",
            "_model_name": "LabelModel",
            "_view_count": null,
            "_view_module": "@jupyter-widgets/controls",
            "_view_module_version": "1.5.0",
            "_view_name": "LabelView",
            "description": "",
            "description_tooltip": null,
            "layout": "IPY_MODEL_e4ce669f3e9c4426a87fdf004fb2cbf9",
            "placeholder": "​",
            "style": "IPY_MODEL_67df53f4550f47a1998229b32a855b53",
            "value": "Your token has been saved in your configured git credential helpers (store)."
          }
        },
        "beb70f18c193415ba6ea89c936df8adb": {
          "model_module": "@jupyter-widgets/controls",
          "model_name": "LabelModel",
          "model_module_version": "1.5.0",
          "state": {
            "_dom_classes": [],
            "_model_module": "@jupyter-widgets/controls",
            "_model_module_version": "1.5.0",
            "_model_name": "LabelModel",
            "_view_count": null,
            "_view_module": "@jupyter-widgets/controls",
            "_view_module_version": "1.5.0",
            "_view_name": "LabelView",
            "description": "",
            "description_tooltip": null,
            "layout": "IPY_MODEL_6e4597a929e5482e97ea0e61457f515d",
            "placeholder": "​",
            "style": "IPY_MODEL_89b160aee7a6447d8f8d1c1a131921c6",
            "value": "Your token has been saved to /root/.cache/huggingface/token"
          }
        },
        "0604676493fd495ea4a2c0d22b0debad": {
          "model_module": "@jupyter-widgets/controls",
          "model_name": "LabelModel",
          "model_module_version": "1.5.0",
          "state": {
            "_dom_classes": [],
            "_model_module": "@jupyter-widgets/controls",
            "_model_module_version": "1.5.0",
            "_model_name": "LabelModel",
            "_view_count": null,
            "_view_module": "@jupyter-widgets/controls",
            "_view_module_version": "1.5.0",
            "_view_name": "LabelView",
            "description": "",
            "description_tooltip": null,
            "layout": "IPY_MODEL_e7e1e84a20bc4dae94ce6bc142af3f3e",
            "placeholder": "​",
            "style": "IPY_MODEL_899063bdd654468f9c14c50f3f517d23",
            "value": "Login successful"
          }
        },
        "47cb81a5e2084277bd4f60b9d1835a81": {
          "model_module": "@jupyter-widgets/base",
          "model_name": "LayoutModel",
          "model_module_version": "1.2.0",
          "state": {
            "_model_module": "@jupyter-widgets/base",
            "_model_module_version": "1.2.0",
            "_model_name": "LayoutModel",
            "_view_count": null,
            "_view_module": "@jupyter-widgets/base",
            "_view_module_version": "1.2.0",
            "_view_name": "LayoutView",
            "align_content": null,
            "align_items": null,
            "align_self": null,
            "border": null,
            "bottom": null,
            "display": null,
            "flex": null,
            "flex_flow": null,
            "grid_area": null,
            "grid_auto_columns": null,
            "grid_auto_flow": null,
            "grid_auto_rows": null,
            "grid_column": null,
            "grid_gap": null,
            "grid_row": null,
            "grid_template_areas": null,
            "grid_template_columns": null,
            "grid_template_rows": null,
            "height": null,
            "justify_content": null,
            "justify_items": null,
            "left": null,
            "margin": null,
            "max_height": null,
            "max_width": null,
            "min_height": null,
            "min_width": null,
            "object_fit": null,
            "object_position": null,
            "order": null,
            "overflow": null,
            "overflow_x": null,
            "overflow_y": null,
            "padding": null,
            "right": null,
            "top": null,
            "visibility": null,
            "width": null
          }
        },
        "067a91013b9e414bbeedfbce8fa7acf8": {
          "model_module": "@jupyter-widgets/controls",
          "model_name": "DescriptionStyleModel",
          "model_module_version": "1.5.0",
          "state": {
            "_model_module": "@jupyter-widgets/controls",
            "_model_module_version": "1.5.0",
            "_model_name": "DescriptionStyleModel",
            "_view_count": null,
            "_view_module": "@jupyter-widgets/base",
            "_view_module_version": "1.2.0",
            "_view_name": "StyleView",
            "description_width": ""
          }
        },
        "e4ce669f3e9c4426a87fdf004fb2cbf9": {
          "model_module": "@jupyter-widgets/base",
          "model_name": "LayoutModel",
          "model_module_version": "1.2.0",
          "state": {
            "_model_module": "@jupyter-widgets/base",
            "_model_module_version": "1.2.0",
            "_model_name": "LayoutModel",
            "_view_count": null,
            "_view_module": "@jupyter-widgets/base",
            "_view_module_version": "1.2.0",
            "_view_name": "LayoutView",
            "align_content": null,
            "align_items": null,
            "align_self": null,
            "border": null,
            "bottom": null,
            "display": null,
            "flex": null,
            "flex_flow": null,
            "grid_area": null,
            "grid_auto_columns": null,
            "grid_auto_flow": null,
            "grid_auto_rows": null,
            "grid_column": null,
            "grid_gap": null,
            "grid_row": null,
            "grid_template_areas": null,
            "grid_template_columns": null,
            "grid_template_rows": null,
            "height": null,
            "justify_content": null,
            "justify_items": null,
            "left": null,
            "margin": null,
            "max_height": null,
            "max_width": null,
            "min_height": null,
            "min_width": null,
            "object_fit": null,
            "object_position": null,
            "order": null,
            "overflow": null,
            "overflow_x": null,
            "overflow_y": null,
            "padding": null,
            "right": null,
            "top": null,
            "visibility": null,
            "width": null
          }
        },
        "67df53f4550f47a1998229b32a855b53": {
          "model_module": "@jupyter-widgets/controls",
          "model_name": "DescriptionStyleModel",
          "model_module_version": "1.5.0",
          "state": {
            "_model_module": "@jupyter-widgets/controls",
            "_model_module_version": "1.5.0",
            "_model_name": "DescriptionStyleModel",
            "_view_count": null,
            "_view_module": "@jupyter-widgets/base",
            "_view_module_version": "1.2.0",
            "_view_name": "StyleView",
            "description_width": ""
          }
        },
        "6e4597a929e5482e97ea0e61457f515d": {
          "model_module": "@jupyter-widgets/base",
          "model_name": "LayoutModel",
          "model_module_version": "1.2.0",
          "state": {
            "_model_module": "@jupyter-widgets/base",
            "_model_module_version": "1.2.0",
            "_model_name": "LayoutModel",
            "_view_count": null,
            "_view_module": "@jupyter-widgets/base",
            "_view_module_version": "1.2.0",
            "_view_name": "LayoutView",
            "align_content": null,
            "align_items": null,
            "align_self": null,
            "border": null,
            "bottom": null,
            "display": null,
            "flex": null,
            "flex_flow": null,
            "grid_area": null,
            "grid_auto_columns": null,
            "grid_auto_flow": null,
            "grid_auto_rows": null,
            "grid_column": null,
            "grid_gap": null,
            "grid_row": null,
            "grid_template_areas": null,
            "grid_template_columns": null,
            "grid_template_rows": null,
            "height": null,
            "justify_content": null,
            "justify_items": null,
            "left": null,
            "margin": null,
            "max_height": null,
            "max_width": null,
            "min_height": null,
            "min_width": null,
            "object_fit": null,
            "object_position": null,
            "order": null,
            "overflow": null,
            "overflow_x": null,
            "overflow_y": null,
            "padding": null,
            "right": null,
            "top": null,
            "visibility": null,
            "width": null
          }
        },
        "89b160aee7a6447d8f8d1c1a131921c6": {
          "model_module": "@jupyter-widgets/controls",
          "model_name": "DescriptionStyleModel",
          "model_module_version": "1.5.0",
          "state": {
            "_model_module": "@jupyter-widgets/controls",
            "_model_module_version": "1.5.0",
            "_model_name": "DescriptionStyleModel",
            "_view_count": null,
            "_view_module": "@jupyter-widgets/base",
            "_view_module_version": "1.2.0",
            "_view_name": "StyleView",
            "description_width": ""
          }
        },
        "e7e1e84a20bc4dae94ce6bc142af3f3e": {
          "model_module": "@jupyter-widgets/base",
          "model_name": "LayoutModel",
          "model_module_version": "1.2.0",
          "state": {
            "_model_module": "@jupyter-widgets/base",
            "_model_module_version": "1.2.0",
            "_model_name": "LayoutModel",
            "_view_count": null,
            "_view_module": "@jupyter-widgets/base",
            "_view_module_version": "1.2.0",
            "_view_name": "LayoutView",
            "align_content": null,
            "align_items": null,
            "align_self": null,
            "border": null,
            "bottom": null,
            "display": null,
            "flex": null,
            "flex_flow": null,
            "grid_area": null,
            "grid_auto_columns": null,
            "grid_auto_flow": null,
            "grid_auto_rows": null,
            "grid_column": null,
            "grid_gap": null,
            "grid_row": null,
            "grid_template_areas": null,
            "grid_template_columns": null,
            "grid_template_rows": null,
            "height": null,
            "justify_content": null,
            "justify_items": null,
            "left": null,
            "margin": null,
            "max_height": null,
            "max_width": null,
            "min_height": null,
            "min_width": null,
            "object_fit": null,
            "object_position": null,
            "order": null,
            "overflow": null,
            "overflow_x": null,
            "overflow_y": null,
            "padding": null,
            "right": null,
            "top": null,
            "visibility": null,
            "width": null
          }
        },
        "899063bdd654468f9c14c50f3f517d23": {
          "model_module": "@jupyter-widgets/controls",
          "model_name": "DescriptionStyleModel",
          "model_module_version": "1.5.0",
          "state": {
            "_model_module": "@jupyter-widgets/controls",
            "_model_module_version": "1.5.0",
            "_model_name": "DescriptionStyleModel",
            "_view_count": null,
            "_view_module": "@jupyter-widgets/base",
            "_view_module_version": "1.2.0",
            "_view_name": "StyleView",
            "description_width": ""
          }
        },
        "e9e700186fcb49d9820b80ec3ca3203d": {
          "model_module": "@jupyter-widgets/controls",
          "model_name": "HBoxModel",
          "model_module_version": "1.5.0",
          "state": {
            "_dom_classes": [],
            "_model_module": "@jupyter-widgets/controls",
            "_model_module_version": "1.5.0",
            "_model_name": "HBoxModel",
            "_view_count": null,
            "_view_module": "@jupyter-widgets/controls",
            "_view_module_version": "1.5.0",
            "_view_name": "HBoxView",
            "box_style": "",
            "children": [
              "IPY_MODEL_17e954f75646419d8e3e4fdd49efe1be",
              "IPY_MODEL_0621794e42f745e78fc5c3d9df6122f7",
              "IPY_MODEL_aee89ca7d88e42969fa62c723a3b6a5a"
            ],
            "layout": "IPY_MODEL_0fe5e9c10d4e465abff0348af33e44e0"
          }
        },
        "17e954f75646419d8e3e4fdd49efe1be": {
          "model_module": "@jupyter-widgets/controls",
          "model_name": "HTMLModel",
          "model_module_version": "1.5.0",
          "state": {
            "_dom_classes": [],
            "_model_module": "@jupyter-widgets/controls",
            "_model_module_version": "1.5.0",
            "_model_name": "HTMLModel",
            "_view_count": null,
            "_view_module": "@jupyter-widgets/controls",
            "_view_module_version": "1.5.0",
            "_view_name": "HTMLView",
            "description": "",
            "description_tooltip": null,
            "layout": "IPY_MODEL_d210b4efa8c54d5791eff9228aaf73c7",
            "placeholder": "​",
            "style": "IPY_MODEL_d1ce356ee43a44229e4024a15209c20c",
            "value": "Map: 100%"
          }
        },
        "0621794e42f745e78fc5c3d9df6122f7": {
          "model_module": "@jupyter-widgets/controls",
          "model_name": "FloatProgressModel",
          "model_module_version": "1.5.0",
          "state": {
            "_dom_classes": [],
            "_model_module": "@jupyter-widgets/controls",
            "_model_module_version": "1.5.0",
            "_model_name": "FloatProgressModel",
            "_view_count": null,
            "_view_module": "@jupyter-widgets/controls",
            "_view_module_version": "1.5.0",
            "_view_name": "ProgressView",
            "bar_style": "success",
            "description": "",
            "description_tooltip": null,
            "layout": "IPY_MODEL_8a38ddc48b4a40eba21b8ce3f303c438",
            "max": 1766,
            "min": 0,
            "orientation": "horizontal",
            "style": "IPY_MODEL_a0770e4b9f1d4d3fa41b268cbf432a1a",
            "value": 1766
          }
        },
        "aee89ca7d88e42969fa62c723a3b6a5a": {
          "model_module": "@jupyter-widgets/controls",
          "model_name": "HTMLModel",
          "model_module_version": "1.5.0",
          "state": {
            "_dom_classes": [],
            "_model_module": "@jupyter-widgets/controls",
            "_model_module_version": "1.5.0",
            "_model_name": "HTMLModel",
            "_view_count": null,
            "_view_module": "@jupyter-widgets/controls",
            "_view_module_version": "1.5.0",
            "_view_name": "HTMLView",
            "description": "",
            "description_tooltip": null,
            "layout": "IPY_MODEL_ff0a7fdc575547f9ad9b504f95499f04",
            "placeholder": "​",
            "style": "IPY_MODEL_07383b2ca3ea479992c376810ec08556",
            "value": " 1766/1766 [00:00&lt;00:00, 3043.21 examples/s]"
          }
        },
        "0fe5e9c10d4e465abff0348af33e44e0": {
          "model_module": "@jupyter-widgets/base",
          "model_name": "LayoutModel",
          "model_module_version": "1.2.0",
          "state": {
            "_model_module": "@jupyter-widgets/base",
            "_model_module_version": "1.2.0",
            "_model_name": "LayoutModel",
            "_view_count": null,
            "_view_module": "@jupyter-widgets/base",
            "_view_module_version": "1.2.0",
            "_view_name": "LayoutView",
            "align_content": null,
            "align_items": null,
            "align_self": null,
            "border": null,
            "bottom": null,
            "display": null,
            "flex": null,
            "flex_flow": null,
            "grid_area": null,
            "grid_auto_columns": null,
            "grid_auto_flow": null,
            "grid_auto_rows": null,
            "grid_column": null,
            "grid_gap": null,
            "grid_row": null,
            "grid_template_areas": null,
            "grid_template_columns": null,
            "grid_template_rows": null,
            "height": null,
            "justify_content": null,
            "justify_items": null,
            "left": null,
            "margin": null,
            "max_height": null,
            "max_width": null,
            "min_height": null,
            "min_width": null,
            "object_fit": null,
            "object_position": null,
            "order": null,
            "overflow": null,
            "overflow_x": null,
            "overflow_y": null,
            "padding": null,
            "right": null,
            "top": null,
            "visibility": null,
            "width": null
          }
        },
        "d210b4efa8c54d5791eff9228aaf73c7": {
          "model_module": "@jupyter-widgets/base",
          "model_name": "LayoutModel",
          "model_module_version": "1.2.0",
          "state": {
            "_model_module": "@jupyter-widgets/base",
            "_model_module_version": "1.2.0",
            "_model_name": "LayoutModel",
            "_view_count": null,
            "_view_module": "@jupyter-widgets/base",
            "_view_module_version": "1.2.0",
            "_view_name": "LayoutView",
            "align_content": null,
            "align_items": null,
            "align_self": null,
            "border": null,
            "bottom": null,
            "display": null,
            "flex": null,
            "flex_flow": null,
            "grid_area": null,
            "grid_auto_columns": null,
            "grid_auto_flow": null,
            "grid_auto_rows": null,
            "grid_column": null,
            "grid_gap": null,
            "grid_row": null,
            "grid_template_areas": null,
            "grid_template_columns": null,
            "grid_template_rows": null,
            "height": null,
            "justify_content": null,
            "justify_items": null,
            "left": null,
            "margin": null,
            "max_height": null,
            "max_width": null,
            "min_height": null,
            "min_width": null,
            "object_fit": null,
            "object_position": null,
            "order": null,
            "overflow": null,
            "overflow_x": null,
            "overflow_y": null,
            "padding": null,
            "right": null,
            "top": null,
            "visibility": null,
            "width": null
          }
        },
        "d1ce356ee43a44229e4024a15209c20c": {
          "model_module": "@jupyter-widgets/controls",
          "model_name": "DescriptionStyleModel",
          "model_module_version": "1.5.0",
          "state": {
            "_model_module": "@jupyter-widgets/controls",
            "_model_module_version": "1.5.0",
            "_model_name": "DescriptionStyleModel",
            "_view_count": null,
            "_view_module": "@jupyter-widgets/base",
            "_view_module_version": "1.2.0",
            "_view_name": "StyleView",
            "description_width": ""
          }
        },
        "8a38ddc48b4a40eba21b8ce3f303c438": {
          "model_module": "@jupyter-widgets/base",
          "model_name": "LayoutModel",
          "model_module_version": "1.2.0",
          "state": {
            "_model_module": "@jupyter-widgets/base",
            "_model_module_version": "1.2.0",
            "_model_name": "LayoutModel",
            "_view_count": null,
            "_view_module": "@jupyter-widgets/base",
            "_view_module_version": "1.2.0",
            "_view_name": "LayoutView",
            "align_content": null,
            "align_items": null,
            "align_self": null,
            "border": null,
            "bottom": null,
            "display": null,
            "flex": null,
            "flex_flow": null,
            "grid_area": null,
            "grid_auto_columns": null,
            "grid_auto_flow": null,
            "grid_auto_rows": null,
            "grid_column": null,
            "grid_gap": null,
            "grid_row": null,
            "grid_template_areas": null,
            "grid_template_columns": null,
            "grid_template_rows": null,
            "height": null,
            "justify_content": null,
            "justify_items": null,
            "left": null,
            "margin": null,
            "max_height": null,
            "max_width": null,
            "min_height": null,
            "min_width": null,
            "object_fit": null,
            "object_position": null,
            "order": null,
            "overflow": null,
            "overflow_x": null,
            "overflow_y": null,
            "padding": null,
            "right": null,
            "top": null,
            "visibility": null,
            "width": null
          }
        },
        "a0770e4b9f1d4d3fa41b268cbf432a1a": {
          "model_module": "@jupyter-widgets/controls",
          "model_name": "ProgressStyleModel",
          "model_module_version": "1.5.0",
          "state": {
            "_model_module": "@jupyter-widgets/controls",
            "_model_module_version": "1.5.0",
            "_model_name": "ProgressStyleModel",
            "_view_count": null,
            "_view_module": "@jupyter-widgets/base",
            "_view_module_version": "1.2.0",
            "_view_name": "StyleView",
            "bar_color": null,
            "description_width": ""
          }
        },
        "ff0a7fdc575547f9ad9b504f95499f04": {
          "model_module": "@jupyter-widgets/base",
          "model_name": "LayoutModel",
          "model_module_version": "1.2.0",
          "state": {
            "_model_module": "@jupyter-widgets/base",
            "_model_module_version": "1.2.0",
            "_model_name": "LayoutModel",
            "_view_count": null,
            "_view_module": "@jupyter-widgets/base",
            "_view_module_version": "1.2.0",
            "_view_name": "LayoutView",
            "align_content": null,
            "align_items": null,
            "align_self": null,
            "border": null,
            "bottom": null,
            "display": null,
            "flex": null,
            "flex_flow": null,
            "grid_area": null,
            "grid_auto_columns": null,
            "grid_auto_flow": null,
            "grid_auto_rows": null,
            "grid_column": null,
            "grid_gap": null,
            "grid_row": null,
            "grid_template_areas": null,
            "grid_template_columns": null,
            "grid_template_rows": null,
            "height": null,
            "justify_content": null,
            "justify_items": null,
            "left": null,
            "margin": null,
            "max_height": null,
            "max_width": null,
            "min_height": null,
            "min_width": null,
            "object_fit": null,
            "object_position": null,
            "order": null,
            "overflow": null,
            "overflow_x": null,
            "overflow_y": null,
            "padding": null,
            "right": null,
            "top": null,
            "visibility": null,
            "width": null
          }
        },
        "07383b2ca3ea479992c376810ec08556": {
          "model_module": "@jupyter-widgets/controls",
          "model_name": "DescriptionStyleModel",
          "model_module_version": "1.5.0",
          "state": {
            "_model_module": "@jupyter-widgets/controls",
            "_model_module_version": "1.5.0",
            "_model_name": "DescriptionStyleModel",
            "_view_count": null,
            "_view_module": "@jupyter-widgets/base",
            "_view_module_version": "1.2.0",
            "_view_name": "StyleView",
            "description_width": ""
          }
        },
        "71988f7615884b40829a8f6ab0f56cd4": {
          "model_module": "@jupyter-widgets/controls",
          "model_name": "HBoxModel",
          "model_module_version": "1.5.0",
          "state": {
            "_dom_classes": [],
            "_model_module": "@jupyter-widgets/controls",
            "_model_module_version": "1.5.0",
            "_model_name": "HBoxModel",
            "_view_count": null,
            "_view_module": "@jupyter-widgets/controls",
            "_view_module_version": "1.5.0",
            "_view_name": "HBoxView",
            "box_style": "",
            "children": [
              "IPY_MODEL_f3e9bea0d62b408d8ddb0d207fe42566",
              "IPY_MODEL_4634e062093b452fb12e5e487a55e4e0",
              "IPY_MODEL_a0e50f6fa1c34f279548dd0bda30a23d"
            ],
            "layout": "IPY_MODEL_511dce64bee94c37a166369dfc015d8e"
          }
        },
        "f3e9bea0d62b408d8ddb0d207fe42566": {
          "model_module": "@jupyter-widgets/controls",
          "model_name": "HTMLModel",
          "model_module_version": "1.5.0",
          "state": {
            "_dom_classes": [],
            "_model_module": "@jupyter-widgets/controls",
            "_model_module_version": "1.5.0",
            "_model_name": "HTMLModel",
            "_view_count": null,
            "_view_module": "@jupyter-widgets/controls",
            "_view_module_version": "1.5.0",
            "_view_name": "HTMLView",
            "description": "",
            "description_tooltip": null,
            "layout": "IPY_MODEL_b731227968d941d9b46a4f9986f16fd1",
            "placeholder": "​",
            "style": "IPY_MODEL_5edc90b0896345bab50dfda7e1b133ce",
            "value": "Map: 100%"
          }
        },
        "4634e062093b452fb12e5e487a55e4e0": {
          "model_module": "@jupyter-widgets/controls",
          "model_name": "FloatProgressModel",
          "model_module_version": "1.5.0",
          "state": {
            "_dom_classes": [],
            "_model_module": "@jupyter-widgets/controls",
            "_model_module_version": "1.5.0",
            "_model_name": "FloatProgressModel",
            "_view_count": null,
            "_view_module": "@jupyter-widgets/controls",
            "_view_module_version": "1.5.0",
            "_view_name": "ProgressView",
            "bar_style": "success",
            "description": "",
            "description_tooltip": null,
            "layout": "IPY_MODEL_f14df7a6ee934ab7b9f83077223e4138",
            "max": 811,
            "min": 0,
            "orientation": "horizontal",
            "style": "IPY_MODEL_530c90dcc46241b8864dd59911e21da6",
            "value": 811
          }
        },
        "a0e50f6fa1c34f279548dd0bda30a23d": {
          "model_module": "@jupyter-widgets/controls",
          "model_name": "HTMLModel",
          "model_module_version": "1.5.0",
          "state": {
            "_dom_classes": [],
            "_model_module": "@jupyter-widgets/controls",
            "_model_module_version": "1.5.0",
            "_model_name": "HTMLModel",
            "_view_count": null,
            "_view_module": "@jupyter-widgets/controls",
            "_view_module_version": "1.5.0",
            "_view_name": "HTMLView",
            "description": "",
            "description_tooltip": null,
            "layout": "IPY_MODEL_66395fa6a0f04125a22cc5d3a1f22c40",
            "placeholder": "​",
            "style": "IPY_MODEL_34f0e7567ccc49b1a820e276b4c87d4b",
            "value": " 811/811 [00:00&lt;00:00, 2945.38 examples/s]"
          }
        },
        "511dce64bee94c37a166369dfc015d8e": {
          "model_module": "@jupyter-widgets/base",
          "model_name": "LayoutModel",
          "model_module_version": "1.2.0",
          "state": {
            "_model_module": "@jupyter-widgets/base",
            "_model_module_version": "1.2.0",
            "_model_name": "LayoutModel",
            "_view_count": null,
            "_view_module": "@jupyter-widgets/base",
            "_view_module_version": "1.2.0",
            "_view_name": "LayoutView",
            "align_content": null,
            "align_items": null,
            "align_self": null,
            "border": null,
            "bottom": null,
            "display": null,
            "flex": null,
            "flex_flow": null,
            "grid_area": null,
            "grid_auto_columns": null,
            "grid_auto_flow": null,
            "grid_auto_rows": null,
            "grid_column": null,
            "grid_gap": null,
            "grid_row": null,
            "grid_template_areas": null,
            "grid_template_columns": null,
            "grid_template_rows": null,
            "height": null,
            "justify_content": null,
            "justify_items": null,
            "left": null,
            "margin": null,
            "max_height": null,
            "max_width": null,
            "min_height": null,
            "min_width": null,
            "object_fit": null,
            "object_position": null,
            "order": null,
            "overflow": null,
            "overflow_x": null,
            "overflow_y": null,
            "padding": null,
            "right": null,
            "top": null,
            "visibility": null,
            "width": null
          }
        },
        "b731227968d941d9b46a4f9986f16fd1": {
          "model_module": "@jupyter-widgets/base",
          "model_name": "LayoutModel",
          "model_module_version": "1.2.0",
          "state": {
            "_model_module": "@jupyter-widgets/base",
            "_model_module_version": "1.2.0",
            "_model_name": "LayoutModel",
            "_view_count": null,
            "_view_module": "@jupyter-widgets/base",
            "_view_module_version": "1.2.0",
            "_view_name": "LayoutView",
            "align_content": null,
            "align_items": null,
            "align_self": null,
            "border": null,
            "bottom": null,
            "display": null,
            "flex": null,
            "flex_flow": null,
            "grid_area": null,
            "grid_auto_columns": null,
            "grid_auto_flow": null,
            "grid_auto_rows": null,
            "grid_column": null,
            "grid_gap": null,
            "grid_row": null,
            "grid_template_areas": null,
            "grid_template_columns": null,
            "grid_template_rows": null,
            "height": null,
            "justify_content": null,
            "justify_items": null,
            "left": null,
            "margin": null,
            "max_height": null,
            "max_width": null,
            "min_height": null,
            "min_width": null,
            "object_fit": null,
            "object_position": null,
            "order": null,
            "overflow": null,
            "overflow_x": null,
            "overflow_y": null,
            "padding": null,
            "right": null,
            "top": null,
            "visibility": null,
            "width": null
          }
        },
        "5edc90b0896345bab50dfda7e1b133ce": {
          "model_module": "@jupyter-widgets/controls",
          "model_name": "DescriptionStyleModel",
          "model_module_version": "1.5.0",
          "state": {
            "_model_module": "@jupyter-widgets/controls",
            "_model_module_version": "1.5.0",
            "_model_name": "DescriptionStyleModel",
            "_view_count": null,
            "_view_module": "@jupyter-widgets/base",
            "_view_module_version": "1.2.0",
            "_view_name": "StyleView",
            "description_width": ""
          }
        },
        "f14df7a6ee934ab7b9f83077223e4138": {
          "model_module": "@jupyter-widgets/base",
          "model_name": "LayoutModel",
          "model_module_version": "1.2.0",
          "state": {
            "_model_module": "@jupyter-widgets/base",
            "_model_module_version": "1.2.0",
            "_model_name": "LayoutModel",
            "_view_count": null,
            "_view_module": "@jupyter-widgets/base",
            "_view_module_version": "1.2.0",
            "_view_name": "LayoutView",
            "align_content": null,
            "align_items": null,
            "align_self": null,
            "border": null,
            "bottom": null,
            "display": null,
            "flex": null,
            "flex_flow": null,
            "grid_area": null,
            "grid_auto_columns": null,
            "grid_auto_flow": null,
            "grid_auto_rows": null,
            "grid_column": null,
            "grid_gap": null,
            "grid_row": null,
            "grid_template_areas": null,
            "grid_template_columns": null,
            "grid_template_rows": null,
            "height": null,
            "justify_content": null,
            "justify_items": null,
            "left": null,
            "margin": null,
            "max_height": null,
            "max_width": null,
            "min_height": null,
            "min_width": null,
            "object_fit": null,
            "object_position": null,
            "order": null,
            "overflow": null,
            "overflow_x": null,
            "overflow_y": null,
            "padding": null,
            "right": null,
            "top": null,
            "visibility": null,
            "width": null
          }
        },
        "530c90dcc46241b8864dd59911e21da6": {
          "model_module": "@jupyter-widgets/controls",
          "model_name": "ProgressStyleModel",
          "model_module_version": "1.5.0",
          "state": {
            "_model_module": "@jupyter-widgets/controls",
            "_model_module_version": "1.5.0",
            "_model_name": "ProgressStyleModel",
            "_view_count": null,
            "_view_module": "@jupyter-widgets/base",
            "_view_module_version": "1.2.0",
            "_view_name": "StyleView",
            "bar_color": null,
            "description_width": ""
          }
        },
        "66395fa6a0f04125a22cc5d3a1f22c40": {
          "model_module": "@jupyter-widgets/base",
          "model_name": "LayoutModel",
          "model_module_version": "1.2.0",
          "state": {
            "_model_module": "@jupyter-widgets/base",
            "_model_module_version": "1.2.0",
            "_model_name": "LayoutModel",
            "_view_count": null,
            "_view_module": "@jupyter-widgets/base",
            "_view_module_version": "1.2.0",
            "_view_name": "LayoutView",
            "align_content": null,
            "align_items": null,
            "align_self": null,
            "border": null,
            "bottom": null,
            "display": null,
            "flex": null,
            "flex_flow": null,
            "grid_area": null,
            "grid_auto_columns": null,
            "grid_auto_flow": null,
            "grid_auto_rows": null,
            "grid_column": null,
            "grid_gap": null,
            "grid_row": null,
            "grid_template_areas": null,
            "grid_template_columns": null,
            "grid_template_rows": null,
            "height": null,
            "justify_content": null,
            "justify_items": null,
            "left": null,
            "margin": null,
            "max_height": null,
            "max_width": null,
            "min_height": null,
            "min_width": null,
            "object_fit": null,
            "object_position": null,
            "order": null,
            "overflow": null,
            "overflow_x": null,
            "overflow_y": null,
            "padding": null,
            "right": null,
            "top": null,
            "visibility": null,
            "width": null
          }
        },
        "34f0e7567ccc49b1a820e276b4c87d4b": {
          "model_module": "@jupyter-widgets/controls",
          "model_name": "DescriptionStyleModel",
          "model_module_version": "1.5.0",
          "state": {
            "_model_module": "@jupyter-widgets/controls",
            "_model_module_version": "1.5.0",
            "_model_name": "DescriptionStyleModel",
            "_view_count": null,
            "_view_module": "@jupyter-widgets/base",
            "_view_module_version": "1.2.0",
            "_view_name": "StyleView",
            "description_width": ""
          }
        },
        "f31001cffe0e4d4b9a13322af9b919ac": {
          "model_module": "@jupyter-widgets/controls",
          "model_name": "HBoxModel",
          "model_module_version": "1.5.0",
          "state": {
            "_dom_classes": [],
            "_model_module": "@jupyter-widgets/controls",
            "_model_module_version": "1.5.0",
            "_model_name": "HBoxModel",
            "_view_count": null,
            "_view_module": "@jupyter-widgets/controls",
            "_view_module_version": "1.5.0",
            "_view_name": "HBoxView",
            "box_style": "",
            "children": [
              "IPY_MODEL_b7fba00f38374175946ddff6e683c33f",
              "IPY_MODEL_afc279719adf412f9a7d5269491ae18b",
              "IPY_MODEL_4d379eea78e34a86a5cc02123ce00a6b"
            ],
            "layout": "IPY_MODEL_138e9a24e0114114a8904da455be4be0"
          }
        },
        "b7fba00f38374175946ddff6e683c33f": {
          "model_module": "@jupyter-widgets/controls",
          "model_name": "HTMLModel",
          "model_module_version": "1.5.0",
          "state": {
            "_dom_classes": [],
            "_model_module": "@jupyter-widgets/controls",
            "_model_module_version": "1.5.0",
            "_model_name": "HTMLModel",
            "_view_count": null,
            "_view_module": "@jupyter-widgets/controls",
            "_view_module_version": "1.5.0",
            "_view_name": "HTMLView",
            "description": "",
            "description_tooltip": null,
            "layout": "IPY_MODEL_2d2fce06f6b14134b615cba682d43352",
            "placeholder": "​",
            "style": "IPY_MODEL_20733059a4c54ca4a008732cbe7ada42",
            "value": "Map: 100%"
          }
        },
        "afc279719adf412f9a7d5269491ae18b": {
          "model_module": "@jupyter-widgets/controls",
          "model_name": "FloatProgressModel",
          "model_module_version": "1.5.0",
          "state": {
            "_dom_classes": [],
            "_model_module": "@jupyter-widgets/controls",
            "_model_module_version": "1.5.0",
            "_model_name": "FloatProgressModel",
            "_view_count": null,
            "_view_module": "@jupyter-widgets/controls",
            "_view_module_version": "1.5.0",
            "_view_name": "ProgressView",
            "bar_style": "success",
            "description": "",
            "description_tooltip": null,
            "layout": "IPY_MODEL_3b4e862177384f6e9b9e1168cad6ca95",
            "max": 1766,
            "min": 0,
            "orientation": "horizontal",
            "style": "IPY_MODEL_8d2fddb619554d708a3027fd2881e07c",
            "value": 1766
          }
        },
        "4d379eea78e34a86a5cc02123ce00a6b": {
          "model_module": "@jupyter-widgets/controls",
          "model_name": "HTMLModel",
          "model_module_version": "1.5.0",
          "state": {
            "_dom_classes": [],
            "_model_module": "@jupyter-widgets/controls",
            "_model_module_version": "1.5.0",
            "_model_name": "HTMLModel",
            "_view_count": null,
            "_view_module": "@jupyter-widgets/controls",
            "_view_module_version": "1.5.0",
            "_view_name": "HTMLView",
            "description": "",
            "description_tooltip": null,
            "layout": "IPY_MODEL_5ed92863594b4bddaa5477dac8d8da66",
            "placeholder": "​",
            "style": "IPY_MODEL_a9727bb522c44d14a53fc31eacd23262",
            "value": " 1766/1766 [00:00&lt;00:00, 34126.90 examples/s]"
          }
        },
        "138e9a24e0114114a8904da455be4be0": {
          "model_module": "@jupyter-widgets/base",
          "model_name": "LayoutModel",
          "model_module_version": "1.2.0",
          "state": {
            "_model_module": "@jupyter-widgets/base",
            "_model_module_version": "1.2.0",
            "_model_name": "LayoutModel",
            "_view_count": null,
            "_view_module": "@jupyter-widgets/base",
            "_view_module_version": "1.2.0",
            "_view_name": "LayoutView",
            "align_content": null,
            "align_items": null,
            "align_self": null,
            "border": null,
            "bottom": null,
            "display": null,
            "flex": null,
            "flex_flow": null,
            "grid_area": null,
            "grid_auto_columns": null,
            "grid_auto_flow": null,
            "grid_auto_rows": null,
            "grid_column": null,
            "grid_gap": null,
            "grid_row": null,
            "grid_template_areas": null,
            "grid_template_columns": null,
            "grid_template_rows": null,
            "height": null,
            "justify_content": null,
            "justify_items": null,
            "left": null,
            "margin": null,
            "max_height": null,
            "max_width": null,
            "min_height": null,
            "min_width": null,
            "object_fit": null,
            "object_position": null,
            "order": null,
            "overflow": null,
            "overflow_x": null,
            "overflow_y": null,
            "padding": null,
            "right": null,
            "top": null,
            "visibility": null,
            "width": null
          }
        },
        "2d2fce06f6b14134b615cba682d43352": {
          "model_module": "@jupyter-widgets/base",
          "model_name": "LayoutModel",
          "model_module_version": "1.2.0",
          "state": {
            "_model_module": "@jupyter-widgets/base",
            "_model_module_version": "1.2.0",
            "_model_name": "LayoutModel",
            "_view_count": null,
            "_view_module": "@jupyter-widgets/base",
            "_view_module_version": "1.2.0",
            "_view_name": "LayoutView",
            "align_content": null,
            "align_items": null,
            "align_self": null,
            "border": null,
            "bottom": null,
            "display": null,
            "flex": null,
            "flex_flow": null,
            "grid_area": null,
            "grid_auto_columns": null,
            "grid_auto_flow": null,
            "grid_auto_rows": null,
            "grid_column": null,
            "grid_gap": null,
            "grid_row": null,
            "grid_template_areas": null,
            "grid_template_columns": null,
            "grid_template_rows": null,
            "height": null,
            "justify_content": null,
            "justify_items": null,
            "left": null,
            "margin": null,
            "max_height": null,
            "max_width": null,
            "min_height": null,
            "min_width": null,
            "object_fit": null,
            "object_position": null,
            "order": null,
            "overflow": null,
            "overflow_x": null,
            "overflow_y": null,
            "padding": null,
            "right": null,
            "top": null,
            "visibility": null,
            "width": null
          }
        },
        "20733059a4c54ca4a008732cbe7ada42": {
          "model_module": "@jupyter-widgets/controls",
          "model_name": "DescriptionStyleModel",
          "model_module_version": "1.5.0",
          "state": {
            "_model_module": "@jupyter-widgets/controls",
            "_model_module_version": "1.5.0",
            "_model_name": "DescriptionStyleModel",
            "_view_count": null,
            "_view_module": "@jupyter-widgets/base",
            "_view_module_version": "1.2.0",
            "_view_name": "StyleView",
            "description_width": ""
          }
        },
        "3b4e862177384f6e9b9e1168cad6ca95": {
          "model_module": "@jupyter-widgets/base",
          "model_name": "LayoutModel",
          "model_module_version": "1.2.0",
          "state": {
            "_model_module": "@jupyter-widgets/base",
            "_model_module_version": "1.2.0",
            "_model_name": "LayoutModel",
            "_view_count": null,
            "_view_module": "@jupyter-widgets/base",
            "_view_module_version": "1.2.0",
            "_view_name": "LayoutView",
            "align_content": null,
            "align_items": null,
            "align_self": null,
            "border": null,
            "bottom": null,
            "display": null,
            "flex": null,
            "flex_flow": null,
            "grid_area": null,
            "grid_auto_columns": null,
            "grid_auto_flow": null,
            "grid_auto_rows": null,
            "grid_column": null,
            "grid_gap": null,
            "grid_row": null,
            "grid_template_areas": null,
            "grid_template_columns": null,
            "grid_template_rows": null,
            "height": null,
            "justify_content": null,
            "justify_items": null,
            "left": null,
            "margin": null,
            "max_height": null,
            "max_width": null,
            "min_height": null,
            "min_width": null,
            "object_fit": null,
            "object_position": null,
            "order": null,
            "overflow": null,
            "overflow_x": null,
            "overflow_y": null,
            "padding": null,
            "right": null,
            "top": null,
            "visibility": null,
            "width": null
          }
        },
        "8d2fddb619554d708a3027fd2881e07c": {
          "model_module": "@jupyter-widgets/controls",
          "model_name": "ProgressStyleModel",
          "model_module_version": "1.5.0",
          "state": {
            "_model_module": "@jupyter-widgets/controls",
            "_model_module_version": "1.5.0",
            "_model_name": "ProgressStyleModel",
            "_view_count": null,
            "_view_module": "@jupyter-widgets/base",
            "_view_module_version": "1.2.0",
            "_view_name": "StyleView",
            "bar_color": null,
            "description_width": ""
          }
        },
        "5ed92863594b4bddaa5477dac8d8da66": {
          "model_module": "@jupyter-widgets/base",
          "model_name": "LayoutModel",
          "model_module_version": "1.2.0",
          "state": {
            "_model_module": "@jupyter-widgets/base",
            "_model_module_version": "1.2.0",
            "_model_name": "LayoutModel",
            "_view_count": null,
            "_view_module": "@jupyter-widgets/base",
            "_view_module_version": "1.2.0",
            "_view_name": "LayoutView",
            "align_content": null,
            "align_items": null,
            "align_self": null,
            "border": null,
            "bottom": null,
            "display": null,
            "flex": null,
            "flex_flow": null,
            "grid_area": null,
            "grid_auto_columns": null,
            "grid_auto_flow": null,
            "grid_auto_rows": null,
            "grid_column": null,
            "grid_gap": null,
            "grid_row": null,
            "grid_template_areas": null,
            "grid_template_columns": null,
            "grid_template_rows": null,
            "height": null,
            "justify_content": null,
            "justify_items": null,
            "left": null,
            "margin": null,
            "max_height": null,
            "max_width": null,
            "min_height": null,
            "min_width": null,
            "object_fit": null,
            "object_position": null,
            "order": null,
            "overflow": null,
            "overflow_x": null,
            "overflow_y": null,
            "padding": null,
            "right": null,
            "top": null,
            "visibility": null,
            "width": null
          }
        },
        "a9727bb522c44d14a53fc31eacd23262": {
          "model_module": "@jupyter-widgets/controls",
          "model_name": "DescriptionStyleModel",
          "model_module_version": "1.5.0",
          "state": {
            "_model_module": "@jupyter-widgets/controls",
            "_model_module_version": "1.5.0",
            "_model_name": "DescriptionStyleModel",
            "_view_count": null,
            "_view_module": "@jupyter-widgets/base",
            "_view_module_version": "1.2.0",
            "_view_name": "StyleView",
            "description_width": ""
          }
        },
        "0829f2c12f4b406f8488027c969dcc1e": {
          "model_module": "@jupyter-widgets/controls",
          "model_name": "HBoxModel",
          "model_module_version": "1.5.0",
          "state": {
            "_dom_classes": [],
            "_model_module": "@jupyter-widgets/controls",
            "_model_module_version": "1.5.0",
            "_model_name": "HBoxModel",
            "_view_count": null,
            "_view_module": "@jupyter-widgets/controls",
            "_view_module_version": "1.5.0",
            "_view_name": "HBoxView",
            "box_style": "",
            "children": [
              "IPY_MODEL_eaad043acd8645aa9bc1fcd0af341f86",
              "IPY_MODEL_17a19b73a8c24a978bce9b40e1a2e181",
              "IPY_MODEL_c4986ffbed8e454bb0dcda4f31b39982"
            ],
            "layout": "IPY_MODEL_c444775ac62e468f80812d2a90b26fc1"
          }
        },
        "eaad043acd8645aa9bc1fcd0af341f86": {
          "model_module": "@jupyter-widgets/controls",
          "model_name": "HTMLModel",
          "model_module_version": "1.5.0",
          "state": {
            "_dom_classes": [],
            "_model_module": "@jupyter-widgets/controls",
            "_model_module_version": "1.5.0",
            "_model_name": "HTMLModel",
            "_view_count": null,
            "_view_module": "@jupyter-widgets/controls",
            "_view_module_version": "1.5.0",
            "_view_name": "HTMLView",
            "description": "",
            "description_tooltip": null,
            "layout": "IPY_MODEL_5553d2f2fc61477ba3dabe7c956e2d1f",
            "placeholder": "​",
            "style": "IPY_MODEL_a8bbd1fe2b3b42bb921d69d094b32be3",
            "value": "Map: 100%"
          }
        },
        "17a19b73a8c24a978bce9b40e1a2e181": {
          "model_module": "@jupyter-widgets/controls",
          "model_name": "FloatProgressModel",
          "model_module_version": "1.5.0",
          "state": {
            "_dom_classes": [],
            "_model_module": "@jupyter-widgets/controls",
            "_model_module_version": "1.5.0",
            "_model_name": "FloatProgressModel",
            "_view_count": null,
            "_view_module": "@jupyter-widgets/controls",
            "_view_module_version": "1.5.0",
            "_view_name": "ProgressView",
            "bar_style": "success",
            "description": "",
            "description_tooltip": null,
            "layout": "IPY_MODEL_f1dde08ed2f8476191268cd45833b16f",
            "max": 811,
            "min": 0,
            "orientation": "horizontal",
            "style": "IPY_MODEL_9d2a923f235e48daa62e76b1eb9b2169",
            "value": 811
          }
        },
        "c4986ffbed8e454bb0dcda4f31b39982": {
          "model_module": "@jupyter-widgets/controls",
          "model_name": "HTMLModel",
          "model_module_version": "1.5.0",
          "state": {
            "_dom_classes": [],
            "_model_module": "@jupyter-widgets/controls",
            "_model_module_version": "1.5.0",
            "_model_name": "HTMLModel",
            "_view_count": null,
            "_view_module": "@jupyter-widgets/controls",
            "_view_module_version": "1.5.0",
            "_view_name": "HTMLView",
            "description": "",
            "description_tooltip": null,
            "layout": "IPY_MODEL_6ca3137337114a068c61b7679537c9d3",
            "placeholder": "​",
            "style": "IPY_MODEL_7af9fc58a5e74612910ba4b3de76648b",
            "value": " 811/811 [00:00&lt;00:00, 13780.56 examples/s]"
          }
        },
        "c444775ac62e468f80812d2a90b26fc1": {
          "model_module": "@jupyter-widgets/base",
          "model_name": "LayoutModel",
          "model_module_version": "1.2.0",
          "state": {
            "_model_module": "@jupyter-widgets/base",
            "_model_module_version": "1.2.0",
            "_model_name": "LayoutModel",
            "_view_count": null,
            "_view_module": "@jupyter-widgets/base",
            "_view_module_version": "1.2.0",
            "_view_name": "LayoutView",
            "align_content": null,
            "align_items": null,
            "align_self": null,
            "border": null,
            "bottom": null,
            "display": null,
            "flex": null,
            "flex_flow": null,
            "grid_area": null,
            "grid_auto_columns": null,
            "grid_auto_flow": null,
            "grid_auto_rows": null,
            "grid_column": null,
            "grid_gap": null,
            "grid_row": null,
            "grid_template_areas": null,
            "grid_template_columns": null,
            "grid_template_rows": null,
            "height": null,
            "justify_content": null,
            "justify_items": null,
            "left": null,
            "margin": null,
            "max_height": null,
            "max_width": null,
            "min_height": null,
            "min_width": null,
            "object_fit": null,
            "object_position": null,
            "order": null,
            "overflow": null,
            "overflow_x": null,
            "overflow_y": null,
            "padding": null,
            "right": null,
            "top": null,
            "visibility": null,
            "width": null
          }
        },
        "5553d2f2fc61477ba3dabe7c956e2d1f": {
          "model_module": "@jupyter-widgets/base",
          "model_name": "LayoutModel",
          "model_module_version": "1.2.0",
          "state": {
            "_model_module": "@jupyter-widgets/base",
            "_model_module_version": "1.2.0",
            "_model_name": "LayoutModel",
            "_view_count": null,
            "_view_module": "@jupyter-widgets/base",
            "_view_module_version": "1.2.0",
            "_view_name": "LayoutView",
            "align_content": null,
            "align_items": null,
            "align_self": null,
            "border": null,
            "bottom": null,
            "display": null,
            "flex": null,
            "flex_flow": null,
            "grid_area": null,
            "grid_auto_columns": null,
            "grid_auto_flow": null,
            "grid_auto_rows": null,
            "grid_column": null,
            "grid_gap": null,
            "grid_row": null,
            "grid_template_areas": null,
            "grid_template_columns": null,
            "grid_template_rows": null,
            "height": null,
            "justify_content": null,
            "justify_items": null,
            "left": null,
            "margin": null,
            "max_height": null,
            "max_width": null,
            "min_height": null,
            "min_width": null,
            "object_fit": null,
            "object_position": null,
            "order": null,
            "overflow": null,
            "overflow_x": null,
            "overflow_y": null,
            "padding": null,
            "right": null,
            "top": null,
            "visibility": null,
            "width": null
          }
        },
        "a8bbd1fe2b3b42bb921d69d094b32be3": {
          "model_module": "@jupyter-widgets/controls",
          "model_name": "DescriptionStyleModel",
          "model_module_version": "1.5.0",
          "state": {
            "_model_module": "@jupyter-widgets/controls",
            "_model_module_version": "1.5.0",
            "_model_name": "DescriptionStyleModel",
            "_view_count": null,
            "_view_module": "@jupyter-widgets/base",
            "_view_module_version": "1.2.0",
            "_view_name": "StyleView",
            "description_width": ""
          }
        },
        "f1dde08ed2f8476191268cd45833b16f": {
          "model_module": "@jupyter-widgets/base",
          "model_name": "LayoutModel",
          "model_module_version": "1.2.0",
          "state": {
            "_model_module": "@jupyter-widgets/base",
            "_model_module_version": "1.2.0",
            "_model_name": "LayoutModel",
            "_view_count": null,
            "_view_module": "@jupyter-widgets/base",
            "_view_module_version": "1.2.0",
            "_view_name": "LayoutView",
            "align_content": null,
            "align_items": null,
            "align_self": null,
            "border": null,
            "bottom": null,
            "display": null,
            "flex": null,
            "flex_flow": null,
            "grid_area": null,
            "grid_auto_columns": null,
            "grid_auto_flow": null,
            "grid_auto_rows": null,
            "grid_column": null,
            "grid_gap": null,
            "grid_row": null,
            "grid_template_areas": null,
            "grid_template_columns": null,
            "grid_template_rows": null,
            "height": null,
            "justify_content": null,
            "justify_items": null,
            "left": null,
            "margin": null,
            "max_height": null,
            "max_width": null,
            "min_height": null,
            "min_width": null,
            "object_fit": null,
            "object_position": null,
            "order": null,
            "overflow": null,
            "overflow_x": null,
            "overflow_y": null,
            "padding": null,
            "right": null,
            "top": null,
            "visibility": null,
            "width": null
          }
        },
        "9d2a923f235e48daa62e76b1eb9b2169": {
          "model_module": "@jupyter-widgets/controls",
          "model_name": "ProgressStyleModel",
          "model_module_version": "1.5.0",
          "state": {
            "_model_module": "@jupyter-widgets/controls",
            "_model_module_version": "1.5.0",
            "_model_name": "ProgressStyleModel",
            "_view_count": null,
            "_view_module": "@jupyter-widgets/base",
            "_view_module_version": "1.2.0",
            "_view_name": "StyleView",
            "bar_color": null,
            "description_width": ""
          }
        },
        "6ca3137337114a068c61b7679537c9d3": {
          "model_module": "@jupyter-widgets/base",
          "model_name": "LayoutModel",
          "model_module_version": "1.2.0",
          "state": {
            "_model_module": "@jupyter-widgets/base",
            "_model_module_version": "1.2.0",
            "_model_name": "LayoutModel",
            "_view_count": null,
            "_view_module": "@jupyter-widgets/base",
            "_view_module_version": "1.2.0",
            "_view_name": "LayoutView",
            "align_content": null,
            "align_items": null,
            "align_self": null,
            "border": null,
            "bottom": null,
            "display": null,
            "flex": null,
            "flex_flow": null,
            "grid_area": null,
            "grid_auto_columns": null,
            "grid_auto_flow": null,
            "grid_auto_rows": null,
            "grid_column": null,
            "grid_gap": null,
            "grid_row": null,
            "grid_template_areas": null,
            "grid_template_columns": null,
            "grid_template_rows": null,
            "height": null,
            "justify_content": null,
            "justify_items": null,
            "left": null,
            "margin": null,
            "max_height": null,
            "max_width": null,
            "min_height": null,
            "min_width": null,
            "object_fit": null,
            "object_position": null,
            "order": null,
            "overflow": null,
            "overflow_x": null,
            "overflow_y": null,
            "padding": null,
            "right": null,
            "top": null,
            "visibility": null,
            "width": null
          }
        },
        "7af9fc58a5e74612910ba4b3de76648b": {
          "model_module": "@jupyter-widgets/controls",
          "model_name": "DescriptionStyleModel",
          "model_module_version": "1.5.0",
          "state": {
            "_model_module": "@jupyter-widgets/controls",
            "_model_module_version": "1.5.0",
            "_model_name": "DescriptionStyleModel",
            "_view_count": null,
            "_view_module": "@jupyter-widgets/base",
            "_view_module_version": "1.2.0",
            "_view_name": "StyleView",
            "description_width": ""
          }
        },
        "6eaaff930faf40609d28cc732ab263d9": {
          "model_module": "@jupyter-widgets/controls",
          "model_name": "HBoxModel",
          "model_module_version": "1.5.0",
          "state": {
            "_dom_classes": [],
            "_model_module": "@jupyter-widgets/controls",
            "_model_module_version": "1.5.0",
            "_model_name": "HBoxModel",
            "_view_count": null,
            "_view_module": "@jupyter-widgets/controls",
            "_view_module_version": "1.5.0",
            "_view_name": "HBoxView",
            "box_style": "",
            "children": [
              "IPY_MODEL_7343092f5c4c41a1b3ae55a3217a47eb",
              "IPY_MODEL_d3fe681827864a8d84be83f51965abdb",
              "IPY_MODEL_7cde4a9c361c47d09fa25e99f895f62e"
            ],
            "layout": "IPY_MODEL_c99c963289e44294a6cfd418d574b0e3"
          }
        },
        "7343092f5c4c41a1b3ae55a3217a47eb": {
          "model_module": "@jupyter-widgets/controls",
          "model_name": "HTMLModel",
          "model_module_version": "1.5.0",
          "state": {
            "_dom_classes": [],
            "_model_module": "@jupyter-widgets/controls",
            "_model_module_version": "1.5.0",
            "_model_name": "HTMLModel",
            "_view_count": null,
            "_view_module": "@jupyter-widgets/controls",
            "_view_module_version": "1.5.0",
            "_view_name": "HTMLView",
            "description": "",
            "description_tooltip": null,
            "layout": "IPY_MODEL_3718150698434b1dbe30fcba41660a09",
            "placeholder": "​",
            "style": "IPY_MODEL_7f5ad994073a4da9af0a54b0a396255d",
            "value": "Map: 100%"
          }
        },
        "d3fe681827864a8d84be83f51965abdb": {
          "model_module": "@jupyter-widgets/controls",
          "model_name": "FloatProgressModel",
          "model_module_version": "1.5.0",
          "state": {
            "_dom_classes": [],
            "_model_module": "@jupyter-widgets/controls",
            "_model_module_version": "1.5.0",
            "_model_name": "FloatProgressModel",
            "_view_count": null,
            "_view_module": "@jupyter-widgets/controls",
            "_view_module_version": "1.5.0",
            "_view_name": "ProgressView",
            "bar_style": "success",
            "description": "",
            "description_tooltip": null,
            "layout": "IPY_MODEL_5d77bf5a88924dae900afeca6d02ae80",
            "max": 1766,
            "min": 0,
            "orientation": "horizontal",
            "style": "IPY_MODEL_53862ffb965e4c43907af3e07e653ad3",
            "value": 1766
          }
        },
        "7cde4a9c361c47d09fa25e99f895f62e": {
          "model_module": "@jupyter-widgets/controls",
          "model_name": "HTMLModel",
          "model_module_version": "1.5.0",
          "state": {
            "_dom_classes": [],
            "_model_module": "@jupyter-widgets/controls",
            "_model_module_version": "1.5.0",
            "_model_name": "HTMLModel",
            "_view_count": null,
            "_view_module": "@jupyter-widgets/controls",
            "_view_module_version": "1.5.0",
            "_view_name": "HTMLView",
            "description": "",
            "description_tooltip": null,
            "layout": "IPY_MODEL_d1f3b648f8224577bc4cd541c9cc0e8a",
            "placeholder": "​",
            "style": "IPY_MODEL_ea401b99d7e243d8aba4f3265f489856",
            "value": " 1766/1766 [00:26&lt;00:00, 129.79 examples/s]"
          }
        },
        "c99c963289e44294a6cfd418d574b0e3": {
          "model_module": "@jupyter-widgets/base",
          "model_name": "LayoutModel",
          "model_module_version": "1.2.0",
          "state": {
            "_model_module": "@jupyter-widgets/base",
            "_model_module_version": "1.2.0",
            "_model_name": "LayoutModel",
            "_view_count": null,
            "_view_module": "@jupyter-widgets/base",
            "_view_module_version": "1.2.0",
            "_view_name": "LayoutView",
            "align_content": null,
            "align_items": null,
            "align_self": null,
            "border": null,
            "bottom": null,
            "display": null,
            "flex": null,
            "flex_flow": null,
            "grid_area": null,
            "grid_auto_columns": null,
            "grid_auto_flow": null,
            "grid_auto_rows": null,
            "grid_column": null,
            "grid_gap": null,
            "grid_row": null,
            "grid_template_areas": null,
            "grid_template_columns": null,
            "grid_template_rows": null,
            "height": null,
            "justify_content": null,
            "justify_items": null,
            "left": null,
            "margin": null,
            "max_height": null,
            "max_width": null,
            "min_height": null,
            "min_width": null,
            "object_fit": null,
            "object_position": null,
            "order": null,
            "overflow": null,
            "overflow_x": null,
            "overflow_y": null,
            "padding": null,
            "right": null,
            "top": null,
            "visibility": null,
            "width": null
          }
        },
        "3718150698434b1dbe30fcba41660a09": {
          "model_module": "@jupyter-widgets/base",
          "model_name": "LayoutModel",
          "model_module_version": "1.2.0",
          "state": {
            "_model_module": "@jupyter-widgets/base",
            "_model_module_version": "1.2.0",
            "_model_name": "LayoutModel",
            "_view_count": null,
            "_view_module": "@jupyter-widgets/base",
            "_view_module_version": "1.2.0",
            "_view_name": "LayoutView",
            "align_content": null,
            "align_items": null,
            "align_self": null,
            "border": null,
            "bottom": null,
            "display": null,
            "flex": null,
            "flex_flow": null,
            "grid_area": null,
            "grid_auto_columns": null,
            "grid_auto_flow": null,
            "grid_auto_rows": null,
            "grid_column": null,
            "grid_gap": null,
            "grid_row": null,
            "grid_template_areas": null,
            "grid_template_columns": null,
            "grid_template_rows": null,
            "height": null,
            "justify_content": null,
            "justify_items": null,
            "left": null,
            "margin": null,
            "max_height": null,
            "max_width": null,
            "min_height": null,
            "min_width": null,
            "object_fit": null,
            "object_position": null,
            "order": null,
            "overflow": null,
            "overflow_x": null,
            "overflow_y": null,
            "padding": null,
            "right": null,
            "top": null,
            "visibility": null,
            "width": null
          }
        },
        "7f5ad994073a4da9af0a54b0a396255d": {
          "model_module": "@jupyter-widgets/controls",
          "model_name": "DescriptionStyleModel",
          "model_module_version": "1.5.0",
          "state": {
            "_model_module": "@jupyter-widgets/controls",
            "_model_module_version": "1.5.0",
            "_model_name": "DescriptionStyleModel",
            "_view_count": null,
            "_view_module": "@jupyter-widgets/base",
            "_view_module_version": "1.2.0",
            "_view_name": "StyleView",
            "description_width": ""
          }
        },
        "5d77bf5a88924dae900afeca6d02ae80": {
          "model_module": "@jupyter-widgets/base",
          "model_name": "LayoutModel",
          "model_module_version": "1.2.0",
          "state": {
            "_model_module": "@jupyter-widgets/base",
            "_model_module_version": "1.2.0",
            "_model_name": "LayoutModel",
            "_view_count": null,
            "_view_module": "@jupyter-widgets/base",
            "_view_module_version": "1.2.0",
            "_view_name": "LayoutView",
            "align_content": null,
            "align_items": null,
            "align_self": null,
            "border": null,
            "bottom": null,
            "display": null,
            "flex": null,
            "flex_flow": null,
            "grid_area": null,
            "grid_auto_columns": null,
            "grid_auto_flow": null,
            "grid_auto_rows": null,
            "grid_column": null,
            "grid_gap": null,
            "grid_row": null,
            "grid_template_areas": null,
            "grid_template_columns": null,
            "grid_template_rows": null,
            "height": null,
            "justify_content": null,
            "justify_items": null,
            "left": null,
            "margin": null,
            "max_height": null,
            "max_width": null,
            "min_height": null,
            "min_width": null,
            "object_fit": null,
            "object_position": null,
            "order": null,
            "overflow": null,
            "overflow_x": null,
            "overflow_y": null,
            "padding": null,
            "right": null,
            "top": null,
            "visibility": null,
            "width": null
          }
        },
        "53862ffb965e4c43907af3e07e653ad3": {
          "model_module": "@jupyter-widgets/controls",
          "model_name": "ProgressStyleModel",
          "model_module_version": "1.5.0",
          "state": {
            "_model_module": "@jupyter-widgets/controls",
            "_model_module_version": "1.5.0",
            "_model_name": "ProgressStyleModel",
            "_view_count": null,
            "_view_module": "@jupyter-widgets/base",
            "_view_module_version": "1.2.0",
            "_view_name": "StyleView",
            "bar_color": null,
            "description_width": ""
          }
        },
        "d1f3b648f8224577bc4cd541c9cc0e8a": {
          "model_module": "@jupyter-widgets/base",
          "model_name": "LayoutModel",
          "model_module_version": "1.2.0",
          "state": {
            "_model_module": "@jupyter-widgets/base",
            "_model_module_version": "1.2.0",
            "_model_name": "LayoutModel",
            "_view_count": null,
            "_view_module": "@jupyter-widgets/base",
            "_view_module_version": "1.2.0",
            "_view_name": "LayoutView",
            "align_content": null,
            "align_items": null,
            "align_self": null,
            "border": null,
            "bottom": null,
            "display": null,
            "flex": null,
            "flex_flow": null,
            "grid_area": null,
            "grid_auto_columns": null,
            "grid_auto_flow": null,
            "grid_auto_rows": null,
            "grid_column": null,
            "grid_gap": null,
            "grid_row": null,
            "grid_template_areas": null,
            "grid_template_columns": null,
            "grid_template_rows": null,
            "height": null,
            "justify_content": null,
            "justify_items": null,
            "left": null,
            "margin": null,
            "max_height": null,
            "max_width": null,
            "min_height": null,
            "min_width": null,
            "object_fit": null,
            "object_position": null,
            "order": null,
            "overflow": null,
            "overflow_x": null,
            "overflow_y": null,
            "padding": null,
            "right": null,
            "top": null,
            "visibility": null,
            "width": null
          }
        },
        "ea401b99d7e243d8aba4f3265f489856": {
          "model_module": "@jupyter-widgets/controls",
          "model_name": "DescriptionStyleModel",
          "model_module_version": "1.5.0",
          "state": {
            "_model_module": "@jupyter-widgets/controls",
            "_model_module_version": "1.5.0",
            "_model_name": "DescriptionStyleModel",
            "_view_count": null,
            "_view_module": "@jupyter-widgets/base",
            "_view_module_version": "1.2.0",
            "_view_name": "StyleView",
            "description_width": ""
          }
        },
        "44fa105bec13495eb3140c1ea9c4aed9": {
          "model_module": "@jupyter-widgets/controls",
          "model_name": "HBoxModel",
          "model_module_version": "1.5.0",
          "state": {
            "_dom_classes": [],
            "_model_module": "@jupyter-widgets/controls",
            "_model_module_version": "1.5.0",
            "_model_name": "HBoxModel",
            "_view_count": null,
            "_view_module": "@jupyter-widgets/controls",
            "_view_module_version": "1.5.0",
            "_view_name": "HBoxView",
            "box_style": "",
            "children": [
              "IPY_MODEL_343e64150f024864988731cf297e0122",
              "IPY_MODEL_b4d1bb310ec44745a361b34187b6b6af",
              "IPY_MODEL_f9ec71726e69490e844b3a36b28b1cab"
            ],
            "layout": "IPY_MODEL_16e34240189d44fea30c9f9525b0d964"
          }
        },
        "343e64150f024864988731cf297e0122": {
          "model_module": "@jupyter-widgets/controls",
          "model_name": "HTMLModel",
          "model_module_version": "1.5.0",
          "state": {
            "_dom_classes": [],
            "_model_module": "@jupyter-widgets/controls",
            "_model_module_version": "1.5.0",
            "_model_name": "HTMLModel",
            "_view_count": null,
            "_view_module": "@jupyter-widgets/controls",
            "_view_module_version": "1.5.0",
            "_view_name": "HTMLView",
            "description": "",
            "description_tooltip": null,
            "layout": "IPY_MODEL_7dcaf0eac94f48c7b085c53b866ae023",
            "placeholder": "​",
            "style": "IPY_MODEL_199550e10d6744f4b2d774ac2e8b510c",
            "value": "Map: 100%"
          }
        },
        "b4d1bb310ec44745a361b34187b6b6af": {
          "model_module": "@jupyter-widgets/controls",
          "model_name": "FloatProgressModel",
          "model_module_version": "1.5.0",
          "state": {
            "_dom_classes": [],
            "_model_module": "@jupyter-widgets/controls",
            "_model_module_version": "1.5.0",
            "_model_name": "FloatProgressModel",
            "_view_count": null,
            "_view_module": "@jupyter-widgets/controls",
            "_view_module_version": "1.5.0",
            "_view_name": "ProgressView",
            "bar_style": "success",
            "description": "",
            "description_tooltip": null,
            "layout": "IPY_MODEL_8aca58ba6b534447b52a834bcfab4d36",
            "max": 811,
            "min": 0,
            "orientation": "horizontal",
            "style": "IPY_MODEL_c2d8e023a23c496cae7635eedc6f4ad5",
            "value": 811
          }
        },
        "f9ec71726e69490e844b3a36b28b1cab": {
          "model_module": "@jupyter-widgets/controls",
          "model_name": "HTMLModel",
          "model_module_version": "1.5.0",
          "state": {
            "_dom_classes": [],
            "_model_module": "@jupyter-widgets/controls",
            "_model_module_version": "1.5.0",
            "_model_name": "HTMLModel",
            "_view_count": null,
            "_view_module": "@jupyter-widgets/controls",
            "_view_module_version": "1.5.0",
            "_view_name": "HTMLView",
            "description": "",
            "description_tooltip": null,
            "layout": "IPY_MODEL_94976f8eb96448b8944ec063d48f5709",
            "placeholder": "​",
            "style": "IPY_MODEL_fdb90a26a8b14f4b9149ba303e38e9c0",
            "value": " 811/811 [00:07&lt;00:00, 28.86 examples/s]"
          }
        },
        "16e34240189d44fea30c9f9525b0d964": {
          "model_module": "@jupyter-widgets/base",
          "model_name": "LayoutModel",
          "model_module_version": "1.2.0",
          "state": {
            "_model_module": "@jupyter-widgets/base",
            "_model_module_version": "1.2.0",
            "_model_name": "LayoutModel",
            "_view_count": null,
            "_view_module": "@jupyter-widgets/base",
            "_view_module_version": "1.2.0",
            "_view_name": "LayoutView",
            "align_content": null,
            "align_items": null,
            "align_self": null,
            "border": null,
            "bottom": null,
            "display": null,
            "flex": null,
            "flex_flow": null,
            "grid_area": null,
            "grid_auto_columns": null,
            "grid_auto_flow": null,
            "grid_auto_rows": null,
            "grid_column": null,
            "grid_gap": null,
            "grid_row": null,
            "grid_template_areas": null,
            "grid_template_columns": null,
            "grid_template_rows": null,
            "height": null,
            "justify_content": null,
            "justify_items": null,
            "left": null,
            "margin": null,
            "max_height": null,
            "max_width": null,
            "min_height": null,
            "min_width": null,
            "object_fit": null,
            "object_position": null,
            "order": null,
            "overflow": null,
            "overflow_x": null,
            "overflow_y": null,
            "padding": null,
            "right": null,
            "top": null,
            "visibility": null,
            "width": null
          }
        },
        "7dcaf0eac94f48c7b085c53b866ae023": {
          "model_module": "@jupyter-widgets/base",
          "model_name": "LayoutModel",
          "model_module_version": "1.2.0",
          "state": {
            "_model_module": "@jupyter-widgets/base",
            "_model_module_version": "1.2.0",
            "_model_name": "LayoutModel",
            "_view_count": null,
            "_view_module": "@jupyter-widgets/base",
            "_view_module_version": "1.2.0",
            "_view_name": "LayoutView",
            "align_content": null,
            "align_items": null,
            "align_self": null,
            "border": null,
            "bottom": null,
            "display": null,
            "flex": null,
            "flex_flow": null,
            "grid_area": null,
            "grid_auto_columns": null,
            "grid_auto_flow": null,
            "grid_auto_rows": null,
            "grid_column": null,
            "grid_gap": null,
            "grid_row": null,
            "grid_template_areas": null,
            "grid_template_columns": null,
            "grid_template_rows": null,
            "height": null,
            "justify_content": null,
            "justify_items": null,
            "left": null,
            "margin": null,
            "max_height": null,
            "max_width": null,
            "min_height": null,
            "min_width": null,
            "object_fit": null,
            "object_position": null,
            "order": null,
            "overflow": null,
            "overflow_x": null,
            "overflow_y": null,
            "padding": null,
            "right": null,
            "top": null,
            "visibility": null,
            "width": null
          }
        },
        "199550e10d6744f4b2d774ac2e8b510c": {
          "model_module": "@jupyter-widgets/controls",
          "model_name": "DescriptionStyleModel",
          "model_module_version": "1.5.0",
          "state": {
            "_model_module": "@jupyter-widgets/controls",
            "_model_module_version": "1.5.0",
            "_model_name": "DescriptionStyleModel",
            "_view_count": null,
            "_view_module": "@jupyter-widgets/base",
            "_view_module_version": "1.2.0",
            "_view_name": "StyleView",
            "description_width": ""
          }
        },
        "8aca58ba6b534447b52a834bcfab4d36": {
          "model_module": "@jupyter-widgets/base",
          "model_name": "LayoutModel",
          "model_module_version": "1.2.0",
          "state": {
            "_model_module": "@jupyter-widgets/base",
            "_model_module_version": "1.2.0",
            "_model_name": "LayoutModel",
            "_view_count": null,
            "_view_module": "@jupyter-widgets/base",
            "_view_module_version": "1.2.0",
            "_view_name": "LayoutView",
            "align_content": null,
            "align_items": null,
            "align_self": null,
            "border": null,
            "bottom": null,
            "display": null,
            "flex": null,
            "flex_flow": null,
            "grid_area": null,
            "grid_auto_columns": null,
            "grid_auto_flow": null,
            "grid_auto_rows": null,
            "grid_column": null,
            "grid_gap": null,
            "grid_row": null,
            "grid_template_areas": null,
            "grid_template_columns": null,
            "grid_template_rows": null,
            "height": null,
            "justify_content": null,
            "justify_items": null,
            "left": null,
            "margin": null,
            "max_height": null,
            "max_width": null,
            "min_height": null,
            "min_width": null,
            "object_fit": null,
            "object_position": null,
            "order": null,
            "overflow": null,
            "overflow_x": null,
            "overflow_y": null,
            "padding": null,
            "right": null,
            "top": null,
            "visibility": null,
            "width": null
          }
        },
        "c2d8e023a23c496cae7635eedc6f4ad5": {
          "model_module": "@jupyter-widgets/controls",
          "model_name": "ProgressStyleModel",
          "model_module_version": "1.5.0",
          "state": {
            "_model_module": "@jupyter-widgets/controls",
            "_model_module_version": "1.5.0",
            "_model_name": "ProgressStyleModel",
            "_view_count": null,
            "_view_module": "@jupyter-widgets/base",
            "_view_module_version": "1.2.0",
            "_view_name": "StyleView",
            "bar_color": null,
            "description_width": ""
          }
        },
        "94976f8eb96448b8944ec063d48f5709": {
          "model_module": "@jupyter-widgets/base",
          "model_name": "LayoutModel",
          "model_module_version": "1.2.0",
          "state": {
            "_model_module": "@jupyter-widgets/base",
            "_model_module_version": "1.2.0",
            "_model_name": "LayoutModel",
            "_view_count": null,
            "_view_module": "@jupyter-widgets/base",
            "_view_module_version": "1.2.0",
            "_view_name": "LayoutView",
            "align_content": null,
            "align_items": null,
            "align_self": null,
            "border": null,
            "bottom": null,
            "display": null,
            "flex": null,
            "flex_flow": null,
            "grid_area": null,
            "grid_auto_columns": null,
            "grid_auto_flow": null,
            "grid_auto_rows": null,
            "grid_column": null,
            "grid_gap": null,
            "grid_row": null,
            "grid_template_areas": null,
            "grid_template_columns": null,
            "grid_template_rows": null,
            "height": null,
            "justify_content": null,
            "justify_items": null,
            "left": null,
            "margin": null,
            "max_height": null,
            "max_width": null,
            "min_height": null,
            "min_width": null,
            "object_fit": null,
            "object_position": null,
            "order": null,
            "overflow": null,
            "overflow_x": null,
            "overflow_y": null,
            "padding": null,
            "right": null,
            "top": null,
            "visibility": null,
            "width": null
          }
        },
        "fdb90a26a8b14f4b9149ba303e38e9c0": {
          "model_module": "@jupyter-widgets/controls",
          "model_name": "DescriptionStyleModel",
          "model_module_version": "1.5.0",
          "state": {
            "_model_module": "@jupyter-widgets/controls",
            "_model_module_version": "1.5.0",
            "_model_name": "DescriptionStyleModel",
            "_view_count": null,
            "_view_module": "@jupyter-widgets/base",
            "_view_module_version": "1.2.0",
            "_view_name": "StyleView",
            "description_width": ""
          }
        },
        "d8795580484249f08ff6a2cd6b24e7bb": {
          "model_module": "@jupyter-widgets/controls",
          "model_name": "VBoxModel",
          "model_module_version": "1.5.0",
          "state": {
            "_dom_classes": [],
            "_model_module": "@jupyter-widgets/controls",
            "_model_module_version": "1.5.0",
            "_model_name": "VBoxModel",
            "_view_count": null,
            "_view_module": "@jupyter-widgets/controls",
            "_view_module_version": "1.5.0",
            "_view_name": "VBoxView",
            "box_style": "",
            "children": [
              "IPY_MODEL_660085fec5924ee7af268d1fdcde6942",
              "IPY_MODEL_a0bb8417de504fa991bcd7571be7780b"
            ],
            "layout": "IPY_MODEL_ef560807d33145749a0a21b56677fd87"
          }
        },
        "660085fec5924ee7af268d1fdcde6942": {
          "model_module": "@jupyter-widgets/controls",
          "model_name": "LabelModel",
          "model_module_version": "1.5.0",
          "state": {
            "_dom_classes": [],
            "_model_module": "@jupyter-widgets/controls",
            "_model_module_version": "1.5.0",
            "_model_name": "LabelModel",
            "_view_count": null,
            "_view_module": "@jupyter-widgets/controls",
            "_view_module_version": "1.5.0",
            "_view_name": "LabelView",
            "description": "",
            "description_tooltip": null,
            "layout": "IPY_MODEL_2e8a2737f66b4819920dc1e4d25b9b2e",
            "placeholder": "​",
            "style": "IPY_MODEL_67274d24af464818a17312d7b733fe7c",
            "value": "0.045 MB of 0.045 MB uploaded (0.000 MB deduped)\r"
          }
        },
        "a0bb8417de504fa991bcd7571be7780b": {
          "model_module": "@jupyter-widgets/controls",
          "model_name": "FloatProgressModel",
          "model_module_version": "1.5.0",
          "state": {
            "_dom_classes": [],
            "_model_module": "@jupyter-widgets/controls",
            "_model_module_version": "1.5.0",
            "_model_name": "FloatProgressModel",
            "_view_count": null,
            "_view_module": "@jupyter-widgets/controls",
            "_view_module_version": "1.5.0",
            "_view_name": "ProgressView",
            "bar_style": "",
            "description": "",
            "description_tooltip": null,
            "layout": "IPY_MODEL_8609659d003a4d05a156ba9291336b2d",
            "max": 1,
            "min": 0,
            "orientation": "horizontal",
            "style": "IPY_MODEL_443600f7feac441781e579af251e40c6",
            "value": 1
          }
        },
        "ef560807d33145749a0a21b56677fd87": {
          "model_module": "@jupyter-widgets/base",
          "model_name": "LayoutModel",
          "model_module_version": "1.2.0",
          "state": {
            "_model_module": "@jupyter-widgets/base",
            "_model_module_version": "1.2.0",
            "_model_name": "LayoutModel",
            "_view_count": null,
            "_view_module": "@jupyter-widgets/base",
            "_view_module_version": "1.2.0",
            "_view_name": "LayoutView",
            "align_content": null,
            "align_items": null,
            "align_self": null,
            "border": null,
            "bottom": null,
            "display": null,
            "flex": null,
            "flex_flow": null,
            "grid_area": null,
            "grid_auto_columns": null,
            "grid_auto_flow": null,
            "grid_auto_rows": null,
            "grid_column": null,
            "grid_gap": null,
            "grid_row": null,
            "grid_template_areas": null,
            "grid_template_columns": null,
            "grid_template_rows": null,
            "height": null,
            "justify_content": null,
            "justify_items": null,
            "left": null,
            "margin": null,
            "max_height": null,
            "max_width": null,
            "min_height": null,
            "min_width": null,
            "object_fit": null,
            "object_position": null,
            "order": null,
            "overflow": null,
            "overflow_x": null,
            "overflow_y": null,
            "padding": null,
            "right": null,
            "top": null,
            "visibility": null,
            "width": null
          }
        },
        "2e8a2737f66b4819920dc1e4d25b9b2e": {
          "model_module": "@jupyter-widgets/base",
          "model_name": "LayoutModel",
          "model_module_version": "1.2.0",
          "state": {
            "_model_module": "@jupyter-widgets/base",
            "_model_module_version": "1.2.0",
            "_model_name": "LayoutModel",
            "_view_count": null,
            "_view_module": "@jupyter-widgets/base",
            "_view_module_version": "1.2.0",
            "_view_name": "LayoutView",
            "align_content": null,
            "align_items": null,
            "align_self": null,
            "border": null,
            "bottom": null,
            "display": null,
            "flex": null,
            "flex_flow": null,
            "grid_area": null,
            "grid_auto_columns": null,
            "grid_auto_flow": null,
            "grid_auto_rows": null,
            "grid_column": null,
            "grid_gap": null,
            "grid_row": null,
            "grid_template_areas": null,
            "grid_template_columns": null,
            "grid_template_rows": null,
            "height": null,
            "justify_content": null,
            "justify_items": null,
            "left": null,
            "margin": null,
            "max_height": null,
            "max_width": null,
            "min_height": null,
            "min_width": null,
            "object_fit": null,
            "object_position": null,
            "order": null,
            "overflow": null,
            "overflow_x": null,
            "overflow_y": null,
            "padding": null,
            "right": null,
            "top": null,
            "visibility": null,
            "width": null
          }
        },
        "67274d24af464818a17312d7b733fe7c": {
          "model_module": "@jupyter-widgets/controls",
          "model_name": "DescriptionStyleModel",
          "model_module_version": "1.5.0",
          "state": {
            "_model_module": "@jupyter-widgets/controls",
            "_model_module_version": "1.5.0",
            "_model_name": "DescriptionStyleModel",
            "_view_count": null,
            "_view_module": "@jupyter-widgets/base",
            "_view_module_version": "1.2.0",
            "_view_name": "StyleView",
            "description_width": ""
          }
        },
        "8609659d003a4d05a156ba9291336b2d": {
          "model_module": "@jupyter-widgets/base",
          "model_name": "LayoutModel",
          "model_module_version": "1.2.0",
          "state": {
            "_model_module": "@jupyter-widgets/base",
            "_model_module_version": "1.2.0",
            "_model_name": "LayoutModel",
            "_view_count": null,
            "_view_module": "@jupyter-widgets/base",
            "_view_module_version": "1.2.0",
            "_view_name": "LayoutView",
            "align_content": null,
            "align_items": null,
            "align_self": null,
            "border": null,
            "bottom": null,
            "display": null,
            "flex": null,
            "flex_flow": null,
            "grid_area": null,
            "grid_auto_columns": null,
            "grid_auto_flow": null,
            "grid_auto_rows": null,
            "grid_column": null,
            "grid_gap": null,
            "grid_row": null,
            "grid_template_areas": null,
            "grid_template_columns": null,
            "grid_template_rows": null,
            "height": null,
            "justify_content": null,
            "justify_items": null,
            "left": null,
            "margin": null,
            "max_height": null,
            "max_width": null,
            "min_height": null,
            "min_width": null,
            "object_fit": null,
            "object_position": null,
            "order": null,
            "overflow": null,
            "overflow_x": null,
            "overflow_y": null,
            "padding": null,
            "right": null,
            "top": null,
            "visibility": null,
            "width": null
          }
        },
        "443600f7feac441781e579af251e40c6": {
          "model_module": "@jupyter-widgets/controls",
          "model_name": "ProgressStyleModel",
          "model_module_version": "1.5.0",
          "state": {
            "_model_module": "@jupyter-widgets/controls",
            "_model_module_version": "1.5.0",
            "_model_name": "ProgressStyleModel",
            "_view_count": null,
            "_view_module": "@jupyter-widgets/base",
            "_view_module_version": "1.2.0",
            "_view_name": "StyleView",
            "bar_color": null,
            "description_width": ""
          }
        }
      }
    },
    "accelerator": "GPU"
  },
  "cells": [
    {
      "cell_type": "markdown",
      "source": [
        "## Preprocessing"
      ],
      "metadata": {
        "id": "dOmrUp13-KQZ"
      }
    },
    {
      "cell_type": "code",
      "source": [
        "!pip install datasets"
      ],
      "metadata": {
        "colab": {
          "base_uri": "https://localhost:8080/"
        },
        "id": "Wi7Emlf-_UZN",
        "outputId": "a909e834-58e3-455d-d07d-afa973d4f54a"
      },
      "execution_count": null,
      "outputs": [
        {
          "output_type": "stream",
          "name": "stdout",
          "text": [
            "Requirement already satisfied: datasets in /usr/local/lib/python3.10/dist-packages (2.14.6)\n",
            "Requirement already satisfied: numpy>=1.17 in /usr/local/lib/python3.10/dist-packages (from datasets) (1.23.5)\n",
            "Requirement already satisfied: pyarrow>=8.0.0 in /usr/local/lib/python3.10/dist-packages (from datasets) (9.0.0)\n",
            "Requirement already satisfied: dill<0.3.8,>=0.3.0 in /usr/local/lib/python3.10/dist-packages (from datasets) (0.3.7)\n",
            "Requirement already satisfied: pandas in /usr/local/lib/python3.10/dist-packages (from datasets) (1.5.3)\n",
            "Requirement already satisfied: requests>=2.19.0 in /usr/local/lib/python3.10/dist-packages (from datasets) (2.31.0)\n",
            "Requirement already satisfied: tqdm>=4.62.1 in /usr/local/lib/python3.10/dist-packages (from datasets) (4.66.1)\n",
            "Requirement already satisfied: xxhash in /usr/local/lib/python3.10/dist-packages (from datasets) (3.4.1)\n",
            "Requirement already satisfied: multiprocess in /usr/local/lib/python3.10/dist-packages (from datasets) (0.70.15)\n",
            "Requirement already satisfied: fsspec[http]<=2023.10.0,>=2023.1.0 in /usr/local/lib/python3.10/dist-packages (from datasets) (2023.6.0)\n",
            "Requirement already satisfied: aiohttp in /usr/local/lib/python3.10/dist-packages (from datasets) (3.8.5)\n",
            "Requirement already satisfied: huggingface-hub<1.0.0,>=0.14.0 in /usr/local/lib/python3.10/dist-packages (from datasets) (0.17.3)\n",
            "Requirement already satisfied: packaging in /usr/local/lib/python3.10/dist-packages (from datasets) (23.1)\n",
            "Requirement already satisfied: pyyaml>=5.1 in /usr/local/lib/python3.10/dist-packages (from datasets) (6.0.1)\n",
            "Requirement already satisfied: attrs>=17.3.0 in /usr/local/lib/python3.10/dist-packages (from aiohttp->datasets) (23.1.0)\n",
            "Requirement already satisfied: charset-normalizer<4.0,>=2.0 in /usr/local/lib/python3.10/dist-packages (from aiohttp->datasets) (3.2.0)\n",
            "Requirement already satisfied: multidict<7.0,>=4.5 in /usr/local/lib/python3.10/dist-packages (from aiohttp->datasets) (6.0.4)\n",
            "Requirement already satisfied: async-timeout<5.0,>=4.0.0a3 in /usr/local/lib/python3.10/dist-packages (from aiohttp->datasets) (4.0.3)\n",
            "Requirement already satisfied: yarl<2.0,>=1.0 in /usr/local/lib/python3.10/dist-packages (from aiohttp->datasets) (1.9.2)\n",
            "Requirement already satisfied: frozenlist>=1.1.1 in /usr/local/lib/python3.10/dist-packages (from aiohttp->datasets) (1.4.0)\n",
            "Requirement already satisfied: aiosignal>=1.1.2 in /usr/local/lib/python3.10/dist-packages (from aiohttp->datasets) (1.3.1)\n",
            "Requirement already satisfied: filelock in /usr/local/lib/python3.10/dist-packages (from huggingface-hub<1.0.0,>=0.14.0->datasets) (3.12.2)\n",
            "Requirement already satisfied: typing-extensions>=3.7.4.3 in /usr/local/lib/python3.10/dist-packages (from huggingface-hub<1.0.0,>=0.14.0->datasets) (4.5.0)\n",
            "Requirement already satisfied: idna<4,>=2.5 in /usr/local/lib/python3.10/dist-packages (from requests>=2.19.0->datasets) (3.4)\n",
            "Requirement already satisfied: urllib3<3,>=1.21.1 in /usr/local/lib/python3.10/dist-packages (from requests>=2.19.0->datasets) (2.0.4)\n",
            "Requirement already satisfied: certifi>=2017.4.17 in /usr/local/lib/python3.10/dist-packages (from requests>=2.19.0->datasets) (2023.7.22)\n",
            "Requirement already satisfied: python-dateutil>=2.8.1 in /usr/local/lib/python3.10/dist-packages (from pandas->datasets) (2.8.2)\n",
            "Requirement already satisfied: pytz>=2020.1 in /usr/local/lib/python3.10/dist-packages (from pandas->datasets) (2023.3.post1)\n",
            "Requirement already satisfied: six>=1.5 in /usr/local/lib/python3.10/dist-packages (from python-dateutil>=2.8.1->pandas->datasets) (1.16.0)\n"
          ]
        }
      ]
    },
    {
      "cell_type": "code",
      "source": [
        "!pip install huggingface_hub"
      ],
      "metadata": {
        "colab": {
          "base_uri": "https://localhost:8080/"
        },
        "id": "5f57Hawt-X9l",
        "outputId": "399f163c-15a8-45f2-f3f3-61bfe64e1770"
      },
      "execution_count": null,
      "outputs": [
        {
          "output_type": "stream",
          "name": "stdout",
          "text": [
            "Requirement already satisfied: huggingface_hub in /usr/local/lib/python3.10/dist-packages (0.17.3)\n",
            "Requirement already satisfied: filelock in /usr/local/lib/python3.10/dist-packages (from huggingface_hub) (3.12.2)\n",
            "Requirement already satisfied: fsspec in /usr/local/lib/python3.10/dist-packages (from huggingface_hub) (2023.6.0)\n",
            "Requirement already satisfied: requests in /usr/local/lib/python3.10/dist-packages (from huggingface_hub) (2.31.0)\n",
            "Requirement already satisfied: tqdm>=4.42.1 in /usr/local/lib/python3.10/dist-packages (from huggingface_hub) (4.66.1)\n",
            "Requirement already satisfied: pyyaml>=5.1 in /usr/local/lib/python3.10/dist-packages (from huggingface_hub) (6.0.1)\n",
            "Requirement already satisfied: typing-extensions>=3.7.4.3 in /usr/local/lib/python3.10/dist-packages (from huggingface_hub) (4.5.0)\n",
            "Requirement already satisfied: packaging>=20.9 in /usr/local/lib/python3.10/dist-packages (from huggingface_hub) (23.1)\n",
            "Requirement already satisfied: charset-normalizer<4,>=2 in /usr/local/lib/python3.10/dist-packages (from requests->huggingface_hub) (3.2.0)\n",
            "Requirement already satisfied: idna<4,>=2.5 in /usr/local/lib/python3.10/dist-packages (from requests->huggingface_hub) (3.4)\n",
            "Requirement already satisfied: urllib3<3,>=1.21.1 in /usr/local/lib/python3.10/dist-packages (from requests->huggingface_hub) (2.0.4)\n",
            "Requirement already satisfied: certifi>=2017.4.17 in /usr/local/lib/python3.10/dist-packages (from requests->huggingface_hub) (2023.7.22)\n"
          ]
        }
      ]
    },
    {
      "cell_type": "code",
      "source": [
        "!pip install wandb"
      ],
      "metadata": {
        "id": "pFmnuQ14J12I",
        "colab": {
          "base_uri": "https://localhost:8080/"
        },
        "outputId": "9677da85-c436-4f6f-f1b6-4d78caf9869c"
      },
      "execution_count": null,
      "outputs": [
        {
          "output_type": "stream",
          "name": "stdout",
          "text": [
            "Requirement already satisfied: wandb in /usr/local/lib/python3.10/dist-packages (0.15.12)\n",
            "Requirement already satisfied: Click!=8.0.0,>=7.1 in /usr/local/lib/python3.10/dist-packages (from wandb) (8.1.7)\n",
            "Requirement already satisfied: GitPython!=3.1.29,>=1.0.0 in /usr/local/lib/python3.10/dist-packages (from wandb) (3.1.40)\n",
            "Requirement already satisfied: requests<3,>=2.0.0 in /usr/local/lib/python3.10/dist-packages (from wandb) (2.31.0)\n",
            "Requirement already satisfied: psutil>=5.0.0 in /usr/local/lib/python3.10/dist-packages (from wandb) (5.9.5)\n",
            "Requirement already satisfied: sentry-sdk>=1.0.0 in /usr/local/lib/python3.10/dist-packages (from wandb) (1.33.1)\n",
            "Requirement already satisfied: docker-pycreds>=0.4.0 in /usr/local/lib/python3.10/dist-packages (from wandb) (0.4.0)\n",
            "Requirement already satisfied: PyYAML in /usr/local/lib/python3.10/dist-packages (from wandb) (6.0.1)\n",
            "Requirement already satisfied: pathtools in /usr/local/lib/python3.10/dist-packages (from wandb) (0.1.2)\n",
            "Requirement already satisfied: setproctitle in /usr/local/lib/python3.10/dist-packages (from wandb) (1.3.3)\n",
            "Requirement already satisfied: setuptools in /usr/local/lib/python3.10/dist-packages (from wandb) (67.7.2)\n",
            "Requirement already satisfied: appdirs>=1.4.3 in /usr/local/lib/python3.10/dist-packages (from wandb) (1.4.4)\n",
            "Requirement already satisfied: protobuf!=4.21.0,<5,>=3.19.0 in /usr/local/lib/python3.10/dist-packages (from wandb) (3.20.3)\n",
            "Requirement already satisfied: six>=1.4.0 in /usr/local/lib/python3.10/dist-packages (from docker-pycreds>=0.4.0->wandb) (1.16.0)\n",
            "Requirement already satisfied: gitdb<5,>=4.0.1 in /usr/local/lib/python3.10/dist-packages (from GitPython!=3.1.29,>=1.0.0->wandb) (4.0.11)\n",
            "Requirement already satisfied: charset-normalizer<4,>=2 in /usr/local/lib/python3.10/dist-packages (from requests<3,>=2.0.0->wandb) (3.2.0)\n",
            "Requirement already satisfied: idna<4,>=2.5 in /usr/local/lib/python3.10/dist-packages (from requests<3,>=2.0.0->wandb) (3.4)\n",
            "Requirement already satisfied: urllib3<3,>=1.21.1 in /usr/local/lib/python3.10/dist-packages (from requests<3,>=2.0.0->wandb) (2.0.4)\n",
            "Requirement already satisfied: certifi>=2017.4.17 in /usr/local/lib/python3.10/dist-packages (from requests<3,>=2.0.0->wandb) (2023.7.22)\n",
            "Requirement already satisfied: smmap<6,>=3.0.1 in /usr/local/lib/python3.10/dist-packages (from gitdb<5,>=4.0.1->GitPython!=3.1.29,>=1.0.0->wandb) (5.0.1)\n"
          ]
        }
      ]
    },
    {
      "cell_type": "code",
      "source": [
        "!pip install transformers\n",
        "!pip install transformers[torch]"
      ],
      "metadata": {
        "colab": {
          "base_uri": "https://localhost:8080/"
        },
        "id": "IrcpGIeCBmpL",
        "outputId": "9e8a97eb-c8a7-433b-ecb9-97175ecacc55"
      },
      "execution_count": null,
      "outputs": [
        {
          "output_type": "stream",
          "name": "stdout",
          "text": [
            "Requirement already satisfied: transformers in /usr/local/lib/python3.10/dist-packages (4.34.1)\n",
            "Requirement already satisfied: filelock in /usr/local/lib/python3.10/dist-packages (from transformers) (3.12.2)\n",
            "Requirement already satisfied: huggingface-hub<1.0,>=0.16.4 in /usr/local/lib/python3.10/dist-packages (from transformers) (0.17.3)\n",
            "Requirement already satisfied: numpy>=1.17 in /usr/local/lib/python3.10/dist-packages (from transformers) (1.23.5)\n",
            "Requirement already satisfied: packaging>=20.0 in /usr/local/lib/python3.10/dist-packages (from transformers) (23.1)\n",
            "Requirement already satisfied: pyyaml>=5.1 in /usr/local/lib/python3.10/dist-packages (from transformers) (6.0.1)\n",
            "Requirement already satisfied: regex!=2019.12.17 in /usr/local/lib/python3.10/dist-packages (from transformers) (2023.6.3)\n",
            "Requirement already satisfied: requests in /usr/local/lib/python3.10/dist-packages (from transformers) (2.31.0)\n",
            "Requirement already satisfied: tokenizers<0.15,>=0.14 in /usr/local/lib/python3.10/dist-packages (from transformers) (0.14.1)\n",
            "Requirement already satisfied: safetensors>=0.3.1 in /usr/local/lib/python3.10/dist-packages (from transformers) (0.4.0)\n",
            "Requirement already satisfied: tqdm>=4.27 in /usr/local/lib/python3.10/dist-packages (from transformers) (4.66.1)\n",
            "Requirement already satisfied: fsspec in /usr/local/lib/python3.10/dist-packages (from huggingface-hub<1.0,>=0.16.4->transformers) (2023.6.0)\n",
            "Requirement already satisfied: typing-extensions>=3.7.4.3 in /usr/local/lib/python3.10/dist-packages (from huggingface-hub<1.0,>=0.16.4->transformers) (4.5.0)\n",
            "Requirement already satisfied: charset-normalizer<4,>=2 in /usr/local/lib/python3.10/dist-packages (from requests->transformers) (3.2.0)\n",
            "Requirement already satisfied: idna<4,>=2.5 in /usr/local/lib/python3.10/dist-packages (from requests->transformers) (3.4)\n",
            "Requirement already satisfied: urllib3<3,>=1.21.1 in /usr/local/lib/python3.10/dist-packages (from requests->transformers) (2.0.4)\n",
            "Requirement already satisfied: certifi>=2017.4.17 in /usr/local/lib/python3.10/dist-packages (from requests->transformers) (2023.7.22)\n",
            "Requirement already satisfied: transformers[torch] in /usr/local/lib/python3.10/dist-packages (4.34.1)\n",
            "Requirement already satisfied: filelock in /usr/local/lib/python3.10/dist-packages (from transformers[torch]) (3.12.2)\n",
            "Requirement already satisfied: huggingface-hub<1.0,>=0.16.4 in /usr/local/lib/python3.10/dist-packages (from transformers[torch]) (0.17.3)\n",
            "Requirement already satisfied: numpy>=1.17 in /usr/local/lib/python3.10/dist-packages (from transformers[torch]) (1.23.5)\n",
            "Requirement already satisfied: packaging>=20.0 in /usr/local/lib/python3.10/dist-packages (from transformers[torch]) (23.1)\n",
            "Requirement already satisfied: pyyaml>=5.1 in /usr/local/lib/python3.10/dist-packages (from transformers[torch]) (6.0.1)\n",
            "Requirement already satisfied: regex!=2019.12.17 in /usr/local/lib/python3.10/dist-packages (from transformers[torch]) (2023.6.3)\n",
            "Requirement already satisfied: requests in /usr/local/lib/python3.10/dist-packages (from transformers[torch]) (2.31.0)\n",
            "Requirement already satisfied: tokenizers<0.15,>=0.14 in /usr/local/lib/python3.10/dist-packages (from transformers[torch]) (0.14.1)\n",
            "Requirement already satisfied: safetensors>=0.3.1 in /usr/local/lib/python3.10/dist-packages (from transformers[torch]) (0.4.0)\n",
            "Requirement already satisfied: tqdm>=4.27 in /usr/local/lib/python3.10/dist-packages (from transformers[torch]) (4.66.1)\n",
            "Requirement already satisfied: torch!=1.12.0,>=1.10 in /usr/local/lib/python3.10/dist-packages (from transformers[torch]) (2.0.1+cu118)\n",
            "Requirement already satisfied: accelerate>=0.20.3 in /usr/local/lib/python3.10/dist-packages (from transformers[torch]) (0.24.1)\n",
            "Requirement already satisfied: psutil in /usr/local/lib/python3.10/dist-packages (from accelerate>=0.20.3->transformers[torch]) (5.9.5)\n",
            "Requirement already satisfied: fsspec in /usr/local/lib/python3.10/dist-packages (from huggingface-hub<1.0,>=0.16.4->transformers[torch]) (2023.6.0)\n",
            "Requirement already satisfied: typing-extensions>=3.7.4.3 in /usr/local/lib/python3.10/dist-packages (from huggingface-hub<1.0,>=0.16.4->transformers[torch]) (4.5.0)\n",
            "Requirement already satisfied: sympy in /usr/local/lib/python3.10/dist-packages (from torch!=1.12.0,>=1.10->transformers[torch]) (1.12)\n",
            "Requirement already satisfied: networkx in /usr/local/lib/python3.10/dist-packages (from torch!=1.12.0,>=1.10->transformers[torch]) (3.1)\n",
            "Requirement already satisfied: jinja2 in /usr/local/lib/python3.10/dist-packages (from torch!=1.12.0,>=1.10->transformers[torch]) (3.1.2)\n",
            "Requirement already satisfied: triton==2.0.0 in /usr/local/lib/python3.10/dist-packages (from torch!=1.12.0,>=1.10->transformers[torch]) (2.0.0)\n",
            "Requirement already satisfied: cmake in /usr/local/lib/python3.10/dist-packages (from triton==2.0.0->torch!=1.12.0,>=1.10->transformers[torch]) (3.27.4.1)\n",
            "Requirement already satisfied: lit in /usr/local/lib/python3.10/dist-packages (from triton==2.0.0->torch!=1.12.0,>=1.10->transformers[torch]) (16.0.6)\n",
            "Requirement already satisfied: charset-normalizer<4,>=2 in /usr/local/lib/python3.10/dist-packages (from requests->transformers[torch]) (3.2.0)\n",
            "Requirement already satisfied: idna<4,>=2.5 in /usr/local/lib/python3.10/dist-packages (from requests->transformers[torch]) (3.4)\n",
            "Requirement already satisfied: urllib3<3,>=1.21.1 in /usr/local/lib/python3.10/dist-packages (from requests->transformers[torch]) (2.0.4)\n",
            "Requirement already satisfied: certifi>=2017.4.17 in /usr/local/lib/python3.10/dist-packages (from requests->transformers[torch]) (2023.7.22)\n",
            "Requirement already satisfied: MarkupSafe>=2.0 in /usr/local/lib/python3.10/dist-packages (from jinja2->torch!=1.12.0,>=1.10->transformers[torch]) (2.1.3)\n",
            "Requirement already satisfied: mpmath>=0.19 in /usr/local/lib/python3.10/dist-packages (from sympy->torch!=1.12.0,>=1.10->transformers[torch]) (1.3.0)\n"
          ]
        }
      ]
    },
    {
      "cell_type": "code",
      "source": [
        "!pip install torchaudio\n",
        "!pip install librosa\n",
        "!pip install jiwer"
      ],
      "metadata": {
        "id": "-LbktDS0YlyI",
        "colab": {
          "base_uri": "https://localhost:8080/"
        },
        "outputId": "27f8373c-5b48-4608-cffd-3b8ae7c7c241"
      },
      "execution_count": null,
      "outputs": [
        {
          "output_type": "stream",
          "name": "stdout",
          "text": [
            "Requirement already satisfied: torchaudio in /usr/local/lib/python3.10/dist-packages (2.0.2+cu118)\n",
            "Requirement already satisfied: torch==2.0.1 in /usr/local/lib/python3.10/dist-packages (from torchaudio) (2.0.1+cu118)\n",
            "Requirement already satisfied: filelock in /usr/local/lib/python3.10/dist-packages (from torch==2.0.1->torchaudio) (3.12.2)\n",
            "Requirement already satisfied: typing-extensions in /usr/local/lib/python3.10/dist-packages (from torch==2.0.1->torchaudio) (4.5.0)\n",
            "Requirement already satisfied: sympy in /usr/local/lib/python3.10/dist-packages (from torch==2.0.1->torchaudio) (1.12)\n",
            "Requirement already satisfied: networkx in /usr/local/lib/python3.10/dist-packages (from torch==2.0.1->torchaudio) (3.1)\n",
            "Requirement already satisfied: jinja2 in /usr/local/lib/python3.10/dist-packages (from torch==2.0.1->torchaudio) (3.1.2)\n",
            "Requirement already satisfied: triton==2.0.0 in /usr/local/lib/python3.10/dist-packages (from torch==2.0.1->torchaudio) (2.0.0)\n",
            "Requirement already satisfied: cmake in /usr/local/lib/python3.10/dist-packages (from triton==2.0.0->torch==2.0.1->torchaudio) (3.27.4.1)\n",
            "Requirement already satisfied: lit in /usr/local/lib/python3.10/dist-packages (from triton==2.0.0->torch==2.0.1->torchaudio) (16.0.6)\n",
            "Requirement already satisfied: MarkupSafe>=2.0 in /usr/local/lib/python3.10/dist-packages (from jinja2->torch==2.0.1->torchaudio) (2.1.3)\n",
            "Requirement already satisfied: mpmath>=0.19 in /usr/local/lib/python3.10/dist-packages (from sympy->torch==2.0.1->torchaudio) (1.3.0)\n",
            "Requirement already satisfied: librosa in /usr/local/lib/python3.10/dist-packages (0.10.1)\n",
            "Requirement already satisfied: audioread>=2.1.9 in /usr/local/lib/python3.10/dist-packages (from librosa) (3.0.0)\n",
            "Requirement already satisfied: numpy!=1.22.0,!=1.22.1,!=1.22.2,>=1.20.3 in /usr/local/lib/python3.10/dist-packages (from librosa) (1.23.5)\n",
            "Requirement already satisfied: scipy>=1.2.0 in /usr/local/lib/python3.10/dist-packages (from librosa) (1.11.2)\n",
            "Requirement already satisfied: scikit-learn>=0.20.0 in /usr/local/lib/python3.10/dist-packages (from librosa) (1.2.2)\n",
            "Requirement already satisfied: joblib>=0.14 in /usr/local/lib/python3.10/dist-packages (from librosa) (1.3.2)\n",
            "Requirement already satisfied: decorator>=4.3.0 in /usr/local/lib/python3.10/dist-packages (from librosa) (4.4.2)\n",
            "Requirement already satisfied: numba>=0.51.0 in /usr/local/lib/python3.10/dist-packages (from librosa) (0.56.4)\n",
            "Requirement already satisfied: soundfile>=0.12.1 in /usr/local/lib/python3.10/dist-packages (from librosa) (0.12.1)\n",
            "Requirement already satisfied: pooch>=1.0 in /usr/local/lib/python3.10/dist-packages (from librosa) (1.7.0)\n",
            "Requirement already satisfied: soxr>=0.3.2 in /usr/local/lib/python3.10/dist-packages (from librosa) (0.3.6)\n",
            "Requirement already satisfied: typing-extensions>=4.1.1 in /usr/local/lib/python3.10/dist-packages (from librosa) (4.5.0)\n",
            "Requirement already satisfied: lazy-loader>=0.1 in /usr/local/lib/python3.10/dist-packages (from librosa) (0.3)\n",
            "Requirement already satisfied: msgpack>=1.0 in /usr/local/lib/python3.10/dist-packages (from librosa) (1.0.5)\n",
            "Requirement already satisfied: llvmlite<0.40,>=0.39.0dev0 in /usr/local/lib/python3.10/dist-packages (from numba>=0.51.0->librosa) (0.39.1)\n",
            "Requirement already satisfied: setuptools in /usr/local/lib/python3.10/dist-packages (from numba>=0.51.0->librosa) (67.7.2)\n",
            "Requirement already satisfied: platformdirs>=2.5.0 in /usr/local/lib/python3.10/dist-packages (from pooch>=1.0->librosa) (3.10.0)\n",
            "Requirement already satisfied: packaging>=20.0 in /usr/local/lib/python3.10/dist-packages (from pooch>=1.0->librosa) (23.1)\n",
            "Requirement already satisfied: requests>=2.19.0 in /usr/local/lib/python3.10/dist-packages (from pooch>=1.0->librosa) (2.31.0)\n",
            "Requirement already satisfied: threadpoolctl>=2.0.0 in /usr/local/lib/python3.10/dist-packages (from scikit-learn>=0.20.0->librosa) (3.2.0)\n",
            "Requirement already satisfied: cffi>=1.0 in /usr/local/lib/python3.10/dist-packages (from soundfile>=0.12.1->librosa) (1.15.1)\n",
            "Requirement already satisfied: pycparser in /usr/local/lib/python3.10/dist-packages (from cffi>=1.0->soundfile>=0.12.1->librosa) (2.21)\n",
            "Requirement already satisfied: charset-normalizer<4,>=2 in /usr/local/lib/python3.10/dist-packages (from requests>=2.19.0->pooch>=1.0->librosa) (3.2.0)\n",
            "Requirement already satisfied: idna<4,>=2.5 in /usr/local/lib/python3.10/dist-packages (from requests>=2.19.0->pooch>=1.0->librosa) (3.4)\n",
            "Requirement already satisfied: urllib3<3,>=1.21.1 in /usr/local/lib/python3.10/dist-packages (from requests>=2.19.0->pooch>=1.0->librosa) (2.0.4)\n",
            "Requirement already satisfied: certifi>=2017.4.17 in /usr/local/lib/python3.10/dist-packages (from requests>=2.19.0->pooch>=1.0->librosa) (2023.7.22)\n",
            "Requirement already satisfied: jiwer in /usr/local/lib/python3.10/dist-packages (3.0.3)\n",
            "Requirement already satisfied: click<9.0.0,>=8.1.3 in /usr/local/lib/python3.10/dist-packages (from jiwer) (8.1.7)\n",
            "Requirement already satisfied: rapidfuzz<4,>=3 in /usr/local/lib/python3.10/dist-packages (from jiwer) (3.4.0)\n"
          ]
        }
      ]
    },
    {
      "cell_type": "code",
      "source": [
        "!pip install unidecode"
      ],
      "metadata": {
        "colab": {
          "base_uri": "https://localhost:8080/"
        },
        "id": "1jKGMBPBBwBu",
        "outputId": "dd8fc4cf-8e1b-48e5-c23c-b6967743f22f"
      },
      "execution_count": null,
      "outputs": [
        {
          "output_type": "stream",
          "name": "stdout",
          "text": [
            "Collecting unidecode\n",
            "  Downloading Unidecode-1.3.7-py3-none-any.whl (235 kB)\n",
            "\u001b[2K     \u001b[90m━━━━━━━━━━━━━━━━━━━━━━━━━━━━━━━━━━━━━━━\u001b[0m \u001b[32m235.5/235.5 kB\u001b[0m \u001b[31m3.6 MB/s\u001b[0m eta \u001b[36m0:00:00\u001b[0m\n",
            "\u001b[?25hInstalling collected packages: unidecode\n",
            "Successfully installed unidecode-1.3.7\n"
          ]
        }
      ]
    },
    {
      "cell_type": "code",
      "source": [
        "from huggingface_hub import notebook_login\n",
        "\n",
        "notebook_login()"
      ],
      "metadata": {
        "colab": {
          "base_uri": "https://localhost:8080/",
          "height": 145,
          "referenced_widgets": [
            "981d89ee7667455cbc1d2b8e6f01f574",
            "8dbbc744c79e4c53b7b7f39f8880ef0f",
            "5f1aa5488a4b4a72a870676be3042d0a",
            "93b0aee244e94d52a49a5f00c8a88383",
            "ec219c30ef9845cd84186ea9067ea2fb",
            "ee262966bb0341e8abe9df827b94c864",
            "f4c98c27fe864ca8b8ef80e95ef90713",
            "b876794d9ca140039fcac70795b7c738",
            "d5470588c14d4e94b26cd988d889f361",
            "db36506f7daa4db08f651691b179cbde",
            "e7e2f644d1074ec3af788751663df74f",
            "b228c62455df49e6af5ae7a7d4eb79f0",
            "0374c825c81241f29d09852e330715df",
            "f41be2feec1c4d1b9e76876e6361c72f",
            "32123de74ce745e3b0ed359e5f12c663",
            "d551a288828747c5bc75cd49b8a39abc",
            "6a09e7f9f5b646f4a979485831fc31e5",
            "b5adf499c1534040bc3bc2978187f3c4",
            "2eea17a40600450f9bfca03f291f71d5",
            "ca272f93678d4d0581fa577d7b0cfaa5",
            "29f2b674ccba459fad45c6fc9a3f2daa",
            "9fcd93556fc240c598e5464b59046ea2",
            "beb70f18c193415ba6ea89c936df8adb",
            "0604676493fd495ea4a2c0d22b0debad",
            "47cb81a5e2084277bd4f60b9d1835a81",
            "067a91013b9e414bbeedfbce8fa7acf8",
            "e4ce669f3e9c4426a87fdf004fb2cbf9",
            "67df53f4550f47a1998229b32a855b53",
            "6e4597a929e5482e97ea0e61457f515d",
            "89b160aee7a6447d8f8d1c1a131921c6",
            "e7e1e84a20bc4dae94ce6bc142af3f3e",
            "899063bdd654468f9c14c50f3f517d23"
          ]
        },
        "id": "h9lK8Ns_-So8",
        "outputId": "353c8467-e34d-45be-c791-734ad9bb7c90"
      },
      "execution_count": null,
      "outputs": [
        {
          "output_type": "display_data",
          "data": {
            "text/plain": [
              "VBox(children=(HTML(value='<center> <img\\nsrc=https://huggingface.co/front/assets/huggingface_logo-noborder.sv…"
            ],
            "application/vnd.jupyter.widget-view+json": {
              "version_major": 2,
              "version_minor": 0,
              "model_id": "981d89ee7667455cbc1d2b8e6f01f574"
            }
          },
          "metadata": {}
        }
      ]
    },
    {
      "cell_type": "code",
      "source": [
        "!sudo apt install git-lfs"
      ],
      "metadata": {
        "id": "xBTw2-Lx-TFD",
        "colab": {
          "base_uri": "https://localhost:8080/"
        },
        "outputId": "27283d09-2ef9-4701-9a89-f47d80a0bc35"
      },
      "execution_count": null,
      "outputs": [
        {
          "output_type": "stream",
          "name": "stdout",
          "text": [
            "Reading package lists... Done\n",
            "Building dependency tree... Done\n",
            "Reading state information... Done\n",
            "git-lfs is already the newest version (3.0.2-1ubuntu0.2).\n",
            "0 upgraded, 0 newly installed, 0 to remove and 18 not upgraded.\n"
          ]
        }
      ]
    },
    {
      "cell_type": "code",
      "source": [
        "from datasets import load_dataset, load_metric, Audio\n",
        "\n",
        "common_voice_train = load_dataset(\"mozilla-foundation/common_voice_13_0\", \"gn\", split=\"train+validation\", token=True)\n",
        "# common_voice_train = load_dataset(\"mozilla-foundation/common_voice_13_0\", \"pt\", split=\"train+validation\", token=True) # Portugese\n",
        "\n",
        "common_voice_test = load_dataset(\"mozilla-foundation/common_voice_13_0\", \"gn\", split=\"test\", token=True)"
      ],
      "metadata": {
        "id": "RZh-up-4-nxs"
      },
      "execution_count": null,
      "outputs": []
    },
    {
      "cell_type": "code",
      "source": [
        "# from datasets import concatenate_datasets\n",
        "# common_voice_train = concatenate_datasets([common_voice_train, common_voice_train_gn])"
      ],
      "metadata": {
        "id": "Lol0wBjcl7Wq"
      },
      "execution_count": null,
      "outputs": []
    },
    {
      "cell_type": "code",
      "source": [
        "common_voice_train = common_voice_train.remove_columns([\"accent\", \"age\", \"client_id\", \"down_votes\", \"gender\", \"locale\", \"segment\", \"up_votes\"])\n",
        "common_voice_test = common_voice_test.remove_columns([\"accent\", \"age\", \"client_id\", \"down_votes\", \"gender\", \"locale\", \"segment\", \"up_votes\"])"
      ],
      "metadata": {
        "id": "qal9lO2J-smZ"
      },
      "execution_count": null,
      "outputs": []
    },
    {
      "cell_type": "code",
      "source": [
        "from datasets import ClassLabel\n",
        "import random\n",
        "import pandas as pd\n",
        "from IPython.display import display, HTML\n",
        "\n",
        "def show_random_elements(dataset, num_examples=10):\n",
        "    assert num_examples <= len(dataset), \"Can't pick more elements than there are in the dataset.\"\n",
        "    picks = []\n",
        "    for _ in range(num_examples):\n",
        "        pick = random.randint(0, len(dataset)-1)\n",
        "        while pick in picks:\n",
        "            pick = random.randint(0, len(dataset)-1)\n",
        "        picks.append(pick)\n",
        "\n",
        "    df = pd.DataFrame(dataset[picks])\n",
        "    display(HTML(df.to_html()))"
      ],
      "metadata": {
        "id": "1_vI4QUC_xnY"
      },
      "execution_count": null,
      "outputs": []
    },
    {
      "cell_type": "code",
      "source": [
        "show_random_elements(common_voice_train)"
      ],
      "metadata": {
        "colab": {
          "base_uri": "https://localhost:8080/",
          "height": 1000
        },
        "id": "DWlx1ZNNAMup",
        "outputId": "fb3452bb-2899-4669-dcf2-2946adf0619f"
      },
      "execution_count": null,
      "outputs": [
        {
          "output_type": "display_data",
          "data": {
            "text/plain": [
              "<IPython.core.display.HTML object>"
            ],
            "text/html": [
              "<table border=\"1\" class=\"dataframe\">\n",
              "  <thead>\n",
              "    <tr style=\"text-align: right;\">\n",
              "      <th></th>\n",
              "      <th>path</th>\n",
              "      <th>audio</th>\n",
              "      <th>sentence</th>\n",
              "      <th>variant</th>\n",
              "    </tr>\n",
              "  </thead>\n",
              "  <tbody>\n",
              "    <tr>\n",
              "      <th>0</th>\n",
              "      <td>/root/.cache/huggingface/datasets/downloads/extracted/0c6fd75314d63b1108fe80822106663f75943acb9de92ee5f5fc684145d8a0a9/gn_train_0/common_voice_gn_26548043.mp3</td>\n",
              "      <td>{'path': '/root/.cache/huggingface/datasets/downloads/extracted/0c6fd75314d63b1108fe80822106663f75943acb9de92ee5f5fc684145d8a0a9/gn_train_0/common_voice_gn_26548043.mp3', 'array': [7.105427357601002e-15, -8.526512829121202e-13, -9.947598300641403e-13, 5.684341886080802e-14, 1.0089706847793423e-12, 1.2434497875801753e-12, 9.947598300641403e-13, 6.821210263296962e-13, 4.689582056016661e-13, 6.963318810448982e-13, 1.0231815394945443e-12, 3.552713678800501e-13, -6.252776074688882e-13, -6.252776074688882e-13, 2.8421709430404007e-13, 2.4158453015843406e-12, 4.803268893738277e-12, 4.604316927725449e-12, 1.3642420526593924e-12, -2.1316282072803006e-12, -3.0127011996228248e-12, -1.1937117960769683e-12, 1.5063505998114124e-12, 2.1742607714259066e-12, -8.526512829121202e-14, -2.6716406864579767e-12, -1.7337242752546445e-12, 2.3874235921539366e-12, 5.314859663485549e-12, 3.510081114654895e-12, -3.950617610826157e-12, -1.290345608140342e-11, -1.63140612130519e-11, -1.1681322575896047e-11, -2.6147972675971687e-12, 4.490630090003833e-12, 4.405364961712621e-12, -2.3590018827235326e-12, -9.79127889877418e-12, -1.1510792319313623e-11, -9.00968188943807e-12, -9.606537787476555e-12, -1.77209358298569e-11, -2.665956344571896e-11, -2.3177904040494468e-11, -1.9966250874858815e-12, 2.2708945834892802e-11, 2.8137492336099967e-11, 6.494360604847316e-12, -2.376054908381775e-11, -3.622346866904991e-11, -2.262368070660159e-11, 1.3216094885137863e-12, 1.667643800828955e-11, 2.1316282072803006e-11, 2.4485302674293052e-11, 2.7768010113504715e-11, 2.1472601474670228e-11, 4.845901457883883e-12, -1.6697754290362354e-12, 2.1664448013325455e-11, 6.141931407910306e-11, 7.626255182913155e-11, 4.551736765279202e-11, 2.4726887204451486e-12, 1.3926637620897964e-12, 5.4370730140362866e-11, 1.149373929365538e-10, 1.2988721209694631e-10, 9.724487881612731e-11, 5.977085493213963e-11, 4.8487436288269237e-11, 5.114486612001201e-11, 4.730082991954987e-11, 5.2011728257639334e-11, 9.6449070952076e-11, 1.6646595213387627e-10, 1.9394974515307695e-10, 1.340936250926461e-10, 3.359446054673754e-11, -1.1162626378791174e-11, 3.83124643121846e-11, 1.2070699995092582e-10, 1.4835421779935132e-10, 1.0217604540230241e-10, 3.802824721788056e-11, 1.2875034371973015e-11, 3.0460967082035495e-11, 6.515676886920119e-11, 1.0415135420771549e-10, 1.3588419278676156e-10, 1.1354472917446401e-10, -1.1525003174028825e-11, -1.9753088054130785e-10, -2.9668001388927223e-10, -1.8815171642927453e-10, 7.3725914262468e-11, 2.766569195955526e-10, 2.447464453325665e-10, 9.038103598868474e-12, ...], 'sampling_rate': 48000}</td>\n",
              "      <td>iñirũnguéra ombojýkuri so'o</td>\n",
              "      <td></td>\n",
              "    </tr>\n",
              "    <tr>\n",
              "      <th>1</th>\n",
              "      <td>/root/.cache/huggingface/datasets/downloads/extracted/0c6fd75314d63b1108fe80822106663f75943acb9de92ee5f5fc684145d8a0a9/gn_train_0/common_voice_gn_34296870.mp3</td>\n",
              "      <td>{'path': '/root/.cache/huggingface/datasets/downloads/extracted/0c6fd75314d63b1108fe80822106663f75943acb9de92ee5f5fc684145d8a0a9/gn_train_0/common_voice_gn_34296870.mp3', 'array': [-1.6543612251060553e-23, -6.617444900424222e-24, -1.406207041340147e-23, -2.150669592637872e-23, -1.468245587281624e-23, -1.0132962503774589e-23, 1.34416849539867e-23, 5.624828165360588e-23, 2.9778502051908996e-23, 8.271806125530277e-24, 2.481541837659083e-23, 1.3234889800848443e-23, 1.0339757656912846e-23, 1.8663262570727687e-23, 8.06501097239202e-24, 2.4298430493745188e-23, 3.5155176033503676e-24, -3.980806697911446e-24, 5.629998044189045e-23, 1.9955732277841793e-23, -1.3131492224279314e-23, 5.686866711302065e-25, 1.5096046179092755e-23, -2.9778502051908996e-23, -1.819797347616661e-23, -1.1787323728880644e-23, -4.042845243852923e-23, -1.8611563782443123e-24, -7.858215819253763e-24, -1.943874439499615e-23, -3.226004388956808e-23, 1.6543612251060553e-24, -8.116709760676584e-24, -3.3087224502121107e-23, -4.632211430296955e-23, -3.308722450212111e-24, 1.3234889800848443e-23, 2.3161057151484775e-23, 1.9852334701272664e-23, 2.6469779601696886e-23, 1.3234889800848443e-23, 3.3087224502121107e-23, 7.940933880509066e-23, 3.3087224502121107e-23, 9.926167350636332e-24, -1.4992648602523627e-23, 2.3988237764037803e-23, 3.4172899056096956e-23, -2.481541837659083e-24, -6.4106497472859645e-24, 6.824240053562478e-24, 0.0, -2.5745996565712986e-23, -3.10709717590231e-23, 2.0679515313825692e-24, -8.788794008375919e-24, -2.734865900253448e-23, 1.9645539548134407e-24, 1.9955732277841793e-23, 1.4475660719677984e-24, 1.6233419521353168e-23, 4.66840058209615e-23, 3.6240850587479525e-23, 4.290999427618831e-24, 2.812414082680294e-23, -1.2562805553149108e-23, -1.7267395287044453e-23, -1.468245587281624e-23, -9.738759243104787e-24, -1.0339757656912846e-23, -2.481541837659083e-24, -7.70311945440007e-24, 2.9985297205047253e-23, 3.825710333057753e-23, 8.271806125530277e-24, 2.481541837659083e-23, 2.2954261998346518e-23, 2.7090165061111656e-23, -1.406207041340147e-23, -2.740035779081904e-24, 2.0265925007549178e-23, -2.8537731133079455e-23, -3.029548993475464e-23, 4.549493369041652e-24, 2.150669592637872e-23, -2.936491174563248e-23, -1.9852334701272664e-23, -4.963083675318166e-24, -7.444625512977249e-24, -8.271806125530277e-24, -2.895132143935597e-24, -1.2407709188295415e-23, -3.143286327701505e-23, -1.2821299494571929e-23, 1.1580528575742387e-23, 6.617444900424222e-24, -4.1359030627651384e-24, 2.6469779601696886e-23, -7.940933880509066e-23, 1.3234889800848443e-23, ...], 'sampling_rate': 48000}</td>\n",
              "      <td>Omaña henonde gotyo, ha mba'eve ndohechái.</td>\n",
              "      <td></td>\n",
              "    </tr>\n",
              "    <tr>\n",
              "      <th>2</th>\n",
              "      <td>/root/.cache/huggingface/datasets/downloads/extracted/b7a837b1b375880b03ea21f2646d99a045652dd7c39303f98e2798a92af23254/gn_dev_0/common_voice_gn_27531267.mp3</td>\n",
              "      <td>{'path': '/root/.cache/huggingface/datasets/downloads/extracted/b7a837b1b375880b03ea21f2646d99a045652dd7c39303f98e2798a92af23254/gn_dev_0/common_voice_gn_27531267.mp3', 'array': [3.637978807091713e-12, 3.637978807091713e-12, 6.821210263296962e-12, 9.094947017729282e-12, 9.094947017729282e-12, 5.4569682106375694e-12, 8.185452315956354e-12, 1.1823431123048067e-11, 1.000444171950221e-11, 1.6370904631912708e-11, 2.9103830456733704e-11, 3.3651303965598345e-11, 2.637534635141492e-11, 2.4556356947869062e-11, 2.319211489520967e-11, 1.6370904631912708e-11, -2.7284841053187847e-12, -8.185452315956354e-12, 8.640199666842818e-12, 4.001776687800884e-11, 6.45741238258779e-11, 5.093170329928398e-11, 2.1827872842550278e-11, -9.094947017729282e-13, 3.637978807091713e-12, 1.8189894035458565e-12, -2.4783730623312294e-11, -7.617018127348274e-11, -1.0550138540565968e-10, -8.049028110690415e-11, -1.8189894035458565e-11, 2.8194335754960775e-11, 3.637978807091713e-12, -5.820766091346741e-11, -1.1550582712516189e-10, -1.368789526168257e-10, -1.502939994679764e-10, -1.8144419300369918e-10, -2.2112089936854318e-10, -2.3374013835564256e-10, -1.9542767404345796e-10, -1.2096279533579946e-10, -5.547917680814862e-11, -2.1827872842550278e-11, -2.5920599000528455e-11, -5.275069270282984e-11, -2.091837814077735e-11, 1.241460267920047e-10, 2.964952727779746e-10, 3.10592440655455e-10, 1.0891199053730816e-10, -1.4415491023100913e-10, -2.28283170145005e-10, -1.2528289516922086e-10, 2.7284841053187847e-12, 6.957634468562901e-11, 2.198703441536054e-10, 5.652509571518749e-10, 8.908500603865832e-10, 8.894858183339238e-10, 6.052687240298837e-10, 4.1609382606111467e-10, 5.44787326361984e-10, 8.126335160341114e-10, 9.181349014397711e-10, 8.421920938417315e-10, 7.521521183662117e-10, 5.820766091346741e-10, 1.0913936421275139e-10, -5.607034836430103e-10, -1.001353666651994e-09, -1.0959411156363785e-09, -1.2005330063402653e-09, -1.5370460459962487e-09, -1.7789716366678476e-09, -1.4424585970118642e-09, -6.266418495215476e-10, 7.366907084360719e-11, 4.3792169890366495e-10, 8.408278517890722e-10, 1.4692886907141656e-09, 1.8171704141423106e-09, 1.4724719221703708e-09, 9.995346772484481e-10, 1.2605596566572785e-09, 2.0668267097789794e-09, 2.260549081256613e-09, 1.3033059076406062e-09, 1.0459189070388675e-11, -6.775735528208315e-10, -9.36779542826116e-10, -1.4679244486615062e-09, -2.066371962428093e-09, -1.686203177087009e-09, -9.640643838793039e-11, 1.420630724169314e-09, 1.5807017916813493e-09, 7.09405867382884e-10, 3.637978807091713e-12, -1.3460521586239338e-10, ...], 'sampling_rate': 48000}</td>\n",
              "      <td>Ha ndaikatúi oĩ hendive.</td>\n",
              "      <td></td>\n",
              "    </tr>\n",
              "    <tr>\n",
              "      <th>3</th>\n",
              "      <td>/root/.cache/huggingface/datasets/downloads/extracted/0c6fd75314d63b1108fe80822106663f75943acb9de92ee5f5fc684145d8a0a9/gn_train_0/common_voice_gn_31865734.mp3</td>\n",
              "      <td>{'path': '/root/.cache/huggingface/datasets/downloads/extracted/0c6fd75314d63b1108fe80822106663f75943acb9de92ee5f5fc684145d8a0a9/gn_train_0/common_voice_gn_31865734.mp3', 'array': [-4.263256414560601e-14, -2.7000623958883807e-13, -1.4210854715202004e-13, 1.1723955140041653e-13, 0.0, -2.984279490192421e-13, -2.7000623958883807e-13, 3.481659405224491e-13, 8.029132914089132e-13, 4.725109192804666e-13, -5.684341886080801e-13, -1.2292389328649733e-12, -7.176481631177012e-13, 7.105427357601002e-14, 1.4210854715202004e-13, 4.263256414560601e-14, 4.476419235288631e-13, 1.1084466677857563e-12, 9.023892744153272e-13, -5.044853423896711e-13, -1.5560885913146194e-12, -7.034373084024992e-13, 1.3855583347321954e-12, 1.8758328224066645e-12, -4.263256414560601e-14, -2.2168933355715126e-12, -1.6626700016786344e-12, 1.2185807918285718e-12, 2.6716406864579767e-12, 7.744915819785092e-13, -2.4513724383723456e-12, -3.225864020350855e-12, -1.6768808563938364e-12, -7.034373084024992e-13, -1.4352963262354024e-12, -4.831690603168681e-13, 4.263256414560601e-12, 8.043343768804334e-12, 3.0411229090532288e-12, -8.071765478234738e-12, -1.2846612662542611e-11, -5.314859663485549e-12, 5.300648808770347e-12, 6.551204023708124e-12, -5.400124791776761e-13, -3.524291969370097e-12, 2.8137492336099967e-12, 7.204903340607416e-12, 2.6290081223123707e-13, -7.569056492684467e-12, -2.319922032256727e-12, 7.773337529215496e-12, 3.0411229090532288e-12, -1.2391865311656147e-11, -1.3244516594568267e-11, 7.58859641791787e-12, 2.2538415578310378e-11, 9.00968188943807e-12, -1.2050804798491299e-11, -3.922195901395753e-12, 2.5792701308091637e-11, 3.077005317209114e-11, -1.552535877635819e-12, -2.6574298317427747e-11, -1.0942358130705543e-11, 1.3429257705865894e-11, -1.8900436771218665e-12, -4.247979745741759e-11, -4.6853187996021006e-11, 3.4283687000424834e-13, 4.3435477437014924e-11, 4.179412371740909e-11, 2.6229685090584098e-11, 3.387867764104158e-11, 3.731770448212046e-11, -4.064304448547773e-12, -5.7482907322992105e-11, -5.1301185521879233e-11, 8.618883384770015e-12, 3.271338755439501e-11, -1.723776676954003e-11, -6.119194040365983e-11, -2.4279245280922623e-11, 4.125411123823142e-11, 3.8401282154154615e-11, -1.432454155292362e-11, -1.0771827874123119e-11, 6.617995040869573e-11, 1.0240341907774564e-10, 2.4058977032836992e-11, -7.682388059038203e-11, -7.059952622512355e-11, 2.0321522242738865e-11, 6.52278231427772e-11, 2.9757529773632996e-11, 1.1894485396624077e-11, 6.281197784119286e-11, 9.750067420100095e-11, 4.236255790601717e-11, -2.637534635141492e-11, ...], 'sampling_rate': 48000}</td>\n",
              "      <td>Ña Antonia katu oñembotavyeténte chuguikuéra.</td>\n",
              "      <td></td>\n",
              "    </tr>\n",
              "    <tr>\n",
              "      <th>4</th>\n",
              "      <td>/root/.cache/huggingface/datasets/downloads/extracted/0c6fd75314d63b1108fe80822106663f75943acb9de92ee5f5fc684145d8a0a9/gn_train_0/common_voice_gn_34152328.mp3</td>\n",
              "      <td>{'path': '/root/.cache/huggingface/datasets/downloads/extracted/0c6fd75314d63b1108fe80822106663f75943acb9de92ee5f5fc684145d8a0a9/gn_train_0/common_voice_gn_34152328.mp3', 'array': [-5.684341886080802e-14, -1.4210854715202004e-14, 8.810729923425242e-13, 6.608047442568932e-13, -1.6342482922482304e-12, -3.552713678800501e-12, -3.0411229090532288e-12, -7.389644451905042e-13, 1.0231815394945443e-12, 5.115907697472721e-13, -1.4779288903810084e-12, -1.7905676941154525e-12, 1.1581846592889633e-12, 3.865352482534945e-12, 3.353761712787673e-12, 1.0800249583553523e-12, 0.0, 2.2168933355715126e-12, 5.5990767577895895e-12, 5.9117155615240335e-12, 1.7337242752546445e-12, -2.2737367544323206e-12, -2.0463630789890885e-12, -4.121147867408581e-13, 5.684341886080802e-14, 2.5579538487363607e-13, 3.183231456205249e-12, 4.035882739117369e-12, -2.0463630789890885e-12, -1.2050804798491299e-11, -1.4779288903810084e-11, -6.59383658785373e-12, 7.389644451905042e-13, -4.433786671143025e-12, -1.750777300912887e-11, -2.1458390619955026e-11, -8.469669410260394e-12, 9.833911462919787e-12, 1.1340262062731199e-11, -5.172751116333529e-12, -1.3642420526593924e-11, 1.0658141036401503e-11, 5.377387424232438e-11, 7.139533408917487e-11, 3.765876499528531e-11, -1.4992451724538114e-11, -2.5977442419389263e-11, 1.325872744928347e-11, 3.916511559509672e-11, 3.865352482534945e-12, -4.700950739788823e-11, -3.586819730116986e-11, 3.1235458664014004e-11, 6.281197784119286e-11, 2.2879476091475226e-12, -9.811174095375463e-11, -1.3783107988274423e-10, -7.844391802791506e-11, 3.723243935382925e-11, 1.4054535313334782e-10, 1.6939338820520788e-10, 8.401457307627425e-11, -6.986056177993305e-11, -1.518110082088242e-10, -7.253220246639103e-11, 7.332801033044234e-11, 1.0726353139034472e-10, -1.2278178473934531e-11, -1.4708234630234074e-10, -1.5660361896152608e-10, -4.0671466194908135e-11, 1.0754774848464876e-10, 2.0622792362701148e-10, 1.9680612695083255e-10, 4.132516551180743e-11, -1.7956836018129252e-10, -2.540048171795206e-10, -7.631228982063476e-11, 1.3722001312999055e-10, 6.423306331271306e-11, -2.802664766932139e-10, -5.046558726462536e-10, -3.1863578442425933e-10, 1.2087753020750824e-10, 4.362163963378407e-10, 4.311431212045136e-10, 1.5714363144070376e-10, -2.3277380023500882e-10, -5.137508196639828e-10, -4.397691100166412e-10, -2.148681232938543e-11, 3.376499080331996e-10, 2.5644908419053536e-10, -9.212186569129699e-11, -1.666649040998891e-10, 1.6493117982463446e-10, 3.7826453080924693e-10, 5.189804141991772e-11, -4.4212811189936474e-10, -3.9462122458644444e-10, ...], 'sampling_rate': 48000}</td>\n",
              "      <td>Hendive ndaipóri aichejáranga</td>\n",
              "      <td></td>\n",
              "    </tr>\n",
              "    <tr>\n",
              "      <th>5</th>\n",
              "      <td>/root/.cache/huggingface/datasets/downloads/extracted/0c6fd75314d63b1108fe80822106663f75943acb9de92ee5f5fc684145d8a0a9/gn_train_0/common_voice_gn_33893663.mp3</td>\n",
              "      <td>{'path': '/root/.cache/huggingface/datasets/downloads/extracted/0c6fd75314d63b1108fe80822106663f75943acb9de92ee5f5fc684145d8a0a9/gn_train_0/common_voice_gn_33893663.mp3', 'array': [7.958078640513122e-13, 1.8189894035458565e-12, 2.5863755581667647e-12, 2.2737367544323206e-12, 1.7621459846850485e-12, 2.9558577807620168e-12, 5.5706550483591855e-12, 5.229594535194337e-12, 4.774847184307873e-12, 6.366462912410498e-12, 8.185452315956354e-12, 7.673861546209082e-12, 9.15179043659009e-12, 1.2931877790833823e-11, 1.4154011296341196e-11, 1.0459189070388675e-11, 6.0254023992456496e-12, 8.753886504564434e-12, 2.0463630789890885e-11, 2.9331204132176936e-11, 2.7569058147491887e-11, 2.0122570276726037e-11, 1.77351466845721e-11, 1.4665602066088468e-11, 1.0231815394945443e-12, -1.6257217794191092e-11, -2.55226950685028e-11, -3.1661784305470064e-11, -4.6128434405545704e-11, -5.95719029661268e-11, -5.184119800105691e-11, -2.913225216616411e-11, -2.4101609596982598e-11, -5.1954884838778526e-11, -8.08739741842146e-11, -7.784706212987658e-11, -5.474021236295812e-11, -5.0590642786119133e-11, -7.196376827778295e-11, -9.185896487906575e-11, -9.265477274311706e-11, -9.22000253922306e-11, -9.796963240660261e-11, -8.694200914760586e-11, -5.3660187404602766e-11, -3.8198777474462986e-11, -6.048139766789973e-11, -6.934897101018578e-11, -1.2107648217352107e-11, 9.282530299969949e-11, 1.7507773009128869e-10, 1.9190338207408786e-10, 1.6416379367001355e-10, 1.3108092389302328e-10, 1.1300471669528633e-10, 1.2664713722188026e-10, 1.921307557495311e-10, 2.750084604485892e-10, 2.845013113983441e-10, 1.993498699448537e-10, 1.2022383089060895e-10, 1.2784084901795723e-10, 1.5137402442633174e-10, 6.87805368215777e-11, -1.0976464182022028e-10, -2.361275619477965e-10, -2.191882231272757e-10, -1.4870238373987377e-10, -1.6325429896824062e-10, -2.575006874394603e-10, -3.119566827081144e-10, -2.914930519182235e-10, -2.90754087473033e-10, -3.702211870404426e-10, -4.362163963378407e-10, -3.738023224286735e-10, -2.5147528504021466e-10, -2.773958840407431e-10, -5.007905201637186e-10, -6.465370461228304e-10, -4.007461029686965e-10, 1.468833943363279e-10, 5.265974323265254e-10, 4.596358849084936e-10, 2.331717041670345e-10, 3.1809577194508165e-10, 7.231619747471996e-10, 9.85664883046411e-10, 8.091092240647413e-10, 4.4661874198936857e-10, 3.504965206957422e-10, 6.091909199312795e-10, 9.300720194005407e-10, 1.0417124940431677e-09, 8.844835974741727e-10, 4.793037078343332e-10, -9.509903975413181e-11, -5.589413376583252e-10, -5.507843070517993e-10, -5.729816621169448e-11, ...], 'sampling_rate': 48000}</td>\n",
              "      <td>upehaguére oñepyrũ omymbajukareipa</td>\n",
              "      <td></td>\n",
              "    </tr>\n",
              "    <tr>\n",
              "      <th>6</th>\n",
              "      <td>/root/.cache/huggingface/datasets/downloads/extracted/0c6fd75314d63b1108fe80822106663f75943acb9de92ee5f5fc684145d8a0a9/gn_train_0/common_voice_gn_34150200.mp3</td>\n",
              "      <td>{'path': '/root/.cache/huggingface/datasets/downloads/extracted/0c6fd75314d63b1108fe80822106663f75943acb9de92ee5f5fc684145d8a0a9/gn_train_0/common_voice_gn_34150200.mp3', 'array': [-2.8421709430404007e-13, -5.002220859751105e-12, -6.963318810448982e-12, -2.8137492336099967e-12, -1.4210854715202004e-12, -2.5011104298755527e-12, 2.2737367544323206e-13, 5.6843418860808015e-12, 6.423306331271306e-12, 2.4442670110147446e-12, -1.0800249583553523e-12, 1.1368683772161603e-13, 3.865352482534945e-12, 2.6716406864579767e-12, -1.1368683772161603e-12, 4.490630090003833e-12, 1.5120349416974932e-11, 1.1368683772161603e-11, -7.02016222930979e-12, -1.5631940186722204e-11, -5.258016244624741e-12, 3.353761712787673e-12, -3.694822225952521e-12, -1.1652900866465643e-11, -7.958078640513122e-13, 1.2050804798491299e-11, 4.092726157978177e-12, -7.048583938740194e-12, 8.924416761146858e-12, 3.0752289603697136e-11, 1.7053025658242404e-11, -3.0468072509393096e-11, -5.2295945351943374e-11, -2.1714186004828662e-11, 5.229594535194337e-12, -1.1596057447604835e-11, -2.921751729445532e-11, -9.094947017729282e-13, 1.3983481039758772e-11, -4.581579560181126e-11, -1.1584688763832673e-10, -8.878942026058212e-11, 1.4438228390645236e-11, 6.491518433904275e-11, 4.0245140553452075e-11, 5.4853899200679734e-11, 1.5768364391988143e-10, 1.8837909010471776e-10, 1.4210854715202004e-11, -1.8832224668585695e-10, -1.3415046851150692e-10, 1.2789769243681803e-10, 2.539763954700902e-10, 8.185452315956354e-11, -1.864464138634503e-10, -3.0803448680671863e-10, -2.8126123652327806e-10, -1.9525714378687553e-10, -1.4665602066088468e-11, 2.644071628310485e-10, 4.064304448547773e-10, 1.894022716442123e-10, -1.7988099898502696e-10, -2.6057023205794394e-10, 2.6261659513693303e-11, 2.693241185625084e-10, 1.6143530956469476e-10, -8.049028110690415e-11, -5.661604518536478e-11, 1.8599166651256382e-10, 2.2669155441690236e-10, -6.30961949354969e-11, -2.942215360235423e-10, -1.5938894648570567e-10, 1.0550138540565968e-10, 1.213038558489643e-10, -2.2851054382044822e-11, 8.242295734817162e-11, 4.6061643388384255e-10, 5.813944881083444e-10, 1.1459633242338896e-10, -4.440607881406322e-10, -3.533386916387826e-10, 3.383320290595293e-10, 8.434426490566693e-10, 6.789377948734909e-10, 1.3415046851150692e-10, -3.5623770600068383e-10, -7.127027856768109e-10, -8.474785317957867e-10, -3.815330273937434e-10, 6.464233592851087e-10, 1.2347527444944717e-09, 5.34441824129317e-10, -6.748450687155128e-10, -7.119069778127596e-10, 6.853042577859014e-10, 1.9009576135431416e-09, 1.6859758034115657e-09, 7.163407644839026e-10, ...], 'sampling_rate': 48000}</td>\n",
              "      <td>Ko aranduka ojehaipaite avañeʼẽme.</td>\n",
              "      <td></td>\n",
              "    </tr>\n",
              "    <tr>\n",
              "      <th>7</th>\n",
              "      <td>/root/.cache/huggingface/datasets/downloads/extracted/0c6fd75314d63b1108fe80822106663f75943acb9de92ee5f5fc684145d8a0a9/gn_train_0/common_voice_gn_33974536.mp3</td>\n",
              "      <td>{'path': '/root/.cache/huggingface/datasets/downloads/extracted/0c6fd75314d63b1108fe80822106663f75943acb9de92ee5f5fc684145d8a0a9/gn_train_0/common_voice_gn_33974536.mp3', 'array': [0.0, -4.661160346586257e-12, -5.6843418860808015e-12, 2.5579538487363607e-13, 5.9117155615240335e-12, 4.774847184307873e-12, -1.3642420526593924e-12, -7.275957614183426e-12, -8.753886504564434e-12, -6.30961949354969e-12, -2.1600499167107046e-12, 4.547473508864641e-12, 9.322320693172514e-12, 9.322320693172514e-12, 1.9895196601282805e-12, -6.252776074688882e-12, -8.640199666842818e-12, -1.7053025658242404e-12, 9.208633855450898e-12, 7.73070496506989e-12, -2.1600499167107046e-12, -6.252776074688882e-13, 1.693933882052079e-11, 2.290789780090563e-11, -5.684341886080801e-13, -2.432898327242583e-11, -2.0520474208751693e-11, 9.094947017729282e-13, 5.7980287238024175e-12, -1.4495071809506044e-11, -2.3959501049830578e-11, 4.035882739117369e-12, 3.871036824421026e-11, 3.444711182964966e-11, -8.697043085703626e-12, -4.843059286940843e-11, -5.4228621593210846e-11, -2.7057467377744615e-11, 2.1088908397359774e-11, 8.486722435918637e-11, 1.3787371244688984e-10, 1.248849912371952e-10, 2.148681232938543e-11, -9.583800419932231e-11, -1.0845724318642169e-10, 6.366462912410498e-12, 1.3949374988442287e-10, 1.7740831026458181e-10, 1.467697074986063e-10, 1.687112671788782e-10, 2.710294211283326e-10, 3.1241143005900085e-10, 1.6967760529951192e-10, -6.014033715473488e-11, -1.6535750546609052e-10, -9.64632818067912e-11, -2.5011104298755527e-11, -9.686118573881686e-11, -2.034994395216927e-10, -1.2175860319985077e-10, 1.3449152902467176e-10, 2.601154847070575e-10, 5.4797055781818926e-11, -2.6557245291769505e-10, -3.226432454539463e-10, -5.843503458891064e-11, 2.041815605480224e-10, 1.8195578377344646e-10, -7.884182195994072e-11, -3.502123036014382e-10, -4.984599399904255e-10, -5.297806637827307e-10, -4.924913810100406e-10, -4.5361048250924796e-10, -4.704361344920471e-10, -4.5577053242595866e-10, -2.2430413082474843e-10, 1.681144112808397e-10, 2.9410784918582067e-10, -1.1095835361629725e-10, -5.959464033367112e-10, -4.2666670196922496e-10, 3.6777692002942786e-10, 8.596998668508604e-10, 4.0671466194908135e-10, -4.412186171975918e-10, -6.925802154000849e-10, -3.23325366480276e-10, -2.4283508537337184e-10, -8.187726052710786e-10, -1.1904717212019023e-09, -4.824869392905384e-10, 8.712390808796044e-10, 1.6442527339677326e-09, 1.428588802809827e-09, 1.0367955383117078e-09, 1.19382548291469e-09, 1.4462102626566775e-09, 8.781171345617622e-10, -4.2291503632441163e-10, ...], 'sampling_rate': 48000}</td>\n",
              "      <td>Ndaipóri og̃uahẽkuaáva Ña Antonia rógape.</td>\n",
              "      <td></td>\n",
              "    </tr>\n",
              "    <tr>\n",
              "      <th>8</th>\n",
              "      <td>/root/.cache/huggingface/datasets/downloads/extracted/0c6fd75314d63b1108fe80822106663f75943acb9de92ee5f5fc684145d8a0a9/gn_train_0/common_voice_gn_33971974.mp3</td>\n",
              "      <td>{'path': '/root/.cache/huggingface/datasets/downloads/extracted/0c6fd75314d63b1108fe80822106663f75943acb9de92ee5f5fc684145d8a0a9/gn_train_0/common_voice_gn_33971974.mp3', 'array': [-5.684341886080802e-14, 5.968558980384842e-13, 8.526512829121202e-13, -1.1368683772161603e-13, -6.252776074688882e-13, 3.694822225952521e-13, 1.8474111129762605e-12, 2.3590018827235326e-12, 1.2292389328649733e-12, -1.1652900866465643e-12, -3.268496584496461e-12, -2.7711166694643907e-12, 2.2737367544323206e-13, 2.5295321393059567e-12, 2.1884716261411086e-12, 6.821210263296962e-13, 6.252776074688882e-13, 1.9610979506978765e-12, 1.0373923942097463e-12, -3.495870259939693e-12, -7.44648787076585e-12, -5.286437954055145e-12, 3.069544618483633e-12, 6.764366844436154e-12, 1.7053025658242404e-13, -7.204903340607416e-12, -3.183231456205249e-12, 8.270717444247566e-12, 1.318767317570746e-11, 5.9117155615240335e-12, -3.0269120543380268e-12, -4.561684363579843e-12, -1.7621459846850485e-12, -4.213518423057394e-12, -1.2100542789994506e-11, -1.4210854715202004e-11, -2.8421709430404007e-12, 1.7394086171407253e-11, 2.901856532844249e-11, 1.6434853478131117e-11, -1.729461018840084e-11, -4.476419235288631e-11, -4.007461029686965e-11, -1.0800249583553523e-11, 7.503331289626658e-12, -4.433786671143025e-12, -2.2509993868879974e-11, -1.602984411874786e-11, -5.684341886080801e-13, -1.290345608140342e-11, -4.234834705130197e-11, -3.8198777474462986e-11, 3.637978807091713e-12, 2.802380549837835e-11, 9.57811607804615e-12, -1.3216094885137863e-12, 2.8421709430404007e-11, 2.0463630789890885e-11, -1.1618794815149158e-10, -2.993942871398758e-10, -3.1451463655685075e-10, -9.893597052723635e-11, 1.3415046851150692e-10, 1.47593937072088e-10, -2.1401547201094218e-11, -1.219291334564332e-10, -2.4925839170464315e-11, 1.1863221516250633e-10, 1.0436451702844352e-10, -3.643663148977794e-11, -1.0442136044730432e-10, -3.5925040720030665e-11, 1.2732925824820995e-11, -8.282086128019728e-11, -2.0307311388023663e-10, -1.360973556074896e-10, 8.708411769475788e-11, 1.6473222785862163e-10, -5.582023732131347e-11, -2.837623469531536e-10, -1.390390025335364e-10, 2.524700448702788e-10, 3.1251090604200726e-10, -2.3362645151792094e-10, -8.93578544491902e-10, -9.569021131028421e-10, -3.9341330193565227e-10, 1.390247916788212e-10, 1.9484502900013467e-10, 4.3996806198265404e-11, 9.868017514236271e-11, 2.523847797419876e-10, 1.475655153626576e-10, -1.5825207810848951e-10, -2.5910651402227813e-10, -6.508571459562518e-11, 4.772005013364833e-11, -1.383284597977763e-10, -3.268496584496461e-10, -2.2237145458348095e-10, ...], 'sampling_rate': 48000}</td>\n",
              "      <td>he'i hikuái umi mokõi ha'eha kuña aña</td>\n",
              "      <td></td>\n",
              "    </tr>\n",
              "    <tr>\n",
              "      <th>9</th>\n",
              "      <td>/root/.cache/huggingface/datasets/downloads/extracted/0c6fd75314d63b1108fe80822106663f75943acb9de92ee5f5fc684145d8a0a9/gn_train_0/common_voice_gn_31504635.mp3</td>\n",
              "      <td>{'path': '/root/.cache/huggingface/datasets/downloads/extracted/0c6fd75314d63b1108fe80822106663f75943acb9de92ee5f5fc684145d8a0a9/gn_train_0/common_voice_gn_31504635.mp3', 'array': [-4.440892098500626e-16, -3.907985046680551e-14, -4.1744385725905886e-14, 5.329070518200751e-15, 1.687538997430238e-14, -2.9753977059954195e-14, -4.1300296516055823e-14, 2.220446049250313e-15, 4.707345624410664e-14, 7.72715225139109e-14, 7.416289804496046e-14, 2.4424906541753444e-14, -7.549516567451064e-15, -2.6645352591003757e-15, 1.7763568394002505e-14, 5.728750807065808e-14, 1.1235457009206584e-13, 1.438849039914203e-13, 1.3322676295501878e-13, 1.3145040611561853e-13, 1.141309269314661e-13, 5.684341886080802e-14, -2.1316282072803006e-14, -3.197442310920451e-14, 1.7763568394002505e-15, 3.375077994860476e-14, 3.552713678800501e-15, -8.970602038971265e-14, -1.8207657603852567e-13, -2.6645352591003757e-13, -3.410605131648481e-13, -4.121147867408581e-13, -3.82804898890754e-13, -2.7355895326763857e-13, -1.4166445794216997e-13, -6.217248937900877e-15, 7.105427357601002e-14, -1.5010215292932116e-13, -7.345235530920036e-13, -1.2079226507921703e-12, -8.847367283237872e-13, 1.5898393712632242e-13, 8.86402062860725e-13, 4.951594689828198e-13, -3.3661962106634746e-13, -1.865174681370263e-13, 1.0080825063596421e-12, 1.602273869139026e-12, 6.519229600598919e-13, -4.5297099404706387e-13, 7.105427357601002e-15, 1.3251622021925868e-12, 1.163513729807164e-12, -8.384404281969182e-13, -2.071232074740692e-12, -5.373479439185758e-13, 1.9326762412674725e-12, 2.141398169897002e-12, 2.495781359357352e-13, -6.470379787515412e-13, 3.410605131648481e-13, 4.263256414560601e-13, -1.9841905896100798e-12, -4.172662215751188e-12, -3.156586103614245e-12, -5.204725539442734e-13, -6.217248937900877e-15, -1.7177370637000422e-12, -2.318145675417327e-12, -9.210410212290299e-13, -6.767919558114954e-13, -3.0686564400639327e-12, -4.636291350834654e-12, -2.547295707699959e-12, 6.128431095930864e-14, -1.3367085216486885e-12, -4.815703391614079e-12, -4.5279335836312384e-12, -6.963318810448982e-13, -3.561595462997502e-13, -6.206590796864475e-12, -1.1040057756872557e-11, -7.984723993104126e-12, -9.627854069549358e-13, 1.6626700016786344e-12, 3.339550858072471e-13, 2.4362734052374435e-12, 8.110845328701544e-12, 7.94209142895852e-12, -1.5916157281026244e-12, -9.581668791724951e-12, -5.375255796025158e-12, 4.780176254826074e-12, 6.0245142208259495e-12, -2.8368418725222e-12, -7.283063041541027e-12, 8.322231792590173e-13, 1.0578204978628492e-11, 8.288481012641569e-12, -1.7905676941154525e-12, ...], 'sampling_rate': 48000}</td>\n",
              "      <td>Opáma mbo'ehaópe jeho.</td>\n",
              "      <td></td>\n",
              "    </tr>\n",
              "  </tbody>\n",
              "</table>"
            ]
          },
          "metadata": {}
        }
      ]
    },
    {
      "cell_type": "code",
      "source": [
        "import re\n",
        "chars_to_remove_regex = '[\\,\\?\\.\\!\\-\\;\\:\\\"\\“\\%\\‘\\”\\�\\']'\n",
        "\n",
        "def remove_special_characters(batch):\n",
        "    batch[\"sentence\"] = re.sub(chars_to_remove_regex, '', batch[\"sentence\"]).lower()\n",
        "    return batch"
      ],
      "metadata": {
        "id": "UoXM_HXGA_zA"
      },
      "execution_count": null,
      "outputs": []
    },
    {
      "cell_type": "code",
      "source": [
        "common_voice_train = common_voice_train.map(remove_special_characters)\n",
        "common_voice_test = common_voice_test.map(remove_special_characters)\n"
      ],
      "metadata": {
        "id": "ETWfHmo4BRaZ"
      },
      "execution_count": null,
      "outputs": []
    },
    {
      "cell_type": "code",
      "source": [
        "show_random_elements(common_voice_train.remove_columns([\"path\",\"audio\"]))\n"
      ],
      "metadata": {
        "colab": {
          "base_uri": "https://localhost:8080/",
          "height": 294
        },
        "id": "cavHUmgcBS0U",
        "outputId": "32d0f647-a488-4d47-e971-ad15491a3f53"
      },
      "execution_count": null,
      "outputs": [
        {
          "output_type": "display_data",
          "data": {
            "text/plain": [
              "<IPython.core.display.HTML object>"
            ],
            "text/html": [
              "<table border=\"1\" class=\"dataframe\">\n",
              "  <thead>\n",
              "    <tr style=\"text-align: right;\">\n",
              "      <th></th>\n",
              "      <th>sentence</th>\n",
              "      <th>variant</th>\n",
              "    </tr>\n",
              "  </thead>\n",
              "  <tbody>\n",
              "    <tr>\n",
              "      <th>0</th>\n",
              "      <td>peteĩ ára oñorairõmbaguasúkuri</td>\n",
              "      <td></td>\n",
              "    </tr>\n",
              "    <tr>\n",
              "      <th>1</th>\n",
              "      <td>avei ikatúta peipuru haỹingue josopyre pembohe hag̃ua pene rembiu</td>\n",
              "      <td></td>\n",
              "    </tr>\n",
              "    <tr>\n",
              "      <th>2</th>\n",
              "      <td>haéta ndéve mbaépa rejapokuaa</td>\n",
              "      <td></td>\n",
              "    </tr>\n",
              "    <tr>\n",
              "      <th>3</th>\n",
              "      <td>maerãpiko ñañemoakãrasýta</td>\n",
              "      <td></td>\n",
              "    </tr>\n",
              "    <tr>\n",
              "      <th>4</th>\n",
              "      <td>péicha oñepyrũkuri iñemoarandu puraheikuaápe</td>\n",
              "      <td></td>\n",
              "    </tr>\n",
              "    <tr>\n",
              "      <th>5</th>\n",
              "      <td>iporãite heʼi maría</td>\n",
              "      <td></td>\n",
              "    </tr>\n",
              "    <tr>\n",
              "      <th>6</th>\n",
              "      <td>colonias habilitadas</td>\n",
              "      <td></td>\n",
              "    </tr>\n",
              "    <tr>\n",
              "      <th>7</th>\n",
              "      <td>peteĩ jey osẽkuri omymbajukávo</td>\n",
              "      <td></td>\n",
              "    </tr>\n",
              "    <tr>\n",
              "      <th>8</th>\n",
              "      <td>ohupytývo tapekua mbohapyvéva ohechásapya peteĩ guasu</td>\n",
              "      <td></td>\n",
              "    </tr>\n",
              "    <tr>\n",
              "      <th>9</th>\n",
              "      <td>oñemohyg̃uatã hag̃ua hou sevoi jui yso hambae</td>\n",
              "      <td></td>\n",
              "    </tr>\n",
              "  </tbody>\n",
              "</table>"
            ]
          },
          "metadata": {}
        }
      ]
    },
    {
      "cell_type": "code",
      "source": [
        "# def replace_hatted_characters(batch):\n",
        "#     batch[\"sentence\"] = re.sub('[â]', 'a', batch[\"sentence\"])\n",
        "#     batch[\"sentence\"] = re.sub('[î]', 'i', batch[\"sentence\"])\n",
        "#     batch[\"sentence\"] = re.sub('[ô]', 'o', batch[\"sentence\"])\n",
        "#     batch[\"sentence\"] = re.sub('[û]', 'u', batch[\"sentence\"])\n",
        "#     return batch\n"
      ],
      "metadata": {
        "id": "3aOjNhRaBUC6"
      },
      "execution_count": null,
      "outputs": []
    },
    {
      "cell_type": "code",
      "source": [
        "from unidecode import unidecode\n",
        "\n",
        "def replace_hatted_characters(batch):\n",
        "    batch[\"sentence\"] = unidecode(batch[\"sentence\"])\n",
        "    return batch"
      ],
      "metadata": {
        "id": "wBZND2YkBJYl"
      },
      "execution_count": null,
      "outputs": []
    },
    {
      "cell_type": "code",
      "source": [
        "common_voice_train = common_voice_train.map(replace_hatted_characters)\n",
        "common_voice_test = common_voice_test.map(replace_hatted_characters)\n"
      ],
      "metadata": {
        "id": "TOvMionwBWRP",
        "colab": {
          "base_uri": "https://localhost:8080/",
          "height": 81,
          "referenced_widgets": [
            "e9e700186fcb49d9820b80ec3ca3203d",
            "17e954f75646419d8e3e4fdd49efe1be",
            "0621794e42f745e78fc5c3d9df6122f7",
            "aee89ca7d88e42969fa62c723a3b6a5a",
            "0fe5e9c10d4e465abff0348af33e44e0",
            "d210b4efa8c54d5791eff9228aaf73c7",
            "d1ce356ee43a44229e4024a15209c20c",
            "8a38ddc48b4a40eba21b8ce3f303c438",
            "a0770e4b9f1d4d3fa41b268cbf432a1a",
            "ff0a7fdc575547f9ad9b504f95499f04",
            "07383b2ca3ea479992c376810ec08556",
            "71988f7615884b40829a8f6ab0f56cd4",
            "f3e9bea0d62b408d8ddb0d207fe42566",
            "4634e062093b452fb12e5e487a55e4e0",
            "a0e50f6fa1c34f279548dd0bda30a23d",
            "511dce64bee94c37a166369dfc015d8e",
            "b731227968d941d9b46a4f9986f16fd1",
            "5edc90b0896345bab50dfda7e1b133ce",
            "f14df7a6ee934ab7b9f83077223e4138",
            "530c90dcc46241b8864dd59911e21da6",
            "66395fa6a0f04125a22cc5d3a1f22c40",
            "34f0e7567ccc49b1a820e276b4c87d4b"
          ]
        },
        "outputId": "5187da4f-8781-42cf-8e92-f3b13dc681a8"
      },
      "execution_count": null,
      "outputs": [
        {
          "output_type": "display_data",
          "data": {
            "text/plain": [
              "Map:   0%|          | 0/1766 [00:00<?, ? examples/s]"
            ],
            "application/vnd.jupyter.widget-view+json": {
              "version_major": 2,
              "version_minor": 0,
              "model_id": "e9e700186fcb49d9820b80ec3ca3203d"
            }
          },
          "metadata": {}
        },
        {
          "output_type": "display_data",
          "data": {
            "text/plain": [
              "Map:   0%|          | 0/811 [00:00<?, ? examples/s]"
            ],
            "application/vnd.jupyter.widget-view+json": {
              "version_major": 2,
              "version_minor": 0,
              "model_id": "71988f7615884b40829a8f6ab0f56cd4"
            }
          },
          "metadata": {}
        }
      ]
    },
    {
      "cell_type": "code",
      "source": [
        "def extract_all_chars(batch):\n",
        "  all_text = \" \".join(batch[\"sentence\"])\n",
        "  vocab = list(set(all_text))\n",
        "  return {\"vocab\": [vocab], \"all_text\": [all_text]}\n"
      ],
      "metadata": {
        "id": "mQuP0N7LBXiZ"
      },
      "execution_count": null,
      "outputs": []
    },
    {
      "cell_type": "code",
      "source": [
        "vocab_train = common_voice_train.map(extract_all_chars, batched=True, batch_size=-1, keep_in_memory=True, remove_columns=common_voice_train.column_names)\n",
        "vocab_test = common_voice_test.map(extract_all_chars, batched=True, batch_size=-1, keep_in_memory=True, remove_columns=common_voice_test.column_names)\n"
      ],
      "metadata": {
        "colab": {
          "base_uri": "https://localhost:8080/",
          "height": 81,
          "referenced_widgets": [
            "f31001cffe0e4d4b9a13322af9b919ac",
            "b7fba00f38374175946ddff6e683c33f",
            "afc279719adf412f9a7d5269491ae18b",
            "4d379eea78e34a86a5cc02123ce00a6b",
            "138e9a24e0114114a8904da455be4be0",
            "2d2fce06f6b14134b615cba682d43352",
            "20733059a4c54ca4a008732cbe7ada42",
            "3b4e862177384f6e9b9e1168cad6ca95",
            "8d2fddb619554d708a3027fd2881e07c",
            "5ed92863594b4bddaa5477dac8d8da66",
            "a9727bb522c44d14a53fc31eacd23262",
            "0829f2c12f4b406f8488027c969dcc1e",
            "eaad043acd8645aa9bc1fcd0af341f86",
            "17a19b73a8c24a978bce9b40e1a2e181",
            "c4986ffbed8e454bb0dcda4f31b39982",
            "c444775ac62e468f80812d2a90b26fc1",
            "5553d2f2fc61477ba3dabe7c956e2d1f",
            "a8bbd1fe2b3b42bb921d69d094b32be3",
            "f1dde08ed2f8476191268cd45833b16f",
            "9d2a923f235e48daa62e76b1eb9b2169",
            "6ca3137337114a068c61b7679537c9d3",
            "7af9fc58a5e74612910ba4b3de76648b"
          ]
        },
        "id": "mN8z3JBoBY4E",
        "outputId": "d22d1f53-8cd5-40ee-f338-cfb6880a888d"
      },
      "execution_count": null,
      "outputs": [
        {
          "output_type": "display_data",
          "data": {
            "text/plain": [
              "Map:   0%|          | 0/1766 [00:00<?, ? examples/s]"
            ],
            "application/vnd.jupyter.widget-view+json": {
              "version_major": 2,
              "version_minor": 0,
              "model_id": "f31001cffe0e4d4b9a13322af9b919ac"
            }
          },
          "metadata": {}
        },
        {
          "output_type": "display_data",
          "data": {
            "text/plain": [
              "Map:   0%|          | 0/811 [00:00<?, ? examples/s]"
            ],
            "application/vnd.jupyter.widget-view+json": {
              "version_major": 2,
              "version_minor": 0,
              "model_id": "0829f2c12f4b406f8488027c969dcc1e"
            }
          },
          "metadata": {}
        }
      ]
    },
    {
      "cell_type": "code",
      "source": [
        "vocab_list = list(set(vocab_train[\"vocab\"][0]) | set(vocab_test[\"vocab\"][0]))\n"
      ],
      "metadata": {
        "id": "lRNtaEvCBaCB"
      },
      "execution_count": null,
      "outputs": []
    },
    {
      "cell_type": "code",
      "source": [
        "vocab_dict = {v: k for k, v in enumerate(sorted(vocab_list))}\n",
        "vocab_dict\n"
      ],
      "metadata": {
        "colab": {
          "base_uri": "https://localhost:8080/"
        },
        "id": "Z0ppZ3TEBb0y",
        "outputId": "caa4b569-a9b8-4a4a-b496-ea49ce2b74b7"
      },
      "execution_count": null,
      "outputs": [
        {
          "output_type": "execute_result",
          "data": {
            "text/plain": [
              "{' ': 0,\n",
              " '!': 1,\n",
              " \"'\": 2,\n",
              " 'a': 3,\n",
              " 'b': 4,\n",
              " 'c': 5,\n",
              " 'd': 6,\n",
              " 'e': 7,\n",
              " 'f': 8,\n",
              " 'g': 9,\n",
              " 'h': 10,\n",
              " 'i': 11,\n",
              " 'j': 12,\n",
              " 'k': 13,\n",
              " 'l': 14,\n",
              " 'm': 15,\n",
              " 'n': 16,\n",
              " 'o': 17,\n",
              " 'p': 18,\n",
              " 'q': 19,\n",
              " 'r': 20,\n",
              " 's': 21,\n",
              " 't': 22,\n",
              " 'u': 23,\n",
              " 'v': 24,\n",
              " 'x': 25,\n",
              " 'y': 26,\n",
              " 'z': 27}"
            ]
          },
          "metadata": {},
          "execution_count": 23
        }
      ]
    },
    {
      "cell_type": "code",
      "source": [
        "vocab_dict[\"|\"] = vocab_dict[\" \"]\n",
        "del vocab_dict[\" \"]\n"
      ],
      "metadata": {
        "id": "nRbnzykOBcpT"
      },
      "execution_count": null,
      "outputs": []
    },
    {
      "cell_type": "code",
      "source": [
        "vocab_dict[\"[UNK]\"] = len(vocab_dict)\n",
        "vocab_dict[\"[PAD]\"] = len(vocab_dict)\n",
        "len(vocab_dict)\n"
      ],
      "metadata": {
        "colab": {
          "base_uri": "https://localhost:8080/"
        },
        "id": "7sKaR1wsBecG",
        "outputId": "c82f7c63-0f85-4de0-978c-cdb730a119ae"
      },
      "execution_count": null,
      "outputs": [
        {
          "output_type": "execute_result",
          "data": {
            "text/plain": [
              "30"
            ]
          },
          "metadata": {},
          "execution_count": 25
        }
      ]
    },
    {
      "cell_type": "code",
      "source": [
        "import json\n",
        "with open('vocab.json', 'w') as vocab_file:\n",
        "    json.dump(vocab_dict, vocab_file)\n"
      ],
      "metadata": {
        "id": "s78sZom9BfQM"
      },
      "execution_count": null,
      "outputs": []
    },
    {
      "cell_type": "code",
      "source": [
        "from transformers import Wav2Vec2CTCTokenizer\n",
        "\n",
        "tokenizer = Wav2Vec2CTCTokenizer.from_pretrained(\"./\", unk_token=\"[UNK]\", pad_token=\"[PAD]\", word_delimiter_token=\"|\")"
      ],
      "metadata": {
        "id": "RdkhZIohBhd_"
      },
      "execution_count": null,
      "outputs": []
    },
    {
      "cell_type": "code",
      "source": [
        "repo_name = \"wav2vec2-large-300m-colab-hyper-gn\""
      ],
      "metadata": {
        "id": "yXPiMRUHDldA"
      },
      "execution_count": null,
      "outputs": []
    },
    {
      "cell_type": "code",
      "source": [
        "tokenizer.push_to_hub(repo_name)"
      ],
      "metadata": {
        "colab": {
          "base_uri": "https://localhost:8080/"
        },
        "id": "pdICAQyKDpE7",
        "outputId": "aac4ffb6-dbc4-47dd-e793-b72eb2847597"
      },
      "execution_count": null,
      "outputs": [
        {
          "output_type": "execute_result",
          "data": {
            "text/plain": [
              "CommitInfo(commit_url='https://huggingface.co/karanthgreeshma/wav2vec2-large-300m-colab-hyper-gn/commit/2fe4a8e74df697c39c81161d22ed27a105f52858', commit_message='Upload tokenizer', commit_description='', oid='2fe4a8e74df697c39c81161d22ed27a105f52858', pr_url=None, pr_revision=None, pr_num=None)"
            ]
          },
          "metadata": {},
          "execution_count": 29
        }
      ]
    },
    {
      "cell_type": "code",
      "source": [
        "from transformers import Wav2Vec2FeatureExtractor\n",
        "\n",
        "feature_extractor = Wav2Vec2FeatureExtractor(feature_size=1, sampling_rate=16000, padding_value=0.0, do_normalize=True, return_attention_mask=True)\n"
      ],
      "metadata": {
        "id": "12lN6bVeBpEM"
      },
      "execution_count": null,
      "outputs": []
    },
    {
      "cell_type": "code",
      "source": [
        "from transformers import Wav2Vec2Processor\n",
        "\n",
        "processor = Wav2Vec2Processor(feature_extractor=feature_extractor, tokenizer=tokenizer)\n"
      ],
      "metadata": {
        "id": "lx5n2duEBwfm"
      },
      "execution_count": null,
      "outputs": []
    },
    {
      "cell_type": "code",
      "source": [
        "common_voice_train = common_voice_train.cast_column(\"audio\", Audio(sampling_rate=16_000))\n",
        "common_voice_test = common_voice_test.cast_column(\"audio\", Audio(sampling_rate=16_000))\n"
      ],
      "metadata": {
        "id": "aR2EA8fjBxmH"
      },
      "execution_count": null,
      "outputs": []
    },
    {
      "cell_type": "code",
      "source": [
        "import IPython.display as ipd\n",
        "import numpy as np\n",
        "import random\n",
        "\n",
        "rand_int = random.randint(0, len(common_voice_train)-1)\n",
        "\n",
        "print(common_voice_train[rand_int][\"sentence\"])\n",
        "ipd.Audio(data=common_voice_train[rand_int][\"audio\"][\"array\"], autoplay=True, rate=16000)\n"
      ],
      "metadata": {
        "colab": {
          "base_uri": "https://localhost:8080/",
          "height": 74
        },
        "id": "RHK00LIaB_mQ",
        "outputId": "dcd5b341-57cd-4b12-f650-767a493c66e2"
      },
      "execution_count": null,
      "outputs": [
        {
          "output_type": "stream",
          "name": "stdout",
          "text": [
            "mborevi ojehekyi chugui ha ose onani kaaguyre\n"
          ]
        },
        {
          "output_type": "execute_result",
          "data": {
            "text/plain": [
              "<IPython.lib.display.Audio object>"
            ],
            "text/html": [
              "\n",
              "                <audio  controls=\"controls\" autoplay=\"autoplay\">\n",
              "                    <source src=\"data:audio/wav;base64,UklGRqTUAgBXQVZFZm10IBAAAAABAAEAgD4AAAB9AAACABAAZGF0YYDUAgAAAAAAAAAAAAAAAAAAAAAAAAAAAAAAAAAAAAAAAAAAAAAAAAAAAAAAAAAAAAAAAAAAAAAAAAAAAAAAAAAAAAAAAAAAAAAAAAAAAAAAAAAAAAAAAAAAAAAAAAAAAAAAAAAAAAAAAAAAAAAAAAAAAAAAAAAAAAAAAAAAAAAAAAAAAAAAAAAAAAAAAAAAAAAAAAAAAAAAAAAAAAAAAAAAAAAAAAAAAAAAAAAAAAAAAAAAAAAAAAAAAAAAAAAAAAAAAAAAAAAAAAAAAAAAAAAAAAAAAAAAAAAAAAAAAAAAAAAAAAAAAAAAAAAAAAAAAAAAAAAAAAAAAAAAAAAAAAAAAAAAAAAAAAAAAAAAAAAAAAAAAAAAAAAAAAAAAAAAAAAAAAAAAAAAAAAAAAAAAAAAAAAAAAAAAAAAAAAAAAAAAAAAAAAAAAAAAAAAAAAAAAAAAAAAAAAAAAAAAAAAAAAAAAAAAAAAAAAAAAAAAAAAAAAAAAAAAAAAAAAAAAAAAAAAAAAAAAAAAAAAAAAAAAAAAAAAAAAAAAAAAAAAAAAAAAAAAAAAAAAAAAAAAAAAAAAAAAAAAAAAAAAAAAAAAAAAAAAAAAAAAAAAAAAAAAAAAAAAAAAAAAAAAAAAAAAAAAAAAAAAAAAAAAAAAAAAAAAAAAAAAAAAAAAAAAAAAAAAAAAAAAAAAAAAAAAAAAAAAAAAAAAAAAAAAAAAAAAAAAAAAAAAAAAAAAAAAAAAAAAAAAAAAAAAAAAAAAAAAAAAAAAAAAAAAAAAAAAAAAAAAAAAAAAAAAAAAAAAAAAAAAAAAAAAAAAAAAAAAAAAAAAAAAAAAAAAAAAAAAAAAAAAAAAAAAAAAAAAAAAAAAAAAAAAAAAAAAAAAAAAAAAAAAAAAAAAAAAAAAAAAAAAAAAAAAAAAAAAAAAAAAAAAAAAAAAAAAAAAAAAAAAAAAAAAAAAAAAAAAAAAAAAAAAAAAAAAAAAAAAAAAAAAAAAAAAAAAAAAAAAAAAAAAAAAAAAAAAAAAAAAAAAAAAAAAAAAAAAAAAAAAAAAAAAAAAAAAAAAAAAAAAAAAAAAAAAAAAAAAAAAAAAAAAAAAAAAAAAAAAAAAAAAAAAAAAAAAAAAAAAAAAAAAAAAAAAAAAAAAAAAAAAAAAAAAAAAAAAAAAAAAAAAAAAAAAAAAAAAAAAAAAAAAAAAAAAAAAAAAAAAAAAAAAAAAAAAAAAAAAAAAAAAAAAAAAAAAAAAAAAAAAAAAAAAAAAAAAAAAAAAAAAAAAAAAAAAAAAAAAAAAAAAAAAAAAAAAAAAAAAAAAAAAAAAAAAAAAAAAAAAAAAAAAAAAAAAAAAAAAAAAAAAAAAAAAAAAAAAAAAAAAAAAAAAAAAAAAAAAAAAAAAAAAAAAAAAAAAAAAAAAAAAAAAAAAAAAAAAAAAAAAAAAAAAAAAAAAAAAAAAAAAAAAAAAAAAAAAAAAAAAAAAAAAAAAAAAAAAAAAAAAAAAAAAAAAAAAAAAAAAAAAAAAAAAAAAAAAAAAAAAAAAAAAAAAAAAAAAAAAAAAAAAAAAAAAAAAAAAAAAAAAAAAAAAAAAAAAAAAAAAAAAAAAAAAAAAAAAAAAAAAAAAAAAAAAAAAAAAAAAAAAAAAAAAAAAAAAAAAAAAAAAAAAAAAAAAAAAAAAAAAAAAAAAAAAAAAAAAAAAAAAAAAAAAAAAAAAAAAAAAAAAAAAAAAAAAAAAAAAAAAAAAAAAAAAAAAAAAAAAAAAAAAAAAAAAAAAAAAAAAAAAAAAAAAAAAAAAAAAAAAAAAAAAAAAAAAAAAAAAAAAAAAAAAAAAAAAAAAAAAAAAAAAAAAAAAAAAAAAAAAAAAAAAAAAAAAAAAAAAAAAAAAAAAAAAAAAAAAAAAAAAAAAAAAAAAAAAAAAAAAAAAAAAAAAAAAAAAAAAAAAAAAAAAAAAAAAAAAAAAAAAAAAAAAAAAAAAAAAAAAAAAAAAAAAAAAAAAAAAAAAAAAAAAAAAAAAAAAAAAAAAAAAAAAAAAAAAAAAAAAAAAAAAAAAAAAAAAAAAAAAAAAAAAAAAAAAAAAAAAAAAAAAAAAAAAAAAAAAAAAAAAAAAAAAAAAAAAAAAAAAAAAAAAAAAAAAAAAAAAAAAAAAAAAAAAAAAAAAAAAAAAAAAAAAAAAAAAAAAAAAAAAAAAAAAAAAAAAAAAAAAAAAAAAAAAAAAAAAAAAAAAAAAAAAAAAAAAAAAAAAAAAAAAAAAAAAAAAAAAAAAAAAAAAAAAAAAAAAAAAAAAAAAAAAAAAAAAAAAAAAAAAAAAAAAAAAAAAAAAAAAAAAAAAAAAAAAAAAAAAAAAAAAAAAAAAAAAAAAAAAAAAAAAAAAAAAAAAAAAAAAAAAAAAAAAAAAAAAAAAAAAAAAAAAAAAAAAAAAAAAAAAAAAAAAAAAAAAAAAAAAAAAAAAAAAAAAAAAAAAAAAAAAAAAAAAAAAAAAAAAAAAAAAAAAAAAAAAAAAAAAAAAAAAAAAAAAAAAAAAAAAAAAAAAAAAAAAAAAAAAAAAAAAAAAAAAAAAAAAAAAAAAAAAAAAAAAAAAAAAAAAAAAAAAAAAAAAAAAAAAAAAAAAAAAAAAAAAAAAAAAAAAAAAAAAAAAAAAAAAAAAAAAAAAAAAAAAAAAAAAAAAAAAAAAAAAAAAAAAAAAAAAAAAAAAAAAAAAAAAAAAAAAAAAAAAAAAAAAAAAAAAAAAAAAAAAAAAAAAAAAAAAAAAAAAAAAAAAAAAAAAAAAAAAAAAAAAAAAAAAAAAAAAAAAAAAAAAAAAAAAAAAAAAAAAAAAAAAAAAAAAAAAAAAAAAAAAAAAAAAAAAAAAAAAAAAAAAAAAAAAAAAAAAAAAAAAAAAAAAAAAAAAAAAAAAAAAAAAAAAAAAAAAAAAAAAAAAAAAAAAAAAAAAAAAAAAAAAAAAAAAAAAAAAAAAAAAAAAAAAAAAAAAAAAAAAAAAAAAAAAAAAAAAAAAAAAAAAAAAAAAAAAAAAAAAAAAAAAAAAAAAAAAAAAAAAAAAAAAAAAAAAAAAAAAAAAAAAAAAAAAAAAAAAAAAAAAAAAAAAAAAAAAAAAAAAAAAAAAAAAAAAAAAAAAAAAAAAAAAAAAAAAAAAAAAAAAAAAAAAAAAAAAAAAAAAAAAAAAAAAAAAAAAAAAAAAAAAAAAAAAAAAAAAAAAAAAAAAAAAAAAAAAAAAAAAAAAAAAAAAAAAAAAAAAAAAAAAAAAAAAAAAAAAAAAAAAAAAAAAAAAAAAAAAAAAAAAAAAAAAAAAAAAAAAAAAAAAAAAAAAAAAAAAAAAAAAAAAAAAAAAAAAAAAAAAAAAAAAAAAAAAAAAAAAAAAAAAAAAAAAAAAAAAAAEAAAAAAP7//v8AAAEAAwADAAMAAQAAAAEAAAAAAP///////wAAAgAAAAQABgAEAAEA//8AAAEABAADAAAAAAABAAAAAAAEAAEAAQABAAUAAwABAAgABwAFAAIAAwACAAQAAgAAAAEAAAAAAAAAAAACAAIA///+/wAA/v/6//v//P/8//z//P/8//v/+v/6//r//P8AAAEAAQAAAP7//P/9//3//v////r//f/9//z//f8AAAEA/v///wIAAgAAAAAAAAD+/wAAAQACAAQABgAFAAUABAAFAAcABQAFAAIAAAABAAEAAwABAAAA/v/9/wEAAgADAAAA/P///wMAAQD+/wAAAAAAAAAAAgAAAAEAAQD/////AAAAAAAAAAD//wAA/v///////////wAAAAAAAP3////+//v////9//v/AAABAP///v/9/wAAAAAAAP7//f/8////AAAAAAEAAAD8/wAAAQACAAUABgAEAAMAAgAAAAEABAAJAAgABQAEAAMAAwAFAAIAAQACAAAAAAACAAIAAAD7//z///8BAAMAAgACAP////8AAP3//////wEAAwAAAP3///8DAAMAAAD///3//f8AAAAA//////////8AAP7///8AAAAAAQAAAAAA/P/6//r/+//8//3//f/9//v/+f/5//v//P/9//3//f/9//3/AAABAP//AAD///3///8BAAMABQAFAAcABQAEAAYAAAADAAMAAQABAAAAAwAEAAIA/v///////v8AAAAAAwADAAMAAgAAAAAAAAAAAAAAAAABAAEAAQAAAP//AAD//wAAAwAGAAEAAAAAAAAAAAAAAP//AAD+//z//f////v//P/9//v/AQABAAAAAAACAAYABgADAAIAAAABAAEAAAADAAEAAQAAAAIAAAAAAP///v8DAAIAAAD//wIAAAD+/wIAAQABAP///v8AAAAAAgAAAP///v/+/wAAAQACAAQABAADAAQAAAD//wAA/v/9/wEAAAD//wAA/P/+/wAAAQABAAEAAgD//wAAAQAAAAAAAAAAAAAAAAAAAP////8AAAAAAAAAAAAA//8AAAQAAgABAP////8BAP7//P/+//7/AAADAAMAAwADAP////8DAP7/+////wAA/////wAAAAAAAAAAAAD+////AAD8//z/AAAAAPz//P///////v8AAAIAAQAAAAAAAAAAAAAAAAD+//z/AAD//wAAAwABAAAAAgABAAAA/v8AAAEA//8AAAAABQADAPz//f////r//P8BAP3/+v///wQABwAGAAMA/f///wIAAAADAAEA/v8AAAEAAAACAAEAAAAAAAAAAAAAAAIAAQAEAAIAAAD+//3/AAAAAAAA/P/+/wAAAQD///z///8EAAEA/f8AAAAAAAAAAAAAAwADAAMAAgD//wAA/f8AAAEAAAAAAAMABAAAAAIAAQAAAP//AAAAAAMAAgABAAAA/v/9//v////9///////9//z/AAAEAAkABwACAP////8AAP7/AgAAAP///v///wUAAwAAAAMAAgADAAQA//8CAAEA//8AAAEAAAAAAAEA/v8BAAAABAADAAEAAgAAAAAA///+/wEAAAAAAP3///8CAP//+v/8//3/+f/9//3//v8DAAQAAwAAAAAAAAABAAIAAgABAP7/AAAEAAIAAAABAAIAAwACAAMA//8AAAMA/v8AAAAAAAAAAAAAAgAAAP3/+/////3/+v/9//3//f8AAAEAAAAAAP//AAABAAAA/v/9//r//v/9//3//v8AAAAA+//8//7//v///////f//////AQAAAP//AAD///7///8BAAEABgAHAAQAAAAAAAQABwAGAAUAAAD//wIAAgAAAAAAAwAAAAEAAAABAAAAAQACAAAABAADAAIAAAAAAP//AAABAAAA//////7/AAD///z//f/+/////P/7//7//f/7//n/+f/3//z/AQAAAAAA/f/9/wAAAgADAAIAAAAAAAIAAwAAAP//BAACAAAAAwADAAMABQACAAEAAgACAAIAAwAEAAIAAwAGAAQAAgAAAAAAAgADAP7/+v/9//z//v/+//3/+v/2//v///8AAP///v8AAAAAAAACAAIAAwAEAAEAAQADAAEAAAAAAAUABAACAAMABQAGAAUABAADAAIABAAGAAEA//8AAAAA///8//7//v/////////+//3/AAAAAAAA//8BAAIAAQABAAEAAQABAAAAAAAAAAAAAAAAAAAAAAAAAAAAAAAAAAAAAAAAAAAAAAAAAAAAAAAAAAAAAAAAAAAAAAAAAAAAAAAAAAAAAAAAAAAAAAAAAAAAAAAAAAAAAAAAAAAAAAAAAAAAAAAAAAAAAAAAAAAAAAAAAAAAAAAAAAAAAAAAAAAAAAAAAAAAAAAAAAAAAAAAAAAAAAAAAAAAAAAAAAAAAAAAAAAAAAAAAAAAAAAAAAAAAAAAAAAAAAAAAAAAAAAAAAAAAAAAAAAAAAAAAAAAAAAAAAAAAAAAAAAAAAAAAAAAAAAAAAAAAAAAAAAAAAAAAAAAAAAAAAAAAAAAAAAAAAAAAAAAAAAAAAAAAAAAAAAAAAAAAAAAAAAAAAAAAAAAAAAAAAAAAAAAAAAAAAAAAAAAAAAAAAAAAAAAAAAAAAAAAAAAAAAAAAAAAAAAAAAAAAAAAAAAAAAAAAAAAAAAAAAAAAAAAAAAAAAAAAAAAAAAAAAAAAAAAAAAAAAAAAAAAAAAAAAAAAAAAAAAAAAAAAAAAAAAAAAAAAAAAAAAAAAAAAAAAAAAAAAAAAAAAAAAAAAAAAAAAAAAAAAAAAAAAAAAAAAAAAAAAAAAAAAAAAAAAAAAAAAAAAAAAAAAAAAAAAAAAAAAAAAAAAAAAAAAAAAAAAAAAAAAAAAAAAAAAAAAAAAAAAAAAAAAAAAAAAAAAAAAAAAAAAAAAAAAAAAAAAAAAAAAAAAAAAAAAAAAAAAAAAAAAAAAAAAAAAAAAAAAAAAAAAAAAAAAAAAAAAAAAAAAAAAAAAAAAAAAAAAAAAAAAAAAAAAAAAAAAAAAAAAAAAAAAAAAAAAAAAAAAAAAAAAAAAAAAAAAAAAAAAAAAAAAAAAAAAAAAAAAAAAAAAAAAAAAAAAAAAAAAAAAAAAAAAAAAAAAAAAAAAAAAAAAAAAAAAAAAAAAAAAAAAAAAAAAAAAAAAAAAAAAAAAAAAAAAAAAAAAAAAAAAAAAAAAAAAAAAAAAAAAAAAAAAAAAAAAAAAAAAAAAAAAAAAAAAAAAAAAAAAAAAAAAAAAAAAAAAAAAAAAAAAAAAAAAAAAAAAAAAAAAAAAAAAAAAAAAAAAAAAAAAAAAAAAAAAAAAAAAAAAAAAAAAAAAAAAAAAAAAAAAAAAAAAAAAAAAAAAAAAAAAAAAAAAAAAAAAAAAAAAAAAAAAAAAAAAAAAAAAAAAAAAAAAAAAAAAAAAAAAAAAAAAAAAAAAAAAAAAAAAAAAD//wAAAAAAAAAAAAAAAAAAAAAAAAAAAAAAAAAAAAAAAAAAAAAAAAAAAAAAAAAAAAAAAAAAAAAAAAAAAAAAAAAAAAAAAAAAAAAAAAAAAAAAAAAAAAAAAAAAAAABAAAAAAAAAAAAAAAAAAAABgACAAAAAAACAAUAAwAFAAYABwAGAAEAAwAFAAIA/P/+/wAAAAADAAEAAAD//wEAAAD+/wAAAgACAAMAAAD//wAAAAAAAAAAAAAAAP//AwABAAAA/////wAAAAABAAIAAAD+//7/AQD///n/+P/7//3//P/8/////v/8/wAA/v8AAAEAAwACAAAAAAAAAAAA/v8BAP7//f/6//v///8CAAIAAwAFAAQAAQABAP///f/7//v//P/9//7//v8BAP//AQAAAAEAAAABAAIAAAABAAEAAAD+/wAAAgAAAP7/AAACAAIAAwACAP//AAAEAAYAAwD//wAA///9//r/+//+//v/+//6//r//P/8//3//f/+/wEAAAD9//7//f/+//3/AAAAAAMABQADAAIAAgABAAAAAAAAAAAAAwAGAAUACQAFAAIAAAAAAAIAAgADAAAA/////wAA/f/9//7//v///wAAAQAAAPz//v8BAAAA/v/8//3//v////3//v/9//z///8BAAEAAAAAAP3//v8AAAAAAAD/////AQAAAAQABAADAAMABAAEAAQABgAHAAcABQAFAAMAAAAAAAAAAwAGAAEAAgADAAAA///9//7//P/+/wAA///8//j//P8AAAUABQACAAAA///9//7//v8AAAAABAAAAAAAAgAAAAIAAgAAAP7/BAAFAAIAAQAAAP7//f8AAP3/AAAAAPr/9f/8/wAAAgAEAAAA/////////f8BAAEAAAABAAAAAAABAAIAAQAAAP//AAABAAMAAAAAAAEAAgACAAEAAwABAAIAAgADAAMABAAGAAAAAAABAAIAAwAAAP7//f/+//7//f///wAA//8AAAAAAAAEAAUAAAACAAIA/////wAAAQAAAP3//P/6////AQD//////f/+//7//f8AAAAA///9//3/AAAAAAAAAAD9//v//f/+/wEAAAAAAAEAAAD+//7/AgAAAP//AAD+//z//v8AAAEA/v/7//z//f///wAA/f8AAAAA/f///wAAAAD//wAAAAAAAAEABwAGAAYABwAHAAcABQAFAAQAAwD//wAABAABAAAA///+//3///8BAAIAAAD//wAA/v/8//r/+////wEAAAAAAP7//P/9/wAAAQD///7/AAABAAQABAAAAAAAAAACAAIAAQABAAMABQADAAEAAAACAP/////+//7/AQAAAAAA/v/+////AgADAAIAAAD9//7/AAABAAEAAAD6//3/AAAAAP3/+v/+/wAA/////wAAAAAAAPz//P/+//3//P/9////AwADAAIAAwACAAUABgAEAAQABgAJAAkAAwAEAAQABAACAAIABAACAAIAAQADAAAAAQAAAAAAAwABAAMABQAEAAMAAQAAAAIAAQD8//7/AAD+////AAAAAP7//P/7//r/+//9//3//P/+//v/+v/8//z/+//7//r/+v/8//7//f/8//z/+//9//7//f/9/wAAAQAAAP7//////////P/5//v/+f/7//7/AQD///z//v///wAAAAAAAAAAAAACAAIAAAAAAAAAAQACAAAABAAGAAcABwACAAMAAwABAAYABAAIAAYAAgABAAMABgAHAAcABQAJAAYACAAJAAYABAABAAQAAAAAAAIAAAAAAP////8CAAUAAwD+//7//v///wQAAQD///3//f/8//z//f/8//n/+//5//n//P/9//3/+v/+//7/AAABAAAA/P/7//////8AAP3//f/9//r//f///wAAAQAAAAAAAgAAAAAAAAAAAAEAAAACAAAABgAHAAUAAwACAAUAAwABAAAAAAACAAEA//8BAAEAAQACAAEA/v/9/wEAAgABAAAAAQD+/wAA/////wAA/P/+//7/AAABAAAAAAABAAAA//8AAAQABAABAAAA//8AAAAAAgABAP7/AAAGAAYAAAD//wAA/v/+////AgACAAAA///9//7//P/6//z//v/8///////8////AQAAAAIAAgAAAAEAAgAAAP7////+//3//v8BAAUAAAD///////8AAAIAAQAAAAAAAAAAAAAAAAABAAIA/////wEAAgAAAAAAAAAAAAAAAgAAAAAAAgAAAAEAAwAEAAAAAQACAAAAAgACAAMAAQAAAP////8BAAAA///+//7//f/7//z//P/8//3////8//7////+/wEA//8BAAAA/v8AAP///f///////f/+////AAAAAAEAAAD9//3/AAAAAAIABgACAAAAAQADAAMAAAAAAAMABwAHAAcABQAEAAMAAAAAAAEAAAD8//v//f8AAAIAAwAAAAAAAAAAAAAAAAAAAAAA/v/+////AQADAAAA/f/9/wAAAAABAAAAAAABAAAAAQACAAAAAAABAAAAAAAAAP//AAAAAP3//v////7//v8BAAIAAgABAAIAAAD//wAA////////AAAAAP7/AgACAAAA//////3//P/+//3/+//8//7/+//9//7//f///wEAAQADAAQAAAAAAAIABAADAAcABwAFAAUABAAEAAAAAQABAAEAAAAAAAIAAgAAAAAA/////wEAAAABAAAA/f/+/wAAAAAAAAAA/////wAAAAABAAEA//8AAP7//v8BAAEAAAAAAP7/AAABAAEAAQAAAP7//f/8//z/+//8//z//f8AAP////8AAAAA/P/7//7//f8AAAMAAwACAAEAAAD+////AQD///v//P/9////AAAAAP/////+/wAABAAHAAQAAgADAAIAAQADAAMAAAACAAAAAAACAAMAAQAAAAAA//8AAAEA///+//3//v/9//v//v/9////AAD///7//P///wAA//8AAAAA//8CAAQAAgABAAMAAgAEAAEAAgADAAMAAgABAAQABAABAAIABAACAP7/AgAGAAIAAwADAAIAAAACAAUAAwABAAAAAAABAAMAAwAAAAAAAAABAAQABAAAAP7//////wAAAAABAP7//P/6//f/+v/6//r//f/+//z//v8BAAAA+//8////AAAAAAEAAAAAAP/////+//////8AAP7//P8AAAAAAAABAAAAAAADAAMAAAAAAAEAAQAAAP/////+/wAAAAD///7//v/9//z/AAABAP3//f/+//////8BAAUAAwADAAEAAgAEAAQABAAFAAcABAACAAUABgADAAIAAAD///7/AQACAP3//v8AAP3//v8CAAEAAgAEAAQAAgD//wAAAQAAAAAA/v8BAAEAAAD9//v//v///wEAAAAEAAYAAgAAAP////8BAP//AAAAAP//AQAAAPz/+//9/////////////f/8//3///8AAAEA/////wEAAgADAAQAAQAAAAIAAgABAAAAAAD////////+//v////+//7/AQAAAP//AQACAAAABAAEAAIAAgACAAAA//8DAAMAAgACAAAAAAAAAAAA/f/+//////8AAP/////6//z//f/8////AgABAP////8CAAEAAAACAP//////////AAD///3//P/+//7/AAAAAAAAAgAAAAAAAQADAAUABAADAAQABAAEAAQA///9////////////AAACAAIAAAD8//v/AAD///3//P/7//r/+//9//r//P/9/wAAAwABAAAAAAAAAP7/AAAAAAAA///8//3/AAAAAAEAAgAAAAAAAAACAAEA/////wAAAgAEAAIAAgACAAYABgADAAEAAQACAAEAAAAAAAAA/v///wAABAABAAEAAAAAAAEAAQAEAAQAAQD///z//v8AAP//AQAAAAAABAAFAAMABAAAAPz//P/9/wAAAAAAAAAAAAD+/////v8AAAAAAAABAAAA/P/7//7/AAAAAAAAAAD9/wAAAgACAAIAAgD//wEABAACAAEAAgAAAP//AAABAAAA//8AAAIAAgAAAAAAAAD//wAABAAEAAMAAgD//wAA//8BAAQAAgAAAAEAAQAAAAQABQADAAIAAgADAAUAAwD9//z/AAD///3/AAACAP///P/6//r//v8AAP3//v/+//v//v8AAAIAAAD//wAAAAD9////AAD///7/+v/6//v//v/8//z/AAD8//f/+//+//3//f8AAAAAAAAAAAAAAAD//wAAAAACAAEAAAADAAMAAAACAAUAAwACAAQABgAEAAQAAgAEAAUABQAEAAMABwAGAAAAAAACAAMABQABAP7//v/+/wAAAQACAAAAAAAEAAIAAQACAAUABAABAAAA/f/9//3//v/8//j/9f/4//r//P/8//3////9//7//v/+//7//v/9//3//////wEAAAD8////AQABAAIAAQAAAAIAAQABAAMAAQAAAAEAAwABAAEAAQACAAAA//8AAP///////wAA/f/+/wAA/////wEAAwAAAAIAAwABAAEAAQAEAAMAAwAAAP//AAAAAAAAAgABAAEAAgAAAAAAAAAAAAEAAwABAAAAAAAAAAEA/v8AAAAAAAAAAAAAAAD9////AAABAAEAAAACAAIAAgADAAIAAAD//wEAAgAAAP7/AAADAAEA//////3//f/9//7//f/8//3//v////3//////wIAAwD+/wAAAAD+//n/+v/7//3////8//z//P///wEAAQACAAAAAQACAAQABQADAAAAAAAAAAAAAAACAP//+/////3//f/9/////////wAAAAACAAAAAAD+////AgABAAIAAwAAAAAABQAFAAMABAADAAQABAACAAQABAACAAMABAADAAIAAgAFAAIAAQABAAIA/////wEAAAAAAP//AQACAAIAAwADAAMAAAAAAP3//v/+//3/AAD///z/AAACAAIAAgD+//v//f8AAAAAAAD///z/+//6//7//f/4//b/9v/5//n/+v/6////AQAAAAIAAAACAAQABQACAAEAAgD+//7///////3//v8CAAEAAAACAAMAAQD9//v//v/+/wAAAAACAAIAAwADAAAAAAD+//7/AgAHAAUAAQADAAMABAABAAEAAQD+/wAAAgAEAAMABAAEAAIAAAAAAAMAAgABAP7/+v/7////AAAAAP7//f8AAAEAAgAAAAEAAAACAAEAAAABAAEABQADAAIABAAEAAEAAgACAP7//v/+////AAD///3//f/+//7///8AAP//AAACAAAA//8BAAAAAAD//wAA/v/9/////v8AAAAAAwAAAAAAAAAAAAEA/v/+/////v/+//3//f//////AAABAP7/+//7//z//v8AAAAAAgAAAP7//v///wEAAwAEAP////8AAAEAAgACAAMAAgAFAAUAAgADAAMABAACAAMAAgACAAMA///9//7/AAABAP//AAACAAAA//8AAAAA/v/9//z//P/8//3////+/////v8AAAEA/v8AAAEAAwACAP/////8//r//f////7/AAD9//7/AAD+/wAAAAAAAAIAAQAAAP//AgAEAAMABQADAAIA///8//3/AAADAAQABQACAAAAAQAAAAEAAwAEAAMAAAD//wEABQAEAAEAAQABAAMABgADAAIABAACAAIA///+/wAA///+/////v/+//7/AAD9//3/AAD//wAA///8//3/AAAAAAMABAABAP//AAAAAAAAAAABAAEAAAAAAP///v/9//7/AAACAAEAAAAAAAAA/v/8//z/AAABAAEAAgAAAP3//P/+//7//P8AAAAA/f/+/wAA///+/////f/+//7//f8AAAAAAQABAP7//f///wAAAgABAAAAAAD//////f/9/wAA/v///wAAAgAFAAAAAwAHAAYAAwAAAAMAAAD//wAAAAACAAAAAQADAAEAAQABAAEAAQADAAQABAABAAAABAADAAMAAAD//wIAAQAAAP3//v8AAAIABAAEAAMA//////7//P////7//////wAA/f/7/////f/9//3/AAABAAEAAgAAAP/////+/wAAAQAAAP/////6//r//P/8/wIABAAEAAAA/P8AAP//AQAFAAAAAAABAAAAAQAAAAIAAgD//wAABAADAAMAAAADAAUAAQABAAIAAwD///7/AQAAAAAAAAAAAP//AgAAAP7/AAD////////+//7//v8AAAAA/v/+//7////+//7/AQABAPz//P/+/wAABAABAP7//P/9/wAAAQACAAEAAQAAAPz///8CAAEA/v///wAAAAAAAAIAAQAAAAAA/P/6//z//f////3/+/8AAAUAAwAAAAEAAgABAAMAAgD//////f/9///////9/wEAAgAAAAEAAAABAAcABAACAAQAAwACAAQABQAEAAMAAgABAAAAAQACAAEAAQAAAAIABAADAAQAAQAAAP//AAADAAQAAgAAAP7//v/8//z//P/+//3//v8DAAMAAQABAP/////+//n/+/////3/+v/6//r/+v/9//z/+v/7//z//v8AAAAAAQAAAP3//P8AAAIAAQAAAAEAAwAEAAQAAwAFAAQAAQACAAQABAACAAQABQAEAAQAAwAGAAEA//8BAAAAAAD///3///8AAAAAAAD+//3////9///////7////AAAAAP//AAAAAP//AQACAAIAAgABAAAAAgAEAAEAAwAEAAAA/v/+/wAAAAAAAAAAAAD///////8AAAAAAAD/////AAADAAIAAQABAP///v///wAA///8//z//f8AAAAA//8AAAAAAQABAAAA/f/8//3//P/7//v//v////n/9v/4//v//P8AAAEAAQD//wAA//8AAAQAAQAAAP////8AAAEAAgACAAAAAQAEAAYAAwAAAP7///8AAAQABAACAAMABQAHAAQABQAFAAYACgAEAAMABAABAAQABAAAAP3/AgAGAAUAAQD//wEAAgACAP//AQADAAEA//////3//v8AAAAAAQAAAP////////z/+f/6//3//f/+//3/+v/5//j/+f/9/////f8AAAEAAQD+//3//P/8//7//P/7//7/AAD+///////9////AQABAAMAAwAAAAEAAAACAAMAAQAAAAAAAAABAAIAAgACAAEAAAABAAIAAgADAAIABAAEAAYABQADAAAA//8CAAMABgAGAAIAAgAFAAQAAAAAAAEAAAAAAAAAAAD//wAAAAD+/wAA//////z/AAAAAP/////+//7/AAAAAAAA/f/9//3/+//+////AAD7//z///8AAAAA//////7/AAAAAP///v8BAAQAAgAAAAAAAAADAAAAAAACAAEAAAD+//7//v////////8AAAAAAQD//wAAAAAAAAEAAQADAAAA+//7//3//v8AAAEAAQAAAAAAAAAAAAEAAQAAAP7/AAACAAMAAwABAP//AAAAAAAAAAACAAMAAAAAAAAAAgADAAYABAAAAP//AQAEAAMAAAABAAMABQAEAAAAAAAAAAAAAAAAAAAAAAABAAAA//8BAAMABAADAAAA/v8AAP//AgAGAAIA/v/8//3//v/+//v/+//8//3//P/9//7//v/9//z//f/8//z//f/8//3//P/7//v/+v/7//n/+//+/wAA/f/7//v//P/9//z//f8AAAEAAAD//wIAAwAFAAgABAAAAAMABwAHAAcABgAFAAIAAgABAAAAAwAEAAQAAgABAAEACAAIAAMAAwAFAAcABAAEAAQABAABAAAA///9//7////9//z//P///wAA/v/7//n/+P/6//z//P/7//z/+//4//z///8AAAEAAgABAAAAAAAAAAIAAAAAAAIAAAD//wAAAAD+//3//f8AAAEAAAAAAAAA/f/8/wAAAQAFAAUAAAD//wAAAAD//wEABAAEAAEA/v/9//3//v///wAAAAAAAAIAAAAAAAAAAAD//wAABAAGAAYABAADAAIAAAAAAAAAAQACAAMAAwADAAIAAgADAAQAAwABAAIAAAAAAP////8AAP7//P/+/wIAAAD//wAA///+//z//P/9/////f/9/wEABAADAAAAAQACAAAAAQADAAAA//////z//f/9//7/AAAAAP///v8AAP//AAAAAP3//v8AAAIAAQABAAAABAAFAAIAAwABAAAAAwACAAAAAAD+//z/AAADAAMAAAAAAP//+//6//3//f/9//7//P/8//7/AQACAAMAAgAAAAQAAwABAAAAAAAAAAAA///+/wAAAQACAAEAAQADAAIAAgACAAEAAQACAAEAAwACAAAAAAAAAAAAAwADAAQABQACAP///v/+//7/AAAAAPv/+f/7//n/+v/8//v//P/7//3//f/+/wAA/////wAA/v/9/wAA/v/+///////9//7///8AAAAAAAAAAP//AAABAAAAAAAAAAAAAgAFAAQABAABAP//AAACAAMAAAAEAAMAAAAAAAAABAAFAAAAAAAEAAQABAAEAAMAAQAAAAQABAADAAMAAQAAAAAAAAABAAMAAgADAAMAAQAAAAMAAAD9//v//f8AAAAAAAAAAAIAAgD///7/+//8//v//f///////f/9//r/+f///wAAAQAAAP7/AAAAAAAAAAABAAAA/f/7//3//P/5//j/+v/9////AAD+/wAA/v/+/////v8AAAEABgAEAAUABQADAAMAAwACAAMABwAFAAUABAACAAUAAgABAAAA//8AAP//AAACAAAA//8AAAIAAAAAAAAA//8AAP///v///wAAAAD7//3//P/+/wAAAQAAAP/////8/wIABwAEAAAAAQADAAEACQAHAAQABAABAAAA////////AAAAAP7//v8AAAAA/v/7//r///////3//f////3//f/9//7//v/+/wEAAQAEAAMAAAD+/wEABAAAAAAAAAACAAAAAAAAAAAAAgAEAAEA//8AAAAAAAACAAIAAwAEAAQAAgADAAQAAAD+/wAAAgABAAAA///9//3//v////3//f8AAAAAAAAAAP///P/9/////////wAA/v/8///////+//7/AAAAAP7//f8AAAEAAgAAAP3////+//7//v/+//3/AAAEAAIAAAAAAAAAAAAEAAMAAAABAAEAAAACAAIAAAAAAAAA/f/8//z//f8AAAIABQAEAAIAAgAAAP///v8AAAAAAQADAAIAAgADAAEAAAACAAIAAgD/////AQABAAIABgAGAAMAAQAEAAUABAAGAAEAAQABAAEABAADAAMAAgACAP7//v8CAAMAAQD+//3/AAAAAP7////9//z/+v/4//z//v/8//z//f/9//3//f8AAP7/AAABAP7/+//8//z/+//+/////f/6//v/+//8//7//f/8//r/+//9//7///8AAAAAAgABAAMAAgAAAAEAAgAEAAYACAAGAAYAAgAAAAIABAADAAAAAgAEAAQAAgACAAAA/f/8//////8AAP7//P8AAAAAAQAAAAAAAAABAAQAAgABAAMABAADAAQAAgADAAIAAAAAAP7///8AAAIAAwABAAEA//8AAAEAAwACAAAA//8AAAAA//8AAAAA/f/9//v//P///wEAAQABAAIAAAACAAEAAgACAP///f/8//3////+//3/AAAAAP///v////////////v///8AAAAA/v/6//z//f8AAAMAAgAAAAAA/v/+//3/AAAAAP7//v/+//7//f///wAAAAABAAEAAQABAAIAAwACAAEAAQAGAAQABAAEAAAAAAAAAAQABAACAAEA//8AAAQABgADAAIAAAAAAP////8BAAQABAD///3//////wAAAwAFAAQAAgAAAAAAAgACAAEAAAACAAAAAQD///3/AAD+//7//v8AAAAAAwAAAAAAAQAAAAIAAQAAAP7/AAADAAMAAAAAAAAA/P/7//v/+//9//v//P/7//z//P/9////+//7//j/+v////3///8AAP///v/6//z////9/wAAAgADAAQABAADAAIAAwACAAMABQAHAAYABQAEAAUABQAAAP7/AAD//wEABAAFAAYAAwAEAAIABAACAAMAAgAAAAIA//8AAAMAAwABAAAAAAAAAP//AAAAAAAAAAAAAAAAAQADAAAA//8AAP///v/8//n/+f/5//b/8//3//r/+f/2//n/+v/5//7//f/7//r/+v/5//v//v///wAA//////3//v/9//7//v8AAAMAAAD//wIABQADAAUABQACAAMABQAFAAMAAgABAAMAAgADAAUAAwABAAEABQAGAAYABwAGAAYABQACAAEAAAAAAAEAAwAAAAIABAAEAAMAAwABAAAAAwAAAAAAAAABAAAAAAABAAEAAAABAAAAAAACAP7//v/+//z/+v/7//7/AAD////////+/////f/9//v//P/8//v//v/+//3///////v//f/7//z/+//5//v//f/9//v/+//6//3//v///wQAAAAAAAAABAAGAAIAAwAFAAkABAAFAAgAAwADAAIAAAAAAAAAAAADAAUAAwAAAAAAAQABAAAAAgACAP//AwD+//3/AAAAAAEA//8BAAAAAAAAAAAAAQAAAAAAAAAAAAIAAgABAAQABQAHAAYABAACAAQAAgADAAUABAAGAAIAAgADAAMAAgABAAIAAgACAAEA/v///wAAAAAAAAAA/P/+//z/+P/5//b/9f/1//n/9//7/////f/7//r//f/6//3//v/8//z/+//6//7/AAD///7///8AAAAAAAAAAAIAAgD//wAABAAAAAAAAgD//wAAAwACAAMAAwAEAAUAAgAEAAYABQADAAMABQAFAAcACAAIAAcABQAGAAAAAAAAAP//AAABAAIAAgACAAEAAAAAAAAA/////////f/8/wAAAAD///3//v/+//7//f/9/wAA/P/+//7//f///wEAAAAAAAAAAAD///3/AAAAAP7/+//9//3//v/+//v//P////z//f8AAP//AQABAAIABAAGAAUAAwADAAIAAgACAAMABAAFAAgAAwAAAAIABAAEAAIAAgAAAAAAAAD///r/+//9//z/AQABAAMAAQD9//7/AAAAAP/////+//7/AQABAP7/AAD///3//v8CAAMAAwAEAAAAAAD7//3///8AAP///v8AAAAAAAABAAMAAAD7//n//P////3//v/+////AAAAAAAAAAD+////AQD9/////v/+/wEAAgADAAMAAwACAAIAAQD//wAAAgAEAAYAAAABAAEABAAHAAgABgACAAQABQAHAAcABQAGAAQACAAJAAMAAwADAAQA/f8BAAIAAwAEAAEA///9/wAA/f8AAAEA///9//3/+//7//r/+//4//v////+//////8AAP3////+//3/+v/9//z/+v////v/+f/7//v/9v/2//v/+v/7//3/+//7//7/AAAAAAMABAAEAAUAAAACAAYACgAJAAcABwAEAAAA//8BAAEAAAAAAAEABAAAAAMAAgABAAAA/v/+//7//P/6//v/+//7//r/+//7//z//v/7//v//f/8//v//f8AAAAAAwAEAAEAAgABAAAAAAAAAP3/AQABAP///v8AAAMABgAEAAIAAwADAAYAAwACAAAAAwAEAAYACAAFAAIABAAHAAkABwABAAAA////////AgAEAAYAAgAAAAAA/v8AAP/////9//3//P/8////AAAAAAMAAQD8//3////+//7/AAACAP///f/+//3/+//+//3/+//9/////v/8/////v///wAA////////AAD9//r/+f/+/wIAAQAAAAAAAgACAAIABgACAP//AgAEAAIAAAACAAIAAgACAAAA/P/+/wAAAAAAAAEABAAEAAMAAQAEAAYABQAFAAQABAADAAQAAwAEAAIAAAADAAYABAABAAYABQAAAAAA///9/wAAAAD+///////+//3/+f/5//7/AAAAAP7//P/7//v//P/5//j/9//7//3/+v/7//z/+f/7/////v/6//v/+//+//z/+v/8//3//v/9//7/AQACAAMABAAFAAQABQAKAAYABQAEAAAA//8AAAEABAAIAAQABAACAAAAAQABAAQAAQAAAAAABQAKAAkABgAHAAUABgAHAAQAAQABAAIAAAAAAP//AQABAAEAAAD///z//v8AAP//AAAAAAEABAABAPv//v8BAAEAAAD+//7//P/6//z//f/+/wEA+v/3//n/+f/6//z////+/wAAAAD8//v//P////7//P/4//n//P/6//3//f///wAA/v/+//z//v8AAAEAAQABAAEAAQACAAMAAwACAAIAAgADAAUAAwADAAYABQADAAEAAgACAAEAAQAAAAMABAACAAMABgAIAAoACgAEAAEAAQAEAAMAAQADAAAA+//+//3/AAACAAIAAAAAAP//AAACAAAA//8AAAAAAQACAAIA//8AAP7//f///wAAAAD/////AAAAAP3//f/+/////f/7//3/+P/3//r/AAAAAP3//P/9/////v/7//v/+//+////AgAAAAAABQAFAAEA//8AAAIABgAHAAUABQAGAAcABAACAAAAAAAAAP/////+/wAAAAAAAAMABQAFAAMABwADAAIAAgAAAAAA//8DAAEAAwACAAAAAgD+//7/AAACAAAA/v//////AQD/////AQAAAAIAAQACAAIAAAD//wAAAAD9///////7//b/9//6//z//P/8//r//P8AAAAAAwAFAAIAAgABAAAA//8DAAMAAQADAAAAAAD9/wEAAwAAAP//AAAAAAEAAAD///3/+v/8/wAAAQAAAAIAAQABAAAA/P/7////AAD+/wAAAQACAAQABgAAAAAA/f/+////AQADAP//AAABAAIA/v/+/wAAAwAFAAQABAAEAAMAAAAAAAAA/f/8//z//P/+//v//v///////////wAAAQAAAP//AAAAAAEA/f/9////AAAAAAAA/v/7/wEABAAHAAYAAQABAAIAAQACAAMABAADAAIAAAADAAQAAwAEAAAAAAAAAAAA///9//3//v/9///////8//7/+//8//7//v8AAPz/+v/+//7//f/9//r/9//5//3/AAAAAAEAAAAAAAQAAgAAAP//BAAEAAUAAwAAAAAAAQAAAP7////9//7/AAAAAAEAAgAEAAUAAwACAAEAAwAEAAIABAAEAAMABQAFAAUABgACAAEABAAFAAQAAgADAAQAAwADAAMAAgACAAIAAAACAAIAAgADAAMAAwACAAMAAQABAAAA//8AAAIAAQD+////AAD///////8AAP3//f/8//r/+v/4//f/+f/1//T/+v/7//r/+f/3//X/9v/4//n/+//9//v/+//8//7//v8AAAAAAAD//wAAAAACAAUA/////wMABAAEAAYAAwACAAAAAgAEAAMABAAGAAYABgAGAAYABgADAAMAAwAFAAIAAwAEAAIAAgABAAIAAQAAAP//AQACAAQAAAAAAAIAAgACAAAAAgAAAAEAAQAAAAAA+//6//n/+v/7//j//P/7//f/+f/6//3//f/6//v/+f/7//7/+////wAA/P/5//j/+v/+////AAACAAAA/////wAAAAABAAQAAgADAAEAAQAAAAEABwAHAAcABwAAAAIABAAAAAQAAwAGAAkACAAGAAUACAAHAAYABwAGAAcAAwAFAAYABAADAAUACAAIAAQAAgD+//v/AAAAAAAAAAD8//r//f///wAA///+/////v8AAP//AAACAAAA//8CAAEAAAAAAP///f/+//7//P/8/////P/6//j/+P/5//n/+v/2//r/+//3//n/+f/0//f/+P/0//j/+f/5//X/7v/1//r/+P/7//b/8//1//X/9//4//f/9f/y//H/9P/2//v//P/6//j/+P/7//n/+P/4//n//P/+/wAABQAHAAoACgAMAA4AEQAUABsAGgAbACAAIQAoACoALwAvAC8AMQAuADMAMgA0ADQANgA1ADIANAAzADEAMgAyAC4AMAAuACcAJQAgAB8AIAAcABYAEAARAAwAAwAAAPv/8//z/+7/6v/m/9z/3f/V/87/yP/E/8X/u/+2/7D/sP+v/6//rf+q/6n/o/+i/6L/nf+a/5j/nP+e/5z/m/+W/5b/m/+k/6f/qf+s/63/sP+w/7H/t/+5/77/w//H/9D/zv/V/9n/3v/s//P/9//9//3///8HAAsAFQAdACQAKgAvADgARQBQAFYAZABpAHMAhQCTAKIArAC1AMYA1ADgAO0A+AAIAQ8BGAEjASkBNAE/AUQBSgFLAU0BUAFIAUUBPgEzASYBFAEAAe8A2ADAAK0AjgBuAFAAMAAOAOv/xv+g/3b/Tv8p///+3v6//p3+fP5e/kT+Kf4S/vv96f3X/cj9uP2w/az9qv2u/bD9vP3J/dv98P0D/hb+Mf5L/mP+fv6e/sD+3v75/hf/Nf9N/2f/fv+X/63/v//Q/+T/8//6/wQACgAQABYAGQAeACQALgAzADgARABVAG4AiwCsANMACAFKAZcB6QFDArECJAOcAw4EfATrBEQFmQXqBTEGdAauBt4G+AYCBwEH6gaxBmUGAgaGBfcETwSdA9kCFAJcAZwA3v8t/4r+5f0+/aj8Ffx3++P6W/rf+XH5E/nD+Hb4NvgZ+Ar4APgR+DT4Y/iR+Mz4Iflx+bn5Cvpq+sj6MPug+wr8cPzf/Fb9x/1A/rv+LP+P/+//XADAAA8BUAGEAbMB5gEcAlMCeAKKAooCfQJwAnECdgJfAjoCCQLiAb8BpQGUAXYBaAFSATEBFQH6APQACwEzAXUBwwEIAlcCzgKOA4UEVQXOBfYF4wX7BWsGHQfVBykIHAjTB6UH6wd7CNMIiAiUB1QGPwWNBDQEsQOZAiIBsf/C/or+p/6F/r39gfxm+7L6cfpT+uH5/Pje9/32ofas9sv2wvZ69jj2UfbE9l731Pcf+Er4aPi1+DH5rvkb+oH67/p7+yb82/yA/RT+u/55/y0AyAA8AYoBzwElApMCAgNNA3IDjQO8AxcEfwS/BL4EhwRRBDsERQRSBDsE9AOXA1ADLAMoAx8D7AKbAkcCEwL7AdwBnQEzAcYAZwAjAP7/1v+c/0X/7f6m/mr+O/4D/rX9Yv0k/fv82/zK/Mv86fwc/XX99/1y/gP/2P/BAJcBOgKYAsQC7QJ3A3MEYQUIBmgGcwZ+BvoG3AeTCJ4IDwgzB0wGwgWlBV0FjgRsA2ACsQGMAd4B/QFdAUsAVv+s/kD+8v1r/Vf8/fr8+XT5MPkZ+fj4kfgT+Pf3Tvin+NP42vil+FX4RPid+BL5Xvmp+fn5Qfq0+mL7Fvyi/B/9sv00/pH+9P5d/67//v9nANMAKwF1AcUBEAJMAokCsAKkAoMCbwJtAm8CYwJFAgcCswF8AXkBkgGkAZABWAETAd8A0gDUALgAcAAUAMD/g/9v/4f/m/+Y/6v/7/9PALgATAEkAvUClQMZBF8EbwSeBDEFEQbRBlwHtQenB40H9wfGCF0JTAmpCKkHlAYABu8FrAXLBH4DMwJHARABeQGhAeYArf+S/tf9jv2J/Tb9HPyY+nD52fis+Lf4jvji9xT31fY59733Gfgp+M33UPc797D3Q/iQ+K/4t/jL+EL5Gvrr+nL71ftO/Nz8fv08/uD+Of9q/7//QADOAFgBwQH2ARgCTwKYAtIC8wIPAxQDAgPuAusC3gK6ApkChgJ4AmoCUgIgAuUBtgGgAYMBUQESAdYAowCFAIQAhQBxAEgAHwANACEAOgBGADUAGAAXAEcAnwAFAVYBowElAs4CjwNBBKkEvAS0BN8EaAUHBnwGqwZyBiAGIQaOBhEHMwfMBgYGJQWiBIoEdQT2A/4C5QEGAa0A5AAkAdcABwAX/2P+GP4a/gD+Xf1A/DH7hfox+hz6+Pl5+bv4NPgq+G74ufjf+Lf4TvgH+CX4dPix+ND41fjW+AP5e/kX+pH67vpN+7L7L/zD/FD9r/3s/Tj+qP4q/7v/PwCkAPEASwHAATACigLIAukC9gIPAzoDZwNzA2kDWgNPA1MDXQNZAzoDDAPeAsECpQKGAlUCFgLMAZQBeAFoAVMBKwH+ANcAxQDGANUA1QDTANwAAAEpAWABrgEHAmQCtAIBA0QDeQOrAwUEXgSpBOIE9QTlBNgE6AQUBS0FDwXVBHAEEATVA7kDhAMTA4MC/QGKAUsBOwEKAaMAGgCo/0z/Ef/o/qH+E/5i/cX8S/zr+5b7QfvK+k/69vnV+dH52vnX+br5ivl0+YP5lfmq+bP5r/ml+bX55/kv+nP6ufoA+0b7lfv0+2D8u/wS/Wn9xf0b/nn+4f49/4j/0/8iAG4AtAD1ADUBXQGBAbYB8QEeAkACUwJVAlMCXAJ0An4CeAJ2Am4CWQJWAmsChgKSApcClgKMAoIChAJ/AmkCQwIZAvQB3AHXAdwB2AHGAcMB1gH2ASUCWwKMArkC5gIXA0EDZwOMA7ED2gMNBD8EawR8BHYEcAR2BHkEbwREBO8DiQMkA9cClgJFAs4BRwHQAIAAVgA/ABAAw/9i/wz/2f65/pD+O/69/Tb9yfx//Er8B/yr+z775/rA+rr6tvqd+nD6MvoJ+v75Ffon+iD6Gfoa+jP6a/q4+gL7PPty+7r7Dvxy/Nf8MP13/b79Ev5n/rH+9v4w/1//j//G//f/HAA8AFgAggCiAMcA4gDvAPcACAEnAUgBZgF/AYoBkwG0AeEBEgIvAj4COQI3AkUCagKLApQCjwKBAnwCggKWApoCiwJlAkECKAIfAiICJAIgAhkCLQJQAoACsQLjAgkDLANUA3YDjAOUA5UDnwOxA8kD5APpA90DywPFA7wDsgOLA0ID2gJ2AhsCwQFmAfAAeQAIALL/g/91/2D/PP8F/8/+qv6N/m7+Mf7W/Wb9//yh/F/8Kfz0+7j7gvtm+2D7bvt/+437f/t5+3H7d/t2+377fPuC+4D7lvvX+//7J/xG/Gn8gvyq/Lz84Pzm/P/8Ff0q/Ur9dP2x/eD9Kv5r/sb+Bv9Y/5X/0P8DADcAaACPAMUA6wAmAWABrAHfARYCRQJ+ArgC4wIMAxkDJAMfAysDNwNLA1cDYgNsA3cDjAOOA5QDggNvA0IDGAPsArcChgJPAiQCAwIHAgMCEQIXAjICUQJkAn8CigKLAoEChwKTAqoCrwKxAq8CpwKsArUCuwKnAnUCMQLoAaMBXgEWAbkAUgD2/67/gv9r/1r/P/8e//z+8/7w/uT+yv6U/kf+//2//YP9T/0U/dr8o/yE/Hv8hvyP/I38hPx3/Gn8Yfxf/EX8JvwE/Oj71fvM+8/70fvd++n7Bfwm/Ej8bPyN/LL81/wA/R/9Rf1p/ZX9x/3+/Tj+bv6l/tn+H/9l/6f/4f8TAEgAhADKABMBXAGYAc8BBwJHAosCygL9Ah8DPANXA3YDlAOrA7MDqgOmA6IDogOfA4wDYwM4Aw8D7gLJApwCaAIsAvsB1AG/AbUBsQGrAawBuwHTAfcBFQImAjICPQJQAm8CkQKtArkCugK+AsICxQLBAqoCgwJQAhgC3QGmAWIBEwHAAHIAMgACAN7/vv+e/37/aP9b/1f/T/84/w//3/6s/nj+SP4J/sH9df0u/fr80/yz/JL8dfxc/Ef8OPwt/CD8Dfzz+9b7vPum+5X7gPtz+237bvt6+4/7rvvM++/7FvxC/HP8pfzZ/A/9Sf2C/br99v01/nj+xP4J/0v/jP/I/wUARwCTAOEAKAFjAZsB2AEVAlkClgLEAuUC/wIcA0ADXgNvA3IDZwNVA0sDSQNCAzEDDwPnAsICoQKJAmsCQgITAuABtQGbAY4BgAFyAWYBZgF4AZQBswHVAfIBCAIkAksCcgKRAq0CyALjAvwCDwMeAx8DDwP5AuYC1AK3AoACPALyAawBagEmAd4AkwBPAA8A3f+0/4//Zv84/w3/6f7L/qz+gv5L/gv+z/2W/Vz9Jf3q/LP8e/xN/DT8JfwV/Aj8/Pvz+/D7+vv/+wL8/fv3+/r7+/sA/Ab8Efwb/DH8Tvxx/JP8vfzk/Br9UP2G/bb95f0P/jT+Z/6T/r/+3v4H/yf/WP+a/9T/CQBJAHkAswD0AC4BbAGqAd4B/gEqAkwCdgKVAqgCsQKtAr8CzwLSAssCwgK8AqsCowKZAngCYAIxAhAC/AHiAdABuAGXAWwBVgFKAUcBSwFNAVMBYgGHAeIBAAInAkkChAKmAsYCAwMZA0YDWANNAz0DYgN1A1IDJAMWA/8C6gKqApQCQwIqAu4BnAFHAR4B5QC+AGsAQAC+/4L/R//r/q7+Uf55/sj9w/3c/T7+6f1a/hD+sP2m/Rj+tv0v/dz8l/xC/EX7Cftn+p36Uvri+aj4YPiN+OL4xPiv+Kv4k/j6+Gf5xflC+qv6IvvD+8z8mP2b/df9hv4W/4L/+/9QAMYAMwHNAZwBpQGvAfoB9AFXApsClgIvAgACNAIIAscBewFOARoBkgEvAbkAVwBJAFIA/f/T/4L/Y/9b/yT/y/5f/mz+Qv4J/hL+Rf6g/rP+Yf+z/6gBcwQLB9QJ+AsTEGMTxBX4F7IZ5xtPHBsbUBiPFZsTThCtCwgGdwK6//v7Xfgd9aTz5/H17x3u/eyC7WntIOzB6sHqNezd7ALt3O3r70vzI/az+PD7QwD6A6QGNQktDFsPTRD4D24PcA6wDVALOwgiBToCwf8S/Bz5H/fP9Q/0V/Kz8ZLxgPL98mzzGPRk9f/2HPj3+WT7rvyI/Yn++v9dAY4CkgJ+AtMC9wMiBF0DVgJ/AR8BPwCF/4T+Af3a+376ovnc+KT43fcm92/3AfiQ+eP5Bvuq+yz9Of8AAHQBiAL+A6gECgVQBloHdwkECsIM7hJxGI0eBCIUKAQuYzFZNHc0jzVANO4u5iVBG3cTbgqi/unweuV23iDXnNCmyzzKTsppyvXL3M7I1R/cIODR4krnhu8R9sL5JP2BAWkImg6pEiIX5RugIGgiViPOJNklhSRfH8UZIhTIDiYIsf4h9nbuY+jd4ePbdNmn10LXLtYy2PvcMeK45wjsYfIQ+Zz/fAVECn0PBhOwFScXNhgGGtgZbxeqE1MRmQ93DJcH+AEo/pv6gfZQ8lDu5Ot26THnk+Ub5QnnR+nN6pnsJfAI9on7jf+pA0wISg3gEEATcBVNF00YeRgyGAMXLxqBH6oi0SRpJsYsFDEoMrMyOzEyMTktBCVBGcEM3wMs+IjpEdr+ziHJQ8KrvOK5dLxxwMLEzspV02TfC+ld8Jr2xf6VCMEOcxEME5gWlBsLHqkd/R3bH7QgKx/5HI4bexnLFRkPEQi/Afv7P/St6oHiJNw22BPUedEO0VTTDNf52p3hX+qo8/77+gLjCrUSgRndHdkfYiFEIeYfxxzcGLgUCRAlCj0Dcv0m+ef04e/36gTomeZa5QjkceMn5GbmX+ic6gTuPvLW99L7R/9EBM4JBA9EEgMUuRadGPQZkBl5FzUW7xS0ElgQQRJMFhQarBscHrMj8CdwK0QsoSttK3MoESFHFXMKNQLw9j7oy9nc0IDLBcZMwZy/JsLFxpvMBdMo3CLnt/C59+L80wSkDcgRMRL9ERUVqBgzGV4XgRZvF7gXxhZvFCcTgBK/D4wKZgSy//r7FPXs7I7ly+AL3r3aYdga2GXaHd5k4gfpO/Ey+aIAawdIDtIUYBrAHHIdHh1NHDkaWBXaENwLbQZFALj5vvWS8qXua+rT55Dng+i66Ovo0un866/vJ/Kk9CT4dfx9AIYCLQVhCcANZxDkEPkR/RKIFJQTwBGBD28NIQzfCaEGNgZUC1YPLhOAFJ8bUyTSJxss7izNL4AxEy1dJUUZZRF+CfD7A+zs3rvXqs/HyBbCCcJpxEjGX8u8z+ra7uR36yHyo/flAeAIBQuqC0sNVBKJFKsTKxKAFHsWZBYyFWwUhBbmFQ4TTA6RCt8IBwT9+y30AO776eDk7N6e2xrbm9xq3Xvfo+XM7WD0zfk+ACUIsw+8FEoWxhc4GbAZVxd5Ej0PnwvOBnQAL/tP+B/2avJQ7o7sUu0l7srtKe2O7jTxX/O09A72dvnV/KD+IP8kAc4E9AfgCPQIZQmEC90M/AzoCsEKWwprCswIOQixD0YTTxmYGqIgxCpjLQIz8TIZNcg3DDPoK14eCBYlDsn/bu5n3wHY5M1+xhG+xLtHvpS+csSix4rSUt5G5UPt//K6/gAILwzfDMwORhWSGNAYqBZwGM0afhrXGagXgRjfGJwV9hAPDF4JQQX//EX0B+2C5+riityb18bWJNfr18jZNt+a59HudPUU/TgFuw2iFLgXWhqjHHgdsRx3GDUV9hH0DO0GLwCi/Cz6q/Um8ZjuJ+787TTtJ+yA7FjuZvCD8f7xwPQR+Dn6Ivxz/U4B+wRlBhUHjgfiCtYMtQyVC2QL0gr+DKgKcgtREocWMR5SHlImrS7DMaY4nzcyOe85hzVxLH0doBSlCtr78+jo2tDREMe6wYi40bcZugG8PcNcx6DTMd+455vvPfZuAUULgg9tDsQRERfAGQQaoxdaGaYa1hppGtsXfRgyGY4V+Q+ICyUI7AOe+5rxXerK5PHfWdkU1IDThtRf1VnYO96n5oLvsfYH/qQGsQ88F4cahhwKH8kfwx4yGjoWyhLaDVMHhgAD/Tf6M/bk8erugu6t7inuM+0E7cLuNPAI8T7xdvNB9mn4xvmo+vj+SQKABJIF7QYjCpQLhwwkDA0Mogv4DEALsQvmEU4W/Bx9HmAl2y15MaY3/zeNOWI6bDaALcYgFhdmDLP+1Ou73YvTSslEwyK6Abk9u1y9h8MYyRnUV9+w6MTvc/c+AREKnw6qDSgRHhUMF4sXkxWQFkUYZhg4FwEWFRauFksT7g1GCv8F9QEM+lbwkeln5GXfftmf1dvU7tbn2CrcZOKD6lz0MPssAtAKQRL8GBYcrx3uHgAfSx1mGPMTExBsCwQFY/52+n/34PT68Fjt/OxA7Rzteuyc7Dvu2O9I8cbxuPMD94b5+voL/MH/WgOhBVEH1wegCs0MVw0eDYQMMw5ZDPgN6xIYF7MdliApJwEtlTBTN2U4EDkwOdo0zyx8IOEVbQvl/RnswN3u0/bJqcRuvdC7QL55v9bG/8wv1mfhf+rr8T34jgB3CL8N+QydDm8SshPqFX8UvxTmFhEXJxcYFtkVkhWvE4AOHwmBBDP/dvmo7wfnOeIB3XPZgdZc1dTX5tpe373l3u2i9uX+bwVCDC0TxhfQG1EcpxuSG5QYGBWIEKIMeAgGA539i/mI98b0Z/Lr7kvusO7Q7TDuwO387hTwKvF48gf0xvdd+jr86/1/AAMFZQdJCQ0KQQtIDSgNkwxfC6kLmQmBCpAOZhP4GZwdEiVcK5cvzzUNOas6zTqoNuotjyLUFnIM/v7y7B/fQ9S5y0nGKsBpv2rCvcRUyszRatpI5W/tZvIb+Dv+hwU2CkAJPAq/DTgQqRJ7E3MUyRg2GnAZpxnpGOoYWRbgD3AI6QG0+yT10uvy4e/cl9i51T3V/dTw2DHeWuIF6eXww/kIAv0HQw3tESEWbhmgGg4ZuRfLFQISxw75ChMHTgNn/mv6Zvcj9c3yovBT7zbu7O207Qbvqu/O8D3ys/L19PX3MPtA/fD+iwE2BCYHHwkfCkQLmQxqDDAL/Qo2CpAMUhARFZ0a6h4YJ6gtaTHXNYo4ETqUOU40gSpJH5UTJwgA+6bqe97/1MfMksgUxG/EYci+ylDPm9VL3dzm+e1Z8RL2Pvv6APAFFgf2CZgOQBI5FjcZ7RuAIBIiPiDtHt4bdxjxEmEKuQFX+Urxzekt4pjbYdit1d/UCdYN2X7evuOc6F7uavXq+woC4wdsDIQQlhMiFgoYGBniGKoWhxP0EPwNegnnBHn/8fmV9cjxi+0/6//pUekX6QvpQusE7u/wWfOT9Vr4q/wiAFsC+QQlBkUIIgpoCsAKRAygDA4MrgrGCAIMjBC4Fksc4R+aJoosbDDBMy81/jR3MywuzCOdGAAOrwO3+HLqQODA2BbTjdC1zQzOPdDk0l/Vh9nG3jblD+t37f3wPvU7+44BqwV/CpsQYxaeG5Uf7CK0JR0mXiPzHscZDxTIDTAF+PvA81Ps1eZA4YHcKNrf2C7Zgtlh28DfluRB6Z/tjPKZ+fj/4AU8C5IPXBSgF6kZuBqWGl8ZYRZfEbQMcQjEAz7+LPj58gDwOe186uPoPehG6cXpo+oK7LzuCPID9eP3qvuYAEgFugheC5MNSRAiEh8SLBHQD5kPFQ3FDKMOfBOiGUYexiPPKNQsyS+zMOYvBy6PKOkffBMVBwj9cfQp6orgNdnC1V7UXtO91KfWUNkS29fc6N4F49DnBexD74XyOPh1/zgGsg07FKMbTCH8IzAmqyYVJ+gjQB7IFi4QcwkFA4/7fPTN7qfpWuXL4K7d1NtF2ynZr9g82UXdeuJ2597t2vRW/XUFzQzTEi8Y6htoHYEcQxqdF9wUchBLC1YG9gFD/sX6Ffes9BTyzu4f7CLpCOhw5xznFOd66Mfqeu/y9HT6hwGsB8ENxRJAFrUYYhr4GMQXHhVaEWAQARDdE5cZ3h6fJI8oMiq/K5gq2SfqI+QcaBOOB9P6uvGT6//lx+Ka3g/dkd3M3qTgduHL4Dbgat9c3iLgHON66OvulfS9+9MDmgtbFHcaYh8JInoh5R9QHLIYCBXMETwO8AqmB9sEPQK//q/6IPbQ7ynpVeKC3FfZ1tan1qXXJ9tX4VzpH/LR+iQCPgjNDJ4PjxEUEyMUURQFFJ0SehKdEUMRxg+DDFMIdAJH/FX1RO+D6evlCePL4bniqOQI6a3tvPJG9xT7iv5QAikF+AdvCvYMmA/uEdkT9BV5F2UYqRr3HGUh+CSLKAwqaSm4Jr0jlB8AG4cWpRHYC0gD6vp485zuCupi51PjbeDw3DzbdNo52kjbMd1M4BzjCedK6//x0veJ/jgDjQd/CQwM7A4mE8MWfBh6GZgY3BjeF08XKRReEKgKTQXl/vv44vPi73XsgOgH5evio+JC4yPljeYF6VHqTO2178Hz7Pfw/I0ClAdwDPkPIRPQFDsWTRaxFWsSpw4HCuwGHgOe/2/7XfcV9Dnw5+3M6pnpGegJ6IvnnOjR6sLumvOI+Ov9FgP4B9QL1w+0EqIVWhbjFjsWxBc3G4QhwCiQL9003TUBMxosPST0HDEXFhEeC0QDNPz09KLvkOv56C3mZ+KB3aLXktSy0n/UaNfR3B/juOlS7530WvnD/XIB5gLiAy4EWAYQCgAQoRXwGiMd9hwLGhcVhRAEC1YGdAGH/fz5ivc/9eLz6PJq8WbvDOyU6LvlXuRj5Yvok+zD8Xn2GPsi/zkCwQRKBgAHcgf8B5EIFQrjC9MNQg+eDnsMsQizA6r+D/oH91z1NfTK80/zyfJ+8kLy6fH08STyvfKA9FT2Ovoa/+0ERgpSDrIQqxFbEbEQLBG3Ey8aQCK2Kn8wnjIVMGYqNCIYGysWVRNBEtEPFQwhBib/4veU8SnsCOg15PHfRNyE2YLZydsJ4MflL+vp7lTw0u/D7iTw7fLw96j8OAEwBScIHgrOCtwKBQqZCQcIoQfaBh0H9QauBpUFEARDAbL9QvoX91j2AfZh90f4ZfmI+VH5QfhP9832G/fG+Ov6nP3s/6sBQgJpAsoBoQEWAc4AywDvAKgBGwKAAisCUQEHAK/+qv0g/T398v3h/iAAAwG1ATwCMQKgAvUCLwSRBT8H/QgaCtYKgQr5Cb0Igwc6BlcFJgWcBegGkAhQClULUQtxCUQGKwKp/mj8gvsk/Ab9Cv6B/eb7Vvnk9rf1yfUA+Ab72f73Ae4DfwS1AwYDswK+A74FZgjDCpsLpgr5B3MEygCw/bP7+Pom+6L7iftX+uT3fvQS8VPuXO1s7kbxK/W2+F/7Svz5+wP7VPoM+x/9sgBnBIMHMgktCd0HgQVAA3kBvADTAGYB+QHpAQIBGP+c/P75E/gh9y73s/dT+OP4Nflm+W/52fnU+pT8v/7kAKYCzQNYBGcEZQTvBEwGRghMCsULDgzUCm0IbAV/AlwA0f+1AE8CqgNbBOsDbwJlAI3+SP3h/Hv94/5qAGgBlgH5AMH/WP6e/RL+kf9lAUkD/ARzBn8HTAiXCE0IkAcWBw0HcQcKCJsIawgoB0MFdAMAAswAw/+r/mv91fsn+ob4T/dm9vb1zvXY9b713/U49sL2Wfdk+Jn5mPo2++D7lvxg/Tz+D/+H/7H/0//M/5j/J//H/gr+R/1F/Kf7GPsy+zT7PfvR+p36fvrD+l77FfzA/A79qv3y/XX+n/54/yQATwFOAoIDSQQGBQgGAQfwByEIkQg6CM4HTQZIBbgDaAIuARcBPwEcAQ8BWQDZ/3T/sQChAJwA8f9bADkA6wEVAxgCRv+B/soAjAQDCsANIg7HCWwF8gD3ANUFVg49EgwQVAhu/636tf2hBT0LBg3RCWcEX/5L/I/7MfyS/LP8jPqS+HL4D/l4+Wj4DPYV8gvx2vJK90D7Vv6K/UP6/vYu9l/4BP1+AugEqgTzAR7//Psp+w77vPs0/BT9Bf1W/JX7SvrS+E/38/Yg93/5xvzY/zAAjv6c+9/5pvp6/XsAWAJFAxwDrQIRAucBGAKzAgUDTAILAZL/0f6r/W/8m/o1+vz6//wU/sD9A/wh+vr4P/hB+Y38GQRLDZQW5RpIGs8UphDDEM0YVCUEMS80Ty1uIAUVcxDPER4VqhQ9EEEIagBc+EDx0ei14O/Zydiq3B/jZeWY4LLW486azrrW7eKv7Sf1vfj9+Zn5iPr//QAFMw2vFZYbMh+hIFAf2hr3FWgTMhOfFMsV7RR1EMkIXf7O88fs+esl7yTxBPBn67XlpeH43xzh7uQc6nHvrfP89Wv4ofot/YD/HAMHCRAPZxMiFA0SAQ8TDpMNcg7tDdMN4gviBzcC7/v791n2CvbQ9IL0c/FN8NztgOyi6k3sqe5H8X/zbvb6+eH7Ev/RAEEEcgfDDQ0P4RLVGDUiLirNLvotFystJ+UkhSbSJtArsCuAJFMX3Ap7Aev/0PxT+fDz+uu05TPeiNf30snRRdJS1hHbNOIQ5nHl3uJT4yLpavKa/tMGPQx5EOwR3xGKExQVkRn9HA8eJB9SGwYXlREICdgDVgGa/kz97ffV8MLpEeME4a7fYt8m4yTkleS25iDngujM7XHzCvl+/wsGwAl3C80Ntg4GECMTyhWEFZYUqhG6DNoHqgNc/0z8Bfu6+Hf0yvH+7jLrQOmP6Qbpyezi73nxhfLj9Pz25fro/10ElwhJCwAQVxH2EzQXUxpKFvAazyEZJuUpkix8Ji0fdRzmGtEa3xpeHyAZMg/9BeL97fOo82TzPvCl7GHpb+Mo3m7eK93X3SLgJOW/6Gntme8W8PrvPvRX+qgAbwl7DWANsQzFDdUN/Q8TEwoUDhLmD10NdQhwBUoCb/+m+9/5gfbi8azsC+lX55Ln4+gL6S7pPun66hDsSe9q8zP5gP7HAtwFBAgHCYYK8ws/DSoPxhAgECsNQwlRBaMBq/+N/H756/cV9a3yH/AN7nftWu+F74/xq/Gl88P1Rvn0+1kA6gKCBbkIEwmjCmEN9w8yEL8StxE1E+0Q9hN6Gp4cnhyXIYcdvBdGGWcZUhnYGmcdWhneEDgJiQam/jD9dP9b/Aj1JPFT6s7kq+M24qvht+LF5STpOOuA6UjqaeuP7xr1Zvt1AFoEzgPsBH0H3AipDB0QxA/sDcIO8wyMCksHpgbqA6EAb/7Q+pD0gPG7787sH+y76wfsCusa7Jbsu+337vvzaPfZ+9b/QwKNAwgF2AdYCaoLAgxcDOAKhwq7CK8GKQMdADb9Wfsc+5/5+PYB9IHxJO8m8Hzyo/TP9dr3j/ht+c/7w/w7/9sB/gThB10LrwwZDokNAQ7aDrANFhT9GugdQiDtIf4b0hlIGm4cKB5dHzwgghuJEfQL6gjNApECOAGr+930n/Cd6dbkBuKX4YrhbOEg5NvlbeVo5D/lzuVD7I/0b/nR/Fr+8f8PAx0HggrxDWUPthBDEEwPsw6EDKUKBglGBo8EYwNA/gX6LfaT9JPzCfMS8Xbup+w+7c7uFO/y8X3zfvWy93r6Ef3dAFoEYgWABvAHZwl4CecJZQliCMkH8Aa1A6v/Mv4J/db63/mj+SX4vPbD9Krz1/KD9BL45vgb+YL7Jv3f+wf+AQCcAfYDfgeNCaAJugrQCqwJrgeuDn8WkRhAGhIcERcWFYUYAxrjG3YeJyB3HOoTZg4BDZcHYQe8B1UCnvvJ9jjv1+ns58DmsuZG5fXk+eRQ5Nbi7OIA5cfpifBc9Sb4I/rA++7+sQLxBg4L8g5iDx4P9g76DocODQ6gDDIKQAhIBVUAPvy++bz3ifbu8uDvEu7M7XztzO5L77XwCfKV86/2mPiz+73+SQHjApQFHwfhBuQGBQhSCPQH5Ae7Bf0CkQDE/b38HPx4+9T6Ovmf99z18fSA9Un2efhH+1/75fvt/SX/FgATA/IE9walBw8KPQtbC7UMTg7yC68LhhKZFPoUcRX2FEASCRRRFQoWXxUvFtYVRBHpC80KhQk6BugEAwJr/nf58PVr8bzv0O7V7qrr+unG6e7pmuo26vXrSe/X8jL14vbF91L79P4JAr8EWggeCuoJhAlJCfkIUAqyCloIfAb1A2oCKf4f+gf4APdg9TP0gvF17lLuCO+P70Hw//Eb85f0XPZv+Yb8X/8FAZAC9gMNBqQHWwjxBzII6QhUByAGhAQjAgwBjv/X/TL9Ffy5+YT4RPZk9az30vht+fz68fv8+sn8/f1bAGECOQUvBngGvQZVCEUJ0glpCvgLrQsyCY8OFhGHECsRBxLqDo0R0RLGE7sT7BOAFbcS1AxpDIYOvQkKCCwG1gE//bz7lfep9DfylvJu777qMevp68npSOk960LtCfHq8RLzR/Pw9en66P6BAFcEVgdXB54HqwdLCDEK/gq0CQEIPgXLA00A7Pvm+SD5K/jM9p/zCvFm7wbvLvAp8CHxBPPv81r1RfiE+qb8Hv9hAQgDPQVvB+kI2QeyB4kIhQesBoUGWQNfAbgAhf8F/z78evqe+c33AffR+Cj49vlr+xv8Efz8/Or9QwCDATgDUgZ1Bn8HpwcWBwEHGQqvCf8JFQeYCp0PSA9BDtoQng/gD9cSdxLlE9EVeBhLFZcPlgy/EFwNCgmCCFkGq/+J/BP5wPQ+8+/xLe/l6b3prOve6V7mTujF67XuU/Et8gfynfT0+W/+XwGVBLoHawgZB7gJTwvaCwQNyAu4CFMHHQXxAWj+ePvF+rX4t/V88nXvGu2w7Truk+4H71DwcfEs8kj0s/eQ+s/8GQFzAt4DpQbZB5AIegkJCngKPQroB8AGzQQVA5ICxgFk/4r9aPxw+jD5YflH+SD5JPoG+z/7bPvn+8D7iv3V/uYAGAKJArEC2AKTAx8FWgaQB1AIwgZHC7oPBRD5EHkT7xKrFIUWdhcrGaYaxxrtGAMUyhCGEhoO+QkQCfQFlP5n+nP29vJH8DDuY+sb58jnnums5objOOe8683s6u4A8UPy7/XX+tL+PwF/BMsHgwj+BsEKSw3/DB0MEgsxCVoHoATFAdD+RfzK+374CfVQ8rLwpe3U7Q/uKe+j7xXwjPA68Zf0Pffo+Yn7Dv9eAc0DygTSBVQHOQj2CcUJ/AhbCPgHiAYJBRoEHgODApwAP/8y/t38G/yD/Ev8vfsJ/f37Mvss+4n8iv1Q/8z+A/9c/sH+cAAWAZ4CxAPHBcAFUAfgBb8KCg7YEDASkBSfFSQXNhg3FyAaMhvXHAca1hWuEPgRVg9wCpUHmwSM/lP6QfYR8jTwme276krnKudc6KzniOSV5p7rKu/Q707whvK29rf8sv8vAFcDcgfzCJ0HhAhZCtsLnwp8CEsGbwVqBMIAavwg+un52vds9CzxKPAu8Brvzu0J75bvm/HA8szypPTA+GX79vxb/lwA3QNuBR8G8gZ5CCEJbQllCWcIzQeNBzkGsQSpA4sDAgI8/0P+vv2l/K/8r/tj+k/6VPqC+hz7efq3+hL73fxZ/WH9DP/e/pkAvwIPBIYEGgeiBxIKuAmCDL0R+xJnE6sUERYnF3oYjBcNGXUYjRrVGAQTzg6eEGYOxAmhBqIDd//x+i738fII8nXwU+8z6jvoQuoX68Tn7+hz7BzvqPBK8KTxE/Wu+bX8bf0l/goCPQS7Ah0DtgZkByQGrgQ8A6MCFAPYACX9yvvI/FP7M/dn9Xn1LPYc9qvzS/OL9BX2GfeS9lv3ZPqs/Bj9rf3+/mUCCgNEAy0EJgTXBa4GGAVaBZ0F6wTVA0kClQF1AgUBI/9P/jb97v0F/Fv6lvrL+3P77vv8+Wr50vtf/FP8R/7m/hwApABEAFICowQ4B9IHPwkmCqsM4Qs6EG0SuxPYFSoWIhVVFiIYzBZwFxUXDheXFAYRLQ1BDT4KWAfYBFwC7fwW+9b3A/Qk897x8O+t7HPtDO0O7P/pSOyL7kXwgPFc8N7wm/Qa+Nv5dvon/En+ef/Q/nAAkwKCAiAD5wFeAaUBcwHw/hr9nv3S/ar8cPmQ+N34mvhn+BP3gPdt+C359vf69y76g/zL/Q79oP0L/9kA7AFqAaIC+ANzBbIEMwRwBCgEnQQjA6sCVgJHA9QAuv/S/nj9w/3o/Ef7h/tD/GL7ZfqD+TH6T/uE/HT8uv2B/QcAtv+eAUsDpgVyCOgItgnZC6EO2g3HEq4TnhNZFWEXVhYCF4EX1hYJFlIW1RV4EmAO0wyDDBIJ4wasAzkBi/u7+b/3bvVQ82bxOe8e7OPsO+0v69Do9OoS7pft2u397knwMPOS9en2KveU+nP93/16/lkAHgPbAzcDZgKwAwIF9wORA7oBgQHqAeT/rv0I/Yn9gfx1+l/5u/n2+Sv58Pd/95P5b/vx+aH5jvr6/Fr+r/6z/qb/ogJPA68C1QK8AzIFEQX0A9sD9AOzAjgCXAEjAD8Agv4m/Tf7LvuQ+5r6z/km+m35tPlT+n/5kvtg/tz++v+gACoAMwQRBmUHZAmgC24LAg+LDtwNAhTPFMcUuhUOFpcU8hbwFdUUwhY+Fq8TmhB3DE0MvwzhCW0FDQMBAPv6pfla9mz1OPO18CDtWOoh6wXrp+iO52/qE+x96wfsqOtc7rbygPR99sL3ofrj++n92f4HApAFrwW/BIQEEQY0BrEFZAVsBPwDnAN9ADL+S/0H/sn8gPu7+cP4Q/hz97H3Hfj/+f/5tPm8+ZT7gf32/tf/igAyAgQEFQSiA4IE5wVUBssF6wTFAosCyAJnAZ3/TgC7/SL82/v6+Tv6q/ra+vP5IfrZ+UL7wvum/Pz9FwBrAWAC7gJvBAoG8AelCqgK/AtUDaAPPA3rELcTUxNFFA8UthPAFC8WDBTPEzwT7hMCEv4NUgt/C0MJlgapAooA0v1a+o33M/QX8w3xW+8k6yPqTusL6hznxucS6jjrnuuQ6wfs1u9r81H0hvVU+H/7Fv1F/vb+/gI+Be0EggRmBXMGswaJBUoEIgSoBLsDuv9Z/tr+jv4L/cr7AvpM+lX6T/n7+FL6n/t1+/76H/uF/Qv/Q//o/h4A9AGUAr8BgwGLAgEE7gNJAlAB0gG8AXMBLgCY/xYBEf+N/br9zv0S/uz+Bf4e/W7+jv61/QX/iAChALkBagGeAWwDEQWxBEwGKgjGCFcJKgsIDF8L3w8gEH0PghKUEnYRhhObE0oSMROZEq0Q6Q/GDewKhgoZCNoERQLr/yb8xfmG95v0lPJX8Hjup+vz6gPrRunS6NbpCuv66u3r0Oz+7dfx9vNK9aH3HPr1+0n+QgDCAVEEwAU2BXUGggdHB0gH0gboBa4FXQUNA3cBnQAkAKH+5P2Y/N36/vqW+Z34Vvk3+S/58vgV+PD4Cvqz+u36t/u4/N/9iv4J/3X//QClAn0C7gKgAxcEugMcBGwEmAS+BCcEUwJIAqICXwEeAbkAegAtAAT/s/2E/hj/af8R/wL///9bAJAAoAGmAuMDPQbZBZAG0gm9CtYJ0w1BD0sPwxJzEXoQRRRRFNQRpxPyEocRLhF7DTMKMgtDCRAFPAKO/738d/rZ9tLzpPK/8NLu++qw6s3rOOpO6I7p3OpA7KTtiuyX7aXyOPVf9bz37/mA/Af/iv9RAKwEhAZhBUEFuwaIB+0HEwc7BeAFcQZABEoBkgCgAPf/of0j/IH7+/p1+d73kfdP+Gb52PfL9hn4m/lH+kT67PqT/Lv+Rv+1/lkA9AH9AukD8AM0BLoEMAWqBLEEkwVeBVoDHwN0A+sBhALNAZcAoACzAL3/kP6U/+v/kf8mABUAn/8oAQUCEAJ+AwsFTwX5BtcIPwhPCskNXQ1SD2sRGRDlEU8T5xIWE54TwRKdEQoQBw7vDMoKUAiRBacCzP8M/ZH5mfa79PLxoe9K7bzq9er86cvnEeiI6JHpk+rc6qvrHe5H8SDzwfTW9sL5g/zg/T4A5QLGBDMG+gayBxgJOwokCXUIDQm1CCkICwbsA2YDlQLlAPj+7v2j/FX7s/lo+Ar4MvjY92X2dvad9+X3GPjG+I35/fpI/A39EP5y/4cAcAGEAn4DvgTwBDwEFQUvBkgGHQYeBYkErQTfAxADpgJqAvEB+QDB/0b/bf9Q/7z+dv5m/6X/T/8z/3wA6gHGAtADFwUDBqcI6AjSCIcMIQ5sD3UQNxD9EGQTxBJBERYS1xKhEbAPmQzDCmoK/AiZBUgCBQD7/HD6T/eq9V3zA/FE7hnsQuzz6xvpt+e46Dzq4Ot765DqYezZ75XxpPMV9Vz3yPli+wP9CQDGAhcEXgRVBVAHCwlwCTkIlQhNCSwJ1gfOBuIFbwX+A3sCJAFkAG//aP3U+277a/tv+iz5h/ji+F/5W/mg+KT5i/r3+rf7kPwe/Y7+tv+s/6AADQJrAmsCEQPHAz0EkAQ8BIYD0AOzA2sD8AKVAjsCsQF9AeMAawBcAL7/rf9ZAJIABgBKAH4AxgC6AicDnQMBBYUFwgbuB2kIoApQDLQM8Q0CD7oO8g+oEDMQHxEnEb0PYg6RDR0MCgt4CaIG0QQuA9v/W/0S+9b4kfag9I/yK/Ay77ftses169brRusV64nrrusp7Sjvme9P8crzZ/VV92r5D/uo/W0AOAGUAuUEUAZRB2YIsAjpCNwJoAmtCLIIFggsB/YFeASQA6wCDAFb/yv+NP0M/NP6wfn7+Kf4VPi49zf3xfdw+H/4iPiZ+Yb6O/s+/P/8A/5z/4oAyQBLAZwClwNEBKYEkgT6BEEFAwX3BMsEmASGBAYEhwPSAngCIQKRAVQBrAE+Ab4AtQDUAD8B3gGYAs8CkwO+BJ4FwgWQBysJcwqHCzAMugzrDfYO4w52D9wP7Q8vDykOhwzIC9wKSgnqBn4FOwNTADr+yfvK+d33C/ZF86PxUPC67hztd+w67Dzs7OsF7GfsPu2n7prvM/Ek80z1q/Zf+Br6o/wg/80ALwLlA54FyAaZB6sITQnJCWIKrglACQMJXggQBxIGNgUjBI8C1AAf/+n98vzj+5v6fPnQ+PH3R/fT9gn3b/es95L3Ifjz+Ln5qvqV+2r81v33/rD/ggBQAYMCdAMPBJ8EUAVtBWoFigWwBaEF+AV/BbYETgQTBF4D8QKyAjYC8wF8AfEAgwDfAN0AHgFXAe8BPwI0A0oD3gN/BbUGggeICEIJuAn9Cm4LFAyuDIENHQ3JDN0LlQsTCx0K4wiMBxAGBgQoAvT/X/6h/PH6p/jQ9un0rvP/8dTwMfCr7yPvsO6f7prud+8R8AfxR/LF8xD1ifa192X5b/s1/bj+iADsAegCRQQ0BQkG8wapB5wHwQe8B08H2wZhBoEFxgTtA60CeQGXAGv/Sf5u/U38UvvK+hL6O/n4+K34kfiy+Ar5MvmX+TP6zvp++3/8f/1d/lD/TwAZAfkB3AJtA0IE9gRTBXYF0gXZBdIF/QWvBUwFLgWzBPkDjQNjA7gCOwKyAfkA0wCoAEYA9v8LAM3/zf8KAEoAzwBeAaYBAgK2AqsDVwQhBecFmwaMBw4IgQjWCGUJwQkACvgJwAlXCa0I/gc5B5oGzgWEBA8DrQE7APn+qv1I/Nf6pflW+Ab3CPY59YT03/N08x3zHvNA817zvvNe9AP11PXY9s731fj3+e367vs+/Uv+JP8NAMYAcAEWApYCzwITAzUDEgMBA8cCawIZArEBGwGdACsArv8G/3X++v2J/VH9JP3U/KD8qvyM/K78B/09/X795P1B/qP+Of/C/yQAtwArAXkB7AFnAr0CFwN3A5ADzgPZA84D9gMDBOMDwgOaA1kDDAOvAngCRwL+AZgBRwH2AMsAmABmAFQASQBdAGUAgAC5ACABZwHZAUwCywJEA9YDgAQfBcwFQAaxBvMGSwecB/MHEggZCOAHaQfoBm4G/QV3BcwE3wPJAqEBqACv/8P+tv3J/MD7zfrg+Qv5Wfi990732fac9mj2TvZD9lD2cvbZ9kn3s/cx+Lz4Y/kE+pn6LfvN+3v8Nv3E/T3+uv4C/1D/s/8BAEMAfwB3AFoAXwBWAFoAUgAzAAsA2/+u/4//ev9y/1//Vf9K/1j/dP+J/67/3v8LADgAfwDOAPgAJwFWAXgBuwH6ARYCHAI5AiUCHgIhAgcCCQIDAsUBlwGIAVYBRAEzAQ0B+wDyAMMArAC/ANsA8AD4AAIBGQFfAZMB0gETAkoCmgL2AmgDzwMpBHkE1wRbBeUFXQaaBrcG4wYABzUHfwe0B6EHQweaBhEG0AWDBSQFdwSPA44CogHAAPf/O/9T/l39Xvxk+5j61fkj+Yr48fdf99D2gPZy9mr2VfZL9jz2V/bK9kT3xPdd+NT4K/mj+UT6+/rV+4j8A/13/e/9b/7+/n7/5v9NAJgAxADlABkBWAGSAaIBnAGUAYsBiAGHAW8BVAEyAQYB6wDSAMEAmQBsADcAIgApADcAJAAOAAAA9f/z/wEAEgAuAGIAXQBZAGQAigCfAMoA0wDiAAgBBAEKARUBGAEgASUBOwFdAWABYwFNAV8BlQHWAfkBFwI1Ak0CfQLWAkoDwgMvBFcEfwT0BKMFVgboBhkHMAdaB5AH4AdHCJAIfAgGCFEHzQaVBm8GAQY4BTMELgMtAkkBggC2/9b+w/2Z/In7v/oS+l75rvjt9zz3wPZZ9hr2/PXh9b31o/Ww9en1V/bY9kv3r/ca+JH4NfkG+t36mvsx/Lj8SP3t/aj+V//y/3MAugDtACgBdgHKAQwCHAIAAt0BwAGzAaoBkwFfATEB8wCxAIYAZABVAEYAGwDo/9D/1v/f/+b/8//p//L/8P/2/yEAXQB3AIEAgQCHALYA2gD3ABABGwEjAT4BRAFdAWgBdQF7AYkBkgGaAbkB3AEMAjYCYAJ1ArIC3wIeA4QD+QNbBKkErQTdBHsFMQbZBigHHgcDBygHSgesByIIWQgMCFEHcQYABg8GIQbNBfIEzAOnAsABEgGOAN7/A//p/cj8wvvt+i76k/kL+VH4lfcA96L2i/Zr9g32wPW59ev1N/aQ9tf2Nvdx95D37Pe9+NT5q/oB+xz7gPs9/Bb90/1x/hL/j/+6/+P/PwDlAHEBtAGmAYwBogGiAaIBmgGXAYIBXQEfAeUAzQC3AJcAcgBNADwAJQANAPb/5P/p/93/7v/o/+7/7//8/w0AGgA7AE8AmQDLALEAqgDPAEcB3QH3AbwBmAHjAVUCuALKAuICGQM4AzMDBwMyA6ID/QMMBOID5gM9BJYEpgSJBO4EnAVJBpcGfQZNBk4GYwaWBmoHSAhiCHUH/AUNBWoFWgawBvAFggQLAwkCiwFNAe4ATwBk/w/+yfy6+/j6efoP+lv5Svhk99f2kvZQ9uD1YvUz9VP1fPWV9cz1P/aT9r72/Pai98v49vlw+o/66/rA+7n8if1C/v3+q//8/xgATgDxALABGAIIAt4BxQG8AbsBnQFsATUB5ABtACsADgDQ/4f/O//l/r3+qv69/uT+6P7X/s/+Cv9S/4T/vv8MAGkAzgAhAVUBmgHWARUCfwLGAhIDYwOLA4MDaANuA3sDngOnA88DJAQvBLUDBwO4AgEDcAOjA7QDxAPIA3gD4gKaAq8DdwW7BqQGnAXUBAoFCgYkB14ITAlgCUEIpQaQBS0GwwfCCE0IjgZJBKkCJQIlAjgCswFUAHz+rfzk+v35pvl8+b/4Xffp9f704PSj9B30tvO58y/0lPRu9IH0A/XH9UH2/fbt9xb5Ufq3+uL6ufv//AL+o/4//ysA3AAAAaIAhABXAUkCZAIVApoBNwEeAeUAjgBuAFMA4/9D//j+4P6a/jf+A/73/Vn+5/6n/kz+Bf4F/tD+zv9NAG8AKwDh/y4AKAE+At8CAQOMAk0CpwKPA4kECAXFBCEEqQObA1sEwgR/BNIDVANLAzsDxQJBAvYB8gFZAm0CUAIWApAB3AAoAtYEIAeTB/sFcQQOBe4H+QkBC/ML3gtrCu0Ikgd3CHoLMg1iC60HngTSAiQD6gMCBL8CBwDW/Ev6SPmI+SH50fdM9s30hvOV8oXyWvKM8nXyufEt8nLz9/N581bzLfQg9i74CfkP+Zn5W/o8+0v86P2l/yUAsv9n/2oA1wGZAjoCHQKkAh4DtwLqAaEB7gH6AWABsgBZACEATP+U/kf+sP5M/k39wfy8/B/9a/1h/XL92v05/tT9WP0n/jr/TQAGATgBdQBRACQBAwKgAwcEaAPvAlcDswN/A8wDhQQsBRkFLQQXA08DlAT4BHwDvAI2A3AEkAQRBBsCnAKVB9wJfQl3B8kF5wZ0C2QNeQyXDaUOAQ0aC6oJQwqNDaIPgwwHBwYFBwQpBPsD3wIWAIf96fu0+fX3wPYo9XDzlvOD83PxRO9a7oTtfO4Y8Fvwre9v75jucO7R8XD13fZ/9qX1E/Zd+Zv8cP2O/a7+GQBaAUcCPgM7BIsEYQTFBHAGsQesBocEeAThBTUHiQXjAskBXQJDA4sB4/9F/pf9cf0e/KD7GPxq+zP6MflD+RD6f/q4+ef4Q/oz+9z7yvrc+hj8R/0k//H+/P7R/jT///88AgoEdwPnAU0CxQPQBE4FjgQFBRUFQQZwBkkGDwaMBwwGDwlVEO0OGAy4C7ENaREkFkASGg8XFWwZlBTUDgANvxBxFpAU/QrpA0IGCgdmBuACigCe/PL3qPZF9oL2KPPf7U7sP/Fs8kjrfeQg5obtk/Lz7XTni+gL7cHvffCP8dTz3PVW9F31SvoE/cf7NPr4/QkFRgfRAF/95wH4CaIM0wc8BIkFPgmOCbYHJAdeCAYI/QMOAloEhwNfAbL+xP59APv+tvkL96P6K/18+7H2N/Xe98z5l/h99pH2tPlZ+vn42/cO+p/7wP0j/xj+Lv36/LD/IwL4BN4DZQHkAGoCLgWBBXoC2gKNBcIHKAZjBS4CLAjfFQ8SJAsZC08QmRaAG3IVzxBuG2IgBRfYD6kRwxdNGWEVsgt2BVcIfgWyAnsBNwLo+vTyifTT9bDyBOxZ6l7uW/VX73/gUt4a6v/zMfFQ58vjCOr68A3wxOxA8VL2Off280n1fvjA+0X8xvxBAuYEzwEG/CMAYggIDbwIfQMaBUUKqgqfBjUGyAmXC/MGNQIOAmUFDQZUAqH+NACB/7n8QfoW+8r8f/tc+Mj1Ffjd+Yn49/Xn9uf5pfkQ9yj3Q/jZ/B3+2PqU+Wr8SP8Z/53/BwFRAw8BJv9GAVYE2gRtBPsASQRXB9sH8gISA0wTbRR2C3AKZhAoFW0cABcIDlIZKSaVHPEP2Q/EF50ctBl6EB8GdwowCwAHVQL4AvD+/PWZ9zr6yfUX76LrVeyo9Df0neRb3ozpHPMZ8NXlcuED6XzyDPG56eHqwvOX+LDz+fCt9dv6Af2F+8/8of8iAY//qQDeBbcJugcoA0AFGgtPDDkIhAaECbQMHgu9BTICggYyClIGbQEyAFsA1wD3/2H8Cvvu/Pj6U/he+DL3V/cf90X35vc297L1jfSG9s75/fpE+aj54PmQ+wj+Tf4X/fH/LwPuArcBOwEWA/sErwYbBgYGPAUrEbES4QiRCrUT/hLrFzwaDxCDGAohyRlkD34Tzhk2HVsX+Q6VCPAKvQ1LC4AESQHZAQb7wvrw+sT3xfBc8Lbyj/Wp8XXkhuGG7I/1n+4F44vg3unU8hLvo+QK5qLzE/im8fnqXfAP+Iz7gvnn9wv6pv0A/1r+ZALeBUMFCQIXB54LxguVBsUGOQ3REP8MZgebBlwLFQ/eCS8DSQS0CU4HuwGu/tX/pQEHAAn6O/kI/Cb8nvh09cX2V/kn+bLzOPPs94H7YPqw9bb0w/rB/ij7GvrY+zEAtgB+/+r+xAHvAWME5P/wBHEU5AviBN8JMg/XEtQYaRFsELIbrx3TEJkOqBUaHXsbFxIHDBEKRQ9PDGEJcwb/B7QBuvo4/YL9kfny9qj0LPer+K/vXOZL6uf0u/Qb7MXmXenH7snvkOp56BvvufU+8ZLrNe7E9Jz3ofaQ9Wr3YPkX/FP7l/tC/wsD3QEDAboDmQSoBa0F2wdtCUgIqAaoBwMJ/gpqCaMFJAX8CQAKDwXaAPUB7QbbBeT+efqJ/kkCUACC+mf4HPvv/qb7PvXY9l3+a/43+R35BvtC/Mn8W/yU/Sr+t/84/mj+VP8vBDQAIfv+CwoMQQKcBh0LswnXEqUR6Qj6EpIcsxEqDMIQQhgPGooU8g6RCR8RABC/CvgGjwmCCTsB4v70/H/8EP5t+qn2Kvf79Iru4PDa89Hwp+7O7TfsCO5G783qTupP8SnzbuuG6nzuN/SX9Zb0R/Bc8sv40flh9hv5Nf4x//H+Vvyg/sQCUAZhBGYEbgbDBjcGHgY3B9YJuAo2CDMFAQbFBrAF2gTzBZAGiwLL/8P/nwEGAuL/Xv6N/TH/aACA+/n6cP9nAJH9oPyp/iYArwDu/Qj+tAHs/6IB9QDG/+EAMgQM/6/+eQ3LBvf/6gYBCe4HxQ6eC10HahFHFREMiwkhDlEVthRvDmIMMgjkDXwP6woFBboG+waFATYCP//c/K79s/0e+hH4wvb98rb28PdG9HDxcfEQ8ZHyP/Kz7vruavOk84buA+7k73j0kPXK807wnfJG97j4avVx9jf67Pvt+2r5RPt0AI8DGgBf/5QA5gMeBpYD8QK7Bg0IxAQ7A8oEmgYhB94DoALMBFgD7wHiAPQACgMDAgX+pfzm/4cBgf+0/CH/EwF3/9v+WP/GALABmQI8AcgBUAGaAjoBPwO9BfcD5P8JADILnQk7A2YEXwhUCAAPFQwXBHAMrhQYDvUGvgpGEFwSsw1NCrQFAAq0DOkIWwRGBTEFKQDV/xb+xP7q/RP8QPma+e73MfSU9jD3Gveh9YryWvFk9LT0OvOM87H0bPbY81vww/JZ+LX4lPY89KT0Yvhu++j3nvah+nT9//w7+cr4sP0GAtP+JP1k/nIA6QAoAGUAOwFUA/IC8f/u/pMCEgOUAbAAWwB8AP0APv54/vgARwAw/3n+g/3w/tcB9v5P/90AlQIRArkAwQGeBKkFxQOXAzoFSAYjBnEGZgRqBJ8NbAsXAlsJgA5zCH8LARBICdgM5BOyDcoGtA3zEUkPqQxNDKQI9AfNCsQISQUMBfQGV/+C/Pv/EgAl+6D7pfrP95T3rPT/89P2DPjk84LxJ/Dv85n1yvH98OP00fam8yLxz/HI93T5+fba9On1B/mR+gr5hPiL+8j9A/6f+dL5wv5NAjIAn/2w/Gz/AgLL/7b/fwD+AdEAUwDE/QH/rAE5Al7/qP4A/3T8hP4eAK7/h/3s/nP8b/1K/0kAff7J/ggBPgG3AAIAKgJ5A8sFugI/BFIFiQXGBn8HzALXCH0RFgklBIwLtw+vDcEPngs0DNUTXhQICvUILxHiEzwPfAqcCHQHEguxCiQFugI+BgICtPxE/zT+Zvs+/E77g/eG+AL1a/KV93X4MfRS8mfxyfIl9qrye/D28xP3u/Ra87TwrvSF+0f6m/PZ9LT8hvsO+rr5bvua/ugBm/wa+v3/JQN8AUH/ZP7tAL8DuQA5/w4AagI+Ap3/N/x+/2gCKAAq/WH89f20/u39D/w3/Vn+9v1P++D76f5p/0b9tv2Q/3QARwB8/jj/fATqAx8AXgEtBKMFjAU3ARwDNQ8vDA8D0AhCDacLphFlD10JshKwGFENjwmPD+IUdRTyDQkKUwllC2IMZAhrAxAGlQWP/hX9k/3C/D39c/nX9ej2pvZY8kryPfVr9BPyWvAI777woPIc8nXwz/Ks8xryC/Gs8jf46/j89QT1cvmA+9L7Lfw7/ZT+ngHXAXf9b/82BhMHAAOWArwC0ARvBoQE5QIjBfQEMAKNAEkBNQIYAocAvfxy/oP+h/0K+1L8y/0x/eH6kPnN+7P7Vf0Y/bn6m/wH/RD8o/2g/Xr/DgCv/yP/nwEx/2EFoQpzA1IGawuVCAkLGBGMDQcPzRYOEo8M7xA9FSgWnRLcEJ4NZw2XDsUMAgmlB0QJmwMI/3r/uP44/AT7uvnI9nX11vHG8Iz0uvRY8F/t0O3A8BHxUO4V7krx/PPW8XPtOu9d96n58vXr8en0A/zb/ZH5avp9/qwAXwGl/iD+SQPQCIoFYwElA54GOAcCBhwGEQYzB2UG4gPCAmcEeAb2AzYBDgE6AecAuwA8/lr/jAGs/kL7s/yi/q3/kv60+7X7qP6D/0b8SPwJ/h4AhgCG/WL6sgRECfYA+QIaCMIG8wqDDk4JGg7PFXUQ4gtiD38VQxe1EQgPJBDpEJEOUwzZCgUNdQyRAz//sQFrA7AB+voG9aL46Put8lHt1/Ix9KfxlO0t6ajrVPJq7wLqAuyo76Lxie4f63Pw8viS9XHwEfNN92X73voh+QD7LQCzAOv8Cv3TAiYHSgRUADgCuwabB8sC2QKLB60IbAb4AA4BggZ2CMMD+v9yAVYELwTp/4H+vgKIA+L/e/4uAKsADgET/7T9ZABGAUz+5v4e/4gBawJ1/bkDtAh1BLUEFwlhCB8OQBAKCncOWxbVEmQPGg8CFBEXwhIGD2IMPw9pEJANgwZTB00JuQPy/3H/Dv4u/YL7IfaZ80j2WPL27iby8e8C7YXrUuup62PsIuxA65XsgO597Wbq9e0/9Gr0VvIF8hH0APm1+t/4ivq5/mYAl/4b/rL/AARaBtwD/wH7A3IFDAX4AwcFBQXEBdcE/ACiAVAEyAOwASQDSQBxALgCPAG7/sIAEQMGAqH/Bf+i/wACCgMrAYkAcQAVAkUEnwFO//QKGgsgBP4HBguzCR4R9RJXDIoRlxb/EcEPKhPYFmsWkRLVD7cNNg9UDrUMCgnsCIgGt/8G/vz/zf5X+xD4s/NP9OPzne147Ubycu+p62rnF+fQ7FnuV+k36CfsIu+W7R3qNuyz9MH4OfNr70bzqfyp/WD6nPqq/ckCRAKZ/tr+wwZOCpME4QFQA4MH2giQBYIEvwViB5sEdALhAZMCAgavAQv/5P/N/8T+Wv5I/8f/Af4v+0D9cP/w/tj9gfy4/k8CtQArABv9LQQaD80HWgIWDN4NHQ/RFBUPtQ88HAAbmhCyEZQXBR6/GdkSXxDFEFwTvRHHCigItgq6BhL+DP3b/rj8C/lV9BfyRfAx8KvrVOsV7srrXOXv4ufnOupf6OblFOVF6ePtVOk95jTttfQI9Nzw2O/j9en8Rf3n+nb8rwGOBI8ChAFTBqkLgQspBVsFXwo0DHIKPweYBzwKXQksBNgBJAM/BxkG8f19/Gb/DP+S/T/8EP0b/Tr7c/k/+eD8qf0N+9r6Nf3T/dv/6PqJ/YINcQsaAnMGDguVD/IX2RJXDlAZWB8EGA0SjxZsIXUhqRlGEm8RRRbHF9cR/QpnDFgJYAKR/yT/5v0f/LX1UfGO8tPt6uai6qfusetd5FneQOEp5wXp8OOM4GrlAOzL5/HiNun38v3ziPBQ8H7ztPrn/s79Lf5QBPwF4QJ2BAwKDQ7kDFoIgwirDNYNJgq8CegKrwpiCowE+ALABVYGMANu/1X+5f3f/Gv65vq6+/L5Vvel9d73HPp9+BP22/YD+zr6vPlw+WD6eAXPCZ0BXgFaCrwNRRJ+FFQRchbVHU0bzxX+F10hECTYHbYXchUrF4YZFhi5EeQO7guOBeUBNgPiAoz9Y/cm82zyj/Bm6vPnluyk7a3ms9573SHjVukk5vbfzuEp50Ho3eSq5Xvu8vTk8WTu9fAo+Sr/mf91/1ED6wb3BmEFywgEEV4ScA0FCqwMLBEHEJwMSAxCDKMM8giLA8wDlQfQBYEAF/1++2b8Mfse+qb4YvfH9sL0L/SR9o73PvY29db23/fo+Ez5NPnN+1P/2AH4/0kAMQTVClIOggywC4EPCxa7GA4W6RXIGhUeURv1F0gYuRlnG6oX1RKvEIUPTQu1B70G2AXRAiz6X/OX9Sz47fI57N3pZ+to6jnl/+Fj5iDpoebx4o/izuaN6nrq5+oa7hvxZfM08vLzKfwBAqz/t/9RAygHtwr9CpQK9A8nFHYPZgu7DsoRvRAMD04MDQrhB3AHTAVBAuEApgDU/Ln3D/i1+Nn2+/Qe8y/yI/PS8Yjv2/FZ9dTzkPIJ8snzm/ek+gj7YflG+mn/4QWlBmAFMAfvC5UQ9BELElQV8BjXGWgZvhngGesbsx2aG4UYYxZ6FO0RvhF6EKgM4QbpADb/FQFj/tT2mPLE8SLxRu676cnpL+sB6bTmfuXG5fHnNOlt6EbrBu8l7/DuJPFm93D7MvwC/Xn/zQMUB6oHzwbmCuYOvwwSC2MM0g2tDpgOcgtiBu0HLAjaAzsBkgKb/zP6CPke9CHyC/ac9QPvoOru6u3q6+ix6uXsHu366uDpAOj89MAFcwCK+Hr/vglfEEkWvBcBHbUmRCaTHg0ftymqNAIuwSWPItsdZxtQHXgbahokFib/BfKv/3oIVP1q7C3kMuiE6e/h3tn+3ePkJeRm2BLU2txZ4IrhWuZZ6nTs9erF5QzsFgDeCLT/SPm8/6EM0Q+JDGwPnxg+G4USsg3GE8EbuhppFMURRREhD7YIKgRuBwYMFQfW+WTy8fSL+b34sfEl7rTwmO866PrnUPDq83/x7+3X7czxqfbV+LH60P7/AtcCnwGmBO0K3g/VEqsRBw95EfsTVBJaE6EX1xUdEH4MSQzGDJsMkQnDBcUC0/9i/Ez6Xvr/+Zr3/fOz8F/ub+9B8TjxOvCP8P3u7e6a8Y/0QffX+Dr5ZPnJ+0n9lgDZBGoHiwdpBswFcAgtC7ENrA8ADjUMZgsACt0JywvCCpsKQgjMA5EBFwH4AIYAAf78+nD5EPgi98H2K/Y696T3VfQd88j0tvYc+Xn7K/rW+In5P/z9/m4AtgE4A8gCagPgBKEE0gX/BzcJ6gjkBwwFvQTABnQIrAe3BbsDwgF/AGwBkQIaAZEASgDJ/gH9tfx3/e7+ef/3/tH9Rv0D/p7+g/+TAJH/h/5TADIAIP99AEACDAIdAbb/N/8DAWMBLQGkAPf/xP8w/5X9AP2y/br+J/4p/HT7p/uU+976xPvO/Cn9ofuy+rT7aP0b/pX9c/4n/x7/vv3U/Y7/SQChAJv/rf5+/xsAEf96//L/yQBSAJL+HP+GAEUB7wC9ANwAUQJbAQQCoQT7BqsH2wb4BpsHigkvCtQKrgveDP4KWQj8B3MIwQgcBxoFiwLpAb//0/xu+0v8FPzV+Jn2zvVt96/3X/dA9vD3Pfkq+Ur5bPq1/Aj9Lf1D/db/mQC5/1T+nv8+AXQAu/7+/L79X/2T+1v4F/ig+Iv3I/Xf8hHzcvNH84TxB/O29LD1cvUp9kf4NPxWAqQGNgsEDrsOWw5qEvgXMx7ZIckhIiAJHKMYoxc9GQkaYxgREW8ILQKO/nb8U/n09PXvbuxL6ULnuuW744fiCuOt5c/oj+sg7TXvdfGk9fr6Xv9gBLcHpglJC84NHxHAFJYVRRW4E6QQvhBtEKMOCwwICYcEpAH5/lr8nPn79bHzMPFK7zTu1e637YfttO2b7pjwFPPB9Rn4LPoa/Cz/WgEHBSYI8glbCykNTA7YDhoPHg/qDucN3QxqC+4JBgiHBW8CZwCP/xX+kvsp+Un3cfYe9rr1ofWi9Sz2S/Yf9/b46fqc+7v8d/3z/o8BswP4BJUFVgYYBqQGBwbTBrQHvwewBS4EvwLkAVcBLAAP/778f/xh+y36aPnw+Tv5cfl0+cP5Wfo6+3f97/4cAEQAtAAUAgoFuwYCB/IGTQdtB2kHcQegBn4GGwbMBJoDqgJlAcP/vv3c+xr78PrK+vT59vh9+HP48Pd1+Gn5EPoB+5T8Z/3y/vD/6AAKAj0DSQXLBoQHpAdkCNoHHQicB0MI3Qc/B8IE9gIpAhkBiAD1/kz9RPue+fn3Pvkl+An4zvdA9gb2K/ey9+j4b/pY+2j9Rf3y/SEAvgGFAsYDmQQRBTAGbAcNCMUGWQZDBhcFtgSwBM8DjAK8AcQASAAm/+X+WP40/ej8z/xs/JH8Uv2d/ef9Df65/mv/fP9F/5P/7P8/ACoBjwGBAS4BQAAnANT/JAA4AI3/oP5K/qH9Sf3y/Hf8/PtG+1v7vfr9+2j87/s0/BH9FP3Z/Zn+3/4L/wf/3gF/BCYHsAq/DL0MDA3EDC4N8w2qDQIPcw6PDBsMqApaB2oEAwHs/M35U/cv90z10fLO8RXwa+7U7qXv+e8Q8THy2PTG9lz6iP3q/y4C+wO2BVYHQQnjCrIM/gvtCwcMtgt9CsIINgb1A7gB7/78/dL77Pke+Bn2vfTA9Fb0J/RD9CT08fUk9+b4p/qt/Bz/qwBZAgYFXAaQBwYKngqSDNUNEA4DDokMrQoVCYsGqQQsA5sAIv9D/J75kPjO9gf1nfO68vjyg/Nl9Bf2LvdS+FX6oPsL/rT/cAFdAvACngNSBMAD6QMbA8MCbQahBigJvgzmDZQN/gwNC98KrQiHCJsJkwXcBAIF7gJKAOD+m/tJ+M7zl/I8843xOfKB8q/ybfOX9ZT3G/o0+8z9fgCIACYD/gWRCH4JZAv6C7gN1QsqDAAMmwjwBk8EkwHi/4L+4/st++/3kfd/9azzuPF38SPxDvJV8+702fd3+Xb7Y/7DAHICAAWfBbUHAwnJCvoL1wzVDFUNYwzKC0AKoQhbBtoDPQHb/o/8dvqr+Sr4gffq9Yz12/Sn9Q726vbg9/v4TPoS/DP+tQA9A5UExgYcB8MIQAkVCZ8JQglQCNYHDwfJBSEFOAMNAuL/cP7y/O/6ZfkS+f73+/YM9772F/hV+B75zPmG+q/73PwL/uL/iAErAxIF+gWVCE0KUQvhC1AMtgtVCs0IEAcDBR4D9AEd/wv9aftq+Tr3ifb79db04/M49JX02vR79tn3JfkV+8r8Hv4X/0IAPwLKAuYC7wL+AWUBqgCjADIDcQTfBgoKKQzoDfoOQw/3DgwNAgzVCrIH/wWFBKECNwCI/vT8HPsi+Ar3w/WG8xPyT/G28PXwyPLz9W/4APsy/xYCSQSXBsEIQAkzCYUJHAqtCf0JaAqiCZMIxQeOBeYCJQBU/bD6FPfg9NbyJfHF8ODw4fD58W/zN/XA9ur4Jvv//A//+wCHA0MFWwdJCZcKBQxaDW8N9gzpC8AK4wh3BgIEbgEo/778B/tS+ST4PveR9iH2TPaA9tT2+/YT+G/5rvpS/GT+DAG5A3cGbQgeCm8LpgzlDIEMDAyIC80J+AemBlkFAgRSAtkAkv9H/gr9YPzd+hz5/vdr9in1+vSu9WT2zvb598z56/o5/N39QP9JACEBXgIOA+UD1AQ6BYUFCQaLBtEGZwYDBrMFdATNAjIBov87/rL8vPvF+r75LPl++AP3SvaZ9Vz0bfMJ8xb0c/W697T7OAAjBKAJfg55Ej0WLhl9Gg0a0BgjFxgU4w+rDA4JqASYAGH9t/kF9hfzL/Dq7F/qIulX6PvnYuk+7EPv1fLv95/8AwFtBUwJHgxjDjsQAhHPEHUQIhCRDh4NVAv6CBoGTQNMABP9h/kh9tDyoe+37VXsauty64TsPO7O8Av0jfd3+zr/jAJ4BRUI+QmGC9YMvg2PDsgORw9vD9gODg4sDc4KcAgDBt0Cr//l/H76qfdg9SH0mvM58/fzGvUb9lD3UPny+sH7uf3I/xkBoQLGBFgGKQdRCHIJtAk7CX4JrwgDB2YFLQQFApz/gv6D/ej7s/qZ+qX5HPkA+ZX59/ll+rT7F/23/QD/pQAgAbgBbwLfAswCkQKYAmMCsAFrAXwB2wCaAOgAZgDB/+L/4v9r/1H/df+L/4H+/v01/m/85vpJ+9b5Lfj994T32fZk9ST1/vUY9Ln04fi++kT+/ATCCsoPlRQMGloe6h6uIP0hRR5lGgIY5BJODDcH/QIb/X/3bPQf8Xnsb+nk50nlteKD48vkY+Xe6NDt9fHU9rP8VQITB0sLIRCSEs0TwRX3FWYUuxPoEQwPOQw7CTwGWQLG/vv7pffk85/xHu5Q6zPqgelN6VjqO+z67nDxcPWG+e78qwDXBIgHlgn8C2ENBw47DrAO6g2NDQQNMgzQCkYJqQcBBeABYv9z/AT5Bve39C/z7/Jy86T09/Ur+Jf6Ovw4/gIB4wJ1BLQGgAiICdAKxgvsC5QLIAvDCi8JKAf9BdgD6QCd/kT8s/lb96n1UfRJ87/yK/Oo8yL0jvUj92n4/fkB/PP90P+SATgDewSbBTwGeAYrBsYFEwXIA+YCrwEGAJz+LP1K+3P5effI9kj1UvV299n5Mf0eAvIH0gxyESEWJxqZG0Qd9R2fHKUZWhdAFAwPlArrBk0C6vwt+YX1lvBv7InpoOaB45XiaOPg4+zlJ+p47jXyS/dq/IgA3gMNCLIKPgzqDQ4Pjg9ZDxkQ2w+WDncN8wsoCdAFtgLM/nH62vbG88XwyO4/7vDtCu4R78HwPfL28yz2Z/gV+vr7vP4zAO0CtQWSCJELwQ10EIkR0BE5EdkPIw1JCtMG0ANhAI/9Qfua+D/3ffX79A30nvOa84Xzu/N49MT1hvcX+sX8uv9wAvgEDQfwB/oHngcQBuoDGQIoAPX9Y/wv+wb6DPhU9wD2ufQY9Pb0yfc7+hkAWwd0DQoUAhtXH+oixSSJJgwm+iJ8IQcetRibFOgQfgsqBmgBl/xu9pXwk+wO5xXiYeDa3iveD+AS46nm/+lz7lPzg/V7+aP9jf+uAsQGmgltDH4PsxJTE0sTfBNTETMNLgq8BiIB/vxP+kP3OPNO8mnx9+6q7X/uK+2T7A7tBu9h8M7xUPeA+uT8yAEGBaUGUghTCbUKIwlICf0J0gc3B+0GVwXuA/8BBgGq/rf7k/qK+CH2zPWP9ab10fbp9wz6H/ss/H7+0/4l/4sApQC5ATcC9AJGBOQChALlAR//nv6g/V3/7wFOBQUMNhGpFLQZhBtQHAAd4hvQHJ8abhm1GdIWtRM3EuEMEghQAtD7yvaK7+jqOujW49LiSeMM4znlwuYg6Yzrp+x474fytvSR+Tf+cQP2CGINjBH9E2oUeRR+EyARwA+mDRUMvAmxB+8FfwJF/7D7A/iO8/TvVe2i6lzok+ht6ODo7Oq+7OHu6u9y8mz0xPVt+Pz7j/59ATIFZAd7CFgJdwkzCIgGXAVOBHECeQHfAHb/n/1F/Pr5X/fL9Vv0WPMi9J70KvbD9+/4Afxt/bYBIgeUCxsSTRjfG6kf4iGdI9wkIyWdJ28nJSbyJRMjaB2zGHES4wq5A1r9rfh38m7txOrB5VjhQN++3Oja59p03PLepeFJ5m3rxu/z9Lf6jP/uAycJKA1aEIsTexYdGGwYIxlDGGIV5hKrDxAMQgdrAyAANPoE9pbywO1u6qbnveWO5K7iHORT5Jnkcud66cTs4fDw9Or5P/4PAjoGmghXCz4NCw5dD38PsQ6VDvIMOgvSCMkFqQK+/q36oPdT9ALy9O+Q7pfu8uwX7n3uZvAO8yT3Qf1cA98IgBHMFvka6SENJZkpwyxGL0AxRDBhLlMtwCaKISMdxBSjDowISwFX+gDzYeyf5gTgudzp2j3YANi62XHamNtO3rfgPeQd6P7sFvRR+aP+lAVWCUENZBAdEiEUfxQrFaUVwBRPExIRtg3ZCbUE6gDV+3D47vSG8e/vzewk61/qWOhw6O3pLeq37M7urPHx8wj29fiQ+y79GgBTA+wE/gYtCUYJ1QnyCQEJqAhkB1kG1QQuA58Bhf9f/Wv8cvpW+ov5Lfpf+vb6wfyH/SAA8gP9BcEJ8g4tEZ0VnhjkG88d0B59IDohiB+DH8Ae6BqUGE4VLREYDZYJngVSAuv9D/tO+BP0lfHI7rnrhOkv6JDnNufN5ljnMugq6VnqQuxD7izvnfFu8yz1tPfD+Pz61/w9/nQAmAF7An4DgwPbA/IDjQPFAm0BAgEHADf/SP7T/Tf9b/sD++j6RPrJ+ZT6KPsB/JD9r/4I/y0A4gDKAbMC5wO3Bd0ECQbuB1gGlgWUBmAGPwUTBDgFpgQ9Av0B5gIPAVv/2P+E/zH+TP2u/Yv9V/w+/Gn99Pyz/W3+1P+4ABgCLgQTBTUH/QhfCgEMqw0XDyQQVBBOEdsQBhCDDyAO6gw7CwoK+QeCBqwEYAK+AIv+dfws+if4uvYu9dTzt/P68tLyCfN28zv03/RC9gv3lvjZ+SX7Dvym/Dv9Uf1C/RT97PwG/Dv7KPoV+fD31Pan9TX1ffTe8xb0DPSA9Mb0yPUg9zP4p/lF+8v89/1p/84A5wE2A1UEDAUVBsAGOAeBB5kHzQdABwsHwQYjBkoFmwT9A/YCTAL3AXABggGTAbIBUAK+AnoDHwTABJ8FbQbUBikIygh/CbIKTgsADHMMeAyXDDQMlAuAC64KPgqVCQYJAAgNB/QF0ATDA1kCqAFeABz/7/3N/GH7G/oH+e/30vbf9Sz1LvSK8+3yzfJh8oDy6/Ih84nzFPS19Bb1vPU/9jD3hfdr+F/5+/mt+nD7Dfx9/An9a/3+/SD+ev62/rT+AP82/zb/WP9D/0n/KP86/13/Vf+p/87/AAAmAF0A0wAOAbIBcQIOA84DfQRDBa8F/wVgBocGjwaFBnsGRQYHBrMFdgVZBe8EwwRvBG4EKAQEBCsEcwTWBAMFswUvBlAGdQatBtUG/QYEB8wHEAhPCJMIrQhbCGUHrQavBa0EmQPaAuwB6wACADP/Hv7r/Pn7//r4+SP5ivj09zz3v/Z+9hn2sfV29X/1avVK9Zr17PUv9nH24/aA9+b3Uvjh+Gz5vPlA+qv6JPu3+xH8e/zy/E39nv20/R3+av54/oL+3f4a//L+S//E/x4AVQCpABMBdAFwAfcBTwKVAgMDZQPwA3YE2ARRBdwFKwabBrEGAAfYBqAGLgbABW4FwASABDEEHgQFBNwD1wPLA4oDkQOCA4oD1AMaBIcEvwRPBaUF+AUuBqIG9QbiBv0G8Qa0BkgG3gVqBc0EIQRoA2QCUwFfAFr/PP5I/X/8lvul+s/58fhR+Gj36vZf9hP2AfbD9d71EPZQ9qn2H/eL90X41/h/+Sb6zfpb+7z7Bfw4/HT8pPzN/PX8Kf13/b393f0V/mH+f/6d/sL+2/70/i//eP+Z/+P/TABwAJEA6AAlASkBaQGzAesBFAJZAtsCEQM8A4ID1QPvAzoEdwSlBLoE3ASkBFAEDgTcA40DPgM7Az0DYQNPA04DSwNNA1YDnAOJA/YDewThBPoEEAUxBWcFWAUnBVcFXgVfBf4EwwReBCwElQPlAmsCLgJwAYIALQDm/x3/kf5W/qb9Rf3Z/Mz74/rK++n7oPk3+S/8/vvM9pP3xPwa+rT0sPgd/v75R/ZI+wb+efh79zz8JPwk+Mr5Yv13+3n5ovtD/Tr7JftO/cj97vzi/S//0P4Q/xUAjgBzADoBagJpAjsC/QKiAyAD+QKDA6kD+ALuAooDFgNfAnICxwIzApMBvwHAATcBGQFOAfAAxAADAQsB6QDpALgBlgHTAWMCuwLzAnMDsQO0A1kEnATUBKgEJQU8BQUFrgTZBKgEVwQyBAcE8QO2A4sDJgPiAqwCZwL7AbwBUwE7AcsASwDi/7f/Of+A/kH+G/6n/RP99PzH/Er84/u5+2j7+vqz+pn6XPoj+if6Jvoa+jT6SPpx+pb6rPrX+ij7cvut+/f7WPy7/PD8L/2G/dv9Hf5h/sT+Bv9P/6b/6f88AHQAugD8ADIBZQF8AZkBuwG+AbIBtwHBAb0BrQGoAbgB0wG2AboB6gHVAbABvQHdAc4BzgHaAd4B6gHDAaUBtwG6AaEBkwGyAdkB0AHMAQACKAIjAkQClALTAvMCQAOKA54DpwPMA/kD8wPeA/MDEATvA8YDsgOXA1cDDgPbApECMQLaAW0B9QCSACkArP8v/9/+g/4G/rn9i/0+/ff8zfyy/IL8Qvwe/B384vu6+8n70vvw++j7AvxC/KT8ovyM/An9Uv09/VL9w/3z/ef9DP46/kb+O/6F/tD+lP6t/gz/LP///ur+Xv98/0r/Jv90/4v/R/90/5//rP+n/7z/2P8AADcADgDo/y0AqgDkAJ8ArQAHARMBuwCAANcATQEoAc0A7gBEAToB/ADxAA0BJAElAVkBdgHGAS4CfgJ/Am0C3QJXA9UD1QPjAzcEWQQvBMsDyAPgA8gDXAMbAwgDrwJ2AmACHwK9AWoBewGOAWQB/gAeAecA4gDXALIAUwAhAF8Ar/9g/0b/g/6l/aD9kf0s/TP86fx7/Fj8R/xl/S38hPo4/4kA3Pxf+7397/6j/Bj7/vtA/Jj9X/35+2j4JPsJAdr+hvzO/CT/qP9Q/3z/QP0z/xYB2//X/bL8qP+P/of9df7k/Kn8svyHAA3/nft8/kb/MP9q/zMBPQBV/t8B7gSoAYf8SQBuB3EBdwD7AagBWgK5AnkDogJrA2EEGwbUA6UCAwcNB14FTQhlBlkGyAXRBSAIdwgLBzAF9wQtBiMHZARVAgMEeATQA08CSP+d/0MAcgBIAJH9bf02/Xn8v/s0/eb6GPoR/BP7R/oq+D75/Plm+sv5uPqM9/z4TPoF+1j7e/st+/j8R/x4/sT+gvqK/sUCgQJE/Rv7FACvCAr9Nf2IA/0E+fqtAC8F4v8rAEj/2QNr/xoBcQBjATj7GwPoAkMA5/h0/HAFlP3f+av+5vu+9/kEGPyJ+YX47vzk/uMC3PoB86n+wghgAp7yufycCXQFG/lXAcUDYgM+AAIGjgrgA1ACwgUGCnMIGgtyB4cJsAmvClYMlQgiBqoJyA3OCu8GuQQTBdEH3QbXBWgDmAAKAkUCVQBa/tX8mftJ/Kb8jvwl9zv0dvZg+5n5EvZ69P/yHvaM+DX3UPRt9Kf4YPrj9yj4DvmR+k79iABT/o79B/6zAKkDnwTaAqwAHwLuBDEE5QSsBBECmAEoBDoGmAHg/+EA5APqAlEBAv3X+x39dgJt/rj5UviC+vf7JfhI9tn3L/tw8oL4Gvxx9z3zVPl+/2P6Afda/Z0Dy/6d++IALAceBbAAOQaEB9QGWwsUCZUHpA5REo4NiAvZC7sTDxGtESsTYBKPDhUOmQ1WDVsSzA7tCecEywVbBGwGsQG8/s78V/wQ/fD3C/R59Pj0sfWl9VfwHe8c7yTwA/LN8r7vxvAD8T7yYPNx9Or0RPUa+Bv7RfwM+U/8mP/c/0cDxgQqArsDiAVXB5cIXgboBiMJ7gYuB0wISgY/BWoESgRDBHsAUQDCAEj9UP9G/KT4Y/jy+D33MPbK8mPzn/Sf8rnyAPLk8jzzevWo9lD4dfj4+ZD72f0aAFMBGwKaBH4CegLpBf8FNQV4B/YEJAk+DSEKTRKBFbIRqRB2FHIZ4CBoHSwfOR/lG3UbCxuaGFYaAxuBE/oODgluBXUBFwFv/tv5w/IN7xzrF+eN5o3m2OPz4svga9/034PeweBH5THoROqq66bp8+yr8Sb5x/yP/CQBQQY5B8cKxAw3DV0Q8RB5E8IUvBDMD7UQvQ6HDuoL1wdcBVcEkwHz/ob8JfkK9932AfR279Puy++s76Tuo+2u6wzuju/x7l/wEvLc8nb1ZPeX+TD8Cfu5/JwAPAE8ArYDswJqA0MEhQWtBIkF/gXDAxwDSwfeCg0UQh0xGQsWYhgKHIIjOiwuLRYwJS6JKBIlhCCnH/klGiS/GdoQWAXy/Sn8wvr29qvtouFv3KHamddT1azROc/d0dbSWdBWzmjQltgn49Dnr+r16rPrb/X4/64F6w8HFqUTXhdkHA0dlRx1H8Ij3iMtINMamBOsDJsLLw5FCVwAR/oO8oXrjevP6znqR+bu4oDf5N4/4n/kSubf6cntBu/77/zwFvbw++UAXwXBBl0HiggACEIJhAx2DEUNvgiiBC8ElgHSAEMA6vyg+2H7w/rI/poGdRT2GFcUURRdF6IegikzMgM4eTdVMwIw/SbgJCQriyodI2sZvQzL/wr5vPTz7xjqW+Bi1oTPGMyAzDnI5MJCyDnNvcw9y47M+9T73yPqgPE889/3lwHOB+sRBh0fIDEkkSO6IrspqigWJZ4lyR6jG8AXTgxlB8cBBP0o+pTxXujm4ybeatvW3CverN/03AXar9xb45Dob+4h8LH10vwmALACMgXmCPEN1BHmE9oUlRKzEBEO2Qx7CocJfAW0/z78TfnT9NjzPfEB7lfwhfUh+hMG5ROQFN8TvBYOHiErRTfiPA9DIj8xO644mzBpLrUyDS9vIx8WYQb2+bzw1uzz5hfenM+5xnnCgb8hwXS93btwwOnEU8j3y1HPv9r75z3zB/v+/wEEFQ6GHOsiQS3ALckoBiwxLbcuhS6iJP0e7RhMDkgKZAE297vyle2I46/egdm301LTNNZx2HnXpdqj3gbiE+iO70v2Kv2/AjgItQvXDusUMBk2GAUZpRnXFLQUCxQxD+YJFQNS/sX5AvfV9fHu+ujS52LoV+cs6Izs/vN6/+0LGxdoHMIfVyeKLvQ4sUbZTS5RWkvxQ/8+DDi5M2QxnSnzGpcJQfjz7IHjANvI0iDHErwruEC0FbMus7Cy67cvvoXECs2s1ePcpOng98wD/A5oFjkbgCb0LwYzEjieNpYx7jDmLaEr1yUqGZcP1wFv9p3yG+pF4vXbOtWGz9HJK8h1yQPN29OE2sfeAuR064nzDvw3BnsPFBWuGDAe1iB9I/smvCMLHyAddxkcFMgPNQm2AtH62PKh7aXn7eP34+rest644KHeCuCp5JPqYfQwBKoPVBt8KBgvJjZxPR9DpU8GVsJYxVhfTVJE3DyhL8kmPiEqEnICKPJw39rUksmov3y7trPArieuuaxbsNi15LwgxpjND9j2463vSPuICEcUax6eIgEtYTbuM2Q4LTl6MWIwpS2uJMQdORPNC8/9ne1q6DLi2di31yHUB8qByOrIncsC0ITXUt514sDsb/iK/agDbAumEd4asiC6IxgjUSNtJIchvBzCGYMTOgr8BxkBbPmr9UDuEeY+49XhDeP+4Hvfa+S+4mPnYu/78OL3SwLCCt8ZDSMgK7Q0GjWGPMFCEEU4TFtLFkSaQYA2+iv7I2MVeA0uBIT1E+uR3jLSTc3owmq+PsB3vsHB8sIuwx/KHtGW2GfjDetX9gQA1QY9EMsXqx7xIuMjnCUqKH4nIyaGIUMbGhV8Ds0GIP/T+Efyx+oU4m7dStpi2FzYGdjV2O7bi94h4nHoIfCD+PD9VANtCYUOrBNZGI8aehxOHZccHRt8FxUVAxK0C/QGswNh/2v6d/Rs71HrN+u/66ToJOkW6sfpJe5g8f71+fu1/RIEHgl7DrQauh/uIuEqICyrL4M0LTRvNgc1FTHELPsk9R6rGdcPGAi0/3v0pO0q51bgH9x+1r/RX9GYzyTTS9e211rbsd5h5JHsd/KU+Pb+/AIMCcwMtg+FE6sVJBYUFboUqBLCD3wLewaWASP+BPm683DvNuun5+jkFuQe4sHiR+Ty5cbo++y58OXzevdJ/HsB4QWbCtMMfRBtEosTBRSYEr4RVRGLEC0PaQyNB8sD9v6++2L7GfpY9jD1V/Ln7zTyOvIR9Fn2WPe++kj9K/7WAzQISwvkEZAWShqFHqIhcCTdJW0mCCqiKUcn8CXxIAobWRZTEfULRwdHAb/6JfSK7lHq7uWk4g/izOBT4JLh8+B84v7lXOh07Hnwj/Jb9t34yfuyAL8DXgfbB1AG0AdHBgUGiwcJBewDQwDq+l34rvRO83TyZO4Q7SvsYerK6lvrVez57k/xNvOI9jn5VfwP/1sBaQRSB8gJMAuBC9ALmwtwC78LkQuhC0oJCgbeA/EB9/+q/yv+Rfyw/K/61vnH+Y74sPpw/CH9nQCFAT4DRQcxCQUNMxFeE6wXDhqQGd0d6B29HSAhIx/2HKcZyBX+FJQQXQ0iC3cDrv/w/Dz43fVv9CTy+O+I7dfsquwi7DPwjvAv8Cnz8/IE8/D08PZ5+iD8lP0S/wf9ufxi/dn8dvwz/mv91PuT+RP2y/TX8lzy3vKN8TTwzu8O7h7uOfAI8lPzovTp9Tv4rPqA/Cz/pQCAA10FxgZXCBUIIgg1CB8IuQiVCf4I8wZtBK8DYgJXARQB2/99/n3+1v2o/Ib98f37/dn+6AAlAoYDWAWnBmsIXAqgCxUNJxApFDMWcBXCFLwSkhFME/kTQRRzFDgRGw1aCQEGggUEBugEYgI2APv91/ra+Bj6nvqU+Mf4cPlv9174nfnW9933qPqq+rn4Zfjv96v30Pee+ZX5ZvdS9/b0wfHA8xD1vPSn9Dv0wvLl8ELxuPG88gr0evTb8/r0KfdN+NP5ifq4+8v86v2nAGEBNwK8AwQDWgQvBbcE2gTHA1sDkANlAz8DbwOVAgwCHAHC/wcA/f7e/gAAkP+nACEBQAA+AYsC5QNnBbsFUwZICN4J+ArrDAINVwwfDBoLpQu9DGoO7w4WDgQNrAtZCYsHUQhkCQYJrwj/BtADJAMMAr8AdwEjA1ACUwF6AOYAZwEM/8f+Jv7C/XX/WP5d/LD9/fvI+dP59fhQ+CH4avZ49Qv2c/Y09u/y3PGC8jTySvPK9EH0ePOU8y7zafTE9m33gvcJ+SL7zvxh/bL83Pw8/p7/OAAnAH0ADgEGADH/5/60/i3/z/4Q/hD+Ev+t/nX+EP97/0//1v7w/h4A9gGfAnACJQL9AkoE9QTyBVkHHwcZB+YHagi+Cc4K+wnsCCAJ4ghBCYQJcAhuB9MFTASwBEUFXQVmBQMDYQG7AS4CwAORBWIGrQbRBfMESgUcBloI9wgECIAHoQXFA6ADHwPiArABQ/89/m39u/yl+3b55PfX9zH3o/aD9tD1SfXx9AL16vRd9TX2ffYa96D39vft+DL6UfvW++r7ivzm/Bz92v08/pP9f/2S/Lf7oPxa/M/7hvtH+/L6LPtB+9H7NfxN/Bf9oP2h/uL/pv/N/xcB9wH4AmED6QMdBNMEbAXWBRwGhAZsBtgFaAbhBpkGWAUwBOsDBwTZA7UCWwFrATsB0QBrAAQBFwK0AUMAuv/gAF4CTwOVA2cEwQQpBCwElATqBZoHGgeNBpEG8wXyBHUEgwTjBFIEPwKAAIr/1v/b/1b+D/3B/E38pvtk+1b8U/1D/SL84/o/+wz9Bf6D/aX92f2U/bb8Jvw4/bz+Wv5m/J/7svzF/R39mftO+yX8rfsZ+7L7uPzH/If7TPoE+wL99P3w/bj9Kv6D/o3+zv6k/5MAHgHeANgAMAFdAQEBxQBGAWYBVQEsAfUAxACLADAAgAABAUQBKgGgAE4AbQBpANEAIwEnAUcBlQDL/6T/BQDaANcBywFtAX8BcgGHAeMBXAJcA3kD+ALSAj4CHwKIAiUCWwI2A4YCIQL2AZ8BCAIIAoACMgMyApEBkQF1AUECTwJRAfoABQEQAa4A2P9qANsAQAC4/xv/R/+q/x7/RP4q/sj+gP4n/e/8pP3H/Xr9Af0c/SP+of4N/nr92/3u/g//0/4x/6//i/+M/kD+J//D/+P+4f3x/VH+D/6F/Vz9zf0q/pv9GP2K/Vf+rP63/sT+9f4z/8//KwA4AJIAggAOAPr/uABLAf8AbgA5AEEAYwAYAMT///8YACQA0f96/9z/BwCN/1z/l/9lAMQAHQD7/x8AYQDlACcBmwE3Ar0BLAFiAR0C0AKpAnoCowK0AokCVgL6Ae4BRgJdAusBmwHTAeMBgQHzABYBtQHYAVYB+QApAZUB/wDj/93/VwCVAIEAnAD3AAEBPACm/ysAJwF0AREB/QARAdsAUADo/8n/0v9t/4P+6v0w/jP+bv3Y/JP8uvzV/ID8QvzI/EH9Ef3b/HX9RP73/XP9sP11/hj/Xf9j/3b/cP82/x3/av/Y//X/s/9C/y7/Sv9N/wf/xP6p/tH+x/5J/kP+oP7K/pD+bf6P/tX+Mv+p//H/6v/5/ysAawAEAX8BagF9AY0BhAF/AasB9QEQAuQBnwGqAbcBjAErASkBrAEYAvkBpwGhAdMBCgIwAhQCBgIOAhcCVwLfAXQB/QF7AokCagJnArECoAJIArQCKwMMA3YCrAGfAfIBZwHIALgAsAA1AFH/8f5K/63/nf9b/+f+r/7u/rj+Lv5G/oD+Nf7N/d/9U/4t/pj9Sv1s/fX9d/4k/pj96P1j/iH+fv1h/ZP9gf0X/bb83PyC/cv9Fv1K/OX8If44/sb90v1x/oD+6f0G/hn/2v9N/yD+Af4i/+3/2v++/zcAhwA1AN3/HwDIAEIBAwGSAKUA1AC4ADMAQQD2ACgBxgCkACUByAG8ATEB+QBeAfYB4AGeARQCzQKpAkkCfAI4A+QD3gPpAz4EngS3BAsEjAMzBE8ENANcAqkCUAPlAmEBwQBaAYQBXAERAVwByQHXAKj/mP9QAP0AxQAGAHb/Bv/b/iz/zv/H/zz/nP6D/v7+Sv8l/4v+3f2J/YT9OP3m/Mj8WPzY+2P7/vp7+8r7rvvI+9n7R/xa/DX8vvxg/VL98vzy/Hb9F/7x/TD9+/x1/fb9Rf5u/q3+zf6k/tH+yf8WAIf/Mv8y/5X/i/9T/0H/IP8y/0P/d/8AAMUAKAHWAPkAoQEyAs4CPANSAxID6ALvAjcD1AMkBOsDhQPVAyUEQgRVBFwEkgRwBCoEHwQmBAQEiQMZA3UD2QOLAzQDAgNQApgCCQPcAg4DFgPSAukBPwERAgkDkQJPAXAAkgBjARQBrP9f/67/Ef/2/Z79Gv68/Vf8RvuW+5r8yvzv+yL7bvuk+277Yvvk+1T80fsI+7/6l/u+/Iv8cPsS+937g/xT/Fn8bvyo/Hr87Psw/MH89Pxn/Mj7+/vM/NL8a/xa/Lz8v/1B/hn+2v30/W7+/P7g/8UA4ACJAJf/DQCEAXICKAOWAkgClALHAk8DMgR2BD4EpANHAy4EVwV/BYgF+QRrBFYF6gWiBoQGCgZSBpsGgAZjBoQGewY+BvYF4gXhBu0HDAfNBakEcwTdBAoFVAWJBR8E8AElAeoA3gF2AskALP/R/e782v0u/gv+Q/09+zT64Plu+qX7uftD+vj4j/jk+M75Qfrj+fD4I/jO9yr4NfkH+jj50fdh9yr4BPl4+cj5XPko+Rj5XPnM+Tj6UvoF+uT5kPpV+4r77fuU/G79n/0E/jT+CP/R/zYA5QBvATsC5QGPAdQBdAKzA7gEagSfBHEE0wRfBbUFdgZ3Bo0G0QVbBeoFjwdNCCsIqgdcBzsHLgcLCEgKrguIDMwKnAiaCQEKOAs0DGoMywoxCZ0HvgbPB60IYQhiBpACVwGyAI0ACQJg/+v9tvsc+iv5Wvmv+yf7JPk4+Ez37Pdj+VT4o/il+ev5Fvki+IH3LPkG+bb4cfnv95L3TPa/9D31CPe59gD1vfOw82v0uPRO9In0ifUX9n72YvZi9+D4//kD+tn6MPy6/Sn/R/9LACMBbQIkAzQDrQP0BNoErAQaBWAFHga8Bd8E8QX4BmEG+gVDBaYGAwicBlMFjgZ1B0AIAwlwCP0IlgrGC+8Muw6XD1YPehDWDvcP3BKVEf4TDxNwDaQNUQswCXoLEgnEB30EsP6T/Uv+/foK+4f5i/aF9wT20fPL8+r04fRb9Hv0zfUq9U320fZR+Hn5Y/mR+cf3Nfh2+uj6ufqg+2/5vfbR9eX0kPR+9Y31UPOE8ezwOfAh8N3wf/H58RjzL/Ry9VD33Pjt+hb8ev1DAFsCiQMbBQsFsQVfB1IHaAfaB/IHrgY9BmIEzQQ3BR4DpwFJARoAn/+Y/7j9KP1P/dr8FP3D/ef+/QAHArQGhAybDz0THBd3F54bSCE3JSQoWCm3KGomACESH6Af/xsHG4QURQopAzX9ofeW9VfxIO0r6BDh89/N3tzdh9+u4AriKeU05hTpMOws71/1ivnT/bQAvgFhAwsFlgWUCZAK+QiLB70BZf5z/fz76/pE+MLz1/A+7NPqMut+66zrCuyr63Ps/u4l8RH1k/ja+/T9xQCAA60GBQmJC+kLpQxQDQkNPgyYCjgK/AiuB48GaASsAP7+ff1D/Xf9av3o+wX7aPl2+fr65/tp/DH9nvtp/ewCIQdHD6oSzhVwGRgbfyBtKRwsGTH4MO0r/Sq0J2Ul0STNHxUYLBDzAyT+Hvhv8LnsAeVE3d7b7tea1eHWktSQ1NLXK9rI35bknOi+7Y/xy/YY/XMBMAYNC+sMVg+rEEMRVRBoDygNswn5B54FbADQ+0X3R/AM7gftiurf6sDol+Zi5u7mDev+7wjzpfca+jr8HQLOBYoKRw6REDYRexEUErASVhEdEX4OtAmgCKgELwF3/9z8E/lZ9030qfKv8dLwDPH28bbxa/NA9Vf1Uff7+g39h/8hBT0IAw6cFb8aEB9PJDkmBy38MCszgTcdNtkw6i+FKmEjTiHiGOIPnAfj/InyYOsz49ze4tdC0kbPwsugy0rO6M5E0c/Uq9it36Llbe1885v5NQH5BlML2hFZFM4WfxnRGbEZfBlxFw8TPw7XCPICwv3J+l32XfJ87fLn/eOR4qTieuT45dHnd+o27cjwG/Zr/MYBkQZNCl8NhxCZE3MWzxhTGOIWORUMElIPsw2vCYQEzgBH/Vf4J/bw84Pvouw37Evrc+wD7jbvWfDD8H/yafW/+I/8vgD0AUYD0gV7ClwP7BelHhojvSbPKc8sTzF0NNI2eDd4M+YvYypiI2gchxbwDD4DLvmK75Hltd432ErRCMzFx7zFisUMyMfLtM8e0zHZA98a52DvWPiHAG8H4A0vFGEZSh4MIqUjeySnIeMfihx0F+cSVw6zBrv/8Pfu8HHqZ+Xf4mPegNx13CbcGN314GvkH+qp7w72Bf0aA24JHA9JExwXfhqTHP0dzx0nHfwZ8BbWE7QOMgofBf/9ofhN9P/vk+2M6pjmrORd45HigOVl6FHree/W8fP0+/kT/rMBYAaTB3UJ4AtBDMUMjhA7EwMWqRxXIlYlbilKLMkqPywkLO8tGy/mKzMo8iH3FecO9gic/tz4f/Jc6OLfldi10djNbMreylfMCs1ez4PTqtd93bLlzOyS8kz6rAJqCRAQiBYRHAwfXyGEInciZiFAIBod3xiZFDINQwZh/qn2NvEU7HvmcOMi37za49iq13ratd+f5J3pm+4r8TL46f9lB/8P0xXOGEAbiR4dIJAhZyJtIC8c1RjJE8wOeAm4A5v+T/in8QXuvehh5O3jHeFC4FfhI+Kk5dvouut28tb1uPk2/wAD7gUGCtsMyA13DlwOPQ5SDAMLnQkxCuIJWAyQE4YWYxnDH8kenx0AIeYfmCP3Jy8mLCSNHOYRTg5kCMABBAGt+K/u9ejF3wzaxtgn1ijWDdcU1u3WBtle3Erj4ula7sfyVffy/BUD2wmZD1sTgBZqGG0YvxkfGtMZoBhrFUQSoA3hB84DhgDe+e71JPHe6tvoCugL5+HmFed75+Ln/Oiv7pfzvPiW/xQD0QRtCRANQBGdFuEXWBhZF2wVjRRKEpAOEguiBiUCqv1k+CXzQ/Ax7Vzrjeoj6aLnF+gQ6jLs9O8N8+f1j/mu/ZEAIwNiBKIGDQjHCDkJZwhbBngDaAFM/7T9svzO+9r6IPwOAmAJehEQGewb1Bo0GrIcPyJrKnYwFTLqLNQirRmRFO4RBBPmDwYGpvpT7vHk/OC93pvc/dlN1NDQ6dD30QDWotq43Xri7eZF7DnzWftuAiYJaQ6tEhcXLxuOHdQfDCEDIO8e6xsBGIwTXw53CXoGvwDv+ir1yO3i6P/mveYA6DTopecD5rDk+uae7Eryg/eU+yP9Tv4/AWAGpgrlDeEOzA4xDjoODA7GDZkKDwiLBcMBj/8x/V36jPgB9kHzLvJB8SHxkvFH8kjzAPXm9uD4vvk8/HX91P1G/qr+h/9AADL/U/9P/gz9N/5g/k7/iQEaBGcJiRLoG10jPiTvIsojjSVYK1MzRDdwN98v6CL+F10Qcw6qD8gJj/7z8DPh3Ne61njXK9fL0nHLUchQyRXOMdX/2tfedeNT6Irup/ebAaMJUg8wE2oX6xx4Ig4mgCbvJLIioSBgHtEblhebER0KtgOs/tf5h/RK7tjmceJr4YfgNOAd4P3fIuH84mflbupt787zy/dt+h7+QQRDCZINrBD5EAgRVxEUESwSHxM6EbgNIgn9BBUCy/+Z/WX7RPgQ9RvyKvB475bvVfAA8dTxVvO39F/2EPnM+l38j/66AI0CjgToBcEGRgaYBagE5gQmBucGxgf9ChERHhq2H8Yd9xsoG00cFSLaKOIsnS7/Jm8bABLcCyINshC9DLoEjPnv6l/ixOBF4xXlWOF72knWANUy2Dnds+C240vmuOd46h/wX/ft/cACxwS1BkAKWQ69EXgTQhPMEyQUJRRKFbcScQ9BDWAIZgTvA+r/5ftY+H/zK/J+8R7vQe1U6r3oEevP6+ftzfGb8rLyyPNi9hr7sQBMBOMFXQZ3CBYKawuRDWkNYgzrCiwJAgiRCHkHEwWGAPj8bPvX+pv6+/lR+Cb2ZfWw9f72q/ix+Rr5D/mi+S37Mv6//0IAEgEIAN3/NgCjAFQC8gOmAzMFiAPjBDINaRS4GNsblRr0GcwcLx7GJAErIS0OK8Mj1hjxFd8VEhbsFe8P2gV8+oPvjOr763Xq0+bF35DYgdU51drVqdjB2l/cKN3z3I7gpedW7kr08fZE+dn9zAKvB1sMug4AEV8TZxRHFmEWgBc9F7QUAxLjEEwNdQuyCKAEHwNtAM78DPlM9VryN/Kb74zvI+997Qvt/+z77Ljvj/JS89n02vXe+MX7kP7mAEkCWgPxBEQFkgYkCZcJhAlDCGQGjgaPBqsFrQTvApoBswFJAEH/TP40/Ln72Pqw+S75hvl7+NX4z/gw+sf6r/rN+j/6S/uA/Zz/IgFsAxUDNwdPDD0RPRamGGUYiRnMGWscOiNIJVMm7iOEHFMXcBbJFFgWDBXfDT0GAv2d9fPzAPOB8MntpejN48PgQN6a3jLgLOEK4iTi4eGU4zbnleph7tvwMfTa9sT5jPxZ/wUBJAT7BlMILws4DAkN+A2+DhoO8A/yDgUO5w08DW8MfAsiCU0GsAT4AawAsv5W/VD7cfmL9kr0PvOd8hbyZvKO8qbxEfL48UzyH/Sw9Rr35PgA+rP7Ov4OAOgB7QN/BSsH0gc0CSYKQQtIDOYM/AtgCy0KxghaCB8HYAauBL4CSABg/6n9b/1A/df8J/zd+4f7MPsC/J/8bf6M/2oAogCKAckB1QI0BGgFlQaoB2wIPggtCEwIagidCDgJbgkICTwI+AZtBvcFlwW2BWIFAQWEBMADIQIiAdH/x/+g/zr/Dv5B/Ej6m/io98r21fbH9SH1avMh8izxr/FA8oHznPQH9fX1xfaH+Jf6J/12/hsAmQDwAfwDowVsBrgGZgYABgAGPAUbBSgE1gKKAWEAOv+2/rT9Zvxm+wz6U/no+Jr4s/gX+RL5Sfn/+dH66Pug/Hr9Rv4t/0YA4AEgA9wDSARTBLwELwXNBfgFJwYCBt8FXQVcBVYFzQRZBCUEPwREBEMEvANMA70CogJZAlICfQIsAnMBzABrAEQAOADK/6r/Hv+m/o/+Z/5W/mf+Iv7v/UL+Zv7a/vn+Df8c/1b/vv8wAIIA8QAYAd4ALAEEAQ8BPQEEAYgAegAdAP//CAC8/5L/Av+K/qz+3P6h/tX+0v68/gv/dP/h/2sA6wAmAWABkAGwAaMBkAGPAZsBnQEsAWkApP/3/mz+6P1m/f780Pxj/AX8ovtJ+xj7Kvsu+0r7gPuH+8r7Bvxd/MX8Qf1+/f39Z/7v/n//2P8hAIQA+AB4Ae8BFgJAAiQCEAIHAvEB7QEnAiYCAALKAY4BdQFyAXwBwQEAAgEC8QHRAcUBBgJgAnoCdwJDAhIC8gHPAbQBuAFyAQABowA5APL/yv+H/yf/vf5G/ur9q/2V/dn9DP78/ej90P3T/Rr+k/4M/4r/u//M/9L/4P8sAKAABQFEAXMBXAFJAT8BWAGbAfIB+wHDAXIBIQERARYBTgGBAXIBKAH8AL8ArQCoAI0AiAB7AG8ATAAbAMr/tf+j/8D/wP+N/1j/Ov81/zr/Xv9A/zr/FP/o/rT+lv6D/oP+kf6h/qj+av5e/mf+ef6h/tf+8/4q/3T/zf8hAEIATAB7ALIA6wAtAUABSQFRAVMBVAFhATgBGgEDAewA6gDqAMwAjABHABAAAAASACUAAgDK/43/Vf87/0L/Tf9e/07/Sf9G/0f/TP9l/3v/fv+T/7f/2v8FAEUAUwBWAEoAMgA0ADUAFQD+/+j/2f/L/67/gP9V/xr//v4h/0z/bv9s/1f/QP9o/7D/CwBGAGEAZABWAH8A3wBGAX4BhgFaATgBLQE5AV0BagFaATgB/wC4AI8AcABNAC4ACgDi/7z/kv+D/3v/Y/9T/0X/Kv8Z/xv/JP84/0H/S/9Q/1f/ZP+A/6b/x//o/wAAFwA3AFQAZgCAAJIAngCxALsAvgC7AKkAmgCPAIgAgABoAD4AEQDy/+T/3v/T/8D/mf90/1z/Wf9t/4f/kv+I/3D/ZP9z/5j/xf/p//T/5//T/9T/7P8JACcALgAiACEAHQAKAP///v8AAAgABADx/9j/uP+l/67/vP/N/9v/0//B/7v/vP/P//H/CwAVAA4AAAD7/wMAGwAtADEALAAiACAALwA/AEYAQQA2ADMAMwA/AFEAXABSADwAKgAiACcANwBEAD4ALQAWAAIAAQAMABcAIAAeABAA/f/1//b/AAACAP//+f/t/+D/3P/e/+f/8//z//T/9f/6/wQACwATACIALwA3ADsAOQA6ADMALgA3ADsAMgAkABIAAgD+/wAA/v/7/+z/2P/F/7r/vP+6/7n/sf+m/5j/j/+P/5P/lv+c/6T/qv+w/7X/vf/O/+D/7/8DABQAIAArADQAPgBLAFUAWgBbAFgATABAADcAMwAxACYAGgAEAO7/4f/Y/9T/0//M/7//t/+2/7r/vP+8/8b/z//Z/+7/+/8AAAUACgASACAALgA1ADwAQQA/AD0AOwA/AEQAQwBAAD0ANAApACMAHAAWABUADgADAPn/8f/q/+X/4v/e/9z/2v/b/+D/4f/j/+r/8v/5/wAABgANABcAHgAmAC8AMQAzADAALwA2ADoAOgA1ACwAIgAaABYAEwANAAIA+v/v/+T/3v/V/8r/vf+0/7D/rf+u/67/q/+p/6r/rf+2/8T/0v/e/+j/7v/z//j/AwATABwAHAAZABoAGgAYABoAFwATAA4ACQAHAAYAAwAAAP7//v8BAAUABAAHAAkACQANABEAEgAVABkAEwAMAAgABgAHAAUABAAAAPj/9P/z//P/9v/2//X/+P/+/wIABwAMABIAFwAZACAAJgAoAC0ALQArACwAKwArACwAKAAjAB0AEgAIAAQAAgD+//f/8P/n/9v/0v/P/9D/0//X/9r/2P/X/9b/2P/h/+z/9f/6//3/AAAEAAsAGAAmAC4AMQAxADAALgAuADEAMgAwACwAIAASAAsAAwD6//D/5P/Z/9D/yf/D/7z/tf+u/6n/pv+l/6f/qf+u/7f/u//B/8r/0v/f/+//+f8BAA4AGAAhAC0AOQBCAEkATABQAFcAWwBbAFkAUgBJAEEANQArACEAEQADAPf/5//c/9P/yv/E/7//vP+7/7z/wP/H/9D/3f/r//n/BQARABsAJQAvADgAQgBKAE8ATwBMAEkARABAAD0ANwAsAB4AEAAHAAIA/v/1/+n/3f/S/8v/yv/K/8r/yv/J/8r/zf/R/9v/4//q//H/9P/4////CAAUABoAGwAbABkAGQAaABoAGAAUAA8ABwAAAP3/+f/z/+//7P/p/+n/6f/q/+z/6//q/+f/5f/l/+j/7f/y//P/8v/u/+j/5P/m/+v/8v/4//b/8f/t/+z/8P/7/wYADQANAA0AEAAVACAALAAzADYANwA2ADYAOAA5ADcAMQAnABwAFgARAAsABAD8//T/7//r/+n/6P/m/+X/5P/l/+f/5f/k/+T/4//m/+z/8f/0//X/9v/5//7/BAAJAAwADgAMAAwADwASABYAGAAYABcAEwATABUAFwAaABkAFQARAA4ADAANAAwACQADAPr/8f/r/+r/6//p/+T/3P/V/8//zv/R/9f/3f/g/+L/5//s//P//v8JABMAGwAfACIAJwAtAC8ALQAsACgAIwAdABcADwAFAPr/7v/i/9r/1P/Q/87/zP/K/8r/yP/L/9H/2//m//H/+f8AAAgAEgAeACgAMgA6AEEARwBHAEQAPgA4ADMAKwAjABoADwADAPr/8f/q/+H/2f/U/9H/0P/S/9f/3P/i/+b/6f/s//H/+P8AAAUADAARABIAFAAUABQAFgAXABYAFQATAA8ACAACAAEAAAAAAP///v/7//j/+P/6//3//v/9//v/+//9//7//v/9//v/9v/z//b/+f/7//z/+//5//n/+//9/wAAAgAFAAUABAADAAIABAAGAAoADgARABAADgANAA0ACwAJAAcABQACAP///P/5//X/8v/v/+3/6//r/+3/7v/v/+7/7//y//j//v8BAAYACgAMAA8AEwAXABsAHgAeABoAGAAXABUAEwAPAAkAAgD9//f/8//w/+3/6P/l/+T/4//j/+P/5f/m/+r/7//0//b/9v/5//3/AQAFAAkADQAOAA4ADAALAAsADAALAAkACAAGAAMAAAD+//7/AAADAAMAAgADAAMAAQACAAUACQALAAkABQACAAIAAwAFAAgACQAIAAQAAQAAAAIABgAHAAUAAgAAAAEAAAABAAEAAQD///z/+v/6//3///////3//P/9//3//P/7//v/+//7//r/+P/4//X/8P/u/+//8//1//j/+v/9/wAAAgAGAAsADwARABQAFgAXABkAGgAZABcAFAAQAA4ACgAGAAMAAAD7//f/8//u/+n/5P/h/9//3f/f/+H/5P/n/+b/5v/p//H/+f8BAAYABwAIAAoADgARABQAFwAXABYAFAAQAAsACQAHAAgACAADAP7/+P/0//L/8f/w/+//8P/v/+//7f/v//P/+P/+/wAAAQACAAQABwAOABMAFAAWABcAGAAZABsAHgAeAB0AGwAZABQADwAJAAQABQADAAAA/f/5//T/8v/z//b/+v/7//v/9//1//T/+P/8//7////7//f/8v/x//X/+//+//v/+f/4//n/+////wMABQAHAAYABgAHAAgADAAPAA8ADQAKAAgACAAIAAcABwAGAAIAAAD+//r/+P/1//L/8f/u/+r/6f/o/+f/6f/s/+z/7//v//D/8//3//v///8AAAEABQAHAAoADQAOABAAEQAPABAAEgASABIADwAKAAcABQAEAAIAAgAAAPr/9f/w/+3/7v/v/+7/7v/v/+7/7v/v//L/9//+/wIABwAKAAoACgALABAAFwAcAB0AHAAXABQAFAAVABgAGQAVAA4ACQAGAAYACAAJAAkABwAEAAAA+//6//v//f/8//n/9P/x//L/8f/y//P/8//z//L/8v/z//X/+f/+/wEAAgADAAIABAAGAAYABwAHAAQAAAAAAP///v/9//v/+f/3//X/8v/y//P/8v/x//H/8P/u//D/9P/6//7//v/+/wAABAAJAA4ADwAQABAADgAOAAwACgALAAsABwADAAAA/f/7//f/8//z//L/8P/v/+//7v/u/+//8v/3//n//P8AAAIABgAKAA4AEQASABAADgARABQAGAAXABMADQAKAAkACAAIAAcABQABAP3/+P/3//z/AAACAAIAAAD9//z//P///wEAAwAGAAgACQAKAAoACQAJAAUAAQD///z//P/8//r/9//1//L/8f/x//T/9//6//3/AAAAAAMACAALAA0ADgAMAAoACQAHAAUABAAAAP//+v/1//H/7v/s/+r/6P/n/+b/5//s//H/9v/5//r/+P/5//v//v8BAAcACQAGAAIAAAD7//j/+v/6//z/+v/7//r/9//3//z/AAAAAAAABwAEAAAABgAJAAgADgARAA4AFgAXABMAEgAVABAAFQAQABIADQALAA4ACgACAPv///8AAPr/+f8CAPv//f/5//H/8//3//b/+//8/wAA/v8CAAIA/f/4/wUAAAAKAAwAAQAJAAoACAD6////AgALAAEADAD+/woABAD4//z/+v8HABsAJwAZABgACAANAP3/AAD7/wAAAADl/+//8//c/9z//f/7/wUADAAHAAEA+f/v/wwACAD8/w0A+P/O/9j/2P/7/xoAGAArACUAHADx//D/3f8bACQAOgDh/9v/xf+5/4//3v8LAE4AdQAUAOD/ef+l/9H/aQADAPD/ov+E/xT/egBn/0f/wgNuBIkAZf8A/6n7Nfsa/Yr9JwD2BiUIcQR0AoX/O/rw+I/61/vz/tUEzQcrBqMCbv+T+935I/tK/bD/1AKHBbkEmAEG/779QfyK/TwAAQL1AnwDlQFy/6z9nfy4/HD+jQD6AQ0DoQJHAYr//f3m/Pb9cf9nAIcBpQIeAukAtv+I/rD96f0P/9f/GwHjAaoB5ABSAGj/zf6o/tD+oP+tAO4A4QD/AIwAxf8+/1H/Uf+q/xwAewCYAJYASgDQ/6n/kv/B////LQBpAIoAQADA/3L/j/91/3L/+v9BAEsAfQBsALb/xP/j/4z/hv8SADIA/v8bAB8A2P/4/ykACgArAD0ABQDp////4f/I/+X/RAB5AGAAHgDg/9r/2/+q/5j/1f9ZADEAIgAmAAgAxf/m/8n/5f8CACQAFQA4ADMA6P+s/8T/NQDg/wIALACFACwADACe/5P/c//4/9v/QgCpAMAAcADo/5b/Of9H/1H/HwCKAPcA2wDeAP7/wv8Y/xv/Z//6/1MAoQDAAJ0AQQC0/2X/b/8DAMj/AwAyAEoAFADW/5X/7f/u/yUASwAxAEMADwCL/2r/yP/y/9X/SgDgAK4ASAD//4b/cv+I/4H/zf9lAPcA2QAtANf/5f8z/x3/lv/l/wwA/QDUAOr/+v8eAFr/EP/a/8b/ff/1/0cAl//4/3IAegA3AJcAxwDa/0j/jv9//zr/FQCnAN8ApQD5AKQAqf8K/2T/Wv+w/ycAMQBaAE4AoADW/1P/fP9BACUAZAArAGAAKwA5AID/+v6m/63/CACOALQANQAFASoAyv9B/1L/Cf/r/00A0wAwAdUAPAAAALD/Qf65/kz/jACzAH4B/wCuAKX/hf98/iH+Mf/TADoB6wCVAWoAW/+4/jj/EP5J/8gAxQHwANwABQDj/o/+t/45/yj/BwHEAcsBhwCwABj/r/4I/23/cf9NADsB7QAWAQ8AAAAC/0r/E//3/+z/mAD0AN8AOADR/5b/Yv7Y/uP+KwBuAKgBkgGwAYwA8v+3/iz+Sf4Z/yAAfwC0AbIBpQHY/5r/iP7u/tT+1f/5/+MAAwEoAZkAjP+L/wX/xf+6/7QA8v+tAPT/ewC7/43/Hv/W/1oAWgDBANj/DgDN/7YAbv+7/2H/QADo/yoA2P/J/3oA2gDLAHf/3P8A/x7/zP6//8j/TQEfAh4C/wCI/3b+lf0I/jf+FwCVAW8DAAPIARD/wP03/Wz9Wf4uADMCFwMIA5AA7/6c/db9EP6y/48AvgGrAdEAif+G/pL+Fv9yAP8A9QEzAXkABP+r/kP+5P7O//IAhQFWASwB2f8t/4/+9P7+/hEAyADiAJQAmADl/x7/t/9y/2j/9P+hADwATgCMAEIA2/8AADgAY/9i/7r/3//I/4UA+wBdAFUAcwDT/wL/Uf/5/ln/XwAcAU8BFQF8AIz/B/83/lT+Gv+rAMMBZQLUAY8AQ/+f/cH8Rv0k/yQBRAPDA+wCQwHe/jX8Hfsg/F/+SQGLA6wELgQlAmD/0PwO+xf7Gf37/6cCcASXBAUD9wAL/3H8JvtK/Ib+vQCFAi0D3gIeAqYAgf55/Lv8/v1F/7wAPAL4AqYCOgFw/8b9rvyG/dX+FQC1AQsD2AKoAS0ApP5i/Uz9lP75/wcBDAJ1AmkB9v9K/5L+HP7v/gUA9gCrAa8BsACA/4H+Rf5z/kn/nwD7AagCwgHAAE3/ev0A/T/+Hf//AOAC6wJEAicBgP/P/V/9r/3c/i8A1gFiAgQCZAEuAOf+4f3H/Un+p/+3AK8BCALmAR8Bwv+N/sX9+P2G/pP/eQCoASQCogGgANz/LP9Z/qv+SP/O/7YAvQH1AI8AqgA0/0H+xv79/of/NgGfAYUBIQEtAAH/Wv5c/rj+Vf9OAGwBrgFmAXQAf/+y/k7+c/4A/+r//gBxARgBsQAQAFT/8P76/l7/UgAEAcoAYwAPAIP/Qf/6/hn/XQBIAfsA2AB+AKT/lf9y/93+kP/8AM0AUgBjAA4Arf+k/2T/xv+3AMoAmwB9AD4APgBBAMv/NABiAZAB+QDUAKcA///Y/y4AlwB1AV0C1gFsAOL/v//6/tD+0/+kAEkBDgJfAav/3P52/sn9Kv6u/+UAnwEDAoABHQAA/yX+TP2d/TT/WgD2AFEBlgB0/5f+iP1C/T3+AP+0/4kATwB3/8X+s/02/dH9O/6g/lX/l/9U/8L+8f23/fX9D/59/iL/KP/d/nD+hP0D/Qn9yvyh/FX9Ef4n/iP+4f1y/Sb9Mf1v/en9+P4CAJsANQGUAV0BcgEuAtQCTwNXBHcFSgZVBzUI7wiwCtgMZg3mDXAPIBAkEDEQFhAyEHQQqQ+fDesLvQq5CLkFYAP+Acn///wj+jz39/QM88nwd+6A7QntD+wO60Xq/Okf6mDqB+sa7WnvYPHK8871Afc9+ZL7Pfxb/mgBTQNMBYEH1welBzIIUweaBp0GwAZ4BsQF2ARWA8UB0v8R/kX87vod+kH5c/gf+Nv34/Z79vT1wvWe9hb4pfkA+zX8kP0p/4QA5AEAAkwDYAXSBagHMgkcCTQLwQtfCg4QghZZGZweKiC7HVIfwh6HGy8fPSMFIwchgRwuGc4X/hL4C4MGCQFM/T/5wvOM8jfyRutt4mXd/dpD3ADcndhk2WXc6Nvg28Tdpd+J5GPmd+U+6gXyF/cf+r782f+0BHEHtgkYDjUSgxVGFgIV9BWHGB8Y6hYWFpwUCRObELUNewvpCLQEFQG7/Vb7nvlp9oPzQPEk79Xsuev76/rrjusp6z7sRO6N8BbyGvMI9uD4ZPpZ/GH/ogLKBOwFRwb6B2UK5QpOCt0JRAplCqEI2QbiBqoFcgODAf3+AP6E/nD9+fuf/Nz8lv2S/Yb/Sgd5DYMRXBW/FsIWexnfGVIZbx+5I1sjhSHYHtccGhvmFRsPrAogBskCLf8w+9T5w/ZH7jHnzOO+4dLhMd/f3E3eQt8e3kfez99h4VrkY+TT5avrMvGv9Mr2E/no+/X/2AEjBB4J5QvuDCgOxg44ELsSoBKHEY8RjxH8EJcPJQ4JDYoKSgfhBe0D5QE/ADT9dfpl+LP2u/Ri88nySfGb7wfvCPAf8a/x//Gp8mb0uvUL99f4Gft6/T3+Av/zADED1ARUBUQFuAUaBygHywWxBdgFcAQlAy4CgQEXAroB/P9u/8n/kgC1AbUBWQXYDBERJhREF40XIBitGd4YABo9H4MhTx/JGwUZTxcYFNUOXAlqBJQARv3b+B32r/U98Vzp4+Rg4zbj0OPc4TbgROJ047niw+MX5uzoZuvs6/ztR/Or93D5Yvrn/PkAggO5BNcGMQk8CzoMcQtMDLwP2RAuDycOSw6tDg0OkAzeCzoLWAm9BmUEPAOGAj0Ap/yI+lj6ePn39jX1o/QE80Xxs/DD8LjxbfLQ8fvxifPr9M71f/bm9x36Bfu/+qD8hv/1AMAB5wF/Ar0DTwP9AQICKQJUAqgCdAE4AQECAgFWAPAA6wH2AlIDIQfKD6sVWRg9G+MaNBqbHFEcjByiIiYmDiO6HrYbiBnnFaEPhQn+BKkBH/9/+v712vQ78ErnU+J34b7h+uGP36vdSOAy4kvhsOGs45bm7+iG6SHsPvKv98P5XfoF/bMBgARnBasHDguhDVUOoQ2GDmoRZhJxELsOHw+DD0AOZQzdCt0JuAjOBb8CUAJGAZb9u/pi+Uj4rvcr9q3zxPKc8jzx5O8T8AnxRPFZ8fHyUfWw9gv34faO9675ivsp/a7/JgIJA3MCwwEBAx4FMAUQBOMDkwS1BMkDVAK6AZgC9gJqAYIAJwLIA6kG1QxpEmYWUxq0GrMY0xkAGykbkR5bIhciYx/gG48YYxXLEIwLPQbAAdb/Sf3Q+E/2B/MI7NHls+IE4hzjTuK14NDh8eIw46TjpeMf5WvoNukG6tjuX/S397/4m/mE/AkAVQG/AmEFbAg6C+ULywu0DQoQYA/JDc0Nfg+AEE4Pgg2FDMQLuwnpBrEEzQOwAj8Akv3p+xX7cfmu9g/0zfJt8jryT/K28p/yVfJw8jfzefTf9cv2sPfG+Mv5gPtz/Yn/dgByALAAvwGdAnQDjgNRAk4C9AF/AMH/VgDxAHMBhwFbAZgBcALHB5wO+xIvFyMa1RiOGHwalxqcHQAjFyQ1ISQeFBsPGCEUIQ+iCpkGUQMsADj85vmJ93PwX+ia5FTkjeX55bnjE+OD5KzjEuIB41zmjOnJ6njq/O149M/49vnm+az7Qv8sAoUC6AQ/CdELmAtQC9gMlg7dDpMMBgu8C08N1QytCkIJjQjGBtgCvf/b/sn+Vv1Q+8v5VPgA93T1NvPa8UbyOvLL8QvzvPT/9B71i/Vx9n33/Pgg+pz7sf0N/4n/YAD8AVACdQKQAkQD7gOCA2sCoAHRASwBTQDn/9kAEgGSAFcAKgOOC4USoxTvFScXjRauGAIbsByoIq8mQCNkHuQbTBpgGCkTQg2BCb4FoQKi/537Mvlp9LHqh+SU5Nnl8Oa75XnijOKe4hTgC+BO42PmFOng6mPs6/EV90f44vfd+M77EQDrAmYFAgq4C3ELvAtKDJoN4A6kDW4Mgw28Di0QrA6pCwAKBgc3AyACxAFMAJr/Of7b+wT5c/Zh9MTxS/Bc8NbvafC/8sbyMPFC8V3xTPIU9G/1pvcW+w/9MP7r/2gB1wHaAc4BpgJ2BTUI9Ae9BqsGKgUeAzMBTwEtAs4C+QKAA7AE+wrKERoS3xImFHkSvxPwGHEbcyDyJUcjuhwcGQoXMRXlEn0O6AmkBvADZADG+2n45PTP7Drl6+Ng5iXpTOl75QDj/+IY4WLgf+Jb5rnqMe2M7SnxTPdz+ez33fYc+g//+QI8BjoJUAoxCtYIuQZvCZsNYQ35CswJmAqBDNALdwnCCCoGGAPfAXQAcQA6Al0AvPub+c34BPfo9YT1yfRA9KnzYfMl9L30RfT581vzNvWi+EX6FfuY/I39RP67/8oB9QPrBDMFwAXdBSQG5wVBBYsEbQTKBKIDXgP/A/ADlQOlCXUQ0xR1F2gWzBK2E8AWohfuHW4joyLyHUoYyxIVE2sSHQ42CvsFLQJl/k75C/UF8qvrZOaT5NblKujk5/3jceHk4AHgW+G65GTpOe478EnvkPH39Zj4S/pK+7D+AQS1B3UJ0wpdCnsJdAjzBpEJBQ7/DgMM1gkvCK4GewXWA8ICSwM7A2YAE/5h/RD9qPo5+Hf3RPgC+Vj4OvZK9tf2xfWr9cH2kvfZ92b3pvam+JP7nPxV+337F/1B/mj/0AFrAwcEdAOWAvsBPATABcoFkASoAxYDSgLtAQADygWaB40PARVaFnAW+BXpERYVxRo+HXAjOCcMI0IbyRbtEWoSIhMfEZUMJwcyAf77Qvdt8+DvsejK5HHlUua85i3kNd4X3KLblttr4Frm1+kM7dnrTOkt7ezzSvi1+6D/UgL0BDIHLAkLC7EMPA3DDP4MOhDEErEQMA3pCk4JJwkmCEMHLAhHBlMCuv6N+yb6Yvsm+gL4iPfk9gL1ZPIW8r/yI/PN8jz0wvT982f0m/SG9OT2OPo4+hj7afwb/az9Kv/lANoCOwMEBBwFLAb6BXMGmAY0BvgGiQjRBywHSAqODPkTfxm8GbYXFRfVFIIZYh47H0ckWCVyHo4WwRLEDwAS4xGjDQUIMAEw+yX2FfIy8Knutuht5LDkMuSn4v/ep9x73avecd++4ijmA+ln7M/q4Opk8db3CPqg/JoA4wMJBlkGtghIDIQPsBCcDxcPrhEdE8oPpAzMDPoNGw3xCrgJMAj9BFoCYQDs/sD+e/6u+dj2qPec9+H0ZvMi883yuPLp8VjyVfI+8xTz4PF+8vL1yfeM9/33D/iN+P36g/zy/U7/RwDA/tMA+AFUAtQDWgTzBJYFGgY2BbUJ1AwzFtAbKhsnGlUaRBi0HPUkGSZfKukpAiMkGlQWuhQJGHEYvhKiCnD/EPiI9XD0q/Em75Xns9/83Qrf29/Z3aPbTdr12uPbEd+e4XPkHej96KLqou9b9ob5Yvuo/NIAnwTcB/kKLg5uEOMPDA/qDhISxhXyFZ0Q1A64D80P7g6uDQgLyAjkBUkCEgGJAcQB+/2d+AX2/vYR9gz1XvNu8vzxhPFd8GzxkPPr8sLxVPBA8gX3H/kA+CL4ePm4+TT7+/qX/Of+BgFDAWAA/AGZAokDwAKjBE4DhAcoCvYQzhhhGbQW6xXWF98bdSZ5J/wofSlrJMQbxhn/GhgfSCBcF7kLIwFK+835Kfsl+f/zkem43VzbCd874TTfrNk817LXHdnz2SLeQuL05Mnk3+ND6f/wHvZv92b5Nf6HAj0DtQVpC9gPHhA6DfMLHBDyFl0XqhK6ENoQJBAMD0UPBw8qD7MLJgbvBA0GsAUEAjT+yfyM/a38a/lZ9mH2GPYp9A7zP/N59HD0wPKW8FLxCPOC9Ar1+PVa+Cr4dfZo9mX4pPoZ/qL8uvx5/TH/SwC8AMb/9AB8B2IMahYPGKET7RHaFXAazSMgKVIoQCriJz8gFBxFIEojAyV8HaYSyQmABd8Ccv9W/kT5xe9z48HekuI05U7hKtlU09/UsNi+2JDZMd4n4HHeld2m4L3rh/RZ9Vn0lvbm+lf+8QE7CBEPqxHADNQHWAzwFCQYKBXtEboQpBIHEUQNmw7PEEQPFwrFBUIGQwiQBGL/u/3U/i3/TPuu9aL1L/nX93b0tvL18gn0ufLz8DfyMvY598v0IvM79T75zfrR+Kj4j/sw/br93vwi/qj/NAJZAIYBSwZfD+8VXhKVD8cRSRZ8HNUjSyPmJBInsSIwGxceiyOwJocjzRghDwkLUwufCG8HtgHz+EDvmuaR5rnsqOlS383Y/dbq2FfaANnC2Cjc2Nxn26XZ0t6w6SHu9+3n75Lz4PUm+qj/QAWEC8oMSQhuCAAPZRQFFhsU3REiEwsUYBHiDysRIBFYDpMKLAk8CXcI8AWgANX+4wB6/4f6yvlu+kb6Efgi8yfxMPQz9tP0afQ38030a/X78z703fdS+bL49fhb+QL7sf0//VH+Uf8E/8QCmws+EWEPug5tDk4SihvGH9ocryDCJfci2Rx3GlAeTiUKJjYduhNCDYINgA62DJgJWwKX953w6vGv81jxl+jv3ybhX+NI3rrZotpz3H3fVN6J1/rYUeEu5Iblpufe6UDsNu2n8fb6dQCW/9v8gP3JBUgOWg82DO0N1hFME/UQ3RBfFIkWiBQMEEcOzA6eEDUNNgmRB/0GLAN8/5f+j/+3/hn7fPer9Er1wPWL9bL0V/YT9j31evO69A73b/ni+Cb3GPo1/Tn+g/0O/Uf77QjOEiAMPwjbCuoM9BapHtQX+xnRIIYfGhkhGIMcsyQFJQIbERRqEX0RyBCsD5AMWQoYAsz1m/UN/PL8NPOt6PblmutC6v/f4t3I4ivmvuKj2nzX39+r5WfjzuCF5HDqhelp5hnuCvmR+ETz4/MT+zAFwAhOAgQAAgm2EIcLdwgsDjcVGxNaDDYLsQ+ZE48QagzKCpsNUQxbBV8BigbHCQcDgfrT+Jn97v49+rf1ffbj+Pv3qfQ18wH29/kq+KX0JfY//VH+JP289g//kg4sC8cGPgmtCAoQWh1AEl0Q4BzSIQwY6RFyFPUdMiRwGk8RrAzTEKITmxGECGEHCAes/Gj57P4uAeL4T+5W7DXzEvM26v/k0OdM7ebt3+Jn25PkFe4F6lzji+Ih6JvrB+p96rDvgvIw7xTvKPT+/Gz+DPs4+jwAAQfXBzgCGQaDDwMRegqHB3gNTBG5EjIOlAweDVYP8gsmCEYIuwuECx4Cbv8CAmkCOQAZ/qr7sfvT++/34Pam9378P/qS9Qz0tPjJ/XT8QPvT9RMDLQySBPUBZAm7BxASSxgFCz8QSx45HB8ReRNPF1Qeix3+FPEOORF9E3wR5g7GCWkKBQXJ+gT9qAQLApb2s+6v8Sr4G/Qr6sroKu+V8Azr6uOA4evqwPC96d7iN+dL7fDqQeni67HvqvD27h3vN/No95P3U/en+Gb7K/+C/r391AMdCJQGtwEUBOILEw7dCL8HMArxDOYOKwsJB+YHZQ3EDL4GlQKZBvMGgAR1AfsAUwAHAMD+4PrF/S3/t/qi9wX6iPtNAXL7sfdA9hQA4wtVAyb98wTqCXsK9xHVCckLmBiaG8sRLQwSE1Mb/xxJFWARbRBqEPsQyBH5DYEKQwk3AI4BugYtAur5KfXh+Qn85PXS6ufsyvVw9SLuY+UI5eXvxfLy6GPo1uyz7Art0ul865fzdPTI7Rjtb/Lg9gX40/NJ9UD7ffyz9h769AAqAQECDP6+/PsDswlVBvIBAAWnCVIJJgUMA+sJoAyHCAoF0gKOBFEKgQeW/78CDwaYAzb+Zf89AMYDbgFg/L/6lf9WAnX/NP2f/YQB5PtrA9gIUQNJAhEHPgOXC7sQ7QidCGsQ+hScDZALwQ2qFSoW0Q/QCzAMDA25D58PVwdnCBEJQgEQA74FyAAR/d79t/yo+972D/Mb9+L6ZPXV7i/vxO8186jxK+y68MPyde3S6jbuhvP89Jrx2ewK8pz26/dD8vryYfvH+sf4cvj++tf8dv82/bD9kQAaAS0BeABqA7QGUgaC/4IDoQknB4wG0QXpBBAGAAg1BVYEIQUtBv0EhQBIAkIEtwJ6/6QA7ABj/yX/Yv8j/boAxP8H/cP/K/wDBVAIrP5a/y4KngTlCN0MggVtCl4R1A8mCG4LCA/mE7YP/QpDCl0LgAxIDJ8L/ANTCGMHHAFxAsQDjwFb/nn90vzD/d340/VI+bf7B/jE9AzyCfFB+DL5Zu+J8O/0lPMj8jryovKB9vD2ifGn8hb1Z/nv98P2ZffD++r6h/cV+TT8cwDw/uv7IPyv/2MB7QB7/jACVwWqAvL/zgFjBdIGvwThAa8CsAVGBiEDgQOsBC4EqgJIALcBpQXtBGQA1v7AADcC3AFpAHr/vwAqBFL/w/3V/g0BoQj7BWX+1gJnB9kEtAmyCPcGFgzEDHkI5gaLCukOHA/xCfUHJwcwBwMKdAreBukCFQWAAl4AfQIDAxD/5/1W/lv8kPtt+jL72Pvx+5j3iPQI9lL5rfj79Zr05/VA9vb0GfJC9VL54/fk8+bzhPaD+KP5bfb491j6gftR+W75Ovpv/poA9ft6+yv+awGxAUYAAv+tAY4D6wGMAYwBoAQoBXQDJQE7AnEFyQO9AtQCMAR6A3gBjgAeAyIEIgGoAroAIwDPARsCigBP/+4B0gE6Akz+XAFA/2QBagZGBOsAyQLEBUsCDQi1BkcHrQWECGII9AWmBXsHIgtCB20GtgN6BHMECQiKBSYBZwI2AQkBhgIVAqf9Q//q/zv+X/2p+z39hf8K/I34Y/pZ+0D71/qI+KD59/rM99/2CPn2+rj5+/hC94L4NPrb+bb6h/ro+gj7XPva+nn9HP5r/d38ZP2h/xf/zP92/sb+uwExASP/6f5dAfQCYALk/ioAzAHMAngC0//lAdkBHwLmAP0A+ACCAawBHAFCAGQAQwGE/+4ACQGLAIYAZP+p/3cBDQPjAJ7+9QD9AZkEswM6AJMB3gYPBVwDZwR/BGgHWgaTBvcDEgRcBjoJNAahAmYEXwO7BJsFpwPj/+gC/wFkAL0B6f+B/xf+4P+0/0P/APxF+5L+JQAy/Wn55/sb/bL9z/r++hH7nPsW/WD65Plu+xr9rPuv+k/7of07/Qb7K/yK/h//U/xc/Cz+cP9w/1b9uf4//z3/Rv8P/tD/TwG2AJP+QP5KAKgD6/9p/y4AuADZAkf/BgAhATwBjABTADz/7gKJ/hP/AgOP/4D+U/+XAsABKP51/WwD0wExAHj+XQBbAzsCJgD5/lwCCgP4AQ0CKwE/AZ0F+gLV/+sEZQRQA/IDZgMOBFAEEQNwA6IEygKYAxgC+wGeAbkCxAF3AH8AGAC2AFH/6/6c/6sAt/3U/XL+o/7P/jL+ev5H/Qz9/P45/pH9mf5K/Qj9kv7n/TT+iP1r/df+kv0x/Xf9zv5J/q398v2P/SL9T//n/nz9Yf5H/hf/a/7o/Vr/fP/N/sb+v/6z/0wA1/3W/RcDOQFl/H/+vgD1Ac4Bo/wZ/9QCVP4yArMAXPyDAcAD2f5E/ur/8gHRAXT/HgBs/nMCnQKg/8T9MwG2BPwBjPx8/1sDEQSUAWn83wFhBD8BqwCxAdQApgLQAUcCrgCuAV4D7gBJAQYCyQGIAW0BrQCuApkAIwC1AMYB9ABp/0kAWQB3ATIAHf/A/qkAWgGiACL+O//ZAPf/wv+y/nkAmP/h/i0ADv/2/ToAUf6N/tL/7v4R/gX+jf7z/yr/GP3G/bD/uwDG++n84wBNArL6Ef3iAPD91v/HACX7+/3OAhn+XgCE+tf/tAQ5/bL71gKO/rv+LQHr/8n/6fs/Ag8CEv6U/ub/g/9VBNz96vvGAcgCqQCz/n/9+gBbBD4A+/0R/xUC8gFTAif+wf6ZAS0Gz/9P+uoB5gZ4ACj+NP9HAAcGIgCW/Zn/7QJvAi4AWv1EAbgCowG7/mv+DQMGAtQARf/L/ukBYgTH/4/9D/9/BMQCp/2l/vsAZgE8AcT/4v7x/1UAwADU/x4A7P9E/aX/8QKeAUv62P7FAkwAzf3b/oT+VgDgAcn88/6f/d4BoACo/5P5agHXBI/9FvnWAQ8GXP1l/Ln9HwI7A+UBWPhs/ZUGFgRl+3L62QDhBmwAO/sP/YcCtwLzAGX7n/9BAl8Awf3w/h0CKwDj/2b8JwGUAegBePyK/8sADQM1//39BwDyATIBA/9Z/7kAgwGe/yX/0/42AoQAGv8E/SYAngIfAzL58f1jAx0COP+j/eL86ACqBPL+Qvxa/BIGIwBP/UD/AgHE/+v/VwAXAWH/c/6mAw7+CAAzAgwBiP+D/sEAywRoAEj8KQGRAVkC6AE8/mr9ZgMfBGD9Ff8EAkMA2gCFAf/9WQDuAaP/PQES//P+fAKDAIX+s/9k/3ED4QAo+rUAtQN3/6T+3v4AAHr+nQCbAyz9I/ofAu0Cdf8w/FH+ewLP/dUAswDN+0z+mAQV/xP+4P7Q/wQCgP+p/pT/8QHv/EQDi//Q/FQBSgJS/U8Bw/5t/bcErP35/lT/+/7uAFoDMfk0/88EUP/Z/NL+RACPAfwBBP4O/c39+QR9BN/7BvuhAUAFjQGD/Ov9IwKwA1IAyv5y/TYCVwQbATb70AEpAtIArwAzAK4A5f00AjEEHv70/MUCJQCWBAn9ffwGBToBzv4JAP3+xwGiACYAkgLg+ckANQgK/H/6dgKYBBL/YP1J/AYDQwMD/mL9HP1+AYsFM/0C9vsGhwGJ/u/8FP0IAtADkf3E/Pf9AgFUBjf72P2v/hwEqABN/lv9hgAxAxMBnv1r/N4ACgTYBXj2rflOBoYIwf6187r8XQsEBuf1X/mrA6oGuf60/On8ef3uBowEhfqM914FEAZK/qH9mP9r/xEBEwOsAJ39A/xbBagCJv8e/GL/LQbHALb6kwA8A2IBgf+g/ZcAlwDGAqAC2vpL/okDMAPRAfr5Yv14BlMCIf3d/239iQElAhkEjfqi+w0GWAIH/E8AwQBR/oMBtv5wAsX+OP3m/8EENvva/pwDsf50/Vj/1QD+/koEdPvG+qQEHQTM+gsAnP0IANcGHv07/KP9dAOYA6oC/fcl+5IHQgfY+pn6OQC1AT4G3v1n/bj9zv/1A8IBc/wWAvf7UgDCBFr8wQFAAqD6BgDZA68Auv8R/SYABQLQAsP9hP7I/vcD1gJN/AP+mQD/AckDq/1E/JABrADUA0L/PfuKAMwDAAArAJ/+ovzyA5kCkP1i/+j7pwOYCaT1mvhBDAb/2PzrAtH3nQUkCJzygAPABMf6pwVq/aD8mgE6ANcFZf3g90YGev8tAbgAEv28/4T+agF3A8j9U/3AAEX8rQVWATn72vxzBIYA9PwUA8L+gPoWBRcBr/5AAfv4XgVzAef8JAQr/Nb7qAcb/u4BM/zL/CEF5QOp+739hQPy+54EPQOC+6/55Ahp/xYAhv7n/bIAFwOL/+D/KAOv+EkAmAL5B2P8rvmi/7wCvwM0Bvz2IvdkCjUF2v1V/ZD6swEbCgb8VvyP/fMBZggj/DH2TwbRA5/8pwJN/RT6CQcyBBX45QNO/If//Acz/Fz6TgNNA2UB3PpX/EsHBgEJ/4b8gP3iAu0GKP6H+W/5bgneC3j2q/Q2Al8JuQMA/U/2Gfw+C2gI0vP3/D/9Hgf+CUbxHv5wBAECJwSG97D64gkgApAAh/Xx++UO6vxfAQn9ZfMeC3kLRfWO/Fj+pwRWCv/0XPqHBgUBpAVP+lH53QQYA8ECdf3v+IEDsgas+IcJ0Per+YQNowHn9kL8wAfyByH3nvlmCNn7vAxP9z32BAiVBFIEPPeQ9+8IAwcz/0/3Wvk7Dtr7hQQq/53sVwzUD//0LPoO+v0H/guY+GL3K/8CBHAKC/x99egBGwPmB2b6I/xa/dIIWP25AXD7nP8OBDX+yQEZ/X4B4f7uBIv3PAICAkkG3fkf+igCGwE5C0j4PfVSBkQGjv0nAEn4wgJ+B479uP0o+GsIqQNa/Aj+/PoEB/sDoPqL/LABZQDOBgv+aPcJAHQIJAJ9+ST/vgD4AHMHdfp7+HoGBAT//oz/qfcTBVcIhvqlAEv3IAaIBzP9BPoI/ugBCAodAK3vbgOnB+sCNP3l+Sn+QwekA4X4pgBW/QAEcQVX9wkC8QI3+msDIQad9qAEm/vxAGcM4/Rh+UMHXAb6+WkBo/tYAQEIqvnm/5b9QQPjA3L+r/1q/Er+fQrKA+ry9AMG/UECbwaW/CH9of27Aw0Bof/Y+6H/mQWIAnn23v9kBaX8fQQv//39S/zi/jwFWwKHAQv4/vzdBRICq/+KALr7Nv2/BH8D8P9X+WP+0gbiBMv4c/x/AvUC5gPW/WL8LvweApoHVQMh9Nz/zQNBA/4BR/gIAk8AlP5jBOP/1Py6Av35VQGSBX/8nATm/kD5swFOASoBAAUK/B/88wGI/LAHZwO39yL9KADcCMEDlfc/+fwFxQJkAKMCGPh0/wcGkwCM/rj7q/yyB/AE0fsL/Uf7oAENBywB+fpb/LYEBQMa/Ub9S/67A00DTv+B/jL7zQAgBsn7wf4JAE0ATQfU+0r5dv2sBmsIGf2P+T77ugLqBUoBHf7E/bb5zwOrCFz8kP2QADb/wv1pA2YAMgHc/Qr/tgJ3+bQBpAeEAbL8d/te+lQJsQKD/Mr+fvrZBKoGrvyf+Oz9/QWXCoj95/TK+c0FSQmJAnP5i/ipAOQFXgex/B74yv2XBLUF5wEf+Nz8pAXZ/+YCKgAG+RcBRAZ0//b+m/okAakDQv9rACUAff2TAmACWvUCBDYFoQLZ/Rn3eQOXBNsBxf7p9wAA0wpCAGj/Dfa8+tYIjASYBNb58vqX/hEBBwgmAKj4pwGs/xgAAQep+yf7jAAtANsJWf8V9pgAUQAbBG0BAP1H/6L/qgPKAFH52AO1AsH6wP+/A0ADdv49+d8A/wEWAUEG7/sU/GgA//8PBHn+EPopBpz/bvydAlUBG/5e/67+OwGVAZEBzPwv/ZcE6P5cAYb9kP8PAA8EkgGP/Cb5nwHWBu0CNAIm95H48AH2CY8FLPtp+e//oQG0AvL9lwEdASb90gBCAID+XAJoAcf6sAB//7gC4AO1/Uz8mv8q/9cCbwPj/FD8lALPBXH8IPq0AZMChAAwAi0Btf4B+FoA4gZMADMAVwJL/N/6ywLjAXUCtALg+1b9D/+MALICWQW2ACX4+PuEAvwERwQ3ADH26f2KB1wCyfqQADr/gP4cBoUFiPsZ9HIAfwcsA9H9dgGZ/YT99f5hAoUAb//qAp4Arf7i+2z/cAERAIMBBAWE/FP7CwJzAWP+AgLl/TkCgv5d/swCaP6xAMX9bP7UBAQEs/z//9T6e/8IBEEEiv8k/Fv8jv9QAzUD6QAY+08Bwv72/uUBp/+0//8BBwAm/8T/7fwAAOf/zwTaAaD/1fzm+dQBhAEbA4kD7P75/WoBMPkh/GoIkQZg/07/6vbF/TIHhgHM/G3+zgNE/6UBw/23/48B3v3u+6oEUwVb/zMB+vjX+/kBqQWBBaz86foI/30BzP+9AosAe/6r/DsBVQU9/UT+U/76/tEFSgSD+xT6Hf1UBMYCrAHfAtP3Z//MBL79BgFd/7T8zwJkAroCWAXz8/D5EQJ/BS0K0gAw+ib1r/5xAxYKDwCe+/H+iP67AKYASALM+lYEngE6/tL+Wf1AAHQBvf7d/+MF1v0+/xr90/oBAcEFegMp/2b/Xf8S/PUAQfr0AYALAAEFA+r0v/nvA7wCfgJFAWj/8f9JALL9sP/V/cEDIwE2/EcCxAKy/Eb/1P34/dcDXgDYBpz8KfjEAc360wUOByX/egGL93j8zgHHAY8EVwDu/gz/GwGA/67/cf9g/oYArQGAAUQCq/5j/Qv6YP9XBA0DsAX6+kr89PxN/j0GSgAfAYgA8/3O/hP/ov50ADkEVQAJ/7oA2AFf/rP/jvy/AMgDGQLuA7r7CPyW/sQANAC5AZEALQCWAFn7VP8iAEMBKQGL/k4BfQKf/4X9iv8K/vIDzwBx//IAYP7DAEf9zf6VAs0ANABY/xv9ZgHYAR8C2AEIA3D+ifm6/PX/BAOtAX4C+ABF/Jj+cf4LAEH/OP1IBXAAaQLIBG78V/xV/LT+jgM+A0MBRwEP/Wz+fv9M/k4AIv+yAJYBxv/P/2kCCv06AK7+Wv77BOT+vgG1//v9GwA1AC8AlAHO//P+8v6W/lX/dAAAA6IB7P+E/tH/Jv6dAbUADgEAAgT+uQBf//T99wCo/7T/0wCP/WsA7v9B/xQBQv0I/5ACuwFbAmH/i/yl/wQAYwFPA5YB/fxR/lP/gAEnAuX+/v9U/s0Bk//qALH/B/+FAer/NgGmALQCefxR/XP+jQBnAlL/ggF1/7L+iwBw/7z8Iv5D/3kE4AJi/9MCm/7m/cH+nP7nAdwBPwMKAMX9eP+J/7sAhP33/aYABAJTAXD/IwCm/lX+2f8a/4IAZAEVAa8BVQDq/oz+Nf+o/r3/0AGHAc0Bf/9P/ff9KAGz/ykA5ABIAPIBZQAVAWX+nv/L/6//BwDq/hMBuwJgAeP+lf8U/dr+2f+L/+YA3/6uApsB7/9i/p39MQFy/ov9RgCvAhcDKwQNAgIBSQGs/lL90PxGAL8CzAGq/+P+MAB+/9L+8fwd/A39Wv/zAOH+3f+EAW3+Ov2l/DX9/f97/7cAoP8v/2gBfwBj/8L82vyj//f+7f5rAVEAsADc/5X82v0D/cT/0/+v/jn/GP8AAsMA6v5Q/cb9Of+KAL4A/P9lAcwA/QDXAOsAkAEuAooBEgJ5BQ0GtAe2BhcHkgdrB/oKJAo9ClgLmQotDHIL4wpWC1QI7geJCAoG8wSWAnYCkAGL/az8//kI+GX4QfZa9HPyL/FL87rxYPBz707uRvAW8hf0xPPq8i7zzvSa99/5G/pl+cj7Of61/3gAgwFUAdUBiAHkAagCKwF6AtkAuP/+/xD/0P/A/af8ofxi+pr7DvsG+Q/6HPtI+3j5Cfcr+Zn67/pz+2r6sP2lAQgGzwpPDbARbxeDGtYcvx7DIcEldycwKkwpBSjeJ2Mm2iOsHuoZTBSjEPwLAAWr/gD5+fO97ojpKuZq4ajdXNov1hnW89We1qDXttds2//fEOPb5Urn/Ove8Qr3Zvyl/oEBkQVhCZ0NjRDbEVsTbBKZEq0UVBVFFRkSlxAMEJIOPQxACB0EaQAx/q39X/oa9iLzl/FZ8XrvrO6F7QnuWu4i7lbws/Fl8yD2R/eE+VL9p/+V/3H/cAJwBT4Hhge1BnAH2QmDCowJuAeZBc8FaQW/Ajb/XP3n+yX7Kfke97v2PPXh9bL3rPtpALYFnAwOEeYUEhqnHUEhmySAJcEnmCkyKRYpmiddJvMiJB0TGM0QdQssBVX9wve88KXraOiY4/jfs9t02G3X9dTw1JvU1tRb1zTac+Ag5MXnD+3Y8DD2o/rc/aAAugPMBzYMmg/LEXIT2BS9FcMV5RatFRYTkxGDD40NRwsSCDYFIgOAADz+qvt5+LrztvFk8J/tvu0a7UHtl+2E74rxk/Eg8/PzjPaq+eH6dfzL/X4AlgP4BZ8HgAcQCG8J2gmICboI2QdPB4MGrwVXA8UBOwDl/VP70PnO+J/1CvSR8IXvRPFl9IL4m/zjBAQNKRS5GBgcNyBlJKQmwyfAJ5kn5SlNKpAo1SXaIm0eCBj6EH0KZAK1+gL0BO1h6Ebjed8b3eTZWNke2avXPdae1FrWXNjb263f4OII6GzuUPUr+u/9wgHvBPkGdQs5DtIPxhAoErgUfxZDGBIYdBcCFtEUGhOaEQYOYgnpBQkDKAHz/iT8M/m39w72ffTY8gnxTu8G7tDtK+7z7uvv2vBU8oz07fZQ+fn6Gvy8/VL/1wC6AdQB3AL5A/kFtwYoBhwHXQboBT8FbgKiAKX+TfwR+jv3J/YD9fHyu/EW8AXwAvEz83T21fqsAA0IXRDFFmwcnyELJl0pDizWLCEtSS29K7IpYyfzJHchDBy7FZUPHwqxA3j7k/Mf7Bfm/eH/3S7aAtgB1+rWANfP1wLZRNo+3ADepuHO5WDpde2h8UD2mPtXAFYEmAjnC/AOKRHZEo8T3xOgFMQU7RQHFd4USBVuFaQTBhJcD7QMeAmaBakCm/4z+/33pvQE8wfymvB87/Dtbu2c7UjtJ+2i7PrsC+5671Tx3PIY9Ub3RfoR/X7/OwLQA5MFjAY6CPYI1Qi+CHwH/waaBtEFagQyAjQAVP5G/Pf5Nvfh81Lx7O+v7r3u8O/98jz4Hv+CBrEOQxbYHEQiUyaOKdgrRi0FLYwsNiuEKWwnRiSNIKMcZhh+E7ANLgeRAIX5PPKy6kfkfd8Q28nXKtZ/1TnWpdep2CXa8dt63svgfOIy5avotexy8EL0QvjV/LwBSAZvCq4NHhGTE4YVMheUF6AXzRbyFYYVJhXkFO4TbhJVEQ4QnA75C8kHwQO2//f7PfiJ9KzxKe/07FfrV+pa6sLqbOs37IntWu/w8CvyAfNf9PD1SvjL+hf9q//nAtMFDwj3CX0LZQxnDDUMdQqbCNsGigSmAcL+4/un+c73l/XJ81jymvGQ8FLvfe4d7jDvefHA9OD5zv8TB+oOihbgHVok9SkAL+YynzRVNOIyFTB0LJkooiPXHiEaShWPELYL7QaaAUb7Y/WL78zpkuQY3/LZKNaf0zHS5dFU0gzUoNYg2gjeI+Lw5VTpGu2K8Az0dPdJ+o/9FgG0BIYIOQz3D2oTbxbJGF0aPhu8G3gbOhpRGLsVKhNlEFUNewqFB1oEXgHC/lP83Pka90f0hvEB7zXt2eve6vPpwelh6nTrdu1d71jxSfOy9Zj4avvv/aD/GgHjAosEogVuBtMGjwcLCBgI+QeEB8kGxQVWBLUCrwCC/kj88vn299H15PNY8i3xg/BU8BLxFvPU9Rf6Rv8RBZUL5hEzGHAePCRJKUctpy+0MPMw5y9WLd4pmCUdIXIcoheXEk8NZwjIA+3+hPk79ILv0+pn5kfipN6d29bYQNd11lrWGNeD2OLa8t2v4ZPlaek77dXwlfQt+ED77v15AEoD7AVpCMQK7QzzDu4QzRKAFPgVzhZPF3wXQRcxFnoUDhJDD5QMfAktBsEClP+0/DD6t/dc9WfzpPEm8JvuV+2M7OTrJuvD6vfqiuvC7NjtLe8t8V3z3/VM+Lz6Nf3Q/3ICmgShBlsI2QlRCxcMPAwgDKELuQo5CWUHhAVaAzkBAf/4/BP7X/mr9xD24vR89PD02/X89xX7mv/jBI0KihBpFiQceiF6Jm8q7CzvLbotEiyHKfwlSyE9HAsX2hF3DGwHwAI0/v35B/aT8qPvyOzJ6bXm2eP+4GveOtw/2tbYVdjN2PrZ7Nu33j/iL+aL6u3uVPOB9/76dP5KAYsDnAVSB/MIdgoTDJgNGQ/wEKcSghQrFmcXjhgVGeYYCBiVFkAUFBFTDUAJ+ARvAOD7Vvdw8xTwHu3u6jXp6OdK5yHnPue+54HooukZ683sq+6l8M7yDvW793D6Hv33/+ICwgVrCBsLOw0DD3wQQRGPEU4RHBAXDsMLKAlPBigD5//z/Kj6yvg69132SPbn9gL4mPke/JT/QAMTBxcLOQ94E10XsxqeHRYg+CEjI1MjfSLRIKEeyBsrGDAU7Q+4C2YH6QK4/oD6rvZA89Pv8ux06nboueYt5R7kTeOb4h3iAeI74tPiieOZ5CvmE+hO6vjs0u/V8lH27fmd/QQBNgQdB8MJRgwfDq0P0xCNERsSgBLBEqQS+hFSEZUQgw8tDmUMVAoCCIMFwALG/4n8Lfnq9dfyEfCj7b3rW+qr6XvpzenZ6kXs6e3z7zDymvQT90r5nfvP/fL/+gGtA3EFAQdUCJwJoQqgC4YMJg2LDa0NfQ0PDXIMbgscCm8Iswa2BG8CGQCo/Yb7jvkD+Aj3wvZf99P4M/tS/hECIQZKCnYOehIhFmkZ1RtPHQMe6B3SHOYaghiLFUwS4A5QC50HGgTQAM393Prz95T1d/OT8bzvEO6p7E/r++nC6LTn0OYi5srlzeUU5gXnSugO6i/sq+7T8SP1ofgL/Gr/sAKLBewHwgkUC9YLQwx7DDcM5gunC1MLKAvRCqUKiAo9CuYJYgnDCJUHJAZ9BHsCRQDR/Tb7evj49bTzt/Hp713uf+067Y3tEO7/7oTwYfKV9LL2xfj5+kj9Pv/cAIYCKgSkBfEGEQglCVgKTQsYDKYMEQ16DYMNMw2ADJILewonCVcHKwUHAwoB9P6X/HH6yfif9/T20fZR96L4n/oT/QoAVwP7BtwKbQ7DEdkUXBcvGSgaTRq8GY0YpxYQFO4Qaw29CQkGXQLg/rr75PiU9rf0T/NK8oLxAvF48Nzvf+8d75/uH+5v7e/sqeyl7Jnst+xm7Vjure9G8SrzRfWR9wf6h/we/5kB5QMFBvIHjgnSCr8LPwxDDO0LYwu8CtIJkwhDByoGLAUVBBgDDQIsAW0Adf99/oH9i/x9+yz65fit94n2hPWU9PPzmvOc8/zzj/SZ9R73xPiQ+nj8pP7tAPMCygRkBu8HOgkcCqsK8goEC7IKIApfCXQIawc8BuUElgNYAioBCwDd/s797/w+/KP7Afuq+tT6Kfvu+xH9d/5RAHQC+wSnB2wKQg38D4sSoRQ6FmgX5xeyF84WPxVFE7kQzA1yCvUGqANFABv9NPql94D1wfNa8lzxz/B68EfwV/Cs8PrwVfGm8e7xOvJE8lPyYfJi8nLyj/Ln8nDzQfRd9az2XvhP+mj8l/7dACQDGwXjBloIWQkWClcKIAqqCdMI7AfOBnEFLATtAtYBwgDI/wH/TP63/TP9vfxD/M37XfsF+7v6c/oe+sf5s/mg+Y75uPkD+n76GfvP+8D81/0G/zsAiAHsAkYEpwXrBvEHxAhvCdkJ7wmoCQcJKwgdB9oFVwTLAjoBnP8W/qf8b/uK+un5kPmQ+fr54voc/Lb9rf/fAWsEBweDCfALNw5cECISTBMTFGwUTRSRE0gStRDODpoMIgqUB/kEcAL9/7H9nfvL+Ur48/bS9e/0a/QU9NTzpvOV873z4/Py89jz0/Pt8+jzyfO387rz8PNG9Jn0FPXX9eT2//c2+Yj68ft4/eP+MABrAX8CfQNNBNMETQWyBQUGGgbfBaoFdgUbBasEFQRrA90CKAJoAbAA4f8m/3H+0v1C/bL8QvzW+4X7Uvsd+xn7IPsr+2L7u/s0/Lj8Qf3v/bv+mv9/AFEBPQI9Ax4E4wSWBTMGtAYHBxoHCwfVBncG0gXtBPkD6ALiAb8AjP+R/tP9Tf3r/OL8Mv3+/TT/jQAoAgMEDAYQCP0JzgthDbUOsg8qEE0QGRBsD2EO2wwkC1IJUwcoBdMCrwC5/vT8Xfvu+b/49Pdy9xb3+vYN90b3i/e+9/P3S/h3+G/4Qvj897/3c/cV94r2Jfbn9c71y/XB9QD2a/YR99T3oPii+dP6DPxO/Yf+0P8oAVUCUgMfBNoEZgW9BcIFlwVdBfkEcgStA+MCIgJlAZoAy/8W/5L+LP6z/U79Ev0F/fn83vzV/OH8B/0q/UP9af2n/fj9O/53/tH+UP/n/3AABwG5AW4CJAPXA34EGgWtBQoGSgZyBmYGMwbIBTcFeQSeA9MC9QEXAUAAif8d/8f+sP7P/jb/AADmABACagPiBG8G4QdMCZkKsAuHDAANKw0DDYkMtwuGChIJXwemBdcD7AEYAHP+Bv20+5v6wPkn+cz4kPhw+HL4h/iq+Nb45/jx+PL48fjZ+K74c/go+Pb3s/du9zr3IPcR9w33Lfdp99T3XPgA+cj5t/rK++v8B/43/2EAgwGMAmIDNgTVBEIFewWCBWIFEwWdBPIDNQNYAnMBhACK/57+zP0a/XX88/uY+3P7d/ub+9L7OPzK/Fb99f2T/jT/3P9rAO0AWwG+ASQCYAKcAsoC4gIUAzADUQNcA3MDlQOnA7oDtwO4A7EDpQOCA2cDQgMCA8gCjQJRAg8C3gHAAcgB4AEYAn8CDQO7A20EQwUfBv4G2weZCD4JwwkaCj8KIQrECTMJbAiJB3QGOAXxA5ACLgHi/4/+Tv02/Cj7Qfp/+eP4bPgG+MX3mfeG95H3m/es97r3wPfZ9+T36Pfc98n30PfJ98P3uPe/9+33Hvhg+MP4T/n2+bf6nPuZ/Kn9yP7f//IACQIMA98DigQgBYMFrQWtBXgFGwWOBNUDAQMNAh4BJAAj/zz+Zv2k/Af8mftK+y/7Oftw+9D7Tfz4/K39dP47/wAAwgB2AR0CnAILA2kDugP3AxYEIAQuBDsEKgQmBCAEEwQOBAAE8gPeA9IDvQOPA2sDQQMQA9wCpQJpAi8CCQLiAdUB2AHlAQ8CRAKkAgYDbQPfA1cE4QRUBbsFHQZqBpsGpwajBoEGQgbsBWUF0gQsBGADigKUAZUAmf+Z/pj9k/yp+9H6Evpl+dD4Xfj898v3nveJ95f3ofe599L3Bvg5+F74g/ij+M/4BvlB+Xf5vPkO+nP66fpy+wP8ofxe/Sj+9/66/4kAXAEjAswCVQPXAy0EZARhBDAE6ANyA9kCDgIyAVgAbP+H/p/9wfwP/G377/qf+n36kfrL+jn7zfuD/F39SP40/yoALQE0Ah0D7QOoBD0FzgUyBnYGmAaTBn8GWAYgBroFUgXhBHIE/AN1AwQDkgI5AtwBhgFOAR0B8wDKALAAowCaAJUAoQCzANAA+gAzAXoBywE2AqQCIgOvAz0E0wRhBesFXAbABhkHPwdPBzsHAAe2Bj8GngXYBPsDDQMIAvMAyv+V/mP9PPwc+wX6APkA+Cj3fPbt9YL1LfX49OD0/vQ49Xz12/VE9tb2dPcO+LT4X/kb+tr6kftI/AX9wv14/ib/3P+CABMBmQEOAnUCyAILAywDMgMoAwQDyQJ1AggCfwHmAEkAof/o/jr+k/33/Hj8GfzJ+5P7mvvC+xD8hvwX/df9uP6b/5AAiAGBAnwDUwQkBc4FVwbPBhkHPAc2BxcH1AZ2BvYFZQXMBCQEdgPAAhkCdgHhAFIAzf9v/x//6v68/pb+k/6g/r7+5v4e/27/zP9JANAAZgEUAskCjANXBDYFFwbtBsAHgwgzCcwJOApzCocKdAonCqUJ6gjxB9cGhwUSBH0CwgAA/zz9h/vb+Ub41PaG9Wz0hPPQ8lXyF/IN8jTyjfIS87vzhfRj9U72SfdK+EP5LvoU++/7tvxp/Qn+mf4d/5L/8f9LAKcA8wA2AXcBuAH5ATACYAKBApoCpQKeApECZwIoAtgBcAEFAZAABgB7/+7+Y/7v/Yj9Ov3z/Mn80Pzz/Dr9mP0Z/rz+dv9CABIB8AHMApEDTATyBHYF3QUgBjcGJwbvBZUFIgWFBNEDEgNUApgB3gA2AKD/I//H/ob+Yv5f/nP+of7j/jr/oP8HAH4A6wBXAcwBQQLCAkADwgNKBOQEggUUBrEGUwf1B5MIJAmqCREKXAqECoEKWgr9CWsJrAi8B5UGQgXFAyMCcgC1/u/8Ifto+dD3VPYM9enz9/JI8tHxlPGP8b/xH/Kq8lPzD/Tf9L31pPaD91r4Kvnx+ar6TPvi+2j84vxe/cz9Lv6Z/hT/lP8NAIwAGQGxAU8C6AJ2A/oDawTDBAIFJwUhBeoElAQXBHgDugLZAecA9/8K/yP+UP2i/B/8zPut+7779vtm/Aj90v29/rj/xADPAc8CswN2BB0FjwXIBdMFswVvBQUFbAS4AwEDRgKSAewAUgDW/37/Tf80/y//Rv98/8f/IACBAN8ASQGqAfgBOgJxAq0C3QIGAzkDdwPKAysEmgQbBbEFaAY1BwcI4wi9CYkKPQvHCxwMNwwYDLULBgsICsMIOwdrBWwDRwEH/8P8e/pE+DP2WPTB8mLxUPCN7xvvA+8z76jvWPA38TvyWvN69JX1q/al94v4UPn5+Yn68/pP+5/77/tH/J78B/2S/UH+EP/v/+YA9AECAxIEEgX9BcQGVwe4B9EHrgdQB68GzgWxBHcDKQLTAHz/LP4C/Qv8TPvN+pD6nPrw+nv7QPwv/Tn+Uv9zAIoBhAJZA/0DagSZBJAETgTcA0QDjgLKAQ0BaADc/2T/Ff/5/g//V//F/1QA/wC2AXACGAOiAwgERwRcBEYECQSdAxsDhALjAVABzgB5AF0AgQDzALcBvQL1A18F9AaoCF8KAgyDDc8O0A9zEK4QbRCzD4wOBA0gC+MIWwavA+8AKP5x++P4l/aS9NryhfGS8P7vtu+r7+vvZvAC8bLxb/Iy8+nzifQL9W31uPX39Sv2XPaP9s32Kfeq91D4Hvke+j77g/zq/WT/7QB0AugDMgVfBl4HIgiqCOMI3AiSCP8HOgdKBjoFFATrAsUBpwCo/87+Hv6W/TP9Af3t/AT9M/1s/b39EP5i/qf+8P47/3X/q//M/93/5//q//T/AgAZADgAZACcANkAIAF4Ac4BLAKGAuMCPwONA8oD6APvA9QDqgNsAx4DygJuAhACrgFaAQ0B0AC3ALoA3gAYAXEB7gGQAlMDMQQ2BVwGiAewCN8J/goLDPkMuw1LDp4OrA5oDtYN9Qy+C0kKoQi2BpgEYQIhAOb9qfuC+X73rPUL9J/yevGW8Pbvg+9A7yrvSO+a7wLwdfD48ITxF/Kq8j7z5fOa9F/1L/YL9wn4Jflc+qD7+vxg/sD/IwGEAt0DIAU+BiQH2wdfCLEIygiiCEkIuQf+BisGPgU8BC8DIgIUAQ8AGv85/n396fx0/B/86vvY++v7GPxn/NH8TP3M/UT+v/49/7X/HwB9AN8ASAGyASACkwIRA5ADCAR1BNQEIwVZBXQFZwUuBc0EPwSGA6cCsQG+AN7/Ef9c/sr9X/0f/Qr9IP1k/dL9ZP4Y/+P/sQCTAYoCkQOpBM4FAQdNCJ8J6QouDGcNjw6SD2EQ8RA7ETQRzhAREPIOcw2qC50JUwfWBDwCnP8H/YD6FfjV9dDzBvKA8DzvQe6H7fjskuxa7EnsXuyZ7PLsZ+347bLul++s8PDxYvP+9LD2c/hT+kP8Pf4lAPABmgMRBVIGVwczCOEIVQmICYQJXAkVCbUISAjJBzQHlgbkBSgFaASdA74CwwGxAJD/c/5l/Wj8h/vE+h36n/lT+Ub5f/nw+Zv6dPtt/Hb9g/6P/4wAbwEqAsMCRgO4AxQEZASkBNcE8gTyBNoEuASLBEsE4gNYA7MC8wElAU0Akf/m/k3+vP1L/ff81/zh/Cj9p/1h/if/4v+QACcBsgEdAo4CDAPDA7ME8AVqBx8J3gqsDGUOHxDVEWITfBT7FNYUCxS7Et4Qkw7wCzQJUAZPA1cAmv0x+xb5IPda9bHzRfLx8K7vfu5T7Rrstupd6U7owueu5/rnpOi86S3r+ewV76PxYvQ099H5KPxd/lIAFQJyA54EeAUrBsEGbwdQCFcJaQpXCxAMkwzfDOsMvAw4DF0L+AlDCDYGJgQpAjUAe/75/L77sfrr+Wr5Kvn++Lv4c/hR+GL4mPjr+Fb56fmo+nP7V/x8/c3+RwC0ARIDZwSxBaoGGAcjB+wGqAYkBoAFzQQ3BJ4D2QILAk8BsQAZAGn/yf5B/sD9P/2q/F/8MPwh/P77IPyA/C799v2e/lz/XAB0Ab8CZgSpBksJ/QuCDq4QCRPrFIkWuxfzGIsZMxmwF8AVvhOREdgO6AsvCXgGdgMfAC/9kfo0+DX1EPIS75XsNera5/vlyuT74w7jO+JI4n/jYOUC53boMupr7KvutvDw8rT1pvgb+xD9W/83AiAFcwcxCQELvQw0DhsP7w/UEGgRFREvECIPMQ4tDfkLcQr1CE4HWAVIA2EB7/9k/qT8ifqu+Cn3APbm9PjzXPMx8x/zT/MA9C71svYC+C75YPro+3n9Jf/6APwC3ARTBmoHZQhOCfcJJwoeCu8JeQmYCHcHSQYWBboDCwItAHn+Qv0c/CL7Jvp2+SD59PiS+L74PPno+Xj67fqB+9P8Xv73/zwDhQcJDGYQOhQnF0IaARwdHE0cXR1pHe4cOhtbGcYYqBfVFIARGg+HCxQHcgEH/AD4hPT575nrdujU5kXlDuMG4YzgjuDN3rfcf9vz3JjfleE140zmz+rq7t3xk/Tm9y38B/88AJ0B+ARNCUUMPg4vELUSkBSyFfIU3hTrFTIVCRIPEHUOXg0YDS0LQAhwBrEE+AAx/jj7xPjb9sr0NfIx8czx7fHC8U/x9vC08Lvw6PC18V/zyPUR+Fz6B/0ZAJkCmARRBrMHFwmqCVUKRwsQDF0Mngw9DM8KbQlwBzMFXgNoAQz/Ef1u+yb6Gvk4+CH34/Zt9s/1bPUK9SH2VPeK+Pj5a/zR/akCHwpQD/UTfRj2GGoZEBx8G6Yc6iFxJV4lZyWVIUYfLh8dG6sTfg8WDLsG2ALx/rz7lvkL9ZrsyeX/4b7gbt5e23zZR9oq2t/YNdjp2CXdyN/63pLf7eMt6e/uM/Mc9eb5TgDbAXcC/Qa3C5AQGxSqE4oTUhjDGr8ZKhkzGL8W/xV+E58PRA/FD3sNLgg8A1n/Z/0u+wr5cfZB9a3zVfCZ7GXrpevf69zrIeu86xfuo/Ci8drzSfZg+V/7y/0ZAAcEcwdBCqcLyAy7DWgOjw6hDrcOAw4VDZULSQoFCPwFnwKFABf+pvwj+kr4g/bx9Qf0MPOo8q/ztvT59GT1QPdL+eD74AajDWIScRRSFJURMhdKHLMg9SgcLrcqsCPhHPUX3B4kI1kgnhiPEo0IsAIrAeIA/wDx/NfxiOV44F/iLOax5SXivt3D2X/Te9ID1T3dCuRW48jdp9xS4bLmg+0+8ar0+Pqt/oX8gv/zBTwM7Q+pEAAQOhW1GhkaCBhfFvEXzhn3Fz8TExJdER4OvQeoA/YCwATAAdX65PMp8anxuPAb797t9+3K69voROeP6mXv5PIS8f3vhvFG9jn6CP51AfADEQYWBkcHqQl2DnUP9g7MDVgOlA6RDpIM8gqXCYQH8wOkAQIBo//F/FX40vbv9f/2yvRA9DzzavSO88LzIfTu+6AKQQ+9C6wHVgl8Dloarx7IIfEmbineIA0Y6xVbHUQqGyqSHMoORAs9CHcHLwdeCE0FxP1E8L/nI+mu7xDvnuYn4Z7hhOPJ3vra3tpa4z3op+Q33rHfKeU/6u7qGOzE8Wr5SPkP823zjfwxCXsLxAiSCMMNWg8+ENgOsRELGogdPBW/DqUPWhK9EmENQQkTCW8KRwQC/BD4ePoI+8X3a/JO7xTvhe+m6/Tpoe6J8onwCOzq7KHxAfiw+W75KPs7/wMCHgLUAisIVw00DZIKsQn1CwIODQ4wCqIKDQyhCjYGJgOiAlADIQJS/YD6y/qm+zL4afal9pX5h/m8+Cv3AwOtDTUK6ANrBIMMXxdTHZkXsRjmH9ch+RhVFYkXsCIXJvoaAAzSClsPJAz5B2gEsQRbAMr3ee4I78rz0/NE6s7jv+b262nmHN2D3Ljl4e8i697f7dtT5T7uq+5J7Hru0vNl9vfx/u4o+QMEFgSYAC0CbQQ4C7kLiAboCZgURhc4EHEMXwtNEPkT/BBOC9IMQgz/BjACDwI7A4IC4P2X9ubzpPVK9r7wLe8e8UbyU/AL7o3tivDy9KL2M/UU9/v5Nvuw/NT/NASgBm0GpQShBigK5gvpCnUJrwmlCpEJIgYpBfEFawZnAyf/TP1N/lf+D/1y+6f64fuc+pH6wfouBfUM4weRAhQG7AxkFOkWURNUF5EexR0eFEwSdxcNIeYhZha4CrMM7RD+C0wG3wRfBl8BnviN8przDvY19DXr4ueQ7Ezv3OWF3eXixeym8I3o692G30bs5/C87JHque4J9D72mvBz8QD5Gv7RANz/gf92BLAGvgKOBccM2BAID3ULGwkUDdQQ5g+ACl0Ldg4RDI0H7QLQAt8FYAbE/4z5XPhX+Uf3EfYz9Dv0mvM78hjw0O5X8q/1Afba9Lj1gPY++DP7af5qAEMD/gOaA7gEfQe9CB4KhwuUCk8L3wkFCIcH1QhTCDEILQbfAuAAFQGNANgAogDB/Uz9uP8xCHIIowM8ApwHZwyQEIAPpQ4JFRIZuBNgDQcRvBdQHRUYCA2lB+gNIg7lCMYFowUiBDP+OPio9Vv3lPeF85bu2O8n8Wrs++TD5iXuEfIE7orl/+Mg7FzxLO3M6TXu7/Sv9gDz7O7/8Yb6Cv5u+pz5Jf1+ABwC6wDkADQFNQjdBk4G7AfBCe8K7QmhCG0K8gvwCWIGhAWFB5wHMQUNArz/tv9+/7n8vPny+Of5dPkC90r0rfSZ90D4w/Wy9fz2uvd2+Vv7GPz1/UwAZgBnADMBEgQoBgsH0gYGCOkIvQhwB9YGFgcFCHgIBwakBCwEEARDA9cDogJ8BUcM4QleAg8EKArxDMMPBw64DI8SUxVsDfAIygxDE78WlhDhBcADrwo9Cm0D4P+3AeoBhf02+Dj2bfYP9571uPLN8qnyg++c6grtH/Me9S7wu+uF7ajxa/Ne8EfvivQk+pn3LPJq8Yv3uv0M/pn5K/gO/tYB5P/5/X8B7ASqBqoEagFIAygHxAgkBwUGbgdoB70E0QOiBNcG0AWmAgEAZgCJAbn/lPy4+979Qf5S+5H3GfeD+Xv7Ivki9v71/fg3+sv4ivfN+VT9Tv1N/B78Wf5oAe0BEwDUAB0E0gU6BMUDagScBkYIJQYnBaQGxAidB2sK0w9QDqcK6Qz9D6YR0BMBElkSCBe0F/oQ/AxdDyEUwRQTDl4G6wS0CNsGVADf/ar/B/49+A/11fMd9GD0JfKj74Pw3fFd7fzp8e238n/yQu857Jju3PID9T7zyvHU9k77PfiY9aT31PoPAG4BBP2O+2oAmgJKAZMAjgIaBCMFRAQvAYABGQUJBjoChQGOAp0BPgE0AXEAMgGhATz/5fyW/XD/Av8S/rD9Zf0u/dn8n/tK+939AP8D/cb7+Pt2/NL9WP0E/Mr9hv+w/g7+ff3g/YT/pf80/7r/qABHAawA/f8pAYUDqwPcA0ICdwSFDdgNegeyCT8PshDqE0UStBD2Fv0awxQjEDgSXhXzF6wUuwssCBMNxQs+BK4AnQEXApX9LPfO9Df1QvUJ85bvOe558aTvV+ml6QPuru/K7+Ls5+me7uTy2fDa7/jz+vYY+Oj28vXV+Cf+zgCc/tr9xgH2BCoEMAOlBFUINwuKCJsEyAUfCVALvwj2A6oDfQY8BroCjP9O/5AAwf+4+0v5TvoU+wv68veb94v4K/mX94L2Bvhe+6z81/kl+ej7Kf/h/uv8/P3pAYQDIgL9/8b/ywRGBkUEHgHcAdcEDwUwAmUB7QKoBF8Frv9yAzYMRgqSBLAHeAp2Dn8RdQwtDDAVABgSEKEM1Q4UFRMYghFuCDsJkw5eDXoF7ADfA8cEu/6Q+RX4bvij+SD2jO8Z8Jr0G/Fe6xTslO6M8LjwFOtM6dPv+PKu7gHvOfLQ88n1WfXm8j73f/6R/Rn6xvuCALUCRANlAuYCFAf7CbMGjgS6B5MKqgogCUsHmwe3CTMJlwWqA20F/gVfA8P/lf5A/17/mv2s+v34Z/rF+mD3qfUr+Fz5Sfeg9oH29vd8+gj6/feX+QT98/3//Bf9M/+fAa0BTAGBAdkCAAbnBaoD0QQPCD0F7wfQDnULHgn1DT8NfQ0fE2gR3w8/FXAVmg/xDm8QmxIuE8YPtQkDCDAKFQiDA3sA8gHgAOD64Pek9yL39fb486LwHPIe8yHv+uy27rbwCPJI8O/sFu4F9K30cfB68uj14/a2+GT3u/Ul+zsB3Pzg+V/+gwAvAYACHwGJAPwEagbHAiMBNQO7BlgHPgSQA6MDEAQDBUEDOwG+AzQFDACG/S8ATgH+/3T+G/3f/Ln+BP6K+Xr6m/3U/ir9APrv+XH9MP9P/TP88vz3/7AAI/4E/TwAvgFGAbH/uf+GAFwCpwI3Ab4BZAHCBpkKfAZkBYgLaw3DDTAPXg4sEQIXkRTmDlcPRhNMFp4Tog3LCSgMPg2eCKMCGwFLBOcBifkm93D4WPgU9hby0e888vLy1e396+bunfFy8cXttOvC79v0UfPX70vyYPXU+Ob4VvVS95z+cgBh/FH80P9SA7sDAgGcABwECAe1BQEBrAFbBocH4QONANkBdgTjBFQBBv5s/6sCLwGP+wX7hv5L/+r9pPsZ+/n7Zv7N/ST80P0SADUA5/2t/X4A7AKUAZYAAQGHAtwC9QEwABABKwT/A4oA7P52AOQC+gOY/5YBXwjwBuoDbwZgCNoLzg/xDB4MBxJeE6IOWw0wEOwS4RLJDQQHLwiFDJAJrQL+/3sCLQF7+3D3Q/eR+ZD47/OH8J7xB/NT8kTwue4M8kD0L/Go7lbxFvX69ev0kvTq9uz4uvgD+Bb5Zf2lAIH8s/rW/qgBhwGAAEMAtAFWBAoDEwChACQExQUrA4AAsgDHAvICcgFcAPv/dAEpAeX9qfwz/0cAr/5D/Vz8ffz5/fH+uv0M/TD+Q/8r/9v+LP85AHkBfAL7AdsARwFJAicDDgPKA+AC6AHJAr8DGQOfAnQFHgjVB2EGagefCQ0MkQ0yDhIOiRAsEfYOkQ0IDy0R6g9fDVQJTQhyCFgGyAJVAf8BWP91+q73/fen+AX2B/OR8p7yVPK18OHu4u/48lnzcvDd733zyfbk9aL0hfZe+Qr8jfqt+Az8SQDAANL9t/xb/y0C9AGB/63+MwC4AXEAM/3N/TcAYQAg/l38m/ze/Y/+P/1R/En9JP58/b78Jv39/fP+tf+x/gP/sf/x/ywBTgLHAkkCBAL7AscELgUCBH4EbAXvBN4FpgRuAy4FQQYABMcCPAMYBIIF7AKFA/0FTwaOB5AHawb5CbkMuQt5DPINFw7vDm8OsgwADn4OTA0FCqcHcwcXBugDPgJzAGP9/Pqh+TP3Yvbe9ajzLfG78ETx0u9v75LvPPBW8QvxhfFR8hz0tfaF92v3Qvk0/M/89P2R/hb/3wF4AnABwQEqAqAC7QLHAakAuwBXAHT/zv75/bz9Dv1S/L77wvo9+z77w/rv+mX6Jvou+lD7UPw6/Ef8sfza/PX9g/9m/wUAkQEmAhUCPAIUAyIEvQQABXIEWwT8BJgFywSdBHMFTgbfBRgGJAXHBfQJ+QizB9cK9QvnChoOFw4zDaMQSRHmDucOEg/LDoMOQQy2CnUJxwcuBd8CrwC7/xX+IfoJ+NL2jPU89F/yFfFW8F3wSO+97lDvK/DZ8NrwTfIE86r0Lfde9wj5KPyw/Dj92P8dAY0BcwPfA10DPATmBI4EhwNWBP4DqAGfAdsAcP/6/t/+JP3U+xb8rfoR+vf5e/me+cz5a/m++J35efo++//75fvt/Lf9AP/8/+L/cAGhAm0ChAPqA3MDPwQkBRkEFAShBOADzwNsA80DhQPYA9YDzAOCBbAFRwVhB3kIjgjdCvQLdQsPDb8OCw5WDuQOWQ+SDnQNWQzRCikKzAiKBvwDhAK7AJT9TvvD+ij4YPUc9Q/zw/AA8fHvqu6O723viu+s7wnwa/Ku85rzAvYO+JD4BftA/D792f8gAR4BGwJ0AykEcwTrA/QDYQQtBK4DKwJ5AbAB7gCz/5P+IP7D/WP9SfzJ++f73PsF/K/72fvR/FL9i/0z/gH/LgDsADsB3AEVA2QDUAMBBC4EmwR5BLMDHAOdA8oDSAICAroBjAHDATcBmgBzAeUCYAKRAoEDkwRCBiEHLAdjCDEKwQreCoYLJgyuDAMNmwuxCrYKlQqSCL4GxgWnA+IBLAA6/tD7ffqy+Mn1c/Qu9HHybPDG8IvwYe8E8D3wU/Bf8ovzmvPs9OT2mvgj+hj7gPww/mL/ZQDBAEABugIsA4gCVgJQApICFgJHAcgAegAEAIb/tv6x/S7+N/6s/VL9R/2u/Rz+Xv6K/jL/nP91AFABjQE+AikDlQMUBJUE8gQFBYMFHgZaBSMFpQUeBbgEZwWABKIDYATYA0cDXwNKA68D5QOiA8sDugMLBG0FQgWNBLAFWQbIBfwFFwbSBRoGGgYiBSoEPwQRBLIClQEsAT4A1v4i/gn9m/ts+036s/gy+OT3DPfD9m32fvUs9hf2uPVt9sL2FvfS9y34bviv+T76lfpR+9b7iPwE/SX9t/0k/m/+uf5w/n3+1f7o/qX+nP6L/n3+gv4+/jP+Vf6i/qT+gf7v/j7/bv8NAHwAwQBKASICjAL+ArQDVQQFBWQF5wUjBmQG8QYuBxAHCwc7BxgH0wanBgcGwgXHBVQF4wRDBAIEDATeAx4DOQNNA9ACVAMKA6cCIQNaA/AC3QIOAyMDTgO/AlkCJgLoAeEBLwFnADYAov+Z/g7+Vf2k/F78lvtY+sn5qvkC+Xj4VfgS+J73u/eh91r33PdK+Fj4ivjw+G75uvkm+o76F/uI++r7Nfx2/Cb9aP2Z/bn9IP6K/r3+yv7i/lD/d/+e/8L/7P9FAJoAfwCTADQBiAGJAcoBEQJSAtEC8AL4Al8D9wP2AwEEYwSVBNsEHQUoBRoFlAW0BZcFngXZBecFzAXXBc0FqQW7BdUFfgU6BVUFWgXuBMUEpgSDBCUE2gOBAxgD4gK4Ag0CQAEhAcgAHACF/x3/ev4Z/qz95/w8/B/81PsO+6b6XfoE+rL5nflT+RX5OfkM+cv44Pgk+VH5Qflk+bL55PkR+lL6ZPq++lH7avt/+7P7BPxl/LD88PwV/W/9v/3d/TP+m/7e/ir/gf/A/zUAkQC9AB0BngHvAS4CkgLeAkEDmAO5A+8DQASeBMYE1wT5BDIFVgV+BZIFigWzBc0F1gXSBeUF2AXnBf0F2wWyBbMFjgVhBTUFBQXjBJMETwTtA4cDUAMOA34CGQKmAUYB1wBZAOP/dv/w/o/+Ff5y/Un93vxS/An80PtX+zP7Cvuf+pX6iPo5+i76NPoR+h76NPof+gr6PPpS+l76cvqW+sH62/oX+yT7Uvum++L7B/w7/Ir80fwu/Wj9p/0G/mj+yf4Q/1r/xf8YAHcAxwAMAWAByQEFAjsCngLTAgUDSgOIA7YD/QMkBD0EbQSvBMIEygQABRYFJAUzBVEFSAVUBXIFVwVLBVwFWQUxBTAFDAXoBNYEnwRxBEMEFwTBA18DNAPnAoICRwLRAUIBAgGhABoAyP9J/7n+S/7t/XD9Af2W/B/8yPtr+yP70PqJ+mX6OvoD+tX51/np+f35+Pn9+Qz6PfqI+qD6zvoQ+0P7ivu7+9b7N/yW/Mv86vwg/Vf9nP35/TD+Y/6u/vH+If9j/7T//v8/AJQA1gAFAU0BqgHbARcCawKaArsCAgNKA10DgwO1A8YD8wMgBBsEGQQmBEMEQgRABDkELQQ1BCgEDAT0A+cD6APiA7YDhQN6A10DRQMoA+QCxQKnAmsCHwL4AccBiwFAAfMAuwB6ADgA5v+K/1T/LP/K/m7+Of76/cL9g/00/fX83vy6/Gv8R/w9/CT8Bfz3++z78vsG/PX78/sQ/Db8SfxZ/Hz8kfyu/NP84fz//ED9Yf1n/Yv9pP3N/Qj+KP49/m/+qv7Q/v3+Mf9u/6b/6v8XAEsAkgDTABQBUQGQAccB/wEyAlwCjgLHAvECDAMnA0YDTwNjA2oDdAN+A4EDewNjA1wDTgM6AysDFwPtAtkCzgKdAmoCWQI3AhYC7gG9AYwBcQFRAQ8B3gC8AJoAbgA2AP3/1f/A/5b/XP8v/xT/+v7J/qP+gv5m/lH+Pf4V/vj97f3Z/cX9yv3K/bv9uP2w/bb9yP3b/dz96v0A/g/+H/41/kb+Wv5y/ov+lv6x/tL+6v73/gT/JP8z/1H/cf+B/4n/pv+z/8X/5P/x/wYAIwAuADoAUQBjAIMAlgCjALQAxADPAOgA9QD9AAsBFgEYASEBJQEgASIBHgEhASsBJQEQARsBEwEEAREBEgH/AAEBAwHzAPEA9gDtAN8A5gDcALoArgCtAJsAigB0AEkAPAAyAA8A7//d/9D/tv+a/3//cf9p/17/Q/8x/z3/Pv8r/x//JP8r/zT/OP8s/zD/Sf9L/0f/Vv9d/2X/dv9z/2//e/+B/4D/hv+J/4r/jP+O/5T/k/+c/6X/qf+r/6//s/+8/8j/y//X/97/5v/t//H//v8PABIAFwAqADQAQABPAE0ATgBoAHgAdgB7AIIAggCEAIQAiACKAI4AiQCHAIUAggCAAHUAdABvAGsAXwBVAE4ASwBAADMAOAA2ADEAJgAcABYAHAAYABAAEQASAA0A///4//n//f/9//j/8P/o/+j/5f/j/+T/6f/i/9P/0v/S/9T/1P/O/8f/yv/G/8D/w//E/8f/xv/C/73/vf/C/8f/xP/B/8L/xf/K/87/0//X/9j/4v/r/+///P8FAAUACAASABoAJAAkACAAIwAtADEAJwAmACwALwAsACUAHAAgACcAHgAUAA8AEwAUAA8ACAAJAA4ABwD///z/BAADAAEA+//2//7/BAABAPv//v8BAAoACAAEAAUADAAPAAsACgAOABMAEwARAAoACAAOAA0ABgAAAAEAAgD///n/9f/w/+z/7P/p/+r/5P/a/9b/2f/e/+H/2//b/9//3f/f/+D/4v/n/+v/5f/m/+//9//0//b//P/7//3/AgABAAUADgALAAoADAAOABIAFAAWABYAFAAVABYAGAAaABYAFAAXABUAGAAVABEAEwATABAAEQAQAAwACwAKAAwACwAOABAADQAMAA0ACwALAAoABgAKAAgABQABAP/////9//v/+v/2//D/7v/t/+//7//q/+j/6P/t/+z/6//w//P/8f/z//L/8//6//v/+//8//v/+/8AAP///P/8////AAABAAAA9//5/wAA/f/4//v//f8AAAAA+//4//z/AAD+//z/AAABAAMAAAD9/wAABwAHAAIA/v8AAAUABQAIAAoACwAKAAcABgAMABAADwAOABAAFAAVABYAEgAQABgAGwAWABUAFAATABUAEQANABAAEAAMAAcABgAHAAoADAAFAP3/AAAAAPz//v/8//n/+P/0//D/8//3//b/7f/s//H/8//z//D/7v/w//D/7v/v//H/9P/x/+r/7f/v//P/9f/y//H/8v/x//L/9f/5//z/9//1//b/+/8AAPz/+f///wMAAAD9//z/AQAEAAQAAgAAAAQABwAEAAIABQAFAAQAAQABAAIABQAGAP///v8CAAUABAADAAAAAAAFAAUABAAFAAgABwAHAAcABwALABEADwANABIAFAAVABYAFgAWABgAGAAWABQAFgAYABQAEQAMAAsACwAIAAQAAgADAAMA/f/2//f/+f/5//X/8P/x//T/9v/z/+//8f/1//b/9v/0//T/9//4//f/9v/2//X/9P/1//X/8//x/+//7v/y//P/8v/y//P/9P/2//n/+f/6//3/AQAEAAEAAAADAAgABwAEAAEAAwAFAAIAAAAEAAgAAAD8//z//v////r/9v/7/////P/2//T/+v////7/+P/5/wEABgAEAAQABgAHAAoABgAHAAwAEwARAA4AEgAXABkAFgAUABUAGgAaABwAGgAXABYAFAARAA0ADgALAAUAAAAAAP3/+//6//b/9f/1//H/7f/y//X/9//5//n/+f/8//3//P8AAAAAAgABAAEA/v/8/wEAAgD9//j/+P/2//X/8//0//H/8P/u/+j/6v/s/+//7//v/+//8f/1//z//f/9/wMABAAGAAgACwAMAA0ADgAQABAAEQAOAAgABwAEAAUAAwD+//r/+f/4//X/8//v/+v/7v/y//H/8v/y//L/9//4//X/+/8BAAMABQAHAAgADAASABMAFQAaABwAGAAUABcAHwAeABoAFwARABAAEQAPAAoACwALAAUAAAACAAMAAgAAAPr//P8AAAIA/f/5//v//f/+//3/+f/6/wAA/f/7//n//f////v/9//3//r//P/5//P/8//y//P/8v/w//D/8P/x//L/9P/1//b/9v/3//n//P/+/wAAAQAAAAIAAgABAAQACQAJAAwACwAJAAYABwAJAAYABwABAAAA/f/9//r/+f/5//n/+f/2//T/9P/6//j//f///wAAAAD+/wEABQAMAAsACwAJABEAEwATABIADQAQABAADgAGAAoADQAMAAQAAgAAAP///P/0//X//f/+//n/+P/z//j/+P/4//z//v8EAAMAAgACAAMAAwAJAAgAAwAFAAgABQABAAIAAAACAAMA///7//z/+P/0//X/8v/x//D/8P/x/+//7//0//P/8v/1//f/9//+/wAAAAACAAcABgAGAA0AEgAUAA8ADAALAAoACQAIAAYABAAAAP7//f/8//3//v/7//b/9f/0//f/+f/6//b/9v/9/wEABAAGAAkACAAMAAoAEQAUABUAFwAPAA8ADwAQAAwADAANAA8ACQAEAAIABwAIAAAA/f/7//n/8P/u/+//9//4//H/7f/u//T/9//2//T//P/8//v//P/4//r/+v////z//P8AAAMA/v/9//3//P8AAAAAAAAAAAEA/P/8//3//P8AAPj//f8CAAIAAgADAAEA/P8BAAAABwAKABMADwAMAAcAAwAJAAUADAAMABMADQAGAAIA///7//3/AQAAAAYABAD5/+z/6//q//X//P8CAAMA+f/w//D/8f/0/wQACQAKAAsADAD1/+z/9f8CAAYAGgAdAAwA9//t/+n/4f/8/xcAGgAGABQA///u//L//P/8/xQAIwASAAIA+f/1/+H/6//5/woAEAAIAAAACQAHAPv/BwAFAP//AgAXAAsA+P8VAA8A1P/O//3/zP/I/xoATAD7/wIALgDT/4X/5/8MANr/TwBzAA8Avf/+/5X/bv8PAIEAKAA2AIoA0P9q/8b/9v/K/18AnABEAAIACQCq/1//6f8yACwAVQCJAAUAt//P/8L/v/8MAFwAOAA7ACsA4v+j/83/5v/w/zEAVwArAAQADADe/93/5f8cAPD/HQBEAAYAAQAPAOb/r//x/+j//v8OADsAFgD3/+r/zv+z/9P/EQAGACIAHgAcANP/2f/Z/87//P8qAFIAOwAvAAYA3P/I/+r/BQAYADIANgAVAAEA6f/A/8v/4f8BABcAMQAXAAMA7v/L/9//8v8DAAkAFgAOAPL/7v/d/8z/3f/x/wYAFgAZABQAAwD4/+z/6v/3/wAACQAaACsADQD6/+3/1f/d/+v/CwAXACoAKgAUAA8ABwD3/+7/CwAhACMAJQAcAAMA9P/3//z/AAANABUACAAJABMADgD9//7/AQAIAA8ACAALAAQA9v/2//j/7//q/+z/9/8AAAkAAwAAAAAA+//4/+v//f8KAAgAAQAXAAAA5f/f/+D/3f/v/xMABwAOAAsA/P/V/9r/3//q////EQAgAA4ACgDw/9f/1v/v//r/GwAnABEAAgD7//T/4f/k//b/EwASABsAHwAKAP7/7v/r//n/EgAVABYAHgAcAPf/7P/r/+D/5//9/xIAGwAqABEABgDo/+P/3//3/xEALgBIADoAIwAEAO3/1f/l/+7/HAAhADsAIAAQAO3/3v/U/+j/FAAoAEAAMAAtANz/5//B/7v/xP8NAAsAGgATAPb/6v/F/+H/yP/x/wUANgAGAB8AGwDh/9T/5//h/+P/KAATAC0AEgANAOf/x//v//P/BAAkAFcAIQA4APf/8//P/9v/AwABACAAJgAfANP/BgC//8//tP/0/wIAEwAeADMAHADz/woAwv/b/+b/CwD3/ysALwAgAPf/4P/U/7z/0f8WADYALgBPACgA2v/Y/9v/0f/2/zgAUQA+AC8AJAD4/6r/zf/r/wYALQBjADgABwDp/73/e/+p/+//AQAlAFQAYgAWAPT/xf/I/9b/EwAzAD8ATQA9AO//y//W/+T/6v8LACgAVAA0ABgABwDR/6f/vP/W//D/LQAHACAAsP/q/+j/tP+x/x4AIAAgAFAAPQAlAL7/DQDE/9T/EwAtAMb/DgAfALz/v//j//L/x/8ZABcACAAmAH8AVwAxAGQANgDl//j/+f+w/+n/AADm/wgAzP+c/6X/u//U/x4AEwAnADgAHAARAPr/DwDr//n/9P80ACgAJQD4/93/1P+r/9H/0/8AABYATQASACYAJAAtACwALgBpAFoAOwAHADAAFQATAMn/kP+e/5L/l//J/xcAHwAkACoAHgD4////6v/N/z0AVABEADUA4P+2/6//b/+j/yUAMgBZAE0AQgAnAPb/s/+c/7v//P///x0AQgApANL/sf/L/8b/+v83AEMALAB6AEMA7//N/9f/0P/x/xoALAAXANL/xP+8/9P/6//o/6L/zP9aADoA7f8BACUARwBWAFMAIAA4AEwAGQDR/9T/FQDT/5H/pv/3/8P/v/+b/2r/CQBcAKIAZwBwAGQAGgCZ/xwAsv8+/3AABgGrAF3/+v+r/1f/5f+q/1r/vwCyAXcAPP8//yIAMP96//D/HAAsAXkB0QC9/+7/3P9C/zv/MAA5AO//AABv/17/C/9h/3//HQDlAA8B/wDoAJsA+v8dAPf/FACR/2r/ef+R/7X/WP9a/7z/cAASAN3/MACcAKYAdgBNAFAAdADu/2f/Rv/b/8P/S/+S/xIAVgBPACwA+v9KAHAA6P+Q/x0AXQD//9T/lv+3/6v/mf/V//v/EQA7ADoAtwAWAXgACgABADUA0P9Z/zX/tf8zAA0Alf9i/6H/7v/1/w0AuQDvAM8AvgBoAPf/DQDH/1j/j/+2/5f/pP/i//z/uv++/+3/4f///0wAiwCEAIMAcwAMAM//vv9I/1H/x//6/wQAKACFAJcAWQAEAJb/kf8JACsAIQBDAGcAXQDn/2T/Tf+a/+//RAB5AG0AigC7ACMAe/9b/3v/tv8FAFcAQgAhAPT/UP+P/sj+ZP/s/2AA3wBGARUB0QCWAG4APwBJACIAsP++/yIAkf/l/nj/j/9H/6r/7v/a/1sAqQDs/5z/JgBlADsAwgAQAYcARwArAF7/9P6e/6v/ef/g/8r/Pf/j/64AZQCWAAwBTQBs/33/Tf9y/0YAbgAbAJQA1wDg/yL/HP8f/0D/bP9C/8v/+gB0ASwBwQBIABgADQD1/yUAXwBBAAwAff+W/pH+8f5L/ykArABLAFoAjwDZ/3f///9WAH8A2AC1AI4A6QDRACMAn//f/z0AyP80/4r/kP8+/2D/CP/x/tb/XQDJ//D/egBhAC0AOABJAK8AXgFOAQQBvgBaAO7/i/8H/8X+3v4n/1X/R/9m/2b/nf8bABgABwClAP4AwwCfAKUA4QD4APIAeQCp/zH/wf44/j/++v7R/97/n/+7/1z/R//D/9n/HgBaATsCMQKcAWgBIQFzAGMAwf+3/gX/cv+0/kX+e/7J/hH/d//I//P/rgBjAQMBPABSAOoAGgEHAXEBbQHuAEEBOgAx/if+4P6X/mD/ZwD//93/IQB0/7H+T/8EACkAxABwAd0AhQCWACcAdf8m/2//t//1/+cAtAFqAREBAABe/kj+F/9t/+3/CQHvATcBhv8I/nH9MP5y/wYAqgB1AdcBpgFuAG3/d/9u/+T/zgCwAD4APwARADb/pv7d/l3/PQBYAdUAPQChAA0AQP97/1//nP9yAFIAZwDhAOsAZABLANn/4P6N/r/+xf5o/zwAQQCzAOEAPgAnADYA5v+m/07/uP9qAHsAbQC1APUAVgELAXoAfgBqAPn/dP/+/r/+Kf+m/yIA3wA1ATwAAABzANv/yP+wAOsANAHCAfgAIABoAB0A1/4Y/kf+Cv61/cn+6/9QANgA8ACh/y7/FQDd/8f/XwEBAvIA1gCBAB7/Xf9zAGAAYAC6ANT/3/7g/pD+y/2m/Rf+V/5v/pH+Hv+Z/xQAQgCH/5b+sf5w/7b/KwCRAA0AFP+l/vj9Jv3m/b3+w/4//6T/F//l/m//X/9Q/5f/q//K/44ABgG6AI0APwCy/5D/nf8DAJQAXgD3/0//Y/6K/sH/KAFZA8QEngTnAxkDBALaAeQCEASpBVYH/geZB24HaQYfBaoEIATKA/4DyQOPA2MDuALYAbkA4v+Q/x3/4/46/zn/6P6P/tf9XP35/Hz8A/yl+8b7qft/+5b7jfs0+yX7uvpW+oz6vPrx+gD7XfuB+7v7Jfx+/DX8+vt3+176evqz+qH69vp7+7v7rfu3+937V/v1+/D7BvyW/KX97v4nAJsBpwBN/7T+GP/I/fb8/fyp/OX9Hf+O/ez9uP82/1D/B/+C/Zn9swCWBPkK7RKJG80j4ScLKnEppiN+Hg0aORSsD/ILOgYtAgn/y/mW9Uzy1/DI8LzxwfS9+C38ef+EAYgBfwDb/kj8qfmi97b1VPSt80Lz5PLn8krz5fSo9hX4Zvow/BL9Kv+QAB4AMwCfAAX/ePym+iz4VvXg9Gj13/QY9tf4j/pa/G3/ggHYAVoDSQU2BRoG+wckCC0HeQYJBBcATf0g/GL7EfsA/cv++/68/zoAQv8H/5v/N//E/mn/2v/0/3sA/wDKADgAi/8u/8r+5f7k/2YAkAC4ACcAYf9r/sL9c/74/VT9hf7r/eL8m/5F/1n/DgFLAXYAWACa/2X/df8I/5wADwRbCccTZh91J/wthy+/KPceTxRlCd8CfP/h/FL7fPjU9FfyQu/x7J7st+wh71XzfvdM/c8C1AWvB0gH1AMNAHj8r/gT9r70svOm8qTyEvMA9Pz1U/iF+tX7gPwa/Q3+0f9+AiQEVgTnA38BRP65+xv5v/f+9+j3K/mP+8L8sf7RACQBQwEzAZsAXQG4AkgDyQNvA+oBfAAI///8B/zM+4b7NPyt/Ob8DP6r/0sA/wBeAcIAoQBHAOH/JgCKAAcBowGdAbABvgEwASsBVgB//gn+Ufze+er5n/j+9ur3Avdn9aX1IfQ180L2jvQY9lYIVx0uMRZJs1akVGNKUTRdGTAGWfk69Lj1IPTT8C7ttujz5prj+N9Z4v7l/enu9N8AXAqpFRkczxqpFUgLOv+49oPxAe7p7EvtZe6q8H30L/ns/Kf/XAHX/5f9MP9GA4MIHw2SDusK9gNc+6bz9e0j6Xzn++hm7NvyHvtrAscJmA6IDqgM1wh8A/MAmgFNAWUCHAWEBSgEGwJY/ST3CvQF8obxY/Uq+9j+IQJOBHwDdgBS/BT5hfaZ9vH4t/uo/m0CpQN8A7wEAwNZACYAWv8n/EP7qvt++h754/gs9vDxZ/FZ7o7rqe/B8dLyu/mY90/5axd8NpVKCmRGb9ZhK0x6KfAGw/cJ7tPrsPO/8NvmR+QA44vjOuHr3CTkDOxZ77f8Qgz2FSMjnin8I3waGAxw/CXyRuoH5j/moeWo5ozrT/KI+Ub/ZgL2ASH9EfoH/nAEkgrsENIR3glb/6v2Be9h6Xnm/uSR5WbqcPMZ/VwFvwwDEe0QhQ4tCqEFlQSdBI0D3QIjAowAQf9U/fD4TPO07zPvKPAr9AP7jADIA+cGUQhnBfP/VfzU+ov6Y/3WAL0BfwKGAnYB4gHaAKP9jvyx/B37sfmX+Z75LPfC9Ljy5exS6O3nD+gx627xuPGX8zoDUyCsQWJcym5CdgFq+0uqKbwIw/M/7Z/smO7c7BzjGt7x4Abfcdxn3iHiIenF87f+ewzpHHAqQi9kKDIZyQYg9l7sy+eN41DjZOdj69rw3vh9/p0ANABm+0/1tPP/+IsDyQ4kFYwUVQ27Apr3a+tu4fPcTNu73CflVvKlAQERThvzHiocYhS+C4sDM/7A/+ADcQamCeEJ9QTg/hz4B/LV7ojtvu8k9cP37flS/Q7/uACSAGT8hvnL+I33W/zfAh8G8Aq1Dd8KAQiXAzj9xfq1+Kz2APYQ8jrwRPLH8DHwlfBm7J7pLedg46TnIe1K8UX68f5yCB0rMkzFXalxY3npaPtMviilA8jwkunI6Szu7ukR4lXfXd/03mXbodrD4+fpbeyQ+PYFnBQ9Kws1GC4hJZEVy/9s71bjJdzS2kLZ6tzS6Df1GAFnCqAMKQg9AJX6nfmA/LYFOg9/DhIKcQVy/Ej0+e0X41HaX9lD3a7nIvbMAxEQjhoNH00daBcIEDgJGwP+/zf+u/0gAFED2ATVAyn/2PlE98Xz8+5T7cPva/Vp/d0CvwI9/2H7Avjs9zr7iPwd/Sr/XP+x/7ME2ApHD2ERgw4OCMv/8/US7oLqY+nm6fDpduoh6zPrlegn5Zznp+hN6i/ypfTE9aMYkkRxVi5t/399dIJexz5iDzj4Qu/+43XtxO9T3oDfCOin463kzeMl4znrQe3p8CIApQ6rJ3tAJz6nM4Enjw1Z9fDl2datzsHI6MZK1WfnX/XlBA4NFAsQCGkDLwA4AwIJsxCLFPUO9glCBjf7oPFk6xTd99DP0mbYBt9+7M78gQtYFlkbah3DGW4PXQcdBNP/nP2MAVoFZAZ3BmQEKf8B+xX21fGc8u/zU/WK/OoDPAZ0B2sFZgHY/4r/wP3E+Tj1rvUv+TD9nwSFDOIQsBBqDYMIZQAm+pn42PTN8Z3wB+6X8Db3Fvcb+xn6IO7i6VLjhdye4bXoeO9y/C77ywxjOGxGUVGba55qLlbLQTgatwLE/ePx1Peo/nbvGOlP6kjizOJw3t3aZeaO6kLt9/tECVAeczeMM+Um0yG6ENf98fUO7cfiQtjczQ3Q+tzt5ojzUAFdA3QAQfrV8SnzQf/dCWQVLB6lHQgejBgHDF8CkPLv4BTdC9ye27XmR/Ix/H0IjwlbBkIF9v11+c37kfxv/psFVQo8C5MLjAsZBgX8rvTH7ivpR+kt7vz3gwc4EjMWlRaPFVMSHwvmBG8C1f9Q/ugBJgRVBeQHtAXr/yb6aPWR8GPqh+mu7iT0JPr5AD8FBgcbCBsG6AFp+l7zT/F58u/0qfSC+NkBlQKy/Cr6g/Fm5kbo6uyy7of3NwYZEqgdVS6GO9c9aD7oOzsuoiFYFZwGVgCR/lD8H/+3AFv7vvUS8EnspOmN6vXxgPWz+UwDsAMAA2MLKwpxAiwABPo38vfuh+4082j0+fE09wH9ZwC/BsALhA6vDCcGDQXFAUX7x/2O/SP3avcx9ZDuGOyy6FTpGe0z7fDzsf1UAsIIZA7lEr8WGBBXCIAE1/ZP7xvzJ++D7kr2Y/cS+Zn+/v7a/14Adf6V/jj9FPw8AOIDnAhMDY0NDBBOEfwL/QYmBIQAqP5k/6EFTw2cDkcPTRANDKgIjwWj/Q33cfJD7ZzsIfDa8ab1/Po//U7+2f5r/db79frH++386/vM/oUD7gGNAhsHqQOFAsoFmQI2ARkEOQQ4BvgHmgW9BRgCo/uh+Vn26/Ov9GHza/VN+UX5G/8IBEQBswPaBk0CvADHAa/+9/2iAOMEuwluD5QVJhluGkQZyBaNFfQRnAvMCk4KCwZMBXgEbwDn/R79CP1W/Mv66vqa+VX24/S19Gr2Pfmn+kz9OwAaAFn/gP6J++z3LfTE8BDvQ/AL9In3fvoD/RH+hvwE+6b60/jk9mD28fV79zb7Of7tAQgGbAdYB2YFvAKeAQX/Zv4UAagCzgN8BZ8FOgYDBxcFxAMyA6MAYP3o+2D7YfqR+cP4cPfg9YH1/PaF+DX7QP8gAQcDmAa1B68HTQlPCbYIVwiZBi0F3QMFAkYAN/97/Tr8+/v5+tT6Yvw1/e7+PwInA2wFgQgFCKAIRQniBWcD3gEt/+L92PzX/A39yvsE/AH9Ff2U/Wn99vxf/of+zf2//yYCsAOBBRoIuwipBysGhQJYAD7+efpk+av54/gn+Xf6Ovy5/uH/QACOAKv9Tfr69mPz3/GC8UnuXOsV89D65AFLER4fHCjbL8ssjiTKHzAUpQv3CKkCx/yA+ND1LPed9Tf1Vvk693L0JvIE7knw1PUI+jgAhQVaCGgK6wrxCtgIJgNP/Nrzz+0F67jpfe0l8lD2V/zTAc8EHge6B8wFAgPZ/on71/qR+nf7yP2c/lz/ev/T/C36lffF9IH0RPTY9Fn5d/5tBKELQRAVEtQQ5A0xCWICt/5v/Xv72vra+878Kv/XACsBmAIQApkAHQFXAVYBigK1BM4GnwiBClALhQrQCEEGWgO8AVb/5fuH+a334Pac9wv54Ppv/Mv8Gv1P/l4A4QJsBU4HeAgRCN0GrAbpBSEE/wHC//D9xvvM+cX5r/ll+RT67vqv+w79pv8wAnIEZgZfB+8G3wV4BH0CzQCh/tn78/kW+WX4YPmA/An/bgGlA5MEuAQ+BFsE5AOFAyIEJwPgASYBPf+P/X382foc+u34Zvfl9s72PfhZ+iL8OP/gAQICiALSA8cDYQMzAzoCEwF3ANX/Lf/y/jP+av3G/fn9sv0Z/g7+af0M/jf+sv2W/lQAUAIGBJYFhgZcBVYDiAGcAIYAXAANAfYBegHYAA8BiAGnAnADYgPrA54DzwJ7A4ID/gLKAm4BoP8P/mP8MvyL/AH9G//3/zMAuADS/2T/7/6q/bD99vzi++n7E/xE/bv+FwAAAZAAuf+Z/lf98P27/gb/j/8MAH8AyQDtAE4BNQFo/4X9UfvE+Er2vvWd9t/48vwTAXsGDwwsEOYSIBTiErYQ5Q2CCr8GEQLp/df6cfib9zr4lPj++ST79/ue/Z/+m/++AFIBlAHLAc0ClgNKA48DAgMrAbD/Pf1o+qH4VfaT9Vr2Avhc+879NQD0AjEE+gTkBV4FEgTnAef+1vwg+4f55vjc+N34ifnA+lD8tf3H/hIAAgGTAf4B2gFeAYEA7P/d/9r/dwBCAfcBhQKZArwC1gLhAc0AKQBi/zT/R/8/AAcCaQO+BMEF8gVpBbEEtQNcAkgBSQAt/7b+xf42/w8A+gDWATcCDQKSAegAFAAF/wn+gv3k/JH8Sv0O/rH+sv9BAHgA5gDxAKAAZQASAHz/+/6l/mH+Rv5S/mb+gv6t/tj+//47/1L/ef/g/1gA7gAPAQ8BIwEmATABZgGIAUcB5AAdAGz/N/8P/7v+dv5e/l7+cP7c/pj/DQBxANsA5QDyACEB6ADnACIBxgCBAKgA7ABAAYkBnwGOAWkBEQGvADkA0v+U/0z/+v7s/tj+sP4I/1f/Yf9a/wn/zf7K/sD+9f5O/4n/w//k//j/+f/m/x8AZgCGAMwA/gDIAH8AYwBVAHYAZQD4/67/YP8X/zj/mf/5/1UAtQDyAPoA3wCuAHUAKwDD/3P/Bv+v/tz+CP9C/5//uv/e/yAAJABUAKMAlQB+AI8AWwDt/7j/j/9z/1n/Qf9Q/0j/HP8H/xL/NP97/9v/KgBmAJcAvgD6ADABUAFnAVIBFwHOAGwAMwAAAMX/mf9U/0X/Tf9O/3j/pv+4/8D/xv/V/9v/6v8TADQASgBOAEAAMwAVAAkAHwArACMAEgAFAPb/BgAgAC0AGADu/+b/5//3/yAAHAACAAIA/P8AAPP/BgAnABcAGwAuAB8AEwARAAoAGwAfAA0ADgA5AD4AKwAzACwAFQAAAPP/4P/M/97/9f8AACgAKwAYABQACwAFABcAIAAPAAAA+f/8//v/AQD///r/5P/y/wcAAwAOAA8A9v/f/9//3v/j/+n/5v/V/97/8//+//7/AQARAAsABwAKAAwADwAJAAoAHwA4AFMAVgBXAFUALAAYABwAAAD7//b/xf+i/5f/of+w/7n/xv/c/+//GwBWAGoAaABVADgAGwD8/+j/6P/d/8b/uf+y/6b/n/+x/8b/3P8FAB0ALQBKAGAAcQBvAF8ASgAyACAAFQAPAAAA5f/Y/8v/sv+x/8r/5f8EACgAOgA8AEAAOwAmABUACgD4/+f/2P/D/8b/3P/l//n/BgD9/+3/5P/l/+z/+f8KAB4ALgA3ADsASwBTADwAKwAgAAgA9P/n/9v/3f/a/9j/5f/v/+3/5//i/8r/tv+t/6n/r/+//9j/8f8HAA8ACQAAAP/////8/xkAMwA7AE4AVQBGAEQANgAXAP7/2v+5/6P/rv+0/77/4P/m/+j/8f/+/xYAJgAqADkAOAA1AEYARABEAEAAKwAXAPz/3//U/8//xf/N/9n/6P/1/wsAHgAbACcAJQAeABoAGAAbACEALAAuAC4AHAADAOz/3//X/9j/5P/i/+f/9v8BAPr/+P/4/+n/2f/J/8v/yP/Z/+z/+f8AAAAACQADAAUAAwAEAA4AFQAcAC8APAA6AEYAQAAwACQAHgAVAAgA///s/9r/v/+3/7L/qP+l/6P/o/+l/73/zP/a//r/CgAOABYAHQAWAAwABwAGAP7/+v/4/+f/2v/F/7b/tv/B/8z/6v8LAB0AVABuAIIAoACdAJcApgDBAMMAxADQAMgAmAB9AGMANQATAPX/4/+6/6L/oP+Z/4z/kf+g/53/qv+5/9L/2P/b/+v/5P/X/93/6v/d/9j/4//h/8//x//M/87/1//u/w8AEgAHAA0ABADu/+7/7//c/8f/sP+c/43/f/+D/5f/ov+m/77/0//d////IwAxADsAQQBHAEoATQBMADkAIwAMAPn/8P/6/wsAHwA4AD8AMAAiABIA///5//7/AAAOACAAJQAuAD0ASABJAEYAPAAzADAAMgA9AD8AQABBADoAHwAJAPP/4f/X/8f/x//L/87/0//p//r/+/8EAAwAAwD9/wMABwD5/+v/4P/T/9T/1f/Z/+b/+f8DAA4AGwAlAC0ANAA1AC8AJAAKAPH/4f/X/77/sv+r/6f/pP+k/7b/y//b/+b/+v/9/wgAGAAjACcAGwAEAO7/6f/O/8n/2v/c/+D/5f/n/9P/0f/G/7n/r/+s/7n/sv+6/7r/uv+2/7X/xv/L/9n/7v/2/wAAAAAHAB4AOABCAF8AbwBkAGIAWwBdAD4AOgApAAkA4f+3/5H/YP9M/zL/Hf8b/xv/PP9i/63/5/9OAKAA5gBpAckBZgLHAlYDswMVBEAEeQSlBGsEPgS+A1sDcALXAR4BZACc//D+Z/6i/U798vzR/JT8uvwM/Uv9q/0c/qD+6f49/5X/v//D/7//sf97/0P/Fv/m/or+Vf4//g/+AP79/SH+Hv5T/nz+pf6x/pb+mf5k/jX+9v3U/ZT9eP2H/Y/9rv3w/UH+nf4W/6X/NwC1AFsB4gFSApQCwgLeAtACvQJ4AiACyQFuAR4B2wC0AJwAcQB4AJwA0QAVAVcB1AFJAqECDgNiA1sDVgMsA9ACagLjAW0BnQAFAIn/zf5Q/uv9hP1B/Sz9Jf0x/Vz9g/3K/RD+W/6P/tL+Gf/z/jL/Hv8X/wb/7f7J/qb+m/6H/qb+m/7W/t/+Wv+D//D/KQB1AKMApAC+AHwAbgDn/6L/8f5f/p39B/1c/NX7evtS+0H7ffsZ/P38Nv7D//0BswOrBgUJwQtLDksQBRLLEpkTiROJEhIRLA8HDAgJEQWAAbX9avqw9+/0BvOE8W3xgfGn8iT08/U9+Gn6Tv2N/xsBuwJxA/YDrwMKAwsCOwC2/jD9iPvo+af4pfeJ96n3Lvjs+Nf5Zfv+/H/+9v/3ALoBhQKMApQCAQLMAMz/l/6u/Vn8Qfvg+jT6g/o4+xX8XP2J/k8AIwKiAzAFGAYRB3IHxgfEB9AGzAVvBHQDqgEuAJP+dv2k/E38ffyR/C397v13/3gAlwGqAtUDkgQwBYsFZgXuBE0EVgMPAuoAIv/q/Z/8h/vS+hv6x/mv+eT5rvoQ++f7j/wZ/eb9aP5z/o/+lv71/ZP9fPzh+1v6nfkb+en40ffb+OX5wfra/bz/FgVeBUYKnhCNEqgWhBk9HJYcHx3EHvIcGxcsF1UT4Qw2B0wC/f5T92D00vER7VzpJOtr7CDrJe2T8MzzI/VW+bz+iP/xAF8EQQVzBYUEZgRtA/z/V/9l/uL6PPj49gT3UPZu9eD18fW29qr4mvr2+hX8N/19/uv/iv/C/xv/m/96/9L+dv51/Zn9Gv2f/qv+aP6g/7gAEQJwA9cEugU4BgEHIglFCDkI3AfRBgsGpQThA4ABo/9Y/uj9LvyU+jX6x/nS+Vv6Ffup+7L7n/2Q/9L/+QBiAXYCqAJQAvQBMAESAMj+VP12+wP5fvdk9nj0VvSM823zffQU9nn4yfuZAEoEEQaPDaEUBRerGx8fHyF/IaIj2CRnH4IacBogFSQNQwdrAsz9tfYf9DTxXeut6bzsO+1H7DbuJvKE9SH3XPx+AF4ACwLLBOgFGwWGA1ADagEh/sD9mPzL96L1SPXK9Xv0SvOA9Gb03vXu+AP7Wvot/NP9jADvAIAA5QG1AJwBwwFAAVf/hP75/Rr+v/zd+7n7avqo+3H72Pvx+zz8AP0+/if/1f8yADoAaQF9AboBgQGXAEEAHgDj/3r/l/7y/YH+0f7a/gP/HP9KADMAsQBZAcMAUQCtADYAfP7V/Rn8O/sT+yn6bfnB+Wz6vvzF/v8DUAZCB8IQcxXLGAwdvyBNI14jSibbJhAgZh1PHFIV5Q0yBrABoPqm83Tvxuru5CvjJ+am5YHlrOft7Hzw8PLv+Q/+uf78AngGCQhvBz4Hlwc8BCYDaAIa/9f6LvjL93r2WvSe86fyGPO69Ab3Nfjr9wL7kP1x/ysAXgEgAmUC+QO1A3MCEQFyAa4AU/+W/kf93fv6+wb8a/uQ+xz7CfxO/BD9cv1d/Yv+tv44/9b/nP9j/+L/LwBZAL7/iP9T/0j/hP8s/yv/iv48/gv/Gf9q/g3+OP2V/fD8f/wg/MD7tPt2+yH9F/67/poAagV0BnYI3w4eE+4VQBnTHZYesx77IRsjKB+OHQUcqhYuELcKHAfAALv6evaP8bzrNenJ6X3oVeen6PHrHO6d8D72qvnq++D/HQMsBZkFZgbvBtkFYQQWA6IAWP3L+pT5LfhW9bXzM/Pt8ovzH/WO9SD21vdX+m38WP1W/vL+dQBuAXcBBAFMAKv/2//M/4v+Xf3f/PX8/fxA/bP8kfwQ/ST+Wf6n/iX/lf5h/9D/i/++/n3+lv4a/q79V/0D/XD8ovxx/Zb9Ff1G/e39lf5P/gT/Zv8z/lj/7/9k/5z/0v+eAFECWwOgBdwGLQl3DBkNhhIdFrMXfBpqG5MbWhueHPscVRlIFugUMw98CjcGhgK//mn6TvcE8onu7OwB7hbuDu3S7WzvRPJQ9Or3XPv8/Ij/IwIyA4QDUQQDBf0DngJ7Ad3+K/wa+qv4Z/cq9rT0HfPe8rDzjvQs9TX2cPd7+Hz6TfwY/Y7+7P/xAU0CSQJNA7sCHgPyAq0CCAJTAKb/RP9T/gj9K/yh+8r6EvpJ+ln6sfk3+nD7C/uP+i/7S/zF/Az9tf23/WL9JP67/oL+av5a/rT+qf0e/Sj9Q/w0/In7xftp/PD7gv0x/w8BoASAB+AKcg3CEHwX1xpnHasg0yCSIa8h/SE5IPEbbhrTFm4QLAu2BlkCLP7v+i73ePIV7/Tup+/G7gTvgPBs8QzzmPU7+Bn62PqY/Qr/I/58/p/+Sv4j/qv9Bf31+lH4X/ge+JL3kvef9tH1//WI9s/37/fb91j5xvnE+nn7o/sx/Cb9kf3L/Tb9Nv07/rn9eP5h/tf9Jf5w/mD/Zv+o/6QAvADjAJQBewGBAVkBfgGTAU8Amv+B/gT+D/6p/U39pvx0/OH8Xv3j/Xf+9v4dAIwAaQCCAH4APQDY/9f+3P2d/Db8DvwN/Dn9W/4WAFkCHwYUCmEPAhT3FyAb7h3LIDYityLQIbYgqR12GSEUJQ9iCawEQACu+mT1UvGW74Ttx+z57DjtZ+6G8GLybPXZ9yz6mPzU/YT+4f6R/57/0f7r/d39jfvO+T35KvjF97X3avf19rz2mvdb+U75v/l8+sX65PtB/IP8mPxS/Ob8P/3S/G/8qvzM/Cj9Tf2S/Wr99fyl/dX9Cv5a/uT+pv6B/kP/YP8i/0v/QP/p/uz+yP60/lv+Uv6s/qD+oP6z/vn+qP/k/3cA0QAsAUABQwGGAcgAcwDr/3H/0v5J/qD+cP/m/5oBsgPBBVwJZw0EEsgVOxkHHDke9h9PIWAh9B9uHV8Z/hTfD6sKMgUmAAD7/PXB8bbu8uwh7IbsKe3S7lnwOPOq9vX4p/tR/vv/9gCcAcUB5wCI/1v/jv0e+4f5qffj9TD1+/Rx9Cb0g/TC9bT24/co+Qz6v/oW/N/8Cv3f/LL81/zA/Ir8b/zp+3v77fs0/Mb81vyp/YD+Iv/g/8IA9wBAAd8BFwIMAlUBNgGGAOX/lf8C/y7+FP6p/cf9mf2L/eb9cP4x/7//dQCNADUBcwGUASMBggCW//H+sv36/O77TfvZ+3f8Bf4aACoCjwVRChYOuBPWF3obah7sIFgitSLoIf0feR0QGPQT2w3VB6kCrP1U+dz0MvH97q7tvOx/7mPvofCv86P1FvhS+oX8Sf5x/5sA3QDX/xL/H/8j/WX8mvu0+TD4xPeV98r2r/b/9j/3Jfc++J34Zfhs+O74Afn5+PL47fjw+OX4gvkK+pf6Uvt6/Hb9lf53/5oAfAHoAS4CIAKqAQIBxQAXAEf/l/7Y/Sz98vwg/Sv9e/33/Zv+M/8aAOQAkwFtAq8CcAN3A1YDqwNuAwgDfAKQAZYATv93/sD9h/wz/Ff8YvzD/S7//AARBJQGMwssDxgTORc0Gp0cGB7pHsMelB3IGmUYiBOkDgEK3AR8AOH7qvi19QDz0vGb8fvxuvJb9LT2A/iW+d/7Xf3p/Rz/k/9a/zD+o/0M/fr6avp0+Wb4SPeR9nn2DPbm9XD22vbH9k/3Xvd99373FPeV9xb3kvbM9sv2yvZd9534T/l/+hr8uP3L/okAPQISA/0DogS0BA4EvAMEAzoC/wD8/wf/xP0P/fT80/yy/FP9p/2h/nX/jADLAYkCPQPLA1cEYgQqBL4DcwMsAm4B7AB6/zH+fv3X/Bj8Ofzy/NP92P4pAR8EewbSCbIOlRHVFMEY2xoeHP8cUx3EG08ZpBZXExUOyAmdBe8AmPxa+Z33yvSM88Dz2/N289P1vvcX+BD6Q/sB/Gn8Vf2P/aj9rPyg/FT88vpW+2X7e/vA+k77KvuQ+tX6WftG+3T6c/pa+X34SvcP94v2LvW39Jr0S/Qo9Mn1oPaB9zL58vps/M79ef+zAFQBnAEtAoEBZQC+/+X+jf3D/Gr8NvvW+h/7LfvU+/D89f1m/18AMwFwAj0DxgPCBIMFDwUHBasFBgViBNYENwQNA34C4AGbACAAvv8MAJIAsQC9AuIEcQajCWkOJxFsFFwYKBrjGiscgBy+GqIYnhXxEeYMRgg/BCUA+fsX+X73n/Qm8zj0IPTg8zL24PYP9174Mfnh+U36fvpk+2/7R/qS+7n7n/rE+4L8SPtb+wD82Pqh+un6I/oE+b34offP9sT20vXT9dD1G/Wh9Z/2k/ZF+CD6k/ps/Cz+v/4wAJ8B2gGKArkC3AGgAewAZP8Z/yv+jvxT/Br8Lvtj+y/8UfwI/TH+U//9/+0AFAInA6UDnATDBX4F7QVzBogGfAapBh4GmQX2BHQDEAMbAsAAUACzAA0ANQAGAkIDqARuB9EKqgxWD8wRdRMPFEoUMxWSE2IR1g8iDSwJqAYeBMQANv4y/F76gvgJ+Fb3gPd09xz31fcK+F74DfkX+mj6KftH+zn8t/wz/KD9If5n/QL92P1H/BH7rPvx+jr5xPjM+L/2ZvZn9mf2IfYI9rf23fb09ur3+vnw+fr61fxz/d39Kv9pABQAywBLARUBaABbAA4AZv/W/oz+df44/WT9gP0r/W79I/58/nz+Sv/j/1EA2QDaAWoC3wKbA0wEtQTDBK0F4QXOBQkGEwaRBfwEsgQXBGADggKSAukBrAERArkCbQMTBB4GkgflCIcKmwwyDdENDQ8GD04OjA1UDS4LrAmUCMYGswRMAzgCOAAp/9j9Mf38+yb7qvoK+mb58PiI+Rj5HPmD+SD63vmK+j37Mvtz+3H7APxz+4H7rvto++r6u/qJ+rL5b/nv+K34Aviu94r3KvdL92f3+vc6+NH4mvlY+ij7+vu1/BX9hv29/Qj+Gv4k/kP++f39/Qr+6f0m/nT+nv7n/kb/jP/K/+j/UACNAIwAzwBQAUgBdwGBAuYCBgP5A7IEfwQkBcsFvAWrBeoF6wVvBUMFNwUFBZ4EwATsBLoErQQKBV0FjAUSBscGSwfYB3cIJwmvCdQJdArQCmcKIAr5CQoJDwhpB2kGAAXWA8kCcQFRAIr/4f7y/WD94/xD/PH7z/uK+3n7Tfv++vL62/q0+pX6pvp/+ib6Ofow+qD5zvnB+Uv5Vvku+dz4tfiQ+JT4mfiB+LX4qviz+Bv5Sfmv+ff5Vvq2+gD7mvu++0n8sPzs/Hf9w/0F/mr+vv4N/17/jP/R//v/CwBdAIgAiwDoACYBMQGnAfgBOgKyAgkDlwOhAzMEUARfBNsE4gQBBf0EDQWjBMYEogR2BD0EEQTIA18DXgMKAwYDjALFApgCZQK+AtUCDwNbA/kD/QOaBOMENwW6BbkF7wXUBdQFUgVSBfcEdAQVBJgDRgOUAmQC7gGlAfwAGgGtABkA9P/B/1D/1f76/iv+Ff6I/X395/yN/K78+vsP/NX7dPuN+1L78voV++X6gvp2+lT6F/oK+vT5/PnV+dr5Cfoi+uf5YPp7+pL6wfrb+iz7EfuT+7/74/tL/E38wvzi/Az9pP20/Rf+UP6J/iP/Q/9e/4AAMgCpAGUBWgGrASMCawKmApYC6wJSA9UCgAOKA2sDagOvA2YDnAMtA0kDBAOgAn4CdQIYAroBLwLDAQMCDwKMApECEwNDA+oD4wMwBFgEiQR7BPcDlwSwAxoDogMBA+cBrALDAWsBqwFLASwBUgFZAR8B0AFEAeABHALSAVUCWAI8AmUCOQIaAi0CfAGgAeYArAA6AAgAYf/z/qf+LP4y/jz9qP3u/AD9l/yp/C/8e/zk+zP8zPv3+937Vvtt/An7AfxQ+yb8Cfvu+5T7/vsw+038pPvI+9X8zPtO/WP8uf3S/PD+C/0V/27+2f4N/0//Xf9O/2wA3P6lAIn/eADs//MAHwBHAbYAiQAwAQcB6gCBANYBNQBhAJUB2P/CAHsAzACLALkAaAEOASYCUAFKAxICWgPKAlQEwQJLBMoDhgMHBDkCzQSJAVcDaAKkAnYBjQLCATgBXAJ9AE4CjQEjARwCCQIPAb0CLwJ8AeECRwJkAhICRQKUAhcB7wFrAd4AZgDAANj/tf8iAKf+ev/F/pb+Zv7K/kf+rv4J/qX+SP4D/sb+0/2s/qD+mv2w/rT+Av3b/uj9ef2B/kn9Kv7d/Rb+1P1y/s/9Hf69/qv9Rf9s/mb+8f6p/3z9BwBR/kH/pf9X/rb/Fv8//+L+df+F/oz/Rv+o/rn/v/6s/2z/YP42AND+Pf/U/5b/QP5tAT/+YADj/1P/zQBqAH4AUQAXAjEA1QEMAQkB1gE4AZoBHgEpAeIBpAArAXAA5wFFAOwBKwDvAX4BFgHeAdUBWQF1AdUDJAC8ArEBOwKEAuX/ugErAoMAhwC7AEkAmwDf/zz/vf8P/xsA4/6E/tH/Of9//vb/Yv7X/mT/cgCl/W7/MACS/47+aP+z//r+xAAT/YYBgP5rAJT+3/9P/8v/QP9//93/o/43AVn+AADa/jcAl//4/839xwFo/5D/DwDh/lsB0f8R/0IARAGP/kMBSP+UANj+3/+0AKP+VP9X/28Ajf6g/xr+jQA2/57+3//G/ycAeP90ADEAAAAqAD8Bgv+VAeH/ngD+APIAxP5lAd//GwFr/5n/xQEbALn/AgBYAtj+xwE4/8MD1f7kAY8AzgEnAVEAqAChAZYA5/9oAfr+kgBo/xwB6P16ABb+iwGk/jj/8/0BAhv+GwCP/n3/vQD1/jEAU/2XAZH+HAFN/PMByv4n/3j/+/+i/V0ARABk/ez/Y/+8/6H+LABD/nAAZf9A/+7+NwEu/uMAWf8CAHUAAwDY/+8ANACwAF0A2gCHAdH+tQJwAGL+9QKbAOD9yQK2/l8ACQCd/9v+lgFl/ub/1v+kABj/ov/OAdr+QwANArr/egAlAof/eQESAZL/awElAf/+eQHI/00B5v1XAi/+1gD0/u0AUP+CAL//XQBeAZ/9zgLi/iMBk/+iAfL+sgHW/owBzf5//wMB/P5BAOP+5v9UAHz+YQBu/nv/WAG+/bMAHP91/xf//AAs/aQAf/77AIP+g/9a/8L/NABT/QIBFv7TAVX8vwHQ/4b+LP/NAJX/yP4dAIAA8P/3/WICZf7gAJ7+lQBUAN7/ZP8pAHEBDgAf/48ABwJL/ckCnP5XAVEAsf+9AEgBkP4EAZsBgvwRBCH+MwHh/6IB6P6QAV//4P8MAhb+xgJvAIYApv8bAuf/2wC9/hUCywGL/YACywDt/3j/nAC3AEz/GgCq/40ChP7o/04CRP5hAPMBuP28AaIAp/6eAjj+DwAjAXv+jv9pAIP+RAB0/9H/3v7h/8T+3f9U/3/+NgDs/lYAUf3sAB3/Nf99/j0AHP/g/j7/5f8sAfj8uwGn/hQATv9o/0z/UgEl/gYBggDa/bwBQv/A/iEA5wDn/TUBWACu/6n+iQKA/WoBSv83ACwAEAFk/+b/HgM2/ToBugB9AMX9HgS3/KsD//5l/+4ACgD6AGb+pwIQ//YAGf8rApL+/QEc/70BPQAt/88BKwDZ/58AuAEE/y4BtP74AZgAyP1JAq0Anv2kAdD/OQBBALz++wH1/3v+kAFJABX/swAgAGn/nABf/9P/YQHq/tf/xP8GADQA2/6C/4EBcP6IAGb/dv+3AAz/t/64/3wBQv3k/5f/SQDc/tL+9P+G/4z/Sv5ZAXD/NP8o/28C2/0y/3YCh/2LAQP/VACuAAYAsP4UAQcAb/7xAO/++gDd/isBGP/+/4MAlP81AAz/+wHv/1L/rgDOAK3/zACq/7P/ZgHo//b/mQBuAEcAT/8/AUf/BAG4APj+DAERAHoA+P89AF7/6gGL/04AQgAUAAABvf8UAWf/KACcAKcAov/R/wgB8v/f/7j/zQDs/2n/VwBWAHAAMv8zAKT/2QD7/rT/lAAB/7cAF/8QAd3++P8vAHMAYf8c/78ArP9FAOL+EgEH/2gA7v1fAm/9Iv/UAaz90gAV/6v/gwAnAG39fAKg/fMAy/4yAPz/C/8qAVv/JgAY/xABf/7cAF/+AAE1AJL/7/6RAQoAjv7TAAsAEABg/rEBa/+C/1QAzQBfAPv/df4oAlIA8P2GAUEAGP8dAEkBn/8WAGb/SQEB/20Auf++/9sARP8hAQUAx/8OAPQBvP3wAWX/igChAMH+zALv/i0Ak/9oAen+xQCJ/0gAbAHE/pIA/f+uAYD9mwFHANr+FwK+/rgAc/+EARb9aANE/qr+fQIy/rAB/P0xAZz/7gDF/lAA4f+8APb+cv5tAz78kgEDAAD+hALx/YgA8/6TAD3+mwHR/rT+8QHe/bsBUf5DAdT+iQEM/i0AxQFw/UACWv03Ajv/kP+U/6sAIP+V/jwCov0bAfH+tAAJAC7/LwBTAFsAR/5HAa4AvP40AO0ARQA2/4ABqf7SAKAAb/+9AAIAyv8hAZIAu/5JAFIBsv7g/3cBGf/GAKX/bwDf/68BLv3/AdQA1/4qAaP/fABzAM7/q/87Ap39cgAPAv/9qgBPAJD/IgH+/vP+EwJ5AMP7kgST/YkAsgAr/8QAi/9+AEz/UQEw/YgC5v3YAU/9HwJl/yH/FQGO/p4BKv6MAOn+/gAT/zYAuP/c//T/SAAV/0IAdv+z/xsArwCh/h8BI/+9AEL/oQDz/yr/8QDX/uICMvyrAQ4Ab/9qAD4AHf7sAbT+fP/fAXj91wB+AG0A1P1HARMADwCP/30Ajv+OAM4A0v4OAaf/UwDa/8MAmv3OAiQAOf6DAXH/RQB+ACoAWf//AMf+DALi/skAwP+BAM4Aov+x/4kBKf5LAP4CoPziAd3/zgB+/5EBN/7oAF8APf8gAeT+RwAcAGwA5v9qAD3/XAFN/r8AtAAJ/hoCzP6F/8kB0/5LALH/sf8qASz+QwBgAAr/SQCw/zwBK/0KAvv+ZAB//6r+fAHY/mAAJ/+8AEz/LQGA/nIB4f6MASv+zf/tART9tAJI/ob/bgK0/fX/XAIt/Q4ADAEYAGz+yQE1/nMAwQH5/ZwAlf+nAKL/hQCs/qUBQf7tAI0AEv9xAA4AgQDo/hEBuf6DABwBiv4IAU8Aav47Aub/Mf7JAKoCK/1MATf/GAEtAOb+2gH1/m8ALv+pAkH9YwHa/oAC2P2TAKIASv4FAmL+AANu/GcCsf67AQP+QgFE/4UAy/9s/xUCUf1jAnP+BwKU/BADQf8b/ukB8v+E/vQB0P6v/3kBQ/40ABEBTP6w/xkCUP1fASoAHP+v/zoCE/1GAtb+x/8CAT///v+BAFwAh/4VAsv+kQAI/7QAMgA6/hkCvv43/0ICMv14AaoA6/1UAQkBbvwLBFL9oQDnAHn/TADE/5MAQf7aA5/7cwPx/VwBR/9CAHMASP////0A0v58/wwDIPyYAt3/Ff9yAUH/Xv7CA339xP8mAekAif1LAor+qQARAED/eAEc/lQCqfyoA2T8JgLg/73/Z/9vAdT+lf/+AL7+bgLk/JwCy/48AFv/0gDa/iEBIv+NAGn/lv/9ABwAwv7Q/38BLP4YAXb/bwCE/hgCif1UAuH9qgCTAYP9WAEbAKj/sv6xAsv9WgLo/AsCRQAX/x0AwQAXAFf+NwJU/tcAqP6iAe/+hwD1/vkACAGU/ZQBhAC//RUC4/+n/tQBzP4tATsAyP3WAZgAwP5mAGIAPAAAAMT/s/9PAMD/ZACf/4wA4/9xAH/+XgFC//j/JwCd/4IACgBwAFD/jgEr/rIBl/5BAA0AYgB1AIf+IQKl/h8Asv97ABP/bQBN/zYBXf/T/mUCPv5hACr/ZQE5/zL/ugCL/8gAVQAr/6QA7v/M/tMB/v73/ckC7//w/n4AIwDqAMD9zQGQ//n/z/9C/9MBev/E/rgAMQF9/WoCD/9FATz+UgCVAc79iQF4/2UBcP66AND/1AD7/WQAwgH//IYBSgD5/qEA8f9i/6AA7f8r/zwBBf9mAFoA1AB9/gEACgME/PMBuwCb/mwA0QC7/p0A0wCM/UYDQ/25APEATP9//2QALwHr/FkDNf1BAUUAFQC7/r0CwP2ZAP4BjfuBA0b/0P/G/o8Czv0hAmn+tgCt/3T/KwA3Adz9bwGz/5D+ZgIw/hQBDP95Adj8DgQ3/HMC0/6+AIH/yACe/jUArgEU/pUB7/yoBKj7gwIH/9wB5v30/zQBFgDw/VsBnQFh/a4Bof+3/xcA8gAH/uYCm/16AO8AmAAG/SgD8/5d/zkAXQER/u4A3wA+/bYCOv43AUb/7gDK/owBqP6cAHn/QABGAGcAov6uAYn/vf91AH8Aiv7IAL3/pv/wACf/NQEH/2UAeP5XAxX8mAI9/j0Ctv4HANIA4P9u/o4BXwDB/ToD2PxIAjH/sQB+/tsB2/x4A+f9wf+cAOYAxP20AfcAXfy/AfcAw/9k/U0Daf03A5r7/wIV/xIBXP6nACIBL/7u/9MBjACf++8E8P0gACP//wGY/RYCrv4T/4QCK/4UAJEAdgDK/qMAcgCK/5T/CAEF/+UAGgAx/gsC//+y/2H/XQLC/av+hAMc/nz/oQGI/gYBwgAc/AwFLv1P//YAxAF1/NMCp/6d//UCavwoAgQA1/4G/y8FkPmCBFT+PgBqAGQAIf6PAcQA1PyTAy797gGk/vYBgf0jAvz9EQFsAMn/IACW/0YAt/8OAQL/fQAf/oMD//0L/1cAZwF3/jcBWf99/+H/3AAiAEr96QE6AN4AOv3UAlv8hwTz/aT/w/+//30Buf9h/vwAlAGb/AIEnvu6A6z96AGW/v8AFf67AXwAUP6gAFYANwC1/uQAx//9AXz7GwMmAJz/Df8QAVoAkP7gAUMATfz4A9f/1P1/AsP9GQBdAv/9jwDP//kAO/+3/yMAwv74ASz/ef9j/xQC7P01ApL+dv/sAIMBSvzyAd8Be/13Abz+VwKB/WoB9/7/AGv/JwF//0r/2v+zAM4AsP73AaP8qAJ7AIj9TgBQAp79HQJh/y/9kgNO/rX+WwJa/+f+CQLQ/mIA2f9g/kgBIgDF/oMCWv2mAIECif38/28Bx/4BADYA5QDE/3L+UgJy/0/+Uf+nAy79/f/YAb79LAFZAY/9/QA5AEMArABo/d0Bw//N/wAA5gCd/iYBbf84ANz/jwDV/hIB/f9h/woBaf9EAAIAQwC8/lEC3vzKAIABPf/e/X0Di/6G/vIBzv7b/wsBbP/s/psBtf5VAln+F/+PAZcAof4hAFkAa/+UAFQA+f8n/yEBJv8fACkA1P6XARj/P/9EAiH/zf7FAdb/6f8M/30B1v+B/Z0CowAd/p4AHQFc/pEAf/9u/lsDP/5P/lYD/P1OALQA9/0/ApIAa/0XAUUAPf+hAAkBS/5mAd//O/5wAyz8bQGpAff9iQBuALoArP7FAPsA9/2UAEwB2fw+AuT+3AEwAIr8VQJQAcD+lP0wBNf+sP8uAD8AMgFh/kcA4AHy/fX+kgNE/fEA6v9dABf/4f9SAW39mgGF/4oAd/5QAXEA+/5L/9MA9ACp/W8CWf3WA9b+mv5XAbj/NP+JALL/oP6TAtL9tQK5/HUC9f6T/rQAPgHV/RL/mAR3/Tv/5QA5Adj9LgHm/RICQQAf/kkBhgHV/QgA4QGE/QEBZ/+aAHf/DgA/AH7/lgDYALr+5/6uAZsAAv6P/8UC7/72/t0ALwGA/nX/7QF5/8T9mwFpASr+2wBOALv//QB+/vz/SALh+7kCHwAD/vcAbQAzAO/+vQCmACf+jgCSAA3/eAIW/icBuP/EAA7+ygB/ALb+6AC+AO/+1v8bAYr+egHy/tsAcv7nAbr+QAC6AOD+/ABa/8EAEf9xAar+IwDzAMD/oP+hAO//1//O/6T+ZAJy/or+AgNT/0v+yQHe/9H+qwAPALf/yP98AIn/oABzAKP+AQHm/8L+NgCo/+gAg//i/4QAnf7zAH3/x/8kALn/YADV/zYAUQCT/yUAOABj/xv/OwDr//7/GwFq/wwAagAW/+f/lQB7/yUADQDUABkABQDq/0AAPv9TADb/5f9cAYT/U//RAMUAA/5kAOL/YgCW/tQAbwHvAUD++gCAAWH9bABr/40B7f4uAWX/qQBW/2r+RAAKALb/oP5oAZ7/SAB//0oBTP51ADAA4f7wAcP/TwA4AFIAov6SALT/wf9tABkASf/bALL/+/7iANn/sP9v/90A0//mABf/aQH1/1P+nQCNAL//tP7KAYMAk/7u/4UB2P64/2UA4f8S//L/iADZ/0AAgP8wAFH/Kf+H/1AAcf8hACIBpP8H/4EAM/+b/xAAEwCQAAMAAQGJ/2kAWP9T/48AEQABANUA3QD4/04A5v+H/9j/u//4/2oA5//S/zMALQDO/un/OwCI/zcAHQGx/7j/1ABSAN7/8v9TAWn/xv9JABQAAwCq/1sAxwCI/1H/8QATAHP/5/+GACsAhQCx/30AqADS//r/kAAaAJz/5QBW/6gA5gAsAD8A3ABHAMT/RQDhANQACwDQAAEAEgGL/+D/AwB+AAwAS/+GADP/dACZ/53/KQAkAGb/sf+NAFwAkP+R/3sApQA5/zP/xwD2/8T+C/4p/27+v/0//Rf+iv3q+5P7xfuF+zL6gfru+x/8DfvM+3P8vPwn/Cr9xv1a/o3+5P6//83/ZQBrADsB9gD9ALIBsALnAuICFARDBREGWQfrCQ8MNQ3KDuYQxRDzDxEQchH1EIYPpA+dDtELagfgBGQCNgAS/jf8P/sa+cv2bvSJ86fypfGF8RLzk/Q29NbzV/VQ9kv26Paq+OD6vvsC/df9X/7M/TP+zf0M/Qz/yf/b/pb9bf0E/Hf6MvoC+/z6QPnN+Jn55flO+cD4TvnM+fn4Y/rA+xP8mPyn/Vr+7v7K/mD+2f8y/jz+8gCeAHz/LgCj/nT8pf2U/Q7+9wAcAtsAsf/7/nYAGwNlB5UP2hlcH0kghSLvImEgdx+WJfErsCzjKRklbRwIELIHrQQHBDICu/6M+n3z9+gr4ZTebN714KrlEuli6vrppufC58bpi+7i9K/57/xQ/1cAAP+O/mz/pQFTAzAFagekB8QFOgGo/Pn7SPzl+1P+NP+t+k/2KfZi9YH07vag+t/6xvki+yj6RPme+7r+cABpAlAE7gNoAeT/wAHWAWoBjgRlBcUBIgAZAGv/Bf8g/3T+x/1L/jj+8/zV+178V/u1+kP8iP1e/sj+Y/0m+3n7DPv6+YL8mf9R/5f9J/zM/ZX/Bv2yBFkZ1x99GmEhnSUFHIcYZCJzLYMvginDJKgdgw05BCIG8AYABcIArfnb84Dt9uPh3ObdiOXw6j7sae5R7TfnduUp6uLyQPvd/aP+uv7e+z38NwC+AIkCbgbLBTEE4QTkA+n/qvtd+mb8Mv5N/oL89Pet863yYvOD9Yr4Rfl++JL46vgq+oL8aP3k/uACXgWABZIFogW6BJECTQJFBpUI3wXUAvoAXf8g/ysAUwAC/sL74ftV+5/62PuT+8z5S/m2+dH7kv0R/MH65PtD/ef8oPzQ/ij+1/pU/FL9q/0XAiH+6vyZEpUf7hX4GJwj1B15GN8fAyo1LXkmdyBgHTUSkQe6Bz0JBAb7/u/2+vJT70jnXOAo3xbjUukj7dLs5eq16Bbn8+ow9bj8j/6J/3L+P/w5/i4CgAVnB1sFOQO5BPYElwLyAAP/7vu0+/j+E//w+TL20/Ua9e/0ePdE+VX3gPaK+lX9CvzW/CMApwIJBuAIpgfRBYIG2AZiBqEHZgiiBt8EBgSlAv3/Qf25/cr+y/vl+K74Kfn/+j76SfaG91L7BPro95v5S/wt/Cz7nf32/g78/vpU/P38Xv1f/ED7Gv39AHgArfs/BY8aWxrpDkAY2yB3GIgYNSRVKXYjZRuTG/EZBw4ZCvwOnAudA5H7NfTk8/nyeOv85srmhueu6b/roe5p74rqkerq8qr3Mfgw+9b9Sv2J/GH/dgToBFEBhgFFBHkEPQQ1BF0BF/3M+w/+JgCM//78u/kW+E751fps+lX57/lE/HP9m/1x/tr+x/9uAu4DLQT8A6kC0wIpBFEDlQKcAiQBWQA5AGj+IP2n/Zn96Ptc+QD4I/l7+x383vlO+E/61frb95L4KP0A/c75Evot+yr6I/mT+VP8S/6m/F37m/2zAcoB3v24B+0ctx2RErcasCRRHs4c5SbgKyAlGB0UHWcZHg3gCtQOxwdg/v33F/DO7kzxP+wV5aniJeQp6FjqNezv78zuIO3H9MX6Xvgj+jb/6v3E/TME/gcPBesA6v+vAR8EAwYQBRr/E/hB9vD5Kv1v/C/6a/i49ij2cvab9kv3Jvrt/g4B4v6S/sf/E/8wAu4IlwnTBU8FEQYYBKkC6gNXBFIDiAKlAIT+gvxg+V75iPt6+Y73Sflm+dr4dvnx+Bv6u/1N/ur8f/60AAEAdf/j/wT/1v2n/af9dP1Z/Jn8kPz2+s39hf6u+CYE/hqSGJcMThQrG1IXGhs2JFAmMCDnGaAZ1hYqD1YP5hDQCbUCYfvM8aryf/eM8avq6+k46evqWu6r7tTvYPE88r72HvnM9vn4pPtq+rD+cwUKBI3/Y/+nAGQAkAIDCG4Htv/H+uP5iPrI/kABHf18+JT4pvjZ9TX2r/rx+gn6vf7+AB39FvyK/40C1gQwBjkFWgKZAUADDwMuAe8BSQL//wf+Kv3++rf5fvuY/Kf5sPfK+T77rvop+6H8nP3Y/XH9c/4pADwAQwCkATsBiv99/sT9UP2x/CH8Yf2M/Gz7Gf45+8H6Dw++HEIRUw/RGr4ZQBn2Iokn4yP5HKkY8BfDERQOshKLDj4EYf6x9Kvtl/OZ9abt0ugR6mbr2+oX7EbxNvKG71b0cfoQ+Av3nvrR+rn7dQE6BBgCPQCr/0v/9/9jA1gGigLm+7b6o/yX/qQBWwCD+vz41fpD+kj5GfoY+hX7rP6fAev+cvuq/VMCtASYBTYFjQPUAnoCpwJgA6sDMgMuAmYAaf3Y+ov7Qv2u+0n55/hZ+Qz6x/m7+Jb5f/t//AT94/z1+6/7Bf4mAKX/Bf7C/az88PxM/Lj72Pzw+wH7af+w/YT7+g8SHv8Rww5SHKkbGxomIxQoVCSbHCEXgxaGEcAMmxGrDosESP138/bspPPO9aftIurc6gzrwev67Bfvs/H/8Ybz3/kV+/D3a/nj+rT6LgFRBhUD+wDDAP7+kwBvBFAFmQMF/k750fob/gT/2f1u+nv3qPiv+VH4z/cY+Lz6pv4QANb+Ef6j/Xz/8QMZBT0EHwTgAksCXAP5AjgC5wHJASIBf/48+5P7gvxT+w763fme+Yf4d/iv+g/81/tD/fr9dPxT+2X+3wBCAewB0wAd/hj99fyB/Qf9CvxB/P/7FvtO/Vj5SPxOFWkdbQ0LDwQbyxbLGBwjvSZLI1sbIBY4FeUN6gzEExEOBgWx/Xjx1e1V9b/zAu7w7RHtluyE7Lzr6u7u8RXxsvNH+3j6kPU595T4/PnWAZgGlgOaAuYBjv5uAbYG4gbRA/f/AP4d/R7+UwDA/iz6Pvm++mr5YfjP96r2tvmu/kP/gfyO+zv8F/7XASMDUwKTAdMAtAHlAQoB9wGUAqYB+QDP/lj88/zA/Sb9IP1u+zn7R/xb+2j8A/02/If9r//d/Kn76P66/6T/5ACY/tn7EPvs+0v9xPuC+zT75viw+KX9DfmW//YX5hi4CesQKxqYFBsblSbuJU4gQBtcFvIS2AzqDzgVZQ7pBTz9mfBo78j4cPYX8K3wQe+R7Y3sWe3V8fzydfF29j79j/gO9aL3KvhS++4C6QWbAwcBcf5z/kECJgVuBtYC9vtd+zr96/7V/7T9zvls+If5iPq1+ff35/iP/FH+L/+A/Rn7b/0hAqoEtgKgApoBIADAAMABiAI8AgEBFwDS/TD6RvpJ+7D6mfs2+nv29/a59wT4e/qS+ur6kfwi/Jj77/20/xwBSAMyAjMB5ADc/1cAPwB8/gL/bf7o+37+8P01+4YMlBoKDw8LKBbMFUcV5B8NJHMgCxqwFAcUGQ+wDcIUNREvBzEACfZp8KX2pffm8XnwV++g7Mbqwusv7+7wmvDe8ZL3yvkU9aj0bPeE+ej+IAUkBWgCLgHK/6EA8gMQBxgGYgAF/Z/9lv7+/q79lPup+Vf58/d99wL4V/fQ+YD+Ev7W+/r7fvwe/+wDmwM/AUwBnADzAEoB3AG6AvoALf7A/hf9Kfn7+EP7ZfsY+s/24fVr98P4yvg6+Nv54fyX++j4W/qx/Nj+WwE7AQn+w/tQ/J7+VP9hABL/Dv00AK3/gvutC5weqRZQDqMXghpkGewecSPiI5odhhViFbQRlQwoEmoRuAiFA6H3qu4V9q73l/IC8/bvJOu67AvurvCL8jnxuPMy+HH4Kvge9w/3lPqI/7kEgQZLAwYAR/7oANcHwQhwBb4BM/t/+Xn+mP9w//j8sffN+ED6NPVp9Sn4Pvh7/O7/kvwq+jD8Tv+TAJABcQQLAyj/NAC9AakB1wMDA+YAkAGY/1T7tvvm/dv8l/oN+xX7RPmk+c/4dvf/++T9j/kn+jH82PwCADkAKf6Z/RL7gP1kAfb9xfwZ/oz8a/6Y+yP+WBWRHFANyBAsG7EXxhsnI+YihCCUGcQVABb1DKYLOhRmDm4ECf4K8XXuB/gI9g/ut+yq7Mrs4Ori67LxIfJX8AL1xPcR9ur3dfno+oT9oP8GAw4G2gKTAIIDNAYOB6UIigZTAMX9FQCaAjsCsf/Z+4b4ePeD98j3kvfY+Hj75fu3+wn8SPyy/cIBVwO1AXgCJwNzAf4CNQU+BG4DtgPwAIH/4v78/CT+XP2S+XH5gvmD92L3Xfal9Xb45fcc93/5tPeo9wb8HP3F/un/V/08/bv9BQAgAqz/pf51ADH4pgNUHn4ZAw3NF98akhTiHBkiViKHIDAYcRLzDXcHsA91FCgIfwEb+3Tvte9C9nrzKfKd8Y/tQeya6rbt5PI+9df11vd/9pf0K/ZW+ML6Y/9OBL0ErQEY/z/+mf9BBXIIFgi/Amb9dP0z/6AB4ARbAYD7Yfyn+yz23Pah9yv5vP5sALD+6fyg+yr98AB8A0IG7gUrAq4B5AEBAX8FdAeVBSwBwv2U/FL9qf28/fr8GPlD92v4J/me9+/2c/i1+Uv5xPjY9kL4xfvn++z8eP1d/YH95fxX/Sf+gPwB/qUBYPiCAqAbKhdgCs0WJBvbE0YcTyIwICEc4RWPEX4OtgfbDoYSLAe3/yL6afCW8R74X/Pf733v8u837rrq0e+N9yb2+/VT+7/5AvV79zL7Nv3RAMcElgXOAggAQf5iAEEFAgdnBbkA7fz1/t8AlAKZBTQCzfyJ/87/9Pmv+PX3yPrh/57+Yf2p/Xr70/1mAC3+yQG9BqEC3ACYAQcCqwRCA/0BdgL9/+b+0AAS/Ob4VfuG+pD6e/zH+Fb1avXj9WT5efoZ95H3o/pg+E75Cv/9/GX7qfyZ+0f7pv2g/E/8gvpJ9owHjhnSESIM5Ra3Fq0VXh7JIU4f7hogFdwTWg/dCH0POg9lBA//6/gb8Ojz5fbD8OTv6fDX7+Xvz+0E8bX4Z/hR95z8Mf02+S362Pm2/Q8G9QceBWMD3P56/PACpQd8BlYDp/75+SL7pP90BK8CZ/6w/Vz+lfxg+3r6tPmP/zoDX/8P/ez94v1RAEwDTwJKAfgBkP/d/z8BzQLOBDkFhwKNAVMA3v0u/4sBSP+B/Ir8qvyQ+h/5SvtB+n35FPyw+x33Svd9+Xr6v/rL+1/9ifyi98n49Pec9c739vdA+Iv6b/IZ9P4OHxaRCJoNFBjYFewWbBpfHmwe3hn3F3UTLAe4CfMPfQnbBsMAIe9w7tL4P/VS75DyOfb486fuPO+b+Wj7Vvgq/OgAYv7++5D9pP9OApAEuQT+BDkDPf8M/Xb/xgNJBSgAJ/qQ+7v9Af5cANv+gfz1/qD+hPu0+oX6gPsuAScCfQCmAq0EFQMIATYE/weUBrgGaQjJA+D+LANFB5IDif+T/nb+dfvs+rX8tvlN9zL6w/qT93D3RfnU+En6bfw//EP7Jf3rAAsAEP4UAIQDbALp/x8AKf4K/df/XP54++38AP2K+hH8oPl4+IsD4QhQA5UCoQU1B7oKzw2DDmAPKQ17C3oLPgdHB1AJXAbpBUcGYf7G+Yf9ofxX+l39mv1t+2X4v/YN+e/7lv0vADcCGf8C+0D6kf2LAKEAqwIAAzH/Vf2a/I39FwHUAjQB/wD6/6P93P21/Rb/EQLOAP3/FQBc/OT5sfx0/9gAwwD+/SP/PQAQ/xoBpQJgA7QEPQMcAVoBAQFsAGcCwQPIAm3/9v21/tf6pPlk/rn+PPx7/CT8o/kj+qz+IgO6At3/VwE7Ae7+4wDBA6oCkQEWA8YBhf38/Qj/nPy2+0v8pvmZ97H3DPbv9JLyFvigAvEBTf6+A3YGfQXZCbQO/w9KDx0PMg/+Ci8IlwyOC2YIxAmQBXH+b/5//o750/nD/Ij8oPlh9vz2w/fP9w/7ZP9y/oX7q/kE+p787/3f/qoC2wKk/6b+q/9MAuEDLwR6A0IDXAE//x7/lADKAVMBNwBQ/4r94fvW+2L+vP+a/u3+xv9d/2b9Vv2O/3MCfAK1ADYBAQEq/6f+Xv/eAFYAkP7g/oD+Lv2q/qj+I/1s/xoAu/7g/6n/hf9XACsBhAQ4BbkDhgRmBIQB7wJsBpIF6wLTAoYDW/8Y/dT/c/4B/Hn+Zv6M+ib6XvtF+4j7aPw0/Xr9S/yU/Ev9FP22/jkAkABMAIMAxf8l/53/VAGoAfb/LwCG/3D9G/2a/qL/dP/i/uX+pv4q/1wAFQFqA7gFWwXLBTgItAcvB6wJtgqKCcsJrAldBycGXgWZA6MDUwMKAbP+Wv3M/Pv6BvoP++T7jvon+rb6BPtE+kD6kvto/Pz9Zf8o/g/94/1I/Sb+bACSARsA5v45/9P+3/0z/0kBeQBc/zAACgA6/kz+hP8v/4z/xwBd/yn+pf7p/qL+0f5mADIBoP/z/vX/F/9t/pf/Jv/T/lb/0P2//E39ufuw+tH6B/sQ+jT5Avo1+rr3Uviz+bX3pP0SBDsDSwVxCpsJnAnLDGEQZhENEFoS4RGwCrIIFQtgB5YFfgWGAhQAzv1s+rT4Wfkz+y/8F/ry+UD7u/m6+Z78x/6e/5X/nf+S/8D9O/52AQcCBwHVAJIABQGYABD/8v8cANz+c/4Y/gz+8P0I/TT92v3r/E38mfxw/Ej8uvxR/e79O/4R/tD9MP9mAOz/j/+//zwAvAA5AdkBdwIqAqcBpwGdAccBdQKSAtoBCgFbAHAALACW//r/SwC7/97/OAC9/xcA7v9BAJ8A/v9LANYAHADh/y8A9P93AIj/yv6G/0D/ff5m/4v/Af/W/qH+i//X/xf/9v4FAHMAiQAlAAwAmQBoAKAAnQGrAQAB9gAkAVcBdAHrAfUB+QC2ACUB+gBJASUB5v8pAL8AbABFAKT/NP+i/3n/l/9pAD0Agf9T/7T/RwAJAJD/7f/L/4f/HABYAKb/JP8I/x7/n//n/+j/zv9a/8D+0f5Z/5r/g/+I/4T/O/8l/1z/r//m/yMASABiAFIAGQAAAGMAtQCIAHQAdAAjANr/+/8QAO7/+f9FABUA2f8PACcA5f/Z/wEAJgAoADsAPADN/5f/9v8zABoADgARABcA4P/K/xYANQADAP//BAD8/9f/u//P/8b/rf/Q/9z/vf+//7v/vP/R//j/IQAmABgAMQA1ADoAXABfAFgAgwBzADIAQABZAB4ABgAUAOr/2f/p/9r/w/+x/6P/rP+p/8T/yf+1//P//f+Q/83/IQDQ/9D/JQABANP/6P8TAEQAUQBKAAkAzv/x/+n/oP/P/+D/j/+R/7v/lP+B/6z/2//U//j/QwA5ABYASQBfAGMApwC/AI8AbACGAIwAUQA8AGcANADw//H/y/+b/9X/9P+4/4b/kf97/07/ff/Y/7H/gP+6/63/dP/L/xwA4//u/yUA5P+c/+L/EADo//L/LQAFANf/DwAuAP3/EwBCAB4ADABLAFYAMwBYAHYARQAyAFUAQQAqADUARwA5ABIA8f/v//j/FwAlAPr/7f8RAAsA/P8OABwAAAD6/ygAMgAJAAsAGQACABMAHwAWAAUA5//N/8//2P/m/9j/yP/i/87/oP+8/8P/m/+X/7H/vv+//63/o/+y/73/0//g/+T/7v/9/wEACQAKAAcAIQAvACUALAAxACYAGAAPABQAGAAAAAIADADq/+L//v8EAPv/+/8CABYAEgAFABIAGAATAB4AJQApACoAEAAHAB0ACwD3/wsAFAAFAPb/+v8IAAEA/f8HAAYABgALAAQA/P/x//L/AQAFAAwACQACAB8ALQAeACYALgAhACcAKQAgACQAIwAdABIACQD3/+j/+P/9/+v/6f/w/97/1f/d/+P/4f/e/+f/5f/h/+D/5f/o//H/AQD//wAA/f/u/+7/+P/3//b/7//o//f/5//5/xQA7P/r/wQA7//o//D/4f/h/+b/CwAmAPr/DQAiAP3/CwAqACMAIQAaAB8AKgAPACoAMwAGAA8AGQACAO//9/8AAPD/3//q/+T/zv/c/9//5f/h/9P/2v/Y/+P/+f8HAPv/7v/0//j/9/8JABcABAANAA8AAQAHAAkADQAGAAUADwAEAP//EQAPABUALgAiABYAEQARAB8AJAAiABgAFwAfABsAGAAnACgALAAzACgAIgAVABYAIQAWAAwABAD0/+3/6f/l/wAAEQAWAC8ANwAvACUAJwAjABIADAAhADkALQAgAB0ADwD8/+D/v/+l/4n/a/9z/5f/vP/U/9r/+v8ZABYAGAAeABYAAADw/wgAIgAZABYAFwAEAOn/xv+p/4r/Yf9d/2n/Z/9i/1H/U/9b/1X/Xv9d/0b/RP9e/3L/e/+B/4b/ev9h/17/Z/90/5X/zP/3/x0AWgBmAEMAIgDX/4n/Yv9N/5D/GQCpAHgBVgLdAhkDFQPSAlkC5QHLAbgBlQGzAc4B0wHaAcYBmQEzAZUA9/9g//T+zv6z/s/+LP92/7n/4//x/+X/qP9V//v+q/6E/oX+wv46/4n/u//9/+v/mf9f/yn/6/7I/sH+vv7X/g//Rf9m/3j/cv9M/y//Of8u/xP/Ov9//6b/2f8fAFkAhACKAHsAZAA1ABAA9v/s//L/8P/7/xYAGwAYADQARQA3AB0ADgAcACcALgA6AE4AaQB+AJwAuwDHALkAtAC/ALEAjABzAG4AWgBDAD8AOwAlAAYA//8MABIABwABAAIA9f/u//r/AQAEAAUAAgACAAsAGgAbABoAJgAoABQAEgAcAAEA7/8AAAQA8f/k/+H/3v/d/9n/4//q/9r/0P/W/+D/3v/g/+n/5//j/+H/5f/p/+f/5P/j/+T/7P/y/+T/5//x/+r/7v/x/+3/+f8EAAQAAgADAAAA/f8IABIACgATACMAFAAHAAoAAQD///7/9f/z//D/6f/u//v/9P/0//v/8v/t/+z/9f8EAA0ADgAOAAwACgAMAAkADAAHAAkAFQAQABAACAD+/wgADgAEAAIA/v/0//f/9P/+/wwACwAHAAIAAQAEAP//+P8AAAUACAAKABIAHQAVAAcACwAXAA4ACQADAAAABAD6//r/DgAbAA0ABgALAAUA9f/3////6f/5//7/3//s//P/3f/u/w4ADgAkAE4AWgA0AA4A+/+6/5P/m/+R/4v/mP+h/57/rf/O/9//1P/b/9H/rv+j/53/mv+N/4D/fv9+/5D/uP/a/+f/3//P/9z/0P/C/9j/2v/R/9v/9f8BABUAQQBrAHsAigCHAFoAOAASAAAAFAA7AH4AyQAgAYoB8AEjAisCGAL9AdUBlAFWAQIBqgBiADkAMAAnAB4AFAAFAPv/BgD//+T/xP+e/33/Xf9T/0v/P/88/0H/Q/9G/1b/VP9O/1v/cP9q/0//If/k/s/+yv7S/vH+DP8S/yj/Uf9n/3r/ff95/3v/d/9z/4z/lv+I/6H/w//3/ykAPABrAKEAqwC0ALsAlgBuAFwAYwBtAGoAgwCEAG4AcAB1AGcAUQA/ACUA///b/9X/wv+4/7v/rv+z/8X/0//L/8X/0P/J/5z/jf+J/3H/d/+D/4v/o/+///H/KwBYAHYAeABaACsA0v9i//v+n/6M/pv+6v62/7cAuAGtAm4D5gMgBDMEMgTEAzUDrwLXAfQAQgCu/0T/Af/j/uX+3/4R/23/s/8OAEoAYQB/AGoAQwASAK7/Rf/s/pH+YP5W/nn+tv7e/iP/U/9r/4P/gP9x/3r/g/+D/3v/cP9y/0z/Pv86//z+yv68/qj+rP7R/gj/T/+H/7//+P8fAEQATABPAF0AUABEADYAHQD3/9H/xf/W/9j//f9FAIUA4QAyAXABmgGKAUcBDwHTAH0ADwCy/3//W/9P/3b/y/8EABgAVQCgAMAA3ADfAL4AhgA3APr/yv+D/0b/CP/S/sv+uP6i/r3+7P4G/zj/hf/G/+7/FQA2AEUATQBkAIAAgACBAHsAZQBOACMA6f/B/37/Ov8o/z//fP/G/z0AywA2AaoBKgJwAp0CswK6ArgClgJ+Ak4C7QGNARgBpQBfABsA0v9z/xz/9P7O/sT++P4c/0f/c/+u/wEAHAAjADMAHADo/7r/fv9W/yT/B/8H/+b+vf6F/kv+M/5D/mT+lP7U/hn/Tf98/7//6P/q/9r/sP+H/1z/Ov8e/wL/8/71/gz/M/9z/57/4/8iAEwAfgCbAL8A8QD5ANgAwgB8ADYA///S/9z/0v/0/1sAnQDuAGsBpgG5Ab4BnAF5ATUB+QC0AEUAAQDE/3//U/8//y7/Kf84/1j/Uf9N/33/lP+c/43/h/9u/yz/9f6//l/+E/4D/hz+Z/7W/mz/4/9LAMAADgFLAXwBjQGAAWABVgFVAT4BGQHPAGAAxf/l/vD95PzT+w37kPqy+kj7avyE/vEAhwMrBhUIVQksCo0K5ArRClIKdQmZB2YFMAPwAAz/E/0Y+2n51PcX91v3Efhf+b76Hvyt/e/+PwBdAeABJQLsATQBegCV/8v+RP7F/Z/9e/04/Rr9PP2i/Vr+O/8YAMgAQgG1AQACEAKrAd8Aw/+S/oX9vfxl/F78nfwM/Z79Uv4S/8T/ggAwAcABSwKXAskC/wIqA0cDGQOLApwBdACe/y//5P7C/qn+lP6i/uj+b////3UAvADEALoAvwDdABYBQQFUAVMBHwHHAGYAHADQ/3X/LP/O/oD+Zf6D/sz+6f4H/yL/Fv8g/0f/av+w/7b/Yv/t/vL9AP3u+9T6F/p0+Xr5Rvrn+/z+DwPgBmUKrgzJDZcO/A6jD4sPPA4IDLEI+ATcASn/8fzf+jP4HvaZ9C70T/XJ9m74//lr+wf9xP5nAOYBUwLqATEB5P/e/jD+5/0v/rb+Rf+3/73/sf8FAJgAiQElAiACwgE+AQAB/QCmAL3/RP55/A37Qfow+qv6I/uk+1P8JP1T/q7/AAEmAu8CagN4AwYDUAKiASMBFgEWARkB9wCtAIoAWABAADwAMAATABQARAC0AEMBjwG3AVkBxwA6AMP/rf/D//7/BQD7/9n/9f8nAGMAkwAqAIj/oP7d/Un93/yV/Fv8D/zY++D7tvuD+yX7kvpC+gT6Lvoa+4/8WP9XA7cHvgvsDmcQ+BAjEfsQ8BDsDwgOBQtvB9sD4wBa/hn8+fmY9wL2DvUl9Rr2UPeE+K751/ri+xr9K/7s/jP/Cv/D/mP+hf7h/nL/cgB1AUYCkwJ5AvYBhwEsAQkBqgDg/z3/m/5y/oj+ev75/Rr9LPyC+277x/t5/AH9l/15/o3/6AAcAh8DmgPNA7UDkgNCA8QCfALqAUUBSwBI/y/+p/2P/Zb9kP1Y/Xf9mP0//hn/5f8SANv/wv/r/7gAoAE0AkUCMgIIAi0CqwKdAmQCmwGPAJr/c/54/ZH8vPui+qP52/ce9nT0AvOw8j3zwPTR9iT6Qf5uBK4LSxLlFqsYJxjNFjUWshXqFPkRrg3MCAIE4ABd/w7+Lfyl+YL2ufRM9AL12PXH9XT1JfV39e/2Gvlk+3f9m/4z/6f/7//qABcCagOJBGIEbAOyAb3/+f5x/xsAwgCSANr/jf+D/9X/qf8o/uT7fPk8+MP4uvpn/aP/HAEnAgwDcwMgBGEE5gPHApsBzQDR/4H/nv8dAJYAOAEpATMANP9G/qz9L/3e/AT8OPvp+mX7CP3l/sEArAGDAfgA2QAKAWIB/wFGAnsCMgINAhoBAADj/nD9J/yh+oD5UPhk9yD27/V39Rj23Pcl+sf+uQO0CRsQURXsFjsXKxWEErIRDhGXERYQhw1gCgkH/gP9ApQBIf7C+pT1GvJ18FjwDfFU8Uvx1vEC9Fn2Avpd/If9gf06/AL8uPxs/kIApQIVBEUFqgUVBWQE9AJHAsgByAAz/879mPyO/LT93/6v/2X/qf4T/kX+zP9zAfEBzQH3AHIAcQEhAz0ERAQtA2YB3f9J/+r/SABZADQAY/8P/0v/Yf8F/3z+av09/Ff7t/q5+hD7NvxA/az9df0v/fX8WP3M/i8A7ABpADv/0P1O/Rz9PP3w/JT70Pkz+Gn3N/f89yD5SftQ/fgAugboC7wQuhV7GPYXbxehFZ4TJBP9E7AUAhNWD7oKZwXm/x39g/of94/0mPE07xrvu/Bl8n3z0/L98ULyq/MJ95767fzs/dH9Sv1Y/lYA7wFrA6sDWAIKAUYAff/v/nD+JP6C/bP8Uf2r/hv/KAAbAQEALP8d/+r+Z/+TAQwEpgUjBj0GdgW2A+ADiAQnBAoEWASRA9wC6QKMAqUBwP93/j79RPzQ/Kf9B/3h+wf7ivlE+Yn5UfoZ+xX7Z/sJ/Hz8FP2C/ob+VP7x/R/9A/3B/Ib89fu4+qz4ufck9xj3UfgO+q/8uf6LATYGqAoTDkkSYRWqFSkWbhYwFmgW/RbDFpoTaA5ECo4HkgSNAtoA+fyK+Bn1GvMU8mDyrPPL873yJfI08+zzYPVc+GT6Ufqi+Sz6vvrb/Lf/XgGRAHX+8/00/kj/bQE9BCcEagI+ARwA0v/F/2wAw/8b/ur8wfyB/Lv8yf7j/28AmQAXAXsB7wF5A/wEmgXsBGkEXgN3AlICigKUAmUBMAAH/+v95Px3/JT8wvwW/fT8uvxC/Pb7UPyg/I/8Sfwt/Cb8nvxV/Wv9Xf0G/cb84fwy/eD9X/6w/rn+Z/8/AEUBpwJhBJcGTQjyChUNzg1MDWwMNAyWDPsMQQymC8QJMQhYBysG3ATiAgMB6v7e/KH6svnl+O/3XveS9qj2Ffcp+Gj5Xvqd+sj6F/up++r8+v3d/j//P/+3/qj9m/zX+4v77/u7/JL9Sv7n/sf/lgDNAGAAd/9F/qj9Ef6c/24BSgIvAokB6wC+APcAVAGUAZIBPQGrAA4A5f+SAHABxAEUAQ8AU/9q/0QA0gDEAOb/2P7G/Uv9bf3t/V/+Pf68/br8w/vg+gn7Gfwu/QX+aP4f/ij9QfzC+9376vsd/MH8g/0p/5oCOAdGC0YNgA0mDaAMLA1JD38RExPdE58Sng/hC+0I3wf0BtUEpwFV/T35QveI9oD2y/aQ9uX12fQu9FT1dPdD+Vv6t/k6+M/3UPk9/Dz/rABDAB7+gvuG+i/7FP0d/xsAZv+b/ff7u/sP/dr+AgBQ/5v9fPzm/MT+GAHOAl8D1gKdAb4A4AAqAtoDQQT1AvUAkP+y/wUBTwKCAoEBsP8D/uj87/wj/kT/Tv9B/gb9nvxZ/bn+IgB+AI7/Ev7y/L/8nv0n/7IA7gCT/779WfzR+x38x/yS/VL+jv8yAvQF3QnXDPwNbw2IDBgM2gxdDkIQeBHfEG8OmAuyCQgJ1QiVB8YEyQAL/SL6UPiR94D3DPfQ9Sv0OPNW85f0WPY796v2yvUL9sL3hfpi/Zn/3/+K/v38X/z1/IT+IgDjAGgAU/+R/jv+Wv6j/i3+0Pxs++z6XvtX/L/9Rf8OANT/Wv84/9v/CQFXAsYCUALrAUwCMwPyA3AEmQRGBDsDAwLmADcAGACz/8f+mP3b/KX8uPzB/Kj8HfwG+1j67vkx+hP7mPyU/fz9/v1B/nT+tv5T//X/sAAmAkgF+gjHDEwPrxBWEAkQJRAjETYSSxOkEx8SQQ/aC6gJ9wfkBr4EgAEw/VH5T/aL9P7zA/QF9AzzjvFs8Ofw2/Ij9RD2w/VL9Yv1Kfch+qz9dgB9AaEA+/7U/Uz+CAC1AWkC+QHwAOD/v/90AJcBtgGEABf+8/sP+5n77fz5/Y/+Vf7q/VL9yP3+/rgAKwF6AK7/w/+dAMEBFQPcAx8EvgNdA40CGQJNAmsCWgGu/5L+I/7m/cj9Xv1g/PL6q/no9/D2k/dZ+fP5CPqg+uD6lfpG+1798P3h/m8C3gfLCmEOHBR/F8sU5BI/FtQYPBfiFjMaDRmZErsNQg0LC2cHhAVnAzD9Eff89E3z0u867pLvk+5R64Lqfe3f7xfxE/Kh8ivy0vJM9Un4o/un/sz/Sv6q/Zz+7/+dADcCZQN4ApYA4v+ZAGUBSQJUAusA//7u/Sv+f/7d/88AZQF9AP//7f8oAUYD9AOcA8oBTQKhAeAC9wL0BHcDvAK+AeMBAwF2ANcByACD/xn8BP2t++z8h/tl/Br6dPkX+GT3A/dl9wT5CPhV+Jn3Sfmq+Jf6Y/tD/ez9igFfBoELuA8FE8YUihQhFaEWKxnrGtAclxzUGdwUTRH0DnUNMQstCGsD/f3v+DD1tvJS8Zvwx+4B7Hnpj+mZ6zju6e9o8BHwQfAP8lT1CPoV/nUAUQAT/1r+MP8XAUkDewS7AykCsgBDAFQAHgFbAUwA+/0B/Ff77/sv/bL+h/8S/2b+m/7O/80BwgPnBGUETAPrArgD4ATBBWoG9AXCBB0DvgLgApcDZwM9Avr/8/3r/Lv8//zA/E38mPpY+Fb2zPV59tv3i/gK+MH2JvaG9qf3/vjN+jT8Hv38/SkBSgbIC7kQjhNJFFATCBMwFAUXkBn6GyIcRBlrFFAQTA5wDQ0MBglgBK/+Ivnb9N7yRvKv8ZPvkOz86anpMesk7kLwq/AV8AbwN/Ec9N34rv2jAEoAvv4R/gP/FQGdA14FPgWmA9QB4gAWAQwCrALBAVj/wPzd+5T8Df6N/y8A0v/D/jT+zv7VABYDZQQTBO0CVAIRA0wELAXOBdMFEAXgA/kCCAPBA38DBgK4/8f90PzC/MP8nfzc+xT6zvep9eL0tfVY9/z3cvey9lD2nvYy95T4P/q4+5z8j/51AqsHYw2AEa8T0hPJE1wUjBZGGfAbCx0XG9kWTxKiD2EOdA0QC+sGNAFz++L2KvTQ8jLy8fA/7rnqQuma6ojt3e+P8DLwse8s8D3yV/bh+tb+FwDT/iv9fv3e/5oCjAQVBYMEAQOmAVsBFALrArcCAQE6/oz8hPyc/ZL+5v6R/rv96Pzv/FL+cwBZAuUCWwKnAUICiAP+BPIFzwbaBncGsgWGBb8FugXlBAAD6gAT/3r+CP6R/Ur8tvqS+Iz2v/RI9OP0m/VD9aP0TfS89HX1h/ZA+Bj6w/sY/n4CfgcXDdkQfhMqFFMU7hR3Fz0arhxmHWUbzhcMExsQoQ7GDTALJQdiAQf8JfcH9KTyz/EV8AXt4+mS6OvpnexS7yvwtO/27qrvLfKT9nD7W/+IACL/bf2n/UAAVQNHBZgFtgQdA7wBnAHBAsMDCQOdAKv9D/xX/Nf9Kf9V/5j+sP3r/Fz9F/+wAW4DZgMsAloB4QF4A1IFLQarBg0GfgV6BKMEagVABmwFRgO8ABv/yP6W/qD+m/01/Lb5TfdM9Vz1HPYF94/2ZPWJ9LD0efWe9iL4ifkD+7j7zP3OAQgIvA28EQUTfRPQExUVdxdaGvIcSh3QGg8WHRL/D/8P5w7ACzAGGABh+j72k/Oz8kXyKfBH7C/oKedU6fbs7e6J76LuZu4o7wrysfYT/MT/nQAr/879Lf9eAqsFsAbwBUYEDQMUAm0CigOCBIMDWwAc/dn7yfxt/nz/Cf/0/Yf8FPzx/OL++gBJAhUCAQGpAKsB/QOoBWMGVwYgBoIFQwW1BdQGHAc/BYQCKABf/yj/Pf+Z/uP90/s/+UX2l/Sm9P31ufYH9tD0VPR89VT2T/cs+DT6jfuU/Gj9VwFWB8UNiRHZEiUTChSRFT4XWRk4G8ccLhv/Fp4R9A5SDjwO0gpmBVX/sfqB9hjzJPH+8Gbwpu3O6W3nMulI7dzwf/Gh8NTvF/Ea85X2JvsWAIkCsgGw/sP95v8tA/EEiwQPA/4BlgGaAYACfQOlA54BW/6Q+4z7lf0OAKYACQDg/kX+Sv60//MBDAQ+BOYCZAFJAdgC4AQJBjoG/wVoBbcE8AM7BPQE0wShAuL/vv0G/rr+3v7D/bP8/foy+a/2XfWu9fP2j/fq9rX1ivX69oX3xff495P5o/rh+8f8mwBYBgUN4hCaEgkTHRQuFfoVVBd8GdcbXhsBGEwS4w6bDWgNmQp2BkEB1vz895zzyPBV8M/wyu/M7NzpSerq7BbwWPF58Sfxn/GV8h31CfnW/aUBIQIEAJH+cv+DAVED8APnA8QDzQLJAbsBBAOYA4ECQP91/LT7Cf2W/nn/vf9//2L/uf4m/6kAuQMOBbUEkwKWAgIEDAYSBywIdgi2BzsGLAQ4AwgDogP7AY7/mvwe/P/7l/zD+wz71Pld+Lv1hvNX89v0+vZB99f2Cvbw9sj3/vgh+T36UfuI/Cb9P//4A+UKAhHXE3MUDBRZFPYUkBaEGEgbJBy5GSQU6A5XDB0MJAvKB9sCUP0S+ELzBvBz79vwLvFe72Pspeot7NfvYPIY8+/ytPI+80v1D/lD/rsC+QP/AQX/r/0i/5QBNgPfA5wDIgJpAOb/vwBvAp0CUwCn/HH6uPqe/IH+j/+CAIwAq/+6/kr/ZgG3A/YEUwRYA20DDQXMBroH4AjvCMoHOgVyA8kCywJ/ArUADP/R/Jf87Psw+8j5N/ml+ID2sfQ+85j0zfXm9wf49/ds+B/52vlu+rb7dfza/jwAUQEqBEEJfA6IEr4UFhQnEzoTARQjFUsW/xZtFjYUhQ8oCy0J/wcdBusCuv2L+JT1gvOd8eXwmfC08Hjw6u6M7lPwtPIe9CH1C/XV9a73Sfot/QUAAAIQAhAAbP7b/sv/LgCOAOUA/QBjAb0As/80/8oA9gA1/6H8FPwj/d3+CQAYAIEAQAFCAkkBVgC3AMICJgTkBCIEDQTzBPgFSQYsBpQFtwUSBq0DwQE4AG//d/7c/vv8yvtb+8T6Fvmb9zb31Pag9iL1VPWd9Zv3s/g2+u/44vmu+nn7G/s1/Lb9UQI7CEkHpQhbDSMTnxSUGcMWxBMaFUcXPBVuE3ITWBJPEgUMXgVkAfIARgAT/hf4sfJb8QvwLO4t7+nuqPAt8TfxZu/b8kP06fTG9yj5ivtX/av/Lv2fAYQFCQdbAmP/ewCUAh0DvwExASQA6AIJAzP/Fvzg/CH+IP71+0v6kfu4/i4AAwC4/pwAjwNVA1EC0gJ4BDEFRgaVBa8F+wUrBhUFvQMBBLkEiwMvAEL+0/yy/An9I/wK+Tn5avrT+G/1tPSV9Rv3tPeV9R70qPUT+o/74/lx+Sb7SPso/YT/5/w2AG4NnxHIDBcOhxTCFwQeQCBsG+YXkhlOGoQVthD2Di0Srg5gBh/9H/cS9n34W/aD7izrCehm5lbot+pZ6qPsSO5b7NHvHfTp9HL1AvrB/h8CrAIqAX0CRgZTDS8P2QgYAwwGTQnuCEAIXwU5AwsDxQKG/cn5ufnp+4/7DvkA9xf2X/iD+yH+y/3K/i0AlwFkAr8DYAWuBkoHdgdBCNUIYAi6B9YFyATlBKYDvP+B/Bj8e/s1+2r55/dz9P7zTfV39Grx/PFJ9Gz0WPVT9Wn0nvYp+9H8P/s5/Dj+tP6BAY4FawSTBfMUUxwrF+cVwBsmHEMheSfBIRsbpRrmGTcSKgwuCWgKigeD/0D2GO0r6UDrrerX5knnW+YU4vHjV+dR6tnvqPG77/Xz0Pnh+Hb68PxpAeoIAw0jCD8EGQX7Cb0QfA9iCL8EcwTUA7wE3wMUAUH/6P0b+xn52va19hv3cPjB+Xf7GPtR+8D8rf6tAk0G5wZeBOYDEwUrCI4JdQk6CLYHDAdsBtUD4//7/T7+IP0o+wT6EPhL9fr05fXY9Nzz2fQP9VXzx/TC94v5RPlb+ln6hPu+/k8BgP/t/oQC6QOlBFwG+QSeBEASZB/PHV0Y+xgIGWkbVyGCIbobGRj3FR8PgwW5ALUCLwLy/NP1vu2b5ufljObt5kHpCeu26UXptunw62nxmfTO9Ub6kf9O/2X9Gf0TAd0G7Qs+DUQKeQTNBKIJ+QlcB4AGTwPA/uj+3v80/n77Ofrw+E34JveT9l31EfYZ+m/+2f4t/x4BQQJgA64F9Qe2CNgI+AcDCDoItQiqBwkFVAG8AMEBcgDn+wP4OPZG9sv3DfeP8yPyKvUZ9oz1/vUO9532pPhB+0z89fts/cL+Jf8YAegD6QJwAOoB5wIIBHEHiQjeBkEPEBucHQsaYxlxGIkZQB4EITAdABcVE/cNXgSr/J/9Uv4D+yz2fO+u5tLjoeSH5uvpz+xa7XDuWO5d7tny7/ZT+Y39iQEiATAATf7h/h8E2QlXC3QKKQaDAgwEUAbKBU8EDQI2/73+zf3x+6H5Bvii9xr5avg190b39vc0+Tn8J//aAb4E6QX2BQcGQweZCc8L0QrwCF4HPgZFBXYEAALD/87+hv3r+nL4OPbs8w30vvYN+MH28fan99X23vYm+S/6+foC/sQAwf9n/uj/PwBb/pYA6wPMAOD+vgKEAdb9fAK2BU4DPAtgGjAeQhrCGCQWHRMRF6Qdhh0PGLIUjw8PA1b4Z/gU+877Evyj9tXroeV65Mfkrei/7pLzb/UC9K3x+/Gx8733qv2vAm0ENANyALH+K/4pAucJGQtpBgsG/QWuAUECHQXKAZr+BgEqAUD9CvoG+HH1XvVY+YH81fvj+4z90fx6/JIAGwU5B28JYQqqB+0EzAUQB4sFgwPoA80D8wDe/fn7lPl2+fz75Pu/+Dn3a/aS9Wb3Lvpd+3j82v2Y/NX69/rv/Bv/AwEjAd0BQAL1/jb7ePuv/G3+fAEgAUj/Pf0j+0b9xgGLAkoMnBtlHtwa9BqMFRwSHhj0G00c5RuYF4APIgOu9bT0Jfj++Jz72Pgu7R/o0uUr4kfmZ+759K76F/rB9Y71CfTE9ev8HgLVBCYHvAL0/dL8Zf6PBKYJywdPBdMEfQNbA2kCSAFr/5D9Ff9SAV/9WPqF+Yv2APci+w/9H/4Q/17+gv8AAB0Cswa9Bw4Gawf3BeQCqQMSAxIAjP8xAb8Agf66+jr4aPbG98P6aPzX+3D6rffE95r6Uvx0/3UCeAFS/on9yvwx/toAHwPPASUA4f6n/Ir5MPqf+wT7w/s4/VT8l/l2+uH9qf+JA6ES3x3wHIAcFx0wFm4Vzhu2Hdcd0B0UGAsNCv9z9Yz2xfe69075fPVv7b3pE+V14qrnMPAX+ED8mflY9kv07fI3+Nr/IgQqB9AFsf+e/cX+fwEJB70JPggTB0gFQgPEAs8BFAEiAJz+Ev/K/pH67PZi9Sb1FvgZ+4n7g/vi+/r7mvxQ/QYAHQSIBlEHWwcMBbACbgI8AlsBrQH7AiEC3P7r+1n6R/nI+oT9D/4s/Rz9Ofyx+xX9bP41/g7/TQExAtQAw//D/2v/4f54/mn9BPyY+/P6C/k390v3LvfN9p74YfqI+R78hgDXAAQGrhRHHhAgsSEkH3QZ/hh9G28dsR/+HUYXvQsR/YrzvvII9ff4lflS88PsX+ex4WPiQuld8Bb4V/wW+zf4DvUG9HX5U/9vA3QHzQeMBJcChQEtAjAFpAZ/BpwFGAR0A/UDLwKX/qv6Efm4+eT69Ppq+aP2qfUF9pb1efZ3+ab89P7AAOIBNQNpBAgGJQcAB0AGOQYnBkgF4gPOAk0BQf8V/qz8j/vf/BH+vv2D/tv9Jvyn/Zv/MQAuAtoC8gGdAikC+P8J/w//kP9N/+z8sPsr+5D4qPbX9fzyWfEH87Lz8PJC9Cv2Zvfd+tH+eANkD4QdGCPDJNgksB+LHLke3h/eIMUgPBsWEm4EsvYc8yz1JfVn9kb1A++G6SjljuGX4zvqdfJ3+pf9L/xT+fj2pff2+0kBLwdeChcJvQaHBF8CewI6BEAFSgZDB54H0gX7AZb9WPnK9q74SPth+iz4TfY/9Wr1pfXp9WP3QPmJ/DEAhgFoAlAEiAWrBbQEZgOgAx8E4gToBXsEDQJqAWoAhP4I/jP+sv4OAG8CtQMDAiz//P27/Qr+ov9YAesB5wDS/3T+f/z++t/5R/gh+Zz64/m++Vb5j/W68snyhvLa87f3kvpm/FT/owCSAFEDfQcyDFcXPyQBKbEodiZeHwYZ8xbEFtkYJBsoGFMOiP4A8VrsQOz57svyzPFZ7hTsSubw4SLkzupm9K/9eAB3/9D8d/mk+Zf8IQAwBKgGxwUbBOEALv/l/3YABQFmAzcEPQTJBGwC4vxH+CT4qvpm/V7/gwDT/Y36//hz9xj3kftRAbcE3AUgBLEAC//BACoD+AWtCCwJZQYwA/////02/lkAjQOOBYMD3v+c/Hj6+/vI/lP/b/91/5j+Ov7s+zL5KvkZ+jb70f2X/Zn7tPkv9870LvQp9fH4OPwf/JT6q/fJ9UD3+/mk+wkALAVUBy4HDgiPBgoIYRTpIRcmDyfqJMMcvxY2FJwTUBbjGEoWQw35/ZDyje7l7cPxxPXz8yzzI/K166TnyOhc7e72vP5iAPT/d/xv91T30PrJ/mECtwMDA88Aaf4a/tL+Of5//qz/sAFHA08C4/7A+wf5gfi1+if9TP79/FD6NPmX+Wn6if0t/47+zf/AAXQB8ALDBQ0HIgggCR8IBgbPBNAERAWSBUEGfQZbBbYCaP8R/Qb9eP5J/9/9dvx6+y/58fcO+jn7x/oF+0j8v/yJ+2X62Ppz+gX6//vh/Oz7Ovtj+077dfv6+r36efp4+3v8MvyU+zb8wP1m/j/+LAF2BUIHPhCsHTMh/R/xIUMeFhm9GKEZtBvIHKwYfhFKBVn4qvRA9Pbz2fYt9jTy+fCR633kS+Sn6CHw8vjs+2X7nPlY9Yz0avij+zz/8wLHA24CWf+Q/aX+aP+LABQDEAOPA6QEdgGV/dj8S/xZ/nkC7wLY/yD8uflN+bD5SPsT/hf/aQANAq4BgAHIAmED0QSzBmsHiAeqBh4FQgPwACQAnQF3AgAC/P+//Dn61PkC+8v7cvvu+zr9o/39/Un+bP2E/In9pf+WACwAnP8J/0b+Ff00/JP8JPzG+ub66/pG+VD3t/Wy9bz23fet+u78jf1W/9n/z/8JArcDIwt0GjsiwiLPJIohNxthGXoXNRe6GSIZDhYoDHz7wfJT8Svvd/FX9KDyx/Hg7kPoBuX75V/sKfev/WMA8wAB/Mn3x/iO+or+JgSQBvIFegL8/bH88fyu/VoAHQNrBZ0FQwLN/Q74y/MF+IX/YwOoBNQBDvzq92P1uPbK+///AQWyCNwGUwQkAjX/OAH3BF0G0giFCdQF6QGi/fL6N/xL/rcADgL2/i77tvkA+UL5Ufm2+p/+iwGbAg4D/v99/Fv8MP4IAHUBpAHAABH+c/vY+oD60voY/Mz77/kN+dr40PlP+qH5Wfm2+m78cP68/ub+/QBqAlsDiQamBqIH/xNvIIciFiTjIwccERcLFmAV9BcPGW0VJw/tAG3zE/Ax7/TvO/Sw81rxue7j537kWebC6RXztvzb/oL+Z/uF9tX18vfS+nD/3AFwAoABVf6Q/LT8RfzA/RcABgFHAkMCMQB//r38R/yzAKcFBQeABgsFagINAKz+ZP8dAX0CNQXXBg0EgQBi/qH8bv25//cAWQEVAVEAiP4B+3z5ovr8+/X9r/6u/L/6ivlb+UH7vPyU/sIB0wPLA3cCGQCg//8AjwJBAycDmAIKAaD+f/1y/PD6dPsS/Ob6ofh49lX2oviK+bv5wPpI/E/9nP5r/9L/iQAWAkIElgcJCagKvhNkHfUeRB94HzUbDBjCFRMUPxaZFo0SjQ2iAg338PLK8c/xbPMW8qnw3u6o6VPmbuap6Hfvx/bW+WH6rfj39kL3vfhS+/f99v6+AGMCUgIaAo4CGwNIA3gCtQINBL0EKQauBsoDrAGnArICfQEAAGv+C/44/l39mvxu+8v6efzC/d79mP6h/iD/UwG9AU4B6QGLAWkBZgKJAef/ef89/4b+e/0L/Yj9//1y/kb+1vyW/Ir+QQErAygDIAKaATUBxABiAF0ACAFaAVwB1QDO/sz8Ovyf+1j7Bvs2+n/68fsR/Pn6W/rd+kn71/s//VX+VP+vAOQBbwPhA3AEoQyIF1kbWxyKHXAaXRZ6E3MSGRUeFpITURDBBs35ZfRZ83byIvPM8g/y6fB16z3nXudR6AbtlPQM+CP5uPkD+Yv5y/od/BT/jAHlAsQEXgX3BP8EvgTEA5cC6QJWBcIGegbwBPQAb/39/EX+9P9DAP3+jP6y/Fj5Pvjz+HD67/2oADYBfgDQ/hT+Af9MAB4CmANuAygDCQKn/5/9R/1d/gAA+v9+/xT/Sv4w/sr+bP6u/loAYAJZBFkEfwJ9AWUB8QBoAeMBogJ4AwYDOgG1/7v9Af2r/b795vws/Fj7sPqu+Rz4/fbX9nz4Xvp6+q75Ofrq+nj7o/xI/7ABKQYcD24XJBmAGIgYChgMFh8UGBZEGlQZ+hQfEJoGzfyB+fz5CPqq+B32C/Vl8TLqdua/5zjqGO/O88/1MvZG9XD0NvZM+C/6df1hAC0CvgOwBA0FqAVeBbcE9AQOBs8GTgeHBpgEagK9AMz/LwCy/w7+X/1m/VD88vrd+Vr56/lO+xX9P/5g/s3+u/9i/8j+AP/r//gA8gEhAiICzAF+AS0BwABCAL0A+gEUAxQDHwLNAO7/KwBLAW8CuQJcAq4BnAAT/37+sv4i/+f/4ADVAA0Ahf7L/Iv7Jvth+xH8Ufwi/JP7S/rE+DD4tPhz+Rn6D/uF/Fz9If30/B/+AwCDA+sJkxCFE2sUqBUXFgEUjxE0EiUV3BUTFGARqQxLBjUBYf7l/D37U/ld+EP2LfHC7ArsEu0r7ijvsfD+8sL0ZvV59pL3EfhD+dP7GP+wAl4FzwZTBzMGIAReA/oD1gRABeIEPAQtAwcB6/7v/Zj9A/45/zIA4v8//pf8GPwr/MT8Rf6o/xkANgA7ACoA7v+L/4b/3f8zACwBlwIXA2cCYQGtAKAABAGeAUoCcgKdAVgAbv/2/sb+2/45/8z/IwDC/yT/vv5b/mz+rf9KAe0BOgEwAJT/I//M/tb+dv5C/Qb8Wvsx+0D7Gfts+jz5G/jV93P4cfk8+qH65Pqb+/X8t/7KAMsDpwc2C5kNxA7bDq0OhA/EEVIU3hXSFfYThxDzDBoL1QoiCrcH0wM8/1j7QfmM+OL3UfYW9Fryo/HT8b7ytvPh83zznfPe9Bb3yvnj+4f8ivy+/BX9zP3W/q3/cQBFAdsBzQHxAAYAuP8kAE4BNQLGAY4ALf8e/j7+a//bANYBlwGAALb/sf93AG0BuwFPAbkAlgAoAcUBqwG9AIz/6P4A/2r/1P/U/xv/Ff6O/fz94f55/6n/gv8Y/yT/1v+QAPkAEQEvAcUBWAJWArMBWADE/vT9C/5e/in+Tf06/Aj7IvoU+mn6f/pV+g36K/rK+qn70vwI/k7/ugGWBZoJcwyPDUQN9AwcDpcQHBOUFDgUExJvD2oNfgwkDMsK7AcuBAUAwvxo+6D6Avmn9l/0+/KL8sDyb/Ov8/nyXfLH8if0cPZA+Xj7bfyb/Lb8C/1//f79w/6q/zMAcgCMAEsADgBFAJ8AmwBTABUA3P9x/yT/VP+Z/4z/bf+1/0sA4ABVAVkBrADb/43/DQAuAWECEAMcA3wCbgGkAJEA7gAmARgB4ABlAMj/ff+B/3z/Yv9i/0P/5v6K/lz+Sf5F/ov+Cv9y/7//6/+s/wT/Of68/bn91/37/SP+8P1s/fX8fvwc/ND7vvsB/D38Xvyz/FL9QP48AHkDMAcXCrQLIgzaCxwM1Q1nEJESXhNrEpYQtA6iDVYNtwytCgwHrQIz/139Zvxy+5X5uvYb9MTyuPKb8zv0x/Oj8rDxs/FL8+31OPiG+RX6fPoZ+yj8Uv3+/S7+af7k/oH/LQDPAAkB3AClAJMAhgBFAPT/0P/c/wwATgB9AGgAHwAeAIoA+wATAegAfAAzAJ4AxgEbA80DqQMTA5gClQLPAvECqQLfAQoBmQB+AJYAngArAFr/hP78/dP91v2m/Ub9+/wy/dz9jv4K/yH/8/6q/kr+t/0s/aj8R/xN/LH8If1N/QL9N/xR++j6YPuH/Nv97f65/2wAAwLvBGYIUAsHDX8NOg1dDaUOkxASEmISJhEaD0ENXQw/DHIL3QjuBLkAov24/NP8F/zi+av2uvN48hHzi/R39cj0+PKj8dTxnvM69lT4JvkY+Ub5LfqD+5D8AP0b/Xb9cP7b/y4B9gEvAg0CygGsAakBdwFWAWwBnwH0ARICogH1AH4AfAD4AGcBEgEjAFf/Wf8lADoB2QF+AbEAQgCaAIYBVAJaApcBlgAtAKwAmAFEAi0CawGGAPn/1v/n/6z/Ev+C/kP+VP6s/vj+zf4n/kX9iPz9+6L7eftY+xz7+foB+zH7ePvE+xj8U/x7/LP8K/3//UH/qQD7AXUDWAW9BzkKOwx9DdANkw3hDfoOPRAoEfwQiQ94DaYLhwrCCWII/QXgAsn/wv30/GL8B/uh+Oj1HvTO84r0W/Uz9fHzgvIB8u3y1/Sr9o/3n/eq92n4+fm3+7384PzR/F79xf6JAAMCyQLHAokCmgLhAjkDdgNuA1gDbwOUA54DYAPLAigCywHGAa4BHQFCAKH/dP+T/7b/f//s/nn+qv5d/x4AcQAPAGT/Gf9t/z0ALwGaAUABlgBGAHEAuwDNAFwAlf/t/rv++v42//r+VP6K/eP8jPxl/D/8/Pug+1T7Rfty+8f7M/yj/O/8Hf1I/Wr9of06/jv/cQCnAawCxgN6BeQHiwqrDLINoA0lDUANQQ6EDzAQqg8GDgwMmQoFCpoJQAi2BYUCl//e/VH9vfwj+5b4HPa69KP0SPWk9ez0ZfMx8jjygPM+9Zf2KPdF97/3+PiP+uf7l/zI/DL9P/60/w8B6QFUAqIC/QJwA8ADkgP9Am4CQgJ7ArICegLEAeUAaQB2ALEAmgD0/yL/1f4r/8f/PgBCAO//0/9JAB0B0AEBAq8BQgEoAX4BAwJBAvsBbAH8AN0A4wCnAOz/6v4m/vD9Jv5U/hj+g/3y/LP8y/zd/JX8BPyB+2j71ft5/Of85vyu/LT8G/29/Tn+MP7c/c39XP6Y/wEBGgIaA38Eiwb9CBELQgx7DEYMrgz8DXYPTxDuD2wOugyrC1kLFgvACQIHpgO2AO3+GP4Z/RL7TvjD9Vv0UPTX9MT0q/MX8iPxm/FP8071qvYe91b3NPjb+cD7I/2d/Zr96/0C/5QA5gF9AnoCRAJPArICAQPbAj4ChgEyAU0BeQFeAd4ASQAcAGMAwAC8AB8AWv8F/0b/1v9LAF8AKgANAFYA5QBTAVwBEwHIAMsANgHMARwC+wGgAVoBUgFfATQBvwAhAJr/av90/2r/Iv+2/mL+Nf4K/rz9O/2o/E38R/xq/Hb8UPwU/Pv7N/yz/BH9B/2r/Gb8o/x//cT+9f/CAI8B/gI9Bc8H4QkCC2ALjwtKDKwNCg+1D2UPWg5IDZ0MRQywCx0KgwehBDoCqwCh/zr+9fs1+d/2lfVH9Ur11vSp81PyqvEh8nfz5/Tm9Xj2//YD+Jj5IPsV/Hj8sfxe/bT+QgBvAfABAwIoApgCNAOUA2ADvwIzAgACDAIQAs4BQgGyAHcAlgC6AIsA9P87/9j+/f50/83/v/9u/0n/lP8vAL8A+QDUAJwAqQAPAZgB/QH/AZsBMwEUARwBGAHpAH4ACgDm/xcAVwBWAA8AwP+T/4X/b/8Z/37+1v1P/QL95vzB/Gf88/uV+277evuI+237Lfvx+gv7sfuy/Ln9pf6m/x0BOgOwBfMHlgmiCngLaQyYDdkOvQ/+D7APHA+JDgYORg3oC8MJNQfRBN8CMwFa//r8VfoC+Fr2VfWd9N3z+PIa8qnx7fHA8tPz3/Sw9XP2jffz+Eb6Ufsf/N/81/0P/0AALgHFASQCfwLPAvMC4AKVAjYC8QG9AZcBbQEaAcAAlwCdAL8AzgCgAFgALAAsAFAAdQB4AGAATwBnAJoAvQDFALoAugDlAB8BNgEcAcoAXgAgACIAOABFAEUAPQA9AF0ApgDyABABEAESARIBCgHsAJ0AHQCG/+n+Wv7I/Rn9X/y0+xr7lPon+tD5kvlp+VL5Z/m2+UL6DvsQ/Ej9zv63AAEDdQWyB48JGQtiDJQNzQ7mD6kQ9hDREG0Q2w8HD98NQgwiCsQHgQV2A3kBRP/I/E/6K/iC9k31Y/SN87fyE/Ld8STyyPKX82H0IfX/9SD3c/i6+cr6pvt5/Hn9qf6//4sAGAGAAeIBRwKOApcCXQL8AbMBogGzAdIB4QHIAacBpwHBAdcBzAGnAYwBkgG2AdgBzAGOAUMBDwH3AOkAzQCjAHEAOAD//8n/jf9S/y3/G/8Z/yn/Pf9L/13/hf/a/04AtQD7ACEBLgE3ATkBHQHYAHAA9v9w/97+Q/6q/Rj9jPz3+2H77Pqg+nD6Uvo4+jD6TfqM+gn73vvz/Dr+tP9ZATUDNgUrB/QIfAq/C9oM2Q2qDkEPig+ADy0Plw65DY8MGQtrCZMHmwWUA4kBav8x/Q77M/mj91f2VfWL9ObzePNK81XznfMe9MD0ePVP9k33a/iO+Zj6jft2/FL9K/79/rL/VADtAGMBrQHNAcMBrwGfAZUBqQHUAe8B+QH7AfMB8wH8AQgCFAIeAjICRQI4AgYCxgGFAU4BIgH/AOEAvQCLAE4AAQCm/07/A//J/qX+mP6X/p7+s/7Y/hH/Zf/D/xEAUQCTAOAAKAFVAWEBRgEFAbkAaQAIAJ3/Iv+N/ur9Qv2g/BL8kfsg+876l/p5+n36ovrw+nX7O/xI/Zr+KgD7AfED2wWWBxsJcAqgC7gMtg19DvgOKg8ID4cOug22DHcL9Qk7CF0GaARfAkUAIf4L/B76dPgU9/T1C/VY9MvzavNJ827z1vN09Dj1GPYQ9xT4HPkX+v/63vu//Jn9Yf4W/8L/YgDlAEEBeAGRAZgBoQG0AdUB9wEcAjsCSgJJAlECZwJ+ApACnwKjApACaAI2AvoBrQFkAScB7AClAGYAKwDv/6n/Yf8j//z+5f7Z/tv+6/4H/zP/b/+3/wIAQwB9ALwABAFJAYQBnQGKAU0B9gCKABsAof8U/33+7f1Z/cH8KfyZ+x37uvp4+l36Z/p++q36Cfuk+4z8wP0o/8cAkgJrBC8Gzwc2CXwKqQuxDI4NQw6wDsYOhQ7wDRgNFwzbCmcJygf6BQwEDgL1/8r92vsr+r74bvdd9nH1qvQS9L/zqfPh81z0+vS09Wb2Q/c4+DL59/nE+o37cfxX/Tn+CP+x/yoAfgDsADUBRgFNAYEBhQF7AYMBwQHrAeMB4AEVAmoClgK7AtQC6QLQAtkC9QLmAroCnQKRAnQCOgLrAb8BegE3AcYAaADo/5b/Tv/i/lD+AP7v/b39qf2S/ZX9of0y/nT+nv6z/kb/SP8d/9T+8v7s/rz+hv5Y/iv+zv23/UD9IP3d/NH8Kfy4/PD8cfyf+17+gQCF/mb+MAQYB2IE4QW+C3oNKgpcDNwQHxCtDGUP6hETD3MKOgslDc4JWQQkA3sDawA0/N35s/lp9570O/OO8/bx5fCp8ETyjPLA8UnycvXc9mf2ivda+h780Pv+/Fb/vgAdAGEB4gKaAwUDxANNBCYEIwN/A8sDBQP/AQoCqgJDAnUB8wC9AeABqAHsABABGgFSAS0BUAEWARYBZgHIAXsBzACpAPMAMgGWALr/Yf+h/3P/7f5c/gT+6f3l/aL95vym/Cn9gv0n/eb8P/3I/eH9fP1s/WH9lv2c/Zr9Qv1+/bP9Pf7r/aX99f3i/sH+vP5F//T/yQCVAmcEgAR2BU0I5gp0CkgLOQ3GDgIOfA6vDosOYg2WDfMMeApnB38GJAYmA8H/lP2z/MP5nfeF9d70P/MM883xQ/GU8Ifxv/H/8azy9PMp9Uv2UPgz+a/6ZPwB/87+j/88AcwDiQP/A5kEkAW7BTUG6QVKBU0FawVIBf4DVgOkArgC8QFyASAABQA5AHMAG/9k/pf+Lv/w/p3+g/6t/jT/n/+e/2D/4f94AKYAMAAdAFMAuwB2AAAAf/+K/5T/dv+E/iP+Wv5q/qz9cv1n/XL9ZP1H/fb8xPzd/PD85fye/Nv88vwz/VD9VP3j/JT9a/5v/j/+Wv8hAEQACAK0BBcFAAUZCA0LQQunC9gNCQ89D5gPnQ8CD7EO0Q79DX0LlQiHB9EGQgTNAMf+Kv3A+k74K/Zq9ILzSPPS8V/wMPD18BDxivHo8Yny9/Pn9Zr2Yvec+fb7V/0i/jT/iQBpAlwD3ANTBCwFawXUBZoFMAURBaEFTQUqBBoDGANhA7oCZAHPAEIBLgFyALf/wP+9//n/CgDs/1P/qv9uANkALgAiAAwBtQHmACoASwCIAGAAw/8e/6/+mv4Y/qf9GP34/Nb8wvxJ/Nv7kvsp/KP89/tm+wv8zfx//B/8BPyO/CL9Vv3f/Pb8wf2G/in/lP/f/08BmwTOBTYF0Qa3CkEM3wzqDcsOuA86EQ8RiA9TD9MPng8pDfgJ3gf3BwIGSgLR/nf9+/sW+tv2F/Re8+rz2/Iy8Azv9++l8XvxxvCx8BPzL/UR9p/1DffU+ZL8/vyj/MD9lQCNAoICXAIrAykFOQbBBXwEYAXABuQGXwWYBMEEkQUzBZwDdALOAlADbgIBARYAogA5AcoAMv/u/uL/nADh/0X/q/+6ABkBVgCq////BwH5ABkAD/8r/2r/H//R/VD9ov3P/fX81Ptl+8H7VfyA+2j6Uvp4+y37gvpN+gn7bvsA/KL7U/tR/L/9Iv4v/hz/6gDYA7sEfgRRBm8KFQzEDFANYQ7mD6wRzxBaD7cP7xBkEG4NJQrhCGUJiAd6A7D/Xv4u/Tj7kfcW9Zz0U/W/897wY++w8Afyv/F88E7wXvKy9BP1Q/Td9SD5k/tt+zX7afyC/4ABwgFIAZECxQRcBpMFkQS1BQ0IMwhOBkgF5AXuBqIGEwWQAxwE2wQjBNwBDAGgAWgCIQFz/7v+n/8nALL/gP5b/m3/EwBI/yb+kP56/9L/oP45/lb+Cv/b/qP+4f1J/nL+5P2n/Mb8Q/0J/SL8hfu/+4b7RfvG+iD7DvuA+9D6u/oe+7/8Ev0j/af9rgDlAu8CsgPCBuMJjAt6DG4MTg7gEOwR9w/pDywRaxJXEN4MXQo6C+UKNQfeAo0A2f9V/ub6zvYA9nP2gfXE8c3vPPD68ZrxTvCo7zfxMvN889by5vP39sr4+vim+En6mPxT/i/+5v6AAFwCBwPwAmMDFwW5BroGRgZ5BtsHcggHCP4GZwflB8wHgwZ5BT8FjQUXBY0DJwKzAQcCGAF6/2/+5P7Q/hX+hfww/KP89vwT/DX7F/ua+wD8nvsf+1D7d/zd/J78HfwJ/a/9+v2Z/cH90/09/hz+DP5K/sT+sf5d/oD+4P4//xb/fP/AAMkCuALVAs8EgQfWCLgJzQkhC2cNKw7WDH0M2A0PDzIO+QqjCB0J+glGBxYD4gAAASMAvfyd+Lv3FfnY+Ej1/vGQ8g71PPXE8iPxqPKc9f/13vOY8wD3Qvo/+j34M/g9+0j+Gv5F/Pb8JQApAhYBn//xACsEkAUBBGkCrwNWBjIHswWuBAYG0gehB6wFyARABqcHhwYYBD0DIwSZBCMDVgEjAesBfAHF/y/+Nv67/kH+mfxm+4b7/fu9+8f6g/oY+677HvuI+of6dPuw+8X7dPun+6n7IPx0/LL8dfyt/Dz9lv21/bP9OP4uAIcCQgLDAvcExAdzCcAKawoADK0OpQ8KDvMNPQ+WELYPcQy+CXcKbwsxCAwEygHiAdMAdv0c+Yj4ifkB+TX1gfLT8jb1BvWB8lrxDvMX9Rn1+/MS9CL3l/l8+Qb48vg2+4L9Sf3q/M395/+bAGMAMQBmAU0D0gMFA6sCnQOEBDEFvQTCBPAEwwVlBTAFCgWhBbkFfwWDBB8EGAT9A5QD9gJ6AggCzwGsADEAwP+W/9D+Pv77/LD8zvy3/JL7B/v5+j376vrg+YX5Hfrg+kn6KvnM+Gn6Xfsk+0r6uPpu/BD+cv3Q/Ff+GQIQBNYCDgNUBuUJkAvmCnUKjA2iEPMPRw1mDfMPcRHsDpEKAQlnC6QLJAekAs8BxwJBASD8VfhE+Rf7Rflz9C7yXvQf95r1+vGM8ej0APdl9Q7zjPTq+Pj6n/if9gH5H/1x/nX8Qvun/QcBEQHG/pb+pAFKBHADqQCKAIoDpAVUBBkCegLwBOkFBQQnAmYD5QXgBUoDiQF8AmwEJAS9AYYAkAGIAl0B8/5o/gAA2wA2/8r8sfxD/rT+R/3Y+2n80v14/c/7HPti/K796fwa+8T6MPw7/TL89Pqv+0r92f3u/K/8Xf8eAoECoAIiBC0HHwqeChUK3gvaDoYPZw4aDjoPZRBCD9oL7QnCCpkKXgetA9QBSQHP/zH8Jvng+FD5gvdG9Lby7vOM9Yn0VvJe8kv0fvXz9E701PXV+MT5UPjd9+X5f/xP/Ub8P/xZ/hkA5v8K/+T/GgJOA1wCJgEmAjwE+wQmBGUD9AMoBSIF1AN4A6QEVwVEBLcCKQLOAj0DSwLdAHMAuABEAD//of7P/gf/r/7U/UP9rv0P/hb+1/2E/ZD9k/0+/Vr9zf2W/TD9Nf1s/Yf9Yf0i/V/98P1I/vX9Df5RAPcB1QGUAkgEiQbqCG4JvwgtCq4MEA0HDPgL+AzGDb0Migm4B9gIRAlJBmICeQBmAKz/h/yi+Yr5ivou+cf1AfS69Sr4h/cQ9VX0RvYf+Kv3mvbm9/f6Bvwn+sH4tPrF/an+Q/1X/MD9mv9k/yf+3/4NAfEBggAU//n/VgKQA4oCwAGZAugD/AMlA00DwQSRBUYEmwKHApQDwQOYAioBuQDiAA0Aov4O/rn++/7u/Yf8Ifzt/IT9LP1q/Hn8D/1K/cb8h/ws/fj9Vf7g/X391/27/g//n/6K/gL/QAClAd4BIgIPBCYGoQdDCE8IhwmYC2EMUwsKC1oMiw2UDM4JCwiWCFYJRgeDA0ABEwFCAPj8o/kW+UH6YfnY9SnzdPRO93T3/vTQ89r1Vvhd+Pv2Qfjx+/z9jPys+jf82v+mASAAi/61/8kBpgGx/2L/ZwHSAi4Bif5K/pYA9gHmAGr/pv8eATgB/P++/5YBNwNnAoAAFQB2AX0CBwLHAKsAXQHlAFD/qv7j/9sAIwAZ/hj99v29/hj+AP0A/QL+Gf5v/Fr7jfyp/h//z/3v/B/+EQAkAHn/9v+AAtgEEATUAnkEJQjUCp4K9QiyCVYM/wwoCyMKpwsWDVIL2QYnBIYFLgfIBBwAr/3g/b39yvpr91D3WPmj+Ij0z/Fs8xX3t/cH9YLzf/Ux+E34DfdS+E/8eP7Y/OL6f/yqAOwCjQH//2cBxAMRBHsChwIRBbwG6wTsAdQBQgTQBU8E/QEAAjIDpgKvABcApAHVAhIB3f3w/NL+4P9m/pX8Zfxj/RT9evsI+wn9tP5v/QP7jPqB/Bf+Xv0D/GD8jv1F/cX7c/tw/W7/4P7o/Kr8o/7XABkB5ADLAuAEwwUcBh4HIQqZDToO9gwhDc8OBRACEHQPLw/PDssMlwmdB2wH7AYhBCQAAv1m+/L5tPfs9Tv1NvTo8avvRu8M8b3yZfIw8VzxCvOg9Jj1Hfe8+bT7yvtj+4H8lP9tAuAC4QEKAm8DWgQ9BF8EcQViBqIFeAOUAgwExgWFBboDgAK6AlQD0wINAoQCYQPzAgEBff8sANQBFgKQAOX+xf5c/yj/ff6L/i//B/90/b372vs+/bb9pvwe+3P6m/qL+ir6Vfrv+gf7W/qT+Sf6LPyV/VD+Sf8aAJYB3APdBTYIrgrnC2sMYg2vDu0P+xB7ESYREhBcDrMM8gtVC3wJdgY5A6gAm/42/M35K/ja9r702/HV7w7wV/F08TbwZ+9L8BjyLfP18+H1tviN+nP6b/q8/GcAdQIHAmEBgQJ5BBgFOAQfBJwFXgalBC4CBgIJBBIFUAPiALkAMAKPAgkBFQBjAfsCQwINAJH/3gHhA+gCsgBUADACTQPuATUAtgA4ArEBDv9C/W7+HwAV/yz8rfqz+/z88vvJ+bX5jftR/Pn6//l9+7j+aQBJ/+7+vwFUBeEG2QY3B2EJzQvCC3AKDwtcDUEOZAyFCW4IYglyCckGpgMzAq0BDgD9/In6QPp9+qP4TvVs8yT0lPVT9Zzz2vL481n1jPWe9Rb3qflO++j6jPpn/Gr/MwE/AeYAtQF3AzcE3AMfBEQF1gXcBEMD8gIJBKUEnQP/AV8BkAFnAYoA6v9EALkA4/+Q/lL+Sf81APn/Jf8T/+P/hgBaABcAvAByATMBOwDY/5EAUQH1AM3/Bv8w/5n/J/97/j7+a/5z/vb9pf00/rP/pQB1AH0AuwF0A/YEwAXqBaoGxAdQCDcIlghMCYMJqggTB94FxgXKBXAEYgJzAG3/WP6q/Fv7pvry+ab47/a89RL21fax9uX1hPXu9a32VfcD+FD5nfo++0z73Ptq/T//KgAvAHEAMQEIAm8C2QJaA9QDqwPGAlAC3AKEA2UDowLvAc0BxQF9ASwBQwFcAfwAOACw//L/hwCFANL/Zv98/63/i/9j/5j/yf+u/wX/jf73/qf/qv8p/9f+Gf+M/6T/g/+x/2wAxwCpAKQAZgHVAsQDoAO2A+oEVQYtBycHMwfqB4cILwhYB1cH8AfGBz8GTARvA5MDBAMLAQ3/NP7V/YD8ovqp+c75wflw+Lv2Yfaa93j4uve99kf3dfjc+M34N/mu+jD8Rfx/+/z7Cv52/1P/zv5L/3MADAHJALMApwGJAhsC3wClAMcBsQIdAgMB7ACNAawBEAGiAAQBmgE/ARUAnP9dAAoBigCa/1D/2v8+AMH/Qf+W/y8ADQBd/xH/zP+sAJwAAgACANYAhwFwAUcBwwG0AkQD+gL9Ag8EGQVRBQ8FNQVNBk8HJweeBrAGLQdEB3AGrwWzBcsF2wQpA/gBpwGJAW4AoP51/Rf9e/w9+/j5kfnJ+Tf58Pc495D3Ofgx+I33TPf699P4BvkF+cv54Ppv+3v7o/uS/Ov9ov50/o7+SP/9/2AAegC9AF0BqQFOARUBggEOAj0C3QFoAXkBuQGjAUEBLgFMASsByAB/AI8AzADTAFIA7f8KADYAPwAlACcAXABuAD0AQACeABYBSAEeASoBnQEFAjcCbQLCAk4DtAPTAyYE2gSABcEF1QUhBsAGLwchB+MG2AbpBp0G/QV2BRAFkASlA2YCZAHkADwA9f63/c78DfxL+1/6cvnl+J/4CvhQ9wD3O/dt9z/3D/cr97H3Tviy+Pv4nPlq+ub6OfvX+8P8nP0R/j/+mf46/+T/MgBYAKkAAwEoARQBIQF1AdIB0gGSAW8BowHcAbgBhAFzAYwBcwElAfgAAgEgAQQBtACIALAA2wDTALgAzQAKATsBTAFVAZ8BEQJZAnUCsQItA7UDBQREBKsEJgWkBewFHwZ8BuoGGgcbBx0HGgcCB7QGMga0BUgFvAT6AwkDJQJTAVQAQ/9R/nL9l/yy+6j6zfky+aD4DPiJ9z73GfcJ9+r24vYh9333uvf694X4H/nF+Vz6zPpz+z/81PxH/eH9gf4U/4f/wv8RAIIA2ADnAO8AGgFDAVYBRAE1ATcBRQEzAQEB9gAHARUBCAHqAN0ACAElAScBNgFNAXYBlgGwAcsBEQJbAosCswLOAhADaQOhA8EDCQQ1BF8EpgS8BN4EDwUwBTUFQwVbBXAFegVnBU4FLgUEBb4EcAQiBL4DSwPOAkkCuQEVAWIAsv8G/1D+n/38/Ev8tfsk+4f6C/qj+UT5/PjG+JP4hPiH+JT4vPj3+Dr5fvnU+Sr6lfoT+4T78ftn/NP8Ov2x/RP+b/7Q/h3/T/+S/9T/AwBBAG4AhgCnAMsA0ADgAPkA+QADAQ4BCwEeATcBOgFSAXABfQGjAdEB5AEKAkQCbQKaAsoC8AInA3IDpgPcAwoEHwQ/BGoEjQSpBMsE2gTjBOQE2gTUBMEEmgRvBEwEEgTQA4gDLgPLAmcCAwKIAQsBlAANAHr/9/5s/uP9bv3p/F786vuN+zH73vqZ+mL6Qfoz+iX6F/oq+lH6fPqp+tz6KPuG+9z7KPx3/M38M/2S/df9Fv5h/q3+6f4X/0D/bf+c/7r/wP/P//r/HwAqADAAOABPAHcAjgCVAKwAxgDUAOcA+wAdAU4BfAGOAZ4BzAH7ASICUwKAAp8C0QLxAv4CJQNWA2oDawN6A4gDngO1A7QDnwOlA6sDjANsA0wDLwMVA+MCjQJMAhcCzQF8ARgBtQBtACQAuP9U//7+sP5v/iX+3v2h/W/9Pf0J/eT81Py5/JX8ePxd/F/8b/x0/Hb8f/yC/JH8q/zE/Ob8EP05/V79hP2s/eL9Hf5N/nj+pf7U/gH/L/9m/5j/vP/t/xkALABHAHEAlQC2AMsA1wDuAAwBKwFCAVsBdgGVAaoBuwHNAeMBBAIaAiICLgJKAlkCbAJ9AnwCiQKPAoECcwJ1AmgCVAJCAiwCHAIHAvABzQGtAZEBfQFfASwBAgHZAKkAfABVABsA5f+z/2//MP8H/+X+r/58/lf+L/4J/vr97/3g/dj9zP3F/c392v3l/fT9AP4H/hT+HP4o/kb+Zf5v/nj+hP6L/qH+vf7J/s7+5P71/gf/Kf9D/1X/av96/47/uP/a//H/CwAdADAASABdAHIAjQCdAKYAtQDGANUA4gDyAPwACAEWASQBNAFCAUsBXQFyAXkBjQGiAbEBxgHTAc8B0wHcAdEB0AHNAbgBpwGhAYwBbQFZATQBEAH1ANAApwCMAGcAMAAPAPD/wf+S/2r/Qv8e/wL/3/7A/qP+iv56/mP+WP5T/kf+P/4+/j/+Tv5m/mn+b/5//pH+qP6+/s/+3/70/gD/Bv8T/yL/OP9M/07/Sv9X/2v/ff+R/6H/rP+4/8j/3f/1/w4AIgAuADYAPwBOAGMAeQCJAJIAmQCjALAAwQDOANIA2gDhAN8A4ADrAPkACAESAREBDgEYASwBNQE5AUEBSQFIAUUBSAFQAVwBWQFDASwBIQEYAQQB5wDLALgAmQB5AFcANwAjAA4A7P/E/67/m/+A/2D/T/9D/y7/I/8K//L+7/7t/t7+1/7V/sj+xv7C/rz+xP7U/tX+0f7X/tv+5P7z/vj+/f4M/xf/Hv8q/0D/U/9h/2//e/+I/53/tv/D/9T/5//2/wEADwAbACYAPABIAE4AVgBfAGEAYwBxAHsAgQCDAIoAjgCYAJ8ApACrAK0AtgDBAMgAzwDbAOAA6wDwAOwA9AD8APgA8gDzAO4A5wDbANAAyAC+ALQAnQCEAHMAZwBRADoAKgAUAP7/6v/a/8v/wf+x/5z/k/+K/37/cv9v/2r/Zv9h/1r/WP9Y/1f/Uv9T/1X/WP9X/1P/U/9a/1z/W/9b/2H/av9u/2//cv+A/4f/iP+N/5b/of+u/7X/u//J/9H/1f/c/+f/8////wcACQARAB0AJAArADcAPwBGAE0ATQBXAGYAbQBsAG0AcgB2AHgAeAB5AHkAewB5AHMAcAByAHEAagBjAF4AYQBiAFwAVgBRAE4ASQBBADkAOQA1ACkAHQAVABIADQADAPf/8P/t/+v/3//W/9j/2f/T/87/zf/M/87/yf/C/8H/xf/G/8T/v//B/8X/xP/C/8L/wf/B/8H/vP+5/7v/vP+//77/u/+//8n/zf/P/9b/3v/o/+r/7v/4/wIAAwAFAAsAEgAYABUAEAAOABMAEwARABEADwAOAA8ADAAJAA0AEAAQABEAFQAYAB0AIQAlACkAMAA1ADgAOgA9AEAAPgA8ADsAPgA+AD0ANQAsACYAIgAeABcAEAAGAAAA+f/y/+z/7P/o/+D/2//Z/9r/2//a/9j/1//W/9f/2f/c/+L/5f/m/+r/7v/w//L/9//7//v/+//9//7//v8AAAIAAAAAAAAA/f/+/////v/9//7//f/8//v//P/9/wAABAAFAAYABwALAA4ADwAPABMAFwAXABcAGQAYABgAGAAUABAADgAMAAkACAAGAAMA///7//n/9//2//b/9v/1//X/9v/5//v//v8AAAMABgAHAAkACwAPABAAEAAPAA0ADQANAA0ACgAGAAEA/P/4//T/8v/w/+z/6P/k/+D/3P/a/9n/2v/a/9j/2v/c/+D/5f/p/+v/7P/w//T/+f8AAAQACAAKAAwAEAAVABwAHgAcABsAGwAaABoAGgAZABYAFAASAA8ACwALAAkABQADAAEAAwAEAAQAAwAEAAcACAAJAAsAEAARABAADgAMAAwADQALAAoACAAFAAEA/v/9//v/9//y/+//7v/s/+v/6v/o/+f/5//p/+3/8P/x//P/9f/5//v//v8AAAEAAgADAAMABQAIAAkACgAIAAQAAgADAAIAAAD9//r/+f/1//L/8P/x//D/7v/t/+3/7//w//H/8P/y//X/+f/9/wAABQAIAAoADAAPABYAGgAaABoAHAAeAB8AHwAdAB0AGgAWABUAEgAPAAoABwADAAAAAAD//////f/8//3/+//7//3//v/+//3//v/+///////+/wAA///7//z//P/6//v//P/4//T/8v/u/+//8f/w/+3/6//r/+r/7P/v/+//8f/1//T/9f/4//v//v8BAAAAAgAGAAcACgANAA4ADgAOAA4ADQAOAAsACAAGAAQAAQD///z/+P/4//j/9f/1//f/9f/3//n/+P/6//3/AAAEAAkADQASABUAFgAZABsAHAAcAB0AHAAbABoAFwAVABQAEgANAAcAAgAAAP3/+f/z//D/7//t/+3/7f/t/+3/7v/s/+z/8P/z//X/8//y//X/+P/6//r/+v/7//3//f/8/wAAAgADAAEAAAAAAAEAAgAAAP////////3//v/+///////8//j/+v/8//v/+//6//n/+v/6//r//f8AAAAAAAAAAAEAAwAHAAYABgAIAAkABwAGAAcACgAMAAgABAADAAMABQAEAAIAAwAFAAUAAwACAAYACgALAAsABwAIAAoACwAMAAoACgAJAAgABQAEAAUABAACAAAA///9//7//v/8//v/+v/4//f/9//3//j/+P/2//X/9//3//f/+//8//v/+v/5//r//f/+//z//f/+/////v/+////AAAAAP////8AAAAAAAAAAAAAAAAAAAAA/f/7//z//v/8//v//f/+//7/+//7//z///////3//v///wAAAAD///////8AAAAAAAADAAUABQACAAMABQAIAAoACAAKAAwADgAMAAwADQAOAA8ADQAJAAkACwALAAkABAADAAQAAgD+//v//f/9//v/+f/6//v/+//4//b/+f/7//z/+f/5//z//v/+//v//P///wAA///9/wAAAQADAAIAAgACAAMAAwAAAAAAAAACAAIAAgAEAAQABAADAAEAAAABAAAA/v/+//7//v/8//r/+v/6//r/+P/2//b/9v/3//f/9//1//f/+f/5//v//v/+//z//f/+/wEAAwADAAUABQAFAAUABgAIAAgABwAGAAUABAAGAAkACQAGAAQABQAEAAIABQAEAAEAAAD///7//f/8//n/+f/8//v/+f/7//7//v////7///8AAAIAAgADAAUACAALAAoACQALAA0ADQALAAoACgAJAAYABQAEAAQAAgAAAAAA/P/6//j/9v/0//L/9P/z//P/8//x//P/8//1//b/+f/5//j//P/9////AAACAAQABwAHAAUABAAFAAYABwAIAAkACAAJAAkACQAIAAgACAAGAAUABgAGAAMAAwABAP////////3//f/7//v/+v/5//r/9//4//j/9//4//f/9f/0//X/+P/4//j/+v/6//r//f///wAAAgACAAMAAgAFAAcACAAKAAsADQANAA4ACwAGAA0ADgAIAAUACQAKAAYABQAEAAMAAgAAAP////8AAAAA/P/5//n/+//+//3/+v/5//n/+//7//j/9//4//f/+f/6//b/9//7//z//f/9//7//f8AAAAA///+/wAAAQACAAIABAAHAAgABAADAAcACAALAAsADAALAAsACgAJAAgABwAHAAMAAgD////////+//n/9v/1//P/8P/v/+7/8P/z//D/7//x//X/9v/4//f/+f/6//3//v8AAAMABQAGAAgACgAMABAADwAOAA0ADQAMAAoACQAIAAgACAAHAAYABAABAAIAAAD9//v///8AAP3/+//+//3//P/8//3///8AAAAA/f8AAAAAAAAAAAAAAAABAAEAAwACAAgABQAFAAQABQAIAAcACQAFAAUAAQAGAAIABgADAAUAAwAAAAIAAQAAAPv//P/5//3/+//8//n/+v/3//j/9P/2//f/9//4//T/9v/y//r/9P/4//n/+f/7//z//P/8//v//v8AAAAABAABAAQAAwAHAAMABQAEAAQABwADAAYABgADAAMAAAADAAAAAQD///3////7////+//9//z/AgD7///////+//////8BAAAABQADAAkABAANAAsADAAJAAsADAAPAA8ACwANAAgADgAGAAsABwAIAAcABAAEAAIA//8AAAEA/v/+//z/+v/8//n/+f/9//n//P/2//r/+P/6//X//f/3//n//P/5/wAA9v8AAPz/AAD7/wAA+//6/wAA/P8CAPv//v/8/////P////7/AAD9//3//v/7/wAA+P/5//r/+P/5/////f/9/wAA/f/+//b/AQD7//3//v/9/wEA+P8AAPz/BAD6/wgA/v8CAAgABQAHAAYADAAHAAsAAwARAAgADwAKABMACAARAAoADAAMAAYACAACAAMA/P8SAP3/CgADAAYAAAD0/woAAgDm/wIAEQDw//r/BwAAAPr/BQD9/////v8BAAMA//8BAAcA/v///wYA+//4//n//P/0//j/+P/5//z/+f/6//j/+P/0//b/+v/5//X/+P/8//7/AwD7/wIAAQD+//n/AQD//wIAAAD5/wQA/v8BAPn/AwD5//v/+f/8//z//v8FAP3/AAD//wMA//8CAP//AQAEAAgACgAFAA4ADQAJAAwACAANAAsACgAMAAoADQAMAAkABgAJAAMAAwD+/wMA//8AAAAA+P/+//3////5//n/9//7//n/+f/+//r/AAD7/wMAAAD9/wcABQADAAMACgAEAAgAAwAEAAIABQD9//z/BAD//wEA+/8DAPb/+f/6//r/9v/3//b/9P/y//L/+P/z//f/8//5//f//P/7//z//P/+//3/AgABAAAAAwAAAAQAAQAFAAcABwADAAYACAAGAAUACAAEAAYABgAFAAkACgAIAAoACgAIAAgACAALAAcACgAIAAUABAAEAAIAAQACAAQA///9/wAA/P/5//f/+//4//X/+f/1//T/+P/1//L/+P/2//j/9f/3//z/+v////v/AAD+//7/AQAGAAQAAgAIAAcABgAFAAgABgAHAAgABwAEAAcAAgD//wMAAQD9//7////5//r/9//1//H/8v/1//T/8//4//f/9v/3//f/+f/4//z//P/+/wAAAwAEAAoACwAIAAkACgANAAkABgAMAAkABwAKAAoACQAIAAgABQAJAAUABwAGAAUACQACAAUACAAHAAMAAgAHAAEA/f8CAAAAAAD+/wAAAAD5//v/+f/2//f/+v/3//j/+P/5//j/9//4//T/9f/6//r/+P/6//n//P///wQABgACAAIAAQD//wAAAAACAAUABgAHAAcAAwAFAAgACAAHAAQABgD//wEAAQD/////AAABAAAAAAAAAAEAAQAAAP7/AAD///v/+//6//n/+//7//3/AwABAAcABwADAAUABAAGAAMACAAIAAUAAwAFAAMAAAADAAIABgADAAYABgAFAAMAAAAAAAEAAAD5/////P/6//3//v/+//r//P/6//j/+f/3//j/9v/2//j/+f/3//b/9//1//X/9f/6//n/+//+/wEA//8AAAAAAQAHAAIABwADAAUABwAGAAkABgAJAAkABgAGAAcABAADAAUABQADAAEABgD/////AAD+//7//v8AAAEAAAACAAMAAAABAP/////+/wAAAQAAAAAAAQACAAQAAgACAAMAAgAAAAIABAAAAAUAAAABAAAAAQAEAAIAAgABAAAA+v/8//v/+P/7//v////7//r/AAD8//r/9//6//v/+f/5//7////9//7/AAAAAAEAAQD+/wEA/f///wAAAQAEAAAAAgAEAAMAAQACAAMA//8AAAEAAAADAAAA//8CAAIAAgABAAQABAAFAAMAAgADAAIABQADAAMAAgABAAAAAAAEAAEAAQADAAIAAQAGAAUAAwABAAIAAgADAAUAAwABAP7/AQAAAP//AAACAAEA/f8AAP7/+//9/wAA/v///wAA/f/8//z//f/4//j/+//+//v//P/+//7//v/7//7/+//5//b/+P/8//z/AAD9/wAA+//7/wEA/f/+/////P/+/wEAAQADAAIABAAAAAMAAgAAAP7/BwAGAPf/AwAJAP3/+v8PAAgA+/8DABAAAwD//wgAAwD8/wIADAD//wAACAADAAMABgAHAAQACAANAAIAAAAAAP3//f/+////AAD+/wMABAAAAAAAAAAAAP3/AAD///3//P/9//3////9////AQADAAMAAQADAAEA///7////AAD6//z//P/6//v/9//7//r/9//5//f/9//4//z/+v////z///8AAPv//P/9//z//v/+//7/AQAAAAIABwAEAAQABgADAAYABQAEAAMAAQADAAIABQADAAUABAAEAAAAAAAEAAAAAAAFAAMA//8AAAAAAAD9/wIABwAEAAUABgAEAAQABAAAAAQACQAAAAAABQAIAAQAAgAIAAUAAAAAAAUAAQAAAP7//f/5//v/+//6//z//////wIAAwD+/wAA/P/3//T/+P/5//v//P////7/+v/9/wAA+//6/wAA/v/7//3//v/7//z//v/8//7//v/7//3/+//6//r/+/8AAP7/AAADAAIAAAAEAAUABAAFAAQABQACAAEABQACAAcABwAIAAkABQAGAAQAAwAAAAIABAAFAAYAAwABAPz//f////r///8DAAUABQAFAAgAAgACAAIAAgABAAQABAADAAMAAQAAAP3/AAAEAAIABQAGAAIAAAD+//7/+f/2//X/+v/3//j/9//5/////P/6//3/BAABAAAAAAD7//P/+v8AAPz///8GAAAA/P8EAAAA/P///wUABwAJAAMAAAD7/wQAAAD2/wsA+//t//T/7f/u//n/+/8IAAUAAwD8//n/AgAJAAsACwAbABAAAAD9/wwA+P/2/xsAEgAEABEA///r/+T/AAAKAP3/KAAgAOz/6f///+j/3/8RABIABwATAA4ADADx//L/+v///wUABAAGAAIADAD7/9r/FwD//+P/AAD3/xgAFAD+/w0AFwAGAOz/4/8QAP3/4//s/wkA9//1/wIAAwANAPz/BwABAO3/+/8aAAcADwAUABUA8//4//j/0//6//H/9f8AAPX/GQAjAPX/DgApAAkA8f8UADgACQA3AAcA7//v/9L/rf+6/+X/1//7/wsA6//a/+3/9f8aACkAawBwAGcAIQANAD3/uv8MACYAyP8CAIb/tP7e/dH+XQDL/ZkDYQeLBA8BMgFS/7X6aPmd+4r/MAHBBZoEFgFV/v78V/tg+8H9DwCIBNIEkwTRALb9/fxc/ff99f4/Ar8DfgMgAaH/iP0n/ZH+GgAsAa4CswK1AVsAq/4o/db9I/5b/7kAYADi/83/CACR/cH/9gCDAkACWgJSA6AB0/4S/gv+4f1o/kH/4/4Y/34AsP86/6b+X/+s/50AxwALAmT/KwJOBeoCogDMAasC1/9f/eX8kP6P/aP+/P+c/0f+lP8X/0D+6/0j/3L/HgFfAnMBswB2AL0Bkf9h/0f/HAH8APcATADh/xQAN/9DAPX+oAD7AEgB4v+r/0gAN/8Y/9T+YADg/8r/z/+9/8H/9P7m/qv/bwCC/zUAOwEMAWAAAAAnABsAZACT/xcAHgBtAXIA4//v/1cAFwAV/yIAPgFvAJn/VwDZ/yT/ff02ABoBDQC4AJwBVAAy/6f+uP5G/rH/FAGbAPwAGgFJAHz+WP4B/6T/i/81AfwAygErAYf/Xv85//z/BQA1APEAHQG8ACMA9f6U/uD+jP8e/4j/u/9t/wEAGv8e/0X/yv/aAH8AmgCqAMIAAAF1AAAA4AA6ASIBGgH6AK8AYgDr/2T/Lf85/6//J/8c/5r/jf8Q/0T/f/8+/3f/qf/4//j/IQBnAK0AFgHOAC4AZADTAOIA3v8CAHIBHwHHADsAGQDH/2z/Zv/h/mL/xP8SABAAbf8t/+T+Zf7H/sb+U/+g/zcA6ABAAJr/VP9fAIkAYQCPAEIBfQEiAWMAov+w/8UAugBmAFUAZwDIAFr/iv5F/4D/j/8BAN7/5v92/zj/ef8Y/6r/xQBsAOYAigAVACgAMAA/APr/NwD3AKMA4/+p/83/4v93/8v/i/89AB4A9f/M/7f/eP+i/ykACQDo/9f/zP+y/3X/BP/3/3kAQwEIAUsAHACoAD0Ajf94APEAKAElAYAAof9P/zT/bP8j/4T/RgBMAOr/2P+H/xj/rP++/4T/JACLABgAHADh/5z/9v92/7f/hgDe//L/LADQ/7L/wv8bAEAAHwBzAG4AIgDk/wcA9P9J//3/AACI/8n/6f9u/9j/w/+m/+n/7P/9/9X/CgDQ/+D/UQBgAOD/agB5AD4Aqv8JAC0Ai/8WAEEAYgCgAEUAMQBSAAMAogBHAFoAaAEEARQAZACnADgAWQB0AH4AjgAoAAEA8P+b//z/rP8v/zUADABy/xwAWQDA/73/8v8d/3L/xQB4ADkACgG6AKL/wf5g/8z/Ef/p/9UAWQBYAGkAdP9M//7/wv90/2sAGAG7AMUAsQAgAB7/mf6m/vb+H/9e/yYA1/8K//b+gv5a/mf/mP+FALoA8f8dAL//yP4g/53/m//T/zz/oP4v/tL9q/3k/ZX9k/0Y/Vv8bfz++6P7rPzS/CL8ovxY/Ef8dP2d/tP/twA3Ae8B0AEMAkcDaQTdBQAHowfKCOQJ0gqeDJkO6g9TEEgQaxA7D5wN5A2DDP4IHgdTBH3/cfwb+pb3KPbB9EL0+fO08p/zZvV19Wz3Uvoj+y787f1v/iX+CP5s/j3+Gv1R/VH9mPvf+oj62fj+91/4ivi0+Gz5a/qj+m36D/vA+7n7Yfxk/c/9P/6m/qr+kf4//sP9Fv7k/i7/6/8/AccAE/9A/gn99Pqf+qT7Hftb+vn6cvmn9tn3YfmW91D4fvt0+1P7pgFCDgMbKCgsOrZG3kU+Q5w9Vy+nJfQgFBmBFB0PCAIG9Hjk7dQ3y7/EocUvzm3UA96c6qzvmvUv/kUAngTzDI8QYRWCG2Ub5xdHEvUImP889w/xnu7j7Ojr3eza62TpMeoh7EHtePGJ97r77wAMB3QKgQ16D+IMYQnwBpAD5QEDA0QEbARXAsv9Efii8ufvXvD18rn38/sT/SH9QP29/Af9l/68AB0D3gQPBcEEDQXhBBEDVQEKADv9svqb+nz72vxa/w8Am/54/ff87Pvl+5f9PP+r/+/+3Py0+ur6ZPut+mz7wPzA+R35/QMpFpkqqkK/VTdZA0+xOtch0w7SBUUE8AYuBoD9K+0N2WPJC8INwefGxdHk3VTqUPTp/TUKSRO6FnUZORnUFO0RbhK3EsQQoQz6A5T2Ues55JLe9N7j5Grovepe7gTwc/Kv+Fz/xQQGCd0JXAiQB9IGOwbHBz0Ivga7BoAEUP8i/a36jPVS9H31//SE9sf6TP5P/0H/L//4/Sn9Ov8DAqkFDQrpCn4IvwSTAOn8Ffo/+X77HPyF+3T7yPpf+rv5+fcW+jT+VP5u/0ID+gSrBFQEjQCs+wz5JfdL9cn0APTL9fn3U/Nd9BUGZxvjMdxNQl+VX9VTazqgHvUMEwGU+7P84fkD7h3byshpwIG99b0ix1TUfuCA7079jgnEGIkkzyhKKTUk5BtfFzsSOg2SCuoCePZL7djjXdzk3LvfdOKD59Prmu4o9Jv8OQbJDZ4ShxRyERMLAQatAyMC/AFJAlEAef75/3r/Ef4RAFX90/hs+cP4ePjo/pQC7AK/A40B6v37+Q/5Ff9dAo8ARQP5Amn+TP3s/Fn8V/3p+hT4Jvd99T32fviW+t78cf2v/eX/iAG4A+EFEwYxBYcBYvvT9ZrxfvCx8c7v4+wG7Svu2+vO6FryTwsyKEpEY1/QcGhwd1w8PbMi/Q8aANL20fSV79HfCc1WwXW9Ir0rwU3KB9eQ59L3ZQc9GmcsDTV/NrgypSjjHNYSRQmfABz52u8t5MTYkdPD05vVwdlV4MPn2e909yoCpxB8GlsfdCJAHsgTGAobA2//2/3f/hcBaQB3/Tb7Z/gW9gfzLfF+9CD4D/0+BjQMeg6dD/oIDAHI/Mv3EfUB9xP5QPsh+935tvqa+7/9Gv7w+kT5jvf78sz15vqN/8wECQZ+AwgCKwDj/m8BCgPCBroF2QIXAdn+6vrt+AX2xfCS7Kfou+eG6CLvlfMY99H64/gJ+60VAjNDSutqA3tGcKVY6zMCDtj8zOlX383ncuV71f/MDMesw7fJjs+h2lTn0vNnAZwSsCF6Mcc6ZjmFMCokGRS6/8T00e1G5L/c99mF1GnW3NxK4Cboeu9F8jz4nABgB/0S+RztIDAhvRsfESIG5vzm9T/xMPAB8oDxSPN8+qX/JQFaAqkBLwAC/9r/0wV1Ct0JBAvsCqoEugA8AN39vPvz+Xj3B/j1+WT8NQFMA43/UflN8tDtEu4O89j7UQMdBtgFqAOhAf0BagLyA/wEAgHK+9X4dfYU9u/1tPNM8sXv/+rN6GPrO/Ae9S/57vtX/cz8Vvlg/ikZqjVESGtiGHUsaslQ7TG8D0T6Iulg21rgf+JJ1mPQg9EF00faHOLP6AjznPtlAJoIEhjSJ10wbzJDLvUgYA1K+znv5eY24cPetdo61//ckOR36b/0+v4HAnYF8wciC1sSCBcIGU4aphZZDagCVPiG79rpguc+5qHnl+619J/3bPzGAQACVv+YAOAGIwn3CGQNTA3QCJYJGQhnBZsGsAEI+5X4IfTS8LnxzvC38a70iPPw80D4qPm8+pX9DQASA/kELAdbDPcPThBGDxYLSAaJA5X/4fkv91Hzie3C607tq+8r9Bv35vTp80X0wO+L73D4lPqz/E4AM/vFChsvLz1sTYttaWhlSXoxIRBM+F30e+an56n1zuRT1NzaDdtu3uzp9emI7Af32PqNASITpCOLLPYq/yGQGDYJg/Sf6h3qFOUZ33PfoOBN4xPtbvVE+2sBzgKwAiIEUAU5Ck0PAg91DrkMngXs+7/zS+096HvjEeJb5gvt8PbOAsYLPRE1EqkP4w3NDYsQohEdEEYRDg+uB0YCy/x/+Fj2ve/w66PvFPBs7+71Bfz2AN8EQgILAJj+NflS9cT2qvtfAKYDewklDtYPVhA1CsoCDP+l+LPzgPaz+mH9wv5Y/DL5ofb78kjyPvUU+Qz7Ufou+RL4yfj++bn68v5j//D6MfgU7BHwoxcfMVhAlGfjdqlez0PWHJH6M+8U2unTAeyX6mrdWeSe4bHeyOWv4OTg9u4D+OMCChTuJAw1njbfKPYe2w3D7/vejtov1O7UltuR3szlTvGZ+Fv9ngJpBrcKbg/DEyceeyfZJiohnxenBuT0Suft27XXJ9nM1yXaFeWt72b63AUTDigTYxEDDEALtgtRDFsQwBQ3FGsOwQY//tvzBurO5mfmGemq88z97QRaDxkUvQ5ICjMFTP4c+qr59vug/kL/VABtAzsDCAI4A2oCKv8R/r39xPy9/7oEjQRSAsj/3flJ9lb1QPPT9cn6pfto/YsAuQDR/av7Ufch8DnsRekp6dbuo/Oi+A8B8wE/BYkZtCtwNdJEkE7GROwyFR/ZDcACjvbD7xDzku+m5H7j7eZ05xXruu5p8Pv0qvojAWgKKBZVIRQifhmKEb4FQfWU6zHqlels6AXrve8d9EP5uP5EBE4I2QilCDcJWwjKB54HlwSX/kP39e3u5VzjR+Je423pnO+E9KD6dwE8DUwWKBL6EnwXmgsNAiUFTgFk/RX+wPnE+Fv3s/BJ8rb4KPmu/JQD8wP2BbAMSg2QDBIRhw8ICgwIFQQHAXEA1f41APsBGgBKAWED4wEiA8EGagdXBRQECQIl+/L08PE27iLtdu6B7g/ymPbT98/7KwAXAfICTgT8AYIBmgJK/yX8YPvK94XyfO9o7L/qCO07743yafnp/moDBhDRHlEn7jGqPCs8jjTEKt0ctA+zAUX1HvO88KPqze0u9Gf13PqdAIkBTQWMB0YFYgatCOEICguBCssGTwTq+yzvGOjK4n7dI+Ak6H3wVvsOBfEJSQz9C3EIKAQQAa7+Zv2V/AT7Sfm+9zb0he9I7rrsQ+qs7B/xRfUA/gEI4A2JErMTgg/dCb0Dxfyz+IH4n/j0+uT+SP8XAHoC8ABSAD8C1QEAAwYGIQscFHoWbRaEGlMUTAY8/kD36e/V7ZHvHvXx+WT8/v8ZAzQEogNcApz/hvtl+ov7VPrY/AoDuQKy/nb92/s+97D1Gfo5/XD+8QHUAvv/4f6p/UH6iPfd9dbz9fD97xfxQfI+82v0kvWZ9aX1cPh9/bcCOQqXFR8k+i+QOvtGmkj4PeQxMR+YBnP1iek35FbnDep57Q7yRvIT8i/z1/J59kX8yf+nBWYNtRFcE70Scg1QBX35uOuH5Hzhsd/z5YXv0vV1/nkGZgnQDOYOkgxFCRcGPQI+/j/7U/nc9qPyce4l66DnduXn59/sVPLG+isDowmTD7sSBBP8ELcLVAeyBI4AQ//2AE0BWgCs/0b/Fv1I+S/5X/uW+5//xAU5CEQK9Qy0C4IIQwU1AXH9Lflk9pz20fdQ+H77TwBnAnQDDQcACfQGUwflBxsFkwNbA9UAOP6v++D4OPdQ9WT0oPVR9p34uPsG/PX8dv6O/JP6jft3+vz4Xfll+vD55PiK+PH3+vc891P3X/mh+zT+EAuyHMknxTYxRvREdjlCLbYYWgTX9mnsquvk7nLtBfDK9C7yi/HS8gnwgfJK+Dv8UwRZD/YWUBv8GisVqQsU/Znw8Onf5Bnku+ia7AjwkfYs+nz7MP4BAFsAOwEHA7MFAgm+Cc0JBAjhACr44u/h5l3hWuH34jTplfPu/DMGOw61Eb0RQg+2CsQGKgMKAUECvgOGBEIFEQS5ADL8NPeO80PyhPNj+Az/0AU7DS4RmxDxDj4LbQQ+//j7yPm1+mj7rfyZABsDNQPcBO0E0gKlAeT/N//3/wcAXgBHAWv/+P3f/dn7evsd/p//OgBUAg8DUwILAZ/+b/y6+q/4vvdV+Yr6+/oz/Bf80vr8+hj7ZPr7/HH+HP3n/Yb81vii+Aj46Paf/JwBCgh2Fr8hcCpwNR43EjAZKqEcFQ1DBE37sPW99bHzyfLf9ODxxPBD8qbvevBt9Mf1b/ptAXME9AgJDPYI4AX0/yL3y/Jz73zrvO2j8X7zGPnP/XT/dgL1AyoC4AEkApUAkQDxAPwAbQAX/cb4x/WC8UftF+067u7w7PWS+rf/ywSxBroHIQn8B7QGowYjBRoEJwTCAmEBqwF3AJH+/v5n/rf9tv4M/2gAfgPDAzEGsQvtCnUK8wzECcUE7wI0/zb8zvsk+2b9Ff+9/p0A+AGFAE8BwAKMANr/QQE8AKv+CACTAK7+Yf1o/AT7xPfN9f730fj0+KX9BAHPAPICgQN8AJz9Xfqq91715/PY9d/3HPi++b36/vjs95f4lPqg/g4IoRWNICYsLjeNN/8wgimUGygLUP+r9ZbwCO8i7vLwcPT082r1Zfi59tr29vmb+rH93gScCJUK5gzjCQED/voB87Xtn+kg6GPsePGp9en80wIYBvAJtAqDCPAGnAQOAVX/h/42/dH7Fvmq9VPys+7M61rrK+y+7pT0+/lQ/wAGcwq8C2cM2QuOCcoGLgTwA7gDcQIVA2kDZgGD/yX+6Pu/+oX7wPyo/sACQAfrCAoLfA3dC+4IBAdsBFIBWv9A/mP+jf6Y/tr/bwDa/2//KP87/T78d/2O/RT+BgG8AssCRAOKAnkBmgAg//L/fwG3AYID5ASjA3ECqACZ/DT5R/YG8/7wfvCs8C3xq/Kn9Ob1ofZR9/P21fY/90b39Pja/EsAGgUEDPcSGRp6IGYlyihtKKQjSR70FgEOzwaWAV794fma9x32zPT58sPyRvMA9EH2ePmQ/JT/7wLcBF4FCwV4A44Agv3v+gD53/fM9ur2/PdB+AP5jfqF+6D8FP7y/gQA4wCoAFYAJP+D/Tn8E/pD+I/3P/Yi9XT1lvWb9tT4RvvB/uQBcQS4BzwKOguJDCQNuwtmCXcG7AI3/9771vm4+Pj3nviJ+tD7Sf66ArMEoga1CWcJVgcHB2EF4QLlAcsAygC1/2D+IP84/3r9jP27/q79ev1q/7EBrwIeBcMHmAeJBlkFZwMAAAT9evv5+fj3zfdV+KH3Efhb+CL3/PVc9cX0EvTm9An3qfh8+eT6E/xk+975efj896n2A/aM95f6xv8lCG4UIiN3MTE7rUB+PxQ1ZiVEFXAGpfoO9DHxfPFM8RXwWPAT8Gju/+7V8MfxkfWN+uz+3QS2CtYM4wsTCNMAS/hh8FDrv+nG6VXsbfJU+Gr9aAOQB78IhQgdBgoDAQHj//b/CAHWARAB9P1d+ef07e9+7Dbsb+5Z8v/3uv59BLAIlAszDSEMJQqWCHwG8wMYA9cC7gCh/8H+cvzL+dP4uPgz+Uz7Sf/fA/UHugteDiMPeQ1HCv8GaAOX/4v9dv2P/bL9j/8JAnYC7gGpAQoAKf1U+9P6efvK/Ln+NwGSAjQCUAHa/6/96PtG+gP5wfii+Sr7G/2h/+QAnv94/Yn6Kvay8prxU/Hc8br0T/da+Kv67PzO/BT9AP/bAE4CVwdIEhUcZCRUMOM3EjULLwwnyxl6C/UAW/sX95nyJfLt8kPvuOxv7d7raetw7t/w+vOa+Uz/nwPZBq0IpgfTAsn9A/uH9+T0nfZp+FX4Kvo4/NP8XP4pAEIBoQFmAZQBggEHAS8CggNPApUAn/4A+rH0KvHf7m3uh/DU9Kb6NQDWBEUIXgmoCAUHgAQUAsQAhAAGAU4C3gOeBK4DcQEz/7n8xPqJ+wz+8gDFBDUICwp3Ck4J7QcNBksDMAJbAZj/0v8rAN3+bf/7/1z+y/3L/Z/8gPsb+xX7IftQ+x38c/2p/sf/3ADWAI7/xf4b/p/8xPwG/nf9Tfw0/PT6RvgM95f2e/VD9ar2lvfb96v5zfyO/Zj8Ef///xT9WQTzE98c2id9N9U6azNRKL8Ygwou/kf1QfcA+bbzgvRk977ymfL/9t/0yfPE9WrzG/Kp9pX9kwSRCfYMDwx8Amj41/Mt72nr6O1/8vv2df1cBKgL1xDkEMcOfAlNAYX8Wfmb9m75U/0C/eb7JPr19YHx+e30687sJ+738bP5sP81BigOaRBxDzwP+wrTBDgC+QH1AlIFageFCY0LXAghBMoE4gKv/YT8pf1i/XP8cP2mAP8A6/52/wQA6v13/T//jf/9ADEFiQdpB54HHwepAuD77vZy8n7t0usM7lvxRvT0+M3+UwFlA04GKwWNAmMC9AFAADL/af5V/SD71vcZ9+P3MPcI+K/3OfX49Y/xGfFyBnUaVCVZPM1NHEYbNw4n9RN2AhTzFvCi9dHukega8fjx9O7u+P79avoe/L78vPiz+eH/jgcUDLsLpAyQB9339O8V79DlUuD848jlBetF9RgAUQwZEwwTrhGOC/sC/v+E/Zf6xvzs/QH78Pkd+Rz23fNK8THvau8N8ur3d/9cBxQPRROcEmAQ7QyjBvn/Lf05/SH9yv3+AIoEUQWGBEUEigMdAFH8J/w6/a79sADbA8oEkQWjBO8BBACO/e/6b/nj91T4Zfvr/XkAXQSPBQwEpAGi/Ej3YvR48uLxbPTI9zT61/qH+mf7LPtj+ND34frJ+637x/5aAuEEXQaIBTwDz/4e9ujx/PlkCHgaDTAeQj1KXEawNickDxQ1A/L3ovX28+Xvae5Z74vxzPOz8/3yXvF+7tPsLO+F9s8AbAmmD14THBCBCLMBFvxv9y/ypuzX6qrrIu0V9Ij9mgI8BWoF9AG4/iT9TPys/ff+2f7L/t/8c/qa+X73E/Qn8kHwHO++8cT3j//6BoIM1g8xD4oKmgUiAr3/dP4S/zMBTAKKAeABQgJgAPT+//2y+3r6UPv3++39fgG7A20E5gRxBZUFcASdAuQBwgA5/jD+nQAlAckAgQEhAMH7EPip9f/zTfSS9k/4rfhO+XD5T/gc+PX58fp7+9X9rv9JAFcBBwKtAWgAY/0q+oj2KfOb9zgDQxDpIcE0cD4AQPc7EC9bHuMPkQQ7/m37Ufn49+X1g/Lj8fbwiO528BLz3vK59dD6J/4PA3AITAzIDbAJxwO2/sP2DO+f64voJ+c76zPxnPfX/pwDMgWZBYkEqANVBHUEKQURBmoEbwHS/f/47fQi8dXsP+qG6Qvrhu8J9rD9+ATmCUQM2QzdC5oIpwTdAmMBMv/e/kgA+wASAVABMAESAGL+Qf0r/YX9JP10/RT+YP1L/t8A3AGIA3YG7wVhA1sCdQEVAAIAAQJ1A34CJwGrADT/Zv2C/Wv96PtZ+hX50feh9mD2u/c/+Ev36fhB+hb5mvo//Tv9Pf2O/SH99/z5/O0BiAx+FgwjRDLkOUQ6HTdCLDwdRg/oAQD5RPNz7Wbsne3x60vt7/Do8PnxLPXe9kH5Mv1rAR0GgwkdC9ALuwg7A+v+ZfnM8vjuo+wN6zTtJ/IL+N/9FgLvBMEFVQQvA00C9P/4/Vb9ffzt++T8R/5U/kv9FPv199j12vVH+DP84gDXBX0I+QgtCqkJHAaCAxEBc/z09+P1kPWh9Sj3ovpM/ab9YP2m/WH9Pvy3/L7+uv/XABADDwWmBs4H2QgXCbcHlAaUBeYDoQNMBCQEQARMBP8C+wBy/vz6UfdG9LbxrvDh8ZHzo/U4+AH6RftL/NH8iP1H/jH+MP35+5n7/frz+vv+jAWlDKgVJyBgKVkuvC7iLHsnDx3QEjALqwPO/M34DPf39HryZvFg8S/wC++a8J/ynvPA9rX72P7dARwGnQi5CH0HSAVvAev73PYX9IjyofF28w/3ZfnF+rv8I/45/mP+Tv/r/3n/s/8fADj/nP5K/nz81fm39xf2ffWA9lX52P32AYUE2AZQCAcHOwUzBFwCTwC4/rT97/za+5b7CvzB+4z79Psk/C38TPzY/CX9Hv0M/i//0f+4ABsCswPaBI4F+wb5BzgHrQawBn0FzQNHA90CpQHyAIwAw/5X/HT6FPh99Q702PNO9Cf1efZh+FT6V/s7/C3+f/89/2r/n/+6/mv++f7wAMMFUQyOE8Eb1SPqKAAq5CiEJXce9xUODlQG4/44+NvzsPH17ynv/+8v8anxOfKm80P13Pa5+Yv99AAoBHwHpgkZCUAH2wRiANf6afZf81zxmPCD8Qz0p/aV+O36av2S/tD+fP+G/3T+s/1F/Y783vuf+3/7TvtK+6r7TfzM/EH9Z/73/8sAyQFhA/ADSAOEAqEB+v86/nH9Kf3Y/Bb9+f0A//j/9AAXAnECAgLmAW0B+f/K/pf+av4g/h3/PwHpAlcEHgY3ByUHLQa9BCUDVwGO/2j+xv31/Gn8Kfwn+9z5zPg096v1LfWY9cz2vvif+8j+4AAeAg0D/wKzAVEAmf84/9z/1wJMCEkPkRYCHs0k+SdvJ1AltSAtGTsRBgqbAmT7P/Zd83nxMvAh8Bvxg/Ek8eDxa/NG9IP1VPh2+/D9zQAWBFEGGAfBBmMF2wJ4/1L81/ng97H2TPbH9hr4t/ma+4f9C//f/5D/iv58/UL82/rb+Zz5tvnS+ZH6IfzA/RX/fgDVATwC7wGSAeQA0v+j/p39pPyV+/n66frt+ir7/Psq/Rb+/v6IAB4CLANFBIoFMgYCBmkFmwSCAyQC/QCZAKUAygB5AZICfQMtBLMEvARTBHcD8gGKAFz/3/2f/Nv70vp6+TL49/bR9cH0T/TR9MD1ufZD+Ib6aPzF/Z7/3wGmA8oFTwnRDYgSDxcQHJ4guyLUIggiWh9PGkYU/Q1HBy0A7vlV9ejxSu8E7j/utO4P7xzwtPEF83z0gfa1+AD7Pv3Y/5MCqAQRBuQG3QbRBfQD2AGo//38o/oI+br3Afco9zD4mvkD+2v8n/1D/k/+Df63/T39s/yw/Dr9Df5B//4A+gJ3BHoF2gUnBXoD+wAk/lL7vfjJ9sP1sPVM9n33UPlu+4H9jP9aAcsCigOoA54DCgMyAs0BxQHcAT4C0gJLA7YD+QNYBLgEuQS3BMIEfwQrBBYE6gOpA0QDjwJOAYX/eP0q+9j4wvZG9VP07fNv9KH1JffH+In6C/wn/Qj+D/93ADkC0AR+CMYMMRETFuEaoB4WITEi0CF3H3kbaBY/ECUJ9AEn+wz19+8m7EDq4+lI6mfrb+2G7wXxrfKH9BX2gvdZ+eL7g/70AN8DzQbUCAQKoAp7Ct4IUgavA50AK/0X+hH4ufbT9fH15vYf+Ef5VPp0+w/89/vr+yX8a/yW/KH9Zf/TAHQCTQTjBccG5AaXBkQF3wIVAPz8Qvrp9xb2jPWs9Y/2W/ia+jf9m/+cAQwDmANrA7QC2wERAWEALQB5AA4B+QEyA54EygWvBjwHPQfXBvMF1gSNAyICuwBe/x3+6/zB+836BvpU+dL4ifiP+LT4APl9+eT5Rvqv+gz7sfvM/Ef+RgDyAkAGCAoaDogSCBf1GicecSCGIR8hTx9KHAgYjxI7DG0Fkf7y9wLyYu0I6tLnxObM5r3nPOkN60rtsO/s8RH0VPbD+Bz7jP0vAKoC4QTtBq4ICQrSCggLqwqXCfcH+AXBA3EBB//A/Lf62/hR9zL2fPUQ9en0QfUw9nH3Afnq+gn9Cv+/AE8CoQNwBLkEpAQFBNMCUQGw/yD+wfya++n6zPop++r75/wN/ib/5P9MAI4AoAB8AFMAYwCJAOgAlwF7AnwDigR1BSoGmAa2BqYGWQbVBTIFjQSaA3cCPgHB//79Jfw/+l740vas9Q/19vRu9UL2XPeh+AH6d/vx/Hn+IgDoAbQDyQVBCOsKsg3OEPUT3hZpGYUb8RxyHfscoBs2GcwVoxG2DFQHpwH6+5v25fHe7bjqi+hx5yXnfeei6EHqKewo7lbwj/Kv9KP2ufjA+qT8hf5nAD4C1ANcBccG9QfbCIUJywnDCVIJcwg8B7cF4gO2AWn/BP2j+oD4xvaM9fz0/fSd9bD2Gvi5+WP79/xY/l7/CwB6AI4AaQAuAPX/nP9w/2//kv/f/y4AfgDKAOUAyQDJAKgAcQBaAGgAbgCVAN4ALgGRAfEBXgK9AgADGgM9A2MDdQOBA5gDkwNdAwIDeAK6AbYAk/9h/in99fvh+gv6fPke+f/4N/nC+Yj6j/vJ/A3+UP9yAHoBeQJvA18EggXhBm0IKgofDDUOTBBIEgYUhRWTFi0XMBeDFi0VJBN8EEoNnAmQBV8BIv35+Pn0ZPFE7pvrlOk66Ijnbef+5yrpxeq07O7uUvHN8072vfga+1j9Uv8CAZYC/wM2BVgGaAdKCPgIeAnECdcJrwk/CYkIigdCBs4ELQNkAYD/jf19+2f5dPe69Ub0Q/PD8sjyZPN+9An25vcH+jr8Uf4zAN8BLAMPBLYEFgUuBSYFHwUFBfQE5gTYBMsEvwSrBJIEcQQsBNQDawPnAloC0AEnAWkAsP/v/h3+WP2t/Az8ifs2+wf7/fol+3b76/t//ET9Nv5A/1IAcQGMAn0DPQTYBDYFPwX/BIQE5QMdAzkCWwGSAOj/hf+L/wIA7QBLAhAEHgZhCLoKCA0yDxkRlBJ5E7kTVhNKEpQQTw6FCzsIiQSPAHL8XPh29Ofw1e1T62PpEuhv52/n/ecd6cfq1+w27+LxvfSd93D6Hv2G/5ABOgOaBL8FnwZHB80HIQg6CCYI5gdxB8UG2gW9BH8DHgK+AIn/eP6P/eH8ZvwY/Pj7+PsN/CD8IfwV/Pr7xPuO+2/7Y/t++9H7Yvwy/Tf+ZP+2ABwCeAPABNkFsgZKB5QHkAdVB+IGNgZqBYEEhwOHAn8BeQCE/5L+r/3x/E78y/t3+037S/t/+9n7VPz8/MH9mv6A/2kAUgEyAvMClAMXBGcEggRvBDMEzANGA6AC6AE3AZMA/v+B/yr/5v60/qz+3P4+/8//lACHAaUC5wNKBcMGQQitCf8KJwwNDaIN2A2yDSsNNQzPChEJ/QaRBPgBRf+H/Ob5h/do9Y/zB/LF8MnvDe+S7mbule4I78jv6fBN8uHzpfWJ92P5K/vV/FX+m/+jAIEBOgLLAjsDqAMKBFYElQTNBPsEDwUHBd4EkgQRBHADwQIBAj4BiQDu/3T/L/8S/x3/TP+R/+T/KgBSAFgASwAcANf/h/80/+j+rf6H/nP+dv6K/rT+7v47/5z/BQBxAOAAVAG8ARoCbgK0AuEC/AIXAyUDIwMdAx0DDQPsAroCdgIeAqsBJQGbABkAmf8v/+X+uP6g/pz+s/7Z/gr/Qv+M/9n/HQBgAJsAzADsAAABAwH5AN4AugCYAHsAdACJAL4ACgFqAdkBWgLkAm0DBASqBFkFDAbMBoQHHgiPCMoIughaCLkH2QbCBXYECAN3Acz/GP5f/KT66/hJ9731SvT98ujxEfFy8BbwA/A98MDwnPHF8iX0tvV591f5NPsP/dv+hwD/AUcDZwRZBR4GvgZCB5wH2Qf+BwYI7AeyB1MHyQYhBlgFeASPA6QCtgHPAO7/DP86/m/9sPwI/If7Jfvr+t/6+fo7+5/7Hfyz/Gb9I/7o/rL/egBFAQ8C1AKIAzEEuAQcBVsFbAVVBRsFygRfBOoDZQPeAl0C3QFeAeoAhQAgAMj/eP85/wb/2P6y/pz+k/6O/p7+uv7a/v3+K/9h/5X/yf/2/x8ANQA+AD0AKwAKAOX/x/+t/6n/v//0/0EAmwD/AGcB1QE/AqsCFgN/A+MDOwSIBM4ECAUmBTAFKAUDBbsEXQTlA08DmwLSAfcACgAV/xn+If0i/CL7Jvoq+TX4Sfd69sT1MvXG9Iz0jfTB9C/11fW89tL3FPl9+v/7i/0K/3wA1wEQAyEEDgXPBVsGwAb1BvwG1QaABgAGYgWsBOkDJwNkAp8B5AA5AJX/A/+K/ij+2f2i/Yf9iv2o/eL9Nv6h/hX/iP/5/14AsgD5AD4BdgGjAckB5AHyAf4BAQLzAd8BygGkAXoBWAE9AR8BCAH2AOcA1wC/AKcAlACHAHsAdgB6AHwAfQB6AG8AWQBAACsAEgABAPr/AwAVADAATABmAHAAZgBPACgA8v+y/23/Hv/O/oL+Qf4O/vL95/32/Rn+S/6V/vf+bf/w/4YAKAHSAYECMAPdA3UE+ARjBa8F2QXfBb4FcQUCBWYEogPEAtABzADB/7D+nv2Y/KL7tvrl+Sr5i/gM+Kz3a/dW92/3rPcR+Jn4Pvn5+cv6ovuC/F79Ov4H/87/kABCAeYBdQLzAlADngPXA/oDDQQSBAsE9APZA68DgANDA/UCmgIyAsIBTAHdAHIAEQC+/3j/Rf8e/wH/7/7p/ur+8/7+/hT/Of9j/4v/s//b////HwBAAF8AgACcALcA0QDlAPIA/gANAREBFQEVARoBGwEiASsBNgE/AUQBRwFCATwBKwEWAfgA2wC0AIkAVwAeAN//nv9g/xv/1/6M/kL+8v2o/Wj9N/0b/RL9Lf1g/bT9Hv6e/i//yv9uAA0BrQFHAtQCUQPCAyUEcASpBM4E3gTdBMgEngRcBAcElgMSA4EC1wEkAWcApP/T/gz+Sv2N/OP7SvvG+k/67fmf+Wz5TvlJ+WT5nfny+WH67fqP+z789/yz/W3+KP/j/5gARQHnAXcC7QJIA4YDqQOwA50DdwNDAwEDuQJyAisC4gGbAVEBBgG6AG8AJQDk/6z/fP9X/z7/Mf8n/yP/KP8x/z3/TP9g/3j/lf+v/8z/6f8AABIAJgA6AE4AbgCQALYA2QAEAS0BTgFsAYQBjQGHAYABbQFNASUB/QDWAKsAeQBEABAA2P+Z/2D/Jv/x/sT+of6J/oD+f/6H/pn+q/7D/uH+Bf8q/1j/hf+4//D/JQBhAKAA5gAvAYEB0gEjAnECswLuAh0DPANGA0IDLgMIA9gCoAJfAhQCvgFpAQkBpAA1AMb/T//T/l7+4f1t/QL9o/xJ/AL8yfud+4b7e/uA+5j7w/sB/FX8tvwo/aL9HP6P/gT/cv/Y/zgAigDTAAsBPAFiAX4BjgGTAZMBggFwAVcBPwEnAQwB8QDXAMEApwCVAIIAbwBbAEYALwAbAAMA8v/h/9H/v/+0/67/q/+0/73/z//g//j/DgAvAEsAaQCGAKUAugDMANkA5ADrAOgA8AD3APwA8gDqANYAugCXAG4ARQAdAPj/0v+w/5P/ef9n/1j/S/9H/0L/Qv9F/1D/Wf9s/4T/nf+7/97/BgA0AGIAkAC8AOkAEgFCAW4BmQHDAeUBAAIVAiwCOQJJAlACUwJJAjYCFwL0AcMBhwFEAfgApQBLAPb/oP9Q//3+rv5d/g3+wf17/Tn9/vzM/KP8h/x6/H/8i/yl/MX87/we/Vv9nf3l/Tj+iv7g/jf/jv/a/yIAXQCOALUA0wDkAPQA+QD0AOsA3gDKALUAoQCJAHYAXwBNADkALAAcABYAEQASABAAEwAVABoAHgAdAB4AHwApAC0ANwA7AEIAQwBGAEoAUQBdAGwAfACLAJcAogCnAKsApgChAJwAlACPAIUAgAB1AHYAagBkAFoAVgBGADQAHgAAAOH/vv+j/4r/gP94/3//hv+U/6X/wv/f////HgA/AF4AgACgAMEA5gANATwBbQGkAdQBBgIyAlsCeAKPAp0CnwKZAoUCaQJCAhUC3wGkAV0BCgG2AF0AAACe/zz/1f5r/gP+n/1G/fn8t/x8/En8HPz6++z77vsD/CT8VPyN/NH8HP1v/cv9KP6A/tL+KP96/8b/CABDAHIAmgC9ANkA6gD4AP8AAgH5AOkA3QDTAMkAuwCuAJwAjAB9AG8AWwBIADgAKQAWAAUA9//u/+L/0//H/8L/yf/R/+T/8f8KAB4ANQBIAGAAdwCJAJ8ArgDFANIA6wD0AAIBAwEKAQsBCgEFAfUA6wDNALkAlgCBAGQAUAA2AB8ABwDy/+H/y//C/67/o/+O/4H/dP9w/3H/c/+C/5X/uP/g/w8ARACBAL8AAAFEAYkBzQEMAk4ChAK9Au0CGgM+A1ADWQNMAzYDDQPXApICQQLmAX0BDAGOAA4AiP/5/mr+3P1P/cj8Uvzp+5T7TPsV+/D63vrn+gH7Lvtq+7f7FPx6/OT8WP3N/UL+sv4b/3z/0/8iAGUAogDQAAIBJwFMAV8BbAFwAXABaQFWAU4BOAEuARMB9wDYALwAmAB1AEoAKAD//+D/vP+c/4X/af9e/0P/P/8z/0X/Tf9r/3v/pP/E//f/JQBZAJEAwAD/ACIBVwFuAZABmwGsAakBrgGjAZsBigF0AVkBNQETAegAvwCMAFsAIgDs/63/eP8+/xb/5/7Q/rf+rP6k/qT+sv7C/tv++v4j/1j/nv/t/0cApwARAYEB+QFnAtsCQAOkA/oDRAR7BKIEtgS2BKsEfgRCBOoDfwMEA3ECzQEaAVoAmP/P/gj+Pv19/MP7F/t++vn5mflS+Sv5Ifk9+Xz50Pk8+rz6UPvv+4/8Nf3d/YT+H/+z/zAApAD+AEUBeQGaAawBrQGpAZkBjAFzAWABSwEzAR4BCwH7AO4A2ADFAK4AmwB+AGMARQAnAAMA4P+7/5f/eP9X/0b/Mf82/zH/U/9p/5n/yP/9/0EAgQDQABMBYAGZAeEBBQIxAkECUAJIAjcCEALfAa8BYAEbAboAZgALALn/av8j/9/+qf57/lX+OP4k/h3+Hv4l/jH+SP5s/pL+x/4C/0//rv8UAJYAGAG2AVUC/QKmA0sE6QR7BQsGgwboBigHQwc+BwoHrwYgBmYFhASAA1ICEQG6/1j+BP2q+2T6O/k3+Fz3tvY39gH2AvY79qz2QfcO+Aj5G/o4+138f/2q/sP/uwCVAVIC6QJWA5UDtAOyA40DSQPrAnwCDQKdATUB1gB1ACAA1P+j/3L/Vv84/xv/AP/m/tP+vf6e/oD+bP5W/kn+Kf4l/j3+Xf6J/r3+D/+A/wgAjwAlAboBUALqAmUD5AM9BH4EnwSaBHIEPwTqA20D4AIuApAB3QAzAI3/9v5r/uj9dP0Z/eH8qvyG/GT8SvxB/EP8R/xC/D78NPxA/D/8ZPyK/On8af0h/gn/IwCQASUDDwXbBtsIwAq7DGkO4g8LEdMRKRLREQwRmw/FDVALfghRBfwBgP4I+7b3pfQK8tbvJ+7v7FfsT+zI7Kvt7e6L8FvyTvQ29hn4+fm++2H9xf4JACwBSgJQAzgEHAX+BeQGvAeBCDkJ3AlaCqAKlQpJCrEJyQiLB/sFJAQTAuv/rf1/+3D5l/cV9t/0GvSz88DzQvQV9UD2pPdF+QD7xPyL/jsAxwEbA0MEPQUOBqsGFQdmB4wHngebB4IHVAcFB6IGGQZnBZMEpAOAAkYB3/92/g79q/tq+kH5VPig9zb3Afcf91z35feA+Cz57Pms+oL7XvxZ/Uf+gP/bAKMCuQQZB98JxAzVD+ASyxVSGGAazRt6HCIcmBobGMEUthDsC5oGDgGX+172iPFf7fbpnef/5R3l2uQ75U3msOc16bHqO+zC7UfvpvAK8rDzjPWb9+H5aPxr/9oCcgYGCnQNuBCME9gVXRchGAwYDBc4FY4Sag/qC0QIlQQEAb794vqG+KD2WPWC9A702fPU8wb0QPSY9OX0NfWh9TX28fbb9x75pvqX/Kf+0wAnA3QFsweYCQ0LEgyiDKcMCgzpCmcJrwe7BZgDdgF8/7z9RfwP+yb6l/lG+T/5PflT+YD5sPnm+e357vnh+ez5APoj+nb6EPsh/Hb9Lv9IAcUD8wZRCskNThGCFJgXJBoDHP8cOx3YHJcbMhmoFcIRtg18CcgE7P+F+5j34fNP8BDtg+qZ6NbmFuWC48LiveLj4irj7eON5eXniOpm7e3wMfWr+ez9xwGXBYwJDw3GD7sRWxOrFF4VShW4FAUUBxOtEbYPbA1BCwQJagZhA0AAVf17+qP37PTB8iLx7u8V78LuMO8z8K/xUPNE9Yb39Pkj/Cv+NwA1AvsDPwVpBngHlQhvCecJMgqGCrsKlQoFChcJMQj6Bj8FMQMaAS7/S/1Y+2/54/f29mb2F/b19V/2Kvfx93z44/iA+SL60foj+4P7OfxV/bn+TQBcAoIFmwm2DdIRqRWGGfIcWB+OINsguyDFH20djhkuFRMR+gxcCFYD5/4T+0r3OPPv7m3rgui65bHiq9+Z3b3ceNxW3A7d8t4c4p3lMulM7TryhPdK/FoADATtB68Ltw7fEPASDBX9FkgY4xhdGYsZCBl2F+0UEBLeDigLugbxAXb9SPl69f3xbu/F7ensauxQ7M3ssO3v7hDwPfGi8lL0APa+99T5afw6//EBbAQVB8wJCgycDWkO3g7qDk4O1gwHC2kJ6QcYBhAEJwK2AFX/kv19+6f5YPg69/X1k/Tj88Tz2PPF8wL0LvUF99r4U/qs+3L9gf9cATYDdgUvCXcNfhEmFZEYPxxpH2ghUCKjIosiPCEiHp4Z2hSEENkLiQYqAbP81fjn9JDwbuwm6UvmaONE4MjdoNyo3OncU92d3jXhmeT+52brYu8N9IL4cfzE/0gDRgcQCyoOtRB4EzsWgBjWGWsawRpyGg0ZpBaSE1YQHw1/CW0FfQHy/d367/cY9dPyGvGb7yzuCO1b7FfsmOwh7Q3upu/78XD0U/ci+j79DwAtAiEE7AWxB/kItgkFCmEKmgqHChQKiQn3CBgIhwZWBCIC8v+p/Rv71fgM9wz2jPU39Yz1GvYa9yH4vPjM+Zn6sfsl/If8j/2u/m8BeARsCRMPlRT2GaQdByHTIp8jXiP9IaggMB70GhYXLBMzEK8Mowj1A0//tvo+9VrvdunI5AHhrt0I27PZXtpf3DveBuDr4a3kVudD6SzrnO1z8TD19Pit/GwB3Qa+C6APdhJ7FfUXZxmTGS8ZJBmVGEkXZxV1EzMSVxDPDWsK1gZDAyb/uPoc9pHyp+9G7XzrpuoX6y3sQO1M7nrvJfGF8sHzBfWM9un48Po4/Z7/iQKOBQwI/wlnC6YMJw3ZDMcLYgoCCXsHtgXYAysCjACt/qn8Zvq3+Cb34vX19BH06PPV84X0gvXd9qb4u/ko+3T85/2MAHsDhwiCDn8U+BmQHQYh+iItJEckUSM0IwAi5R9RHCUYHBWnEVUNXgdnARH8K/b370LpWeQ74ZneMNwW2gbafdv33Hfdd93s3jjhruP65enoF+7j8yr5Uv18AY0GMQuQDjMQ6BFmFHsWABieGJgZ7hoWG+wZcBf7FEkSoA4qCi4FNwH2/eT6PPjR9WL03fIR8Urvue077Z/sgOym7JvtiO9p8RT01fb5+c78mv5KAN4BmwPyBA0GbQf6CIoKLAttC4QLlwvUCiQJLQcGBWsDtwDF/TP7IfkN+Dz2EfU/9OvzD/QH81zzMvQb9kn4JvlN+w39FwBQA8cG6QyrEq8YNRwZHlkgYSHrIrIi/iIAJDYjnCE9HZgZdBb/EWcMyQTO/hz5bvPZ7Ufor+VX48bgxt0+20rbZNs82yPaMdqv3Ivf9eIg5vrq/vD79cP5iPyXAAkFuwgxCysNiBAMFD8XbRkaG+wcTR0JHBcZJxbTEz8RVA6wCrcHIgVWAlj/3/u3+Ej1j/Hs7efqbOnU6ATpwukR6w3t9+4d8Vnzw/X793/5C/vk/Eb/rAEKBHAG2ggZC0gMuAyzDHwMzQtGCnkI5wbkBYQEUALz/4f9dfso+bj2EPUb9Aj0jfNG88HzsPQO9mT2+PYw+IT68v0DAjEIKQ/tFSobNx6vIIEizCMrJBYkvSSYJGgjdyDqHFYaehYhEccJqQKh/GX2dPBt6tbmg+T+4R7fOdy42/Dbmttg2sHZkdtr3oHhgeS86MHuJvQ4+Cn7qf40A9UGWQkPCwcOsBGeFKEWuxdjGRcaXBk4F90UghPsEd4P8wyFCp0IRQZmA83/jvxB+Yr1vfF17r/s1+ty62rr9+tM7XPulu+Z8BPyxfMh9aT2lfht+0/+3AD4Av4E+AYhCLMI8Qh0CdEJhgnRCOQHQgdDBrEE1AKbANz+t/yt+vr43/fs93/37Pc7+PP4vPmz+az6mftP/lwBfgVIC4wQ4xUbGWAb9BzcHa8eWx4TH+4f1h/7HhscoxmmFiYSQgwBBbr/P/pL9VTw6+sw6o3nF+WL4U7f6d4N3nXdMdxt3Rjg5+LI5WjoAu3f8Xv1Ivig+pf+UgIPBTIHhAmnDecQMhNwFHQVyhZIFt0UsxLjEZYRhxD4DuEMqQsJCnYHDQSzAO39Cfvh9w71TfOb8svxtvD175nvy++s79XvY/B+8ajylvP59M/2Dfmo+tf7+fxa/lD/FwDLAPsBkwNcBOsECAXPBc8FQAUTBK0CDQLDAKz/jf5v/rL+w/6F/kv+tP4V/wb/uP5F/60AcgM2BloKVw8MFKoX4hi9GYUZJhr1GeUZ5hp4G5EbNRlMFuYSoQ/OCrsENP/q+jT3TfPg7yDt4utK6Tnmt+L74LjgFeD938Tfb+JN5SrofuoK7UbxffQC91f4IvsC/+YCvQUICBELcw6/EEoRphHhEeASEhLIELAP2w9sEBcPlg0UC9cJfwc9BP0AI/7P/IT6qPiI9ur1qfVx9CLzoPGh8Ynx3fE78pfzh/Xi9t73qPgT+nb7cvzE/H/9c/6v/28APQFcAmsDAgRjAyMDvQKMAv4BGQHOAFgAiAC2/2L/Hv8c/x3/ZP61/qD+kv+e//D/+QDJAroFZQjQDBQRFRXhF8YYgRnOGaIaghq/GqwbyBu7Gs0XLhTxEAQN2gf3AeD8evlM9bfxeO0I6wHpneWN4iHfFt8D31jfed8r4J7j5eWS6AnqCe048SX0yfaK+Jv83ABeBLMGlwijC3IO2A9REJgQ3RGlEssRCBGCEM0RdBEoEB8O+gvNCp0HtARrAdD/nf5L/Kz62Pir+HP3pvXc85DyqfJw8uny5vPa9ZP3h/jO+K75qfrG+zf8sPwd/jn/mADIALQBigLNApMCQwEOAaEAQQBu/3n+kf4t/v/9D/2v/P78MP3r/Mn8XP2y/p/////kAKoC5QVcCCIMUxCXFOgXrhgjGQwZEhpfGioaOxuAG3kbgRiRFMMQ/QyuCHcCWv2G+Xr2CvPY7rjruun/5qzj998P357fTOCP4JvgjeN45k7p9Oog7YTx8fTs92T5uPyHAVAFGAjwCHYLJA78D2oQOxCdEbsSkRIeEcgPQhBqEAEPtQxUCpkJqgdRBVcCUQC5/739s/sj+VT4svcl9qz0//I983zzyPM59Bz11vZ09/j3PPhk+dj65fuZ/Jn96P4nAKUAHAHFARgC/wEGAegA1wAlAbEAGwAJAKr/RP8s/r39uv0I/in+v/2X/p7/3gDVAN8AxwGTAwAGgAj7DPgRZBZfGJ8Yhhj2GFUZ8xgoGVca7BooGWsVLxEKDkkKugSa/vv5ZPca9ILwruyx6ijpv+XX4cHeWN9s4P7g3+AS4tTlwei26vDrNO+z87T2fPh2+h7/XwT9B6QJEgvqDVEQvRA0EJ4QLRLjEnYRyg8jD9YPCA+eDBoKgwjZB4wF2QKqAPj/Jv/e/Kn6KfkH+UL4efYm9ZT0KPUL9UD1z/Uw94j4kfjS+FL5Bfsu/Pr8x/0A/5gAGwE1AYMBBQJKAlsB1QCnAEoBcAFvALD/I//3/sf9lfwI/E38svxI/Iz7i/wF/nz/bP9x/4wAhwIZBQAHTwsAEQoWjxhJGFkYCxkaGvIZdBlQG2QcwxtRF4cSOQ8PDBQHAAAA+1T4C/YO8kPtbOoa6SzmpuG43aTdo9/o4KPg/+Bg5Ozntelg6prsgvGT9c/3hfnf/QYEUQg6CtUKWA3rD88QHBB5ENUSlxT3E6oRoRDEEBMQHQ3YCesHOQeSBYQCRQBy/+L+bfw2+Sf3uvaH9sn0YvNK8230A/W+9EL1ofaH+MH4q/hA+Tz7Uf0Q/q3+o/97AQMCuQGFAUICGAOtAr0BiQE6AqIClAEcAE//OP+B/tH88PuD/Hv9ev1v/IP8EP5I/2L/YP6s/84B4QTlBgAKxw8hFYUY8xdiFwoYMxmYGZkYKRqIHOIcSRkAE+8OoQu7BwABNvvX+F33EPRU7tfpJ+gX5tLhHN0C3OHeT+Hw4ZXh++Pg58/pOuos6/3vvvVW+YP7lP6+BI0JuQu5C5EMpA82EWYRBhEcE6AVnhUcE+gP5Q4xDhYM2gihBgwGJQWbAm7/cf2u/Cz7QPi+9f/0jPV59X/0UPTv9OT1sPV/9Z72dvhS+qX6uPsk/R3/NgA8AP0A8gEDA5ACKgKDAiADAQOdAYIArwDcAIMA/v4p/h3+Ev7v/Ev7HPvj+2f8zPvv+rn7XP7l/1sAzv9wAUoDdAWJBjkJSA9XFcAYdRjSF5sY7hnwGfUYSxqHHfcdSRo7E5sOlQsfCDUB/von+Pn2cvMI7ZnnieVm5FzgrtsN2lTd3ODb4ePggeKG5qXpHOpd6+/vHvf4+/z9WwCGBVILxQ3CDfQN5hDUE6YUOhSvFfsXkhgPFa4QEw6ADVgMRQnSBmMFcwR/ATT9FvqY+LX3iPXj8hvyiPJo87HyZvLp8tDzf/R/9Bf2ofhp++z84/1B/7YA3gFqAk4D7QQkBksGpAVGBTQFcgTzAlABMgEKAXwAm/48/bn8HPyd+oL4O/gj+Rz6//lM+WD66vy6/ib/hf5bALkC2QVpB6gKThHoF20bIRpkGNYYcRpeG+EawRwMIOQfIxsmEqoMgQmzBqQAHvqZ9931OPLr6l3kPeKw4Ird5tgp2MXc3eCC4lngZuHz5F/oL+oJ7M/y7PpdAKUBkgKeB/oM/g8QEK4QoBSGF88YpRdSGMgZ0Ri1FO4Opwy0DCQMMwlYBV8DIQFJ/Uz4wfRf9MnzcPIa8OnvJfHA8TfxCfDS8Hvyb/QI9lv4+ftt/ib/q/5S/5cBsAOGBY8GFwiqCKwHOQbTBMoE7gO6AhUBYgDdAI0AS////JX7lPrx+Hz3Tvd8+dr7O/xX+4f6L/y1/S7/of8QAdIDtQb6CN8Kug9dFisbSxt1GG8XEhneGpYbYRzeH5gggBzUEq0KGQfKBZMCQ/y594b1NvJO6wTjRd9l35reQts02DXb1d+f4sDgd98w4hnnWuth7rbzI/wLAysFsAMpBUELbxGmFAwVThc1GhkblhjoFf0VtRb8FIQQ/AtnCjoKbgj6A/H++fuj+dz2jfP58bTyz/Lq8Bnuau0c7/Dw4/Fy8tTzI/a39zv5wPrI/YUA5wF2AksDogWWB8AI6wgSCd0IlAfOBfwEsQSrBDsDzwHJ/4/+Ef2U+yH6KvkX+bL4XPgN+OD4+/lh+uj5IfoW/Bf/9gB1AqYC+wMpBVwHqwn/DdwU8BqrHRUbIRdJFjwY4RopHN8eeyE6HwAXsgrvA6sClwPGAE/7UPdD82LtnuR03QDd+97C33HcANvg3VzhrOIy4OXgZuXU69vwgfSg+kgBTwUIBVYD5QY0DvgV0Ri8GDMZMxkWGKQUThMDFe8WGhUbD4oJsgZQBSADuf4k+/r4pPfv9H3xvO+t78Lvuu266y3sne/88r/05PSG9aj2Mvje+af8ZQBdBH0GmwbNBV0GIQi+CYcKKApBClYJwwd5BZEEXgS/A7oBPf8v/Wb8QvtR+t34Rfiu9233h/e59534Jvnw+Uf6+/ov/ED+xgCbAiwD/QNhBS0IhQoADwoV9Br9G84X7hOjFDEZjBzPHYEfzh9iG1wQXgULAkUFZgh3BAT9iPWA7wLpDuKa327iHuYW5Tff1tvC3JDgWOLC4sDl6eoN8Azy/fMR+Xv/DATsA88DtQfKDg4VNxaoFY0VQxbZFcsTqhOMFSkXihSZDcsHCQViBbsE+gHH/tP7FPmi9FPwD++c8JfymPE27/Dt2e658Cjxy/F984X2JPll+lv7Yv11AMYCQAO2A4oFzAjQCqgKnAlwCQwKpglbCGwH7wcXCDsGZgJG/zn+SP6e/U38bft7+5j6fPiN9sP2UviM+en5LPqF+5X8z/y0/GT9+f7wANoC1AQ4B9MKFw8xE3sU0hI7ED0QmxPOF9AaPByyG50XpQ9nBx0EEAdFC9kKcAVw/Xv1d+5k6s/q6u7h8a7vVems44nhgeLW5NTnievv7i/w6e6x7Zbv+fQG+8D+sf9DAD4CmQWjCOMK4gx4DuMOBQ5TDSsOARDREFwP5gzHCiEJbAfIBdoEPQSqAoj/APwB+sX51vnH+LT2wfTM8+7zevQr9e31j/bZ9t72/vbd98H5ePwX/9QATQEtAX0B5AL5BLsGtAcZCBUItwc1BwUHZgfkB4AHBwZ/BKgDVAPfAi8CiwFDAeQA3f+f/in+kf4c/+L+7/0X/S39pf2T/QD9tfwX/a79uP1e/W39M/7S/sD+vP7N/+MBogMwBAUECgSbBD4FqgVRBl8HMwjWB2wGtAS/A9oDQwRABKYDpQKPAVkAL/9v/pD+Ff8G/wf+ufwn/GD8s/zd/Pb8Hv0I/Vv8vfv8+xr9If5m/gX+c/00/Sz9Q/3E/W/+5/6P/p39pfw2/Jn8Qv3O/ff9p/0d/W789Pu4++b7fvwV/Yz9nv1v/Sz96vzn/Dv9EP4h//L/bwCZAM8ABgE0AXkB9QHaArEDCAT1A9MDDwRVBHAEPwT9AxUETgR7BGEEGgTGA1QDyQIRAowBbwF3ATkBagCc/w7/ov4U/pL9b/2b/af9GP1f/C/8cfyu/J38jfzN/Fb9u/3h/Tf+3/6v/1gA4QCCAVECLgPsA5AEIgWWBe8FHgYkBgoGDwZHBl4G+wU/BY8EHgScA9AC4QFMARgBwgAjAIL/Of8P/5X+2/1Y/Wn9r/3C/aH9iP2V/Vz92/xy/JH8A/06/SH95vzO/MH8f/we/N77Afw9/FD8NvwN/Pb73Pu7+7j7APyA/Pf8Nf1D/UH9Wv2d/Qn+lv4t/9D/SABwAG8AfADiAHIB8QFNAqgC9QLmAqgCeQKgAhEDZgOHA4IDdQNEA/MCqAKBAqECygLHAocCJgLCAWgBKwEEAeYAvABtAPf/ff8y/xL/AP/Q/m7+Bf7M/bP9p/23/eT9Ev4V/vD94/1B/vL+of8nAJkACgFjAbIBFQK8ApsDNQRDBP8D6AP9AwYE6AO6A7UDmAMjA3QC9gHJAaQBXAHiAIkAYQBBAA8Ay/+i/3b/Nf/K/m/+d/6x/s3+fP4D/q39dP1P/S39Sf2a/dH9nv0H/X78P/xh/Lv8Gv13/ab9gP0T/bL8ufwt/db9Yv6l/rb+qP6R/oz+uv45/9r/XgCDAFkAMQAtAFcAjADIAAQBMAEwAf0AzwC/ANkACAE0AUkBQAEsAQEB6gD4ACEBPwE8ATIBDwHrANUA3gD9APMAvwCAAHMAeQBgAEgAQgBOADMA4f+H/2H/jf++/9b/2f/K/7D/gv9c/1r/oP8DADIANAAmACIAKgBGAHMAnADdAB8BPQEhAekA5AAvAaAB0gHXAfQBDALkAYMBXwGgARICUwI2AgQC0wGVATQB6wD2ADMBZwE7AcsAaQAyAAMAr/98/3//qf+k/zz/uv5i/lb+QP4Y/vn98v37/dr9ov1m/WX9hv2P/Yv9i/23/ej9GP4t/iv+OP5R/oH+tP77/kL/df97/0P/Ef8d/2z/rf/D/8L/x//R/7f/iv96/7b/AAAYAAgA/v8RAB0AIgAiADgAWQBkAGoAdgCKAHoAaACMANQA7AC6AIoAtAAQATcBDgHhAP0AJgEaAegA8gBIAV8BDwG0AMMAAgHfAJMAdQCsAKEAJQC5/9X/WQBaANP/Zv+D/8X/mP9X/3v/BwAtALL/R/8z/2r/sf9QAPoA2gAQANz/sgBYAb8AFQDYANkCgQOnAa7/GQBJAicD4QHSAPIBcAPsAkABFAGEAsEDOQPKAcQAcgCLAP4AWwHKADn/sP0w/RH9Uvxo+437LvwT/Oj65vms+Q76Nfqk+rn73vwX/bH8zvxx/fb9gv7///YBCgNaApEBNQIFBMQEbASFBJ0FQAZRBbIDBAMzA70CXwErACcACACx/nT8BvvW+jT7JPvJ+pj6xfrD+n36xfr9+8v9C/+W/+v/7wBLAmEDCQTFBM0FpgbwBqYGFwabBVIFtgQ4BKgD3gKXASwAcP4D/R/81fu1+137nfp5+fv4AvnC+VX6Tfv4+8v8/fx9/TX+AgB3ASUC0AG0AfoB7QH1Ad4BfgJ3AisCnACBAK4AOgIDBLIH+gprDIoKAgheB1kJKQz1DbwP4g+EDQgHDQEU/pj/vQD1/3j8Lvlc9SzxQe057CXu3vAk8hXyNvJG8lbyJfJK9OT4G/9HA/YEnwSBBAsFtQYhCRQMtA5mD+IN0goCCF4GtwUeBTgE6wLNALn9i/nF9WbzPvPH8030wvMQ80Xy7fHq8TnzcPbf+iH/ZgEsAmcCrASxB0AL1w0LELIQ+BBnD7INgwyQDH0MPQuVCEMFgwKc/z/9WvrT+Mv3d/fu9VD0EfMq85bzUvRn9WT3MfoD/Nr8ov0DAAMD2AUHB/AH+QgNCmQK6gl1CSUJ3QhjB3QFPAPBARcAfP4+/Dn6sfi599/2xfUa9c30nvUu9uD2Lffb+J/63/w0/v3/xAESBEoFrgX+BbQG2wcLCOcHQQceB/AFFgXGA08E6QT4BbsFXgZUB5UIygg9CBMISwj/CHoItQcuBugEOQJA/9j78/l7+G33gvUp89PwMu9a7i7u9e5L8B/yoPPy9CD2T/gM+yX+ywBzAyMGmQgNCoAKzAqDC2UMrwwvDEsLEAriBw0FKgIVAMT+dP2j+4X5dfdh9Y3zaPJx8onzy/TJ9Z32uvcX+bP63/xk/7oCKQaKCKEJQQqLCk0LXQwmDYUNDA2RCxgJJgacA2ECWgETAPf9SPvZ+H/3nvYu9jn2tvaJ91L4FPkS+qD7Wf1D/yUBOANWBQgHrAfUBxUItghFCS8JMgjTBn4FGQRgAkQAXf7b/Jv7J/q4+KT3Mff19rv2vvZ39+P4WPp9+8D8ef5GAM8B4gLxAy8FhgY4B1sHUgciB/AGSAZEBecDqQJpAY4Ahv8x/s78lvvH+lr6XPqW+oP7ivy9/ZH+mv/gAK4CjwRUBuYH/gieCaQJQQlQCKEH/AZcBiQFaQMVAbj+b/w0+jP41PYy9q/1z/Sd89/yBvPb8+D0LfbS9wP6CfyM/en+ngCkAs0ElQYKCDAJ2AnICVwJ3wh5CAgIPwf/BTsENALq/+H9L/zo+sr5B/lc+Mv3LffH9u72z/dU+e36gfwL/of/vQD0AUMD6ASOBt8HegiACEEI2wc6B5MGBwZpBXgE/QIjAUv/8P3j/Bj8aPvm+k365Pl2+Xf57fnU+uv7Cv0P/tf+lf83AEEBLQIxA6kDBwT4A8wDQgPSAnACLQLPAfYAMQBG/87+Fv7F/Wn9Yv0s/T/9Cv0z/aT9B/6o/kn/6f9bAEsBAwIEA7gDsgSoBdQGnQf+B0sIxAgPCZ0IzQfwBmcGOQVuAxsBLP+r/R38F/o2+PX2G/Yz9UP05PNe9EX1HPYK91/4LvoD/L79ev+DAZADOQVEBh0HvQdICH8ITgiQB1wG8QROA7oB7v8x/oj8PfsJ+s/4lvfs9tv2N/fb96j43vkk+5H81f1Y/yEB/wKNBLsFwQZ4B+IH7wfYB5wHNgdjBioFoAMfArwAVf8h/hX9V/ys+zb76Pq++uv6Vfsc/Cv9g/7p/ysBFQLRAoEDOATXBFIFmwWHBSUFWAQ+A/gB4gDg/8n+wP3L/OX78voK+l35FflT+db5ePok+/z77vzK/a3+xP/4ACkCOgMeBNsEOQUtBbYESgT/A90DmwP6AjsCUgE4AAD/Lv7y/TH+iP6w/pv+k/7C/jn//v81AcsCFQTeBB8FLAVHBZoF7QUABs8FTQVUBNwCKgGq/3D+aP1q/EH7Lvo7+XD4wvdl9433Mvge+Rj6/fr4+xb9Pv5p/5kA4gEaAxQEkgSxBJcEYAQWBJgD7AIfAioBAwCq/kn9Lvx2+/j6jPou+vb5/PlN+tP6ovuy/OD9Fv9GAF4BbwKAA3oESQXVBSgGPgYUBqoFKgWPBNwD9wLzAcgArv/J/gP+WP3H/GD8E/z6+wj8Tvy6/Gz9Lf7r/p3/QQDlAHoBJQK9AisDUQNMAwsDpQI7AtIBWQHdAFoAr//y/i3+p/1U/TX9Mv00/WT9m/2+/db9MP7N/pn/ZgAMAYAB2AFAAo4C3AJaAwIEdQS+BM8ErASUBJQElQRtBGsETATXAwwDFwIpAVIAq//z/iH+Tv2e/Nb7+fpO+gb6I/pk+tT6SPvt+5P8O/3q/bj+t/+zAJ8BPgK2AuIC0wKGAjUC2wF6Ae4AJQBG/1n+gv2k/O77fPtV+zj7L/tC+3772/tf/Pv8vv2y/rP/oQBpASMCywJVA7kDEARbBIwEeQQsBLADKwOWAu8BQwGrACkApf8Z/43+Kf7n/eP95/35/SH+df7S/iP/d//i/14AyAAkAVUBiQG0AcUBrgGHAWMBMwHlAG0A6P9x/xb/wf5q/iz+E/4N/u392f32/Uj+uP4t/6P/GQCPAO4AOAGGAe8BUQKlAswC0ALDApUCPQL9AeMByAGdAVQBAgGaAEQA/P/K/7b/2v/3/wQAHgA1AFQAeQDRADEBpAEEAj0CRwIfAuUBpgFzAToB/ACaAPz/Pf+C/ub9Y/0L/dT8o/xt/Dv8FfwD/DL8kvwO/XX94f1S/rH+Cv9Y/7X/DQBnAKcAtgCjAIQAawA+AAoAz/+f/27/Nv/6/rj+jf52/n3+jP6l/sn+9v4w/2X/pf/x/0YAnADkABkBSgF3AYsBkAGCAX8BcgFhAS8B7gC3AHYASwASAOL/r/+X/4v/ev9q/1n/WP9r/4//qP/P//P/KgBUAIIAewCnAB8BTAFtAYMBkAF4AX8BZAE7ATYBYAFJAbwAYABBADEAFAAfAOv/0//r/9z/n/+E/9n/BgAqAD8ATgBiAIkAlgB1AG4AlQDSANsAygCyALIAtwC1AMAA3QARAUwBdQFuAVQBPQEgAQMB4wDOAJsANQDK/0z/wf5B/u79uP2b/X79R/0S/fj8Df0r/V79rv0d/ov+2P4D/zP/ef+4/+7/DwAgADEAMQAJAM//m/94/1r/N/8P//P+1f69/qj+lf6a/qr+1P4D/zX/Y/+V/8v/AAAwAFoAkwDPAAgBKAE+AUYBSAE/ASsBGwEHAfYA2AC0AIUAWQA5ABcA///z//T//f/9//n//P8NACcARgBvAJYAwADcAN4A5AD1AAMBBAH4AOsA3QDEAJoAbABOAEQAOAAmABoAHAAiACsAOQBNAHMAoADFANEA6wATATQBTwFWAVYBUgFhAVYBMAEDAd4AvgCXAG0ANgASAPv/3/+z/6H/p/+0/73/t/+x/6D/lf+F/3D/Xf9V/0//Pv8g//7+7P7e/tT+2v7q/vX+AP/+/u/+0/7A/rv+tP6z/r3+tf6b/oP+bv5t/nr+mv69/uD+/f4S/yL/Nf9j/47/rf/I/+H/8////wMA9v/2/wYAFwAXAAkAAwAJAAwACQANABkAOABOAE8AUgBpAIsAogCwALQAwADRAOAA5ADiAOoA5QDZAMoAwACwAJoAgQBnAFIASQBKAEAANgA0AC4AIAAwAEwAYgB9AJUApACkAK8AvADLAOAA/wANAQYBBAH7APAA8AD3APQA9gD1APUA5gDFALgAswCrAKIAoACHAG0AWgA6ABoADgAQAAsA/v/t/+P/1//S/8r/vf+5/7f/qP+F/2v/Vv9B/xj/8/7r/un+5f7a/s/+0f7g/uj+6v7r/vj+GP8q/yL/Gf8d/x//IP8b/xv/IP8k/yP/D/8C/wb/EP8W/yD/Lv86/0b/U/9i/3T/lf+3/83/3//7/w4AHgAvADgAQwBQAF4AZABqAGwAZgBkAGMAYQBiAGYAZwBqAGEAWABWAFYAVgBbAFwAXgBoAGkAZgBZAFEAVgBWAFMAVABWAFcAWgBZAFsAXwBwAH8AhACEAIQAiACMAIsAfgCGAJIAkgCMAIwAkwCWAJ0AngCYAJ0AsQCxALMAvgC9ALkAugC5AK4AsACvAK4AqQCnAJ4AgQBwAGsAaABVAEkARQA5AB4ABwDu/9D/w/+x/5f/fP9y/2L/QP8a/wT/9v7n/un+4/7f/uD+2/7Q/sn+zP7c/vH+/v4N/wz/Cf8N/xT/Gf8i/y//OP86/zL/L/8r/yv/Nv9D/03/XP9r/3L/fP+Q/6f/u//U/+7/CQAcAC0ARgBeAGwAeAB/AIQAkgCbAJoAkgCKAIcAhAB0AGcAXQBVAFIAQwAzADAAOAA+AEMAQwBJAFQAVQBYAFsAZgB3AIcAjgCbAKIAoACgAJkAkgCTAJYAigB8AG4AXQBLADwANAArACsALwAwACkALwA6AEMAUgBhAHEAfwCJAIsAjgCOAJMAlQCQAIoAhwCBAHAAYgBaAFUATABCADkAMAAqACUAIgAhAB4AGAAKAAAA/v/9//L/4f/R/77/pf+K/3L/Xv9U/03/NP8b/wr/+f7p/t/+2P7V/tv+3/7Y/tD+2f7l/vT+B/8c/zD/Q/9S/1z/Y/9x/4v/nf+r/7T/u//C/8P/wP/C/8j/zv/f/+X/5v/q/+n/6v/y/wAAEgAoADcAQgBDAEkAUwBZAGAAaABtAGwAcQBzAHkAewB+AIQAiACLAIsAjQCKAIMAgAB8AHMAbwBnAF0AWABLAEMARgBJAE4ATgBKAFAAWABdAGIAZwBrAHEAagBkAGIAYABoAGoAYwBhAGAAXwBdAFsAXABlAGoAaABiAFwAXABfAF0AVQBRAE8ARAAzACsALAAxADYAOAAyACcAGQALAAAA/P/+//P/4v/J/7H/nP+C/3D/bP9s/2r/Yv9N/zv/Lf8g/xz/If8q/zX/Nf8q/yT/IP8p/zT/Qf9T/17/Zv9o/2X/Zv9v/3P/ef+C/4T/jP+V/5f/lf+Z/6L/qP+t/7L/vv/L/9n/4f/p//3/EAAjAC8AOQBNAF4AagBwAHwAhgCKAIwAjQCQAJMAlgCTAIwAhwCBAHgAbwBlAF0AVwBQAEUAPAA5ADUAMAAxADQAMwA0ADoAPAA7AEUAUQBUAFUAVwBUAFEAVABXAFcAVgBSAEsARQA/AD4APQA7AEEAQwBDAEMAPQA6AEAARwBGAEgATgBQAFAASgBHAEcATABTAE0ARgA/ADMAIwATAAcA///4/+n/1v/A/6z/nf+O/4T/hf+G/4T/gv9+/3X/b/9x/3X/df98/4H/e/93/3L/bv9t/2//cv92/3f/dv93/3T/cP91/3j/e/+B/4X/iP+J/4r/i/+O/5n/pP+t/7T/vP/I/9P/4P/r//n/BgAPABoAJAAtADYAPgBEAEkAUQBUAFUAVgBXAFUAVgBWAFYAVABOAE0ASgBGAEYARgBJAEgASQBKAEwATgBMAE4AUABWAFwAXwBhAGIAYwBiAGQAZgBkAGYAaQBhAFoAVwBTAFEAUgBSAE4ATQBQAFEAUABPAE8ASABIAEoARQBCAEEAPQA1AC0AKQAnACEAGwATAAcA///1/+3/5P/a/9X/zv/H/77/vP+2/63/qf+i/53/mv+Z/5f/j/+J/4T/f/+A/4H/fv9+/33/fP98/3n/fv+G/4r/kP+S/5L/lf+Y/5z/o/+q/6//tf+5/7v/wP/H/8v/zv/W/93/4f/j/+b/5//l/+z/8v/1//n/+f/3//f/+////wIACQATABkAHAAeAB8AJAArADMANgA7AEEAQgBBAEQARQBMAFMAWgBcAF4AXwBgAGMAYwBoAG4AcABxAHAAbwBsAGoAbQBuAGsAbABoAGEAWgBYAFkAVQBVAFQAUwBSAE8ATwBNAEwASgBHAEYAQAA8ADYALQApACQAHQARAAUA/v/1/+j/3v/U/8z/xf+8/7T/q/+k/5z/l/+W/5P/lP+W/5P/j/+P/5H/kv+W/5P/kv+U/5L/kf+J/4n/hf+G/4v/if+K/4z/jf+J/47/lv+c/6T/p/+w/7X/u//G/87/1//l//H/9P/6/wAACAAUAB0AJgArAC8ALAAvADEALQAxADAALAAoACUAJQAjAB4AIAAhACEAHQAdACQAIgAoACcAKgAxADgAPAA/AEQASgBNAFAAUgBPAFIAUABQAE0AUgBPAEsASwBOAEcARgBJAEMASQBIAEYARQBKAEYAQQBEAEMARQBCAEMAOgA1AC0AJwAnABsAFgARAA0AAAD7//H/7//k/+b/3P/g/9H/0P/G/8D/yf+3/7//rv++/6j/wf+S/9v/qf+R/+b/yP+z/6L/9f+D/7L/s/+S/5v/kv+l/4b/pf+N/5j/jf+e/4//jf+i/5D/of+c/6H/q/+5/7//vv/T/9r/3f/q//L/+f/9/wUADgAdACkAKQA2ADoAOAA2AD8APQA+AEUASwBOAFMAXQBbAFwAYQBrAGMAZwBqAGkAagBpAGwAbgBtAHEAbwBqAGsAXgBcAFsAVABLAEUARwA7ADgANwAzACoAIwAcABIAFAAQABEAAwAFAAIAAQD+/wAA/v/t//L/6f/t/+P/4f/g/9r/1v/P/87/yv/C/7z/uf+0/7P/rf+t/63/p/+o/6//sv+r/6j/rf+y/7D/sv+5/73/vv/C/8b/yv/O/9H/0v/T/9X/1P/U/9n/2//f/+X/5//r/+v/7v/t//D/9v/5//v///8BAAQAAQABAAYABwAMAA8AEwAUABMAFQAWAB0AIQAjACcAJwAnACUAKAAoACwALQAvADEAMgA0ADQAOwA+AD8ARABJAEwATABPAFEAUABSAE4ATwBMAEYAQgBCAD4AOQA5ADAAJgAeABkAEwANAAYA/v/3//L/6//l/+L/2//b/9z/2f/Z/9n/2P/S/9P/1v/X/9f/1v/U/9L/1f/S/9P/0f/P/8//zv/O/8n/yf/K/8n/x//I/8r/yf/M/8z/zv/U/9b/0//c/+H/4P/n/+v/7v/v//n//v/8/wAAAgACAAQACAAIAAoACgAMAAsACQAMABAADwAQABQAEwASABAAEgAQABIAHAAdABwAHAAeAB8AIgAnACkALAAsACwAKQAmACcAKgAsACgALQApACMAIgAdACAAHwAeABwAFwAWABQAFAAKAAMABgADAAEA/v/+/wEA/////wIAAAD+//z/+v/4//n/9v/z//X/9P/u/+z/7P/p/+z/6f/o/+H/3//m/9//4P/k/+n/6//s/+z/5//m/+f/6P/q/+b/6P/q/+j/6P/m/+v/8f/u/+f/9f/z/+v/7//2//f/8P/+//r/+f/7//7///8AAAAA//8EAAQABQADAAgACQAGAAkACgALAA0ACgAOAAwACgAPAAwAEAAPABMAEgAQABMAEQAPABAAEgATABMAFAATABAAEQAOAA0ACwAJAAoACAAGAAYABgAGAAgABgAEAAcAAwAAAAAAAwABAAEABAADAAMAAAAAAAAA/////wAA/f/5//z/+f/5//f/9v/0//H/7//x//H/8v/1//X/8v/z//j/+//7//3////9//7/AQAAAAEABgALAAoACwANAAwACwAMAAwACQAIAAYABQAAAAAAAwAAAAAAAAD+////AAD//////v8AAAEAAAAAAAEAAgADAAYABgAMAAgABgAIAAgABwAGAAQAAgAAAP///f/9//z/8//z/+//7//s/+j/6f/n/+j/5v/k/+T/4P/f/+L/5f/m/+f/7P/q/+r/7//x//b//v/+/wIACAAHAAgABQAKAAkACgALAAoACAAGAAEA/v8CAAEAAAAAAAMAAAD9////AAD//wEABQAHAAkACQALAA4AEAATABYAFgAZABgAGAAZABcAGAAaAB0AHAAfAB8AGwAaABgAFgAXABQAEgATAA8ADwAPAA4ADgANAA4ADQANAAsACgAGAAAAAAD+//3/+v/4//f/9v/z/+7/7f/s/+v/6//p/+f/5//o/+j/5f/n/+f/6P/r/+n/6v/u/+z/6v/s/+3/7//x//H/7//t/+//8f/v//D/8//x//D/8//1//L/+P/3//j/+v/6//7//v8AAAAAAwAJAAwADQAPABAAEAAQABIAEgASABEAEAAQAA0ACwALAAkACQAIAAUABgAEAAMAAgACAAMAAQACAAMABQAFAAUABgAGAAcABgAHAAcABwAGAAMAAwAFAAYABAADAAMAAQABAAEAAAD//////////////v////z//v/+////AgABAAIAAgABAAIAAgACAAMAAwACAAIAAwADAAEAAAAAAAEAAAAAAAAAAAABAAIA//8AAAAAAAAAAAAA//8BAAEAAAABAAAAAQAAAP7///8AAAAAAAD9//z/+v/4//v/+P/4//j/9//3//b/9v/2//X/9//4//n//f/9/////////wEAAQADAAMABAAFAAQAAwADAAMAAgAEAAEAAAAAAP3/+//8//v/+v/+//v/+//8//z/+//7//r/+v/8//z//P/7//z//P/9////AQACAAIAAgACAAMABAAFAAMAAwAEAAUABgAIAAcABwAFAAUABwAGAAYACAAHAAUABQAFAAUABAAFAAUABAAEAAIAAwACAAEAAQABAAEAAAAAAAAAAQABAAAAAAAAAAAAAgADAAEABAAFAAQAAwACAAEAAQABAAAAAQACAAEAAAAAAP//AAAAAAAA/f/7//3//P/5//r/+//5//f/9//3//b/9f/1//X/9f/0//T/9f/1//b/+P/4//r//P/8//z//f/+//7///8AAAAAAQACAAIAAQADAAMAAgABAAAAAAAAAAAA//8AAAAAAAAAAAAA//8AAAAAAAABAAMABQAFAAQABAAEAAYABwAHAAgACAAIAAgABwAGAAcACQAIAAcABQAEAAMAAAAAAAAAAAACAAAAAAD/////////////AAAAAAAAAQABAAIAAQADAAQAAgACAAMAAQAAAAAAAAAAAAAAAAD+//3//f/9//3//v///wAAAAD/////AAAAAAAAAQACAAIAAQACAAIAAgADAAIAAQAAAAAAAQAAAAAAAAD///7//f/9//7//v/+//z//P/8//z/+//5//n/+P/4//b/9f/1//X/9f/0//X/9v/3//f/9//3//r/+//7//z//f///wAAAAABAAQABQAEAAQABgAHAAgACAAHAAcABwAGAAUABQAFAAMAAgABAAEAAgACAAEAAQABAAIAAQACAAQABQAGAAYABgAGAAcABwAGAAUABQAFAAUABAAEAAQABAADAAIAAgACAAEAAQAAAAAAAAAAAAAAAAAAAAAAAQADAAMAAgABAAAA//////7///////7//P/9//7//f/9//3//P/9//3//v/+//7//////wAAAAAAAAEAAAD///7//v/+//7//f/8//z/+v/6//r/+v/6//r/+//8//r/+v/7//v/+//8//3//f/+//7////+/wAAAAAAAAEAAAABAAEAAAAAAAAAAAABAAAAAAAAAP//AAAAAAAAAAAAAAAAAAAAAAEAAQABAAAAAQAEAAMABAAFAAQABQAHAAcACAAJAAcABgAHAAYABQAGAAcABgAGAAUABAAFAAMAAwAEAAMAAgABAAEAAAD+//3//P/8//z//P/8//v/+//9//3//f/9//z//v/+//z//v8AAAIAAgACAAQABAACAAAAAAAAAP7//v////7//v/+//7//v/+//7///////3//P/9//z/+//6//z//f/8//v//P/9//z//P/9//3//P/+//7//v/+//3//v////7///8BAAMAAwACAAMABAADAAEAAQACAAEAAAACAAQABAADAAMAAwACAAEAAgAAAP3//P/8//3//P/8//z///8AAP////8AAAAA/////wAAAQACAAQABgAGAAYABgAJAAkABwAHAAQAAgABAAIAAwADAAEAAgAEAAMAAAD9//z//f/7//z//P/9//3//f/+//7/AAABAAEAAQABAAEABAAEAAQABAAGAAQABAAEAAIAAgADAAEAAAABAAAAAAAAAAAA//8AAAEAAAD//////v////3//P//////AAAAAP////////7//v///wAA///8//v/+P/2//b/9v/4//n/+v/7//v/+f/4//f/9//6//3///8AAAAAAAABAAIAAgACAAMABgAGAAQABAAFAAUAAQABAAEAAAABAAEAAQAAAP7//v/+//z//P/8//7/AAAAAP//AAAAAAAAAAAEAAYABwAIAAgABwAJAAkABgAHAAcACAAIAAcABQADAAMAAQAAAAAA/////wAAAAD///z//P/8//z//f/9//3//v8BAAIA/////wAAAQADAAMAAwADAAQABAAGAAUAAwABAAAAAQAAAAAA/////wAA/v///////f/8//7///////3//f/8//v//P/7//v//v8AAP////8AAP///f/+/////P/8//z//f///wAA/////wAAAQAAAAAAAQABAAAAAAD/////AAAAAAEAAQACAAEAAAADAAIAAAAAAAAAAAD//////P/7//7//v8AAAEAAAD//wAAAAD///3//v////////8AAP7//v8BAAAAAAD//wAAAQAAAAEA//8AAAEAAAAAAAIABQACAAAAAAAAAP///f8AAAMABgAGAAUABQAEAAIAAQABAAAAAQADAAcABwAGAAQAAwAEAAQAAQAAAP7//f8AAAIAAgAAAP///v///wAA/f/7//z//f/9/wAAAAAAAAEAAgAAAAAAAAAAAP///v///wAAAgABAAAAAAAAAAEAAAD///3//P/9//z/+//6//z//v/8//7/AAAAAAAA//8AAAAA//8AAP7//v/+/wAAAQAAAAEAAQABAAAAAAD///7//P/6//v/+////wAA//8AAAEA/f/9/wAAAAAAAAAAAgADAAQABgADAAIAAwACAAIAAgAAAP//AQADAAIAAAABAAEA/v/+//3//f///wEABQADAAEAAwADAAIAAQACAAMAAgAAAAMABQADAAEAAQACAAMABQAFAAIAAAAAAAAA//8AAAMAAAACAAEAAAACAAAAAAD+//7//////wAAAQD//wAAAAD8//3//v/+//z//P/9////BAACAAEAAQACAAIABAAGAAMAAQAAAAMA///9/wAA//8AAP////8AAAAAAAD///z/+f/3//b/+v/7//n/+//+/wAAAAAAAAAAAAD///z//P/9//7///8AAAEA/v/+/wAAAAAAAAAA/v/6//v///8BAAEAAgAAAAMABQADAAMAAwADAAEAAQAEAAMAAwAEAAMAAgABAAAA/v8AAP7//v8BAAEAAgABAAIAAwAAAAAA/v/+////AQAEAAgACQAFAAQABQAEAAAA/f///wAAAAABAAEAAwAHAAMAAgADAAMA///9//3///8AAP//AAD//wAAAAD8//z//////wAA/f/+/wEAAAABAAIAAwAAAAAAAQD+//3//v8AAP/////9//z//P/+/wEAAwADAAAA/v8AAAAAAAAAAAAA/f/6//v/+v/6//7//v/9//3////9//z/AQAAAP3///////v//P/+////AAD//wMAAgABAAIAAgADAAIAAAABAAEAAgAAAP//AQABAAIAAAAAAAEAAAAAAAIABAAFAAEAAgAFAAcABwAAAP///v/8//7/AAAAAP7//f///wMAAwACAAAAAAAAAP7///8BAAQABQADAAAAAQADAAQABAAAAAAA/f/7//z//f///wEABQAAAPv/AAABAAAAAAD///7//v8AAAAAAgAEAAQAAgD+//7/AQAEAAMAAAAAAAEAAwAEAAMAAAAAAAAA/f/8//7/AAD+//v//P8AAAIAAAD//wAA/f/9/wAAAAAAAAAA/P/+/wAAAQAAAP3/+//8//r/+f/7//3/+//7//7//v8AAAMABgAEAAEA//8BAAMAAgAAAP3//f8AAAIAAgACAAIAAwAAAP7/AQAHAAIA/v8CAAEAAQADAAAAAQAAAP3//P8AAAUAAwAEAAAAAAABAAAAAQACAAMAAgABAAIAAgAAAAEAAQD//wAAAQD9///////9/wAAAgABAAAA/P/9/wAA/f/+/////v/+//3///8AAAAAAQD//////v/+/wAABAAHAAYAAwACAAYAAQAAAAQABQAFAAQAAQACAAMA///+//7/AAD+//v//v8AAAEAAAAAAP7//f8AAAAA/////wEAAAD//wIAAQD+//v//P8AAAMA/////wAAAAABAAIAAQAAAAAA/f/8/wAAAAAAAP7/+P/3//z/AAD+//3/AAD//wIABgAEAAAAAQABAAEAAAABAAMA/////////f8AAAIA////////AQACAAAAAwABAAIA/f/9/wEAAgAAAAAAAgACAAQAAwACAAMAAAAAAAAA//8BAAAAAAABAAMAAAD+/wAA///6//r//f8AAAAA/v8AAAEA//8AAAAA//8AAAIAAQABAAAA/v8AAAAAAQABAAAA//8BAAEA//8AAAEAAAD9/wEAAQADAAMABQACAAAAAAD+/////v8AAAIAAwAAAPv//v8AAP////8AAAAABAACAAAA/v/+//3/+P/9/wEAAgAAAAAAAAABAAIAAAAAAP3/AAAAAAIAAwACAAEAAAD+/wAAAQAAAP//AAACAP///v/9////AQAEAAUAAwACAAIAAAAAAP///f8AAAAAAQAAAAAAAAAAAAAAAAD+//3//f/8/wMACAAEAAIAAAABAAAAAAAAAP/////+/wMAAQABAAAAAQACAAEAAQAAAAQAAAD//wAAAAABAAAAAAD/////AAABAAMABAAAAP///v////3/+//8//z////+//3/AAD+/wAAAgADAAQAAQAFAAkABgD///3/+//8/wAAAAAFAAMAAgABAAAAAgAAAP///v8AAAAAAAAAAAAAAAD//wAA//8DAAMAAwAGAAAA/v/8//v/9v/2//n/+/8BAAAA/v8AAAEAAAABAAIABQACAAAAAAD//wIAAAD///3/+v/+/wAAAAACAAAA/v//////AQAAAAAAAgACAP///f/+//3///8AAAAAAAAAAAUABgAEAP7/+/8AAAAAAQACAAMAAAD//wAAAgACAAIAAAD9//3/AgADAAMAAQAAAAAA/v8AAAAA//8AAAAA/v/9//v//v8AAAAAAAD+/wEAAgABAAEAAAD+//7/+//7//7/AQADAAMAAAACAAEAAQACAP//AAD8//z/AAABAAAAAAD+/wEAAwACAAQAAgAEAAcAAgABAAMABAACAAQABAAEAAUA///+//3//f/9////AAD9//7//f/+//7//f8AAAAAAAD+//7/AAACAAQAAAD9//r/+//+//3//v////3//v8BAP///f/9/wAAAQD+////AAABAAEAAwACAAAAAgADAAIAAQAAAP3////6//z//f/9/wAABAADAAAAAQAAAAEA/v///wMAAgAAAAIABAAEAAMA///8//z/AQAAAP7/AAADAAIAAgADAAAAAAABAAAAAAD//wAAAAABAAAAAAACAAAA/v////z//P////r/+f/7/wAAAAAFAAUAAwAFAAIAAQAAAAAAAgAEAAEAAAAAAAMAAgD+/wAA/v8BAAUABQAHAAIA//////7//f8AAAEAAAAAAAAA///+//3/AAAAAAAAAAD+/////v/8//r/+////wMAAQD///7//v///wAAAQABAAMAAAABAAEAAQAEAAYAAgAAAAAAAAAEAAYAAAD6//v//P/7////AAAAAAIA+//4////AwAGAAUA/v8AAAMAAQACAAAA/v////3/AAAEAAAAAAD9/wEABAABAAQAAQD///7////+//3////+//z//f8AAAMABAAEAP//AAABAAQABAADAAAAAAD8//7/BAAAAAIAAAAAAAAA///+//z/+/8AAAEAAAABAAAAAQD//wAAAQACAAQABAABAP7///8CAAUABgAEAAIA/v/+/wAAAQACAP7//P/8//z/+//7//z//P/6//3/AAAAAAIAAQAAAAAAAgD+//3/AAD/////+v/3//z//f8AAAQACAAHAAUABgADAAAAAAD9/wUABwAEAAEAAAAAAPv/+P/6//3/AAD///7//f/+////AAADAAUABwAEAAEAAAD9/wAAAwAGAAQAAAAAAAAA//8AAP//AQADAAQABQACAAQAAAD8//v//P/4//r////+//7/AAAAAAAAAAD//wAA/P/8//r//P8AAAMABgAEAAQAAwACAAMABAAEAAQAAgABAAAAAgAEAAYABgACAAUAAwAAAP7//P/9//7//v/8//z/+//5//v//v8CAAUAAgAAAAAA/f/8//v//f8CAAEA//8AAAAAAAAAAAAAAwAFAAcABgAEAAQAAwADAP//AAD6//n////+//7//f/9//7//////wAA/v8BAAQAAAABAAAA/f/6//n/9f/6//7/AAAAAP///P/+//3///8AAAIAAwACAAYABAADAP//AgAAAAMABwAFAAgABwAHAAIA///+//3/AAABAAAAAAD9//n/+f/9/////f/7//f/+P/8/wAAAQACAP3//P///wAAAgAFAAkABwAGAAYABgAGAAYABAAHAAcACAAHAAUAAgD8//v//P8CAAEAAQADAAEA+//5//r/+v/8//z/+//8//z///8AAPz/+P/3//n/+////wEAAQABAAMABgAHAAUAAwADAAUABAAFAAUAAQABAAQAAAAAAAAAAAACAP///P/5//v/////////AQAAAP//+//7/////v/6//j/+P/7//3/AQAAAP//AAABAAMAAQAEAAMAAAACAAUACgAHAAcABgACAAQAAgABAAAAAAACAAAA/P/+//7//P/8//v//P/7//v/+v/8////+P/6/wEAAwAAAAAAAgAEAAMAAQAEAAIA//8AAAMABwAIAAIAAAACAAMABAAGAAUAAQAAAP///P/+/wAAAAAAAP7/+v/4//r/9P/1//r//v8BAAAAAQABAAMAAAD8//7/AQAEAAAA//8AAAAA/f///wIABAAAAAAABAADAAYABQAEAAIAAAAAAAAAAwACAP3/AAD///z/+//6//n/9//+//7////9//z//f/8//3/AAADAAQAAwABAAAAAgAFAAUAAwADAAMAAwAGAAcABwADAAMAAgD+/wAAAAAAAAAABQAEAP//AAD7//X/+P/8//r/+P/3//z//v8AAAAA/P/7//v/AAAAAAQAAwABAAQAAgADAAIAAAABAAEAAgADAAYABAAEAAUABAABAAIAAwD9/wAAAwADAAEA/f/6//3/AAABAAIAAQD///3//v/+//n/+/8DAAEAAAAAAAAAAQABAAQABwAFAAAAAAABAAEAAQAAAP7//P/7//z///8AAP7/+//8//v//v/9//3//v///wUABgADAAEAAwABAAAAAgAFAAMAAgAFAAIAAQAAAAIAAwADAAAAAAAAAAQAAQAAAAAA/P/9//7//v/7//3//f/9/////////wAA/v/+//3/AAADAAMABAAEAAQABAABAAMABAADAAIA//8AAAAAAAAAAAAAAAAAAAEABAAAAP///P/3//r//v8AAAEAAAD///3///8AAAAAAgD+/wAAAAAAAAAAAgD9//z//P/6//3/AwAFAAAAAAABAAIABAAFAAIAAQD9//3//v//////AAABAAAA///7//7/AAAAAAAAAAAAAP3/+/8AAAAA/f/+/wEABAAEAAUAAwAAAP7//v///wIABAABAAAA//8AAAEAAgABAAAAAAD//wAAAgADAP///P///wAAAAADAAAA/f/7//3//P/+/wAA/v8AAAAA/f/8/wAA+////wMAAwAFAAMABQADAAAAAAABAAAAAgACAAAA///+//7///////3/AgADAAAAAAABAP///P/5//7/AwAEAAIAAQAFAAIAAAACAAAAAAABAAAAAAAAAP3//v8AAAAAAAAAAAMAAwAAAAEAAgABAAAAAwACAAQABwAEAAIAAgACAP//AQABAAAAAQADAAAAAAAAAAAA/////wAA/v/+////AAD///v/+P/9/wAA/v/+//////8BAAEAAAD//wAAAwAAAAEAAwAAAAAA/v/6//7/AgAEAAIAAQACAAEAAAAAAAAA/v///wAAAAACAAIAAAD+//3//f/7//n/+f/9/wAAAQACAAEAAAD///3/AAAAAAIABAADAAMAAgAHAAQAAQAAAAAAAQAAAP7/+v/+//7/+//+//7/AAABAP3/AQACAAEAAAABAAIABAAEAAIAAAD+/wAA//////7//P/8/////v///wAAAQABAAAAAAAAAAIABAD///v////+////AAACAAMAAAD9//z//f8AAPz/+/8AAAAAAAABAAEA/f////7/AAAAAAIABAAAAP7//P////7/AAADAAQAAgAAAP////8DAAIAAwACAAEAAAD+/wIAAgABAAAAAQABAAAAAgACAAEAAAABAAMABQAGAAIABAABAAEAAgABAAEA/v8AAAIAAQAAAP7/+v/7//v///8AAP7//f/8//v/+v///wAAAAABAAAA/////wAA///8//j/+P/8//z/////////AAAAAAEAAgABAAQAAQD8//3/AAAAAP///f/9/wAAAQAAAAEAAgAHAAgABwAJAAYABwAEAAMAAAACAAMAAAAAAP3/AAACAAEAAAAAAAAA///8////AQABAAEAAQADAAAA/v///wIAAAAAAAAAAAD9////AgAAAP3/+//9/wAAAAD///7//P/6//z//v/+/////f/7//b/+P/6//3/AQABAAEAAgAAAP7/AQABAAMAAgACAAIABQAGAAMAAwAGAAQAAgADAAQABgADAAMAAwABAP3//P/+////AAAAAAEAAwABAAAAAAD//wAAAgAAAAAA//8AAAQABgAGAAUABwAHAAUABgALAAkABgADAAMAAAD9//3/+v/8//v//P/9/////f/9//3/+//+//z//P/+//3//f/4//f/9//6//z//P/9//7/+//6//z/+v/+/wAA/v/6//r/+/////3/+//8//7/AAADAAUAAAD//wEAAwABAAIABAADAAYABAAAAAIABwACAP///v///wQABAACAP//AAD/////AgAEAAMAAQACAAAAAAADAAgABAAEAAoABwAFAAEABAAHAAcACAAHAAgAAgABAAMAAAACAAYABgADAAAA//8AAP3/AAD8//7//v/9/wAA+v/+//z/+//9//3//v/6//r////9//v//f/+//7/AAD5//j//v////z/AAACAP7//v/+////AAACAAIAAQD9//z/AAABAP///f8AAAAAAAACAAEAAAD8//3///8AAAAA//8CAAIAAQAAAAAAAgABAAIAAwABAAIAAwACAAAAAAACAAAABAABAAAAAAD+//7/AAACAAEA/v/+//z/+f///wAAAAACAAAAAgD+//z//P/+/wEAAwAAAP3/AAD9//3/AAD9//3/AwADAAEAAQAAAP7//P8DAAUABAADAAIAAwAAAAEABAAHAAQAAQABAAMABQABAAAA//8AAAUABgAFAAYAAwD///3//P8AAAMABQABAAMABQAHAAQAAAADAAMAAwADAAMABQACAP7/+//5//z/+//8//3/+f/5//f/9//4//j//P/6//r/+//4//f/+f/6//r/AAAAAP////////////8BAAIAAQADAAAAAAACAAEAAQAEAAYAAQADAAEAAAADAAUABAAFAAEAAAD//wAA/v/6//3//////wAAAgD//wAAAAD6//7/AAAAAAAA//8BAAAAAQABAAMABgAFAAAAAAAFAAUABAADAAIAAgACAAQACAAGAAIAAAD+//3//f/+//3//P8AAP3/+v/8//v//v////7/AAABAAEAAAABAAAA/f/9//7//f/6//v//f///wAA/f8CAAUAAQAAAAAA/v/9//z//v8CAAIAAAD+////AgADAAcABgABAAEAAgABAP7///8GAAQABQAFAAAAAAACAAMAAQAIAAcABQAJAAMA/v///wIABgAEAAQAAwACAAQABgAEAAQAAwAAAAIAAwAAAPv/+//6//3/AAD9//z/+//4//n//v////7/AAABAP3/+v/7//n//f/9//3/AAD8//v//P8AAAAA/f/9//3/AwABAAEAAwAAAAAAAwABAAAAAAD8//r//P/7//v//f/8//3//////wAA/f/8//7//P/+/wEA///9/wAAAAACAAEAAwAFAAIABAABAAUABgAEAAAAAAABAAEAAAD///7/AAABAAAA///8//7/AgACAAAA/v/9/wAAAAAGAAMAAQABAAAAAgAFAAgAAwAAAAMABAAGAAgABwAEAAEABAAFAAYABQADAAMABAADAAAA/v/+/wAA/P/7/////P/7//z//P////3//P/6//n/+v/8//7//f8AAAAAAwABAP3//v///wAA///8////AAADAAYAAgAAAAMAAwAAAAEA/v/7/wAAAAD//wAAAgAAAAAAAAD8//v//P///wEAAAAAAAAAAQABAAEAAQADAAMAAgACAAIABAAEAAAA//8DAAQABQAFAAUABwADAAAAAAAAAAAA/////wEA/f/9//v/+////////f///wAABQAFAAAAAQAAAAIAAAAAAPz//P/9//z///////7/+f/6//7/AAD9/////f/8//3///8AAAMACAAFAAIAAgAAAAIABQAEAAYAAwAAAAAAAwACAAUAAQD+/wEA/v8AAAEAAAACAAcABwAIAAMAAgAHAAkACAADAAEA/f/8//v//v8CAAQAAAD//wEAAAAAAAAAAAABAP7//v8AAP3//v8AAP3/+//9//v/+v/7//r/9//4//n/+//5//3//v/9////9P/3//v/+f/7//7/AAAAAAAAAAAAAP7//P/9/wAAAQAAAAAAAAAEAAYAAgAFAAUAAgACAAUABQAFAAYABgAHAAcACQAHAAcABwAFAAYABQAEAAAAAwAJAAQAAgACAAAAAAABAAEAAQD///v/+v/8//3/+//5//j/+f/8/wAAAAD9//7////+//7/AAACAAIAAAAAAP//AAADAAEA+//8///////+//v/AAAAAPz/9//8/wAA/f////3/+//7//v//v8AAAEAAgAAAP3//v8AAAAABAAFAAcACAAEAAIAAQD//wAAAgD//////////wAAAgADAAQAAQABAAAAAQAAAAAABAADAAIAAgAEAAEAAAAAAAAAAAAAAAEAAgABAAQABgAGAAgAAQABAAAAAAADAAQAAQAAAAAAAAABAAAA/P/6//z/AAABAAAAAQD+///////+//3//P/+//v/+P/5//r/+//+////+//6//z/+v/9//7//P/6//z//f8AAAAAAAD//wAAAAD+/wEAAQAAAAAAAQD//wAAAgABAAEAAgADAAEAAQAAAAAAAgABAAEAAQAEAAMAAAD+/wAAAAAAAAAA+//8////AgAAAAAAAQACAAAAAAAAAAEAAwD///7//v8AAAEABQAEAAIAAgACAAcACwALAAoABwAFAAEAAAADAAYACAACAAEAAQD///7/+v/4//j//P/+/////v/7//v/+v/7//z//v8AAP7//P/8//3/+//+/wAAAAABAP////8BAAMA/v/+////AgADAAIAAwAEAAQAAQACAAAAAAD+//7/AAADAAIABAAEAAAABAAHAAsABAADAAYABAABAAAAAwACAAMAAAD8//v//v8AAAEAAAD7//r//f/8//r//P/+//v//f8AAAEAAAACAAEA//8AAP7///8CAP///f/+//7//f///wAAAAAAAAAAAAD/////AAD7//3/+f/2//f/+f/9//3//f/+/wAA/P/7/wAAAAD/////AQABAAIAAwACAAEAAQAAAAAAAAAAAAAAAAAAAAAAAQAAAAIABAADAAQABgAHAAUAAgADAAMAAgAFAAMAAwAEAAQABAADAAQAAgD//wAAAwABAAUAAgABAAAAAwAGAAYACQAIAAYAAgAAAP3///8DAAMAAAAAAAAA/v/6//v//f/9//3/AAD/////AQAAAPz/+f/5//f/+f/7//z/+//4//n//P////7//P/4//f//v/9//3//v8AAP///v8AAAAAAgABAAIAAAAAAAEAAAD/////AAACAAQAAAACAAUAAwACAAAABgAHAAcABQADAAUABgAJAAMABAACAAQACAAJAAUABAAFAAAAAAAAAAEAAAD8//3/AAAAAP/////7//n/+v/9/////P/7//7/AAD9//3/+//7//v///8AAP3//v/9////AAD///z/+v/7//3/+/////3/+f/4//z/AAD8//3//f/9//3//v///wEAAQD+//7//P8AAAAA//8AAAIABAADAAYABgAFAAMABQAGAAUABgAHAAcACAAFAAIACAAHAAIAAgACAAMAAgAEAAIAAQACAAAAAAAAAAAAAwAAAAEAAQAAAAAA//8DAAUAAAD//wcACAAFAAMAAgACAP//AAD//wAAAAACAP///P////v//v8AAP7/+v/8//r/+//7//r/+P/z//L/9v/9//z//P/+//z/+v/9//////8AAP3/AAADAAAAAAADAAAAAQAAAAEABAADAAYABAAEAAYABwAGAAQABAAAAAEABQACAAAABQAGAAIAAAAAAAAAAAAAAAAAAAAAAP7///8AAAAA/P/+//7/AQABAAMAAAD//wAA//8AAP///P/9//3///////7//f/8//7///8AAP7//P/+//////8AAAMAAAD9/wAAAAD+//z/AAACAAAA/v/8//7/AAAFAAIAAgD///v///8BAAEAAAACAP3//P///////v/+////AAD///3/AAABAAAAAgADAAUABQAFAAYAAwABAAQAAgADAAYACQAIAAQAAwADAAcABQAAAAAAAQAAAAMAAgAAAAAA//8AAAAAAQAAAAAAAAD+//7/AAAAAAAAAQD8//r/AAD9//v//v/6//r/AAAAAP7//v8AAAAAAgAGAAAA/P/+/wEA///9//7//f/8//v//f/7//z//P////z//f///wAAAAAAAAIA/v/9/////f/+/wEAAQAAAAEABAADAAAAAQAAAAAAAQABAAAAAAAAAAAAAgACAAIAAAAAAP7/AgACAAAAAAD9//7//v8AAAAAAQAAAAEABAABAAEAAwAFAAQACAAFAAUABwAJAAYAAwABAAAAAgAFAAQAAAADAAIA///+/wAAAAACAAEA/v/7//v//P/7//v//v/8//r////+//3//f/9/wAA/P/6//j/+////wAAAAD9//3/+/8AAP3//v8EAAIAAwAAAP//AQABAAAAAgADAAcABwAEAAEAAAAAAAIAAQAAAAEAAQAAAP7///8AAAEAAwAGAAQAAQAAAAMABgADAAAAAAAFAAUAAAAEAAUABQACAAMABAAEAAAA/f8AAAAA+P/6//v/+f/7//z////+//3//P/+/wAA/v/8//7//v/7//z/+//8//r/+////wEAAwACAP////8CAAEAAgAGAAYAAgACAAIAAgD//wEAAgD//wEAAAAAAAIAAQAAAAAAAAAAAPz//P8AAP7//f/8//r//P8AAP7/AAAAAAAAAAACAAMA//8BAAUABAAAAAIAAQACAAQAAwAAAAAA/v///wAAAAAAAP//AAD9/wAA//8DAAIAAAAAAPv////9//3//v8AAAAA/v8AAAEAAgAAAAAA/////wAAAgAEAAAA/f8AAAAAAAABAP///P/+/wIABgAEAAQAAgAAAAAAAQAEAAUAAwABAAAA/P/7////AgD+//3//v/+/wAABQADAAEAAQD//wEAAgAAAAAAAwACAAAA//8BAAAA///8//v//f///wEAAQD9//7//f///wMA////////AAAAAAAAAAAAAAMAAAD//wEAAAAAAAAAAAD9//n//v////3/+//8//r//P/+//v//P/+//3/+v8BAAIAAAAEAAYABAACAAAAAgAGAAkABQADAAgABwAFAAUABQABAAIAAAAAAAMAAwAFAAMAAAAAAP///f8AAAIAAQADAAUAAwAGAAAAAgACAP7///////7//v/+//v//P/9/wEAAAD9//3////9/wAAAAAAAAIA/v///wAA///8//v/+////wAAAQAAAP7/AAAAAP///f///wEAAgD///7/AQAAAAAAAAD+////AQAAAAAAAQAAAP7//P8AAAAAAAD8//3//P///wMAAwADAAIAAwAFAAcABwADAAEAAgAEAAAAAAABAAEAAgAAAP7///8AAAEAAQAAAP///v8BAAMAAAD///z////9//v/+v8AAAEA/v///////v/7//3//v/+/wAA/v/+//7//v/+//7////5//r/+//7/wAA/v/9////AAABAAAAAgADAAMABQAEAAIABgAHAAMAAwABAAIAAgAFAAcACAALAAoABgAHAAUAAwADAAQAAQABAAAA/v/+/wIAAgD9/wQAAQAAAAIAAAAAAP//AgD9//v///////7//v8AAPz//v/8//n//v/+//3//P/5//f/+f/+//v/+v/+//z//f/+/wAAAAAAAAAAAAAEAAQAAAD//wAAAAAAAAEAAAAAAAAAAgAEAAIABQAEAAMABAACAP///v////3//v8BAAcABQAAAAMAAwAAAP//AAAAAAEAAwACAAEAAQADAAIAAAD///7//f/+/////P/+/wAA/v8BAP///P/+//7/AAD//wAAAAAAAAMAAgADAAEA//8AAAMAAAD//wIAAgACAAAAAAAAAP/////8//z/AAADAAIAAgACAAAA/v////3//P/9//7/AAADAAMABAADAAAA/P/9/wAA/v/+/wAAAAAAAP7////+//7//P/7//7//v/+//7/AAD//////f/+/wEAAAD//wEA//8AAAEA/v/+/wAAAQAAAAAAAQACAAYAAwAAAAAAAwADAAIAAAD//wEAAwAFAAMAAQACAAAAAgABAAMABgADAAEAAAD///7/AAD//wEAAAD+/wAAAwADAAEAAQABAAAA//8BAAEA///+////AgADAAIAAgABAAIA/////wAAAQD/////AgAAAAEAAwACAAAAAAAFAAQAAAABAP7///8AAP7//P///wAAAAD+/////P/8//3/+//+//7//f/+/wMAAgAAAAMAAgAAAAAAAQD//wEA//8BAAAAAAABAAIAAAD6//j/+f/6//z/AQAEAAIAAAAAAAAA///8////AQD8/wAA//8CAAQAAgADAAEAAgABAAQABAACAAAAAQAFAAYABQACAAEAAAABAAMAAgD///v/AQABAP7//f/7//z//P/+//////8AAP7/AAAAAAAA//8AAAYAAwACAP///v////3/AQABAP7//P///wAA/v8AAAIABAAEAAIABQAEAAMAAQABAAIAAAAEAAEAAgADAAMAAQACAAMA/f8AAPv///8AAPz/+//5//3//v/+//3//P/9/wAA///8/wAAAAAAAAMAAAAAAP7//f8AAAQAAgD+////AAACAAEA//////7//v/+/////////wAA//8AAAAAAAABAAAAAAAAAAQACAAIAAYABAADAAAAAAACAAEAAAD+/wAAAAAAAAAAAAABAP7//////wIAAQD+//7//P/8//z/AAD9//v//v/9//z//P/9//3///////7//f////7///8DAAAAAAAEAAQABAAEAAMAAgACAAQAAwADAAMABAACAAMAAQACAAQAAAABAAAAAgADAAAAAAD///7//v/+//3//f/8//n//v//////AQAAAP7///8AAP//AAAAAP7/AAD///7//f8AAAAAAAAAAAAA///+/wAAAAAAAAMABAADAAIAAgADAAUABQAFAAUABwADAAEA///+/wAAAAAAAP7//v/+/wAAAAABAAMABAADAAAA/v/8/wAAAAADAAMAAQAAAAAABQADAAIA//8AAAEAAQADAAAAAAAAAP///f8AAAUA//8AAPr/+v///wAAAAD7//v/+////wAA/f////7//v////7//f/+/wAAAAD///3//v8CAAEAAAD8/wAAAgD//wAAAAAAAP7/////////AAD9//7//v/+//7//v///wAAAAD///7/AwAFAAQABwAEAAQABAADAAQAAAABAAUABQADAAQAAQD//wAA/v/8//7/AQADAAMA///7//3/AAD///v/+v/9/wMABwADAAAAAQD//wAAAAAAAAAAAAAAAP7/AAAAAP7///8AAAAAAQAGAAYABAAFAAMAAAAAAAEAAAACAAMAAAD//wAAAAAAAP//AAD//wAAAgAEAAMABAACAAAAAwACAAIAAAD9//3//P8AAAAA/P///wAAAAD+//3//v////7//P/+//z//P////z/+f/2//3/AAAAAAMAAgABAPv/+v/6//n/+P/5/wAABQAIAAQAAAD8//b/+f/7/wEABQAIAA0ACwAEAAIA+P/3//b///8DAAsACwAEAAcA9/+1/4j/3/8VADYAOgA+AEkAKQAaAP///f/3/wQAEgAAAAUAHgAsAB8AAADt/+D/4f8LABsAGgANAPP/5f/l/+X/6f/s/+//BgD+/wEA9P/q//z/AgAHAP3/3//Y/+n/9/8NAA4ABwAHAAsA9v/x//3/AwAOAAYA+v/5//v////0//T/9P/o/+//CAApACsAIQANAAgA+P/w//L/+P8EAAgACwD6//T/8v/y//H/4//r//f//v8GAAwABQAEAP7//P8IABMAEgAFAAcABAD///j//P/8//3/AAAAAAAAAwACAP//AAD3//f/+f/7//z/AAAFAAQAAQADAAQAAAD///j/+//9//r//f8CAAYABQAAAAYADgAMAAkACQAOAA4ADgAMAAwACAADAAMAAAAAAAIABAAFAAMABQADAAMAAQAEAAUABAAJAAcABgAGAAcAAAABAAQAAwD+/wIAAwD9//7//f/6//z//v/8//r/+/////z/+f/6////AgAAAP7/+//9/wAAAQABAAAAAAADAAYABgAHAAAAAgAFAAYABAAAAAAA/v8AAAAAAQAAAP//AAAAAP///////////v8AAP7//v8BAP7//P/5//r//v////7//P/+//3//P/9//3//f/8//j/9//7//3/+//0//v//v/5//v//f/8//f/+f/7//7/+P/3//n/9P/z//P/+P/7//3///8AAAAA/P8AAAQAAgAAAAAAAgACAAEAAAAAAAEAAQACAAIAAQD////////9/wAAAQD+//3///8AAP7//v/+/wAAAAABAAAAAgACAAIACAAIAAUAAgABAAEABAAFAAIABwAGAAMABQAFAAQAAgAFAAIAAQACAAEAAAD+/wAAAAACAAMA/f/+///////9//3//v///wIAAAADAAYABgAHAAMAAAD5//X/9//7/wAA/f///wQAAgABAAMABgACAAEABQAHAAgABwANAAoABQAIAAkACwAJAAYAAgAAAAIAAwAEAP//AAAAAP7/AAAAAAQABAACAAAAAAADAAQAAwD+////AQADAAYABQACAP//AAACAAIAAAD+//7///8AAAEAAAABAAUABgAAAP3//P/9/wAAAAD9//3////9//3//f/6//n/+f/+//7/+//7//z//P8AAAUABQAEAAMABgAJAAcABAACAAAAAAD+//n/+P/3//f/9f/x/+7/7f/w//L/9v/5//r/+v/3//j/9//6//v/+//7//n/AAAAAAQABwAEAAMAAgAGAAUACAAFAAMABwACAAQAAwAAAP///f/9//v/AQAAAAAA/v/9/wIAAAAAAPr//f////3//f/9//3/+f/8//v/+v///wAAAAABAAUABgAGAAYABQAFAAIAAQAAAAAAAQAEAAYABAAEAAIAAgADAAUAAwAAAAAAAAABAAAAAAAAAP3//f8AAAIAAQACAAAA/f/8/wAABQAGAAIAAgADAAIAAgADAAQAAAD9//z//f/+//3/+//5//z/+v/4//r/+v/6//j//f/+/////f/1//f//f8AAAAABAACAAMABQACAAMABAAGAAgABgAEAAoACgAJAAkABAABAP//AAAEAAMAAQD//wAA//8AAP3//P8CAAAAAAAAAAIAAAD//wEA/f/8//3/AQAAAAEABAAEAAIAAQABAAMABQADAAIABAACAAEABQADAAIABAAGAAUABQABAP3///8AAAIAAgAAAAAA//8AAAIAAAAAAAAAAQADAAIAAQABAAcABQABAAEAAQD/////AQABAAAA///9//3//v/7//r/+v/8//3/AAABAAAAAQD+/wAAAgAAAP//+//7//3///8AAAAA//8AAAAA/f8AAAAA/f/9//z//v/9//v/+v/3//j/+//9////AgADAAAA//8BAAAAAQAFAAEAAgACAAQABQAFAAUAAQADAAQABAADAP3///8AAP7////+/////////wAA///+//3//f/6////AQAAAAAA+//+/////f/+//3//f/8//7////+//v/+v/+/wAAAQADAAAAAAABAAMAAgABAAIAAAADAAQAAQAAAAAA//8AAAMAAgAAAAQAAwABAAMAAQADAAIAAwAAAPz////7//7/AwAFAAUAAwAAAAAAAAAAAAIAAgADAAAA/v8AAP//AAABAP///v8AAAUAAAAAAAQAAAD9//7/AAAAAAAAAAD+/wAAAQAEAAIAAwD+////AQABAAIAAQABAP7//P/9//3//P/7//z///8BAAEAAAAAAAAAAAAAAAAABAAGAAQAAgAAAAAAAwAFAAYAAgAAAAEAAwAEAAEAAQD///3/AgADAAQAAQAAAAAA/f///wIAAAD+//v//P/8//v//////wIAAAD9//v//f///wEAAAAAAPz//P///wAAAQAAAAIAAwAHAAYABgAEAAQAAwAEAAQAAAAAAAEAAAD8//v//v8AAP3////6//r/+f/7//z//f/+//v//f/8/////f/8//z//f8AAAAA//8AAP3///////7//f/7//7//v///wAAAAAAAAQAAwAAAAIAAQABAAAAAAAAAP///v////7/AQAEAAMABQABAAAAAQACAAIAAgAEAAEA//8CAAEAAgADAAIAAwABAAMABQAGAAMAAwACAAIABQACAP////8AAP7/AAAEAAQAAAAFAAUAAAD9//r//v8AAAEAAAD9//7//f/+/wIA/v/+/wAAAgABAAEAAAD///3//f////7/AAABAAEAAAAAAAYABQAGAAYABAACAAEAAwABAAAA/f/+/wEAAwAFAAMABAACAAEAAAD+/wAAAAD+//3/AAAEAP//AAABAAAAAAAAAAAA///+//z//v/+/wEA///9/////////wAAAAAAAPv/+v////3//v/7//z//P/+/wAAAAAAAP3/+v/9//7//v8AAAQAAQD//wMAAAD+//3/AAAAAAAAAAAAAAQABAACAAEAAQACAAMAAgACAAAAAAAAAAAAAQABAAAAAgACAAAA/f/7//r/+v/8//v/+//8/wAA/v/9/wAAAAD///3/AQACAAIABAD9/wAAAgAAAAAA/f/+/wAABAADAAMABQAFAP//AAADAAEAAQACAAMAAAABAP//AAD+////AAD//wEAAAAAAAEAAAAAAAMAAAD8//7/AAAAAP7/AgAHAAYABgACAP7//v8CAAYAAQACAAEAAAACAAAAAwABAAAAAAD///z/+P/2//j/+f/3//7//v/8//7/+v/4//f//v8AAPr//f/+/////P///wAA///+/wAAAwACAAMAAwAGAAUABgAGAAcACwAJAAgACQAJAAkABQAEAAEAAAAAAAQABQACAAMAAgADAAEABAAAAP7///8AAAAAAAAAAAEAAAD+/wAA/f/7//z//v8AAP///v////7//f/8////AQD+////AAACAP////8BAPz//f///wQAAQABAP7/+//8/wAABwAEAAAAAAABAPz/+//6//z//f/9//3//v/+/wAAAQD//////f8AAAAAAgABAAAABQADAAEA//8BAAAA//8AAAAAAAACAAQAAwABAP3//f8AAAIAAwAAAPz//P///////v8AAP///f///wMAAAAAAAAA//8AAAAAAAAAAAMA///8//z////8//z/AQAAAP3/+f/8//v//f////7/AAAAAP//AAACAAIABAAFAAYAAgABAAAA//8AAP///f8BAAYACAAJAAcAAwAAAAIAAAABAAQABAADAAQABgADAP////8AAP///f8AAAEAAAACAP7//v8BAAMAAAAAAAAA//////3/AAD8//3////7////AAACAAIAAwAAAAEAAQABAP3/+f/+////AAD9/wAA///+//7//v8CAAAA/P/9//7///8DAAEAAAAAAPz/AAD+/wAAAgACAAcABgADAAEAAQAEAAEA/P/7//z/AAACAAMAAAABAAMABwAHAAcABgACAAUAAgAAAAAAAAD//wAAAAD//wAAAgAAAAAAAQAEAAQABQACAP3//f/+//3///8BAAAA/f/8/wAAAQADAAAAAAD/////AgABAP///////wAAAAD/////+//+//v/AAAAAP3////9//z//P/5//f/+v/9//z//v8AAAAA/v///wIAAQABAAAA//8BAAAA/v8BAAIAAAD9/wAAAwAGAAcAAwAEAP//AAADAAAAAAAAAAAAAgADAAUABAAAAAAA/f8AAP//AAD+/////f8AAAIAAwAIAAEAAAD+/wQAAQABAAIAAAAAAAAAAQD+/wEAAgD9//3////+/wAA///+////AAD+//z/+/8AAAAA/f/8//z//v8AAP7/+//8////AAABAAAAAAD9//z//f/+/wEAAAACAAIABAACAAAAAAD//wAAAAACAAcABAACAAUABAABAAMAAgAAAAIAAgAAAAAAAQAAAAMABgACAAAA//8AAAAAAQD9////AgAAAP//AAACAAEABQACAAIAAQAAAP///v/9//z////8/wEAAAD+//3/AAACAAAAAQAAAAEA//8AAAAA/v/+//v/AAACAAAA/v/+////AAAAAAAAAgAAAAMAAAD9/wAA/v8AAAIAAwD///z/AAD9/wEAAAD///3//f///wAAAQAAAAEA/f/9//7//P/9//3///8AAAAAAQD//wAAAwACAP//AAAEAAYAAwABAAEAAAD+//3/AgAAAAAAAAAEAAIAAQAFAAUABAAAAAIAAwACAAAAAQAAAAAAAAAFAAUA/f/7/wAAAAAAAAIA/f////7//v///wAAAAD+//7//v8AAAAAAAABAP7//P/8/wAA///+/wIA/v/7//v//v8AAAAAAAD//wAAAQAAAAAAAQAAAAEAAwD+//7/BAABAAQA/f/8/wAAAgACAP3/AAD///////8CAAIAAQAAAP//AgADAAMABgAGAAYACAAGAAMAAQADAAAAAQACAAUAAgADAAEAAAAAAP3//v/+/////v8BAP7//f/9/wAA/P/2/wAAAwADAP3//P/+//z////9////AQAAAP///v/+//3/AAD//wAA/f/9/wAA/v8AAP3//P/9//z/AAAAAP3//v/6//z/+//+/wAAAAABAAAAAAACAAIAAAADAAQABQAEAAMAAwABAP/////5//z/AAADAAYAAwADAAIAAwACAAIABQAFAAYABwADAAQABwAGAAMAAAAEAAgABwAGAAcAAQAAAP//+//9//z//v/5//f/+P/4//z////+//z/AAD8//3//f///wEAAAABAAAAAQD///3//f/8//n///8BAP7////+//7//v8CAAUAAAD9//v//P/+/wAA/f///wAA/f8BAAMAAgABAAEAAQADAAYAAwADAAUABgADAP//AQAAAAUAAgD//wIAAgAEAAMABQAEAAIAAQAEAAYAAgACAAEABAAAAP7//v/+/wAAAAABAAEA/////////v8AAP7///8AAP///v/9//j/+f/8//n/+P/+/wIA//8AAP7/+/8AAAAAAAAAAAAAAAAAAAMA/P/7/wAAAQABAAAAAAAAAAIAAAAAAP3/+v/+//3/AQACAAEABwADAAEAAAD//wUABAAFAAUAAwAMAAoAAwAFAAAACAAGAAMABgAHAAoAAwD+//3/AgAFAAQAAwADAAEA///8//v//////wAA/P/6//z/+v/7//z/+v/6//v/9f/4//n//f8AAP3////+//7/+//7//z//f/9//r/+f/8//j//f/8//z/AQD9//z/9//5//b/9//+/wEABQD+/wYAAgAAAAoABQAEAAwABAAGAAQAAgABAPz/BgDz/woAEwAGABAABgAJAAEA//////3/AAAGAAQABQAHAAQABAAAAP3//v8AAAIAAgACAAQAAAABAAEAAQADAP3////+/wMABAAAAAMAAAAAAAAAAAD//wMA//8CAAMAAgAEAP///P/8//7/AAACAPz//v/8//7/AgAAAAIAAAAAAP7//P/+/wAABAAFAAMA///+/wAAAAD9//3////9/wAA/f/7//7///8AAPz/AAACAAIABQD///7/AQADAAIA//////3/+v///wAAAAAAAAAAAAD+//7//v8AAPv/+//8//z//f8AAAIAAgAHAAUAAwACAAYABAACAAQAAgAGAAcABQAAAPv/+////wAA/v/8//3//P/9/////P/5//b/+f/4//f/+v/9/wEAAAD/////AAABAP7//P/7////AAADAAUABQADAAAAAQABAP7//f///wAA/v/7//7//v////3/AQAAAP7////+/wMAAwABAAAAAQADAAgABwAFAAcACQAIAAQABAABAAYACQAFAAUABQAEAAAA/f8CAAQAAAAAAAQAAQAAAAIAAgADAAMACAAEAAIAAgABAAAAAQACAAIAAQD9//r/+//+//z////+//z//P/7//7//f/+////AAD+//z//f/6//7///8AAP///f/8//3//v/9/wEABAACAAAAAAD9//3//v8AAAIAAgAAAP//AAAAAAAAAQABAAEAAQACAAMABAAFAAQABQABAAAAAgAEAAIAAQAAAAAAAwAAAAEA/f/9//7//f/7//r//v/7/wAAAAD//wAA/f/+//3/AAACAAYABwACAAEAAAD//wAAAAABAP///f/9//v//f8CAAEAAAD///r////8//3////9//7///8BAAAAAAD///7/+//+/wAAAAD/////BAAFAAUAAQD///3///////v//f/+//3////7//z/AAACAAYABgAGAAUABAAEAAQAAgADAAQABgAHAAYABQAEAAYABwAEAAMABQAFAAIAAwAAAP///////wIAAAACAAAAAgAEAP//AAD+//3//P/9/wAA/v/+////+//6//n/+//6//r/+v/7//r/+//9//v/+//4//v//f/+/wAA/f/8//7/AQAAAP7//v/+/wEAAgAAAP//AQACAAAABAAFAAMABAACAAIAAgADAAMAAAACAAMABAADAAEA/////wAAAAACAAAAAgACAAIABAAEAAMAAwADAAIAAgADAAQAAwADAAEAAAAAAAAA/v/9//7/AAD//wAA/f/8/////v/+////AAD9//7//v8AAAMAAAABAAAA/v8AAAAAAQAAAP7/AAACAAEAAAD///3//v8AAP//AAD//wAAAAD+//3/+//9/////f/6//7/AQAAAP//AQACAAEA/v////7/AAAFAAQAAwACAP7//P8AAAAAAQABAAEAAQAAAAIAAAD+////AQADAAYAAgAAAAMABAAFAAcABgAGAAUABQAGAAYAAwAAAP7/AAABAAAA/v/+//7//P8AAAIAAgADAAEA/f/5//v/+f/6//v/+f/5//j//v/+//n/+v/7//r/+f/9/wAAAwAEAAMABAAEAAMAAwACAAUAAgABAP7//P///wAA/v/3//r//P8CAAMABAADAAAA/f/5//3/BAAEAAEAAgABAAAAAAACAAMAAwD//wEAAAABAAEAAAACAAAA//8AAAIAAgAFAAIA/P/6//3///8AAAIABAAEAAMABgAFAAMAAQAAAAMAAgAFAAUAAgAAAP3//v/9/wAA/v/9//v/+//+//r//P/9//r/+f/8//v/+f/8//7//P/7/wAAAQAAAP7//////wAAAQD//wMAAwAEAAUAAgAFAAUAAQD+/wIAAwAAAAAA/////wAA/v8AAAAAAAD9/wAAAgD9//3//P/9/wAAAwADAAMABAAAAAAAAAADAAUABAADAAMAAQAIAAYABAAGAAYABgAHAAYABAAHAAEA//8AAAAAAAD+//3///8BAAQACAAFAAEAAgABAPz//P8CAAEAAAACAAMAAAAAAAMAAAAEAAAA//8AAAAA///7//v/+v/6//n//f/7//3/AAD///3//v/8//n/+f/5//v/+f/5//r//P///wAA/v/9//7/AAABAAIAAwAHAAQABAAEAAAAAQAHAAYAAgD///r//f8BAAQABQADAP///P/9//7//f//////+//5//z//v///wAAAgAEAP/////+////AwACAPz//P8BAAAABQAIAAUAAAD///7/AQAEAAUAAwAAAAAAAQAFAAYAAwAAAAAAAgAAAAMABQABAAIAAAAAAP//AAD6//z/AAABAAEAAQABAAAAAQD//wAAAAAEAAEAAQABAAQAAwABAAMAAAAAAP//AAAEAAUAAAD9//3/+v/3//n//f8AAAEAAAD+//3//f/9//7////+//3//f/9/wMAAAD///7/AAABAAEABAABAAEA/f/6//n//f8AAAAABAAGAP7//f/8//7//f8AAAIAAgAFAAIABAAAAP//AAACAAQAAgABAAAAAgACAAAAAQAAAP//AAD///3//P/+//z/+f/9////AAACAAIAAAD+////+//8/wAAAAAAAPz/AAABAP///v////3///8EAAQABAAEAAAAAQADAAAA///7//7//f/9/wIAAwAAAAAA//8AAAQAAgAAAAEAAAABAAEAAwAFAAEAAQD9//3////+/wAAAgAEAAMAAwACAAMABgADAAQAAwABAAIAAwAFAAYABQABAP3//v8AAAEAAQAAAAAA/P/9/////v/+//z/AAD+//v/+v/9/wAAAQABAAIAAgD+//7//P/8////AAADAAMABAABAP7/AAACAAQABAAEAAIAAQABAAAA///9//3//f/8/////f/9//7/AAAGAAcACQAJAAgACAAJAAgABQACAAAA/f/8//v//P/7//z/9//y//D/7P/w//X/8//y//b/9f/3//n/+//+////AAD///7/AQADAAQAAgADAAcACwANAAwACwAGAAUAAgAEAAMABAAGAAMAAAAAAAIAAAACAAAA/v8AAAMAAQD9///////9//3///8CAAUAAwACAAIAAgAGAAUAAwAAAAAAAQD//////v/7/wAAAAAAAAEAAwADAAEAAQABAAIAAQACAAIAAgACAAEAAQACAAAA/v/6//v//v/+/////P/4//n/+f/7//7//P/8//z/+v/+/wAAAQAAAAAA//8AAAMAAwAFAAMAAAABAAAAAgAFAAoACgAGAAgABwAKAAYAAgADAAAAAQADAAMAAAABAAMAAAAAAAAAAgAAAAAAAAD6//r/+//7//z////9//v//v/9//7////7//v//f/8//3///////v//P////7/AAD9//3/+v/4//v/AAAFAAMAAAD7//j/+P/6//3/AAAAAAEAAAD///7/AAADAAIABAAAAAIABAAGAAYAAwAEAAIAAgAAAAAAAgAAAAEAAwADAAIAAAADAAIAAgAEAAIAAAD//wAAAQACAAUABwAEAAIAAwADAAYABQACAAEA/f/+//3/+v8AAP///v8AAAAA/P/5//n/+P/9//3/+P/4///////9//3/+v/8/wAABgAFAAMABgABAP7//v////7/AAAAAP7//////wAA///+//3//f/8//n///8EAAMAAgADAAAAAAAEAAQABAAGAAUABgAFAAMAAgAAAP7/AAABAP///v/+////+f/6/wAA+//5//n//P/9////AAAAAP3/+//9/wEABwAHAAQABAACAAMABQAIAAsACQAJAAQAAwADAAIAAQD+//7//v8AAAAABQADAAAAAQAAAAEAAAAAAAAA/f/+/wMABQAFAAMAAAACAAAAAAACAAAAAAD//////P/4//z/+f/7//7///8AAAIABQAEAAQAAAAAAP7/+v/6//z//f/8/wAAAAAAAP////8BAAUAAwABAAAA/f/6//b/+P/6//z///8CAAAAAgADAAMAAQABAAEAAAADAAEAAAACAAIAAQABAAAAAgACAAQAAwAAAAAA/f/+/////v////z//f///wEABQAGAAgABAAEAAYABwAIAAUAAwAAAP///f/8//z/+f/5//f/+P/7//z/AAD+//3//f/+//3///////z///8AAAMABAABAAEAAQACAAMAAwAEAP7/AAADAAAA//8AAAQAAAAAAP3//P///////v/7//7/AAABAAUABQABAAUAAAD//wEAAwAAAPz/+//6////AgABAAAAAAACAAUABgAGAAMAAwABAP/////6//7//v/+//3//P8CAAQAAgADAAQAAgAAAAEAAAAAAAAA//8AAAEAAQAAAAAA/P/8/////P/8/wAA/v/6//z////+//3//v////3/+/8AAAMABAACAAMA/f/8/wAAAwAEAAEAAQABAAAA/P/+/wEAAgD///z/+//9/wAAAAAAAAAA//8CAAQAAwAAAP7/AAACAAAA/v8BAAEA/v/7////AQABAAAAAQADAAYABgAIAAoACAAKAAQAAwADAAQABQAAAAAAAAAAAP3//f/+//v/+f/5//r/+v/8//z//f/7//v/+//+//z//P/8//r///8AAAUABQADAAIAAQABAAcABwAIAAIAAAAEAAAAAgABAAEAAwADAAIAAAD//wEAAgAAAAAAAQADAAEAAAABAAQAAgAEAAQAAAAAAP//AAAAAAAABAAAAAEAAQAAAAAAAQAAAP7///8DAAEA//8AAP///v/8/wAAAAD9//3//P/7//7/+//8/////v////n/+P/5//z/AAAAAP//AAABAAAAAAD//wAAAAD//wAAAwAEAAYAAAAAAAAAAAAAAPz//P8AAAMAAwABAAAABAACAAIAAAAAAAEAAQABAAEA/v///wIAAgACAP///v/+/wAAAgAFAAUABQADAAYABAAEAAsABwABAAAAAAAAAAQABgAEAAIAAQAAAAAAAwAAAPz//f/8//z/+P/4//n//P/9//v/+f/5//n/9//4//f/+v/6//7/AAD+/wEAAQD+//7/AAD9//r//f/+//7/AAAAAP//AAD+//7/AQACAAAAAQACAAAAAAAAAAEAAQAEAAcABQACAAIAAwACAAMABAABAP//AAAGAAUAAAD7//z/AQAAAAAAAAAAAAAA//8BAAEAAAACAAAA//8AAAAAAgADAAEAAAAFAAgABAAEAAEAAQABAAIAAwACAAAAAAABAAAA///+/wAAAAD+/wAAAAAAAAEAAAD///////8AAAAAAgAFAAQAAwADAAAA/////////f/7//3//P/+//////8AAP7//v8BAAMAAQD///7//v8AAAQAAAACAAIAAAADAAQABAADAAMAAAAAAP////8AAAQAAQD8//v//v///wIAAgAAAP3/+//9//3/AAABAAAA/////wAAAAABAAAA/f8AAP7//P/9//7//P/8/wAAAgD//wAA///5//v///8CAAAA///+//v/+v/+/wAA/////wAA//8AAAQABgAFAAMABAADAAAAAQAAAAAAAQAAAAAAAQACAAEAAQAAAAMABAACAAEAAQACAAAAAAAEAAQAAgACAAIABAACAAMAAQAAAAEAAQABAAIABAADAP///P/+/wAAAQAAAPr/+f/7//r/+f/6//z/+v/+//z/+v/4//n//f/+/wIAAAAAAAAAAAACAAMAAQAAAP//AgACAAcACgAEAAMAAgACAP///v///wAAAAD+//3//P/9//z/+v/7//v//f/+//7/AAAAAP///v///wIABgAIAAQAAgAEAAUABQABAAIAAQAAAAAA//8AAAAAAgADAAYABwAFAAIAAQABAAEAAgACAAIAAgABAAEAAwADAAEAAAAAAAAAAgAEAAMAAAAAAAEA///+/wAAAQABAAEAAQACAAIAAgABAP///v/+//z/+/8BAAIAAAD+//z////+//7//P/7//n//P/9//7//v/7//r//f8AAAAA///9//////////7//v8AAAIA//8AAP7/+f/8//7//f/+//////8DAAMABgAHAAcABgACAAMAAQAAAAIAAQAAAAAAAAD+//////8AAAIAAQAAAAAAAAD8/////////wIAAgAAAP7/AAD///7/+//7//v//v////3//f/+/wAA//8AAAAAAAD//wAA///9//v/AAAAAP7//f/+/wAA/v8BAAQAAQD//wQAAgD//wEAAQABAAIAAQABAAUAAgADAAUAAgACAAMAAgABAAMABAACAAQAAQACAAEA///+//7/AQAEAAcABwAGAAEAAAACAP////8AAAAAAgAAAP//AAABAAMA///8//v//f8AAAAAAAAAAP7///8AAAEAAwAAAP7////+//v//P/9/wAA+////wIAAQAFAAAA+//+//z/+f/6//z/AAAAAAAAAAD+//z///////z//P///wAAAwAEAAIAAQABAAMAAwAGAAUAAwD/////AwAEAAMAAgADAAEAAwACAAAA//8BAAEAAAADAAEABQACAAAAAAAAAAAAAgADAAAAAAD//wIAAwAGAAcAAwACAAIAAAD8//3/AAD///v////7///////3//z/AgABAAAAAAAAAPz/+f/5//v/AAD+//3/AAD///7/AAABAPv/9//8/wAAAAACAAMAAAAAAP3/+v/+////AAAAAP///////wMAAAD//wAA/v/+//v//f8AAP//AAADAAMABgAEAAEAAAD+//3/AAAGAAcAAwAEAAUABQAHAAQAAgABAAEAAAAAAAIAAQADAAAAAAAAAAEABQACAAAAAAACAAAAAQAEAAMABQABAAIAAQAAAAEAAQACAAEA/f/+//7//f8AAP//+//5//f//P/9//v/+v/8//r//v/9//n/+//6//r/+v8AAAIAAAAAAAEAAgAAAAAAAAABAAMABAABAP//AAAAAAAAAQACAAAAAgAEAAAAAQAAAAEABQAGAAYACAAHAAcABgAEAAQABQALAAoABAAAAAAA/P8AAAEA/f/5//n//f/7//v//P/6//v/+//8//7//f/+//v///8AAAIA///4//v//f8AAP//AAAAAAAA/f/8/wAA//8CAAAA/f/+//7//v8AAAQAAAAAAAMAAwAFAAEAAwAEAAIAAQACAAIAAgACAP3////9//7//f/+//7//f8AAP///P/8/////f8AAPv//v8AAAUACAAFAAQABAADAAIAAwAFAAkABgADAAEAAwABAAAAAAD9////+//8//3//v8AAP7//v8AAAMAAwAEAAIAAgAEAAMAAQADAAIA///7//r//v8AAP7/+f/7//v//P///wAAAQAEAAAA/v/+/////f/7//r//P/+////AAAAAAAAAQAAAAIABAAAAAEA/f/+//3//f8AAP//AAAAAAIAAQAAAAAAAQAFAAQABQAFAAAAAwAAAAAABQAGAAMAAAD///7/AwADAAAA/v////7///8AAP//AAD+/wAAAgACAAAAAQAEAAIAAQADAAQAAwAAAP3//f8AAAAAAAADAAQAAAD7//r/+/8AAAEA/f/6//z/+v/8//7///8AAP3//f8AAAMA//////7/AAABAAEAAQAAAAAAAAAAAAAAAQABAAEA//8AAAAAAgAAAAIAAgAAAAAA//8AAAAAAgAAAAAA/v/+//7//f/9/wAAAQADAAMAAAABAAIABAAAAAAAAAAAAP///v/+/wAAAQABAAUABwADAAQABgAIAAYABQAHAAAAAAD//wEAAwAAAP7/+f/4//v/AAAAAAEAAQADAAAAAAAAAAAA/f/8/wEAAQAAAAIAAQD8//3/AAAAAAAAAAD+//z////7//v//f8AAAMAAQD///z/+//8//3//v/+/wAAAAACAAIA//8AAAUAAwABAAQABAAAAP7/AAAAAAAAAAABAAEABQADAAIABAABAAAA/v8AAAAAAgACAP7/AAD///7//v/9/wEAAgAAAP//AAD///7//v/9//3///8BAAEAAwACAAMAAwAAAAIAAAD+//3//////wAAAwAEAAEAAAADAAAA+//8/wAAAwADAAMAAgABAAIAAQACAAEA///8//3//f/9//z/+//8//r//P////7/+//4//j/9//8/////v8CAAEAAgAAAAAAAAAAAAMAAAD//wAACQALAAkACAAGAAQAAQABAAMABAADAAAAAwAEAAEAAAABAAIA/v/8//v/+////wMABQADAAEAAAD8//3//P/8//3//v///////v/6//r//v8AAP//AQD///3//f//////+//+//v/+v/6/////P///wAA+//9////AwD//wAAAgAEAAMABwACAAAAAQADAAUAAAAFAAMAAQAAAAMAAwACAAAAAgAEAAEABAADAAUAAgAEAAUAAgACAAAAAQAHAAIABQAEAAIABAACAAQAAgAAAAEAAQABAP7//v/8//r//P8CAAMAAgABAPj/+f/4//n//f/7//3/+//8//z///8DAAAAAAAAAAAA/////wAAAAD///v//v8AAAAA///+//3//v/+//v//v8BAAAA+P/8////AgAHAAUAAwAAAAAAAQADAAQAAgACAAYAAwADAAMABAAGAAAA/f/+/wAAAQAEAAEAAAABAP//AAD//wMAAwAGAAMAAwAFAAUAAwACAAQAAgADAAQABAABAAAA/f8AAAEA//8AAAAA/P/5//z//f/8//j/+//+//z/AAD9//3//v/8//7/AAD+/////P/6//z//f8BAP7/+v/6//v/+//+/wAAAAD+//3/AAAAAAEA///9/wAABAABAP//AAADAAQAAwAHAAcABQAFAAQAAwAEAAMAAwAFAAUABQALAAcACAAEAAQAAwABAAMAAAAAAAAA///9//v/+//6//3//P/9/wIAAwAFAAMAAQADAAIAAAACAAEA///8//r///////n/+f/3//f/9f/1//v/9v/7//v//v////n//P/+//z//f8BAAAAAAAAAAAAAAAAAAMAAgADAAMABAAGAAcABgADAAUABAAFAAYAAwAAAP7/AAAAAAAAAAACAAMAAQD/////AAABAAIAAgAEAAMAAQADAAEAAQABAAIAAgADAAMAAQADAAIABAADAAIAAQAAAAAAAAABAAAAAAAAAAEAAAAAAP//AQD+//7//v/+//z//P/6//r//P/7//n/9//3//v//v/+//z/+v/+//3/+//8//3//v/9//3/AAAAAP//AAAAAAAA//8AAAIABAADAAAA//8AAAAAAwABAP///f8AAAMAAwAFAAYABgAEAAAAAAACAAQABQABAAIAAwACAAQABQAFAAQABQACAAMAAgABAAQAAgABAAAABQAJAAcABgAEAAAAAgAAAP3//v/5//j/+v///wAA//8AAP3/+//5//v//f/+//z//P/7//v///8AAP3//f/9//z//f/8//v/+//5//v/+//7//v/+//7/////v/9/wAAAQACAAEAAAAEAAIAAgAFAAMABQAEAAQABgAFAAQABgAHAAUABAAEAAMAAwAFAAMAAAD//wQAAQD+/wAA//8DAAQAAQAAAAAAAAD+/wAAAAD9/wAAAQABAAYABgAHAAkACwAGAAcACgAKAAcABgADAP3//v/9//r//P/9//r/9f/3//j/9v/5//j/+P/6//n/+//4//b/+v/7//7//v/6//z/AAABAPz/+//+/wAAAAACAAEAAAADAAUAAgAAAAIA/v/9/wAAAAACAAMAAAACAAAAAQAAAP7////+////AQAFAAYABAAAAAAAAwAEAAEABAAEAAIAAQAGAAgAAwAGAAMAAAAAAAUAAwABAAQAAgABAAMABAAEAAUAAAD9//7/AAD///3//P/9//v/+f////z/+f/6//r//P//////+//4//n/9v/2//v//P/9/wAA///7///////+/wEAAAD+/wAAAAABAAMAAwAAAAAAAAAEAAYAAgABAAAA///9/wAAAAABAAUAAwD///7///8CAAUABQADAAQAAwACAAcABQABAP//AAABAAcACAABAAAA/////wAAAgADAAEAAQADAAUAAwAAAAAABAACAAAAAAD//wAAAAD+//v//f8AAAIA//8AAP///v/9//7/AgABAP////8BAP//AAAAAP3//P/6//r/+f///wAA///8//v/AAAAAAAAAAADAAUAAQD+/wAAAgABAAEA/v8AAP////8AAP7/AQD8//z////+/wIABAADAAEABAAIAAwADQAKAAoACAACAAIABQAEAAAA/f8DAAUABAAAAPz//P/8//v/+v/8//n/9f/0//X/+v/+/wEA/f/+/wMAAAABAAAA//8AAAAAAgABAAIAAwAAAAEA/v/+//z//v8BAAAA/////////P/+//r/+v/9//3//v/8//3//v///wAA//8AAP7///8AAAAAAAABAAAA/P8BAAMAAAD9/wAAAAD+/wAAAAABAAQABQAEAAUABgACAAEAAgAFAAkABgAEAAEAAwAEAAcABgAEAAUACQAKAAkACAAGAAYABQAEAAYACQAEAAEAAAAAAP7///8AAAAAAQD9//7/AAD/////AAD///r//P8AAAAA///9//r/9//7//7/+f/6//r//f////7//P/6//3/+//9//r/9//7//3//////////f/7//7//v8AAPv//P//////AAAAAAIAAgABAAEABQACAAEABQAFAAQAAQAFAAMAAQD///3/AQAAAAIAAQD+////AQAGAAUAAgACAAEA//8AAAMAAQD//wEABQAGAAIA//8AAAMABAADAAAAAgABAAEAAAD///7//v8AAP///////wAA/f///wIAAAAAAP3/+//+////AAABAAAA//////3//v/9/////P/5//z//P/5//v////+////AAADAAYAAwAGAAYABwAHAAMAAAAAAP7//P/+//3//v/8//3/+v/6//v/+P/8////AAD+/wAA////////AAAAAAAAAAAAAAMAAQAEAAAAAwAIAAcABwACAAMABQAHAAcABQAIAAcAAgAEAAMAAgAAAP//AgAAAAAAAAADAAAA//8AAP/////8//3//v8AAAEA/v/+/wEAAwADAAAAAAACAAMAAAD6//z//v/8//3//v///////f/7//3/AAABAAAAAQACAAEA/f/5//3/AAD///3//P/9//7//v/9/wAAAAD/////AAADAAAABAAGAAEAAAAAAAMABgAGAAQAAgADAAUABAAFAAYABgADAAMABgAFAAgABQAAAAIA///9/wAAAQD9//v//v/9/wAA///7//r//P8AAAAAAQABAP//AAAAAP/////8//v/+v/+//7//P/6//3//f/+//r/+P/9//3//f/+/wEAAQAAAP7//v/9////AAD7//3/AAABAP3/+//+/wAA//8AAAEAAAABAAAAAQAEAAcACQAEAAkACgAFAAUABwAEAAQAAwAAAAIABQAFAAcABgAFAAEAAAAFAAQAAwD//wEAAQAGAAUAAQD//wAAAAD9/wIABAABAP7/AAACAAEA//8AAPz/+//9//n/+f/7//7//P/4//n/+v/7//n/9f/5//r/+f/5//7/+v/7/////v/+/wAAAAAAAAYABgAKAAIA//8AAAAAAAD8//r//f/7//j//f/9//r//P/7//v//f/8/wAAAQAAAP//AgAGAAYAAwABAAUABgAHAAMABQAGAAcACgAJAAUABgAGAAkACQAFAAQAAgABAAAAAAABAAMAAAD//wAA//8AAAAA/f8AAAAAAAD8/wAAAAD7////+P/6//7////9//////8CAAAA//8AAP7//f/9//7///8BAAAAAAAAAP3//P8AAAQAAgAAAP3/AAABAAEA///+//7//v/+//3//v8BAAIAAAAAAP3//v///wAA//8AAAMAAAAAAAEAAQAAAAAAAQABAAEAAwABAAEAAwAGAAcACAAKAAkABgAFAAMABAAEAP///v/9//v/+v/6//z//v/9////AAD+//3/AAD///3//v///////v8CAAIABQAAAAAAAQABAAIAAQACAAEAAQACAAMA/////wAA/P/7/////f/9//v//f////3//P/8//z/+P/7//7//f/8//z/AAD+//7//v8AAAQABAAAAPv//f8CAAUAAwD///7/AAABAAAAAgAAAP7//P/7//3//P8BAAAAAAAFAAYABQADAAMABgAFAAQABgADAAEAAQD//wAAAAACAAUAAwAEAAQABwAFAAEAAgABAAAA//8AAAAA/f8AAPz/+f/+////+//7//3//P/+////AAABAPz//P8AAAEAAAD8//7///8AAP7/AgADAAIAAQACAAMA/v/8//n/+v/8////AAAAAAMAAAD//////v8BAAIAAwAAAAMABgADAAEAAQAAAP//AgAEAAMAAwAEAAUABgAIAAgABgAEAAAA///+////AQAAAAIAAQADAAIAAAACAAAAAQAAAAQAAgAAAAAA//8BAAEA//8AAP//AAD///7//P/9/wEA/v/+//7///8AAAAAAAD9//3/AQACAAMAAAD+//r/+/8AAAEA/////wEA/f/+//7//P/8//3//P/8/wAABAAFAAIA///9//7///8AAP///v/8//j/+v8BAAAAAAABAAAAAQACAAcAAwACAAEA/v/+/wAAAAD+/wAA//8AAP//AAAAAP3/AwACAAEAAgADAAgABwAHAAUABgAHAAYAAwABAAIAAwABAAEAAAAAAPz//f////z//f/+////+//7//r/+f/7//f/9f/1//r/+//+////+////wAAAAD//wEABQADAAMAAQACAAIAAAACAAIA//8AAAMABQAEAAIAAQACAP7/AAABAP//AAAAAP///v/+/wAAAgACAAAAAAADAAMABQAHAAIABQAGAAIAAgACAAIAAAABAAQABAAEAAQAAQAAAP///f/+/wAAAAD9//r//P/9//7/AAAAAP7//f/+//3//P/+//3////+/wAABAADAP7//f////7////9//3/AAAAAP3/AAADAAMAAAAAAAAAAwADAAIAAAD//wEA///9//7/AwACAAEA/f/7/wEAAAAAAP3/+f/4//r/AAADAAQAAgAAAAAABAAFAAYABgADAAYAAwAAAAEABgAHAAUAAgAAAAAABAAFAAEAAAACAAAAAAABAP3//P/7//3/BAADAP///v///wAAAgAAAP7//v///wAAAAADAAAA/f/9/wAAAgAAAAAAAAABAAEAAQAAAAAAAgAAAAEA/////wAAAAAAAP//AAD///7//f/+/wAAAAAAAP7//f/6//n//P/+////AAABAAAA/v/+//v//v////3//P/7/wAAAAAAAP//+////wAA/////wAAAAD+/wAAAgABAAMAAAAAAAEABAAGAAAA//8BAAEAAQAAAAAAAwACAAAAAgAFAAcABQAFAAIABAAFAAEAAgAHAAgAAgADAAQAAQACAAUAAQD///3/AAABAAAAAQAAAP//AAADAAEAAAAAAAAA/P/5//3//f////v/+P/8//3/+v/7//3//v////7///8BAAMAAAAAAAIA/////wAA/v8BAAAAAgADAAUABQAEAAUAAwACAAMAAwADAAEAAAAAAP7/AAD///v//P/9//7//f/+/wAAAAAAAAAA//8AAP///f///wAA/v/+/wEAAwAAAP3///8AAAAAAAAAAAAAAAAAAAIAAAAAAAEAAAD//wAA/f8AAAEAAQAAAP7//f/9/wAA//8AAAAAAAAAAAUABAAAAAIAAgACAAAAAAD9//z///8AAP7///////7///8DAAAA//8CAAAAAgABAAEA//8AAP7/AAACAAAAAQAEAAQABwAGAAYAAgAEAAUA/v8AAAEABAAEAAUAAgADAAAAAAADAP///f/8//3/+//5//3/AAD9//v/+v/8//7//f/7//r//P/8////AQAAAAEAAwAFAAMABAAEAP//AgAGAAQA//8AAAIAAAADAAAAAAAAAP//+f/2//n/9//6//3/+f/3//v//v8AAP7//v/9//3/AAADAAIA//8AAAQABAADAAYABAD9/wEAAgABAAUABAADAAIABgACAAQABAACAAEAAAAAAP3/AAACAAIAAAAAAAAAAQAEAAIA///9//7/AAACAAEAAQACAAMAAAAAAAEAAwACAAEAAAAAAAMABAAEAAEAAgADAAYAAwAAAP7/AAADAAEAAAD+/////v///wAAAgAAAP3//v/6////AAD+/wAA/f/6//z//P8AAAAA/f/+//3//f/9//3//P8AAP7//P/5//f/+f/5//z/+v/7//z//f/9//3///8AAAIAAwAHAAYABQAIAAgABQAAAAEAAQD9/wAAAAD9/wAAAAAAAP//BAADAAEAAQAAAAQABQAFAAQAAgAEAAcABwAJAAIAAQACAP//AwAGAAQAAQAAAPn/+////wAA/P/3//r/+P/4//z/+//6//z/+//5//z//v/4//f/+v/8//z//P/+//3//v8AAAMAAgAAAAAAAAACAAEABQAFAAQAAwADAAMABAAFAAcABAAAAAIAAQAAAAYABgADAAUABAAFAP7/AAAGAAYAAwAAAP//AwAGAAYABAAEAAcABgAGAAMAAAACAAQAAAD/////AAAAAP7//P/5//v/+//9//3///8AAAAAAQABAAAA/v////7/AQABAAIABQAIAAcAAAABAAAA+//+//3/+v/6//z/AAD9//v/9f/5//7/+P/7//7/+//8//z//v8DAAAAAAD+//v/BAAFAAQABwAEAAIAAAAEAAYAAAD/////AQABAP//AAD+//r//f/+//z/+f/8//v/9//3//f//v8AAP//AQABAAAAAQD9//7/AgACAAEABwAJAAYABgAGAAYAAwAAAAAAAgACAAEAAwAEAAEABQAHAAYAAwACAAIAAgADAAMAAAAAAAIABQAFAAIAAwADAAAA/f/+/////f/7//7///8AAAAAAAACAAAAAAACAAEAAAAAAPv/+v/4//b/9v/2//f/9v/3//r//f/9//7/AAD+//r//f/9/wAAAgAEAAgABwADAAMABAAHAAIABQAKAAMAAwAGAAYABAABAP////8AAAMABAADAP//AAAAAAAAAAAAAAIAAQAAAP7//v8BAAAAAAAAAAIAAQADAAcABQAEAAIAAQAAAP3//f/9//3/+//5//j/9//3//P/+f/5//X/+v/7//v/+//7//n/+v/8/wAAAAAAAAQABgAGAAUAAwACAAEAAwACAAEAAQAEAAYAAgAAAAIAAwACAAIAAAAAAAIABAABAAMABAADAAAAAgAIAAcABwAEAAYABgAFAAMAAgAAAAAAAQABAAYABAAEAAMA//8AAAAAAwADAP///v///////f///wAAAAD9//3//v/9//v//v8AAPz//P/8//7//v/////////9//v//f/8//z/AAD9//7/AAD7//r//P////3/+/////z/+f/7//3////+////AAAAAPz//P/9//3//v8BAAIAAgABAAAAAQADAAcACAAGAAYABQAFAAYAAgAAAAAABAACAAEAAgABAAIAAQAAAAMACAABAAIABAAAAAAAAgAAAAAAAQAAAP//AAAAAAAAAwAAAP7//v8BAAAAAAD//wAAAAD9//z/+//6////AQD9//z//f8BAP7//v/+/wAAAwAAAAAAAAADAAMAAQAAAAAAAgABAAQABwAGAAUABAACAAIABAADAAUAAQAAAP//AAADAAAAAgAAAP3/AQABAAAA//8AAAIAAQAAAAAAAAD////////8//n/+//7//n/9//9//r/+f/+//3/+//8//7/9//4//v///8AAAAAAAAAAAUABAAGAAcABwAFAAAAAwADAAMAAgABAAAAAAACAAQAAQD8//j/+f/9/wAAAAD+//7//f/9/wAA/v/+//7//v/9/wAABAAFAAIAAgAAAPn//P/9//3//v8AAAAAAAAAAAEAAQACAAIA/P8CAAAA/v8BAAAAAQAAAAIABwAHAAcABQAEAAMAAgAEAAEA/////wEABwAJAAUAAwAEAAYABwAIAAoACQAFAAEAAwADAAAA///7//3//P/6//n/9f/5//3//f/8//j//P////7//f/8//z//P/7//v//f/8//f/9//7//7/AAAAAAMAAwABAAEAAAABAAcAAQD//wAAAAABAAAAAAD5//r////+/wAAAwAGAAYABAADAAEAAQABAAIABAADAAQAAAAAAAIAAAAAAAAAAQABAAQAAQAAAAEA/v8AAP7/AAAAAAEAAgAAAAEA/f/8//7////+//7/AAACAAAA///8//3/AAAAAP7//v/+//7//P///wEAAQAFAAEAAQADAAEAAQACAAIAAQADAAUABAAFAAIAAQAAAP//AgABAAAA//8AAP7//v8BAAQABAABAP3/+f/8//z//v//////AAAAAP///f8AAP///v8AAP7//f8AAAAAAAAAAP3////+////AgD//////v/+//7//f/+/wAAAQAAAAAA///8//z/+//+/wIAAAD//wAAAAD//wAAAAD+/wAA///+/wAAAAAAAAAAAgADAAUABAAAAAMABgAJAAYAAQAGAAYABAACAP//AAAAAAEAAAABAAIAAAAAAP3/AwACAAIAAgAAAP7//f8AAAAA/v////7//f8AAAAA/////wAAAwAAAAAAAAABAAAA/v8AAAEAAgD//////v/9/wIABQADAAMAAQAAAAEAAQACAAIA///+//7//f8AAP7///8BAAAA/v/+////AAD8//v//f/8/wAAAwABAAUABAACAAEAAgACAAAAAwAAAP7/AQAEAAEAAAAAAAIAAgAAAPz/+f/9//3/+v/9//7//f/+//3/AAD//wEA/v/+//////8BAAEAAwD///3////+/wAAAAD//wMAAgABAAMAAQAEAAIAAwAFAAMAAgAEAAgABgAFAAsABwADAAMABgAFAAUABQABAAMABAAGAP///v8AAP7//v///wAAAAD///7/+f/6//r/+//+//n//P/+//7//f/+//z//P/+//7/+f/3//n/+f/9//v/+v/7//z/+//4//v/+//9////AAAAAAAA/v///wEAAQAEAAMAAwAAAAQABQAEAAMAAAAAAAEAAwABAAAAAAABAAEAAwADAAMABgAEAAUABQAEAAcACgAHAAYABQABAAEABAAHAAYABgADAAIAAQAFAAIAAgACAP//AAAAAP//+//+////AAD9//3/+//9//z//v/8//n//P/5//r/+//8//3//////wAA///9//v//P/+//3/9f/3//3//P8AAAAAAAAAAAEAAQAFAAEAAAADAAAAAAABAAAAAQACAAIAAgABAAAA//8BAAAAAAAAAAAAAAD//wAAAAAAAAAAAwADAAAAAgAAAAAAAwAEAAMAAgABAAEAAQAAAAEAAAAAAAAAAgADAAMAAgADAAMAAQABAAMAAwAAAAIAAgABAP//+//+/wAAAwAEAAEAAAAAAAAA/v/9//7////8//r//v8AAP///v/8//v/+v/7/wAAAAABAAAA//8BAAIABQABAAAA/v///wAA/f////3////9////AgAAAAAAAQABAAAAAQAAAAIAAAD//wAAAgACAAEABAAEAAEAAQAGAAcABwADAAMABAABAAEAAQD//wAAAAD6//n/+//9//7/AAADAAEAAQACAAIAAgD/////AAACAAIAAAD+//z//f///wAA//8AAP3//f/+//r/+v/6//n/+f/6//v/+//7//v/AAD+//r//f/+//7//f/+//7///8AAAIAAAAAAAAAAAAAAAAAAAAAAAAAAAAAAAAAAAAAAAAAAAAAAAAAAAAAAAAAAAAAAAAAAAAAAAAAAAAAAAAAAAAAAAAAAAAAAAAAAAAAAAAAAAAAAAAAAAAAAAAAAAAAAAAAAAAAAAAAAAAAAAAAAAAAAAAAAAAAAAAAAAAAAAAAAAAAAAAAAAAAAAAAAAAAAAAAAAAAAAAAAAAAAAAAAAAAAAAAAAAAAAAAAAAAAAAAAAAAAAAAAAAAAAAAAAAAAAAAAAAAAAAAAAAAAAAAAAAAAAAAAAAAAAAAAAAAAAAAAAAAAAAAAAAAAAAAAAAAAAAAAAAAAAAAAAAAAAAAAAAAAAAAAAAAAAAAAAAAAAAAAAAAAAAAAAAAAAAAAAAAAAAAAAAAAAAAAAAAAAAAAAAAAAAAAAAAAAAAAAAAAAAAAAAAAAAAAAAAAAAAAAAAAAAAAAAAAAAAAAAAAAAAAAAAAAAAAAAAAAAAAAAAAAAAAAAAAAAAAAAAAAAAAAAAAAAAAAAAAAAAAAAAAAAAAAAAAAAAAAAAAAAAAAAAAAAAAAAAAAAAAAAAAAAAAAAAAAAAAAAAAAAAAAAAAAAAAAAAAAAAAAAAAAAAAAAAAAAAAAAAAAAAAAAAAAAAAAAAAAAAAAAAAAAAAAAAAAAAAAAAAAAAAAAAAAAAAAAAAAAAAAAAAAAAAAAAAAAAAAAAAAAAAAAAAAAAAAAAAAAAAAAAAAAAAAAAAAAAAAAAAAAAAAAAAAAAAAAAAAAAAAAAAAAAAAAAAAAAAAAAAAAAAAAAAAAAAAAAAAAAAAAAAAAAAAAAAAAAAAAAAAAAAAAAAAAAAAAAAAAAAAAAAAAAAAAAAAAAAAAAAAAAAAAAAAAAAAAAAAAAAAAAAAAAAAAAAAAAAAAAAAAAAAAAAAAAAAAAAAAAAAAAAAAAAAAAAAAAAAAAAAAAAAAAAAAAAAAAAAAAAAAAAAAAAAAAAAAAAAAAAAAAAAAAAAAAAAAAAAAAAAAAAAAAAAAAAAAAAAAAAAAAAAAAAAAAAAAAAAAAAAAAAAAAAAAAAAAAAAAAAAAAAAAAAAAAAAAAAAAAAAAAAAAAAAAAAAAAAAAAAAAAAAAAAAAAAAAAAAAAAAAAAAAAAAAAAAAAAAAAAAAAAAAAAAAAAAAAAAAAAAAAAAAAAAAAAAAAAAAAAAAAAAAAAAAAAAAAAAAAAAAAAAAAAAAAAAAAAAAAAAAAAAAAAAAAAAAAAAAAAAAAAAAAAAAAAAAAAAAAAAAAAAAAAAAAAAAAAAAAAAAAAAAAAAAAAAAAAAAAAAAAAAAAAAAAAAAAAAAAAAAAAAAAAAAAAAAAAAAAAAAAAAAAAAAAAAAAAAAAAAAAAAAAAAA=\" type=\"audio/wav\" />\n",
              "                    Your browser does not support the audio element.\n",
              "                </audio>\n",
              "              "
            ]
          },
          "metadata": {},
          "execution_count": 33
        }
      ]
    },
    {
      "cell_type": "code",
      "source": [
        "rand_int = random.randint(0, len(common_voice_train)-1)\n",
        "\n",
        "print(\"Target text:\", common_voice_train[rand_int][\"sentence\"])\n",
        "print(\"Input array shape:\", common_voice_train[rand_int][\"audio\"][\"array\"].shape)\n",
        "print(\"Sampling rate:\", common_voice_train[rand_int][\"audio\"][\"sampling_rate\"])\n"
      ],
      "metadata": {
        "id": "OT5g2-uoCPLa",
        "colab": {
          "base_uri": "https://localhost:8080/"
        },
        "outputId": "87b2badf-76cb-4a4f-e51a-aacb564cc93e"
      },
      "execution_count": null,
      "outputs": [
        {
          "output_type": "stream",
          "name": "stdout",
          "text": [
            "Target text: !pyaeke\n",
            "Input array shape: (35136,)\n",
            "Sampling rate: 16000\n"
          ]
        }
      ]
    },
    {
      "cell_type": "code",
      "source": [
        "def prepare_dataset(batch):\n",
        "    audio = batch[\"audio\"]\n",
        "\n",
        "    # batched output is \"un-batched\"\n",
        "    batch[\"input_values\"] = processor(audio[\"array\"], sampling_rate=audio[\"sampling_rate\"]).input_values[0]\n",
        "    batch[\"input_length\"] = len(batch[\"input_values\"])\n",
        "\n",
        "    with processor.as_target_processor():\n",
        "        batch[\"labels\"] = processor(batch[\"sentence\"]).input_ids\n",
        "    return batch\n"
      ],
      "metadata": {
        "id": "sF-hCetSCSwh"
      },
      "execution_count": null,
      "outputs": []
    },
    {
      "cell_type": "code",
      "source": [
        "common_voice_train = common_voice_train.map(prepare_dataset, remove_columns=common_voice_train.column_names)\n",
        "common_voice_test = common_voice_test.map(prepare_dataset, remove_columns=common_voice_test.column_names)\n"
      ],
      "metadata": {
        "colab": {
          "base_uri": "https://localhost:8080/",
          "height": 130,
          "referenced_widgets": [
            "6eaaff930faf40609d28cc732ab263d9",
            "7343092f5c4c41a1b3ae55a3217a47eb",
            "d3fe681827864a8d84be83f51965abdb",
            "7cde4a9c361c47d09fa25e99f895f62e",
            "c99c963289e44294a6cfd418d574b0e3",
            "3718150698434b1dbe30fcba41660a09",
            "7f5ad994073a4da9af0a54b0a396255d",
            "5d77bf5a88924dae900afeca6d02ae80",
            "53862ffb965e4c43907af3e07e653ad3",
            "d1f3b648f8224577bc4cd541c9cc0e8a",
            "ea401b99d7e243d8aba4f3265f489856",
            "44fa105bec13495eb3140c1ea9c4aed9",
            "343e64150f024864988731cf297e0122",
            "b4d1bb310ec44745a361b34187b6b6af",
            "f9ec71726e69490e844b3a36b28b1cab",
            "16e34240189d44fea30c9f9525b0d964",
            "7dcaf0eac94f48c7b085c53b866ae023",
            "199550e10d6744f4b2d774ac2e8b510c",
            "8aca58ba6b534447b52a834bcfab4d36",
            "c2d8e023a23c496cae7635eedc6f4ad5",
            "94976f8eb96448b8944ec063d48f5709",
            "fdb90a26a8b14f4b9149ba303e38e9c0"
          ]
        },
        "id": "0ghzmu3lCx6W",
        "outputId": "34bb307b-57fb-42f6-c674-47468a198436"
      },
      "execution_count": null,
      "outputs": [
        {
          "output_type": "display_data",
          "data": {
            "text/plain": [
              "Map:   0%|          | 0/1766 [00:00<?, ? examples/s]"
            ],
            "application/vnd.jupyter.widget-view+json": {
              "version_major": 2,
              "version_minor": 0,
              "model_id": "6eaaff930faf40609d28cc732ab263d9"
            }
          },
          "metadata": {}
        },
        {
          "output_type": "stream",
          "name": "stderr",
          "text": [
            "/usr/local/lib/python3.10/dist-packages/transformers/models/wav2vec2/processing_wav2vec2.py:155: UserWarning: `as_target_processor` is deprecated and will be removed in v5 of Transformers. You can process your labels by using the argument `text` of the regular `__call__` method (either in the same call as your audio inputs, or in a separate call.\n",
            "  warnings.warn(\n"
          ]
        },
        {
          "output_type": "display_data",
          "data": {
            "text/plain": [
              "Map:   0%|          | 0/811 [00:00<?, ? examples/s]"
            ],
            "application/vnd.jupyter.widget-view+json": {
              "version_major": 2,
              "version_minor": 0,
              "model_id": "44fa105bec13495eb3140c1ea9c4aed9"
            }
          },
          "metadata": {}
        }
      ]
    },
    {
      "cell_type": "code",
      "source": [
        "import wandb\n",
        "wandb.login(key=\"09fe52f4423e596c5eaaecdb5cbe7ef70a9c9024\")"
      ],
      "metadata": {
        "colab": {
          "base_uri": "https://localhost:8080/"
        },
        "id": "A5hZbd49IVtT",
        "outputId": "017d7149-bf3e-42aa-ef95-51f0db66162f"
      },
      "execution_count": null,
      "outputs": [
        {
          "output_type": "stream",
          "name": "stderr",
          "text": [
            "\u001b[34m\u001b[1mwandb\u001b[0m: Currently logged in as: \u001b[33mgrkgrk\u001b[0m (\u001b[33midlis\u001b[0m). Use \u001b[1m`wandb login --relogin`\u001b[0m to force relogin\n",
            "\u001b[34m\u001b[1mwandb\u001b[0m: \u001b[33mWARNING\u001b[0m If you're specifying your api key in code, ensure this code is not shared publicly.\n",
            "\u001b[34m\u001b[1mwandb\u001b[0m: \u001b[33mWARNING\u001b[0m Consider setting the WANDB_API_KEY environment variable, or running `wandb login` from the command line.\n",
            "\u001b[34m\u001b[1mwandb\u001b[0m: Appending key for api.wandb.ai to your netrc file: /root/.netrc\n"
          ]
        },
        {
          "output_type": "execute_result",
          "data": {
            "text/plain": [
              "True"
            ]
          },
          "metadata": {},
          "execution_count": 37
        }
      ]
    },
    {
      "cell_type": "code",
      "source": [
        "wandb.init(\n",
        "    name = \"mnlp-hw-2-hyper-gn-2\", ## Wandb creates random run names if you skip this field\n",
        "    reinit = True, ### Allows reinitalizing runs when you re-run this cell\n",
        "    project = \"mnlp\", ### Project should be created in your wandb account\n",
        ")"
      ],
      "metadata": {
        "colab": {
          "base_uri": "https://localhost:8080/",
          "height": 558,
          "referenced_widgets": [
            "d8795580484249f08ff6a2cd6b24e7bb",
            "660085fec5924ee7af268d1fdcde6942",
            "a0bb8417de504fa991bcd7571be7780b",
            "ef560807d33145749a0a21b56677fd87",
            "2e8a2737f66b4819920dc1e4d25b9b2e",
            "67274d24af464818a17312d7b733fe7c",
            "8609659d003a4d05a156ba9291336b2d",
            "443600f7feac441781e579af251e40c6"
          ]
        },
        "id": "QYmHAQbNIZji",
        "outputId": "0a65beec-a8bd-45d9-e0ce-6311885f7ae0"
      },
      "execution_count": null,
      "outputs": [
        {
          "output_type": "display_data",
          "data": {
            "text/plain": [
              "<IPython.core.display.HTML object>"
            ],
            "text/html": [
              "Finishing last run (ID:h30fs31u) before initializing another..."
            ]
          },
          "metadata": {}
        },
        {
          "output_type": "display_data",
          "data": {
            "text/plain": [
              "<IPython.core.display.HTML object>"
            ],
            "text/html": [
              "Waiting for W&B process to finish... <strong style=\"color:green\">(success).</strong>"
            ]
          },
          "metadata": {}
        },
        {
          "output_type": "display_data",
          "data": {
            "text/plain": [
              "VBox(children=(Label(value='0.001 MB of 0.045 MB uploaded (0.000 MB deduped)\\r'), FloatProgress(value=0.027040…"
            ],
            "application/vnd.jupyter.widget-view+json": {
              "version_major": 2,
              "version_minor": 0,
              "model_id": "d8795580484249f08ff6a2cd6b24e7bb"
            }
          },
          "metadata": {}
        },
        {
          "output_type": "display_data",
          "data": {
            "text/plain": [
              "<IPython.core.display.HTML object>"
            ],
            "text/html": [
              "<style>\n",
              "    table.wandb td:nth-child(1) { padding: 0 10px; text-align: left ; width: auto;} td:nth-child(2) {text-align: left ; width: 100%}\n",
              "    .wandb-row { display: flex; flex-direction: row; flex-wrap: wrap; justify-content: flex-start; width: 100% }\n",
              "    .wandb-col { display: flex; flex-direction: column; flex-basis: 100%; flex: 1; padding: 10px; }\n",
              "    </style>\n",
              "<div class=\"wandb-row\"><div class=\"wandb-col\"><h3>Run history:</h3><br/><table class=\"wandb\"><tr><td>eval/loss</td><td>█▄▃▃▃▃▃▂▁▁▁▁▁▁▁▁▁▁▁▁▁▁▁▁▁▁▁▁▁▁▁▁▁▁▁▁▁▁▁▁</td></tr><tr><td>eval/runtime</td><td>▅▂▁▁▁▁▂▂▂▃▃▅▄▄▄▃▄▂▂▃▃▂▂▂▃▂▃▃▂▂▂▂▃▆▆▇▇▆▇█</td></tr><tr><td>eval/samples_per_second</td><td>▃▇████▇▇▇▆▆▄▅▅▅▆▅▇▇▅▆▇▆▇▆▇▆▆▇▇▇▇▆▃▃▂▂▃▂▁</td></tr><tr><td>eval/steps_per_second</td><td>▃▇████▇▇▇▆▆▄▅▅▅▆▅▇▇▅▆▇▇▇▆▇▆▆▇▇▇▇▆▃▃▂▂▃▂▁</td></tr><tr><td>eval/wer</td><td>█████████▇▆▅▄▃▅▃▃▃▃▂▂▂▂▂▂▂▂▂▂▁▁▁▁▁▁▁▁▁▁▁</td></tr><tr><td>train/epoch</td><td>▁▁▁▂▂▂▂▂▂▃▃▃▃▃▃▄▄▄▄▄▅▅▅▅▅▅▆▆▆▆▆▆▇▇▇▇▇███</td></tr><tr><td>train/global_step</td><td>▁▁▁▂▂▂▂▂▂▃▃▃▃▃▃▄▄▄▄▄▅▅▅▅▅▅▆▆▆▆▆▆▇▇▇▇▇███</td></tr><tr><td>train/learning_rate</td><td>▃▄████▇▇▇▇▇▆▆▆▆▆▅▅▅▅▅▄▄▄▄▄▄▃▃▃▃▃▂▂▂▂▂▁▁▁</td></tr><tr><td>train/loss</td><td>█▃▂▂▂▂▂▂▁▁▁▁▁▁▁▁▁▁▁▁▁▁▁▁▁▁▁▁▁▁▁▁▁▁▁▁▁▁▁▁</td></tr><tr><td>train/total_flos</td><td>▁</td></tr><tr><td>train/train_loss</td><td>▁</td></tr><tr><td>train/train_runtime</td><td>▁</td></tr><tr><td>train/train_samples_per_second</td><td>▁</td></tr><tr><td>train/train_steps_per_second</td><td>▁</td></tr></table><br/></div><div class=\"wandb-col\"><h3>Run summary:</h3><br/><table class=\"wandb\"><tr><td>eval/loss</td><td>0.59284</td></tr><tr><td>eval/runtime</td><td>58.7099</td></tr><tr><td>eval/samples_per_second</td><td>13.814</td></tr><tr><td>eval/steps_per_second</td><td>1.737</td></tr><tr><td>eval/wer</td><td>0.62865</td></tr><tr><td>train/epoch</td><td>29.73</td></tr><tr><td>train/global_step</td><td>1650</td></tr><tr><td>train/learning_rate</td><td>0.0</td></tr><tr><td>train/loss</td><td>0.0786</td></tr><tr><td>train/total_flos</td><td>6.76737301760852e+18</td></tr><tr><td>train/train_loss</td><td>1.00186</td></tr><tr><td>train/train_runtime</td><td>9812.8367</td></tr><tr><td>train/train_samples_per_second</td><td>5.399</td></tr><tr><td>train/train_steps_per_second</td><td>0.168</td></tr></table><br/></div></div>"
            ]
          },
          "metadata": {}
        },
        {
          "output_type": "display_data",
          "data": {
            "text/plain": [
              "<IPython.core.display.HTML object>"
            ],
            "text/html": [
              " View run <strong style=\"color:#cdcd00\">mnlp-hw-2-hyper-gn</strong> at: <a href='https://wandb.ai/idlis/mnlp/runs/h30fs31u' target=\"_blank\">https://wandb.ai/idlis/mnlp/runs/h30fs31u</a><br/>Synced 5 W&B file(s), 0 media file(s), 0 artifact file(s) and 0 other file(s)"
            ]
          },
          "metadata": {}
        },
        {
          "output_type": "display_data",
          "data": {
            "text/plain": [
              "<IPython.core.display.HTML object>"
            ],
            "text/html": [
              "Find logs at: <code>./wandb/run-20231101_223654-h30fs31u/logs</code>"
            ]
          },
          "metadata": {}
        },
        {
          "output_type": "display_data",
          "data": {
            "text/plain": [
              "<IPython.core.display.HTML object>"
            ],
            "text/html": [
              "Successfully finished last run (ID:h30fs31u). Initializing new run:<br/>"
            ]
          },
          "metadata": {}
        },
        {
          "output_type": "display_data",
          "data": {
            "text/plain": [
              "<IPython.core.display.HTML object>"
            ],
            "text/html": [
              "Tracking run with wandb version 0.15.12"
            ]
          },
          "metadata": {}
        },
        {
          "output_type": "display_data",
          "data": {
            "text/plain": [
              "<IPython.core.display.HTML object>"
            ],
            "text/html": [
              "Run data is saved locally in <code>/content/wandb/run-20231102_031709-jccub8h0</code>"
            ]
          },
          "metadata": {}
        },
        {
          "output_type": "display_data",
          "data": {
            "text/plain": [
              "<IPython.core.display.HTML object>"
            ],
            "text/html": [
              "Syncing run <strong><a href='https://wandb.ai/idlis/mnlp/runs/jccub8h0' target=\"_blank\">mnlp-hw-2-hyper-gn-2</a></strong> to <a href='https://wandb.ai/idlis/mnlp' target=\"_blank\">Weights & Biases</a> (<a href='https://wandb.me/run' target=\"_blank\">docs</a>)<br/>"
            ]
          },
          "metadata": {}
        },
        {
          "output_type": "display_data",
          "data": {
            "text/plain": [
              "<IPython.core.display.HTML object>"
            ],
            "text/html": [
              " View project at <a href='https://wandb.ai/idlis/mnlp' target=\"_blank\">https://wandb.ai/idlis/mnlp</a>"
            ]
          },
          "metadata": {}
        },
        {
          "output_type": "display_data",
          "data": {
            "text/plain": [
              "<IPython.core.display.HTML object>"
            ],
            "text/html": [
              " View run at <a href='https://wandb.ai/idlis/mnlp/runs/jccub8h0' target=\"_blank\">https://wandb.ai/idlis/mnlp/runs/jccub8h0</a>"
            ]
          },
          "metadata": {}
        },
        {
          "output_type": "execute_result",
          "data": {
            "text/html": [
              "<button onClick=\"this.nextSibling.style.display='block';this.style.display='none';\">Display W&B run</button><iframe src='https://wandb.ai/idlis/mnlp/runs/jccub8h0?jupyter=true' style='border:none;width:100%;height:420px;display:none;'></iframe>"
            ],
            "text/plain": [
              "<wandb.sdk.wandb_run.Run at 0x7ac50701a9b0>"
            ]
          },
          "metadata": {},
          "execution_count": 48
        }
      ]
    },
    {
      "cell_type": "markdown",
      "source": [
        "## Training"
      ],
      "metadata": {
        "id": "1qoXdlvdC18c"
      }
    },
    {
      "cell_type": "code",
      "source": [
        "import torch\n",
        "\n",
        "from dataclasses import dataclass, field\n",
        "from typing import Any, Dict, List, Optional, Union\n",
        "\n",
        "@dataclass\n",
        "class DataCollatorCTCWithPadding:\n",
        "    \"\"\"\n",
        "    Data collator that will dynamically pad the inputs received.\n",
        "    Args:\n",
        "        processor (:class:`~transformers.Wav2Vec2Processor`)\n",
        "            The processor used for proccessing the data.\n",
        "        padding (:obj:`bool`, :obj:`str` or :class:`~transformers.tokenization_utils_base.PaddingStrategy`, `optional`, defaults to :obj:`True`):\n",
        "            Select a strategy to pad the returned sequences (according to the model's padding side and padding index)\n",
        "            among:\n",
        "            * :obj:`True` or :obj:`'longest'`: Pad to the longest sequence in the batch (or no padding if only a single\n",
        "              sequence if provided).\n",
        "            * :obj:`'max_length'`: Pad to a maximum length specified with the argument :obj:`max_length` or to the\n",
        "              maximum acceptable input length for the model if that argument is not provided.\n",
        "            * :obj:`False` or :obj:`'do_not_pad'` (default): No padding (i.e., can output a batch with sequences of\n",
        "              different lengths).\n",
        "    \"\"\"\n",
        "\n",
        "    processor: Wav2Vec2Processor\n",
        "    padding: Union[bool, str] = True\n",
        "\n",
        "    def __call__(self, features: List[Dict[str, Union[List[int], torch.Tensor]]]) -> Dict[str, torch.Tensor]:\n",
        "        # split inputs and labels since they have to be of different lengths and need\n",
        "        # different padding methods\n",
        "        input_features = [{\"input_values\": feature[\"input_values\"]} for feature in features]\n",
        "        label_features = [{\"input_ids\": feature[\"labels\"]} for feature in features]\n",
        "\n",
        "        batch = self.processor.pad(\n",
        "            input_features,\n",
        "            padding=self.padding,\n",
        "            return_tensors=\"pt\",\n",
        "        )\n",
        "        with self.processor.as_target_processor():\n",
        "            labels_batch = self.processor.pad(\n",
        "                label_features,\n",
        "                padding=self.padding,\n",
        "                return_tensors=\"pt\",\n",
        "            )\n",
        "\n",
        "        # replace padding with -100 to ignore loss correctly\n",
        "        labels = labels_batch[\"input_ids\"].masked_fill(labels_batch.attention_mask.ne(1), -100)\n",
        "\n",
        "        batch[\"labels\"] = labels\n",
        "\n",
        "        return batch\n"
      ],
      "metadata": {
        "id": "fsZ3VsmoC2jo"
      },
      "execution_count": null,
      "outputs": []
    },
    {
      "cell_type": "code",
      "source": [
        "data_collator = DataCollatorCTCWithPadding(processor=processor, padding=True)\n"
      ],
      "metadata": {
        "id": "0jpoye7BC28P"
      },
      "execution_count": null,
      "outputs": []
    },
    {
      "cell_type": "code",
      "source": [
        "wer_metric = load_metric(\"wer\")\n"
      ],
      "metadata": {
        "id": "t0cf1eHUDTUP"
      },
      "execution_count": null,
      "outputs": []
    },
    {
      "cell_type": "code",
      "source": [
        "def compute_metrics(pred):\n",
        "    pred_logits = pred.predictions\n",
        "    pred_ids = np.argmax(pred_logits, axis=-1)\n",
        "\n",
        "    pred.label_ids[pred.label_ids == -100] = processor.tokenizer.pad_token_id\n",
        "\n",
        "    pred_str = processor.batch_decode(pred_ids)\n",
        "    # we do not want to group tokens when computing the metrics\n",
        "    label_str = processor.batch_decode(pred.label_ids, group_tokens=False)\n",
        "\n",
        "    wer = wer_metric.compute(predictions=pred_str, references=label_str)\n",
        "\n",
        "    return {\"wer\": wer}\n"
      ],
      "metadata": {
        "id": "an6kvBPfDUW-"
      },
      "execution_count": null,
      "outputs": []
    },
    {
      "cell_type": "code",
      "source": [
        "from transformers import Wav2Vec2ForCTC\n",
        "\n",
        "model = Wav2Vec2ForCTC.from_pretrained(\n",
        "    \"facebook/wav2vec2-xls-r-300m\",\n",
        "    attention_dropout=0.1,\n",
        "    hidden_dropout=0.4,\n",
        "    feat_proj_dropout=0.0,\n",
        "    mask_time_prob=0.05,\n",
        "    layerdrop=0.0,\n",
        "    ctc_loss_reduction=\"mean\",\n",
        "    pad_token_id=processor.tokenizer.pad_token_id,\n",
        "    vocab_size=len(processor.tokenizer),\n",
        ")\n"
      ],
      "metadata": {
        "colab": {
          "base_uri": "https://localhost:8080/"
        },
        "id": "Gf9CLoy4DVfX",
        "outputId": "866bed8d-543c-4b47-c2eb-1c3de6249a89"
      },
      "execution_count": null,
      "outputs": [
        {
          "output_type": "stream",
          "name": "stderr",
          "text": [
            "Some weights of Wav2Vec2ForCTC were not initialized from the model checkpoint at facebook/wav2vec2-xls-r-300m and are newly initialized: ['lm_head.bias', 'lm_head.weight']\n",
            "You should probably TRAIN this model on a down-stream task to be able to use it for predictions and inference.\n"
          ]
        }
      ]
    },
    {
      "cell_type": "code",
      "source": [
        "model.freeze_feature_extractor()\n"
      ],
      "metadata": {
        "colab": {
          "base_uri": "https://localhost:8080/"
        },
        "id": "DDAHMHZeDWfN",
        "outputId": "b8ef927e-a40f-41ae-f405-c9229de2b66e"
      },
      "execution_count": null,
      "outputs": [
        {
          "output_type": "stream",
          "name": "stderr",
          "text": [
            "/usr/local/lib/python3.10/dist-packages/transformers/models/wav2vec2/modeling_wav2vec2.py:1925: FutureWarning: The method `freeze_feature_extractor` is deprecated and will be removed in Transformers v5.Please use the equivalent `freeze_feature_encoder` method instead.\n",
            "  warnings.warn(\n"
          ]
        }
      ]
    },
    {
      "cell_type": "code",
      "source": [
        "from transformers import TrainingArguments\n",
        "\n",
        "training_args = TrainingArguments(\n",
        "  output_dir=repo_name,\n",
        "  group_by_length=True,\n",
        "  per_device_train_batch_size=16,\n",
        "  gradient_accumulation_steps=2,\n",
        "  evaluation_strategy=\"steps\",\n",
        "  num_train_epochs=30,\n",
        "  gradient_checkpointing=True,\n",
        "  fp16=True,\n",
        "  save_steps=25,\n",
        "  eval_steps=25,\n",
        "  logging_steps=25,\n",
        "  learning_rate=3e-4,\n",
        "  warmup_steps=100,\n",
        "  save_total_limit=2,\n",
        "  push_to_hub=True,\n",
        "  report_to='wandb'\n",
        ")\n"
      ],
      "metadata": {
        "id": "2JEJ5Sr5DXgR"
      },
      "execution_count": null,
      "outputs": []
    },
    {
      "cell_type": "code",
      "source": [
        "from transformers import Trainer\n",
        "\n",
        "trainer = Trainer(\n",
        "    model=model,\n",
        "    data_collator=data_collator,\n",
        "    args=training_args,\n",
        "    compute_metrics=compute_metrics,\n",
        "    train_dataset=common_voice_train,\n",
        "    eval_dataset=common_voice_test,\n",
        "    tokenizer=processor.feature_extractor,\n",
        ")\n"
      ],
      "metadata": {
        "id": "AWZSbTAdDaap"
      },
      "execution_count": null,
      "outputs": []
    },
    {
      "cell_type": "code",
      "source": [
        "trainer.train()"
      ],
      "metadata": {
        "colab": {
          "base_uri": "https://localhost:8080/",
          "height": 1000
        },
        "id": "MWDzm97BDb_2",
        "outputId": "ea0443d0-e17f-4993-8d06-9fe90ab428d6"
      },
      "execution_count": null,
      "outputs": [
        {
          "output_type": "stream",
          "name": "stderr",
          "text": [
            "/usr/local/lib/python3.10/dist-packages/transformers/models/wav2vec2/processing_wav2vec2.py:155: UserWarning: `as_target_processor` is deprecated and will be removed in v5 of Transformers. You can process your labels by using the argument `text` of the regular `__call__` method (either in the same call as your audio inputs, or in a separate call.\n",
            "  warnings.warn(\n"
          ]
        },
        {
          "output_type": "display_data",
          "data": {
            "text/plain": [
              "<IPython.core.display.HTML object>"
            ],
            "text/html": [
              "\n",
              "    <div>\n",
              "      \n",
              "      <progress value='1650' max='1650' style='width:300px; height:20px; vertical-align: middle;'></progress>\n",
              "      [1650/1650 2:45:46, Epoch 29/30]\n",
              "    </div>\n",
              "    <table border=\"1\" class=\"dataframe\">\n",
              "  <thead>\n",
              " <tr style=\"text-align: left;\">\n",
              "      <th>Step</th>\n",
              "      <th>Training Loss</th>\n",
              "      <th>Validation Loss</th>\n",
              "      <th>Wer</th>\n",
              "    </tr>\n",
              "  </thead>\n",
              "  <tbody>\n",
              "    <tr>\n",
              "      <td>25</td>\n",
              "      <td>0.077300</td>\n",
              "      <td>0.624439</td>\n",
              "      <td>0.638475</td>\n",
              "    </tr>\n",
              "    <tr>\n",
              "      <td>50</td>\n",
              "      <td>0.083000</td>\n",
              "      <td>0.621404</td>\n",
              "      <td>0.645622</td>\n",
              "    </tr>\n",
              "    <tr>\n",
              "      <td>75</td>\n",
              "      <td>0.094700</td>\n",
              "      <td>0.628589</td>\n",
              "      <td>0.667064</td>\n",
              "    </tr>\n",
              "    <tr>\n",
              "      <td>100</td>\n",
              "      <td>0.123400</td>\n",
              "      <td>0.722838</td>\n",
              "      <td>0.705182</td>\n",
              "    </tr>\n",
              "    <tr>\n",
              "      <td>125</td>\n",
              "      <td>0.142300</td>\n",
              "      <td>0.669297</td>\n",
              "      <td>0.721858</td>\n",
              "    </tr>\n",
              "    <tr>\n",
              "      <td>150</td>\n",
              "      <td>0.168700</td>\n",
              "      <td>0.618933</td>\n",
              "      <td>0.717987</td>\n",
              "    </tr>\n",
              "    <tr>\n",
              "      <td>175</td>\n",
              "      <td>0.148100</td>\n",
              "      <td>0.612137</td>\n",
              "      <td>0.680167</td>\n",
              "    </tr>\n",
              "    <tr>\n",
              "      <td>200</td>\n",
              "      <td>0.145800</td>\n",
              "      <td>0.584636</td>\n",
              "      <td>0.701608</td>\n",
              "    </tr>\n",
              "    <tr>\n",
              "      <td>225</td>\n",
              "      <td>0.154200</td>\n",
              "      <td>0.563431</td>\n",
              "      <td>0.669744</td>\n",
              "    </tr>\n",
              "    <tr>\n",
              "      <td>250</td>\n",
              "      <td>0.150000</td>\n",
              "      <td>0.610424</td>\n",
              "      <td>0.678380</td>\n",
              "    </tr>\n",
              "    <tr>\n",
              "      <td>275</td>\n",
              "      <td>0.139600</td>\n",
              "      <td>0.613263</td>\n",
              "      <td>0.678380</td>\n",
              "    </tr>\n",
              "    <tr>\n",
              "      <td>300</td>\n",
              "      <td>0.116000</td>\n",
              "      <td>0.641851</td>\n",
              "      <td>0.681060</td>\n",
              "    </tr>\n",
              "    <tr>\n",
              "      <td>325</td>\n",
              "      <td>0.137200</td>\n",
              "      <td>0.563983</td>\n",
              "      <td>0.662597</td>\n",
              "    </tr>\n",
              "    <tr>\n",
              "      <td>350</td>\n",
              "      <td>0.126000</td>\n",
              "      <td>0.659909</td>\n",
              "      <td>0.654854</td>\n",
              "    </tr>\n",
              "    <tr>\n",
              "      <td>375</td>\n",
              "      <td>0.117500</td>\n",
              "      <td>0.609142</td>\n",
              "      <td>0.656343</td>\n",
              "    </tr>\n",
              "    <tr>\n",
              "      <td>400</td>\n",
              "      <td>0.100100</td>\n",
              "      <td>0.619564</td>\n",
              "      <td>0.657534</td>\n",
              "    </tr>\n",
              "    <tr>\n",
              "      <td>425</td>\n",
              "      <td>0.102100</td>\n",
              "      <td>0.639565</td>\n",
              "      <td>0.651876</td>\n",
              "    </tr>\n",
              "    <tr>\n",
              "      <td>450</td>\n",
              "      <td>0.091100</td>\n",
              "      <td>0.624612</td>\n",
              "      <td>0.639666</td>\n",
              "    </tr>\n",
              "    <tr>\n",
              "      <td>475</td>\n",
              "      <td>0.096200</td>\n",
              "      <td>0.632943</td>\n",
              "      <td>0.653663</td>\n",
              "    </tr>\n",
              "    <tr>\n",
              "      <td>500</td>\n",
              "      <td>0.099100</td>\n",
              "      <td>0.628720</td>\n",
              "      <td>0.638773</td>\n",
              "    </tr>\n",
              "    <tr>\n",
              "      <td>525</td>\n",
              "      <td>0.090600</td>\n",
              "      <td>0.604114</td>\n",
              "      <td>0.646516</td>\n",
              "    </tr>\n",
              "    <tr>\n",
              "      <td>550</td>\n",
              "      <td>0.082200</td>\n",
              "      <td>0.656083</td>\n",
              "      <td>0.650983</td>\n",
              "    </tr>\n",
              "    <tr>\n",
              "      <td>575</td>\n",
              "      <td>0.070400</td>\n",
              "      <td>0.627939</td>\n",
              "      <td>0.645622</td>\n",
              "    </tr>\n",
              "    <tr>\n",
              "      <td>600</td>\n",
              "      <td>0.070800</td>\n",
              "      <td>0.650899</td>\n",
              "      <td>0.623585</td>\n",
              "    </tr>\n",
              "    <tr>\n",
              "      <td>625</td>\n",
              "      <td>0.087900</td>\n",
              "      <td>0.645851</td>\n",
              "      <td>0.659619</td>\n",
              "    </tr>\n",
              "    <tr>\n",
              "      <td>650</td>\n",
              "      <td>0.080400</td>\n",
              "      <td>0.672380</td>\n",
              "      <td>0.643836</td>\n",
              "    </tr>\n",
              "    <tr>\n",
              "      <td>675</td>\n",
              "      <td>0.081200</td>\n",
              "      <td>0.606748</td>\n",
              "      <td>0.630435</td>\n",
              "    </tr>\n",
              "    <tr>\n",
              "      <td>700</td>\n",
              "      <td>0.076400</td>\n",
              "      <td>0.618013</td>\n",
              "      <td>0.607802</td>\n",
              "    </tr>\n",
              "    <tr>\n",
              "      <td>725</td>\n",
              "      <td>0.071000</td>\n",
              "      <td>0.671723</td>\n",
              "      <td>0.622990</td>\n",
              "    </tr>\n",
              "    <tr>\n",
              "      <td>750</td>\n",
              "      <td>0.068700</td>\n",
              "      <td>0.651765</td>\n",
              "      <td>0.618225</td>\n",
              "    </tr>\n",
              "    <tr>\n",
              "      <td>775</td>\n",
              "      <td>0.068300</td>\n",
              "      <td>0.625327</td>\n",
              "      <td>0.610185</td>\n",
              "    </tr>\n",
              "    <tr>\n",
              "      <td>800</td>\n",
              "      <td>0.069200</td>\n",
              "      <td>0.665936</td>\n",
              "      <td>0.622692</td>\n",
              "    </tr>\n",
              "    <tr>\n",
              "      <td>825</td>\n",
              "      <td>0.069200</td>\n",
              "      <td>0.643839</td>\n",
              "      <td>0.617630</td>\n",
              "    </tr>\n",
              "    <tr>\n",
              "      <td>850</td>\n",
              "      <td>0.062200</td>\n",
              "      <td>0.597618</td>\n",
              "      <td>0.602442</td>\n",
              "    </tr>\n",
              "    <tr>\n",
              "      <td>875</td>\n",
              "      <td>0.058300</td>\n",
              "      <td>0.629136</td>\n",
              "      <td>0.614056</td>\n",
              "    </tr>\n",
              "    <tr>\n",
              "      <td>900</td>\n",
              "      <td>0.062500</td>\n",
              "      <td>0.643561</td>\n",
              "      <td>0.633115</td>\n",
              "    </tr>\n",
              "    <tr>\n",
              "      <td>925</td>\n",
              "      <td>0.054100</td>\n",
              "      <td>0.645958</td>\n",
              "      <td>0.608398</td>\n",
              "    </tr>\n",
              "    <tr>\n",
              "      <td>950</td>\n",
              "      <td>0.050700</td>\n",
              "      <td>0.675827</td>\n",
              "      <td>0.620905</td>\n",
              "    </tr>\n",
              "    <tr>\n",
              "      <td>975</td>\n",
              "      <td>0.056800</td>\n",
              "      <td>0.626106</td>\n",
              "      <td>0.606611</td>\n",
              "    </tr>\n",
              "    <tr>\n",
              "      <td>1000</td>\n",
              "      <td>0.049900</td>\n",
              "      <td>0.677536</td>\n",
              "      <td>0.602442</td>\n",
              "    </tr>\n",
              "    <tr>\n",
              "      <td>1025</td>\n",
              "      <td>0.057100</td>\n",
              "      <td>0.647127</td>\n",
              "      <td>0.607802</td>\n",
              "    </tr>\n",
              "    <tr>\n",
              "      <td>1050</td>\n",
              "      <td>0.053700</td>\n",
              "      <td>0.641880</td>\n",
              "      <td>0.588446</td>\n",
              "    </tr>\n",
              "    <tr>\n",
              "      <td>1075</td>\n",
              "      <td>0.055400</td>\n",
              "      <td>0.614294</td>\n",
              "      <td>0.592615</td>\n",
              "    </tr>\n",
              "    <tr>\n",
              "      <td>1100</td>\n",
              "      <td>0.052400</td>\n",
              "      <td>0.628513</td>\n",
              "      <td>0.590828</td>\n",
              "    </tr>\n",
              "    <tr>\n",
              "      <td>1125</td>\n",
              "      <td>0.047500</td>\n",
              "      <td>0.630326</td>\n",
              "      <td>0.592615</td>\n",
              "    </tr>\n",
              "    <tr>\n",
              "      <td>1150</td>\n",
              "      <td>0.051700</td>\n",
              "      <td>0.618955</td>\n",
              "      <td>0.592912</td>\n",
              "    </tr>\n",
              "    <tr>\n",
              "      <td>1175</td>\n",
              "      <td>0.051000</td>\n",
              "      <td>0.622835</td>\n",
              "      <td>0.598571</td>\n",
              "    </tr>\n",
              "    <tr>\n",
              "      <td>1200</td>\n",
              "      <td>0.051500</td>\n",
              "      <td>0.615551</td>\n",
              "      <td>0.583383</td>\n",
              "    </tr>\n",
              "    <tr>\n",
              "      <td>1225</td>\n",
              "      <td>0.050700</td>\n",
              "      <td>0.636055</td>\n",
              "      <td>0.577129</td>\n",
              "    </tr>\n",
              "    <tr>\n",
              "      <td>1250</td>\n",
              "      <td>0.047300</td>\n",
              "      <td>0.619552</td>\n",
              "      <td>0.590232</td>\n",
              "    </tr>\n",
              "    <tr>\n",
              "      <td>1275</td>\n",
              "      <td>0.045500</td>\n",
              "      <td>0.610789</td>\n",
              "      <td>0.565515</td>\n",
              "    </tr>\n",
              "    <tr>\n",
              "      <td>1300</td>\n",
              "      <td>0.042800</td>\n",
              "      <td>0.619081</td>\n",
              "      <td>0.578023</td>\n",
              "    </tr>\n",
              "    <tr>\n",
              "      <td>1325</td>\n",
              "      <td>0.044200</td>\n",
              "      <td>0.621035</td>\n",
              "      <td>0.575938</td>\n",
              "    </tr>\n",
              "    <tr>\n",
              "      <td>1350</td>\n",
              "      <td>0.042800</td>\n",
              "      <td>0.617385</td>\n",
              "      <td>0.573258</td>\n",
              "    </tr>\n",
              "    <tr>\n",
              "      <td>1375</td>\n",
              "      <td>0.039700</td>\n",
              "      <td>0.624317</td>\n",
              "      <td>0.573258</td>\n",
              "    </tr>\n",
              "    <tr>\n",
              "      <td>1400</td>\n",
              "      <td>0.047000</td>\n",
              "      <td>0.624160</td>\n",
              "      <td>0.576534</td>\n",
              "    </tr>\n",
              "    <tr>\n",
              "      <td>1425</td>\n",
              "      <td>0.042400</td>\n",
              "      <td>0.640987</td>\n",
              "      <td>0.578023</td>\n",
              "    </tr>\n",
              "    <tr>\n",
              "      <td>1450</td>\n",
              "      <td>0.045200</td>\n",
              "      <td>0.635056</td>\n",
              "      <td>0.583085</td>\n",
              "    </tr>\n",
              "    <tr>\n",
              "      <td>1475</td>\n",
              "      <td>0.038500</td>\n",
              "      <td>0.641082</td>\n",
              "      <td>0.578320</td>\n",
              "    </tr>\n",
              "    <tr>\n",
              "      <td>1500</td>\n",
              "      <td>0.049500</td>\n",
              "      <td>0.632365</td>\n",
              "      <td>0.578618</td>\n",
              "    </tr>\n",
              "    <tr>\n",
              "      <td>1525</td>\n",
              "      <td>0.047000</td>\n",
              "      <td>0.625844</td>\n",
              "      <td>0.571173</td>\n",
              "    </tr>\n",
              "    <tr>\n",
              "      <td>1550</td>\n",
              "      <td>0.042400</td>\n",
              "      <td>0.622274</td>\n",
              "      <td>0.574449</td>\n",
              "    </tr>\n",
              "    <tr>\n",
              "      <td>1575</td>\n",
              "      <td>0.040900</td>\n",
              "      <td>0.619783</td>\n",
              "      <td>0.567600</td>\n",
              "    </tr>\n",
              "    <tr>\n",
              "      <td>1600</td>\n",
              "      <td>0.045900</td>\n",
              "      <td>0.615795</td>\n",
              "      <td>0.567898</td>\n",
              "    </tr>\n",
              "    <tr>\n",
              "      <td>1625</td>\n",
              "      <td>0.043300</td>\n",
              "      <td>0.616341</td>\n",
              "      <td>0.567600</td>\n",
              "    </tr>\n",
              "    <tr>\n",
              "      <td>1650</td>\n",
              "      <td>0.046400</td>\n",
              "      <td>0.615359</td>\n",
              "      <td>0.568195</td>\n",
              "    </tr>\n",
              "  </tbody>\n",
              "</table><p>"
            ]
          },
          "metadata": {}
        },
        {
          "output_type": "stream",
          "name": "stderr",
          "text": [
            "/usr/local/lib/python3.10/dist-packages/transformers/models/wav2vec2/processing_wav2vec2.py:155: UserWarning: `as_target_processor` is deprecated and will be removed in v5 of Transformers. You can process your labels by using the argument `text` of the regular `__call__` method (either in the same call as your audio inputs, or in a separate call.\n",
            "  warnings.warn(\n",
            "/usr/local/lib/python3.10/dist-packages/transformers/models/wav2vec2/processing_wav2vec2.py:155: UserWarning: `as_target_processor` is deprecated and will be removed in v5 of Transformers. You can process your labels by using the argument `text` of the regular `__call__` method (either in the same call as your audio inputs, or in a separate call.\n",
            "  warnings.warn(\n",
            "/usr/local/lib/python3.10/dist-packages/transformers/models/wav2vec2/processing_wav2vec2.py:155: UserWarning: `as_target_processor` is deprecated and will be removed in v5 of Transformers. You can process your labels by using the argument `text` of the regular `__call__` method (either in the same call as your audio inputs, or in a separate call.\n",
            "  warnings.warn(\n",
            "/usr/local/lib/python3.10/dist-packages/transformers/models/wav2vec2/processing_wav2vec2.py:155: UserWarning: `as_target_processor` is deprecated and will be removed in v5 of Transformers. You can process your labels by using the argument `text` of the regular `__call__` method (either in the same call as your audio inputs, or in a separate call.\n",
            "  warnings.warn(\n",
            "/usr/local/lib/python3.10/dist-packages/transformers/models/wav2vec2/processing_wav2vec2.py:155: UserWarning: `as_target_processor` is deprecated and will be removed in v5 of Transformers. You can process your labels by using the argument `text` of the regular `__call__` method (either in the same call as your audio inputs, or in a separate call.\n",
            "  warnings.warn(\n",
            "/usr/local/lib/python3.10/dist-packages/transformers/models/wav2vec2/processing_wav2vec2.py:155: UserWarning: `as_target_processor` is deprecated and will be removed in v5 of Transformers. You can process your labels by using the argument `text` of the regular `__call__` method (either in the same call as your audio inputs, or in a separate call.\n",
            "  warnings.warn(\n",
            "/usr/local/lib/python3.10/dist-packages/transformers/models/wav2vec2/processing_wav2vec2.py:155: UserWarning: `as_target_processor` is deprecated and will be removed in v5 of Transformers. You can process your labels by using the argument `text` of the regular `__call__` method (either in the same call as your audio inputs, or in a separate call.\n",
            "  warnings.warn(\n",
            "/usr/local/lib/python3.10/dist-packages/transformers/models/wav2vec2/processing_wav2vec2.py:155: UserWarning: `as_target_processor` is deprecated and will be removed in v5 of Transformers. You can process your labels by using the argument `text` of the regular `__call__` method (either in the same call as your audio inputs, or in a separate call.\n",
            "  warnings.warn(\n",
            "/usr/local/lib/python3.10/dist-packages/transformers/models/wav2vec2/processing_wav2vec2.py:155: UserWarning: `as_target_processor` is deprecated and will be removed in v5 of Transformers. You can process your labels by using the argument `text` of the regular `__call__` method (either in the same call as your audio inputs, or in a separate call.\n",
            "  warnings.warn(\n",
            "/usr/local/lib/python3.10/dist-packages/transformers/models/wav2vec2/processing_wav2vec2.py:155: UserWarning: `as_target_processor` is deprecated and will be removed in v5 of Transformers. You can process your labels by using the argument `text` of the regular `__call__` method (either in the same call as your audio inputs, or in a separate call.\n",
            "  warnings.warn(\n",
            "/usr/local/lib/python3.10/dist-packages/transformers/models/wav2vec2/processing_wav2vec2.py:155: UserWarning: `as_target_processor` is deprecated and will be removed in v5 of Transformers. You can process your labels by using the argument `text` of the regular `__call__` method (either in the same call as your audio inputs, or in a separate call.\n",
            "  warnings.warn(\n",
            "/usr/local/lib/python3.10/dist-packages/transformers/models/wav2vec2/processing_wav2vec2.py:155: UserWarning: `as_target_processor` is deprecated and will be removed in v5 of Transformers. You can process your labels by using the argument `text` of the regular `__call__` method (either in the same call as your audio inputs, or in a separate call.\n",
            "  warnings.warn(\n",
            "/usr/local/lib/python3.10/dist-packages/transformers/models/wav2vec2/processing_wav2vec2.py:155: UserWarning: `as_target_processor` is deprecated and will be removed in v5 of Transformers. You can process your labels by using the argument `text` of the regular `__call__` method (either in the same call as your audio inputs, or in a separate call.\n",
            "  warnings.warn(\n",
            "/usr/local/lib/python3.10/dist-packages/transformers/models/wav2vec2/processing_wav2vec2.py:155: UserWarning: `as_target_processor` is deprecated and will be removed in v5 of Transformers. You can process your labels by using the argument `text` of the regular `__call__` method (either in the same call as your audio inputs, or in a separate call.\n",
            "  warnings.warn(\n",
            "/usr/local/lib/python3.10/dist-packages/transformers/models/wav2vec2/processing_wav2vec2.py:155: UserWarning: `as_target_processor` is deprecated and will be removed in v5 of Transformers. You can process your labels by using the argument `text` of the regular `__call__` method (either in the same call as your audio inputs, or in a separate call.\n",
            "  warnings.warn(\n",
            "/usr/local/lib/python3.10/dist-packages/transformers/models/wav2vec2/processing_wav2vec2.py:155: UserWarning: `as_target_processor` is deprecated and will be removed in v5 of Transformers. You can process your labels by using the argument `text` of the regular `__call__` method (either in the same call as your audio inputs, or in a separate call.\n",
            "  warnings.warn(\n",
            "/usr/local/lib/python3.10/dist-packages/transformers/models/wav2vec2/processing_wav2vec2.py:155: UserWarning: `as_target_processor` is deprecated and will be removed in v5 of Transformers. You can process your labels by using the argument `text` of the regular `__call__` method (either in the same call as your audio inputs, or in a separate call.\n",
            "  warnings.warn(\n",
            "/usr/local/lib/python3.10/dist-packages/transformers/models/wav2vec2/processing_wav2vec2.py:155: UserWarning: `as_target_processor` is deprecated and will be removed in v5 of Transformers. You can process your labels by using the argument `text` of the regular `__call__` method (either in the same call as your audio inputs, or in a separate call.\n",
            "  warnings.warn(\n",
            "/usr/local/lib/python3.10/dist-packages/transformers/models/wav2vec2/processing_wav2vec2.py:155: UserWarning: `as_target_processor` is deprecated and will be removed in v5 of Transformers. You can process your labels by using the argument `text` of the regular `__call__` method (either in the same call as your audio inputs, or in a separate call.\n",
            "  warnings.warn(\n",
            "/usr/local/lib/python3.10/dist-packages/transformers/models/wav2vec2/processing_wav2vec2.py:155: UserWarning: `as_target_processor` is deprecated and will be removed in v5 of Transformers. You can process your labels by using the argument `text` of the regular `__call__` method (either in the same call as your audio inputs, or in a separate call.\n",
            "  warnings.warn(\n",
            "/usr/local/lib/python3.10/dist-packages/transformers/models/wav2vec2/processing_wav2vec2.py:155: UserWarning: `as_target_processor` is deprecated and will be removed in v5 of Transformers. You can process your labels by using the argument `text` of the regular `__call__` method (either in the same call as your audio inputs, or in a separate call.\n",
            "  warnings.warn(\n",
            "/usr/local/lib/python3.10/dist-packages/transformers/models/wav2vec2/processing_wav2vec2.py:155: UserWarning: `as_target_processor` is deprecated and will be removed in v5 of Transformers. You can process your labels by using the argument `text` of the regular `__call__` method (either in the same call as your audio inputs, or in a separate call.\n",
            "  warnings.warn(\n",
            "/usr/local/lib/python3.10/dist-packages/transformers/models/wav2vec2/processing_wav2vec2.py:155: UserWarning: `as_target_processor` is deprecated and will be removed in v5 of Transformers. You can process your labels by using the argument `text` of the regular `__call__` method (either in the same call as your audio inputs, or in a separate call.\n",
            "  warnings.warn(\n",
            "/usr/local/lib/python3.10/dist-packages/transformers/models/wav2vec2/processing_wav2vec2.py:155: UserWarning: `as_target_processor` is deprecated and will be removed in v5 of Transformers. You can process your labels by using the argument `text` of the regular `__call__` method (either in the same call as your audio inputs, or in a separate call.\n",
            "  warnings.warn(\n",
            "/usr/local/lib/python3.10/dist-packages/transformers/models/wav2vec2/processing_wav2vec2.py:155: UserWarning: `as_target_processor` is deprecated and will be removed in v5 of Transformers. You can process your labels by using the argument `text` of the regular `__call__` method (either in the same call as your audio inputs, or in a separate call.\n",
            "  warnings.warn(\n",
            "/usr/local/lib/python3.10/dist-packages/transformers/models/wav2vec2/processing_wav2vec2.py:155: UserWarning: `as_target_processor` is deprecated and will be removed in v5 of Transformers. You can process your labels by using the argument `text` of the regular `__call__` method (either in the same call as your audio inputs, or in a separate call.\n",
            "  warnings.warn(\n",
            "/usr/local/lib/python3.10/dist-packages/transformers/models/wav2vec2/processing_wav2vec2.py:155: UserWarning: `as_target_processor` is deprecated and will be removed in v5 of Transformers. You can process your labels by using the argument `text` of the regular `__call__` method (either in the same call as your audio inputs, or in a separate call.\n",
            "  warnings.warn(\n",
            "/usr/local/lib/python3.10/dist-packages/transformers/models/wav2vec2/processing_wav2vec2.py:155: UserWarning: `as_target_processor` is deprecated and will be removed in v5 of Transformers. You can process your labels by using the argument `text` of the regular `__call__` method (either in the same call as your audio inputs, or in a separate call.\n",
            "  warnings.warn(\n",
            "/usr/local/lib/python3.10/dist-packages/transformers/models/wav2vec2/processing_wav2vec2.py:155: UserWarning: `as_target_processor` is deprecated and will be removed in v5 of Transformers. You can process your labels by using the argument `text` of the regular `__call__` method (either in the same call as your audio inputs, or in a separate call.\n",
            "  warnings.warn(\n",
            "/usr/local/lib/python3.10/dist-packages/transformers/models/wav2vec2/processing_wav2vec2.py:155: UserWarning: `as_target_processor` is deprecated and will be removed in v5 of Transformers. You can process your labels by using the argument `text` of the regular `__call__` method (either in the same call as your audio inputs, or in a separate call.\n",
            "  warnings.warn(\n",
            "/usr/local/lib/python3.10/dist-packages/transformers/models/wav2vec2/processing_wav2vec2.py:155: UserWarning: `as_target_processor` is deprecated and will be removed in v5 of Transformers. You can process your labels by using the argument `text` of the regular `__call__` method (either in the same call as your audio inputs, or in a separate call.\n",
            "  warnings.warn(\n",
            "/usr/local/lib/python3.10/dist-packages/transformers/models/wav2vec2/processing_wav2vec2.py:155: UserWarning: `as_target_processor` is deprecated and will be removed in v5 of Transformers. You can process your labels by using the argument `text` of the regular `__call__` method (either in the same call as your audio inputs, or in a separate call.\n",
            "  warnings.warn(\n",
            "/usr/local/lib/python3.10/dist-packages/transformers/models/wav2vec2/processing_wav2vec2.py:155: UserWarning: `as_target_processor` is deprecated and will be removed in v5 of Transformers. You can process your labels by using the argument `text` of the regular `__call__` method (either in the same call as your audio inputs, or in a separate call.\n",
            "  warnings.warn(\n",
            "/usr/local/lib/python3.10/dist-packages/transformers/models/wav2vec2/processing_wav2vec2.py:155: UserWarning: `as_target_processor` is deprecated and will be removed in v5 of Transformers. You can process your labels by using the argument `text` of the regular `__call__` method (either in the same call as your audio inputs, or in a separate call.\n",
            "  warnings.warn(\n",
            "/usr/local/lib/python3.10/dist-packages/transformers/models/wav2vec2/processing_wav2vec2.py:155: UserWarning: `as_target_processor` is deprecated and will be removed in v5 of Transformers. You can process your labels by using the argument `text` of the regular `__call__` method (either in the same call as your audio inputs, or in a separate call.\n",
            "  warnings.warn(\n",
            "/usr/local/lib/python3.10/dist-packages/transformers/models/wav2vec2/processing_wav2vec2.py:155: UserWarning: `as_target_processor` is deprecated and will be removed in v5 of Transformers. You can process your labels by using the argument `text` of the regular `__call__` method (either in the same call as your audio inputs, or in a separate call.\n",
            "  warnings.warn(\n",
            "/usr/local/lib/python3.10/dist-packages/transformers/models/wav2vec2/processing_wav2vec2.py:155: UserWarning: `as_target_processor` is deprecated and will be removed in v5 of Transformers. You can process your labels by using the argument `text` of the regular `__call__` method (either in the same call as your audio inputs, or in a separate call.\n",
            "  warnings.warn(\n",
            "/usr/local/lib/python3.10/dist-packages/transformers/models/wav2vec2/processing_wav2vec2.py:155: UserWarning: `as_target_processor` is deprecated and will be removed in v5 of Transformers. You can process your labels by using the argument `text` of the regular `__call__` method (either in the same call as your audio inputs, or in a separate call.\n",
            "  warnings.warn(\n",
            "/usr/local/lib/python3.10/dist-packages/transformers/models/wav2vec2/processing_wav2vec2.py:155: UserWarning: `as_target_processor` is deprecated and will be removed in v5 of Transformers. You can process your labels by using the argument `text` of the regular `__call__` method (either in the same call as your audio inputs, or in a separate call.\n",
            "  warnings.warn(\n",
            "/usr/local/lib/python3.10/dist-packages/transformers/models/wav2vec2/processing_wav2vec2.py:155: UserWarning: `as_target_processor` is deprecated and will be removed in v5 of Transformers. You can process your labels by using the argument `text` of the regular `__call__` method (either in the same call as your audio inputs, or in a separate call.\n",
            "  warnings.warn(\n",
            "/usr/local/lib/python3.10/dist-packages/transformers/models/wav2vec2/processing_wav2vec2.py:155: UserWarning: `as_target_processor` is deprecated and will be removed in v5 of Transformers. You can process your labels by using the argument `text` of the regular `__call__` method (either in the same call as your audio inputs, or in a separate call.\n",
            "  warnings.warn(\n",
            "/usr/local/lib/python3.10/dist-packages/transformers/models/wav2vec2/processing_wav2vec2.py:155: UserWarning: `as_target_processor` is deprecated and will be removed in v5 of Transformers. You can process your labels by using the argument `text` of the regular `__call__` method (either in the same call as your audio inputs, or in a separate call.\n",
            "  warnings.warn(\n",
            "/usr/local/lib/python3.10/dist-packages/transformers/models/wav2vec2/processing_wav2vec2.py:155: UserWarning: `as_target_processor` is deprecated and will be removed in v5 of Transformers. You can process your labels by using the argument `text` of the regular `__call__` method (either in the same call as your audio inputs, or in a separate call.\n",
            "  warnings.warn(\n",
            "/usr/local/lib/python3.10/dist-packages/transformers/models/wav2vec2/processing_wav2vec2.py:155: UserWarning: `as_target_processor` is deprecated and will be removed in v5 of Transformers. You can process your labels by using the argument `text` of the regular `__call__` method (either in the same call as your audio inputs, or in a separate call.\n",
            "  warnings.warn(\n",
            "/usr/local/lib/python3.10/dist-packages/transformers/models/wav2vec2/processing_wav2vec2.py:155: UserWarning: `as_target_processor` is deprecated and will be removed in v5 of Transformers. You can process your labels by using the argument `text` of the regular `__call__` method (either in the same call as your audio inputs, or in a separate call.\n",
            "  warnings.warn(\n",
            "/usr/local/lib/python3.10/dist-packages/transformers/models/wav2vec2/processing_wav2vec2.py:155: UserWarning: `as_target_processor` is deprecated and will be removed in v5 of Transformers. You can process your labels by using the argument `text` of the regular `__call__` method (either in the same call as your audio inputs, or in a separate call.\n",
            "  warnings.warn(\n",
            "/usr/local/lib/python3.10/dist-packages/transformers/models/wav2vec2/processing_wav2vec2.py:155: UserWarning: `as_target_processor` is deprecated and will be removed in v5 of Transformers. You can process your labels by using the argument `text` of the regular `__call__` method (either in the same call as your audio inputs, or in a separate call.\n",
            "  warnings.warn(\n",
            "/usr/local/lib/python3.10/dist-packages/transformers/models/wav2vec2/processing_wav2vec2.py:155: UserWarning: `as_target_processor` is deprecated and will be removed in v5 of Transformers. You can process your labels by using the argument `text` of the regular `__call__` method (either in the same call as your audio inputs, or in a separate call.\n",
            "  warnings.warn(\n",
            "/usr/local/lib/python3.10/dist-packages/transformers/models/wav2vec2/processing_wav2vec2.py:155: UserWarning: `as_target_processor` is deprecated and will be removed in v5 of Transformers. You can process your labels by using the argument `text` of the regular `__call__` method (either in the same call as your audio inputs, or in a separate call.\n",
            "  warnings.warn(\n",
            "/usr/local/lib/python3.10/dist-packages/transformers/models/wav2vec2/processing_wav2vec2.py:155: UserWarning: `as_target_processor` is deprecated and will be removed in v5 of Transformers. You can process your labels by using the argument `text` of the regular `__call__` method (either in the same call as your audio inputs, or in a separate call.\n",
            "  warnings.warn(\n",
            "/usr/local/lib/python3.10/dist-packages/transformers/models/wav2vec2/processing_wav2vec2.py:155: UserWarning: `as_target_processor` is deprecated and will be removed in v5 of Transformers. You can process your labels by using the argument `text` of the regular `__call__` method (either in the same call as your audio inputs, or in a separate call.\n",
            "  warnings.warn(\n",
            "/usr/local/lib/python3.10/dist-packages/transformers/models/wav2vec2/processing_wav2vec2.py:155: UserWarning: `as_target_processor` is deprecated and will be removed in v5 of Transformers. You can process your labels by using the argument `text` of the regular `__call__` method (either in the same call as your audio inputs, or in a separate call.\n",
            "  warnings.warn(\n",
            "/usr/local/lib/python3.10/dist-packages/transformers/models/wav2vec2/processing_wav2vec2.py:155: UserWarning: `as_target_processor` is deprecated and will be removed in v5 of Transformers. You can process your labels by using the argument `text` of the regular `__call__` method (either in the same call as your audio inputs, or in a separate call.\n",
            "  warnings.warn(\n",
            "/usr/local/lib/python3.10/dist-packages/transformers/models/wav2vec2/processing_wav2vec2.py:155: UserWarning: `as_target_processor` is deprecated and will be removed in v5 of Transformers. You can process your labels by using the argument `text` of the regular `__call__` method (either in the same call as your audio inputs, or in a separate call.\n",
            "  warnings.warn(\n",
            "/usr/local/lib/python3.10/dist-packages/transformers/models/wav2vec2/processing_wav2vec2.py:155: UserWarning: `as_target_processor` is deprecated and will be removed in v5 of Transformers. You can process your labels by using the argument `text` of the regular `__call__` method (either in the same call as your audio inputs, or in a separate call.\n",
            "  warnings.warn(\n",
            "/usr/local/lib/python3.10/dist-packages/transformers/models/wav2vec2/processing_wav2vec2.py:155: UserWarning: `as_target_processor` is deprecated and will be removed in v5 of Transformers. You can process your labels by using the argument `text` of the regular `__call__` method (either in the same call as your audio inputs, or in a separate call.\n",
            "  warnings.warn(\n",
            "/usr/local/lib/python3.10/dist-packages/transformers/models/wav2vec2/processing_wav2vec2.py:155: UserWarning: `as_target_processor` is deprecated and will be removed in v5 of Transformers. You can process your labels by using the argument `text` of the regular `__call__` method (either in the same call as your audio inputs, or in a separate call.\n",
            "  warnings.warn(\n",
            "/usr/local/lib/python3.10/dist-packages/transformers/models/wav2vec2/processing_wav2vec2.py:155: UserWarning: `as_target_processor` is deprecated and will be removed in v5 of Transformers. You can process your labels by using the argument `text` of the regular `__call__` method (either in the same call as your audio inputs, or in a separate call.\n",
            "  warnings.warn(\n",
            "/usr/local/lib/python3.10/dist-packages/transformers/models/wav2vec2/processing_wav2vec2.py:155: UserWarning: `as_target_processor` is deprecated and will be removed in v5 of Transformers. You can process your labels by using the argument `text` of the regular `__call__` method (either in the same call as your audio inputs, or in a separate call.\n",
            "  warnings.warn(\n",
            "/usr/local/lib/python3.10/dist-packages/transformers/models/wav2vec2/processing_wav2vec2.py:155: UserWarning: `as_target_processor` is deprecated and will be removed in v5 of Transformers. You can process your labels by using the argument `text` of the regular `__call__` method (either in the same call as your audio inputs, or in a separate call.\n",
            "  warnings.warn(\n",
            "/usr/local/lib/python3.10/dist-packages/transformers/models/wav2vec2/processing_wav2vec2.py:155: UserWarning: `as_target_processor` is deprecated and will be removed in v5 of Transformers. You can process your labels by using the argument `text` of the regular `__call__` method (either in the same call as your audio inputs, or in a separate call.\n",
            "  warnings.warn(\n",
            "/usr/local/lib/python3.10/dist-packages/transformers/models/wav2vec2/processing_wav2vec2.py:155: UserWarning: `as_target_processor` is deprecated and will be removed in v5 of Transformers. You can process your labels by using the argument `text` of the regular `__call__` method (either in the same call as your audio inputs, or in a separate call.\n",
            "  warnings.warn(\n",
            "/usr/local/lib/python3.10/dist-packages/transformers/models/wav2vec2/processing_wav2vec2.py:155: UserWarning: `as_target_processor` is deprecated and will be removed in v5 of Transformers. You can process your labels by using the argument `text` of the regular `__call__` method (either in the same call as your audio inputs, or in a separate call.\n",
            "  warnings.warn(\n",
            "/usr/local/lib/python3.10/dist-packages/transformers/models/wav2vec2/processing_wav2vec2.py:155: UserWarning: `as_target_processor` is deprecated and will be removed in v5 of Transformers. You can process your labels by using the argument `text` of the regular `__call__` method (either in the same call as your audio inputs, or in a separate call.\n",
            "  warnings.warn(\n",
            "/usr/local/lib/python3.10/dist-packages/transformers/models/wav2vec2/processing_wav2vec2.py:155: UserWarning: `as_target_processor` is deprecated and will be removed in v5 of Transformers. You can process your labels by using the argument `text` of the regular `__call__` method (either in the same call as your audio inputs, or in a separate call.\n",
            "  warnings.warn(\n"
          ]
        },
        {
          "output_type": "execute_result",
          "data": {
            "text/plain": [
              "TrainOutput(global_step=1650, training_loss=0.0759894224730405, metrics={'train_runtime': 9953.1431, 'train_samples_per_second': 5.323, 'train_steps_per_second': 0.166, 'total_flos': 6.76737301760852e+18, 'train_loss': 0.0759894224730405, 'epoch': 29.73})"
            ]
          },
          "metadata": {},
          "execution_count": 56
        }
      ]
    },
    {
      "cell_type": "code",
      "source": [
        "trainer.push_to_hub()"
      ],
      "metadata": {
        "id": "Xd4N9xGUFOYR",
        "colab": {
          "base_uri": "https://localhost:8080/",
          "height": 35
        },
        "outputId": "e1ba6bc4-0c11-4b9f-e105-fa82c1300330"
      },
      "execution_count": null,
      "outputs": [
        {
          "output_type": "execute_result",
          "data": {
            "text/plain": [
              "'https://huggingface.co/karanthgreeshma/wav2vec2-large-300m-colab-only-gn/tree/main/'"
            ],
            "application/vnd.google.colaboratory.intrinsic+json": {
              "type": "string"
            }
          },
          "metadata": {},
          "execution_count": 45
        }
      ]
    },
    {
      "cell_type": "markdown",
      "source": [
        "## Evaluation"
      ],
      "metadata": {
        "id": "GCFwd1xJFS2M"
      }
    },
    {
      "cell_type": "code",
      "source": [
        "model = Wav2Vec2ForCTC.from_pretrained(repo_name).to(\"cuda\")\n",
        "processor = Wav2Vec2Processor.from_pretrained(repo_name)"
      ],
      "metadata": {
        "id": "GEj2FC5sFUFw"
      },
      "execution_count": null,
      "outputs": []
    },
    {
      "cell_type": "code",
      "source": [
        "input_dict = processor(common_voice_test[0][\"input_values\"], return_tensors=\"pt\", padding=True)\n",
        "\n",
        "logits = model(input_dict.input_values.to(\"cuda\")).logits\n",
        "\n",
        "pred_ids = torch.argmax(logits, dim=-1)[0]\n"
      ],
      "metadata": {
        "id": "_R7YP1DPFVDQ"
      },
      "execution_count": null,
      "outputs": []
    },
    {
      "cell_type": "code",
      "source": [
        "common_voice_test_transcription = load_dataset(\"common_voice\", \"tr\", data_dir=\"./cv-corpus-6.1-2020-12-11\", split=\"test\")"
      ],
      "metadata": {
        "id": "ZTcSEptiFWdu"
      },
      "execution_count": null,
      "outputs": []
    },
    {
      "cell_type": "code",
      "source": [
        "print(\"Prediction:\")\n",
        "print(processor.decode(pred_ids))\n",
        "\n",
        "print(\"\\nReference:\")\n",
        "print(common_voice_test_transcription[0][\"sentence\"].lower())"
      ],
      "metadata": {
        "id": "XyOybkkJFt-J"
      },
      "execution_count": null,
      "outputs": []
    }
  ]
}