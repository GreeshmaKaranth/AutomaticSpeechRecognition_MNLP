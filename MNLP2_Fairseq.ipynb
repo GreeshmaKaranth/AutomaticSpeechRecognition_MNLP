{
  "cells": [
    {
      "cell_type": "code",
      "execution_count": null,
      "metadata": {
        "id": "xnAoUqP-rREa"
      },
      "outputs": [],
      "source": [
        "!pip install fairseq\n",
        "!pip install pandas torchaudio sentencepiece\n",
        "!pip install datasets"
      ]
    },
    {
      "cell_type": "code",
      "execution_count": null,
      "metadata": {
        "id": "-fXcTWuDIyS_"
      },
      "outputs": [],
      "source": [
        "!sudo apt-get -y install libsox-dev\n",
        "!sudo apt-get install sox\n",
        "\n",
        "\n",
        "\n",
        "\n"
      ]
    },
    {
      "cell_type": "code",
      "execution_count": null,
      "metadata": {
        "id": "hzBdV1YxBU2r"
      },
      "outputs": [],
      "source": [
        "!git clone https://github.com/facebookresearch/fairseq.git"
      ]
    },
    {
      "cell_type": "code",
      "execution_count": null,
      "metadata": {
        "id": "yOlg-0u7f6fe"
      },
      "outputs": [],
      "source": [
        "%cd /content/fairseq"
      ]
    },
    {
      "cell_type": "code",
      "execution_count": null,
      "metadata": {
        "id": "71zQvsX9fHZV"
      },
      "outputs": [],
      "source": [
        "!pip install --editable ./"
      ]
    },
    {
      "cell_type": "code",
      "execution_count": null,
      "metadata": {
        "id": "QxkEHAkqu_7T"
      },
      "outputs": [],
      "source": [
        "!python setup.py build develop"
      ]
    },
    {
      "cell_type": "code",
      "execution_count": null,
      "metadata": {
        "id": "CO7fdIeWDVfj"
      },
      "outputs": [],
      "source": [
        "%cd /content/fairseq/examples/speech_to_text"
      ]
    },
    {
      "cell_type": "code",
      "execution_count": null,
      "metadata": {
        "id": "eTXKSBjv2Ibx"
      },
      "outputs": [],
      "source": [
        "from google.colab import drive\n",
        "drive.mount('/content/drive')"
      ]
    },
    {
      "cell_type": "code",
      "execution_count": null,
      "metadata": {
        "id": "5qBb4-W5D6e_"
      },
      "outputs": [],
      "source": [
        "from huggingface_hub import notebook_login\n",
        "\n",
        "notebook_login()"
      ]
    },
    {
      "cell_type": "code",
      "execution_count": null,
      "metadata": {
        "id": "sTWGyeYukQPN"
      },
      "outputs": [],
      "source": [
        "!ls"
      ]
    },
    {
      "cell_type": "code",
      "execution_count": null,
      "metadata": {
        "colab": {
          "background_save": true
        },
        "id": "oITs4OILDOdk"
      },
      "outputs": [],
      "source": [
        "# !python prep_librispeech_data.py \\\n",
        "#   --output-root /content/commonvoice --vocab-type unigram --vocab-size 2000"
      ]
    },
    {
      "cell_type": "code",
      "execution_count": null,
      "metadata": {
        "id": "dj7YvArUMfKl"
      },
      "outputs": [],
      "source": [
        "!tar -xvf /content/drive/MyDrive/'MNLP HW2'/cv-corpus-15.0-2023-09-08-quy.tar.gz"
      ]
    },
    {
      "cell_type": "code",
      "execution_count": null,
      "metadata": {
        "id": "PwHbLsMiOfy_"
      },
      "outputs": [],
      "source": [
        "!tar -xvf /content/drive/MyDrive/'MNLP HW2'/cv-corpus-15.0-2023-09-08-gn.tar.gz"
      ]
    },
    {
      "cell_type": "code",
      "execution_count": null,
      "metadata": {
        "id": "EHbzfZOKMszu"
      },
      "outputs": [],
      "source": [
        "!ls /content/drive/MyDrive/'MNLP HW2'/"
      ]
    },
    {
      "cell_type": "code",
      "execution_count": null,
      "metadata": {
        "id": "cyE3Cipf9mGF"
      },
      "outputs": [],
      "source": [
        "# !pip install pysox"
      ]
    },
    {
      "cell_type": "code",
      "execution_count": null,
      "metadata": {
        "colab": {
          "background_save": true
        },
        "id": "KOIkQfufMc-Z"
      },
      "outputs": [],
      "source": [
        "!python prep_commonvoice_data.py \\\n",
        "  --output-root /content/commonvoice/ --vocab-type unigram --vocab-size 2000 --input-dir /content/fairseq/examples/speech_to_text/cv-corpus-15.0-2023-09-08/gn"
      ]
    },
    {
      "cell_type": "code",
      "execution_count": null,
      "metadata": {
        "id": "fjtWq4RUkvQY"
      },
      "outputs": [],
      "source": [
        "!python prep_commonvoice_data.py \\\n",
        "  --output-root /content/commonvoice/quy/ --vocab-type unigram --vocab-size 19 --input-dir /content/fairseq/examples/speech_to_text/cv-corpus-15.0-2023-09-08/quy"
      ]
    },
    {
      "cell_type": "code",
      "execution_count": null,
      "metadata": {
        "colab": {
          "background_save": true
        },
        "id": "KMfuL3sHD0Gv"
      },
      "outputs": [],
      "source": [
        "!fairseq-train /content/commonvoice --save-dir /content/commonvoice/save \\\n",
        "  --config-yaml config.yaml --train-subset train --valid-subset validation \\\n",
        "  --num-workers 4 --max-tokens 40000 --max-update 300000 \\\n",
        "  --task speech_to_text --criterion label_smoothed_cross_entropy --label-smoothing 0.1 --report-accuracy \\\n",
        "  --arch s2t_transformer_s --share-decoder-input-output-embed \\\n",
        "  --optimizer adam --lr 2e-3 --lr-scheduler inverse_sqrt --warmup-updates 10000 \\\n",
        "  --clip-norm 10.0 --seed 1 --update-freq 8 --max-epoch 10 --log-format tqdm"
      ]
    },
    {
      "cell_type": "code",
      "execution_count": null,
      "metadata": {
        "id": "Ugv3lWAKf8XJ"
      },
      "outputs": [],
      "source": [
        "LS_ROOT = '/content/commonvoice/gn_final'\n",
        "SAVE_DIR = '/content/commonvoice/gn_final/save'\n",
        "CHECKPOINT_FILENAME = 'checkpoint_best.pt'\n",
        "SUBSETS = ['test','validation']\n",
        "\n",
        "# Loop over subsets\n",
        "for SUBSET in SUBSETS:\n",
        "    !fairseq-generate {LS_ROOT} --config-yaml config.yaml --gen-subset {SUBSET} \\\n",
        "    --task speech_to_text --path {SAVE_DIR}/{CHECKPOINT_FILENAME} \\\n",
        "    --max-tokens 50000 --beam 5 --scoring wer"
      ]
    },
    {
      "cell_type": "code",
      "execution_count": null,
      "metadata": {
        "id": "jrHPJttmvyct"
      },
      "outputs": [],
      "source": []
    }
  ],
  "metadata": {
    "accelerator": "GPU",
    "colab": {
      "provenance": []
    },
    "kernelspec": {
      "display_name": "Python 3",
      "name": "python3"
    },
    "language_info": {
      "name": "python"
    }
  },
  "nbformat": 4,
  "nbformat_minor": 0
}